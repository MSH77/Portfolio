{
 "cells": [
  {
   "cell_type": "markdown",
   "metadata": {},
   "source": [
    "# Описание проекта"
   ]
  },
  {
   "cell_type": "markdown",
   "metadata": {},
   "source": [
    "Я — аналитик крупного интернет-магазина. Вместе с отделом маркетинга мы подготовили список гипотез для увеличения выручки.\n",
    "Нужно приоритизировать гипотезы, запустить A/B-тест и проанализировать результаты. \n",
    "\n",
    "\n",
    "**Часть 1. Приоритизация гипотез.**\n",
    "\n",
    "В файле /datasets/hypothesis.csv 9 гипотез по увеличению выручки интернет-магазина с указанными параметрами Reach, Impact, Confidence, Effort.\n",
    "Задача:\n",
    "- Примените фреймворк ICE для приоритизации гипотез. Отсортируйте их по убыванию приоритета.\n",
    "- Примените фреймворк RICE для приоритизации гипотез. Отсортируйте их по убыванию приоритета.\n",
    "- Укажите, как изменилась приоритизация гипотез при применении RICE вместо ICE. Объясните, почему так произошло.\n",
    "\n",
    "**Часть 2. Анализ A/B-теста**\n",
    "\n",
    "Мы провели A/B-тест и получили результаты, которые описаны в файлах /datasets/orders.csv и /datasets/visitors.csv.\n",
    "\n",
    "**Задача**\n",
    "\n",
    "Проанализировать A/B-тест:\n",
    "1. Построить график кумулятивной выручки по группам. Сделать выводы и предположения.\n",
    "2. Построить график кумулятивного среднего чека по группам. Сделать выводы и предположения.\n",
    "3. Построить график относительного изменения кумулятивного среднего чека группы B к группе A. Сделать выводы и предположения.\n",
    "4. Построить график кумулятивного среднего количества заказов на посетителя по группам. Сделать выводы и предположения.\n",
    "5. Построить график относительного изменения кумулятивного среднего количества заказов на посетителя группы B к группе A. Сделать выводы и предположения.\n",
    "6. Построить точечный график количества заказов по пользователям. Сделать выводы и предположения.\n",
    "7. Посчитать 95-й и 99-й перцентили количества заказов на пользователя. Выбрать границу для определения аномальных пользователей.\n",
    "8. Построить точечный график стоимостей заказов. Сделать выводы и предположения.\n",
    "9. Посчитать 95-й и 99-й перцентили стоимости заказов. Выбрать границу для определения аномальных заказов.\n",
    "10. Посчитать статистическую значимость различий в среднем количестве заказов на посетителя между группами по «сырым» данным. Сделать выводы и предположения.\n",
    "11. Посчитать статистическую значимость различий в среднем чеке заказа между группами по «сырым» данным. Сделать выводы и предположения.\n",
    "12. Посчитать статистическую значимость различий в среднем количестве заказов на посетителя между группами по «очищенным» данным. Сделать выводы и предположения.\n",
    "13. Посчитать статистическую значимость различий в среднем чеке заказа между группами по «очищенным» данным. Сделать выводы и предположения.\n",
    "14. Принять решение по результатам теста и объясните его. Варианты решений:\n",
    "- Остановить тест, зафиксировать победу одной из групп.\n",
    "- Остановить тест, зафиксировать отсутствие различий между группами.\n",
    "- Продолжить тест."
   ]
  },
  {
   "cell_type": "markdown",
   "metadata": {},
   "source": [
    "# Шаг 1. Загрузка данных и подготовка их к анализу"
   ]
  },
  {
   "cell_type": "markdown",
   "metadata": {},
   "source": [
    "Импортируем все нужные нам библиотеки"
   ]
  },
  {
   "cell_type": "code",
   "execution_count": 37,
   "metadata": {},
   "outputs": [],
   "source": [
    "import numpy as np\n",
    "import pandas as pd\n",
    "import seaborn as sns\n",
    "from matplotlib import pyplot as plt\n",
    "import scipy.stats as stats\n",
    "import warnings"
   ]
  },
  {
   "cell_type": "markdown",
   "metadata": {},
   "source": [
    "Далее загружаем датасеты для того, чтобы ответить на вопросы первой части проекта"
   ]
  },
  {
   "cell_type": "code",
   "execution_count": 3,
   "metadata": {},
   "outputs": [],
   "source": [
    "hypothesis = pd.read_csv('hypothesis.csv')\n",
    "orders = pd.read_csv('orders.csv')\n",
    "visitors = pd.read_csv('visitors.csv')"
   ]
  },
  {
   "cell_type": "markdown",
   "metadata": {},
   "source": [
    "## Предобработка данных таблицы hypothesis\n"
   ]
  },
  {
   "cell_type": "code",
   "execution_count": 4,
   "metadata": {},
   "outputs": [
    {
     "name": "stdout",
     "output_type": "stream",
     "text": [
      "<class 'pandas.core.frame.DataFrame'>\n",
      "RangeIndex: 9 entries, 0 to 8\n",
      "Data columns (total 5 columns):\n",
      " #   Column      Non-Null Count  Dtype \n",
      "---  ------      --------------  ----- \n",
      " 0   Hypothesis  9 non-null      object\n",
      " 1   Reach       9 non-null      int64 \n",
      " 2   Impact      9 non-null      int64 \n",
      " 3   Confidence  9 non-null      int64 \n",
      " 4   Efforts     9 non-null      int64 \n",
      "dtypes: int64(4), object(1)\n",
      "memory usage: 488.0+ bytes\n"
     ]
    },
    {
     "data": {
      "text/html": [
       "<div>\n",
       "<style scoped>\n",
       "    .dataframe tbody tr th:only-of-type {\n",
       "        vertical-align: middle;\n",
       "    }\n",
       "\n",
       "    .dataframe tbody tr th {\n",
       "        vertical-align: top;\n",
       "    }\n",
       "\n",
       "    .dataframe thead th {\n",
       "        text-align: right;\n",
       "    }\n",
       "</style>\n",
       "<table border=\"1\" class=\"dataframe\">\n",
       "  <thead>\n",
       "    <tr style=\"text-align: right;\">\n",
       "      <th></th>\n",
       "      <th>Hypothesis</th>\n",
       "      <th>Reach</th>\n",
       "      <th>Impact</th>\n",
       "      <th>Confidence</th>\n",
       "      <th>Efforts</th>\n",
       "    </tr>\n",
       "  </thead>\n",
       "  <tbody>\n",
       "    <tr>\n",
       "      <th>0</th>\n",
       "      <td>Добавить два новых канала привлечения трафика,...</td>\n",
       "      <td>3</td>\n",
       "      <td>10</td>\n",
       "      <td>8</td>\n",
       "      <td>6</td>\n",
       "    </tr>\n",
       "    <tr>\n",
       "      <th>1</th>\n",
       "      <td>Запустить собственную службу доставки, что сок...</td>\n",
       "      <td>2</td>\n",
       "      <td>5</td>\n",
       "      <td>4</td>\n",
       "      <td>10</td>\n",
       "    </tr>\n",
       "    <tr>\n",
       "      <th>2</th>\n",
       "      <td>Добавить блоки рекомендаций товаров на сайт ин...</td>\n",
       "      <td>8</td>\n",
       "      <td>3</td>\n",
       "      <td>7</td>\n",
       "      <td>3</td>\n",
       "    </tr>\n",
       "    <tr>\n",
       "      <th>3</th>\n",
       "      <td>Изменить структура категорий, что увеличит кон...</td>\n",
       "      <td>8</td>\n",
       "      <td>3</td>\n",
       "      <td>3</td>\n",
       "      <td>8</td>\n",
       "    </tr>\n",
       "    <tr>\n",
       "      <th>4</th>\n",
       "      <td>Изменить цвет фона главной страницы, чтобы уве...</td>\n",
       "      <td>3</td>\n",
       "      <td>1</td>\n",
       "      <td>1</td>\n",
       "      <td>1</td>\n",
       "    </tr>\n",
       "    <tr>\n",
       "      <th>5</th>\n",
       "      <td>Добавить страницу отзывов клиентов о магазине,...</td>\n",
       "      <td>3</td>\n",
       "      <td>2</td>\n",
       "      <td>2</td>\n",
       "      <td>3</td>\n",
       "    </tr>\n",
       "    <tr>\n",
       "      <th>6</th>\n",
       "      <td>Показать на главной странице баннеры с актуаль...</td>\n",
       "      <td>5</td>\n",
       "      <td>3</td>\n",
       "      <td>8</td>\n",
       "      <td>3</td>\n",
       "    </tr>\n",
       "    <tr>\n",
       "      <th>7</th>\n",
       "      <td>Добавить форму подписки на все основные страни...</td>\n",
       "      <td>10</td>\n",
       "      <td>7</td>\n",
       "      <td>8</td>\n",
       "      <td>5</td>\n",
       "    </tr>\n",
       "    <tr>\n",
       "      <th>8</th>\n",
       "      <td>Запустить акцию, дающую скидку на товар в день...</td>\n",
       "      <td>1</td>\n",
       "      <td>9</td>\n",
       "      <td>9</td>\n",
       "      <td>5</td>\n",
       "    </tr>\n",
       "  </tbody>\n",
       "</table>\n",
       "</div>"
      ],
      "text/plain": [
       "                                          Hypothesis  Reach  Impact  \\\n",
       "0  Добавить два новых канала привлечения трафика,...      3      10   \n",
       "1  Запустить собственную службу доставки, что сок...      2       5   \n",
       "2  Добавить блоки рекомендаций товаров на сайт ин...      8       3   \n",
       "3  Изменить структура категорий, что увеличит кон...      8       3   \n",
       "4  Изменить цвет фона главной страницы, чтобы уве...      3       1   \n",
       "5  Добавить страницу отзывов клиентов о магазине,...      3       2   \n",
       "6  Показать на главной странице баннеры с актуаль...      5       3   \n",
       "7  Добавить форму подписки на все основные страни...     10       7   \n",
       "8  Запустить акцию, дающую скидку на товар в день...      1       9   \n",
       "\n",
       "   Confidence  Efforts  \n",
       "0           8        6  \n",
       "1           4       10  \n",
       "2           7        3  \n",
       "3           3        8  \n",
       "4           1        1  \n",
       "5           2        3  \n",
       "6           8        3  \n",
       "7           8        5  \n",
       "8           9        5  "
      ]
     },
     "metadata": {},
     "output_type": "display_data"
    }
   ],
   "source": [
    "hypothesis.info()\n",
    "display(hypothesis)"
   ]
  },
  {
   "cell_type": "markdown",
   "metadata": {},
   "source": [
    "Как можно увидеть, с данными все нормально и они готовы для решения задач."
   ]
  },
  {
   "cell_type": "markdown",
   "metadata": {},
   "source": [
    "## Предобработка данных таблицы orders"
   ]
  },
  {
   "cell_type": "code",
   "execution_count": 5,
   "metadata": {},
   "outputs": [
    {
     "name": "stdout",
     "output_type": "stream",
     "text": [
      "<class 'pandas.core.frame.DataFrame'>\n",
      "RangeIndex: 1197 entries, 0 to 1196\n",
      "Data columns (total 5 columns):\n",
      " #   Column         Non-Null Count  Dtype \n",
      "---  ------         --------------  ----- \n",
      " 0   transactionId  1197 non-null   int64 \n",
      " 1   visitorId      1197 non-null   int64 \n",
      " 2   date           1197 non-null   object\n",
      " 3   revenue        1197 non-null   int64 \n",
      " 4   group          1197 non-null   object\n",
      "dtypes: int64(3), object(2)\n",
      "memory usage: 46.9+ KB\n"
     ]
    },
    {
     "data": {
      "text/html": [
       "<div>\n",
       "<style scoped>\n",
       "    .dataframe tbody tr th:only-of-type {\n",
       "        vertical-align: middle;\n",
       "    }\n",
       "\n",
       "    .dataframe tbody tr th {\n",
       "        vertical-align: top;\n",
       "    }\n",
       "\n",
       "    .dataframe thead th {\n",
       "        text-align: right;\n",
       "    }\n",
       "</style>\n",
       "<table border=\"1\" class=\"dataframe\">\n",
       "  <thead>\n",
       "    <tr style=\"text-align: right;\">\n",
       "      <th></th>\n",
       "      <th>transactionId</th>\n",
       "      <th>visitorId</th>\n",
       "      <th>date</th>\n",
       "      <th>revenue</th>\n",
       "      <th>group</th>\n",
       "    </tr>\n",
       "  </thead>\n",
       "  <tbody>\n",
       "    <tr>\n",
       "      <th>0</th>\n",
       "      <td>3667963787</td>\n",
       "      <td>3312258926</td>\n",
       "      <td>2019-08-15</td>\n",
       "      <td>1650</td>\n",
       "      <td>B</td>\n",
       "    </tr>\n",
       "    <tr>\n",
       "      <th>1</th>\n",
       "      <td>2804400009</td>\n",
       "      <td>3642806036</td>\n",
       "      <td>2019-08-15</td>\n",
       "      <td>730</td>\n",
       "      <td>B</td>\n",
       "    </tr>\n",
       "    <tr>\n",
       "      <th>2</th>\n",
       "      <td>2961555356</td>\n",
       "      <td>4069496402</td>\n",
       "      <td>2019-08-15</td>\n",
       "      <td>400</td>\n",
       "      <td>A</td>\n",
       "    </tr>\n",
       "    <tr>\n",
       "      <th>3</th>\n",
       "      <td>3797467345</td>\n",
       "      <td>1196621759</td>\n",
       "      <td>2019-08-15</td>\n",
       "      <td>9759</td>\n",
       "      <td>B</td>\n",
       "    </tr>\n",
       "    <tr>\n",
       "      <th>4</th>\n",
       "      <td>2282983706</td>\n",
       "      <td>2322279887</td>\n",
       "      <td>2019-08-15</td>\n",
       "      <td>2308</td>\n",
       "      <td>B</td>\n",
       "    </tr>\n",
       "    <tr>\n",
       "      <th>5</th>\n",
       "      <td>182168103</td>\n",
       "      <td>935554773</td>\n",
       "      <td>2019-08-15</td>\n",
       "      <td>2210</td>\n",
       "      <td>B</td>\n",
       "    </tr>\n",
       "    <tr>\n",
       "      <th>6</th>\n",
       "      <td>398296753</td>\n",
       "      <td>2900797465</td>\n",
       "      <td>2019-08-15</td>\n",
       "      <td>1860</td>\n",
       "      <td>B</td>\n",
       "    </tr>\n",
       "    <tr>\n",
       "      <th>7</th>\n",
       "      <td>2626614568</td>\n",
       "      <td>78758296</td>\n",
       "      <td>2019-08-15</td>\n",
       "      <td>1044</td>\n",
       "      <td>A</td>\n",
       "    </tr>\n",
       "    <tr>\n",
       "      <th>8</th>\n",
       "      <td>1576988021</td>\n",
       "      <td>295230930</td>\n",
       "      <td>2019-08-15</td>\n",
       "      <td>13710</td>\n",
       "      <td>A</td>\n",
       "    </tr>\n",
       "    <tr>\n",
       "      <th>9</th>\n",
       "      <td>1506739906</td>\n",
       "      <td>1882260405</td>\n",
       "      <td>2019-08-15</td>\n",
       "      <td>1855</td>\n",
       "      <td>B</td>\n",
       "    </tr>\n",
       "  </tbody>\n",
       "</table>\n",
       "</div>"
      ],
      "text/plain": [
       "   transactionId   visitorId        date  revenue group\n",
       "0     3667963787  3312258926  2019-08-15     1650     B\n",
       "1     2804400009  3642806036  2019-08-15      730     B\n",
       "2     2961555356  4069496402  2019-08-15      400     A\n",
       "3     3797467345  1196621759  2019-08-15     9759     B\n",
       "4     2282983706  2322279887  2019-08-15     2308     B\n",
       "5      182168103   935554773  2019-08-15     2210     B\n",
       "6      398296753  2900797465  2019-08-15     1860     B\n",
       "7     2626614568    78758296  2019-08-15     1044     A\n",
       "8     1576988021   295230930  2019-08-15    13710     A\n",
       "9     1506739906  1882260405  2019-08-15     1855     B"
      ]
     },
     "metadata": {},
     "output_type": "display_data"
    }
   ],
   "source": [
    "orders.info()\n",
    "display(orders.head(10))"
   ]
  },
  {
   "cell_type": "markdown",
   "metadata": {},
   "source": [
    "Здесь мы можем увидеть проблему с типом данных в столбце `date`. Заменим тип столбца на datetime."
   ]
  },
  {
   "cell_type": "code",
   "execution_count": 6,
   "metadata": {},
   "outputs": [
    {
     "name": "stdout",
     "output_type": "stream",
     "text": [
      "<class 'pandas.core.frame.DataFrame'>\n",
      "RangeIndex: 1197 entries, 0 to 1196\n",
      "Data columns (total 5 columns):\n",
      " #   Column         Non-Null Count  Dtype         \n",
      "---  ------         --------------  -----         \n",
      " 0   transactionId  1197 non-null   int64         \n",
      " 1   visitorId      1197 non-null   int64         \n",
      " 2   date           1197 non-null   datetime64[ns]\n",
      " 3   revenue        1197 non-null   int64         \n",
      " 4   group          1197 non-null   object        \n",
      "dtypes: datetime64[ns](1), int64(3), object(1)\n",
      "memory usage: 46.9+ KB\n"
     ]
    }
   ],
   "source": [
    "orders['date'] = pd.to_datetime(orders['date'])\n",
    "orders.info()"
   ]
  },
  {
   "cell_type": "markdown",
   "metadata": {},
   "source": [
    "Проверим дубликаты"
   ]
  },
  {
   "cell_type": "code",
   "execution_count": 7,
   "metadata": {},
   "outputs": [
    {
     "name": "stdout",
     "output_type": "stream",
     "text": [
      "Кол-во дубликатов = 0\n"
     ]
    }
   ],
   "source": [
    "print(\"Кол-во дубликатов =\",orders.duplicated().sum())"
   ]
  },
  {
   "cell_type": "markdown",
   "metadata": {},
   "source": [
    "Проверим максимальную и минимальную дату исследования методом describe()"
   ]
  },
  {
   "cell_type": "code",
   "execution_count": 39,
   "metadata": {},
   "outputs": [],
   "source": [
    "orders[\"date\"].describe()\n",
    "warnings.filterwarnings(\"ignore\")"
   ]
  },
  {
   "cell_type": "markdown",
   "metadata": {},
   "source": [
    "Найдем количество пользователей в каждой группе AB-теста по заказам"
   ]
  },
  {
   "cell_type": "code",
   "execution_count": 9,
   "metadata": {},
   "outputs": [
    {
     "name": "stdout",
     "output_type": "stream",
     "text": [
      "Количество пользователей в группе А:  557\n",
      "Количество пользователей в группе B:  640\n"
     ]
    }
   ],
   "source": [
    "print(\"Количество пользователей в группе А: \", orders[orders['group'] == 'A']['visitorId'].count())\n",
    "print(\"Количество пользователей в группе B: \", orders[orders['group'] == 'B']['visitorId'].count())"
   ]
  },
  {
   "cell_type": "markdown",
   "metadata": {},
   "source": [
    "Как можно увидеть, в группе В на 83 человека больше."
   ]
  },
  {
   "cell_type": "markdown",
   "metadata": {},
   "source": [
    "Проверим, сколько пользователей попали одновременно в обе группы"
   ]
  },
  {
   "cell_type": "code",
   "execution_count": 10,
   "metadata": {},
   "outputs": [
    {
     "data": {
      "text/plain": [
       "group    58\n",
       "dtype: int64"
      ]
     },
     "execution_count": 10,
     "metadata": {},
     "output_type": "execute_result"
    }
   ],
   "source": [
    "orders.groupby('visitorId').agg({'group' : 'nunique'}).query('group>1').count()"
   ]
  },
  {
   "cell_type": "markdown",
   "metadata": {},
   "source": [
    "Создадим список пользователей с уникальными visitorId и удалим этих пользователей из таблицы orders"
   ]
  },
  {
   "cell_type": "code",
   "execution_count": 11,
   "metadata": {},
   "outputs": [],
   "source": [
    "double_users = orders.groupby('visitorId').agg({'group' : 'nunique'}).reset_index().query('group>1')['visitorId'].unique()\n",
    "orders = orders.query('visitorId not in @double_users')"
   ]
  },
  {
   "cell_type": "code",
   "execution_count": 12,
   "metadata": {},
   "outputs": [
    {
     "name": "stdout",
     "output_type": "stream",
     "text": [
      "<class 'pandas.core.frame.DataFrame'>\n",
      "Int64Index: 1016 entries, 0 to 1196\n",
      "Data columns (total 5 columns):\n",
      " #   Column         Non-Null Count  Dtype         \n",
      "---  ------         --------------  -----         \n",
      " 0   transactionId  1016 non-null   int64         \n",
      " 1   visitorId      1016 non-null   int64         \n",
      " 2   date           1016 non-null   datetime64[ns]\n",
      " 3   revenue        1016 non-null   int64         \n",
      " 4   group          1016 non-null   object        \n",
      "dtypes: datetime64[ns](1), int64(3), object(1)\n",
      "memory usage: 47.6+ KB\n"
     ]
    }
   ],
   "source": [
    "orders.info()"
   ]
  },
  {
   "cell_type": "markdown",
   "metadata": {},
   "source": [
    "Больше в данной таблице ничего менять не нужно."
   ]
  },
  {
   "cell_type": "markdown",
   "metadata": {},
   "source": [
    "## Предобработка данных таблицы visitors"
   ]
  },
  {
   "cell_type": "code",
   "execution_count": 13,
   "metadata": {},
   "outputs": [
    {
     "name": "stdout",
     "output_type": "stream",
     "text": [
      "<class 'pandas.core.frame.DataFrame'>\n",
      "RangeIndex: 62 entries, 0 to 61\n",
      "Data columns (total 3 columns):\n",
      " #   Column    Non-Null Count  Dtype \n",
      "---  ------    --------------  ----- \n",
      " 0   date      62 non-null     object\n",
      " 1   group     62 non-null     object\n",
      " 2   visitors  62 non-null     int64 \n",
      "dtypes: int64(1), object(2)\n",
      "memory usage: 1.6+ KB\n"
     ]
    },
    {
     "data": {
      "text/html": [
       "<div>\n",
       "<style scoped>\n",
       "    .dataframe tbody tr th:only-of-type {\n",
       "        vertical-align: middle;\n",
       "    }\n",
       "\n",
       "    .dataframe tbody tr th {\n",
       "        vertical-align: top;\n",
       "    }\n",
       "\n",
       "    .dataframe thead th {\n",
       "        text-align: right;\n",
       "    }\n",
       "</style>\n",
       "<table border=\"1\" class=\"dataframe\">\n",
       "  <thead>\n",
       "    <tr style=\"text-align: right;\">\n",
       "      <th></th>\n",
       "      <th>date</th>\n",
       "      <th>group</th>\n",
       "      <th>visitors</th>\n",
       "    </tr>\n",
       "  </thead>\n",
       "  <tbody>\n",
       "    <tr>\n",
       "      <th>0</th>\n",
       "      <td>2019-08-01</td>\n",
       "      <td>A</td>\n",
       "      <td>719</td>\n",
       "    </tr>\n",
       "    <tr>\n",
       "      <th>1</th>\n",
       "      <td>2019-08-02</td>\n",
       "      <td>A</td>\n",
       "      <td>619</td>\n",
       "    </tr>\n",
       "    <tr>\n",
       "      <th>2</th>\n",
       "      <td>2019-08-03</td>\n",
       "      <td>A</td>\n",
       "      <td>507</td>\n",
       "    </tr>\n",
       "    <tr>\n",
       "      <th>3</th>\n",
       "      <td>2019-08-04</td>\n",
       "      <td>A</td>\n",
       "      <td>717</td>\n",
       "    </tr>\n",
       "    <tr>\n",
       "      <th>4</th>\n",
       "      <td>2019-08-05</td>\n",
       "      <td>A</td>\n",
       "      <td>756</td>\n",
       "    </tr>\n",
       "  </tbody>\n",
       "</table>\n",
       "</div>"
      ],
      "text/plain": [
       "         date group  visitors\n",
       "0  2019-08-01     A       719\n",
       "1  2019-08-02     A       619\n",
       "2  2019-08-03     A       507\n",
       "3  2019-08-04     A       717\n",
       "4  2019-08-05     A       756"
      ]
     },
     "metadata": {},
     "output_type": "display_data"
    }
   ],
   "source": [
    "visitors.info()\n",
    "display(visitors.head())"
   ]
  },
  {
   "cell_type": "markdown",
   "metadata": {},
   "source": [
    "Поменяет тип данных в столбце в датой"
   ]
  },
  {
   "cell_type": "code",
   "execution_count": 14,
   "metadata": {},
   "outputs": [
    {
     "name": "stdout",
     "output_type": "stream",
     "text": [
      "<class 'pandas.core.frame.DataFrame'>\n",
      "RangeIndex: 62 entries, 0 to 61\n",
      "Data columns (total 3 columns):\n",
      " #   Column    Non-Null Count  Dtype         \n",
      "---  ------    --------------  -----         \n",
      " 0   date      62 non-null     datetime64[ns]\n",
      " 1   group     62 non-null     object        \n",
      " 2   visitors  62 non-null     int64         \n",
      "dtypes: datetime64[ns](1), int64(1), object(1)\n",
      "memory usage: 1.6+ KB\n"
     ]
    }
   ],
   "source": [
    "visitors['date'] = pd.to_datetime(visitors['date'])\n",
    "visitors.info()"
   ]
  },
  {
   "cell_type": "markdown",
   "metadata": {},
   "source": [
    "Также проверим наличие дубликатов"
   ]
  },
  {
   "cell_type": "code",
   "execution_count": 15,
   "metadata": {},
   "outputs": [
    {
     "name": "stdout",
     "output_type": "stream",
     "text": [
      "Кол-во дубликатов = 0\n"
     ]
    }
   ],
   "source": [
    "print(\"Кол-во дубликатов =\",visitors.duplicated().sum())"
   ]
  },
  {
   "cell_type": "markdown",
   "metadata": {},
   "source": [
    "Посмотрим сколько групп в AB-тесте\n"
   ]
  },
  {
   "cell_type": "code",
   "execution_count": 16,
   "metadata": {},
   "outputs": [
    {
     "name": "stdout",
     "output_type": "stream",
     "text": [
      "['A' 'B']\n"
     ]
    }
   ],
   "source": [
    "print(visitors['group'].unique())"
   ]
  },
  {
   "cell_type": "markdown",
   "metadata": {},
   "source": [
    "То есть в данном исследовании у нас присутствуют только две группы AB-теста"
   ]
  },
  {
   "cell_type": "markdown",
   "metadata": {},
   "source": [
    "## Вывод"
   ]
  },
  {
   "cell_type": "markdown",
   "metadata": {},
   "source": [
    "Проведена предобработка данных, проверили наличие дубликатов, а также заменили тип данных в столбцах, которые в этом нуждались."
   ]
  },
  {
   "cell_type": "markdown",
   "metadata": {},
   "source": [
    "# Шаг 2. Приоритизация гипотез"
   ]
  },
  {
   "cell_type": "markdown",
   "metadata": {},
   "source": [
    " **Применим фреймворк ICE для приоритизации гипотез. Отсортируем их по убыванию приоритета.**"
   ]
  },
  {
   "cell_type": "code",
   "execution_count": 17,
   "metadata": {},
   "outputs": [
    {
     "data": {
      "text/html": [
       "<div>\n",
       "<style scoped>\n",
       "    .dataframe tbody tr th:only-of-type {\n",
       "        vertical-align: middle;\n",
       "    }\n",
       "\n",
       "    .dataframe tbody tr th {\n",
       "        vertical-align: top;\n",
       "    }\n",
       "\n",
       "    .dataframe thead th {\n",
       "        text-align: right;\n",
       "    }\n",
       "</style>\n",
       "<table border=\"1\" class=\"dataframe\">\n",
       "  <thead>\n",
       "    <tr style=\"text-align: right;\">\n",
       "      <th></th>\n",
       "      <th>ICE</th>\n",
       "      <th>Hypothesis</th>\n",
       "    </tr>\n",
       "  </thead>\n",
       "  <tbody>\n",
       "    <tr>\n",
       "      <th>8</th>\n",
       "      <td>16.2</td>\n",
       "      <td>Запустить акцию, дающую скидку на товар в день...</td>\n",
       "    </tr>\n",
       "    <tr>\n",
       "      <th>0</th>\n",
       "      <td>13.3</td>\n",
       "      <td>Добавить два новых канала привлечения трафика,...</td>\n",
       "    </tr>\n",
       "    <tr>\n",
       "      <th>7</th>\n",
       "      <td>11.2</td>\n",
       "      <td>Добавить форму подписки на все основные страни...</td>\n",
       "    </tr>\n",
       "    <tr>\n",
       "      <th>6</th>\n",
       "      <td>8.0</td>\n",
       "      <td>Показать на главной странице баннеры с актуаль...</td>\n",
       "    </tr>\n",
       "    <tr>\n",
       "      <th>2</th>\n",
       "      <td>7.0</td>\n",
       "      <td>Добавить блоки рекомендаций товаров на сайт ин...</td>\n",
       "    </tr>\n",
       "    <tr>\n",
       "      <th>1</th>\n",
       "      <td>2.0</td>\n",
       "      <td>Запустить собственную службу доставки, что сок...</td>\n",
       "    </tr>\n",
       "    <tr>\n",
       "      <th>5</th>\n",
       "      <td>1.3</td>\n",
       "      <td>Добавить страницу отзывов клиентов о магазине,...</td>\n",
       "    </tr>\n",
       "    <tr>\n",
       "      <th>3</th>\n",
       "      <td>1.1</td>\n",
       "      <td>Изменить структура категорий, что увеличит кон...</td>\n",
       "    </tr>\n",
       "    <tr>\n",
       "      <th>4</th>\n",
       "      <td>1.0</td>\n",
       "      <td>Изменить цвет фона главной страницы, чтобы уве...</td>\n",
       "    </tr>\n",
       "  </tbody>\n",
       "</table>\n",
       "</div>"
      ],
      "text/plain": [
       "    ICE                                         Hypothesis\n",
       "8  16.2  Запустить акцию, дающую скидку на товар в день...\n",
       "0  13.3  Добавить два новых канала привлечения трафика,...\n",
       "7  11.2  Добавить форму подписки на все основные страни...\n",
       "6   8.0  Показать на главной странице баннеры с актуаль...\n",
       "2   7.0  Добавить блоки рекомендаций товаров на сайт ин...\n",
       "1   2.0  Запустить собственную службу доставки, что сок...\n",
       "5   1.3  Добавить страницу отзывов клиентов о магазине,...\n",
       "3   1.1  Изменить структура категорий, что увеличит кон...\n",
       "4   1.0  Изменить цвет фона главной страницы, чтобы уве..."
      ]
     },
     "metadata": {},
     "output_type": "display_data"
    }
   ],
   "source": [
    "hypothesis['ICE'] = ((hypothesis['Impact'] * hypothesis['Confidence']) / hypothesis['Efforts']).round(1)\n",
    "display(hypothesis[['ICE', 'Hypothesis']].sort_values(by='ICE', ascending=False))"
   ]
  },
  {
   "cell_type": "markdown",
   "metadata": {},
   "source": [
    "**Применим фреймворк RICE для приоритизации гипотез. Отсортируем их по убыванию приоритета.**"
   ]
  },
  {
   "cell_type": "code",
   "execution_count": 18,
   "metadata": {},
   "outputs": [
    {
     "data": {
      "text/html": [
       "<div>\n",
       "<style scoped>\n",
       "    .dataframe tbody tr th:only-of-type {\n",
       "        vertical-align: middle;\n",
       "    }\n",
       "\n",
       "    .dataframe tbody tr th {\n",
       "        vertical-align: top;\n",
       "    }\n",
       "\n",
       "    .dataframe thead th {\n",
       "        text-align: right;\n",
       "    }\n",
       "</style>\n",
       "<table border=\"1\" class=\"dataframe\">\n",
       "  <thead>\n",
       "    <tr style=\"text-align: right;\">\n",
       "      <th></th>\n",
       "      <th>RICE</th>\n",
       "      <th>Hypothesis</th>\n",
       "      <th>Reach</th>\n",
       "    </tr>\n",
       "  </thead>\n",
       "  <tbody>\n",
       "    <tr>\n",
       "      <th>7</th>\n",
       "      <td>112.0</td>\n",
       "      <td>Добавить форму подписки на все основные страни...</td>\n",
       "      <td>10</td>\n",
       "    </tr>\n",
       "    <tr>\n",
       "      <th>2</th>\n",
       "      <td>56.0</td>\n",
       "      <td>Добавить блоки рекомендаций товаров на сайт ин...</td>\n",
       "      <td>8</td>\n",
       "    </tr>\n",
       "    <tr>\n",
       "      <th>0</th>\n",
       "      <td>40.0</td>\n",
       "      <td>Добавить два новых канала привлечения трафика,...</td>\n",
       "      <td>3</td>\n",
       "    </tr>\n",
       "    <tr>\n",
       "      <th>6</th>\n",
       "      <td>40.0</td>\n",
       "      <td>Показать на главной странице баннеры с актуаль...</td>\n",
       "      <td>5</td>\n",
       "    </tr>\n",
       "    <tr>\n",
       "      <th>8</th>\n",
       "      <td>16.2</td>\n",
       "      <td>Запустить акцию, дающую скидку на товар в день...</td>\n",
       "      <td>1</td>\n",
       "    </tr>\n",
       "    <tr>\n",
       "      <th>3</th>\n",
       "      <td>9.0</td>\n",
       "      <td>Изменить структура категорий, что увеличит кон...</td>\n",
       "      <td>8</td>\n",
       "    </tr>\n",
       "    <tr>\n",
       "      <th>1</th>\n",
       "      <td>4.0</td>\n",
       "      <td>Запустить собственную службу доставки, что сок...</td>\n",
       "      <td>2</td>\n",
       "    </tr>\n",
       "    <tr>\n",
       "      <th>5</th>\n",
       "      <td>4.0</td>\n",
       "      <td>Добавить страницу отзывов клиентов о магазине,...</td>\n",
       "      <td>3</td>\n",
       "    </tr>\n",
       "    <tr>\n",
       "      <th>4</th>\n",
       "      <td>3.0</td>\n",
       "      <td>Изменить цвет фона главной страницы, чтобы уве...</td>\n",
       "      <td>3</td>\n",
       "    </tr>\n",
       "  </tbody>\n",
       "</table>\n",
       "</div>"
      ],
      "text/plain": [
       "    RICE                                         Hypothesis  Reach\n",
       "7  112.0  Добавить форму подписки на все основные страни...     10\n",
       "2   56.0  Добавить блоки рекомендаций товаров на сайт ин...      8\n",
       "0   40.0  Добавить два новых канала привлечения трафика,...      3\n",
       "6   40.0  Показать на главной странице баннеры с актуаль...      5\n",
       "8   16.2  Запустить акцию, дающую скидку на товар в день...      1\n",
       "3    9.0  Изменить структура категорий, что увеличит кон...      8\n",
       "1    4.0  Запустить собственную службу доставки, что сок...      2\n",
       "5    4.0  Добавить страницу отзывов клиентов о магазине,...      3\n",
       "4    3.0  Изменить цвет фона главной страницы, чтобы уве...      3"
      ]
     },
     "execution_count": 18,
     "metadata": {},
     "output_type": "execute_result"
    }
   ],
   "source": [
    "hypothesis['RICE'] = (hypothesis['Reach']  *hypothesis['Impact'] * hypothesis['Confidence']) / hypothesis['Efforts']\n",
    "hypothesis[['RICE', 'Hypothesis', 'Reach']].sort_values(by='RICE', ascending=False)"
   ]
  },
  {
   "cell_type": "markdown",
   "metadata": {},
   "source": [
    "**Укажем, как изменилась приоритизация гипотез при применении RICE вместо ICE. Объясним, почему так произошло.**"
   ]
  },
  {
   "cell_type": "markdown",
   "metadata": {},
   "source": [
    "Для начала укажем, что RICE отличается от ICE параметром Reach(скольких пользователей затронет изменение, которое вы хотите внести).\n",
    "\n",
    "Во фреймворке ICE лидирующие позиции занимают гипотезы с индексами 8, 0 и 7, в тоже время во фреймворке RICE лидирующие позиции занимают 7, 2 и 0. При сравнении двух таблиц можно увидеть, что лидер ICE спустился на 5 место в RICE. Вторая гипотеза переместилась на третье место, а вот гипотеза на 3 месте переместилась на первое имея Reach 10(то есть максимальный). Также можно заметить, что у лидера фреймворка ICE Reach равен 1, что является минимум среди остальных гипотез.\n",
    "\n",
    "Исходя из всего вышесказанного, для тестирования задачи можно предложить гипотезу 7 и гипотезу 2."
   ]
  },
  {
   "cell_type": "markdown",
   "metadata": {},
   "source": [
    "# Шаг 2. Анализ A/B-теста"
   ]
  },
  {
   "cell_type": "markdown",
   "metadata": {},
   "source": [
    "**1.Построим график кумулятивной выручки по группам. Сделаем выводы и предположения.**"
   ]
  },
  {
   "cell_type": "markdown",
   "metadata": {},
   "source": [
    "Создадим таблицу кумулятивных данных по двум таблицам"
   ]
  },
  {
   "cell_type": "code",
   "execution_count": 19,
   "metadata": {},
   "outputs": [
    {
     "data": {
      "text/html": [
       "<div>\n",
       "<style scoped>\n",
       "    .dataframe tbody tr th:only-of-type {\n",
       "        vertical-align: middle;\n",
       "    }\n",
       "\n",
       "    .dataframe tbody tr th {\n",
       "        vertical-align: top;\n",
       "    }\n",
       "\n",
       "    .dataframe thead th {\n",
       "        text-align: right;\n",
       "    }\n",
       "</style>\n",
       "<table border=\"1\" class=\"dataframe\">\n",
       "  <thead>\n",
       "    <tr style=\"text-align: right;\">\n",
       "      <th></th>\n",
       "      <th>date</th>\n",
       "      <th>group</th>\n",
       "      <th>orders</th>\n",
       "      <th>buyers</th>\n",
       "      <th>revenue</th>\n",
       "      <th>visitors</th>\n",
       "    </tr>\n",
       "  </thead>\n",
       "  <tbody>\n",
       "    <tr>\n",
       "      <th>0</th>\n",
       "      <td>2019-08-01</td>\n",
       "      <td>A</td>\n",
       "      <td>23</td>\n",
       "      <td>19</td>\n",
       "      <td>142779</td>\n",
       "      <td>719</td>\n",
       "    </tr>\n",
       "    <tr>\n",
       "      <th>1</th>\n",
       "      <td>2019-08-01</td>\n",
       "      <td>B</td>\n",
       "      <td>17</td>\n",
       "      <td>17</td>\n",
       "      <td>59758</td>\n",
       "      <td>713</td>\n",
       "    </tr>\n",
       "    <tr>\n",
       "      <th>2</th>\n",
       "      <td>2019-08-02</td>\n",
       "      <td>A</td>\n",
       "      <td>42</td>\n",
       "      <td>36</td>\n",
       "      <td>234381</td>\n",
       "      <td>1338</td>\n",
       "    </tr>\n",
       "    <tr>\n",
       "      <th>3</th>\n",
       "      <td>2019-08-02</td>\n",
       "      <td>B</td>\n",
       "      <td>40</td>\n",
       "      <td>39</td>\n",
       "      <td>221801</td>\n",
       "      <td>1294</td>\n",
       "    </tr>\n",
       "    <tr>\n",
       "      <th>4</th>\n",
       "      <td>2019-08-03</td>\n",
       "      <td>A</td>\n",
       "      <td>66</td>\n",
       "      <td>60</td>\n",
       "      <td>346854</td>\n",
       "      <td>1845</td>\n",
       "    </tr>\n",
       "  </tbody>\n",
       "</table>\n",
       "</div>"
      ],
      "text/plain": [
       "        date group  orders  buyers  revenue  visitors\n",
       "0 2019-08-01     A      23      19   142779       719\n",
       "1 2019-08-01     B      17      17    59758       713\n",
       "2 2019-08-02     A      42      36   234381      1338\n",
       "3 2019-08-02     B      40      39   221801      1294\n",
       "4 2019-08-03     A      66      60   346854      1845"
      ]
     },
     "execution_count": 19,
     "metadata": {},
     "output_type": "execute_result"
    }
   ],
   "source": [
    "datesGroups = orders[['date','group']].drop_duplicates()\n",
    "\n",
    "ordersAggregated = datesGroups.apply(lambda x: orders[np.logical_and(orders['date'] <= x['date'], orders['group'] == x['group'])]. \\\n",
    "                                     agg({'date' : 'max', \n",
    "                                          'group' : 'max', \n",
    "                                          'transactionId' : pd.Series.nunique, \n",
    "                                          'visitorId' : pd.Series.nunique, \n",
    "                                          'revenue' : 'sum'}), axis=1).sort_values(by=['date','group'])\n",
    "\n",
    "visitorsAggregated = datesGroups.apply(lambda x: visitors[np.logical_and(visitors['date'] <= x['date'], visitors['group'] == x['group'])]. \\\n",
    "                                       agg({'date' : 'max', \n",
    "                                            'group' : 'max', \n",
    "                                            'visitors' : 'sum'}), axis=1).sort_values(by=['date','group'])\n",
    "\n",
    "cumulativeData = ordersAggregated.merge(visitorsAggregated, left_on=['date', 'group'], right_on=['date', 'group'])\n",
    "cumulativeData.columns = ['date', 'group', 'orders', 'buyers', 'revenue', 'visitors']\n",
    "\n",
    "cumulativeData.head(5)"
   ]
  },
  {
   "cell_type": "code",
   "execution_count": 20,
   "metadata": {},
   "outputs": [
    {
     "data": {
      "text/plain": [
       "<matplotlib.legend.Legend at 0x1d258512760>"
      ]
     },
     "execution_count": 20,
     "metadata": {},
     "output_type": "execute_result"
    },
    {
     "data": {
      "image/png": "[encoded data removed]",
      "text/plain": [
       "<Figure size 1080x360 with 1 Axes>"
      ]
     },
     "metadata": {
      "needs_background": "light"
     },
     "output_type": "display_data"
    }
   ],
   "source": [
    "cumulativeRevenueA = cumulativeData[cumulativeData['group']=='A'][['date','revenue', 'orders']]\n",
    "cumulativeRevenueB = cumulativeData[cumulativeData['group']=='B'][['date','revenue', 'orders']]\n",
    "\n",
    "from pandas.plotting import register_matplotlib_converters\n",
    "register_matplotlib_converters()\n",
    "\n",
    "plt.figure(figsize=(15,5))\n",
    "plt.plot(cumulativeRevenueA['date'], cumulativeRevenueA['revenue'], label='Кум.выручка группы A')\n",
    "plt.plot(cumulativeRevenueB['date'], cumulativeRevenueB['revenue'], label='Кум.выручка группы B')\n",
    "plt.grid()\n",
    "plt.title('Кумулятивная выручка по группам')\n",
    "plt.legend() "
   ]
  },
  {
   "cell_type": "markdown",
   "metadata": {},
   "source": [
    "**Вывод**"
   ]
  },
  {
   "cell_type": "markdown",
   "metadata": {},
   "source": [
    "Как мы можем увидеть на графике, кумулятивная выручка группы В растет быстрее в  течении месяца, чем кум. выручка группы А. Особенно выражено это после точки соприкосновения 13 августа. А 19 числа идет рывок группы В. Я думаю, что это связано с каким-то крупным заказом, который прошел как раз в этот день(19 августа). "
   ]
  },
  {
   "cell_type": "markdown",
   "metadata": {},
   "source": [
    "**2.Построим график кумулятивного среднего чека по группам. Сделаем выводы и предположения.**"
   ]
  },
  {
   "cell_type": "markdown",
   "metadata": {},
   "source": [
    "Средний чек = выручка / число заказов"
   ]
  },
  {
   "cell_type": "code",
   "execution_count": 21,
   "metadata": {},
   "outputs": [
    {
     "data": {
      "text/plain": [
       "<matplotlib.legend.Legend at 0x1d258631a90>"
      ]
     },
     "execution_count": 21,
     "metadata": {},
     "output_type": "execute_result"
    },
    {
     "data": {
      "image/png": "[encoded data removed]",
      "text/plain": [
       "<Figure size 1080x360 with 1 Axes>"
      ]
     },
     "metadata": {
      "needs_background": "light"
     },
     "output_type": "display_data"
    }
   ],
   "source": [
    "plt.figure(figsize=(15,5))\n",
    "plt.grid()\n",
    "plt.plot(cumulativeRevenueA['date'], cumulativeRevenueA['revenue']/cumulativeRevenueA['orders'], label='средний кумулятивный чек группы A')\n",
    "plt.plot(cumulativeRevenueB['date'], cumulativeRevenueB['revenue']/cumulativeRevenueB['orders'], label='средний кумулятивный чек группы B')\n",
    "plt.title('Средний кумулятивный чек по группам')\n",
    "plt.legend()"
   ]
  },
  {
   "cell_type": "markdown",
   "metadata": {},
   "source": [
    "**Вывод**"
   ]
  },
  {
   "cell_type": "markdown",
   "metadata": {},
   "source": [
    "Здесь мы также видим сильное влияние на график заказа от 19 августа. Средний чек в тот день резко возрос, но в последующие дни начал по-тихоньку снижаться. Первуя половину месяца происходила доминация группы А по среднему чеку"
   ]
  },
  {
   "cell_type": "markdown",
   "metadata": {},
   "source": [
    "**3.Построим график относительного изменения кумулятивного среднего чека группы B к группе A. Сделаем выводы и предположения.**"
   ]
  },
  {
   "cell_type": "code",
   "execution_count": 22,
   "metadata": {},
   "outputs": [
    {
     "data": {
      "text/plain": [
       "<matplotlib.lines.Line2D at 0x1d2585d01c0>"
      ]
     },
     "execution_count": 22,
     "metadata": {},
     "output_type": "execute_result"
    },
    {
     "data": {
      "image/png": "[encoded data removed]",
      "text/plain": [
       "<Figure size 1080x360 with 1 Axes>"
      ]
     },
     "metadata": {
      "needs_background": "light"
     },
     "output_type": "display_data"
    }
   ],
   "source": [
    "mergedCumulativeRevenue = cumulativeRevenueA.merge(cumulativeRevenueB, left_on='date', right_on='date', how='left', suffixes=['A', 'B'])\n",
    "\n",
    "plt.figure(figsize=(15,5))\n",
    "plt.grid()\n",
    "plt.plot(mergedCumulativeRevenue['date'], (mergedCumulativeRevenue['revenueB']/mergedCumulativeRevenue['ordersB'])/\n",
    "         (mergedCumulativeRevenue['revenueA']/mergedCumulativeRevenue['ordersA'])-1)\n",
    "plt.title('Относительное изменение кумулятивного среднего чека группы В к группе А')\n",
    "plt.axhline(y=0, color='black', linestyle='--')"
   ]
  },
  {
   "cell_type": "markdown",
   "metadata": {},
   "source": [
    "**Вывод**"
   ]
  },
  {
   "cell_type": "markdown",
   "metadata": {},
   "source": [
    "Как мы можем увидеть, средний 13 августа группы А обгонял средний чек группы В, поэтому и относительное изменение в этот день ниже 0 на графике. Затем происходит рост с резким скачком 19 августа. Можно сказать, что данный график похож на график из предыдущего пункта."
   ]
  },
  {
   "cell_type": "markdown",
   "metadata": {},
   "source": [
    "**4.Построим график кумулятивного среднего количества заказов на посетителя по группам. Сделаем выводы и предположения.**"
   ]
  },
  {
   "cell_type": "code",
   "execution_count": 23,
   "metadata": {},
   "outputs": [
    {
     "data": {
      "text/plain": [
       "<matplotlib.legend.Legend at 0x1d25875ccd0>"
      ]
     },
     "execution_count": 23,
     "metadata": {},
     "output_type": "execute_result"
    },
    {
     "data": {
      "image/png": "[encoded data removed]",
      "text/plain": [
       "<Figure size 1080x360 with 1 Axes>"
      ]
     },
     "metadata": {
      "needs_background": "light"
     },
     "output_type": "display_data"
    }
   ],
   "source": [
    "cumulativeData['conversion'] = cumulativeData['orders']/cumulativeData['visitors']\n",
    "\n",
    "cumulativeDataA = cumulativeData[cumulativeData['group']=='A']\n",
    "cumulativeDataB = cumulativeData[cumulativeData['group']=='B']\n",
    "\n",
    "plt.figure(figsize=(15,5))\n",
    "plt.grid()\n",
    "plt.plot(cumulativeDataA['date'], cumulativeDataA['conversion'], label='кумулятивное среднее кол-во заказов группы A')\n",
    "plt.plot(cumulativeDataB['date'], cumulativeDataB['conversion'], label='кумулятивная среднее кол-во заказов группы B')\n",
    "plt.title('Кумулятивное среднее количество заказов на пользователя по группам')\n",
    "plt.legend()"
   ]
  },
  {
   "cell_type": "markdown",
   "metadata": {},
   "source": [
    "**Вывод**"
   ]
  },
  {
   "cell_type": "markdown",
   "metadata": {},
   "source": [
    "Среднее количество заказов на пользователя группы В больше после 6 августа, чем по группе А, что вполне логично если смотреть на график среднего чека."
   ]
  },
  {
   "cell_type": "markdown",
   "metadata": {},
   "source": [
    "**5.Построим график относительного изменения кумулятивного среднего количества заказов на посетителя группы B к группе A. Сделаем выводы и предположения.**"
   ]
  },
  {
   "cell_type": "code",
   "execution_count": 24,
   "metadata": {},
   "outputs": [
    {
     "data": {
      "text/plain": [
       "<matplotlib.lines.Line2D at 0x1d25893f700>"
      ]
     },
     "execution_count": 24,
     "metadata": {},
     "output_type": "execute_result"
    },
    {
     "data": {
      "image/png": "[encoded data removed]",
      "text/plain": [
       "<Figure size 1080x360 with 1 Axes>"
      ]
     },
     "metadata": {
      "needs_background": "light"
     },
     "output_type": "display_data"
    }
   ],
   "source": [
    "mergedCumulativeConversions = cumulativeDataA[['date','conversion']].merge(cumulativeDataB[['date','conversion']], \\\n",
    "                                                    left_on='date', right_on='date', how='left', suffixes=['A', 'B'])\n",
    "plt.figure(figsize=(15,5))\n",
    "plt.grid()\n",
    "plt.plot(mergedCumulativeConversions['date'], mergedCumulativeConversions['conversionB']/mergedCumulativeConversions['conversionA']-1, label=\"Относительный прирост конверсии группы B относительно группы A\")\n",
    "\n",
    "plt.title('относительное изменение кумулятивного среднего количества заказов на посетителя группы B к группе A')\n",
    "\n",
    "plt.axhline(y=0, color='black', linestyle='--') "
   ]
  },
  {
   "cell_type": "markdown",
   "metadata": {},
   "source": [
    "**Вывод**"
   ]
  },
  {
   "cell_type": "markdown",
   "metadata": {},
   "source": [
    "Данный график также похож на предыдущий в плане выводов. Здесь видна полная доминация группы В. После 6 августа относительное изменение кумулятивного среднего количества заказов на посетителя больше 0. Пик приходится на 15 число, а затем идет спад."
   ]
  },
  {
   "cell_type": "markdown",
   "metadata": {},
   "source": [
    "**6.Построим точечный график количества заказов по пользователям. Сделаем выводы и предположения.**"
   ]
  },
  {
   "cell_type": "code",
   "execution_count": 25,
   "metadata": {},
   "outputs": [
    {
     "name": "stdout",
     "output_type": "stream",
     "text": [
      "         userId  orders\n",
      "908  3967698036       3\n",
      "55    249864742       3\n",
      "478  2108163459       3\n",
      "687  2988190573       3\n",
      "890  3908431265       3\n",
      "138   611059232       3\n",
      "632  2742574263       3\n",
      "157   678354126       2\n",
      "323  1404560065       2\n",
      "452  1985475298       2\n"
     ]
    },
    {
     "data": {
      "text/plain": [
       "<matplotlib.collections.PathCollection at 0x1d2589bb430>"
      ]
     },
     "execution_count": 25,
     "metadata": {},
     "output_type": "execute_result"
    },
    {
     "data": {
      "image/png": "[encoded data removed]",
      "text/plain": [
       "<Figure size 1080x360 with 1 Axes>"
      ]
     },
     "metadata": {
      "needs_background": "light"
     },
     "output_type": "display_data"
    }
   ],
   "source": [
    "ordersByUsers = (\n",
    "    orders.groupby('visitorId', as_index=False)\n",
    "    .agg({'transactionId': 'nunique'})\n",
    ")\n",
    "ordersByUsers.columns = ['userId', 'orders']\n",
    "\n",
    "print(ordersByUsers.sort_values(by='orders', ascending=False).head(10))\n",
    "\n",
    "x_values = pd.Series(range(0, len(ordersByUsers)))\n",
    "plt.figure(figsize=(15,5))\n",
    "plt.grid()\n",
    "plt.title('Количество заказов по пользователям')\n",
    "plt.scatter(x_values, ordersByUsers['orders'])"
   ]
  },
  {
   "cell_type": "markdown",
   "metadata": {},
   "source": [
    "**Вывод**"
   ]
  },
  {
   "cell_type": "markdown",
   "metadata": {},
   "source": [
    "Как мы можем увидеть, большая часть пользователей совершила 1 заказ, тех кто совершил 2 заказа меньше, но тоже достаточно. Встречаются даже те, кто совершил 8,9 и 11 заказов, но это единичные случаи. Возможно это и есть те самые аномалии, которые мы отсечем в следующем пункте."
   ]
  },
  {
   "cell_type": "markdown",
   "metadata": {},
   "source": [
    "**7.Посчитать 95-й и 99-й перцентили количества заказов на пользователя. Выбрать границу для определения аномальных пользователей.**"
   ]
  },
  {
   "cell_type": "code",
   "execution_count": 26,
   "metadata": {},
   "outputs": [
    {
     "name": "stdout",
     "output_type": "stream",
     "text": [
      "[1. 2.]\n"
     ]
    }
   ],
   "source": [
    "print(np.percentile(ordersByUsers['orders'], [95, 99]))"
   ]
  },
  {
   "cell_type": "markdown",
   "metadata": {},
   "source": [
    "**Вывод**"
   ]
  },
  {
   "cell_type": "markdown",
   "metadata": {},
   "source": [
    "Как можно увидеть не более 5% пользователей совершали более, чем 2 заказа и не более 1% пользователей совершали более, чем 4 заказов. В качестве границы определния аномальных пользователей возьмем тех, кто делал больше двух заказов. То есть мы рассматриваем только тех, кто сделал 1 и 2 заказа."
   ]
  },
  {
   "cell_type": "markdown",
   "metadata": {},
   "source": [
    "**8.Построим точечный график стоимостей заказов. Сделаем выводы и предположения.**"
   ]
  },
  {
   "cell_type": "code",
   "execution_count": 27,
   "metadata": {},
   "outputs": [
    {
     "data": {
      "text/plain": [
       "<matplotlib.collections.PathCollection at 0x1d25896acd0>"
      ]
     },
     "execution_count": 27,
     "metadata": {},
     "output_type": "execute_result"
    },
    {
     "data": {
      "image/png": "[encoded data removed]",
      "text/plain": [
       "<Figure size 1080x360 with 1 Axes>"
      ]
     },
     "metadata": {
      "needs_background": "light"
     },
     "output_type": "display_data"
    }
   ],
   "source": [
    "x_values = pd.Series(range(0,len(orders['revenue'])))\n",
    "plt.figure(figsize=(15,5))\n",
    "plt.grid()\n",
    "plt.title('График стоимостей заказов')\n",
    "plt.scatter(x_values, orders['revenue'])"
   ]
  },
  {
   "cell_type": "markdown",
   "metadata": {},
   "source": [
    "На данном графике мало, что видно, попробуем рассмотреть по-другому"
   ]
  },
  {
   "cell_type": "code",
   "execution_count": 28,
   "metadata": {},
   "outputs": [
    {
     "data": {
      "text/plain": [
       "count    1.016000e+03\n",
       "mean     8.300815e+03\n",
       "std      4.212199e+04\n",
       "min      5.000000e+01\n",
       "25%      1.190000e+03\n",
       "50%      2.955000e+03\n",
       "75%      8.134250e+03\n",
       "max      1.294500e+06\n",
       "Name: revenue, dtype: float64"
      ]
     },
     "execution_count": 28,
     "metadata": {},
     "output_type": "execute_result"
    }
   ],
   "source": [
    "orders['revenue'].describe()"
   ]
  },
  {
   "cell_type": "code",
   "execution_count": 29,
   "metadata": {},
   "outputs": [
    {
     "data": {
      "text/plain": [
       "<matplotlib.collections.PathCollection at 0x1d258f87430>"
      ]
     },
     "execution_count": 29,
     "metadata": {},
     "output_type": "execute_result"
    },
    {
     "data": {
      "image/png": "[encoded data removed]",
      "text/plain": [
       "<Figure size 1080x360 with 1 Axes>"
      ]
     },
     "metadata": {
      "needs_background": "light"
     },
     "output_type": "display_data"
    }
   ],
   "source": [
    "ord = orders[orders['revenue'] < 150000]['revenue']\n",
    "x_val = pd.Series(range(0,len(ord)))\n",
    "plt.figure(figsize=(15,5))\n",
    "plt.grid()\n",
    "plt.title('График стоимостей заказов')\n",
    "plt.scatter(x_val, ord)"
   ]
  },
  {
   "cell_type": "markdown",
   "metadata": {},
   "source": [
    "Большая часть заказов сконцентрирована до 60 тысяч рублей. Конечно есть выбросы, где заказы более чем на 100 тысяч. В следующем пункте найдем границу."
   ]
  },
  {
   "cell_type": "markdown",
   "metadata": {},
   "source": [
    "**9.Посчитаем 95-й и 99-й перцентили стоимости заказов. Выберем границу для определения аномальных заказов.**"
   ]
  },
  {
   "cell_type": "code",
   "execution_count": 30,
   "metadata": {},
   "outputs": [
    {
     "name": "stdout",
     "output_type": "stream",
     "text": [
      "[26785. 53904.]\n"
     ]
    }
   ],
   "source": [
    "print(np.percentile(orders['revenue'], [95, 99])) "
   ]
  },
  {
   "cell_type": "markdown",
   "metadata": {},
   "source": [
    "Не более 5% пользователей заказывают более чем на 28000 рублей и не более 1% пользователей заказывают более чем на 58000 рублей. Так как 99% пользователей делают заказы на сумму меньше 58233 рублей, то возьмем эту цифру как границу между аномальными заказами и теми, которые мы рассматриваем."
   ]
  },
  {
   "cell_type": "markdown",
   "metadata": {},
   "source": [
    "**10.Посчитаем статистическую значимость различий в среднем количестве заказов на посетителя между группами по «сырым» данным. Сделаем выводы и предположения.**"
   ]
  },
  {
   "cell_type": "markdown",
   "metadata": {},
   "source": [
    "Создадим общую таблицу по заказам и визитам"
   ]
  },
  {
   "cell_type": "code",
   "execution_count": 31,
   "metadata": {},
   "outputs": [
    {
     "data": {
      "text/html": [
       "<div>\n",
       "<style scoped>\n",
       "    .dataframe tbody tr th:only-of-type {\n",
       "        vertical-align: middle;\n",
       "    }\n",
       "\n",
       "    .dataframe tbody tr th {\n",
       "        vertical-align: top;\n",
       "    }\n",
       "\n",
       "    .dataframe thead th {\n",
       "        text-align: right;\n",
       "    }\n",
       "</style>\n",
       "<table border=\"1\" class=\"dataframe\">\n",
       "  <thead>\n",
       "    <tr style=\"text-align: right;\">\n",
       "      <th></th>\n",
       "      <th>date</th>\n",
       "      <th>ordersPerDateA</th>\n",
       "      <th>revenuePerDateA</th>\n",
       "      <th>ordersPerDateB</th>\n",
       "      <th>revenuePerDateB</th>\n",
       "      <th>ordersCummulativeA</th>\n",
       "      <th>revenueCummulativeA</th>\n",
       "      <th>ordersCummulativeB</th>\n",
       "      <th>revenueCummulativeB</th>\n",
       "      <th>visitorsPerDateA</th>\n",
       "      <th>visitorsPerDateB</th>\n",
       "      <th>visitorsCummulativeA</th>\n",
       "      <th>visitorsCummulativeB</th>\n",
       "    </tr>\n",
       "  </thead>\n",
       "  <tbody>\n",
       "    <tr>\n",
       "      <th>0</th>\n",
       "      <td>2019-08-01</td>\n",
       "      <td>23</td>\n",
       "      <td>142779</td>\n",
       "      <td>17</td>\n",
       "      <td>59758</td>\n",
       "      <td>23</td>\n",
       "      <td>142779</td>\n",
       "      <td>17</td>\n",
       "      <td>59758</td>\n",
       "      <td>719</td>\n",
       "      <td>713</td>\n",
       "      <td>719</td>\n",
       "      <td>713</td>\n",
       "    </tr>\n",
       "    <tr>\n",
       "      <th>1</th>\n",
       "      <td>2019-08-02</td>\n",
       "      <td>19</td>\n",
       "      <td>91602</td>\n",
       "      <td>23</td>\n",
       "      <td>162043</td>\n",
       "      <td>42</td>\n",
       "      <td>234381</td>\n",
       "      <td>40</td>\n",
       "      <td>221801</td>\n",
       "      <td>619</td>\n",
       "      <td>581</td>\n",
       "      <td>1338</td>\n",
       "      <td>1294</td>\n",
       "    </tr>\n",
       "    <tr>\n",
       "      <th>2</th>\n",
       "      <td>2019-08-03</td>\n",
       "      <td>24</td>\n",
       "      <td>112473</td>\n",
       "      <td>14</td>\n",
       "      <td>67049</td>\n",
       "      <td>66</td>\n",
       "      <td>346854</td>\n",
       "      <td>54</td>\n",
       "      <td>288850</td>\n",
       "      <td>507</td>\n",
       "      <td>509</td>\n",
       "      <td>1845</td>\n",
       "      <td>1803</td>\n",
       "    </tr>\n",
       "    <tr>\n",
       "      <th>3</th>\n",
       "      <td>2019-08-04</td>\n",
       "      <td>11</td>\n",
       "      <td>41176</td>\n",
       "      <td>14</td>\n",
       "      <td>96890</td>\n",
       "      <td>77</td>\n",
       "      <td>388030</td>\n",
       "      <td>68</td>\n",
       "      <td>385740</td>\n",
       "      <td>717</td>\n",
       "      <td>770</td>\n",
       "      <td>2562</td>\n",
       "      <td>2573</td>\n",
       "    </tr>\n",
       "    <tr>\n",
       "      <th>4</th>\n",
       "      <td>2019-08-05</td>\n",
       "      <td>22</td>\n",
       "      <td>86383</td>\n",
       "      <td>21</td>\n",
       "      <td>89908</td>\n",
       "      <td>99</td>\n",
       "      <td>474413</td>\n",
       "      <td>89</td>\n",
       "      <td>475648</td>\n",
       "      <td>756</td>\n",
       "      <td>707</td>\n",
       "      <td>3318</td>\n",
       "      <td>3280</td>\n",
       "    </tr>\n",
       "  </tbody>\n",
       "</table>\n",
       "</div>"
      ],
      "text/plain": [
       "        date  ordersPerDateA  revenuePerDateA  ordersPerDateB  \\\n",
       "0 2019-08-01              23           142779              17   \n",
       "1 2019-08-02              19            91602              23   \n",
       "2 2019-08-03              24           112473              14   \n",
       "3 2019-08-04              11            41176              14   \n",
       "4 2019-08-05              22            86383              21   \n",
       "\n",
       "   revenuePerDateB  ordersCummulativeA  revenueCummulativeA  \\\n",
       "0            59758                  23               142779   \n",
       "1           162043                  42               234381   \n",
       "2            67049                  66               346854   \n",
       "3            96890                  77               388030   \n",
       "4            89908                  99               474413   \n",
       "\n",
       "   ordersCummulativeB  revenueCummulativeB  visitorsPerDateA  \\\n",
       "0                  17                59758               719   \n",
       "1                  40               221801               619   \n",
       "2                  54               288850               507   \n",
       "3                  68               385740               717   \n",
       "4                  89               475648               756   \n",
       "\n",
       "   visitorsPerDateB  visitorsCummulativeA  visitorsCummulativeB  \n",
       "0               713                   719                   713  \n",
       "1               581                  1338                  1294  \n",
       "2               509                  1845                  1803  \n",
       "3               770                  2562                  2573  \n",
       "4               707                  3318                  3280  "
      ]
     },
     "metadata": {},
     "output_type": "display_data"
    }
   ],
   "source": [
    "visitorsADaily = visitors[visitors['group']=='A'][['date', 'visitors']]\n",
    "visitorsADaily.columns = ['date', 'visitorsPerDateA']\n",
    "\n",
    "visitorsACummulative = visitorsADaily.apply(lambda x: visitorsADaily[visitorsADaily['date'] <= x['date']]. \\\n",
    "                                            agg({'date' : 'max', 'visitorsPerDateA' : 'sum'}), axis=1)\n",
    "visitorsACummulative.columns = ['date', 'visitorsCummulativeA']\n",
    "\n",
    "visitorsBDaily = visitors[visitors['group']=='B'][['date', 'visitors']]\n",
    "visitorsBDaily.columns = ['date', 'visitorsPerDateB']\n",
    "\n",
    "visitorsBCummulative = visitorsBDaily.apply(lambda x: visitorsBDaily[visitorsBDaily['date'] <= x['date']]. \\\n",
    "                                            agg({'date' : 'max', 'visitorsPerDateB' : 'sum'}), axis=1)\n",
    "visitorsBCummulative.columns = ['date', 'visitorsCummulativeB']\n",
    "\n",
    "\n",
    "ordersADaily = orders[orders['group']=='A'][['date', 'transactionId', 'visitorId', 'revenue']]\\\n",
    "    .groupby('date', as_index=False)\\\n",
    "    .agg({'transactionId' : pd.Series.nunique, 'revenue' : 'sum'})\n",
    "ordersADaily.columns = ['date', 'ordersPerDateA', 'revenuePerDateA']\n",
    "\n",
    "ordersACummulative = ordersADaily.apply(\n",
    "    lambda x: \\\n",
    "        ordersADaily[ordersADaily['date'] <= x['date']]\\\n",
    "            .agg({\n",
    "                'date' : 'max',\n",
    "                'ordersPerDateA' : 'sum',\n",
    "                'revenuePerDateA' : 'sum'}), axis=1).sort_values(by=['date'])\n",
    "ordersACummulative.columns = ['date', 'ordersCummulativeA', 'revenueCummulativeA']\n",
    "\n",
    "ordersBDaily = orders[orders['group']=='B'][['date', 'transactionId', 'visitorId', 'revenue']]\\\n",
    "    .groupby('date', as_index=False)\\\n",
    "    .agg({'transactionId' : pd.Series.nunique, 'revenue' : 'sum'})\n",
    "ordersBDaily.columns = ['date', 'ordersPerDateB', 'revenuePerDateB']\n",
    "\n",
    "ordersBCummulative = ordersBDaily.apply(\n",
    "    lambda x: \\\n",
    "        ordersBDaily[ordersBDaily['date'] <= x['date']]\\\n",
    "            .agg({\n",
    "                'date' : 'max',\n",
    "                'ordersPerDateB' : 'sum',\n",
    "                'revenuePerDateB' : 'sum'}), axis=1).sort_values(by=['date'])\n",
    "ordersBCummulative.columns = ['date', 'ordersCummulativeB', 'revenueCummulativeB']\n",
    "\n",
    "data = ordersADaily.merge(ordersBDaily, left_on='date', right_on='date', how='left')\\\n",
    "    .merge(ordersACummulative, left_on='date', right_on='date', how='left')\\\n",
    "    .merge(ordersBCummulative, left_on='date', right_on='date', how='left')\\\n",
    "    .merge(visitorsADaily, left_on='date', right_on='date', how='left')\\\n",
    "    .merge(visitorsBDaily, left_on='date', right_on='date', how='left')\\\n",
    "    .merge(visitorsACummulative, left_on='date', right_on='date', how='left')\\\n",
    "    .merge(visitorsBCummulative, left_on='date', right_on='date', how='left')\n",
    "display(data.head())"
   ]
  },
  {
   "cell_type": "markdown",
   "metadata": {},
   "source": [
    "H0: статистически значимых различий в конверсии между группами нет\n",
    "\n",
    "H1: статистически значимые различия в конверсии между группами есть"
   ]
  },
  {
   "cell_type": "code",
   "execution_count": 32,
   "metadata": {},
   "outputs": [
    {
     "name": "stdout",
     "output_type": "stream",
     "text": [
      "p-value = 0.011\n",
      "0.160\n"
     ]
    }
   ],
   "source": [
    "ordersByUsersA = orders[orders['group']=='A'].groupby('visitorId', as_index=False).agg({'transactionId' : pd.Series.nunique})\n",
    "ordersByUsersA.columns = ['userId', 'orders']\n",
    "\n",
    "ordersByUsersB = orders[orders['group']=='B'].groupby('visitorId', as_index=False).agg({'transactionId' : pd.Series.nunique})\n",
    "ordersByUsersB.columns = ['userId', 'orders']\n",
    "\n",
    "sampleA = pd.concat([ordersByUsersA['orders'],pd.Series(0, index=np.arange(data['visitorsPerDateA'].sum() - len(ordersByUsersA['orders'])), name='orders')],axis=0)\n",
    "\n",
    "sampleB = pd.concat([ordersByUsersB['orders'],pd.Series(0, index=np.arange(data['visitorsPerDateB'].sum() - len(ordersByUsersB['orders'])), name='orders')],axis=0)\n",
    "\n",
    "print(\"p-value = {0:.3f}\".format(stats.mannwhitneyu(sampleA, sampleB, alternative = 'two-sided')[1]))\n",
    "print('{0:.3f}'.format(sampleB.mean()/sampleA.mean()-1)) "
   ]
  },
  {
   "cell_type": "markdown",
   "metadata": {},
   "source": [
    "Нулевая гипотеза отвергается, значит, что статистически значимые различия между группами есть. Относительный выигрыш группы В над группой А равен 13,8%."
   ]
  },
  {
   "cell_type": "markdown",
   "metadata": {},
   "source": [
    "**11.Посчитаем статистическую значимость различий в среднем чеке заказа между группами по «сырым» данным. Сделаем выводы и предположения.**"
   ]
  },
  {
   "cell_type": "markdown",
   "metadata": {},
   "source": [
    "Н0: статистически значимых различий в средних чеках между группами нет\n",
    "\n",
    "Н1: статистически значимые различия в средних чеках между группами есть"
   ]
  },
  {
   "cell_type": "code",
   "execution_count": 33,
   "metadata": {},
   "outputs": [
    {
     "name": "stdout",
     "output_type": "stream",
     "text": [
      "p-value = 0.829\n",
      "0.287\n"
     ]
    }
   ],
   "source": [
    "print(\"p-value = {0:.3f}\".format(stats.mannwhitneyu(orders[orders['group']=='A']['revenue'], orders[orders['group']=='B']['revenue'], alternative = 'two-sided')[1]))\n",
    "print('{0:.3f}'.format(orders[orders['group']=='B']['revenue'].mean()/orders[orders['group']=='A']['revenue'].mean()-1)) "
   ]
  },
  {
   "cell_type": "markdown",
   "metadata": {},
   "source": [
    "Так как p-value больше 0.05, то нулевая гипотеза принимается, а значит, что статистически значимых различий нет и средние чеки схожи. Средний чек группы В больше на 25,9%, чем средний чек группы А.\n"
   ]
  },
  {
   "cell_type": "markdown",
   "metadata": {},
   "source": [
    "**12.Посчитаем статистическую значимость различий в среднем количестве заказов на посетителя между группами по «очищенным» данным. Сделаем выводы и предположения.**"
   ]
  },
  {
   "cell_type": "markdown",
   "metadata": {},
   "source": [
    "В данном пункте сделаем срез данных и проверим, как действия попавших в срез влияют на результат. Сделаем срез пользователей совершивших более 2 заказов и сумма покупки которых больше 58 тысяч"
   ]
  },
  {
   "cell_type": "code",
   "execution_count": 34,
   "metadata": {},
   "outputs": [
    {
     "name": "stdout",
     "output_type": "stream",
     "text": [
      "1099    148427295\n",
      "33      249864742\n",
      "58      611059232\n",
      "949     887908475\n",
      "744     888512513\n",
      "dtype: int64\n",
      "16\n"
     ]
    }
   ],
   "source": [
    "usersWithManyOrders = pd.concat([ordersByUsersA[ordersByUsersA['orders'] > 2]['userId'], ordersByUsersB[ordersByUsersB['orders'] > 2]['userId']], axis = 0)\n",
    "usersWithExpensiveOrders = orders[orders['revenue'] > 58000]['visitorId']\n",
    "abnormalUsers = pd.concat([usersWithManyOrders, usersWithExpensiveOrders], axis = 0).drop_duplicates().sort_values()\n",
    "print(abnormalUsers.head(5))\n",
    "print(len(abnormalUsers)) \n",
    "sampleAFiltered = pd.concat([ordersByUsersA[np.logical_not(ordersByUsersA['userId'].isin(abnormalUsers))]['orders'], \\\n",
    "                             pd.Series(0, index=np.arange(data['visitorsPerDateA'].sum() - len(ordersByUsersA['orders'])), \\\n",
    "                                       name='orders')],axis=0)\n",
    "\n",
    "sampleBFiltered = pd.concat([ordersByUsersB[np.logical_not(ordersByUsersB['userId'].isin(abnormalUsers))]['orders'], \\\n",
    "                             pd.Series(0, index=np.arange(data['visitorsPerDateB'].sum() - len(ordersByUsersB['orders'])), \\\n",
    "                                       name='orders')],axis=0) "
   ]
  },
  {
   "cell_type": "markdown",
   "metadata": {},
   "source": [
    "Применим статистический критерий Манна-Уитни к полученным выборкам\n",
    "\n",
    "H0: статистически значимых различий в конверсии между группами нет\n",
    "\n",
    "H1: статистически значимые различия в конверсии между группами есть"
   ]
  },
  {
   "cell_type": "code",
   "execution_count": 35,
   "metadata": {},
   "outputs": [
    {
     "name": "stdout",
     "output_type": "stream",
     "text": [
      "p-value = 0.007\n",
      "0.189\n"
     ]
    }
   ],
   "source": [
    "print(\"p-value = {0:.3f}\".format(stats.mannwhitneyu(sampleAFiltered, sampleBFiltered, alternative = 'two-sided')[1]))\n",
    "print('{0:.3f}'.format(sampleBFiltered.mean()/sampleAFiltered.mean()-1))"
   ]
  },
  {
   "cell_type": "markdown",
   "metadata": {},
   "source": [
    "Так как p-value меньше 0.05, то мы отвергаем нулевую гипотезу, значит статистически значимые различия в конверсии между группами есть. Относительный выигрыш группы В над группой А равен 17,4%."
   ]
  },
  {
   "cell_type": "markdown",
   "metadata": {},
   "source": [
    "**13.Посчитать статистическую значимость различий в среднем чеке заказа между группами по «очищенным» данным. Сделать выводы и предположения.**"
   ]
  },
  {
   "cell_type": "markdown",
   "metadata": {},
   "source": [
    "H0: Статистически значимых различий в средних чеках между группами нет\n",
    "\n",
    "H1: Статистически значимые различия в средних чеках между группами есть"
   ]
  },
  {
   "cell_type": "code",
   "execution_count": 36,
   "metadata": {},
   "outputs": [
    {
     "name": "stdout",
     "output_type": "stream",
     "text": [
      "p-value = 0.788\n",
      "-0.032\n"
     ]
    }
   ],
   "source": [
    "print(\"p-value = {0:.3f}\".format(stats.mannwhitneyu(\n",
    "    orders[np.logical_and(\n",
    "        orders['group']=='A',\n",
    "        np.logical_not(orders['visitorId'].isin(abnormalUsers)))]['revenue'],\n",
    "    orders[np.logical_and(\n",
    "        orders['group']=='B',\n",
    "        np.logical_not(orders['visitorId'].isin(abnormalUsers)))]['revenue'], alternative = 'two-sided')[1]))\n",
    "\n",
    "print('{0:.3f}'.format(\n",
    "    orders[np.logical_and(orders['group']=='B',np.logical_not(orders['visitorId'].isin(abnormalUsers)))]['revenue'].mean()/\n",
    "    orders[np.logical_and(\n",
    "        orders['group']=='A',\n",
    "        np.logical_not(orders['visitorId'].isin(abnormalUsers)))]['revenue'].mean() - 1))"
   ]
  },
  {
   "cell_type": "markdown",
   "metadata": {},
   "source": [
    "Как мы видим p-value больше 0.05, а значит, что мы принимаем нулевую гипотезу, то есть статистически значимых различий в средних чеках между группами нет. Средний чек группы В ниже на 2%, чем средний чек группы А.\n"
   ]
  },
  {
   "cell_type": "markdown",
   "metadata": {},
   "source": [
    "# Вывод"
   ]
  },
  {
   "cell_type": "markdown",
   "metadata": {},
   "source": [
    "**14.Примем решение по результатам теста и объясним его.**"
   ]
  },
  {
   "cell_type": "markdown",
   "metadata": {},
   "source": [
    "1) Если рассмотреть средний количество заказов на пользователя по сырым данным, то относительный выигрыш группы В над группой А равен 13,8%. В тоже время по очищенным данным он равен 17,4%.\n",
    "\n",
    "2) Средний чек группы В по сырым данным больше на 25,9%, чем средний чек группы А, а относительный выигрыш по очищенным данным группы В меньше на 2%, чем у группы А.\n",
    "\n",
    "Из этих результатов можно сделать вывод, что после того, как мы убрали аномалии по среднему чеку, то они сравнялись между группами, а вот выигрыш среднего количества заказов остается за группой В даже после того, как мы убрали аномалии.\n",
    "\n",
    "Исходя из вышесказанного, тест нужно остановить и сказать, что группа В оказалась эффективнее по среднему количеству заказов на пользователя, при равных средних чеках в группах."
   ]
  }
 ],
 "metadata": {
  "ExecuteTimeLog": [
   {
    "duration": 1490,
    "start_time": "2023-04-21T14:57:07.062Z"
   },
   {
    "duration": 3,
    "start_time": "2023-04-21T15:32:44.046Z"
   },
   {
    "duration": 195,
    "start_time": "2023-04-21T15:33:44.487Z"
   },
   {
    "duration": 13,
    "start_time": "2023-04-21T15:42:39.442Z"
   },
   {
    "duration": 25,
    "start_time": "2023-04-21T15:43:17.605Z"
   },
   {
    "duration": 28,
    "start_time": "2023-04-21T15:44:50.060Z"
   },
   {
    "duration": 22,
    "start_time": "2023-04-21T15:45:12.206Z"
   },
   {
    "duration": 63,
    "start_time": "2023-04-22T13:49:26.238Z"
   },
   {
    "duration": 5593,
    "start_time": "2023-04-22T13:49:34.055Z"
   },
   {
    "duration": 230,
    "start_time": "2023-04-22T13:49:39.650Z"
   },
   {
    "duration": 45,
    "start_time": "2023-04-22T13:49:39.882Z"
   },
   {
    "duration": 34,
    "start_time": "2023-04-22T13:49:39.929Z"
   },
   {
    "duration": 10,
    "start_time": "2023-04-22T13:49:39.966Z"
   },
   {
    "duration": 15,
    "start_time": "2023-04-22T13:49:59.744Z"
   },
   {
    "duration": 7,
    "start_time": "2023-04-22T13:53:06.959Z"
   },
   {
    "duration": 21,
    "start_time": "2023-04-22T13:55:00.751Z"
   },
   {
    "duration": 16,
    "start_time": "2023-04-22T13:56:12.909Z"
   },
   {
    "duration": 6,
    "start_time": "2023-04-22T13:56:53.194Z"
   },
   {
    "duration": 52,
    "start_time": "2023-04-22T14:10:05.545Z"
   },
   {
    "duration": 117,
    "start_time": "2023-04-22T14:12:51.761Z"
   },
   {
    "duration": 14,
    "start_time": "2023-04-22T14:15:23.709Z"
   },
   {
    "duration": 420,
    "start_time": "2023-04-22T15:37:32.423Z"
   },
   {
    "duration": 414,
    "start_time": "2023-04-22T15:37:48.388Z"
   },
   {
    "duration": 48,
    "start_time": "2023-04-27T09:12:29.455Z"
   },
   {
    "duration": 1339,
    "start_time": "2023-04-27T09:12:32.547Z"
   },
   {
    "duration": 234,
    "start_time": "2023-04-27T09:12:33.888Z"
   },
   {
    "duration": 22,
    "start_time": "2023-04-27T09:12:34.123Z"
   },
   {
    "duration": 16,
    "start_time": "2023-04-27T09:12:34.147Z"
   },
   {
    "duration": 14,
    "start_time": "2023-04-27T09:12:34.165Z"
   },
   {
    "duration": 6,
    "start_time": "2023-04-27T09:12:34.181Z"
   },
   {
    "duration": 14,
    "start_time": "2023-04-27T09:12:34.189Z"
   },
   {
    "duration": 12,
    "start_time": "2023-04-27T09:12:34.205Z"
   },
   {
    "duration": 41,
    "start_time": "2023-04-27T09:12:34.219Z"
   },
   {
    "duration": 14,
    "start_time": "2023-04-27T09:12:34.262Z"
   },
   {
    "duration": 11,
    "start_time": "2023-04-27T09:12:34.278Z"
   },
   {
    "duration": 327,
    "start_time": "2023-04-27T09:12:34.291Z"
   },
   {
    "duration": 320,
    "start_time": "2023-04-27T09:12:34.620Z"
   },
   {
    "duration": 234,
    "start_time": "2023-04-27T09:12:34.942Z"
   },
   {
    "duration": 229,
    "start_time": "2023-04-27T09:13:53.319Z"
   },
   {
    "duration": 219,
    "start_time": "2023-04-27T09:13:57.750Z"
   },
   {
    "duration": 203,
    "start_time": "2023-04-27T09:14:27.832Z"
   },
   {
    "duration": 224,
    "start_time": "2023-04-27T09:14:33.946Z"
   },
   {
    "duration": 224,
    "start_time": "2023-04-27T09:15:15.269Z"
   },
   {
    "duration": 222,
    "start_time": "2023-04-27T09:16:29.249Z"
   },
   {
    "duration": 396,
    "start_time": "2023-04-27T09:39:22.528Z"
   },
   {
    "duration": 345,
    "start_time": "2023-04-27T09:40:56.915Z"
   },
   {
    "duration": 350,
    "start_time": "2023-04-27T09:42:30.566Z"
   },
   {
    "duration": 350,
    "start_time": "2023-04-27T09:42:47.930Z"
   },
   {
    "duration": 226,
    "start_time": "2023-04-27T10:09:47.137Z"
   },
   {
    "duration": 68,
    "start_time": "2023-04-27T10:17:53.063Z"
   },
   {
    "duration": 14,
    "start_time": "2023-04-27T10:19:20.225Z"
   },
   {
    "duration": 129,
    "start_time": "2023-04-27T10:19:44.933Z"
   },
   {
    "duration": 233,
    "start_time": "2023-04-27T10:26:25.140Z"
   },
   {
    "duration": 241,
    "start_time": "2023-04-27T10:27:02.589Z"
   },
   {
    "duration": 245,
    "start_time": "2023-04-27T10:33:14.775Z"
   },
   {
    "duration": 323,
    "start_time": "2023-04-27T12:22:04.164Z"
   },
   {
    "duration": 336,
    "start_time": "2023-04-27T12:31:09.406Z"
   },
   {
    "duration": 4,
    "start_time": "2023-04-27T12:59:21.381Z"
   },
   {
    "duration": 121,
    "start_time": "2023-04-27T13:04:26.785Z"
   },
   {
    "duration": 163,
    "start_time": "2023-04-27T13:04:51.106Z"
   },
   {
    "duration": 8,
    "start_time": "2023-04-27T13:08:36.606Z"
   },
   {
    "duration": 242,
    "start_time": "2023-04-27T13:10:41.053Z"
   },
   {
    "duration": 45,
    "start_time": "2023-04-27T13:13:13.576Z"
   },
   {
    "duration": 141,
    "start_time": "2023-04-27T13:13:16.779Z"
   },
   {
    "duration": 157,
    "start_time": "2023-04-27T13:13:50.854Z"
   },
   {
    "duration": 150,
    "start_time": "2023-04-27T13:13:56.217Z"
   },
   {
    "duration": 154,
    "start_time": "2023-04-27T13:14:08.131Z"
   },
   {
    "duration": 166,
    "start_time": "2023-04-27T13:14:31.627Z"
   },
   {
    "duration": 5,
    "start_time": "2023-04-27T13:20:04.859Z"
   },
   {
    "duration": 293,
    "start_time": "2023-04-27T14:15:15.012Z"
   },
   {
    "duration": 257,
    "start_time": "2023-04-27T14:15:33.929Z"
   },
   {
    "duration": 200,
    "start_time": "2023-04-27T14:18:16.664Z"
   },
   {
    "duration": 172,
    "start_time": "2023-04-27T14:20:13.916Z"
   },
   {
    "duration": 176,
    "start_time": "2023-04-27T14:20:32.735Z"
   },
   {
    "duration": 9,
    "start_time": "2023-04-27T14:24:34.248Z"
   },
   {
    "duration": 15,
    "start_time": "2023-04-27T15:37:01.900Z"
   },
   {
    "duration": 15,
    "start_time": "2023-04-27T15:37:15.688Z"
   },
   {
    "duration": 14,
    "start_time": "2023-04-27T15:37:29.051Z"
   },
   {
    "duration": 23,
    "start_time": "2023-04-27T15:38:58.858Z"
   },
   {
    "duration": 65,
    "start_time": "2023-04-27T15:45:19.863Z"
   },
   {
    "duration": 46,
    "start_time": "2023-04-27T15:45:23.155Z"
   },
   {
    "duration": 25,
    "start_time": "2023-04-27T15:45:28.667Z"
   },
   {
    "duration": 21,
    "start_time": "2023-04-27T15:56:35.059Z"
   },
   {
    "duration": 11,
    "start_time": "2023-04-27T16:00:11.700Z"
   },
   {
    "duration": 189,
    "start_time": "2023-04-27T16:01:51.234Z"
   },
   {
    "duration": 244,
    "start_time": "2023-04-27T16:03:46.208Z"
   },
   {
    "duration": 19,
    "start_time": "2023-04-27T16:05:25.073Z"
   },
   {
    "duration": 149,
    "start_time": "2023-04-27T16:21:29.000Z"
   },
   {
    "duration": 1103,
    "start_time": "2023-04-27T17:34:38.306Z"
   },
   {
    "duration": 74,
    "start_time": "2023-04-27T17:34:39.411Z"
   },
   {
    "duration": 21,
    "start_time": "2023-04-27T17:34:39.486Z"
   },
   {
    "duration": 16,
    "start_time": "2023-04-27T17:34:39.509Z"
   },
   {
    "duration": 12,
    "start_time": "2023-04-27T17:34:39.526Z"
   },
   {
    "duration": 5,
    "start_time": "2023-04-27T17:34:39.540Z"
   },
   {
    "duration": 22,
    "start_time": "2023-04-27T17:34:39.547Z"
   },
   {
    "duration": 21,
    "start_time": "2023-04-27T17:34:39.571Z"
   },
   {
    "duration": 12,
    "start_time": "2023-04-27T17:34:39.594Z"
   },
   {
    "duration": 16,
    "start_time": "2023-04-27T17:34:39.609Z"
   },
   {
    "duration": 42,
    "start_time": "2023-04-27T17:34:39.627Z"
   },
   {
    "duration": 374,
    "start_time": "2023-04-27T17:34:39.671Z"
   },
   {
    "duration": 317,
    "start_time": "2023-04-27T17:34:40.047Z"
   },
   {
    "duration": 232,
    "start_time": "2023-04-27T17:34:40.366Z"
   },
   {
    "duration": 305,
    "start_time": "2023-04-27T17:34:40.600Z"
   },
   {
    "duration": 256,
    "start_time": "2023-04-27T17:34:40.909Z"
   },
   {
    "duration": 318,
    "start_time": "2023-04-27T17:34:41.167Z"
   },
   {
    "duration": 163,
    "start_time": "2023-04-27T17:34:41.487Z"
   },
   {
    "duration": 9,
    "start_time": "2023-04-27T17:34:41.652Z"
   },
   {
    "duration": 177,
    "start_time": "2023-04-27T17:34:41.663Z"
   },
   {
    "duration": 8,
    "start_time": "2023-04-27T17:34:41.842Z"
   },
   {
    "duration": 162,
    "start_time": "2023-04-27T17:34:41.859Z"
   },
   {
    "duration": 4,
    "start_time": "2023-04-27T17:34:42.022Z"
   },
   {
    "duration": 316,
    "start_time": "2023-04-27T17:34:42.028Z"
   },
   {
    "duration": 177,
    "start_time": "2023-04-27T17:34:42.346Z"
   },
   {
    "duration": 11,
    "start_time": "2023-04-27T17:34:42.525Z"
   },
   {
    "duration": 30,
    "start_time": "2023-04-27T17:34:42.537Z"
   },
   {
    "duration": 23,
    "start_time": "2023-04-27T17:34:42.570Z"
   },
   {
    "duration": 14,
    "start_time": "2023-04-27T17:34:42.595Z"
   },
   {
    "duration": 57,
    "start_time": "2023-04-29T11:53:32.329Z"
   },
   {
    "duration": 42,
    "start_time": "2023-04-29T11:54:09.927Z"
   },
   {
    "duration": 1511,
    "start_time": "2023-04-29T11:54:14.261Z"
   },
   {
    "duration": 269,
    "start_time": "2023-04-29T11:54:15.775Z"
   },
   {
    "duration": 20,
    "start_time": "2023-04-29T11:54:16.045Z"
   },
   {
    "duration": 15,
    "start_time": "2023-04-29T11:54:16.067Z"
   },
   {
    "duration": 31,
    "start_time": "2023-04-29T11:54:16.088Z"
   },
   {
    "duration": 10,
    "start_time": "2023-04-29T11:54:16.125Z"
   },
   {
    "duration": 21,
    "start_time": "2023-04-29T11:54:16.136Z"
   },
   {
    "duration": 12,
    "start_time": "2023-04-29T11:54:16.159Z"
   },
   {
    "duration": 5,
    "start_time": "2023-04-29T11:54:16.172Z"
   },
   {
    "duration": 6,
    "start_time": "2023-04-29T11:54:16.178Z"
   },
   {
    "duration": 37,
    "start_time": "2023-04-29T11:54:16.185Z"
   },
   {
    "duration": 14,
    "start_time": "2023-04-29T11:54:16.229Z"
   },
   {
    "duration": 375,
    "start_time": "2023-04-29T11:54:16.245Z"
   },
   {
    "duration": 348,
    "start_time": "2023-04-29T11:54:16.627Z"
   },
   {
    "duration": 268,
    "start_time": "2023-04-29T11:54:16.978Z"
   },
   {
    "duration": 417,
    "start_time": "2023-04-29T11:54:17.248Z"
   },
   {
    "duration": 298,
    "start_time": "2023-04-29T11:54:17.667Z"
   },
   {
    "duration": 365,
    "start_time": "2023-04-29T11:54:17.966Z"
   },
   {
    "duration": 218,
    "start_time": "2023-04-29T11:54:18.336Z"
   },
   {
    "duration": 5,
    "start_time": "2023-04-29T11:54:18.556Z"
   },
   {
    "duration": 202,
    "start_time": "2023-04-29T11:54:18.562Z"
   },
   {
    "duration": 9,
    "start_time": "2023-04-29T11:54:18.766Z"
   },
   {
    "duration": 190,
    "start_time": "2023-04-29T11:54:18.776Z"
   },
   {
    "duration": 4,
    "start_time": "2023-04-29T11:54:18.967Z"
   },
   {
    "duration": 348,
    "start_time": "2023-04-29T11:54:18.973Z"
   },
   {
    "duration": 207,
    "start_time": "2023-04-29T11:54:19.328Z"
   },
   {
    "duration": 12,
    "start_time": "2023-04-29T11:54:19.537Z"
   },
   {
    "duration": 13,
    "start_time": "2023-04-29T11:54:19.550Z"
   },
   {
    "duration": 57,
    "start_time": "2023-04-29T11:54:19.564Z"
   },
   {
    "duration": 17,
    "start_time": "2023-04-29T11:54:19.622Z"
   },
   {
    "duration": 9,
    "start_time": "2023-04-29T11:54:55.813Z"
   },
   {
    "duration": 4,
    "start_time": "2023-04-29T11:55:01.269Z"
   },
   {
    "duration": 57,
    "start_time": "2023-04-29T11:55:51.108Z"
   },
   {
    "duration": 85,
    "start_time": "2023-04-29T11:56:36.241Z"
   },
   {
    "duration": 6,
    "start_time": "2023-04-29T12:00:01.662Z"
   },
   {
    "duration": 12,
    "start_time": "2023-04-29T12:00:55.527Z"
   },
   {
    "duration": 9,
    "start_time": "2023-04-29T12:01:16.640Z"
   },
   {
    "duration": 14,
    "start_time": "2023-04-29T12:01:19.728Z"
   },
   {
    "duration": 13,
    "start_time": "2023-04-29T12:04:25.982Z"
   },
   {
    "duration": 7,
    "start_time": "2023-04-29T12:04:55.065Z"
   },
   {
    "duration": 8,
    "start_time": "2023-04-29T12:15:03.714Z"
   },
   {
    "duration": 808,
    "start_time": "2023-04-29T12:15:14.316Z"
   },
   {
    "duration": 708,
    "start_time": "2023-04-29T12:15:57.214Z"
   },
   {
    "duration": 695,
    "start_time": "2023-04-29T12:17:15.232Z"
   },
   {
    "duration": 686,
    "start_time": "2023-04-29T12:17:21.708Z"
   },
   {
    "duration": 669,
    "start_time": "2023-04-29T12:17:52.848Z"
   },
   {
    "duration": 13,
    "start_time": "2023-04-29T12:20:59.539Z"
   },
   {
    "duration": 18,
    "start_time": "2023-04-29T12:21:17.809Z"
   },
   {
    "duration": 11,
    "start_time": "2023-04-29T12:21:32.262Z"
   },
   {
    "duration": 4,
    "start_time": "2023-04-29T12:21:49.338Z"
   },
   {
    "duration": 103,
    "start_time": "2023-04-29T12:21:49.344Z"
   },
   {
    "duration": 18,
    "start_time": "2023-04-29T12:21:49.448Z"
   },
   {
    "duration": 40,
    "start_time": "2023-04-29T12:21:49.468Z"
   },
   {
    "duration": 17,
    "start_time": "2023-04-29T12:21:49.513Z"
   },
   {
    "duration": 6,
    "start_time": "2023-04-29T12:21:49.531Z"
   },
   {
    "duration": 8,
    "start_time": "2023-04-29T12:21:49.538Z"
   },
   {
    "duration": 6,
    "start_time": "2023-04-29T12:21:49.548Z"
   },
   {
    "duration": 10,
    "start_time": "2023-04-29T12:21:49.555Z"
   },
   {
    "duration": 43,
    "start_time": "2023-04-29T12:21:49.566Z"
   },
   {
    "duration": 16,
    "start_time": "2023-04-29T12:21:49.610Z"
   },
   {
    "duration": 5,
    "start_time": "2023-04-29T12:21:49.628Z"
   },
   {
    "duration": 4,
    "start_time": "2023-04-29T12:21:49.634Z"
   },
   {
    "duration": 11,
    "start_time": "2023-04-29T12:21:49.641Z"
   },
   {
    "duration": 42,
    "start_time": "2023-04-29T12:21:49.654Z"
   },
   {
    "duration": 339,
    "start_time": "2023-04-29T12:21:49.700Z"
   },
   {
    "duration": 237,
    "start_time": "2023-04-29T12:21:50.041Z"
   },
   {
    "duration": 247,
    "start_time": "2023-04-29T12:21:50.287Z"
   },
   {
    "duration": 313,
    "start_time": "2023-04-29T12:21:50.535Z"
   },
   {
    "duration": 272,
    "start_time": "2023-04-29T12:21:50.850Z"
   },
   {
    "duration": 315,
    "start_time": "2023-04-29T12:21:51.124Z"
   },
   {
    "duration": 179,
    "start_time": "2023-04-29T12:21:51.441Z"
   },
   {
    "duration": 4,
    "start_time": "2023-04-29T12:21:51.622Z"
   },
   {
    "duration": 193,
    "start_time": "2023-04-29T12:21:51.628Z"
   },
   {
    "duration": 8,
    "start_time": "2023-04-29T12:21:51.823Z"
   },
   {
    "duration": 199,
    "start_time": "2023-04-29T12:21:51.833Z"
   },
   {
    "duration": 6,
    "start_time": "2023-04-29T12:21:52.034Z"
   },
   {
    "duration": 251,
    "start_time": "2023-04-29T12:21:52.041Z"
   },
   {
    "duration": 225,
    "start_time": "2023-04-29T12:21:52.300Z"
   },
   {
    "duration": 13,
    "start_time": "2023-04-29T12:21:52.527Z"
   },
   {
    "duration": 15,
    "start_time": "2023-04-29T12:21:52.542Z"
   },
   {
    "duration": 57,
    "start_time": "2023-04-29T12:21:52.559Z"
   },
   {
    "duration": 14,
    "start_time": "2023-04-29T12:21:52.619Z"
   },
   {
    "duration": 46,
    "start_time": "2023-04-29T12:22:32.414Z"
   },
   {
    "duration": 62,
    "start_time": "2023-04-29T12:24:14.404Z"
   },
   {
    "duration": 11,
    "start_time": "2023-04-29T12:24:24.168Z"
   },
   {
    "duration": 12,
    "start_time": "2023-04-29T12:26:27.062Z"
   },
   {
    "duration": 21,
    "start_time": "2023-04-29T12:26:36.202Z"
   },
   {
    "duration": 3,
    "start_time": "2023-04-29T12:31:20.922Z"
   },
   {
    "duration": 96,
    "start_time": "2023-04-29T12:31:20.928Z"
   },
   {
    "duration": 16,
    "start_time": "2023-04-29T12:31:21.026Z"
   },
   {
    "duration": 22,
    "start_time": "2023-04-29T12:31:21.043Z"
   },
   {
    "duration": 15,
    "start_time": "2023-04-29T12:31:21.068Z"
   },
   {
    "duration": 19,
    "start_time": "2023-04-29T12:31:21.084Z"
   },
   {
    "duration": 23,
    "start_time": "2023-04-29T12:31:21.107Z"
   },
   {
    "duration": 13,
    "start_time": "2023-04-29T12:31:21.131Z"
   },
   {
    "duration": 11,
    "start_time": "2023-04-29T12:31:21.146Z"
   },
   {
    "duration": 10,
    "start_time": "2023-04-29T12:31:21.158Z"
   },
   {
    "duration": 16,
    "start_time": "2023-04-29T12:31:21.169Z"
   },
   {
    "duration": 37,
    "start_time": "2023-04-29T12:31:21.186Z"
   },
   {
    "duration": 14,
    "start_time": "2023-04-29T12:31:21.225Z"
   },
   {
    "duration": 12,
    "start_time": "2023-04-29T12:31:21.242Z"
   },
   {
    "duration": 6,
    "start_time": "2023-04-29T12:31:21.257Z"
   },
   {
    "duration": 39,
    "start_time": "2023-04-29T12:31:21.265Z"
   },
   {
    "duration": 16,
    "start_time": "2023-04-29T12:31:21.311Z"
   },
   {
    "duration": 328,
    "start_time": "2023-04-29T12:31:21.329Z"
   },
   {
    "duration": 250,
    "start_time": "2023-04-29T12:31:21.659Z"
   },
   {
    "duration": 263,
    "start_time": "2023-04-29T12:31:21.912Z"
   },
   {
    "duration": 365,
    "start_time": "2023-04-29T12:31:22.177Z"
   },
   {
    "duration": 381,
    "start_time": "2023-04-29T12:31:22.543Z"
   },
   {
    "duration": 349,
    "start_time": "2023-04-29T12:31:22.927Z"
   },
   {
    "duration": 270,
    "start_time": "2023-04-29T12:31:23.278Z"
   },
   {
    "duration": 4,
    "start_time": "2023-04-29T12:31:23.550Z"
   },
   {
    "duration": 222,
    "start_time": "2023-04-29T12:31:23.556Z"
   },
   {
    "duration": 25,
    "start_time": "2023-04-29T12:31:23.780Z"
   },
   {
    "duration": 171,
    "start_time": "2023-04-29T12:31:23.811Z"
   },
   {
    "duration": 13,
    "start_time": "2023-04-29T12:31:23.984Z"
   },
   {
    "duration": 349,
    "start_time": "2023-04-29T12:31:24.004Z"
   },
   {
    "duration": 198,
    "start_time": "2023-04-29T12:31:24.355Z"
   },
   {
    "duration": 11,
    "start_time": "2023-04-29T12:31:24.556Z"
   },
   {
    "duration": 31,
    "start_time": "2023-04-29T12:31:24.568Z"
   },
   {
    "duration": 34,
    "start_time": "2023-04-29T12:31:24.601Z"
   },
   {
    "duration": 18,
    "start_time": "2023-04-29T12:31:24.637Z"
   },
   {
    "duration": 1361,
    "start_time": "2023-04-30T06:07:29.062Z"
   },
   {
    "duration": 220,
    "start_time": "2023-04-30T06:07:30.426Z"
   },
   {
    "duration": 25,
    "start_time": "2023-04-30T06:07:30.650Z"
   },
   {
    "duration": 45,
    "start_time": "2023-04-30T06:07:30.677Z"
   },
   {
    "duration": 92,
    "start_time": "2023-04-30T06:07:30.724Z"
   },
   {
    "duration": 86,
    "start_time": "2023-04-30T06:07:30.818Z"
   },
   {
    "duration": 65,
    "start_time": "2023-04-30T06:07:30.905Z"
   },
   {
    "duration": 25,
    "start_time": "2023-04-30T06:07:30.972Z"
   },
   {
    "duration": 78,
    "start_time": "2023-04-30T06:07:30.999Z"
   },
   {
    "duration": 43,
    "start_time": "2023-04-30T06:07:31.078Z"
   },
   {
    "duration": 47,
    "start_time": "2023-04-30T06:07:31.123Z"
   },
   {
    "duration": 47,
    "start_time": "2023-04-30T06:07:31.171Z"
   },
   {
    "duration": 80,
    "start_time": "2023-04-30T06:07:31.220Z"
   },
   {
    "duration": 61,
    "start_time": "2023-04-30T06:07:31.302Z"
   },
   {
    "duration": 46,
    "start_time": "2023-04-30T06:07:31.364Z"
   },
   {
    "duration": 88,
    "start_time": "2023-04-30T06:07:31.411Z"
   },
   {
    "duration": 68,
    "start_time": "2023-04-30T06:07:31.500Z"
   },
   {
    "duration": 352,
    "start_time": "2023-04-30T06:07:31.570Z"
   },
   {
    "duration": 316,
    "start_time": "2023-04-30T06:07:31.923Z"
   },
   {
    "duration": 233,
    "start_time": "2023-04-30T06:07:32.244Z"
   },
   {
    "duration": 318,
    "start_time": "2023-04-30T06:07:32.479Z"
   },
   {
    "duration": 240,
    "start_time": "2023-04-30T06:07:32.798Z"
   },
   {
    "duration": 325,
    "start_time": "2023-04-30T06:07:33.044Z"
   },
   {
    "duration": 176,
    "start_time": "2023-04-30T06:07:33.370Z"
   },
   {
    "duration": 5,
    "start_time": "2023-04-30T06:07:33.550Z"
   },
   {
    "duration": 156,
    "start_time": "2023-04-30T06:07:33.558Z"
   },
   {
    "duration": 8,
    "start_time": "2023-04-30T06:07:33.715Z"
   },
   {
    "duration": 164,
    "start_time": "2023-04-30T06:07:33.725Z"
   },
   {
    "duration": 4,
    "start_time": "2023-04-30T06:07:33.891Z"
   },
   {
    "duration": 309,
    "start_time": "2023-04-30T06:07:33.896Z"
   },
   {
    "duration": 164,
    "start_time": "2023-04-30T06:07:34.207Z"
   },
   {
    "duration": 9,
    "start_time": "2023-04-30T06:07:34.372Z"
   },
   {
    "duration": 18,
    "start_time": "2023-04-30T06:07:34.383Z"
   },
   {
    "duration": 37,
    "start_time": "2023-04-30T06:07:34.403Z"
   },
   {
    "duration": 23,
    "start_time": "2023-04-30T06:07:34.443Z"
   }
  ],
  "kernelspec": {
   "display_name": "Python 3 (ipykernel)",
   "language": "python",
   "name": "python3"
  },
  "language_info": {
   "codemirror_mode": {
    "name": "ipython",
    "version": 3
   },
   "file_extension": ".py",
   "mimetype": "text/x-python",
   "name": "python",
   "nbconvert_exporter": "python",
   "pygments_lexer": "ipython3",
   "version": "3.9.7"
  },
  "toc": {
   "base_numbering": 1,
   "nav_menu": {},
   "number_sections": true,
   "sideBar": true,
   "skip_h1_title": true,
   "title_cell": "Table of Contents",
   "title_sidebar": "Contents",
   "toc_cell": false,
   "toc_position": {},
   "toc_section_display": true,
   "toc_window_display": false
  }
 },
 "nbformat": 4,
 "nbformat_minor": 2
}
