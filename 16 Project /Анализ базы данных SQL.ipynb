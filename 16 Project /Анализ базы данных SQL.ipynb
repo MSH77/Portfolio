{
 "cells": [
  {
   "cell_type": "markdown",
   "metadata": {},
   "source": [
    "# Описание проекта\n"
   ]
  },
  {
   "cell_type": "markdown",
   "metadata": {},
   "source": [
    "Коронавирус застал мир врасплох, изменив привычный порядок вещей. В свободное время жители городов больше не выходят на улицу, не посещают кафе и торговые центры. Зато стало больше времени для книг. Это заметили стартаперы — и бросились создавать приложения для тех, кто любит читать.\n",
    "Наша компания решила быть на волне и купила крупный сервис для чтения книг по подписке. \n",
    "\n",
    "**Задача исследования**: Проанализировать базу данных.\n",
    "\n",
    "В ней — информация о книгах, издательствах, авторах, а также пользовательские обзоры книг. Эти данные помогут сформулировать ценностное предложение для нового продукта."
   ]
  },
  {
   "cell_type": "markdown",
   "metadata": {},
   "source": [
    "# Исследование базы данных"
   ]
  },
  {
   "cell_type": "code",
   "execution_count": 2,
   "metadata": {},
   "outputs": [
    {
     "data": {
      "text/html": [
       "<div>\n",
       "<style scoped>\n",
       "    .dataframe tbody tr th:only-of-type {\n",
       "        vertical-align: middle;\n",
       "    }\n",
       "\n",
       "    .dataframe tbody tr th {\n",
       "        vertical-align: top;\n",
       "    }\n",
       "\n",
       "    .dataframe thead th {\n",
       "        text-align: right;\n",
       "    }\n",
       "</style>\n",
       "<table border=\"1\" class=\"dataframe\">\n",
       "  <thead>\n",
       "    <tr style=\"text-align: right;\">\n",
       "      <th></th>\n",
       "      <th>book_id</th>\n",
       "      <th>author_id</th>\n",
       "      <th>title</th>\n",
       "      <th>num_pages</th>\n",
       "      <th>publication_date</th>\n",
       "      <th>publisher_id</th>\n",
       "    </tr>\n",
       "  </thead>\n",
       "  <tbody>\n",
       "    <tr>\n",
       "      <th>0</th>\n",
       "      <td>1</td>\n",
       "      <td>546</td>\n",
       "      <td>'Salem's Lot</td>\n",
       "      <td>594</td>\n",
       "      <td>2005-11-01</td>\n",
       "      <td>93</td>\n",
       "    </tr>\n",
       "    <tr>\n",
       "      <th>1</th>\n",
       "      <td>2</td>\n",
       "      <td>465</td>\n",
       "      <td>1 000 Places to See Before You Die</td>\n",
       "      <td>992</td>\n",
       "      <td>2003-05-22</td>\n",
       "      <td>336</td>\n",
       "    </tr>\n",
       "    <tr>\n",
       "      <th>2</th>\n",
       "      <td>3</td>\n",
       "      <td>407</td>\n",
       "      <td>13 Little Blue Envelopes (Little Blue Envelope...</td>\n",
       "      <td>322</td>\n",
       "      <td>2010-12-21</td>\n",
       "      <td>135</td>\n",
       "    </tr>\n",
       "    <tr>\n",
       "      <th>3</th>\n",
       "      <td>4</td>\n",
       "      <td>82</td>\n",
       "      <td>1491: New Revelations of the Americas Before C...</td>\n",
       "      <td>541</td>\n",
       "      <td>2006-10-10</td>\n",
       "      <td>309</td>\n",
       "    </tr>\n",
       "    <tr>\n",
       "      <th>4</th>\n",
       "      <td>5</td>\n",
       "      <td>125</td>\n",
       "      <td>1776</td>\n",
       "      <td>386</td>\n",
       "      <td>2006-07-04</td>\n",
       "      <td>268</td>\n",
       "    </tr>\n",
       "  </tbody>\n",
       "</table>\n",
       "</div>"
      ],
      "text/plain": [
       "   book_id  author_id                                              title  \\\n",
       "0        1        546                                       'Salem's Lot   \n",
       "1        2        465                 1 000 Places to See Before You Die   \n",
       "2        3        407  13 Little Blue Envelopes (Little Blue Envelope...   \n",
       "3        4         82  1491: New Revelations of the Americas Before C...   \n",
       "4        5        125                                               1776   \n",
       "\n",
       "   num_pages publication_date  publisher_id  \n",
       "0        594       2005-11-01            93  \n",
       "1        992       2003-05-22           336  \n",
       "2        322       2010-12-21           135  \n",
       "3        541       2006-10-10           309  \n",
       "4        386       2006-07-04           268  "
      ]
     },
     "execution_count": 2,
     "metadata": {},
     "output_type": "execute_result"
    }
   ],
   "source": [
    "query = '''SELECT * \n",
    "           FROM books \n",
    "           LIMIT 5'''\n",
    "con=engine.connect()\n",
    "pd.io.sql.read_sql(sql=text(query), con = con)"
   ]
  },
  {
   "cell_type": "code",
   "execution_count": 3,
   "metadata": {},
   "outputs": [
    {
     "data": {
      "text/html": [
       "<div>\n",
       "<style scoped>\n",
       "    .dataframe tbody tr th:only-of-type {\n",
       "        vertical-align: middle;\n",
       "    }\n",
       "\n",
       "    .dataframe tbody tr th {\n",
       "        vertical-align: top;\n",
       "    }\n",
       "\n",
       "    .dataframe thead th {\n",
       "        text-align: right;\n",
       "    }\n",
       "</style>\n",
       "<table border=\"1\" class=\"dataframe\">\n",
       "  <thead>\n",
       "    <tr style=\"text-align: right;\">\n",
       "      <th></th>\n",
       "      <th>author_id</th>\n",
       "      <th>author</th>\n",
       "    </tr>\n",
       "  </thead>\n",
       "  <tbody>\n",
       "    <tr>\n",
       "      <th>0</th>\n",
       "      <td>1</td>\n",
       "      <td>A.S. Byatt</td>\n",
       "    </tr>\n",
       "    <tr>\n",
       "      <th>1</th>\n",
       "      <td>2</td>\n",
       "      <td>Aesop/Laura Harris/Laura Gibbs</td>\n",
       "    </tr>\n",
       "    <tr>\n",
       "      <th>2</th>\n",
       "      <td>3</td>\n",
       "      <td>Agatha Christie</td>\n",
       "    </tr>\n",
       "    <tr>\n",
       "      <th>3</th>\n",
       "      <td>4</td>\n",
       "      <td>Alan Brennert</td>\n",
       "    </tr>\n",
       "    <tr>\n",
       "      <th>4</th>\n",
       "      <td>5</td>\n",
       "      <td>Alan Moore/David   Lloyd</td>\n",
       "    </tr>\n",
       "  </tbody>\n",
       "</table>\n",
       "</div>"
      ],
      "text/plain": [
       "   author_id                          author\n",
       "0          1                      A.S. Byatt\n",
       "1          2  Aesop/Laura Harris/Laura Gibbs\n",
       "2          3                 Agatha Christie\n",
       "3          4                   Alan Brennert\n",
       "4          5        Alan Moore/David   Lloyd"
      ]
     },
     "execution_count": 3,
     "metadata": {},
     "output_type": "execute_result"
    }
   ],
   "source": [
    "query = '''SELECT * \n",
    "           FROM authors \n",
    "           LIMIT 5'''\n",
    "con=engine.connect()\n",
    "pd.io.sql.read_sql(sql=text(query), con = con)"
   ]
  },
  {
   "cell_type": "code",
   "execution_count": 4,
   "metadata": {},
   "outputs": [
    {
     "data": {
      "text/html": [
       "<div>\n",
       "<style scoped>\n",
       "    .dataframe tbody tr th:only-of-type {\n",
       "        vertical-align: middle;\n",
       "    }\n",
       "\n",
       "    .dataframe tbody tr th {\n",
       "        vertical-align: top;\n",
       "    }\n",
       "\n",
       "    .dataframe thead th {\n",
       "        text-align: right;\n",
       "    }\n",
       "</style>\n",
       "<table border=\"1\" class=\"dataframe\">\n",
       "  <thead>\n",
       "    <tr style=\"text-align: right;\">\n",
       "      <th></th>\n",
       "      <th>publisher_id</th>\n",
       "      <th>publisher</th>\n",
       "    </tr>\n",
       "  </thead>\n",
       "  <tbody>\n",
       "    <tr>\n",
       "      <th>0</th>\n",
       "      <td>1</td>\n",
       "      <td>Ace</td>\n",
       "    </tr>\n",
       "    <tr>\n",
       "      <th>1</th>\n",
       "      <td>2</td>\n",
       "      <td>Ace Book</td>\n",
       "    </tr>\n",
       "    <tr>\n",
       "      <th>2</th>\n",
       "      <td>3</td>\n",
       "      <td>Ace Books</td>\n",
       "    </tr>\n",
       "    <tr>\n",
       "      <th>3</th>\n",
       "      <td>4</td>\n",
       "      <td>Ace Hardcover</td>\n",
       "    </tr>\n",
       "    <tr>\n",
       "      <th>4</th>\n",
       "      <td>5</td>\n",
       "      <td>Addison Wesley Publishing Company</td>\n",
       "    </tr>\n",
       "  </tbody>\n",
       "</table>\n",
       "</div>"
      ],
      "text/plain": [
       "   publisher_id                          publisher\n",
       "0             1                                Ace\n",
       "1             2                           Ace Book\n",
       "2             3                          Ace Books\n",
       "3             4                      Ace Hardcover\n",
       "4             5  Addison Wesley Publishing Company"
      ]
     },
     "execution_count": 4,
     "metadata": {},
     "output_type": "execute_result"
    }
   ],
   "source": [
    "query = '''SELECT * \n",
    "           FROM publishers \n",
    "           LIMIT 5'''\n",
    "con=engine.connect()\n",
    "pd.io.sql.read_sql(sql=text(query), con = con)"
   ]
  },
  {
   "cell_type": "code",
   "execution_count": 5,
   "metadata": {},
   "outputs": [
    {
     "data": {
      "text/html": [
       "<div>\n",
       "<style scoped>\n",
       "    .dataframe tbody tr th:only-of-type {\n",
       "        vertical-align: middle;\n",
       "    }\n",
       "\n",
       "    .dataframe tbody tr th {\n",
       "        vertical-align: top;\n",
       "    }\n",
       "\n",
       "    .dataframe thead th {\n",
       "        text-align: right;\n",
       "    }\n",
       "</style>\n",
       "<table border=\"1\" class=\"dataframe\">\n",
       "  <thead>\n",
       "    <tr style=\"text-align: right;\">\n",
       "      <th></th>\n",
       "      <th>rating_id</th>\n",
       "      <th>book_id</th>\n",
       "      <th>username</th>\n",
       "      <th>rating</th>\n",
       "    </tr>\n",
       "  </thead>\n",
       "  <tbody>\n",
       "    <tr>\n",
       "      <th>0</th>\n",
       "      <td>1</td>\n",
       "      <td>1</td>\n",
       "      <td>ryanfranco</td>\n",
       "      <td>4</td>\n",
       "    </tr>\n",
       "    <tr>\n",
       "      <th>1</th>\n",
       "      <td>2</td>\n",
       "      <td>1</td>\n",
       "      <td>grantpatricia</td>\n",
       "      <td>2</td>\n",
       "    </tr>\n",
       "    <tr>\n",
       "      <th>2</th>\n",
       "      <td>3</td>\n",
       "      <td>1</td>\n",
       "      <td>brandtandrea</td>\n",
       "      <td>5</td>\n",
       "    </tr>\n",
       "    <tr>\n",
       "      <th>3</th>\n",
       "      <td>4</td>\n",
       "      <td>2</td>\n",
       "      <td>lorichen</td>\n",
       "      <td>3</td>\n",
       "    </tr>\n",
       "    <tr>\n",
       "      <th>4</th>\n",
       "      <td>5</td>\n",
       "      <td>2</td>\n",
       "      <td>mariokeller</td>\n",
       "      <td>2</td>\n",
       "    </tr>\n",
       "  </tbody>\n",
       "</table>\n",
       "</div>"
      ],
      "text/plain": [
       "   rating_id  book_id       username  rating\n",
       "0          1        1     ryanfranco       4\n",
       "1          2        1  grantpatricia       2\n",
       "2          3        1   brandtandrea       5\n",
       "3          4        2       lorichen       3\n",
       "4          5        2    mariokeller       2"
      ]
     },
     "execution_count": 5,
     "metadata": {},
     "output_type": "execute_result"
    }
   ],
   "source": [
    "query = '''SELECT * \n",
    "           FROM ratings \n",
    "           LIMIT 5'''\n",
    "con=engine.connect()\n",
    "pd.io.sql.read_sql(sql=text(query), con = con)"
   ]
  },
  {
   "cell_type": "code",
   "execution_count": 6,
   "metadata": {},
   "outputs": [
    {
     "data": {
      "text/html": [
       "<div>\n",
       "<style scoped>\n",
       "    .dataframe tbody tr th:only-of-type {\n",
       "        vertical-align: middle;\n",
       "    }\n",
       "\n",
       "    .dataframe tbody tr th {\n",
       "        vertical-align: top;\n",
       "    }\n",
       "\n",
       "    .dataframe thead th {\n",
       "        text-align: right;\n",
       "    }\n",
       "</style>\n",
       "<table border=\"1\" class=\"dataframe\">\n",
       "  <thead>\n",
       "    <tr style=\"text-align: right;\">\n",
       "      <th></th>\n",
       "      <th>review_id</th>\n",
       "      <th>book_id</th>\n",
       "      <th>username</th>\n",
       "      <th>text</th>\n",
       "    </tr>\n",
       "  </thead>\n",
       "  <tbody>\n",
       "    <tr>\n",
       "      <th>0</th>\n",
       "      <td>1</td>\n",
       "      <td>1</td>\n",
       "      <td>brandtandrea</td>\n",
       "      <td>Mention society tell send professor analysis. ...</td>\n",
       "    </tr>\n",
       "    <tr>\n",
       "      <th>1</th>\n",
       "      <td>2</td>\n",
       "      <td>1</td>\n",
       "      <td>ryanfranco</td>\n",
       "      <td>Foot glass pretty audience hit themselves. Amo...</td>\n",
       "    </tr>\n",
       "    <tr>\n",
       "      <th>2</th>\n",
       "      <td>3</td>\n",
       "      <td>2</td>\n",
       "      <td>lorichen</td>\n",
       "      <td>Listen treat keep worry. Miss husband tax but ...</td>\n",
       "    </tr>\n",
       "    <tr>\n",
       "      <th>3</th>\n",
       "      <td>4</td>\n",
       "      <td>3</td>\n",
       "      <td>johnsonamanda</td>\n",
       "      <td>Finally month interesting blue could nature cu...</td>\n",
       "    </tr>\n",
       "    <tr>\n",
       "      <th>4</th>\n",
       "      <td>5</td>\n",
       "      <td>3</td>\n",
       "      <td>scotttamara</td>\n",
       "      <td>Nation purpose heavy give wait song will. List...</td>\n",
       "    </tr>\n",
       "  </tbody>\n",
       "</table>\n",
       "</div>"
      ],
      "text/plain": [
       "   review_id  book_id       username  \\\n",
       "0          1        1   brandtandrea   \n",
       "1          2        1     ryanfranco   \n",
       "2          3        2       lorichen   \n",
       "3          4        3  johnsonamanda   \n",
       "4          5        3    scotttamara   \n",
       "\n",
       "                                                text  \n",
       "0  Mention society tell send professor analysis. ...  \n",
       "1  Foot glass pretty audience hit themselves. Amo...  \n",
       "2  Listen treat keep worry. Miss husband tax but ...  \n",
       "3  Finally month interesting blue could nature cu...  \n",
       "4  Nation purpose heavy give wait song will. List...  "
      ]
     },
     "execution_count": 6,
     "metadata": {},
     "output_type": "execute_result"
    }
   ],
   "source": [
    "query = '''SELECT * \n",
    "           FROM reviews \n",
    "           LIMIT 5'''\n",
    "con=engine.connect()\n",
    "pd.io.sql.read_sql(sql=text(query), con = con)"
   ]
  },
  {
   "cell_type": "markdown",
   "metadata": {},
   "source": [
    "Выгрузка работает правильно, с данными все нормально, поэтому приступим к решению задач"
   ]
  },
  {
   "cell_type": "markdown",
   "metadata": {},
   "source": [
    "# Решение заданий"
   ]
  },
  {
   "cell_type": "markdown",
   "metadata": {},
   "source": [
    "### Посчитаем, сколько книг вышло после 1 января 2000 года"
   ]
  },
  {
   "cell_type": "code",
   "execution_count": 7,
   "metadata": {},
   "outputs": [
    {
     "data": {
      "text/html": [
       "<div>\n",
       "<style scoped>\n",
       "    .dataframe tbody tr th:only-of-type {\n",
       "        vertical-align: middle;\n",
       "    }\n",
       "\n",
       "    .dataframe tbody tr th {\n",
       "        vertical-align: top;\n",
       "    }\n",
       "\n",
       "    .dataframe thead th {\n",
       "        text-align: right;\n",
       "    }\n",
       "</style>\n",
       "<table border=\"1\" class=\"dataframe\">\n",
       "  <thead>\n",
       "    <tr style=\"text-align: right;\">\n",
       "      <th></th>\n",
       "      <th>count</th>\n",
       "    </tr>\n",
       "  </thead>\n",
       "  <tbody>\n",
       "    <tr>\n",
       "      <th>0</th>\n",
       "      <td>819</td>\n",
       "    </tr>\n",
       "  </tbody>\n",
       "</table>\n",
       "</div>"
      ],
      "text/plain": [
       "   count\n",
       "0    819"
      ]
     },
     "execution_count": 7,
     "metadata": {},
     "output_type": "execute_result"
    }
   ],
   "source": [
    "query = '''SELECT COUNT(*)\n",
    "           FROM books\n",
    "           WHERE publication_date > '2000-01-01'\n",
    "           '''\n",
    "con=engine.connect()\n",
    "pd.io.sql.read_sql(sql=text(query), con = con)"
   ]
  },
  {
   "cell_type": "markdown",
   "metadata": {},
   "source": [
    "После 1 января 2000 года вышло 819 книг"
   ]
  },
  {
   "cell_type": "markdown",
   "metadata": {},
   "source": [
    "### Для каждой книги посчитаем количество обзоров и среднюю оценку"
   ]
  },
  {
   "cell_type": "code",
   "execution_count": 8,
   "metadata": {},
   "outputs": [
    {
     "data": {
      "text/html": [
       "<div>\n",
       "<style scoped>\n",
       "    .dataframe tbody tr th:only-of-type {\n",
       "        vertical-align: middle;\n",
       "    }\n",
       "\n",
       "    .dataframe tbody tr th {\n",
       "        vertical-align: top;\n",
       "    }\n",
       "\n",
       "    .dataframe thead th {\n",
       "        text-align: right;\n",
       "    }\n",
       "</style>\n",
       "<table border=\"1\" class=\"dataframe\">\n",
       "  <thead>\n",
       "    <tr style=\"text-align: right;\">\n",
       "      <th></th>\n",
       "      <th>book_id</th>\n",
       "      <th>title</th>\n",
       "      <th>count_review</th>\n",
       "      <th>avg_rate</th>\n",
       "    </tr>\n",
       "  </thead>\n",
       "  <tbody>\n",
       "    <tr>\n",
       "      <th>0</th>\n",
       "      <td>652</td>\n",
       "      <td>The Body in the Library (Miss Marple  #3)</td>\n",
       "      <td>2.0</td>\n",
       "      <td>4.500000</td>\n",
       "    </tr>\n",
       "    <tr>\n",
       "      <th>1</th>\n",
       "      <td>273</td>\n",
       "      <td>Galápagos</td>\n",
       "      <td>2.0</td>\n",
       "      <td>4.500000</td>\n",
       "    </tr>\n",
       "    <tr>\n",
       "      <th>2</th>\n",
       "      <td>51</td>\n",
       "      <td>A Tree Grows in Brooklyn</td>\n",
       "      <td>5.0</td>\n",
       "      <td>4.250000</td>\n",
       "    </tr>\n",
       "    <tr>\n",
       "      <th>3</th>\n",
       "      <td>951</td>\n",
       "      <td>Undaunted Courage: The Pioneering First Missio...</td>\n",
       "      <td>2.0</td>\n",
       "      <td>4.000000</td>\n",
       "    </tr>\n",
       "    <tr>\n",
       "      <th>4</th>\n",
       "      <td>839</td>\n",
       "      <td>The Prophet</td>\n",
       "      <td>4.0</td>\n",
       "      <td>4.285714</td>\n",
       "    </tr>\n",
       "    <tr>\n",
       "      <th>...</th>\n",
       "      <td>...</td>\n",
       "      <td>...</td>\n",
       "      <td>...</td>\n",
       "      <td>...</td>\n",
       "    </tr>\n",
       "    <tr>\n",
       "      <th>995</th>\n",
       "      <td>64</td>\n",
       "      <td>Alice in Wonderland</td>\n",
       "      <td>4.0</td>\n",
       "      <td>4.230769</td>\n",
       "    </tr>\n",
       "    <tr>\n",
       "      <th>996</th>\n",
       "      <td>55</td>\n",
       "      <td>A Woman of Substance (Emma Harte Saga #1)</td>\n",
       "      <td>2.0</td>\n",
       "      <td>5.000000</td>\n",
       "    </tr>\n",
       "    <tr>\n",
       "      <th>997</th>\n",
       "      <td>148</td>\n",
       "      <td>Christine</td>\n",
       "      <td>3.0</td>\n",
       "      <td>3.428571</td>\n",
       "    </tr>\n",
       "    <tr>\n",
       "      <th>998</th>\n",
       "      <td>790</td>\n",
       "      <td>The Magicians' Guild (Black Magician Trilogy  #1)</td>\n",
       "      <td>2.0</td>\n",
       "      <td>3.500000</td>\n",
       "    </tr>\n",
       "    <tr>\n",
       "      <th>999</th>\n",
       "      <td>828</td>\n",
       "      <td>The Plot Against America</td>\n",
       "      <td>2.0</td>\n",
       "      <td>3.000000</td>\n",
       "    </tr>\n",
       "  </tbody>\n",
       "</table>\n",
       "<p>1000 rows × 4 columns</p>\n",
       "</div>"
      ],
      "text/plain": [
       "     book_id                                              title  count_review  \\\n",
       "0        652          The Body in the Library (Miss Marple  #3)           2.0   \n",
       "1        273                                          Galápagos           2.0   \n",
       "2         51                           A Tree Grows in Brooklyn           5.0   \n",
       "3        951  Undaunted Courage: The Pioneering First Missio...           2.0   \n",
       "4        839                                        The Prophet           4.0   \n",
       "..       ...                                                ...           ...   \n",
       "995       64                                Alice in Wonderland           4.0   \n",
       "996       55          A Woman of Substance (Emma Harte Saga #1)           2.0   \n",
       "997      148                                          Christine           3.0   \n",
       "998      790  The Magicians' Guild (Black Magician Trilogy  #1)           2.0   \n",
       "999      828                           The Plot Against America           2.0   \n",
       "\n",
       "     avg_rate  \n",
       "0    4.500000  \n",
       "1    4.500000  \n",
       "2    4.250000  \n",
       "3    4.000000  \n",
       "4    4.285714  \n",
       "..        ...  \n",
       "995  4.230769  \n",
       "996  5.000000  \n",
       "997  3.428571  \n",
       "998  3.500000  \n",
       "999  3.000000  \n",
       "\n",
       "[1000 rows x 4 columns]"
      ]
     },
     "execution_count": 8,
     "metadata": {},
     "output_type": "execute_result"
    }
   ],
   "source": [
    "query =''' WITH rate AS (\n",
    "               SELECT book_id,\n",
    "                      AVG(rating) AS avg_rate\n",
    "               FROM ratings\n",
    "               GROUP BY book_id \n",
    "           ),\n",
    "           review AS(\n",
    "               SELECT book_id,\n",
    "                      COUNT(review_id) AS count_review\n",
    "               FROM reviews\n",
    "               GROUP BY book_id\n",
    "           )\n",
    "           SELECT books.book_id, \n",
    "                  books.title, \n",
    "                  review.count_review, \n",
    "                  rate.avg_rate\n",
    "           FROM books \n",
    "           LEFT JOIN review ON review.book_id = books.book_id\n",
    "           LEFT JOIN rate ON books.book_id = rate.book_id\n",
    "           '''\n",
    "con=engine.connect()\n",
    "pd.io.sql.read_sql(sql=text(query), con = con)\n"
   ]
  },
  {
   "cell_type": "code",
   "execution_count": 9,
   "metadata": {},
   "outputs": [
    {
     "data": {
      "text/html": [
       "<div>\n",
       "<style scoped>\n",
       "    .dataframe tbody tr th:only-of-type {\n",
       "        vertical-align: middle;\n",
       "    }\n",
       "\n",
       "    .dataframe tbody tr th {\n",
       "        vertical-align: top;\n",
       "    }\n",
       "\n",
       "    .dataframe thead th {\n",
       "        text-align: right;\n",
       "    }\n",
       "</style>\n",
       "<table border=\"1\" class=\"dataframe\">\n",
       "  <thead>\n",
       "    <tr style=\"text-align: right;\">\n",
       "      <th></th>\n",
       "      <th>book_id</th>\n",
       "      <th>title</th>\n",
       "      <th>count_review</th>\n",
       "      <th>avg_rate</th>\n",
       "    </tr>\n",
       "  </thead>\n",
       "  <tbody>\n",
       "    <tr>\n",
       "      <th>0</th>\n",
       "      <td>652</td>\n",
       "      <td>The Body in the Library (Miss Marple  #3)</td>\n",
       "      <td>2.0</td>\n",
       "      <td>4.500000</td>\n",
       "    </tr>\n",
       "    <tr>\n",
       "      <th>1</th>\n",
       "      <td>273</td>\n",
       "      <td>Galápagos</td>\n",
       "      <td>2.0</td>\n",
       "      <td>4.500000</td>\n",
       "    </tr>\n",
       "    <tr>\n",
       "      <th>2</th>\n",
       "      <td>51</td>\n",
       "      <td>A Tree Grows in Brooklyn</td>\n",
       "      <td>5.0</td>\n",
       "      <td>4.250000</td>\n",
       "    </tr>\n",
       "    <tr>\n",
       "      <th>3</th>\n",
       "      <td>951</td>\n",
       "      <td>Undaunted Courage: The Pioneering First Missio...</td>\n",
       "      <td>2.0</td>\n",
       "      <td>4.000000</td>\n",
       "    </tr>\n",
       "    <tr>\n",
       "      <th>4</th>\n",
       "      <td>839</td>\n",
       "      <td>The Prophet</td>\n",
       "      <td>4.0</td>\n",
       "      <td>4.285714</td>\n",
       "    </tr>\n",
       "    <tr>\n",
       "      <th>...</th>\n",
       "      <td>...</td>\n",
       "      <td>...</td>\n",
       "      <td>...</td>\n",
       "      <td>...</td>\n",
       "    </tr>\n",
       "    <tr>\n",
       "      <th>995</th>\n",
       "      <td>64</td>\n",
       "      <td>Alice in Wonderland</td>\n",
       "      <td>4.0</td>\n",
       "      <td>4.230769</td>\n",
       "    </tr>\n",
       "    <tr>\n",
       "      <th>996</th>\n",
       "      <td>55</td>\n",
       "      <td>A Woman of Substance (Emma Harte Saga #1)</td>\n",
       "      <td>2.0</td>\n",
       "      <td>5.000000</td>\n",
       "    </tr>\n",
       "    <tr>\n",
       "      <th>997</th>\n",
       "      <td>148</td>\n",
       "      <td>Christine</td>\n",
       "      <td>3.0</td>\n",
       "      <td>3.428571</td>\n",
       "    </tr>\n",
       "    <tr>\n",
       "      <th>998</th>\n",
       "      <td>790</td>\n",
       "      <td>The Magicians' Guild (Black Magician Trilogy  #1)</td>\n",
       "      <td>2.0</td>\n",
       "      <td>3.500000</td>\n",
       "    </tr>\n",
       "    <tr>\n",
       "      <th>999</th>\n",
       "      <td>828</td>\n",
       "      <td>The Plot Against America</td>\n",
       "      <td>2.0</td>\n",
       "      <td>3.000000</td>\n",
       "    </tr>\n",
       "  </tbody>\n",
       "</table>\n",
       "<p>1000 rows × 4 columns</p>\n",
       "</div>"
      ],
      "text/plain": [
       "     book_id                                              title  count_review  \\\n",
       "0        652          The Body in the Library (Miss Marple  #3)           2.0   \n",
       "1        273                                          Galápagos           2.0   \n",
       "2         51                           A Tree Grows in Brooklyn           5.0   \n",
       "3        951  Undaunted Courage: The Pioneering First Missio...           2.0   \n",
       "4        839                                        The Prophet           4.0   \n",
       "..       ...                                                ...           ...   \n",
       "995       64                                Alice in Wonderland           4.0   \n",
       "996       55          A Woman of Substance (Emma Harte Saga #1)           2.0   \n",
       "997      148                                          Christine           3.0   \n",
       "998      790  The Magicians' Guild (Black Magician Trilogy  #1)           2.0   \n",
       "999      828                           The Plot Against America           2.0   \n",
       "\n",
       "     avg_rate  \n",
       "0    4.500000  \n",
       "1    4.500000  \n",
       "2    4.250000  \n",
       "3    4.000000  \n",
       "4    4.285714  \n",
       "..        ...  \n",
       "995  4.230769  \n",
       "996  5.000000  \n",
       "997  3.428571  \n",
       "998  3.500000  \n",
       "999  3.000000  \n",
       "\n",
       "[1000 rows x 4 columns]"
      ]
     },
     "execution_count": 9,
     "metadata": {},
     "output_type": "execute_result"
    }
   ],
   "source": [
    "query = '''SELECT books.book_id,\n",
    "                  books.title,\n",
    "                  review.count_review, \n",
    "                  rate.avg_rate\n",
    "           FROM books \n",
    "           LEFT JOIN(\n",
    "                    SELECT book_id,\n",
    "                           COUNT(review_id) AS count_review\n",
    "                    FROM reviews\n",
    "                    GROUP BY book_id \n",
    "           ) AS review ON books.book_id = review.book_id\n",
    "           LEFT JOIN(\n",
    "                    SELECT book_id,\n",
    "                           AVG(rating) AS avg_rate\n",
    "                    FROM ratings\n",
    "                    GROUP BY book_id \n",
    "           ) AS rate ON books.book_id = rate.book_id\n",
    "           '''\n",
    "con=engine.connect()\n",
    "pd.io.sql.read_sql(sql=text(query), con = con)"
   ]
  },
  {
   "cell_type": "markdown",
   "metadata": {},
   "source": [
    "В последних двух столбцах посчитаны количество обзоров и средняя оценка к каждой книге"
   ]
  },
  {
   "cell_type": "markdown",
   "metadata": {},
   "source": [
    "### Определим издательство, которое выпустило наибольшее число книг толще 50 страниц — так вы исключите из анализа брошюры"
   ]
  },
  {
   "cell_type": "code",
   "execution_count": 10,
   "metadata": {},
   "outputs": [
    {
     "data": {
      "text/html": [
       "<div>\n",
       "<style scoped>\n",
       "    .dataframe tbody tr th:only-of-type {\n",
       "        vertical-align: middle;\n",
       "    }\n",
       "\n",
       "    .dataframe tbody tr th {\n",
       "        vertical-align: top;\n",
       "    }\n",
       "\n",
       "    .dataframe thead th {\n",
       "        text-align: right;\n",
       "    }\n",
       "</style>\n",
       "<table border=\"1\" class=\"dataframe\">\n",
       "  <thead>\n",
       "    <tr style=\"text-align: right;\">\n",
       "      <th></th>\n",
       "      <th>publisher_id</th>\n",
       "      <th>publisher</th>\n",
       "      <th>count_books</th>\n",
       "    </tr>\n",
       "  </thead>\n",
       "  <tbody>\n",
       "    <tr>\n",
       "      <th>0</th>\n",
       "      <td>212</td>\n",
       "      <td>Penguin Books</td>\n",
       "      <td>42</td>\n",
       "    </tr>\n",
       "  </tbody>\n",
       "</table>\n",
       "</div>"
      ],
      "text/plain": [
       "   publisher_id      publisher  count_books\n",
       "0           212  Penguin Books           42"
      ]
     },
     "execution_count": 10,
     "metadata": {},
     "output_type": "execute_result"
    }
   ],
   "source": [
    "query = '''SELECT publishers.publisher_id, \n",
    "                  publishers.publisher, \n",
    "                  COUNT(books.book_id) as count_books\n",
    "           FROM publishers \n",
    "           JOIN books ON publishers.publisher_id = books.publisher_id\n",
    "           WHERE books.num_pages > 50\n",
    "           GROUP BY publishers.publisher_id\n",
    "           ORDER BY count_books DESC\n",
    "           LIMIT 1\n",
    "           '''\n",
    "con=engine.connect()\n",
    "pd.io.sql.read_sql(sql=text(query), con = con)"
   ]
  },
  {
   "cell_type": "markdown",
   "metadata": {},
   "source": [
    "Издательство Penguin Books выпустило 42 книги."
   ]
  },
  {
   "cell_type": "markdown",
   "metadata": {},
   "source": [
    "### Определим автора с самой высокой средней оценкой книг — учитывайте только книги с 50 и более оценками"
   ]
  },
  {
   "cell_type": "code",
   "execution_count": 11,
   "metadata": {},
   "outputs": [
    {
     "data": {
      "text/html": [
       "<div>\n",
       "<style scoped>\n",
       "    .dataframe tbody tr th:only-of-type {\n",
       "        vertical-align: middle;\n",
       "    }\n",
       "\n",
       "    .dataframe tbody tr th {\n",
       "        vertical-align: top;\n",
       "    }\n",
       "\n",
       "    .dataframe thead th {\n",
       "        text-align: right;\n",
       "    }\n",
       "</style>\n",
       "<table border=\"1\" class=\"dataframe\">\n",
       "  <thead>\n",
       "    <tr style=\"text-align: right;\">\n",
       "      <th></th>\n",
       "      <th>author</th>\n",
       "      <th>author_rating</th>\n",
       "    </tr>\n",
       "  </thead>\n",
       "  <tbody>\n",
       "    <tr>\n",
       "      <th>0</th>\n",
       "      <td>J.K. Rowling/Mary GrandPré</td>\n",
       "      <td>4.283844</td>\n",
       "    </tr>\n",
       "  </tbody>\n",
       "</table>\n",
       "</div>"
      ],
      "text/plain": [
       "                       author  author_rating\n",
       "0  J.K. Rowling/Mary GrandPré       4.283844"
      ]
     },
     "execution_count": 11,
     "metadata": {},
     "output_type": "execute_result"
    }
   ],
   "source": [
    "query = '''WITH ratedbooks AS(\n",
    "           SELECT books.author_id, \n",
    "                  books.book_id,\n",
    "                  COUNT(ratings.rating_id) as count,\n",
    "                  AVG(ratings.rating) as avgrating\n",
    "           FROM books \n",
    "           JOIN ratings ON books.book_id = ratings.book_id\n",
    "           GROUP BY books.book_id\n",
    "           HAVING COUNT(ratings.rating_id) > 50)\n",
    "           \n",
    "           SELECT authors.author,\n",
    "                  AVG(ratedbooks.avgrating) as author_rating\n",
    "           FROM authors \n",
    "           JOIN ratedbooks ON authors.author_id = ratedbooks.author_id\n",
    "           GROUP BY authors.author\n",
    "           ORDER BY author_rating DESC\n",
    "           LIMIT 1\n",
    "           '''\n",
    "con=engine.connect()\n",
    "pd.io.sql.read_sql(sql=text(query), con = con)"
   ]
  },
  {
   "cell_type": "markdown",
   "metadata": {},
   "source": [
    "Автор с самой высокой средний оценкой книг - это Джоан Роулинг"
   ]
  },
  {
   "cell_type": "markdown",
   "metadata": {},
   "source": [
    "### Посчитаем среднее количество обзоров от пользователей, которые поставили больше 48 оценок."
   ]
  },
  {
   "cell_type": "code",
   "execution_count": 12,
   "metadata": {},
   "outputs": [
    {
     "data": {
      "text/html": [
       "<div>\n",
       "<style scoped>\n",
       "    .dataframe tbody tr th:only-of-type {\n",
       "        vertical-align: middle;\n",
       "    }\n",
       "\n",
       "    .dataframe tbody tr th {\n",
       "        vertical-align: top;\n",
       "    }\n",
       "\n",
       "    .dataframe thead th {\n",
       "        text-align: right;\n",
       "    }\n",
       "</style>\n",
       "<table border=\"1\" class=\"dataframe\">\n",
       "  <thead>\n",
       "    <tr style=\"text-align: right;\">\n",
       "      <th></th>\n",
       "      <th>avg</th>\n",
       "    </tr>\n",
       "  </thead>\n",
       "  <tbody>\n",
       "    <tr>\n",
       "      <th>0</th>\n",
       "      <td>24.0</td>\n",
       "    </tr>\n",
       "  </tbody>\n",
       "</table>\n",
       "</div>"
      ],
      "text/plain": [
       "    avg\n",
       "0  24.0"
      ]
     },
     "execution_count": 12,
     "metadata": {},
     "output_type": "execute_result"
    }
   ],
   "source": [
    "query = '''WITH num_ratings AS (\n",
    "           SELECT ratings.username as username,\n",
    "                  COUNT(ratings.rating)\n",
    "           FROM ratings\n",
    "           GROUP BY ratings.username\n",
    "           HAVING COUNT(ratings.rating) > 48),\n",
    "        \n",
    "           num_reviews AS (\n",
    "           SELECT num_ratings.username as username,\n",
    "                  COUNT(reviews.text)\n",
    "           FROM num_ratings JOIN reviews\n",
    "           ON num_ratings.username = reviews.username\n",
    "           GROUP BY num_ratings.username)\n",
    "           \n",
    "           SELECT AVG(num_reviews.count)\n",
    "           FROM num_reviews\n",
    "           \n",
    "           '''\n",
    "con=engine.connect()\n",
    "pd.io.sql.read_sql(sql=text(query), con = con)"
   ]
  },
  {
   "cell_type": "markdown",
   "metadata": {},
   "source": [
    "Среднее количество обзоров от пользователей, которые поставили больше 48 оценок, равно 24"
   ]
  },
  {
   "cell_type": "markdown",
   "metadata": {},
   "source": [
    "# Вывод"
   ]
  },
  {
   "cell_type": "markdown",
   "metadata": {},
   "source": [
    "В данном проекте, мы подключились к серверу с базой данных, и ответили на следующие вопросы с помощью SQL:\n",
    "\n",
    "1) Посчитайте, сколько книг вышло после 1 января 2000 года. **ОТВЕТ: 819**\n",
    "   \n",
    "2) Для каждой книги посчитайте количество обзоров и среднюю оценку. **ОТВЕТ: Выгружен в виде таблицы**\n",
    "\n",
    "3) Определите издательство, которое выпустило наибольшее число книг толще 50 страниц — так вы исключите из анализа брошюры. **ОТВЕТ: Издательство Penguin Books выпустило 42 книги.**\n",
    "\n",
    "4) Определите автора с самой высокой средней оценкой книг — учитывайте только книги с 50 и более оценками. **ОТВЕТ: Автор с самой высокой средний оценкой книг - это Джоан Роулинг**\n",
    "\n",
    "5) Посчитайте среднее количество обзоров от пользователей, которые поставили больше 48 оценок. **ОТВЕТ: Среднее количество обзоров от пользователей, которые поставили больше 48 оценок, равно 24**"
   ]
  }
 ],
 "metadata": {
  "ExecuteTimeLog": [
   {
    "duration": 22257,
    "start_time": "2023-07-22T09:17:46.520Z"
   },
   {
    "duration": 6,
    "start_time": "2023-07-22T09:29:08.779Z"
   },
   {
    "duration": 428,
    "start_time": "2023-07-22T09:29:12.114Z"
   },
   {
    "duration": 231,
    "start_time": "2023-07-22T09:30:41.900Z"
   },
   {
    "duration": 103,
    "start_time": "2023-07-22T09:33:02.711Z"
   },
   {
    "duration": 83,
    "start_time": "2023-07-22T09:33:07.499Z"
   },
   {
    "duration": 84,
    "start_time": "2023-07-22T09:33:10.003Z"
   },
   {
    "duration": 110,
    "start_time": "2023-07-22T09:33:54.839Z"
   },
   {
    "duration": 113,
    "start_time": "2023-07-22T09:34:13.048Z"
   },
   {
    "duration": 104,
    "start_time": "2023-07-22T09:34:30.542Z"
   },
   {
    "duration": 97,
    "start_time": "2023-07-22T09:39:59.451Z"
   },
   {
    "duration": 209,
    "start_time": "2023-07-22T09:45:19.074Z"
   },
   {
    "duration": 92,
    "start_time": "2023-07-22T09:45:34.435Z"
   },
   {
    "duration": 306,
    "start_time": "2023-07-22T09:46:45.740Z"
   },
   {
    "duration": 232,
    "start_time": "2023-07-22T09:47:20.008Z"
   },
   {
    "duration": 70,
    "start_time": "2023-07-22T09:47:33.667Z"
   },
   {
    "duration": 269,
    "start_time": "2023-07-22T10:02:33.434Z"
   },
   {
    "duration": 122,
    "start_time": "2023-07-22T10:03:32.499Z"
   },
   {
    "duration": 94,
    "start_time": "2023-07-22T10:04:28.404Z"
   },
   {
    "duration": 268,
    "start_time": "2023-07-22T10:04:47.444Z"
   },
   {
    "duration": 126,
    "start_time": "2023-07-22T10:10:59.194Z"
   },
   {
    "duration": 119,
    "start_time": "2023-07-22T10:17:58.608Z"
   },
   {
    "duration": 112,
    "start_time": "2023-07-22T10:18:10.748Z"
   },
   {
    "duration": 77,
    "start_time": "2023-07-22T10:26:22.451Z"
   },
   {
    "duration": 110,
    "start_time": "2023-07-22T10:27:11.341Z"
   },
   {
    "duration": 51,
    "start_time": "2023-07-22T10:28:32.393Z"
   },
   {
    "duration": 64,
    "start_time": "2023-07-22T10:30:06.175Z"
   },
   {
    "duration": 69,
    "start_time": "2023-07-22T10:30:37.199Z"
   },
   {
    "duration": 56,
    "start_time": "2023-07-22T10:30:55.176Z"
   },
   {
    "duration": 99,
    "start_time": "2023-07-22T10:59:00.546Z"
   },
   {
    "duration": 90,
    "start_time": "2023-07-22T10:59:11.183Z"
   },
   {
    "duration": 86,
    "start_time": "2023-07-22T11:03:07.834Z"
   },
   {
    "duration": 177,
    "start_time": "2023-07-22T11:03:46.884Z"
   },
   {
    "duration": 86,
    "start_time": "2023-07-22T11:04:04.525Z"
   },
   {
    "duration": 84,
    "start_time": "2023-07-22T11:04:10.505Z"
   },
   {
    "duration": 82,
    "start_time": "2023-07-22T11:04:17.423Z"
   },
   {
    "duration": 101,
    "start_time": "2023-07-22T11:05:50.539Z"
   },
   {
    "duration": 46,
    "start_time": "2023-07-22T11:06:37.789Z"
   },
   {
    "duration": 93,
    "start_time": "2023-07-22T11:12:56.070Z"
   },
   {
    "duration": 108,
    "start_time": "2023-07-22T11:14:56.592Z"
   },
   {
    "duration": 95,
    "start_time": "2023-07-22T11:21:10.740Z"
   },
   {
    "duration": 88,
    "start_time": "2023-07-22T11:23:16.680Z"
   },
   {
    "duration": 44,
    "start_time": "2023-07-22T11:23:31.695Z"
   },
   {
    "duration": 87,
    "start_time": "2023-07-22T11:23:37.218Z"
   },
   {
    "duration": 124,
    "start_time": "2023-07-22T11:23:48.179Z"
   },
   {
    "duration": 77,
    "start_time": "2023-07-22T11:24:18.787Z"
   },
   {
    "duration": 79,
    "start_time": "2023-07-22T11:25:17.845Z"
   },
   {
    "duration": 197,
    "start_time": "2023-07-22T11:26:11.534Z"
   },
   {
    "duration": 82,
    "start_time": "2023-07-22T11:26:19.421Z"
   },
   {
    "duration": 86,
    "start_time": "2023-07-22T11:29:12.126Z"
   },
   {
    "duration": 85,
    "start_time": "2023-07-22T11:33:09.312Z"
   },
   {
    "duration": 58,
    "start_time": "2023-07-22T11:43:00.311Z"
   },
   {
    "duration": 133,
    "start_time": "2023-07-22T11:44:13.096Z"
   },
   {
    "duration": 79,
    "start_time": "2023-07-22T11:44:23.434Z"
   },
   {
    "duration": 66,
    "start_time": "2023-07-22T11:48:46.677Z"
   },
   {
    "duration": 77,
    "start_time": "2023-07-22T11:49:04.273Z"
   },
   {
    "duration": 95,
    "start_time": "2023-07-22T11:55:21.903Z"
   },
   {
    "duration": 79,
    "start_time": "2023-07-22T11:55:59.684Z"
   },
   {
    "duration": 106,
    "start_time": "2023-07-22T11:56:14.611Z"
   },
   {
    "duration": 116,
    "start_time": "2023-07-22T11:56:22.579Z"
   },
   {
    "duration": 110,
    "start_time": "2023-07-22T11:58:45.718Z"
   },
   {
    "duration": 148,
    "start_time": "2023-07-22T11:59:18.345Z"
   },
   {
    "duration": 101,
    "start_time": "2023-07-22T11:59:30.912Z"
   },
   {
    "duration": 98,
    "start_time": "2023-07-22T12:04:04.311Z"
   },
   {
    "duration": 75,
    "start_time": "2023-07-22T12:04:11.672Z"
   },
   {
    "duration": 100,
    "start_time": "2023-07-22T12:05:08.887Z"
   },
   {
    "duration": 89,
    "start_time": "2023-07-22T12:05:54.894Z"
   },
   {
    "duration": 74,
    "start_time": "2023-07-22T12:06:21.512Z"
   },
   {
    "duration": 86,
    "start_time": "2023-07-22T12:06:43.453Z"
   },
   {
    "duration": 206,
    "start_time": "2023-07-22T12:08:11.597Z"
   },
   {
    "duration": 98,
    "start_time": "2023-07-22T12:09:03.652Z"
   },
   {
    "duration": 185,
    "start_time": "2023-07-22T12:09:08.980Z"
   },
   {
    "duration": 65,
    "start_time": "2023-07-22T12:09:17.755Z"
   },
   {
    "duration": 114,
    "start_time": "2023-07-22T12:11:02.985Z"
   },
   {
    "duration": 83,
    "start_time": "2023-07-22T12:12:26.950Z"
   },
   {
    "duration": 83,
    "start_time": "2023-07-22T12:13:53.199Z"
   },
   {
    "duration": 90,
    "start_time": "2023-07-22T12:14:11.545Z"
   },
   {
    "duration": 65,
    "start_time": "2023-07-22T12:14:27.288Z"
   },
   {
    "duration": 69,
    "start_time": "2023-07-22T12:14:33.189Z"
   },
   {
    "duration": 92,
    "start_time": "2023-07-22T12:15:02.431Z"
   },
   {
    "duration": 81,
    "start_time": "2023-07-22T12:15:11.879Z"
   },
   {
    "duration": 65,
    "start_time": "2023-07-22T12:15:23.678Z"
   },
   {
    "duration": 199,
    "start_time": "2023-07-22T12:15:32.790Z"
   },
   {
    "duration": 164,
    "start_time": "2023-07-22T12:17:01.084Z"
   },
   {
    "duration": 160,
    "start_time": "2023-07-22T12:17:16.974Z"
   },
   {
    "duration": 44,
    "start_time": "2023-07-22T12:18:12.980Z"
   },
   {
    "duration": 56,
    "start_time": "2023-07-22T12:18:59.195Z"
   },
   {
    "duration": 59,
    "start_time": "2023-07-22T12:19:04.678Z"
   },
   {
    "duration": 129,
    "start_time": "2023-07-22T12:22:35.784Z"
   },
   {
    "duration": 66,
    "start_time": "2023-07-22T12:25:57.080Z"
   },
   {
    "duration": 117,
    "start_time": "2023-07-22T12:42:51.588Z"
   },
   {
    "duration": 37936,
    "start_time": "2023-07-23T07:21:59.935Z"
   },
   {
    "duration": 238,
    "start_time": "2023-07-23T07:22:37.873Z"
   },
   {
    "duration": 179,
    "start_time": "2023-07-23T07:22:38.113Z"
   },
   {
    "duration": 58,
    "start_time": "2023-07-23T07:22:38.294Z"
   },
   {
    "duration": 52,
    "start_time": "2023-07-23T07:22:38.353Z"
   },
   {
    "duration": 84,
    "start_time": "2023-07-23T07:22:38.406Z"
   },
   {
    "duration": 224,
    "start_time": "2023-07-23T07:22:38.491Z"
   },
   {
    "duration": 56,
    "start_time": "2023-07-23T07:22:38.716Z"
   },
   {
    "duration": 94,
    "start_time": "2023-07-23T07:22:38.774Z"
   },
   {
    "duration": 55,
    "start_time": "2023-07-23T07:22:38.871Z"
   },
   {
    "duration": 59,
    "start_time": "2023-07-23T07:22:38.928Z"
   },
   {
    "duration": 63,
    "start_time": "2023-07-23T07:22:38.989Z"
   },
   {
    "duration": 13251,
    "start_time": "2023-07-23T07:31:14.074Z"
   },
   {
    "duration": 67,
    "start_time": "2023-07-23T07:31:27.327Z"
   },
   {
    "duration": 57,
    "start_time": "2023-07-23T07:31:27.396Z"
   },
   {
    "duration": 11,
    "start_time": "2023-07-23T07:31:27.454Z"
   },
   {
    "duration": 25,
    "start_time": "2023-07-23T07:31:27.467Z"
   },
   {
    "duration": 12,
    "start_time": "2023-07-23T07:31:27.493Z"
   },
   {
    "duration": 37,
    "start_time": "2023-07-23T07:31:27.507Z"
   },
   {
    "duration": 10,
    "start_time": "2023-07-23T07:31:27.545Z"
   },
   {
    "duration": 29,
    "start_time": "2023-07-23T07:31:27.557Z"
   },
   {
    "duration": 14,
    "start_time": "2023-07-23T07:31:27.588Z"
   },
   {
    "duration": 23,
    "start_time": "2023-07-23T07:31:27.603Z"
   },
   {
    "duration": 14,
    "start_time": "2023-07-23T07:31:27.628Z"
   },
   {
    "duration": 46,
    "start_time": "2023-07-23T09:09:33.923Z"
   },
   {
    "duration": 16863,
    "start_time": "2023-07-23T09:09:54.772Z"
   },
   {
    "duration": 71,
    "start_time": "2023-07-23T09:10:11.637Z"
   },
   {
    "duration": 60,
    "start_time": "2023-07-23T09:10:11.710Z"
   },
   {
    "duration": 9,
    "start_time": "2023-07-23T09:10:11.772Z"
   },
   {
    "duration": 23,
    "start_time": "2023-07-23T09:10:11.782Z"
   },
   {
    "duration": 27,
    "start_time": "2023-07-23T09:10:11.812Z"
   },
   {
    "duration": 31,
    "start_time": "2023-07-23T09:10:11.841Z"
   },
   {
    "duration": 9,
    "start_time": "2023-07-23T09:10:11.873Z"
   },
   {
    "duration": 0,
    "start_time": "2023-07-23T09:10:11.947Z"
   },
   {
    "duration": 0,
    "start_time": "2023-07-23T09:10:11.949Z"
   },
   {
    "duration": 0,
    "start_time": "2023-07-23T09:10:11.950Z"
   },
   {
    "duration": 0,
    "start_time": "2023-07-23T09:10:11.951Z"
   },
   {
    "duration": 0,
    "start_time": "2023-07-23T09:10:11.952Z"
   },
   {
    "duration": 21,
    "start_time": "2023-07-23T09:10:19.271Z"
   },
   {
    "duration": 109,
    "start_time": "2023-07-23T09:14:47.263Z"
   },
   {
    "duration": 93,
    "start_time": "2023-07-23T09:19:11.574Z"
   },
   {
    "duration": 21,
    "start_time": "2023-07-23T09:20:31.937Z"
   },
   {
    "duration": 23,
    "start_time": "2023-07-23T09:27:55.173Z"
   },
   {
    "duration": 136,
    "start_time": "2023-07-23T09:33:47.529Z"
   },
   {
    "duration": 7,
    "start_time": "2023-07-23T09:33:59.327Z"
   },
   {
    "duration": 26,
    "start_time": "2023-07-23T09:39:38.453Z"
   },
   {
    "duration": 28,
    "start_time": "2023-07-23T09:41:32.128Z"
   },
   {
    "duration": 21,
    "start_time": "2023-07-23T09:41:41.740Z"
   },
   {
    "duration": 22,
    "start_time": "2023-07-23T09:43:07.045Z"
   },
   {
    "duration": 20,
    "start_time": "2023-07-23T09:47:58.347Z"
   },
   {
    "duration": 32,
    "start_time": "2023-07-23T09:48:19.685Z"
   },
   {
    "duration": 93,
    "start_time": "2023-07-23T09:48:25.124Z"
   },
   {
    "duration": 6,
    "start_time": "2023-07-23T09:49:20.333Z"
   },
   {
    "duration": 114,
    "start_time": "2023-07-23T09:49:20.341Z"
   },
   {
    "duration": 109,
    "start_time": "2023-07-23T09:49:20.457Z"
   },
   {
    "duration": 10,
    "start_time": "2023-07-23T09:49:20.568Z"
   },
   {
    "duration": 45,
    "start_time": "2023-07-23T09:49:20.580Z"
   },
   {
    "duration": 21,
    "start_time": "2023-07-23T09:49:20.631Z"
   },
   {
    "duration": 38,
    "start_time": "2023-07-23T09:49:20.654Z"
   },
   {
    "duration": 10,
    "start_time": "2023-07-23T09:49:20.696Z"
   },
   {
    "duration": 50,
    "start_time": "2023-07-23T09:49:20.712Z"
   },
   {
    "duration": 21,
    "start_time": "2023-07-23T09:49:20.764Z"
   },
   {
    "duration": 11,
    "start_time": "2023-07-23T09:49:20.787Z"
   },
   {
    "duration": 52,
    "start_time": "2023-07-23T09:49:20.799Z"
   },
   {
    "duration": 12,
    "start_time": "2023-07-23T09:49:20.853Z"
   }
  ],
  "kernelspec": {
   "display_name": "Python 3 (ipykernel)",
   "language": "python",
   "name": "python3"
  },
  "language_info": {
   "codemirror_mode": {
    "name": "ipython",
    "version": 3
   },
   "file_extension": ".py",
   "mimetype": "text/x-python",
   "name": "python",
   "nbconvert_exporter": "python",
   "pygments_lexer": "ipython3",
   "version": "3.9.7"
  },
  "toc": {
   "base_numbering": 1,
   "nav_menu": {},
   "number_sections": true,
   "sideBar": true,
   "skip_h1_title": true,
   "title_cell": "Table of Contents",
   "title_sidebar": "Contents",
   "toc_cell": false,
   "toc_position": {},
   "toc_section_display": true,
   "toc_window_display": false
  }
 },
 "nbformat": 4,
 "nbformat_minor": 2
}
