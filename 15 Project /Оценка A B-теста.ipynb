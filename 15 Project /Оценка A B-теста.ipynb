{
 "cells": [
  {
   "cell_type": "markdown",
   "id": "93a44381",
   "metadata": {},
   "source": [
    "# Описание проекта"
   ]
  },
  {
   "cell_type": "markdown",
   "id": "12bc4710",
   "metadata": {},
   "source": [
    "Оценить корректность проведения A/B-теста и проанализировать его результаты.\n",
    "\n",
    "**Чтобы оценить корректность проведения теста:**\n",
    "- удостовериться, что нет пересечений с конкурирующим тестом и нет пользователей, участвующих в двух группах теста одновременно;\n",
    "- проверить равномерность распределения пользователей по тестовым группам и правильность их формирования.\n",
    "\n",
    "**Ход исследования:**\n",
    "\n",
    "**1) Предобработка данных:**\n",
    "  - Проверить требуется ли преобразование типов данных\n",
    "  - Описать природу пропущенных значений и дубликатов, если они обнаружатся\n",
    "\n",
    "**2) Оценить корректность проведения теста. Обратить внимание на:**  \n",
    "  - Соответствие данных требованиям технического задания. Проверить корректность всех пунктов технического задания\n",
    "  - Время проведения теста. Убедиться, что оно не совпадает с маркетинговыми и другими активностями\n",
    "  - Аудиторию теста. Удостовериться, что нет пересечений с конкурирующим тестом и нет пользователей, участвующих в двух группах теста одновременно. Проверить равномерность распределения по тестовым группам и правильность их формирования.\n",
    "  \n",
    "**3) Провести исследовательский анализ данных:** \n",
    "  - Количество событий на пользователя одинаково распределены в выборках?\n",
    "  - Как число событий в выборках распределено по дням?\n",
    "  - Как меняется конверсия в воронке в выборках на разных этапах?\n",
    "  - Какие особенности данных нужно учесть, прежде чем приступать к A/Bтестированию?\n",
    "\n",
    "**4) Оценить результаты A/B-тестирования:**\n",
    "  - Что можно сказать про результаты A/В-тестирования?\n",
    "  - Проверьте статистическую разницу долей z-критерием.\n",
    "\n",
    "**5) Описать выводы по этапу исследовательского анализа данных и попроведённой оценке результатов A/B-тестирования. Сделать общее заключение о корректности проведения теста.**\n"
   ]
  },
  {
   "cell_type": "markdown",
   "id": "35806502",
   "metadata": {},
   "source": [
    "# Подключение библиотек и загрузка данных"
   ]
  },
  {
   "cell_type": "markdown",
   "id": "c02edde6",
   "metadata": {},
   "source": [
    "Подключим библиотеки, которые нужны для исследования"
   ]
  },
  {
   "cell_type": "code",
   "execution_count": 97,
   "id": "25140a0d",
   "metadata": {},
   "outputs": [],
   "source": [
    "import pandas as pd\n",
    "import numpy as np\n",
    "import seaborn as sns\n",
    "import matplotlib.pyplot as plt\n",
    "from scipy import stats as st\n",
    "import math as mth\n",
    "import plotly.express as px\n",
    "from plotly import graph_objects as go\n",
    "import random\n",
    "import warnings"
   ]
  },
  {
   "cell_type": "markdown",
   "id": "90cbe5b0",
   "metadata": {},
   "source": [
    "**1) Загрузим датасет `final_ab_events.csv`, в котором содержатся действия новых пользователей в период с 7 декабря 2020 по 4 января 2021 года.**"
   ]
  },
  {
   "cell_type": "code",
   "execution_count": 50,
   "id": "8e8d7e5b",
   "metadata": {},
   "outputs": [
    {
     "data": {
      "text/html": [
       "<div>\n",
       "<style scoped>\n",
       "    .dataframe tbody tr th:only-of-type {\n",
       "        vertical-align: middle;\n",
       "    }\n",
       "\n",
       "    .dataframe tbody tr th {\n",
       "        vertical-align: top;\n",
       "    }\n",
       "\n",
       "    .dataframe thead th {\n",
       "        text-align: right;\n",
       "    }\n",
       "</style>\n",
       "<table border=\"1\" class=\"dataframe\">\n",
       "  <thead>\n",
       "    <tr style=\"text-align: right;\">\n",
       "      <th></th>\n",
       "      <th>user_id</th>\n",
       "      <th>event_dt</th>\n",
       "      <th>event_name</th>\n",
       "      <th>details</th>\n",
       "    </tr>\n",
       "  </thead>\n",
       "  <tbody>\n",
       "    <tr>\n",
       "      <th>0</th>\n",
       "      <td>E1BDDCE0DAFA2679</td>\n",
       "      <td>2020-12-07 20:22:03</td>\n",
       "      <td>purchase</td>\n",
       "      <td>99.99</td>\n",
       "    </tr>\n",
       "    <tr>\n",
       "      <th>1</th>\n",
       "      <td>7B6452F081F49504</td>\n",
       "      <td>2020-12-07 09:22:53</td>\n",
       "      <td>purchase</td>\n",
       "      <td>9.99</td>\n",
       "    </tr>\n",
       "    <tr>\n",
       "      <th>2</th>\n",
       "      <td>9CD9F34546DF254C</td>\n",
       "      <td>2020-12-07 12:59:29</td>\n",
       "      <td>purchase</td>\n",
       "      <td>4.99</td>\n",
       "    </tr>\n",
       "    <tr>\n",
       "      <th>3</th>\n",
       "      <td>96F27A054B191457</td>\n",
       "      <td>2020-12-07 04:02:40</td>\n",
       "      <td>purchase</td>\n",
       "      <td>4.99</td>\n",
       "    </tr>\n",
       "    <tr>\n",
       "      <th>4</th>\n",
       "      <td>1FD7660FDF94CA1F</td>\n",
       "      <td>2020-12-07 10:15:09</td>\n",
       "      <td>purchase</td>\n",
       "      <td>4.99</td>\n",
       "    </tr>\n",
       "  </tbody>\n",
       "</table>\n",
       "</div>"
      ],
      "text/plain": [
       "            user_id             event_dt event_name  details\n",
       "0  E1BDDCE0DAFA2679  2020-12-07 20:22:03   purchase    99.99\n",
       "1  7B6452F081F49504  2020-12-07 09:22:53   purchase     9.99\n",
       "2  9CD9F34546DF254C  2020-12-07 12:59:29   purchase     4.99\n",
       "3  96F27A054B191457  2020-12-07 04:02:40   purchase     4.99\n",
       "4  1FD7660FDF94CA1F  2020-12-07 10:15:09   purchase     4.99"
      ]
     },
     "metadata": {},
     "output_type": "display_data"
    },
    {
     "name": "stdout",
     "output_type": "stream",
     "text": [
      "<class 'pandas.core.frame.DataFrame'>\n",
      "RangeIndex: 440317 entries, 0 to 440316\n",
      "Data columns (total 4 columns):\n",
      " #   Column      Non-Null Count   Dtype  \n",
      "---  ------      --------------   -----  \n",
      " 0   user_id     440317 non-null  object \n",
      " 1   event_dt    440317 non-null  object \n",
      " 2   event_name  440317 non-null  object \n",
      " 3   details     62740 non-null   float64\n",
      "dtypes: float64(1), object(3)\n",
      "memory usage: 13.4+ MB\n"
     ]
    }
   ],
   "source": [
    "events = pd.read_csv('final_ab_events.csv')\n",
    "display(events.head())\n",
    "events.info()"
   ]
  },
  {
   "cell_type": "markdown",
   "id": "c2f947de",
   "metadata": {},
   "source": [
    "**2) Загрузим датасет `ab_project_marketing_events.csv`, в котором содержится календарь маркетинговых событий на 2020 год.**"
   ]
  },
  {
   "cell_type": "code",
   "execution_count": 51,
   "id": "34506c72",
   "metadata": {},
   "outputs": [
    {
     "data": {
      "text/html": [
       "<div>\n",
       "<style scoped>\n",
       "    .dataframe tbody tr th:only-of-type {\n",
       "        vertical-align: middle;\n",
       "    }\n",
       "\n",
       "    .dataframe tbody tr th {\n",
       "        vertical-align: top;\n",
       "    }\n",
       "\n",
       "    .dataframe thead th {\n",
       "        text-align: right;\n",
       "    }\n",
       "</style>\n",
       "<table border=\"1\" class=\"dataframe\">\n",
       "  <thead>\n",
       "    <tr style=\"text-align: right;\">\n",
       "      <th></th>\n",
       "      <th>name</th>\n",
       "      <th>regions</th>\n",
       "      <th>start_dt</th>\n",
       "      <th>finish_dt</th>\n",
       "    </tr>\n",
       "  </thead>\n",
       "  <tbody>\n",
       "    <tr>\n",
       "      <th>0</th>\n",
       "      <td>Christmas&amp;New Year Promo</td>\n",
       "      <td>EU, N.America</td>\n",
       "      <td>2020-12-25</td>\n",
       "      <td>2021-01-03</td>\n",
       "    </tr>\n",
       "    <tr>\n",
       "      <th>1</th>\n",
       "      <td>St. Valentine's Day Giveaway</td>\n",
       "      <td>EU, CIS, APAC, N.America</td>\n",
       "      <td>2020-02-14</td>\n",
       "      <td>2020-02-16</td>\n",
       "    </tr>\n",
       "    <tr>\n",
       "      <th>2</th>\n",
       "      <td>St. Patric's Day Promo</td>\n",
       "      <td>EU, N.America</td>\n",
       "      <td>2020-03-17</td>\n",
       "      <td>2020-03-19</td>\n",
       "    </tr>\n",
       "    <tr>\n",
       "      <th>3</th>\n",
       "      <td>Easter Promo</td>\n",
       "      <td>EU, CIS, APAC, N.America</td>\n",
       "      <td>2020-04-12</td>\n",
       "      <td>2020-04-19</td>\n",
       "    </tr>\n",
       "    <tr>\n",
       "      <th>4</th>\n",
       "      <td>4th of July Promo</td>\n",
       "      <td>N.America</td>\n",
       "      <td>2020-07-04</td>\n",
       "      <td>2020-07-11</td>\n",
       "    </tr>\n",
       "  </tbody>\n",
       "</table>\n",
       "</div>"
      ],
      "text/plain": [
       "                           name                   regions    start_dt  \\\n",
       "0      Christmas&New Year Promo             EU, N.America  2020-12-25   \n",
       "1  St. Valentine's Day Giveaway  EU, CIS, APAC, N.America  2020-02-14   \n",
       "2        St. Patric's Day Promo             EU, N.America  2020-03-17   \n",
       "3                  Easter Promo  EU, CIS, APAC, N.America  2020-04-12   \n",
       "4             4th of July Promo                 N.America  2020-07-04   \n",
       "\n",
       "    finish_dt  \n",
       "0  2021-01-03  \n",
       "1  2020-02-16  \n",
       "2  2020-03-19  \n",
       "3  2020-04-19  \n",
       "4  2020-07-11  "
      ]
     },
     "metadata": {},
     "output_type": "display_data"
    },
    {
     "name": "stdout",
     "output_type": "stream",
     "text": [
      "<class 'pandas.core.frame.DataFrame'>\n",
      "RangeIndex: 14 entries, 0 to 13\n",
      "Data columns (total 4 columns):\n",
      " #   Column     Non-Null Count  Dtype \n",
      "---  ------     --------------  ----- \n",
      " 0   name       14 non-null     object\n",
      " 1   regions    14 non-null     object\n",
      " 2   start_dt   14 non-null     object\n",
      " 3   finish_dt  14 non-null     object\n",
      "dtypes: object(4)\n",
      "memory usage: 576.0+ bytes\n"
     ]
    }
   ],
   "source": [
    "marketing_events = pd.read_csv('ab_project_marketing_events.csv')\n",
    "display(marketing_events.head())\n",
    "marketing_events.info()"
   ]
  },
  {
   "cell_type": "markdown",
   "id": "1ec91642",
   "metadata": {},
   "source": [
    "**3) Загрузим датасет `final_ab_new_users.csv`, в котором содержатся пользователи, зарегистрировавшиеся с 7 до 21 декабря 2020 года**"
   ]
  },
  {
   "cell_type": "code",
   "execution_count": 52,
   "id": "624c8105",
   "metadata": {},
   "outputs": [
    {
     "data": {
      "text/html": [
       "<div>\n",
       "<style scoped>\n",
       "    .dataframe tbody tr th:only-of-type {\n",
       "        vertical-align: middle;\n",
       "    }\n",
       "\n",
       "    .dataframe tbody tr th {\n",
       "        vertical-align: top;\n",
       "    }\n",
       "\n",
       "    .dataframe thead th {\n",
       "        text-align: right;\n",
       "    }\n",
       "</style>\n",
       "<table border=\"1\" class=\"dataframe\">\n",
       "  <thead>\n",
       "    <tr style=\"text-align: right;\">\n",
       "      <th></th>\n",
       "      <th>user_id</th>\n",
       "      <th>first_date</th>\n",
       "      <th>region</th>\n",
       "      <th>device</th>\n",
       "    </tr>\n",
       "  </thead>\n",
       "  <tbody>\n",
       "    <tr>\n",
       "      <th>0</th>\n",
       "      <td>D72A72121175D8BE</td>\n",
       "      <td>2020-12-07</td>\n",
       "      <td>EU</td>\n",
       "      <td>PC</td>\n",
       "    </tr>\n",
       "    <tr>\n",
       "      <th>1</th>\n",
       "      <td>F1C668619DFE6E65</td>\n",
       "      <td>2020-12-07</td>\n",
       "      <td>N.America</td>\n",
       "      <td>Android</td>\n",
       "    </tr>\n",
       "    <tr>\n",
       "      <th>2</th>\n",
       "      <td>2E1BF1D4C37EA01F</td>\n",
       "      <td>2020-12-07</td>\n",
       "      <td>EU</td>\n",
       "      <td>PC</td>\n",
       "    </tr>\n",
       "    <tr>\n",
       "      <th>3</th>\n",
       "      <td>50734A22C0C63768</td>\n",
       "      <td>2020-12-07</td>\n",
       "      <td>EU</td>\n",
       "      <td>iPhone</td>\n",
       "    </tr>\n",
       "    <tr>\n",
       "      <th>4</th>\n",
       "      <td>E1BDDCE0DAFA2679</td>\n",
       "      <td>2020-12-07</td>\n",
       "      <td>N.America</td>\n",
       "      <td>iPhone</td>\n",
       "    </tr>\n",
       "  </tbody>\n",
       "</table>\n",
       "</div>"
      ],
      "text/plain": [
       "            user_id  first_date     region   device\n",
       "0  D72A72121175D8BE  2020-12-07         EU       PC\n",
       "1  F1C668619DFE6E65  2020-12-07  N.America  Android\n",
       "2  2E1BF1D4C37EA01F  2020-12-07         EU       PC\n",
       "3  50734A22C0C63768  2020-12-07         EU   iPhone\n",
       "4  E1BDDCE0DAFA2679  2020-12-07  N.America   iPhone"
      ]
     },
     "metadata": {},
     "output_type": "display_data"
    },
    {
     "name": "stdout",
     "output_type": "stream",
     "text": [
      "<class 'pandas.core.frame.DataFrame'>\n",
      "RangeIndex: 61733 entries, 0 to 61732\n",
      "Data columns (total 4 columns):\n",
      " #   Column      Non-Null Count  Dtype \n",
      "---  ------      --------------  ----- \n",
      " 0   user_id     61733 non-null  object\n",
      " 1   first_date  61733 non-null  object\n",
      " 2   region      61733 non-null  object\n",
      " 3   device      61733 non-null  object\n",
      "dtypes: object(4)\n",
      "memory usage: 1.9+ MB\n"
     ]
    }
   ],
   "source": [
    "new_users = pd.read_csv('final_ab_new_users.csv')\n",
    "display(new_users.head())\n",
    "new_users.info()"
   ]
  },
  {
   "cell_type": "markdown",
   "id": "064650f1",
   "metadata": {},
   "source": [
    "**4) Загрузим датасет `final_ab_participants.csv`, в котором содержитсятаблица участников тестов**"
   ]
  },
  {
   "cell_type": "code",
   "execution_count": 53,
   "id": "c23cc1e5",
   "metadata": {},
   "outputs": [
    {
     "data": {
      "text/html": [
       "<div>\n",
       "<style scoped>\n",
       "    .dataframe tbody tr th:only-of-type {\n",
       "        vertical-align: middle;\n",
       "    }\n",
       "\n",
       "    .dataframe tbody tr th {\n",
       "        vertical-align: top;\n",
       "    }\n",
       "\n",
       "    .dataframe thead th {\n",
       "        text-align: right;\n",
       "    }\n",
       "</style>\n",
       "<table border=\"1\" class=\"dataframe\">\n",
       "  <thead>\n",
       "    <tr style=\"text-align: right;\">\n",
       "      <th></th>\n",
       "      <th>user_id</th>\n",
       "      <th>group</th>\n",
       "      <th>ab_test</th>\n",
       "    </tr>\n",
       "  </thead>\n",
       "  <tbody>\n",
       "    <tr>\n",
       "      <th>0</th>\n",
       "      <td>D1ABA3E2887B6A73</td>\n",
       "      <td>A</td>\n",
       "      <td>recommender_system_test</td>\n",
       "    </tr>\n",
       "    <tr>\n",
       "      <th>1</th>\n",
       "      <td>A7A3664BD6242119</td>\n",
       "      <td>A</td>\n",
       "      <td>recommender_system_test</td>\n",
       "    </tr>\n",
       "    <tr>\n",
       "      <th>2</th>\n",
       "      <td>DABC14FDDFADD29E</td>\n",
       "      <td>A</td>\n",
       "      <td>recommender_system_test</td>\n",
       "    </tr>\n",
       "    <tr>\n",
       "      <th>3</th>\n",
       "      <td>04988C5DF189632E</td>\n",
       "      <td>A</td>\n",
       "      <td>recommender_system_test</td>\n",
       "    </tr>\n",
       "    <tr>\n",
       "      <th>4</th>\n",
       "      <td>482F14783456D21B</td>\n",
       "      <td>B</td>\n",
       "      <td>recommender_system_test</td>\n",
       "    </tr>\n",
       "  </tbody>\n",
       "</table>\n",
       "</div>"
      ],
      "text/plain": [
       "            user_id group                  ab_test\n",
       "0  D1ABA3E2887B6A73     A  recommender_system_test\n",
       "1  A7A3664BD6242119     A  recommender_system_test\n",
       "2  DABC14FDDFADD29E     A  recommender_system_test\n",
       "3  04988C5DF189632E     A  recommender_system_test\n",
       "4  482F14783456D21B     B  recommender_system_test"
      ]
     },
     "metadata": {},
     "output_type": "display_data"
    },
    {
     "name": "stdout",
     "output_type": "stream",
     "text": [
      "<class 'pandas.core.frame.DataFrame'>\n",
      "RangeIndex: 18268 entries, 0 to 18267\n",
      "Data columns (total 3 columns):\n",
      " #   Column   Non-Null Count  Dtype \n",
      "---  ------   --------------  ----- \n",
      " 0   user_id  18268 non-null  object\n",
      " 1   group    18268 non-null  object\n",
      " 2   ab_test  18268 non-null  object\n",
      "dtypes: object(3)\n",
      "memory usage: 428.3+ KB\n"
     ]
    }
   ],
   "source": [
    "participants = pd.read_csv('final_ab_participants.csv')\n",
    "display(participants.head())\n",
    "participants.info()"
   ]
  },
  {
   "cell_type": "markdown",
   "id": "54fe7fb3",
   "metadata": {},
   "source": [
    "**Вывод**"
   ]
  },
  {
   "cell_type": "markdown",
   "id": "ce111f7e",
   "metadata": {},
   "source": [
    "Проблемы с данными, которые стоит рассмотреть:\n",
    "   \n",
    "    1) Поменять тип данных в столбце `event_dt` таблицы events\n",
    "  \n",
    "    2) Исследовать пропущенные значения в столбце `details` таблицы events\n",
    "  \n",
    "    3) Поменять тип данных в столбцах `start_dt` и `finish_dt` таблицы marketing_events\n",
    "  \n",
    "    4) Поменять тип данных в столбце `first_date` таблицы new_users\n",
    "    \n",
    "    5) Проверить дубликаты в каждой из 4 таблиц\n",
    "  \n",
    "Больше проблем с данными нет, перейдем к предобработке данных  "
   ]
  },
  {
   "cell_type": "markdown",
   "id": "370e78a9",
   "metadata": {},
   "source": [
    "# Предобработка данных"
   ]
  },
  {
   "cell_type": "markdown",
   "id": "5c45eb04",
   "metadata": {},
   "source": [
    "**Поменяем тип данных в столбце `event_dt` и проверим на дубликаты в таблице events, также исследуем пропущенные значения в столбце `details`**"
   ]
  },
  {
   "cell_type": "code",
   "execution_count": 54,
   "id": "d2ca4982",
   "metadata": {},
   "outputs": [
    {
     "name": "stdout",
     "output_type": "stream",
     "text": [
      "<class 'pandas.core.frame.DataFrame'>\n",
      "RangeIndex: 440317 entries, 0 to 440316\n",
      "Data columns (total 4 columns):\n",
      " #   Column      Non-Null Count   Dtype         \n",
      "---  ------      --------------   -----         \n",
      " 0   user_id     440317 non-null  object        \n",
      " 1   event_dt    440317 non-null  datetime64[ns]\n",
      " 2   event_name  440317 non-null  object        \n",
      " 3   details     62740 non-null   float64       \n",
      "dtypes: datetime64[ns](1), float64(1), object(2)\n",
      "memory usage: 13.4+ MB\n"
     ]
    }
   ],
   "source": [
    "events['event_dt'] = pd.to_datetime(events['event_dt'])\n",
    "events.info()"
   ]
  },
  {
   "cell_type": "code",
   "execution_count": 55,
   "id": "5b598ab9",
   "metadata": {},
   "outputs": [
    {
     "data": {
      "text/plain": [
       "0"
      ]
     },
     "execution_count": 55,
     "metadata": {},
     "output_type": "execute_result"
    }
   ],
   "source": [
    "events.duplicated().sum()"
   ]
  },
  {
   "cell_type": "code",
   "execution_count": 56,
   "id": "546aa039",
   "metadata": {},
   "outputs": [
    {
     "data": {
      "text/plain": [
       "array(['purchase', 'product_cart', 'product_page', 'login'], dtype=object)"
      ]
     },
     "execution_count": 56,
     "metadata": {},
     "output_type": "execute_result"
    }
   ],
   "source": [
    "events['event_name'].unique()"
   ]
  },
  {
   "cell_type": "markdown",
   "id": "3fd26fd5",
   "metadata": {},
   "source": [
    "Тип данных в столбце поменяли, дубликатов явных и неявных данная таблица не имеет"
   ]
  },
  {
   "cell_type": "code",
   "execution_count": 57,
   "id": "f52f78d9",
   "metadata": {},
   "outputs": [
    {
     "data": {
      "text/plain": [
       "event_name\n",
       "login           189552\n",
       "product_cart     62462\n",
       "product_page    125563\n",
       "purchase             0\n",
       "Name: details, dtype: int64"
      ]
     },
     "execution_count": 57,
     "metadata": {},
     "output_type": "execute_result"
    }
   ],
   "source": [
    "events.groupby('event_name')['details'].apply(lambda x: x.isna().sum())"
   ]
  },
  {
   "cell_type": "code",
   "execution_count": 58,
   "id": "fbc0633e",
   "metadata": {},
   "outputs": [
    {
     "data": {
      "text/plain": [
       "user_id       0\n",
       "event_dt      0\n",
       "event_name    0\n",
       "details       0\n",
       "dtype: int64"
      ]
     },
     "execution_count": 58,
     "metadata": {},
     "output_type": "execute_result"
    }
   ],
   "source": [
    "events.query(\"details == details and event_name != 'purchase'\").count()"
   ]
  },
  {
   "cell_type": "markdown",
   "id": "395f8bbd",
   "metadata": {},
   "source": [
    "Пропуски здесь обоснованные, при любом другом типе события кроме purchase, нет дополнительных данных о событии, поэтому трогать их точно не нужно"
   ]
  },
  {
   "cell_type": "markdown",
   "id": "bae2a1fd",
   "metadata": {},
   "source": [
    "**Поменяем тип данных в столбцах `start_dt` и `finish_dt` таблицы marketing_events и посмотрим дубликаты**"
   ]
  },
  {
   "cell_type": "code",
   "execution_count": 59,
   "id": "90061eeb",
   "metadata": {},
   "outputs": [
    {
     "name": "stdout",
     "output_type": "stream",
     "text": [
      "<class 'pandas.core.frame.DataFrame'>\n",
      "RangeIndex: 14 entries, 0 to 13\n",
      "Data columns (total 4 columns):\n",
      " #   Column     Non-Null Count  Dtype         \n",
      "---  ------     --------------  -----         \n",
      " 0   name       14 non-null     object        \n",
      " 1   regions    14 non-null     object        \n",
      " 2   start_dt   14 non-null     datetime64[ns]\n",
      " 3   finish_dt  14 non-null     datetime64[ns]\n",
      "dtypes: datetime64[ns](2), object(2)\n",
      "memory usage: 576.0+ bytes\n"
     ]
    }
   ],
   "source": [
    "marketing_events['start_dt'] = pd.to_datetime(marketing_events['start_dt'])\n",
    "marketing_events['finish_dt'] = pd.to_datetime(marketing_events['finish_dt'])\n",
    "marketing_events.info()"
   ]
  },
  {
   "cell_type": "code",
   "execution_count": 60,
   "id": "bc270605",
   "metadata": {},
   "outputs": [
    {
     "data": {
      "text/html": [
       "<div>\n",
       "<style scoped>\n",
       "    .dataframe tbody tr th:only-of-type {\n",
       "        vertical-align: middle;\n",
       "    }\n",
       "\n",
       "    .dataframe tbody tr th {\n",
       "        vertical-align: top;\n",
       "    }\n",
       "\n",
       "    .dataframe thead th {\n",
       "        text-align: right;\n",
       "    }\n",
       "</style>\n",
       "<table border=\"1\" class=\"dataframe\">\n",
       "  <thead>\n",
       "    <tr style=\"text-align: right;\">\n",
       "      <th></th>\n",
       "      <th>name</th>\n",
       "      <th>regions</th>\n",
       "      <th>start_dt</th>\n",
       "      <th>finish_dt</th>\n",
       "    </tr>\n",
       "  </thead>\n",
       "  <tbody>\n",
       "    <tr>\n",
       "      <th>0</th>\n",
       "      <td>Christmas&amp;New Year Promo</td>\n",
       "      <td>EU, N.America</td>\n",
       "      <td>2020-12-25</td>\n",
       "      <td>2021-01-03</td>\n",
       "    </tr>\n",
       "    <tr>\n",
       "      <th>1</th>\n",
       "      <td>St. Valentine's Day Giveaway</td>\n",
       "      <td>EU, CIS, APAC, N.America</td>\n",
       "      <td>2020-02-14</td>\n",
       "      <td>2020-02-16</td>\n",
       "    </tr>\n",
       "    <tr>\n",
       "      <th>2</th>\n",
       "      <td>St. Patric's Day Promo</td>\n",
       "      <td>EU, N.America</td>\n",
       "      <td>2020-03-17</td>\n",
       "      <td>2020-03-19</td>\n",
       "    </tr>\n",
       "    <tr>\n",
       "      <th>3</th>\n",
       "      <td>Easter Promo</td>\n",
       "      <td>EU, CIS, APAC, N.America</td>\n",
       "      <td>2020-04-12</td>\n",
       "      <td>2020-04-19</td>\n",
       "    </tr>\n",
       "    <tr>\n",
       "      <th>4</th>\n",
       "      <td>4th of July Promo</td>\n",
       "      <td>N.America</td>\n",
       "      <td>2020-07-04</td>\n",
       "      <td>2020-07-11</td>\n",
       "    </tr>\n",
       "    <tr>\n",
       "      <th>5</th>\n",
       "      <td>Black Friday Ads Campaign</td>\n",
       "      <td>EU, CIS, APAC, N.America</td>\n",
       "      <td>2020-11-26</td>\n",
       "      <td>2020-12-01</td>\n",
       "    </tr>\n",
       "    <tr>\n",
       "      <th>6</th>\n",
       "      <td>Chinese New Year Promo</td>\n",
       "      <td>APAC</td>\n",
       "      <td>2020-01-25</td>\n",
       "      <td>2020-02-07</td>\n",
       "    </tr>\n",
       "    <tr>\n",
       "      <th>7</th>\n",
       "      <td>Labor day (May 1st) Ads Campaign</td>\n",
       "      <td>EU, CIS, APAC</td>\n",
       "      <td>2020-05-01</td>\n",
       "      <td>2020-05-03</td>\n",
       "    </tr>\n",
       "    <tr>\n",
       "      <th>8</th>\n",
       "      <td>International Women's Day Promo</td>\n",
       "      <td>EU, CIS, APAC</td>\n",
       "      <td>2020-03-08</td>\n",
       "      <td>2020-03-10</td>\n",
       "    </tr>\n",
       "    <tr>\n",
       "      <th>9</th>\n",
       "      <td>Victory Day CIS (May 9th) Event</td>\n",
       "      <td>CIS</td>\n",
       "      <td>2020-05-09</td>\n",
       "      <td>2020-05-11</td>\n",
       "    </tr>\n",
       "    <tr>\n",
       "      <th>10</th>\n",
       "      <td>CIS New Year Gift Lottery</td>\n",
       "      <td>CIS</td>\n",
       "      <td>2020-12-30</td>\n",
       "      <td>2021-01-07</td>\n",
       "    </tr>\n",
       "    <tr>\n",
       "      <th>11</th>\n",
       "      <td>Dragon Boat Festival Giveaway</td>\n",
       "      <td>APAC</td>\n",
       "      <td>2020-06-25</td>\n",
       "      <td>2020-07-01</td>\n",
       "    </tr>\n",
       "    <tr>\n",
       "      <th>12</th>\n",
       "      <td>Single's Day Gift Promo</td>\n",
       "      <td>APAC</td>\n",
       "      <td>2020-11-11</td>\n",
       "      <td>2020-11-12</td>\n",
       "    </tr>\n",
       "    <tr>\n",
       "      <th>13</th>\n",
       "      <td>Chinese Moon Festival</td>\n",
       "      <td>APAC</td>\n",
       "      <td>2020-10-01</td>\n",
       "      <td>2020-10-07</td>\n",
       "    </tr>\n",
       "  </tbody>\n",
       "</table>\n",
       "</div>"
      ],
      "text/plain": [
       "                                name                   regions   start_dt  \\\n",
       "0           Christmas&New Year Promo             EU, N.America 2020-12-25   \n",
       "1       St. Valentine's Day Giveaway  EU, CIS, APAC, N.America 2020-02-14   \n",
       "2             St. Patric's Day Promo             EU, N.America 2020-03-17   \n",
       "3                       Easter Promo  EU, CIS, APAC, N.America 2020-04-12   \n",
       "4                  4th of July Promo                 N.America 2020-07-04   \n",
       "5          Black Friday Ads Campaign  EU, CIS, APAC, N.America 2020-11-26   \n",
       "6             Chinese New Year Promo                      APAC 2020-01-25   \n",
       "7   Labor day (May 1st) Ads Campaign             EU, CIS, APAC 2020-05-01   \n",
       "8    International Women's Day Promo             EU, CIS, APAC 2020-03-08   \n",
       "9    Victory Day CIS (May 9th) Event                       CIS 2020-05-09   \n",
       "10         CIS New Year Gift Lottery                       CIS 2020-12-30   \n",
       "11     Dragon Boat Festival Giveaway                      APAC 2020-06-25   \n",
       "12           Single's Day Gift Promo                      APAC 2020-11-11   \n",
       "13             Chinese Moon Festival                      APAC 2020-10-01   \n",
       "\n",
       "    finish_dt  \n",
       "0  2021-01-03  \n",
       "1  2020-02-16  \n",
       "2  2020-03-19  \n",
       "3  2020-04-19  \n",
       "4  2020-07-11  \n",
       "5  2020-12-01  \n",
       "6  2020-02-07  \n",
       "7  2020-05-03  \n",
       "8  2020-03-10  \n",
       "9  2020-05-11  \n",
       "10 2021-01-07  \n",
       "11 2020-07-01  \n",
       "12 2020-11-12  \n",
       "13 2020-10-07  "
      ]
     },
     "metadata": {},
     "output_type": "display_data"
    }
   ],
   "source": [
    "display(marketing_events)"
   ]
  },
  {
   "cell_type": "markdown",
   "id": "e68cfc58",
   "metadata": {},
   "source": [
    "Поменяли тип данных в столбцах, так как в данной таблице всего 14 строк, то видно, что явных и неявных дубликатов здесь нет"
   ]
  },
  {
   "cell_type": "markdown",
   "id": "495d4fc9",
   "metadata": {},
   "source": [
    "**Поменяем тип данных в столбце `first_date` таблицы new_users и посмотрим дубликаты**"
   ]
  },
  {
   "cell_type": "code",
   "execution_count": 61,
   "id": "0c70dcf5",
   "metadata": {},
   "outputs": [
    {
     "name": "stdout",
     "output_type": "stream",
     "text": [
      "<class 'pandas.core.frame.DataFrame'>\n",
      "RangeIndex: 61733 entries, 0 to 61732\n",
      "Data columns (total 4 columns):\n",
      " #   Column      Non-Null Count  Dtype         \n",
      "---  ------      --------------  -----         \n",
      " 0   user_id     61733 non-null  object        \n",
      " 1   first_date  61733 non-null  datetime64[ns]\n",
      " 2   region      61733 non-null  object        \n",
      " 3   device      61733 non-null  object        \n",
      "dtypes: datetime64[ns](1), object(3)\n",
      "memory usage: 1.9+ MB\n"
     ]
    }
   ],
   "source": [
    "new_users['first_date'] = pd.to_datetime(new_users['first_date'])\n",
    "new_users.info()"
   ]
  },
  {
   "cell_type": "code",
   "execution_count": 62,
   "id": "d2586c35",
   "metadata": {},
   "outputs": [
    {
     "data": {
      "text/plain": [
       "0"
      ]
     },
     "execution_count": 62,
     "metadata": {},
     "output_type": "execute_result"
    }
   ],
   "source": [
    "new_users.duplicated().sum()"
   ]
  },
  {
   "cell_type": "code",
   "execution_count": 63,
   "id": "cc00d034",
   "metadata": {},
   "outputs": [
    {
     "data": {
      "text/plain": [
       "array(['EU', 'N.America', 'APAC', 'CIS'], dtype=object)"
      ]
     },
     "execution_count": 63,
     "metadata": {},
     "output_type": "execute_result"
    }
   ],
   "source": [
    "new_users['region'].unique()"
   ]
  },
  {
   "cell_type": "code",
   "execution_count": 64,
   "id": "334ebeb7",
   "metadata": {},
   "outputs": [
    {
     "data": {
      "text/plain": [
       "array(['PC', 'Android', 'iPhone', 'Mac'], dtype=object)"
      ]
     },
     "execution_count": 64,
     "metadata": {},
     "output_type": "execute_result"
    }
   ],
   "source": [
    "new_users['device'].unique()"
   ]
  },
  {
   "cell_type": "markdown",
   "id": "905f3aca",
   "metadata": {},
   "source": [
    "Тип данных заменили, явных и неявных дубликатов в данной таблице нет"
   ]
  },
  {
   "cell_type": "markdown",
   "id": "0391dea2",
   "metadata": {},
   "source": [
    "**Рассмотрим таблицу participants**"
   ]
  },
  {
   "cell_type": "markdown",
   "id": "984a57b9",
   "metadata": {},
   "source": [
    "С типами данных в столбцах все нормально. Посмотрим дубликаты"
   ]
  },
  {
   "cell_type": "code",
   "execution_count": 65,
   "id": "5ac431a6",
   "metadata": {},
   "outputs": [
    {
     "data": {
      "text/plain": [
       "0"
      ]
     },
     "execution_count": 65,
     "metadata": {},
     "output_type": "execute_result"
    }
   ],
   "source": [
    "participants.duplicated().sum()"
   ]
  },
  {
   "cell_type": "code",
   "execution_count": 66,
   "id": "797627ff",
   "metadata": {},
   "outputs": [
    {
     "data": {
      "text/plain": [
       "array(['A', 'B'], dtype=object)"
      ]
     },
     "execution_count": 66,
     "metadata": {},
     "output_type": "execute_result"
    }
   ],
   "source": [
    "participants['group'].unique()"
   ]
  },
  {
   "cell_type": "code",
   "execution_count": 67,
   "id": "0c3d7912",
   "metadata": {},
   "outputs": [
    {
     "data": {
      "text/plain": [
       "array(['recommender_system_test', 'interface_eu_test'], dtype=object)"
      ]
     },
     "execution_count": 67,
     "metadata": {},
     "output_type": "execute_result"
    }
   ],
   "source": [
    "participants['ab_test'].unique()"
   ]
  },
  {
   "cell_type": "markdown",
   "id": "e8526b9c",
   "metadata": {},
   "source": [
    "Здесь никаких проблем нет, переходим к оценке корректности проведения теста"
   ]
  },
  {
   "cell_type": "markdown",
   "id": "34031013",
   "metadata": {},
   "source": [
    "# Оценка корректности проведения теста"
   ]
  },
  {
   "cell_type": "markdown",
   "id": "1f3d850b",
   "metadata": {},
   "source": [
    "### Соответствие данных требованиям технического задания. Проверить корректность всех пунктов технического задания"
   ]
  },
  {
   "cell_type": "markdown",
   "id": "5761284d",
   "metadata": {},
   "source": [
    "**Так как по ТЗ нам нужны только пользователи, которые участвуют в `recommender_system_test`, сделаем срез и также проверим на пересечение данных пользователей с другим тестом.**"
   ]
  },
  {
   "cell_type": "code",
   "execution_count": 68,
   "id": "1144416d",
   "metadata": {},
   "outputs": [
    {
     "data": {
      "text/html": [
       "<div>\n",
       "<style scoped>\n",
       "    .dataframe tbody tr th:only-of-type {\n",
       "        vertical-align: middle;\n",
       "    }\n",
       "\n",
       "    .dataframe tbody tr th {\n",
       "        vertical-align: top;\n",
       "    }\n",
       "\n",
       "    .dataframe thead th {\n",
       "        text-align: right;\n",
       "    }\n",
       "</style>\n",
       "<table border=\"1\" class=\"dataframe\">\n",
       "  <thead>\n",
       "    <tr style=\"text-align: right;\">\n",
       "      <th></th>\n",
       "      <th>user_id</th>\n",
       "      <th>group</th>\n",
       "      <th>ab_test</th>\n",
       "    </tr>\n",
       "  </thead>\n",
       "  <tbody>\n",
       "    <tr>\n",
       "      <th>0</th>\n",
       "      <td>D1ABA3E2887B6A73</td>\n",
       "      <td>A</td>\n",
       "      <td>recommender_system_test</td>\n",
       "    </tr>\n",
       "    <tr>\n",
       "      <th>1</th>\n",
       "      <td>A7A3664BD6242119</td>\n",
       "      <td>A</td>\n",
       "      <td>recommender_system_test</td>\n",
       "    </tr>\n",
       "    <tr>\n",
       "      <th>2</th>\n",
       "      <td>DABC14FDDFADD29E</td>\n",
       "      <td>A</td>\n",
       "      <td>recommender_system_test</td>\n",
       "    </tr>\n",
       "    <tr>\n",
       "      <th>3</th>\n",
       "      <td>04988C5DF189632E</td>\n",
       "      <td>A</td>\n",
       "      <td>recommender_system_test</td>\n",
       "    </tr>\n",
       "    <tr>\n",
       "      <th>4</th>\n",
       "      <td>482F14783456D21B</td>\n",
       "      <td>B</td>\n",
       "      <td>recommender_system_test</td>\n",
       "    </tr>\n",
       "    <tr>\n",
       "      <th>...</th>\n",
       "      <td>...</td>\n",
       "      <td>...</td>\n",
       "      <td>...</td>\n",
       "    </tr>\n",
       "    <tr>\n",
       "      <th>6696</th>\n",
       "      <td>053FB26D6D49EDDC</td>\n",
       "      <td>A</td>\n",
       "      <td>recommender_system_test</td>\n",
       "    </tr>\n",
       "    <tr>\n",
       "      <th>6697</th>\n",
       "      <td>9D263B8EF15CF188</td>\n",
       "      <td>B</td>\n",
       "      <td>recommender_system_test</td>\n",
       "    </tr>\n",
       "    <tr>\n",
       "      <th>6698</th>\n",
       "      <td>F2FBBA33F37DEC46</td>\n",
       "      <td>A</td>\n",
       "      <td>recommender_system_test</td>\n",
       "    </tr>\n",
       "    <tr>\n",
       "      <th>6699</th>\n",
       "      <td>29C92313A98B1176</td>\n",
       "      <td>B</td>\n",
       "      <td>recommender_system_test</td>\n",
       "    </tr>\n",
       "    <tr>\n",
       "      <th>6700</th>\n",
       "      <td>6715343AFBA285AE</td>\n",
       "      <td>B</td>\n",
       "      <td>recommender_system_test</td>\n",
       "    </tr>\n",
       "  </tbody>\n",
       "</table>\n",
       "<p>6701 rows × 3 columns</p>\n",
       "</div>"
      ],
      "text/plain": [
       "               user_id group                  ab_test\n",
       "0     D1ABA3E2887B6A73     A  recommender_system_test\n",
       "1     A7A3664BD6242119     A  recommender_system_test\n",
       "2     DABC14FDDFADD29E     A  recommender_system_test\n",
       "3     04988C5DF189632E     A  recommender_system_test\n",
       "4     482F14783456D21B     B  recommender_system_test\n",
       "...                ...   ...                      ...\n",
       "6696  053FB26D6D49EDDC     A  recommender_system_test\n",
       "6697  9D263B8EF15CF188     B  recommender_system_test\n",
       "6698  F2FBBA33F37DEC46     A  recommender_system_test\n",
       "6699  29C92313A98B1176     B  recommender_system_test\n",
       "6700  6715343AFBA285AE     B  recommender_system_test\n",
       "\n",
       "[6701 rows x 3 columns]"
      ]
     },
     "metadata": {},
     "output_type": "display_data"
    },
    {
     "data": {
      "text/html": [
       "<div>\n",
       "<style scoped>\n",
       "    .dataframe tbody tr th:only-of-type {\n",
       "        vertical-align: middle;\n",
       "    }\n",
       "\n",
       "    .dataframe tbody tr th {\n",
       "        vertical-align: top;\n",
       "    }\n",
       "\n",
       "    .dataframe thead th {\n",
       "        text-align: right;\n",
       "    }\n",
       "</style>\n",
       "<table border=\"1\" class=\"dataframe\">\n",
       "  <thead>\n",
       "    <tr style=\"text-align: right;\">\n",
       "      <th></th>\n",
       "      <th>user_id</th>\n",
       "      <th>group_x</th>\n",
       "      <th>ab_test_x</th>\n",
       "      <th>group_y</th>\n",
       "      <th>ab_test_y</th>\n",
       "    </tr>\n",
       "  </thead>\n",
       "  <tbody>\n",
       "    <tr>\n",
       "      <th>0</th>\n",
       "      <td>DABC14FDDFADD29E</td>\n",
       "      <td>A</td>\n",
       "      <td>recommender_system_test</td>\n",
       "      <td>A</td>\n",
       "      <td>interface_eu_test</td>\n",
       "    </tr>\n",
       "    <tr>\n",
       "      <th>1</th>\n",
       "      <td>04988C5DF189632E</td>\n",
       "      <td>A</td>\n",
       "      <td>recommender_system_test</td>\n",
       "      <td>A</td>\n",
       "      <td>interface_eu_test</td>\n",
       "    </tr>\n",
       "    <tr>\n",
       "      <th>2</th>\n",
       "      <td>B3A2485649E4A012</td>\n",
       "      <td>A</td>\n",
       "      <td>recommender_system_test</td>\n",
       "      <td>A</td>\n",
       "      <td>interface_eu_test</td>\n",
       "    </tr>\n",
       "    <tr>\n",
       "      <th>3</th>\n",
       "      <td>EAFB9027A27D510C</td>\n",
       "      <td>B</td>\n",
       "      <td>recommender_system_test</td>\n",
       "      <td>A</td>\n",
       "      <td>interface_eu_test</td>\n",
       "    </tr>\n",
       "    <tr>\n",
       "      <th>4</th>\n",
       "      <td>5D5E6EE92AF6E9E0</td>\n",
       "      <td>B</td>\n",
       "      <td>recommender_system_test</td>\n",
       "      <td>B</td>\n",
       "      <td>interface_eu_test</td>\n",
       "    </tr>\n",
       "    <tr>\n",
       "      <th>...</th>\n",
       "      <td>...</td>\n",
       "      <td>...</td>\n",
       "      <td>...</td>\n",
       "      <td>...</td>\n",
       "      <td>...</td>\n",
       "    </tr>\n",
       "    <tr>\n",
       "      <th>1597</th>\n",
       "      <td>C2DC7B6881CE6E30</td>\n",
       "      <td>B</td>\n",
       "      <td>recommender_system_test</td>\n",
       "      <td>B</td>\n",
       "      <td>interface_eu_test</td>\n",
       "    </tr>\n",
       "    <tr>\n",
       "      <th>1598</th>\n",
       "      <td>EA29547AB3C0CB9C</td>\n",
       "      <td>B</td>\n",
       "      <td>recommender_system_test</td>\n",
       "      <td>A</td>\n",
       "      <td>interface_eu_test</td>\n",
       "    </tr>\n",
       "    <tr>\n",
       "      <th>1599</th>\n",
       "      <td>9A44E27079666291</td>\n",
       "      <td>B</td>\n",
       "      <td>recommender_system_test</td>\n",
       "      <td>A</td>\n",
       "      <td>interface_eu_test</td>\n",
       "    </tr>\n",
       "    <tr>\n",
       "      <th>1600</th>\n",
       "      <td>FA86D8DFAD3ADADE</td>\n",
       "      <td>A</td>\n",
       "      <td>recommender_system_test</td>\n",
       "      <td>A</td>\n",
       "      <td>interface_eu_test</td>\n",
       "    </tr>\n",
       "    <tr>\n",
       "      <th>1601</th>\n",
       "      <td>95401934D6D6D4FC</td>\n",
       "      <td>B</td>\n",
       "      <td>recommender_system_test</td>\n",
       "      <td>A</td>\n",
       "      <td>interface_eu_test</td>\n",
       "    </tr>\n",
       "  </tbody>\n",
       "</table>\n",
       "<p>1602 rows × 5 columns</p>\n",
       "</div>"
      ],
      "text/plain": [
       "               user_id group_x                ab_test_x group_y  \\\n",
       "0     DABC14FDDFADD29E       A  recommender_system_test       A   \n",
       "1     04988C5DF189632E       A  recommender_system_test       A   \n",
       "2     B3A2485649E4A012       A  recommender_system_test       A   \n",
       "3     EAFB9027A27D510C       B  recommender_system_test       A   \n",
       "4     5D5E6EE92AF6E9E0       B  recommender_system_test       B   \n",
       "...                ...     ...                      ...     ...   \n",
       "1597  C2DC7B6881CE6E30       B  recommender_system_test       B   \n",
       "1598  EA29547AB3C0CB9C       B  recommender_system_test       A   \n",
       "1599  9A44E27079666291       B  recommender_system_test       A   \n",
       "1600  FA86D8DFAD3ADADE       A  recommender_system_test       A   \n",
       "1601  95401934D6D6D4FC       B  recommender_system_test       A   \n",
       "\n",
       "              ab_test_y  \n",
       "0     interface_eu_test  \n",
       "1     interface_eu_test  \n",
       "2     interface_eu_test  \n",
       "3     interface_eu_test  \n",
       "4     interface_eu_test  \n",
       "...                 ...  \n",
       "1597  interface_eu_test  \n",
       "1598  interface_eu_test  \n",
       "1599  interface_eu_test  \n",
       "1600  interface_eu_test  \n",
       "1601  interface_eu_test  \n",
       "\n",
       "[1602 rows x 5 columns]"
      ]
     },
     "metadata": {},
     "output_type": "display_data"
    }
   ],
   "source": [
    "our_test = participants.query(\"ab_test == 'recommender_system_test'\")\n",
    "display(our_test)\n",
    "other_test = participants.query(\"ab_test == 'interface_eu_test'\")\n",
    "display(our_test.merge(other_test, on = 'user_id'))"
   ]
  },
  {
   "cell_type": "markdown",
   "id": "a0880f1b",
   "metadata": {},
   "source": [
    "Получается у нас есть 1602 пользователя, которые участвовали в обоих тестах. Для чистоты нашего теста, удалим их."
   ]
  },
  {
   "cell_type": "code",
   "execution_count": 69,
   "id": "c20af501",
   "metadata": {},
   "outputs": [
    {
     "data": {
      "text/html": [
       "<div>\n",
       "<style scoped>\n",
       "    .dataframe tbody tr th:only-of-type {\n",
       "        vertical-align: middle;\n",
       "    }\n",
       "\n",
       "    .dataframe tbody tr th {\n",
       "        vertical-align: top;\n",
       "    }\n",
       "\n",
       "    .dataframe thead th {\n",
       "        text-align: right;\n",
       "    }\n",
       "</style>\n",
       "<table border=\"1\" class=\"dataframe\">\n",
       "  <thead>\n",
       "    <tr style=\"text-align: right;\">\n",
       "      <th></th>\n",
       "      <th>index</th>\n",
       "      <th>user_id</th>\n",
       "      <th>group</th>\n",
       "      <th>ab_test</th>\n",
       "    </tr>\n",
       "  </thead>\n",
       "  <tbody>\n",
       "    <tr>\n",
       "      <th>0</th>\n",
       "      <td>0</td>\n",
       "      <td>D1ABA3E2887B6A73</td>\n",
       "      <td>A</td>\n",
       "      <td>recommender_system_test</td>\n",
       "    </tr>\n",
       "    <tr>\n",
       "      <th>1</th>\n",
       "      <td>1</td>\n",
       "      <td>A7A3664BD6242119</td>\n",
       "      <td>A</td>\n",
       "      <td>recommender_system_test</td>\n",
       "    </tr>\n",
       "    <tr>\n",
       "      <th>2</th>\n",
       "      <td>4</td>\n",
       "      <td>482F14783456D21B</td>\n",
       "      <td>B</td>\n",
       "      <td>recommender_system_test</td>\n",
       "    </tr>\n",
       "    <tr>\n",
       "      <th>3</th>\n",
       "      <td>5</td>\n",
       "      <td>4FF2998A348C484F</td>\n",
       "      <td>A</td>\n",
       "      <td>recommender_system_test</td>\n",
       "    </tr>\n",
       "    <tr>\n",
       "      <th>4</th>\n",
       "      <td>6</td>\n",
       "      <td>7473E0943673C09E</td>\n",
       "      <td>A</td>\n",
       "      <td>recommender_system_test</td>\n",
       "    </tr>\n",
       "    <tr>\n",
       "      <th>...</th>\n",
       "      <td>...</td>\n",
       "      <td>...</td>\n",
       "      <td>...</td>\n",
       "      <td>...</td>\n",
       "    </tr>\n",
       "    <tr>\n",
       "      <th>5094</th>\n",
       "      <td>6696</td>\n",
       "      <td>053FB26D6D49EDDC</td>\n",
       "      <td>A</td>\n",
       "      <td>recommender_system_test</td>\n",
       "    </tr>\n",
       "    <tr>\n",
       "      <th>5095</th>\n",
       "      <td>6697</td>\n",
       "      <td>9D263B8EF15CF188</td>\n",
       "      <td>B</td>\n",
       "      <td>recommender_system_test</td>\n",
       "    </tr>\n",
       "    <tr>\n",
       "      <th>5096</th>\n",
       "      <td>6698</td>\n",
       "      <td>F2FBBA33F37DEC46</td>\n",
       "      <td>A</td>\n",
       "      <td>recommender_system_test</td>\n",
       "    </tr>\n",
       "    <tr>\n",
       "      <th>5097</th>\n",
       "      <td>6699</td>\n",
       "      <td>29C92313A98B1176</td>\n",
       "      <td>B</td>\n",
       "      <td>recommender_system_test</td>\n",
       "    </tr>\n",
       "    <tr>\n",
       "      <th>5098</th>\n",
       "      <td>6700</td>\n",
       "      <td>6715343AFBA285AE</td>\n",
       "      <td>B</td>\n",
       "      <td>recommender_system_test</td>\n",
       "    </tr>\n",
       "  </tbody>\n",
       "</table>\n",
       "<p>5099 rows × 4 columns</p>\n",
       "</div>"
      ],
      "text/plain": [
       "      index           user_id group                  ab_test\n",
       "0         0  D1ABA3E2887B6A73     A  recommender_system_test\n",
       "1         1  A7A3664BD6242119     A  recommender_system_test\n",
       "2         4  482F14783456D21B     B  recommender_system_test\n",
       "3         5  4FF2998A348C484F     A  recommender_system_test\n",
       "4         6  7473E0943673C09E     A  recommender_system_test\n",
       "...     ...               ...   ...                      ...\n",
       "5094   6696  053FB26D6D49EDDC     A  recommender_system_test\n",
       "5095   6697  9D263B8EF15CF188     B  recommender_system_test\n",
       "5096   6698  F2FBBA33F37DEC46     A  recommender_system_test\n",
       "5097   6699  29C92313A98B1176     B  recommender_system_test\n",
       "5098   6700  6715343AFBA285AE     B  recommender_system_test\n",
       "\n",
       "[5099 rows x 4 columns]"
      ]
     },
     "metadata": {},
     "output_type": "display_data"
    }
   ],
   "source": [
    "mask = our_test['user_id'].isin(other_test['user_id'])\n",
    "our_test_filtered = our_test[~mask]\n",
    "our_test_filtered.reset_index(inplace= True)\n",
    "display(our_test_filtered)"
   ]
  },
  {
   "cell_type": "markdown",
   "id": "a8a6f2db",
   "metadata": {},
   "source": [
    "Готово"
   ]
  },
  {
   "cell_type": "markdown",
   "id": "eeede257",
   "metadata": {},
   "source": [
    "**Так как по ТЗ нам нужны только пользователи, которые проживают в регионе EU, отберем их.**"
   ]
  },
  {
   "cell_type": "code",
   "execution_count": 70,
   "id": "6fd9d15e",
   "metadata": {},
   "outputs": [
    {
     "data": {
      "text/html": [
       "<div>\n",
       "<style scoped>\n",
       "    .dataframe tbody tr th:only-of-type {\n",
       "        vertical-align: middle;\n",
       "    }\n",
       "\n",
       "    .dataframe tbody tr th {\n",
       "        vertical-align: top;\n",
       "    }\n",
       "\n",
       "    .dataframe thead th {\n",
       "        text-align: right;\n",
       "    }\n",
       "</style>\n",
       "<table border=\"1\" class=\"dataframe\">\n",
       "  <thead>\n",
       "    <tr style=\"text-align: right;\">\n",
       "      <th></th>\n",
       "      <th>user_id</th>\n",
       "      <th>first_date</th>\n",
       "      <th>region</th>\n",
       "      <th>device</th>\n",
       "    </tr>\n",
       "  </thead>\n",
       "  <tbody>\n",
       "    <tr>\n",
       "      <th>0</th>\n",
       "      <td>D72A72121175D8BE</td>\n",
       "      <td>2020-12-07</td>\n",
       "      <td>EU</td>\n",
       "      <td>PC</td>\n",
       "    </tr>\n",
       "    <tr>\n",
       "      <th>2</th>\n",
       "      <td>2E1BF1D4C37EA01F</td>\n",
       "      <td>2020-12-07</td>\n",
       "      <td>EU</td>\n",
       "      <td>PC</td>\n",
       "    </tr>\n",
       "    <tr>\n",
       "      <th>3</th>\n",
       "      <td>50734A22C0C63768</td>\n",
       "      <td>2020-12-07</td>\n",
       "      <td>EU</td>\n",
       "      <td>iPhone</td>\n",
       "    </tr>\n",
       "    <tr>\n",
       "      <th>7</th>\n",
       "      <td>8942E64218C9A1ED</td>\n",
       "      <td>2020-12-07</td>\n",
       "      <td>EU</td>\n",
       "      <td>PC</td>\n",
       "    </tr>\n",
       "    <tr>\n",
       "      <th>9</th>\n",
       "      <td>FFCEA1179C253104</td>\n",
       "      <td>2020-12-07</td>\n",
       "      <td>EU</td>\n",
       "      <td>Android</td>\n",
       "    </tr>\n",
       "    <tr>\n",
       "      <th>...</th>\n",
       "      <td>...</td>\n",
       "      <td>...</td>\n",
       "      <td>...</td>\n",
       "      <td>...</td>\n",
       "    </tr>\n",
       "    <tr>\n",
       "      <th>61728</th>\n",
       "      <td>1DB53B933257165D</td>\n",
       "      <td>2020-12-20</td>\n",
       "      <td>EU</td>\n",
       "      <td>Android</td>\n",
       "    </tr>\n",
       "    <tr>\n",
       "      <th>61729</th>\n",
       "      <td>538643EB4527ED03</td>\n",
       "      <td>2020-12-20</td>\n",
       "      <td>EU</td>\n",
       "      <td>Mac</td>\n",
       "    </tr>\n",
       "    <tr>\n",
       "      <th>61730</th>\n",
       "      <td>7ADEE837D5D8CBBD</td>\n",
       "      <td>2020-12-20</td>\n",
       "      <td>EU</td>\n",
       "      <td>PC</td>\n",
       "    </tr>\n",
       "    <tr>\n",
       "      <th>61731</th>\n",
       "      <td>1C7D23927835213F</td>\n",
       "      <td>2020-12-20</td>\n",
       "      <td>EU</td>\n",
       "      <td>iPhone</td>\n",
       "    </tr>\n",
       "    <tr>\n",
       "      <th>61732</th>\n",
       "      <td>8F04273BB2860229</td>\n",
       "      <td>2020-12-20</td>\n",
       "      <td>EU</td>\n",
       "      <td>Android</td>\n",
       "    </tr>\n",
       "  </tbody>\n",
       "</table>\n",
       "<p>46270 rows × 4 columns</p>\n",
       "</div>"
      ],
      "text/plain": [
       "                user_id first_date region   device\n",
       "0      D72A72121175D8BE 2020-12-07     EU       PC\n",
       "2      2E1BF1D4C37EA01F 2020-12-07     EU       PC\n",
       "3      50734A22C0C63768 2020-12-07     EU   iPhone\n",
       "7      8942E64218C9A1ED 2020-12-07     EU       PC\n",
       "9      FFCEA1179C253104 2020-12-07     EU  Android\n",
       "...                 ...        ...    ...      ...\n",
       "61728  1DB53B933257165D 2020-12-20     EU  Android\n",
       "61729  538643EB4527ED03 2020-12-20     EU      Mac\n",
       "61730  7ADEE837D5D8CBBD 2020-12-20     EU       PC\n",
       "61731  1C7D23927835213F 2020-12-20     EU   iPhone\n",
       "61732  8F04273BB2860229 2020-12-20     EU  Android\n",
       "\n",
       "[46270 rows x 4 columns]"
      ]
     },
     "metadata": {},
     "output_type": "display_data"
    }
   ],
   "source": [
    "users_eu = new_users.query(\"region == 'EU'\")\n",
    "display(users_eu)"
   ]
  },
  {
   "cell_type": "markdown",
   "id": "c5db7adf",
   "metadata": {},
   "source": [
    "Теперь отберем здесь пользователей, которые участвовали в тесте"
   ]
  },
  {
   "cell_type": "code",
   "execution_count": 71,
   "id": "ebffbee8",
   "metadata": {},
   "outputs": [
    {
     "data": {
      "text/html": [
       "<div>\n",
       "<style scoped>\n",
       "    .dataframe tbody tr th:only-of-type {\n",
       "        vertical-align: middle;\n",
       "    }\n",
       "\n",
       "    .dataframe tbody tr th {\n",
       "        vertical-align: top;\n",
       "    }\n",
       "\n",
       "    .dataframe thead th {\n",
       "        text-align: right;\n",
       "    }\n",
       "</style>\n",
       "<table border=\"1\" class=\"dataframe\">\n",
       "  <thead>\n",
       "    <tr style=\"text-align: right;\">\n",
       "      <th></th>\n",
       "      <th>user_id</th>\n",
       "      <th>first_date</th>\n",
       "      <th>region</th>\n",
       "      <th>device</th>\n",
       "    </tr>\n",
       "  </thead>\n",
       "  <tbody>\n",
       "    <tr>\n",
       "      <th>0</th>\n",
       "      <td>D72A72121175D8BE</td>\n",
       "      <td>2020-12-07</td>\n",
       "      <td>EU</td>\n",
       "      <td>PC</td>\n",
       "    </tr>\n",
       "    <tr>\n",
       "      <th>23</th>\n",
       "      <td>831887FE7F2D6CBA</td>\n",
       "      <td>2020-12-07</td>\n",
       "      <td>EU</td>\n",
       "      <td>Android</td>\n",
       "    </tr>\n",
       "    <tr>\n",
       "      <th>39</th>\n",
       "      <td>4CB179C7F847320B</td>\n",
       "      <td>2020-12-07</td>\n",
       "      <td>EU</td>\n",
       "      <td>iPhone</td>\n",
       "    </tr>\n",
       "    <tr>\n",
       "      <th>65</th>\n",
       "      <td>16C69ED14DA9F4A8</td>\n",
       "      <td>2020-12-07</td>\n",
       "      <td>EU</td>\n",
       "      <td>PC</td>\n",
       "    </tr>\n",
       "    <tr>\n",
       "      <th>69</th>\n",
       "      <td>3C5DD0288AC4FE23</td>\n",
       "      <td>2020-12-07</td>\n",
       "      <td>EU</td>\n",
       "      <td>PC</td>\n",
       "    </tr>\n",
       "    <tr>\n",
       "      <th>...</th>\n",
       "      <td>...</td>\n",
       "      <td>...</td>\n",
       "      <td>...</td>\n",
       "      <td>...</td>\n",
       "    </tr>\n",
       "    <tr>\n",
       "      <th>61681</th>\n",
       "      <td>3CA972F86411CF13</td>\n",
       "      <td>2020-12-20</td>\n",
       "      <td>EU</td>\n",
       "      <td>PC</td>\n",
       "    </tr>\n",
       "    <tr>\n",
       "      <th>61693</th>\n",
       "      <td>0F7D49FC184EDCDE</td>\n",
       "      <td>2020-12-20</td>\n",
       "      <td>EU</td>\n",
       "      <td>PC</td>\n",
       "    </tr>\n",
       "    <tr>\n",
       "      <th>61709</th>\n",
       "      <td>574ACBC674BC385D</td>\n",
       "      <td>2020-12-20</td>\n",
       "      <td>EU</td>\n",
       "      <td>Mac</td>\n",
       "    </tr>\n",
       "    <tr>\n",
       "      <th>61710</th>\n",
       "      <td>0416B34D35C8C8B8</td>\n",
       "      <td>2020-12-20</td>\n",
       "      <td>EU</td>\n",
       "      <td>Android</td>\n",
       "    </tr>\n",
       "    <tr>\n",
       "      <th>61715</th>\n",
       "      <td>89CB0BFBC3F35126</td>\n",
       "      <td>2020-12-20</td>\n",
       "      <td>EU</td>\n",
       "      <td>PC</td>\n",
       "    </tr>\n",
       "  </tbody>\n",
       "</table>\n",
       "<p>4749 rows × 4 columns</p>\n",
       "</div>"
      ],
      "text/plain": [
       "                user_id first_date region   device\n",
       "0      D72A72121175D8BE 2020-12-07     EU       PC\n",
       "23     831887FE7F2D6CBA 2020-12-07     EU  Android\n",
       "39     4CB179C7F847320B 2020-12-07     EU   iPhone\n",
       "65     16C69ED14DA9F4A8 2020-12-07     EU       PC\n",
       "69     3C5DD0288AC4FE23 2020-12-07     EU       PC\n",
       "...                 ...        ...    ...      ...\n",
       "61681  3CA972F86411CF13 2020-12-20     EU       PC\n",
       "61693  0F7D49FC184EDCDE 2020-12-20     EU       PC\n",
       "61709  574ACBC674BC385D 2020-12-20     EU      Mac\n",
       "61710  0416B34D35C8C8B8 2020-12-20     EU  Android\n",
       "61715  89CB0BFBC3F35126 2020-12-20     EU       PC\n",
       "\n",
       "[4749 rows x 4 columns]"
      ]
     },
     "metadata": {},
     "output_type": "display_data"
    }
   ],
   "source": [
    "mask = users_eu['user_id'].isin(our_test_filtered['user_id'])\n",
    "users_eu_new = users_eu[mask]\n",
    "display(users_eu_new)"
   ]
  },
  {
   "cell_type": "markdown",
   "id": "57752be4",
   "metadata": {},
   "source": [
    "Таким образом мы получили еще меньшее количество человек. Это связано с тем, что не все люди, отобранные на тест, были из Европы."
   ]
  },
  {
   "cell_type": "markdown",
   "id": "ed1d68f6",
   "metadata": {},
   "source": [
    "**Разберемся с датами. По условиям ТЗ у нас должно быть вот так:**\n",
    "- дата запуска: 2020-12-07\n",
    "- дата остановки набора новых пользователей: 2020-12-21\n",
    "- дата остановки: 2021-01-04"
   ]
  },
  {
   "cell_type": "markdown",
   "id": "cbc9cb85",
   "metadata": {},
   "source": [
    "Проверим минимальную и максимальную дату регистрации, которая есть в уже отобранных пользователях"
   ]
  },
  {
   "cell_type": "code",
   "execution_count": 72,
   "id": "a053b2d4",
   "metadata": {},
   "outputs": [
    {
     "data": {
      "text/plain": [
       "Timestamp('2020-12-07 00:00:00')"
      ]
     },
     "metadata": {},
     "output_type": "display_data"
    },
    {
     "data": {
      "text/plain": [
       "Timestamp('2020-12-21 00:00:00')"
      ]
     },
     "metadata": {},
     "output_type": "display_data"
    }
   ],
   "source": [
    "display(users_eu_new['first_date'].min())\n",
    "display(users_eu_new['first_date'].max())"
   ]
  },
  {
   "cell_type": "markdown",
   "id": "6db3db1d",
   "metadata": {},
   "source": [
    "Здесь все условия ТЗ выполнены, но нужно посмотреть на действия, которые делали пользователи. Только для начала срежем таблицу events под участников теста."
   ]
  },
  {
   "cell_type": "code",
   "execution_count": 73,
   "id": "cc196255",
   "metadata": {},
   "outputs": [
    {
     "data": {
      "text/html": [
       "<div>\n",
       "<style scoped>\n",
       "    .dataframe tbody tr th:only-of-type {\n",
       "        vertical-align: middle;\n",
       "    }\n",
       "\n",
       "    .dataframe tbody tr th {\n",
       "        vertical-align: top;\n",
       "    }\n",
       "\n",
       "    .dataframe thead th {\n",
       "        text-align: right;\n",
       "    }\n",
       "</style>\n",
       "<table border=\"1\" class=\"dataframe\">\n",
       "  <thead>\n",
       "    <tr style=\"text-align: right;\">\n",
       "      <th></th>\n",
       "      <th>user_id</th>\n",
       "      <th>event_dt</th>\n",
       "      <th>event_name</th>\n",
       "      <th>details</th>\n",
       "    </tr>\n",
       "  </thead>\n",
       "  <tbody>\n",
       "    <tr>\n",
       "      <th>5</th>\n",
       "      <td>831887FE7F2D6CBA</td>\n",
       "      <td>2020-12-07 06:50:29</td>\n",
       "      <td>purchase</td>\n",
       "      <td>4.99</td>\n",
       "    </tr>\n",
       "    <tr>\n",
       "      <th>17</th>\n",
       "      <td>3C5DD0288AC4FE23</td>\n",
       "      <td>2020-12-07 19:42:40</td>\n",
       "      <td>purchase</td>\n",
       "      <td>4.99</td>\n",
       "    </tr>\n",
       "    <tr>\n",
       "      <th>58</th>\n",
       "      <td>49EA242586C87836</td>\n",
       "      <td>2020-12-07 06:31:24</td>\n",
       "      <td>purchase</td>\n",
       "      <td>99.99</td>\n",
       "    </tr>\n",
       "    <tr>\n",
       "      <th>74</th>\n",
       "      <td>A640F31CAC7823A6</td>\n",
       "      <td>2020-12-07 18:48:26</td>\n",
       "      <td>purchase</td>\n",
       "      <td>4.99</td>\n",
       "    </tr>\n",
       "    <tr>\n",
       "      <th>118</th>\n",
       "      <td>A9908F62C41613A8</td>\n",
       "      <td>2020-12-07 11:26:47</td>\n",
       "      <td>purchase</td>\n",
       "      <td>9.99</td>\n",
       "    </tr>\n",
       "    <tr>\n",
       "      <th>...</th>\n",
       "      <td>...</td>\n",
       "      <td>...</td>\n",
       "      <td>...</td>\n",
       "      <td>...</td>\n",
       "    </tr>\n",
       "    <tr>\n",
       "      <th>440200</th>\n",
       "      <td>930EACAE048DFF45</td>\n",
       "      <td>2020-12-29 06:56:00</td>\n",
       "      <td>login</td>\n",
       "      <td>NaN</td>\n",
       "    </tr>\n",
       "    <tr>\n",
       "      <th>440236</th>\n",
       "      <td>E5589EAE02ACD150</td>\n",
       "      <td>2020-12-29 22:17:08</td>\n",
       "      <td>login</td>\n",
       "      <td>NaN</td>\n",
       "    </tr>\n",
       "    <tr>\n",
       "      <th>440239</th>\n",
       "      <td>D21F0D4FDCD82DB2</td>\n",
       "      <td>2020-12-29 02:17:00</td>\n",
       "      <td>login</td>\n",
       "      <td>NaN</td>\n",
       "    </tr>\n",
       "    <tr>\n",
       "      <th>440267</th>\n",
       "      <td>553BAE96C6EB6240</td>\n",
       "      <td>2020-12-29 14:09:14</td>\n",
       "      <td>login</td>\n",
       "      <td>NaN</td>\n",
       "    </tr>\n",
       "    <tr>\n",
       "      <th>440289</th>\n",
       "      <td>75845C83258FBF73</td>\n",
       "      <td>2020-12-30 06:42:52</td>\n",
       "      <td>login</td>\n",
       "      <td>NaN</td>\n",
       "    </tr>\n",
       "  </tbody>\n",
       "</table>\n",
       "<p>17526 rows × 4 columns</p>\n",
       "</div>"
      ],
      "text/plain": [
       "                 user_id            event_dt event_name  details\n",
       "5       831887FE7F2D6CBA 2020-12-07 06:50:29   purchase     4.99\n",
       "17      3C5DD0288AC4FE23 2020-12-07 19:42:40   purchase     4.99\n",
       "58      49EA242586C87836 2020-12-07 06:31:24   purchase    99.99\n",
       "74      A640F31CAC7823A6 2020-12-07 18:48:26   purchase     4.99\n",
       "118     A9908F62C41613A8 2020-12-07 11:26:47   purchase     9.99\n",
       "...                  ...                 ...        ...      ...\n",
       "440200  930EACAE048DFF45 2020-12-29 06:56:00      login      NaN\n",
       "440236  E5589EAE02ACD150 2020-12-29 22:17:08      login      NaN\n",
       "440239  D21F0D4FDCD82DB2 2020-12-29 02:17:00      login      NaN\n",
       "440267  553BAE96C6EB6240 2020-12-29 14:09:14      login      NaN\n",
       "440289  75845C83258FBF73 2020-12-30 06:42:52      login      NaN\n",
       "\n",
       "[17526 rows x 4 columns]"
      ]
     },
     "metadata": {},
     "output_type": "display_data"
    },
    {
     "data": {
      "text/plain": [
       "Timestamp('2020-12-07 00:16:00')"
      ]
     },
     "metadata": {},
     "output_type": "display_data"
    },
    {
     "data": {
      "text/plain": [
       "Timestamp('2020-12-30 06:42:52')"
      ]
     },
     "metadata": {},
     "output_type": "display_data"
    }
   ],
   "source": [
    "mask = events['user_id'].isin(users_eu_new['user_id'])\n",
    "events_new = events[mask]\n",
    "display(events_new)\n",
    "display(events_new['event_dt'].min())\n",
    "display(events_new['event_dt'].max())"
   ]
  },
  {
   "cell_type": "markdown",
   "id": "3337d623",
   "metadata": {},
   "source": [
    "Как мы видим, последнее совершенное действие были сделано 30 декабря, но остановка набора новых пользователей завершилась только 21 декабря. По условиям нашего теста лайфтайм равен 14 дней. То есть некоторые пользователи не проведут все эти 14 дней, а значит результаты теста исказятся. В данном случае хорошим решением будет передвинуть дату остановки набора новых пользователей на 17 декабря."
   ]
  },
  {
   "cell_type": "code",
   "execution_count": 74,
   "id": "1f43d5be",
   "metadata": {},
   "outputs": [
    {
     "data": {
      "text/html": [
       "<div>\n",
       "<style scoped>\n",
       "    .dataframe tbody tr th:only-of-type {\n",
       "        vertical-align: middle;\n",
       "    }\n",
       "\n",
       "    .dataframe tbody tr th {\n",
       "        vertical-align: top;\n",
       "    }\n",
       "\n",
       "    .dataframe thead th {\n",
       "        text-align: right;\n",
       "    }\n",
       "</style>\n",
       "<table border=\"1\" class=\"dataframe\">\n",
       "  <thead>\n",
       "    <tr style=\"text-align: right;\">\n",
       "      <th></th>\n",
       "      <th>user_id</th>\n",
       "      <th>first_date</th>\n",
       "      <th>region</th>\n",
       "      <th>device</th>\n",
       "    </tr>\n",
       "  </thead>\n",
       "  <tbody>\n",
       "    <tr>\n",
       "      <th>0</th>\n",
       "      <td>D72A72121175D8BE</td>\n",
       "      <td>2020-12-07</td>\n",
       "      <td>EU</td>\n",
       "      <td>PC</td>\n",
       "    </tr>\n",
       "    <tr>\n",
       "      <th>23</th>\n",
       "      <td>831887FE7F2D6CBA</td>\n",
       "      <td>2020-12-07</td>\n",
       "      <td>EU</td>\n",
       "      <td>Android</td>\n",
       "    </tr>\n",
       "    <tr>\n",
       "      <th>39</th>\n",
       "      <td>4CB179C7F847320B</td>\n",
       "      <td>2020-12-07</td>\n",
       "      <td>EU</td>\n",
       "      <td>iPhone</td>\n",
       "    </tr>\n",
       "    <tr>\n",
       "      <th>65</th>\n",
       "      <td>16C69ED14DA9F4A8</td>\n",
       "      <td>2020-12-07</td>\n",
       "      <td>EU</td>\n",
       "      <td>PC</td>\n",
       "    </tr>\n",
       "    <tr>\n",
       "      <th>69</th>\n",
       "      <td>3C5DD0288AC4FE23</td>\n",
       "      <td>2020-12-07</td>\n",
       "      <td>EU</td>\n",
       "      <td>PC</td>\n",
       "    </tr>\n",
       "    <tr>\n",
       "      <th>...</th>\n",
       "      <td>...</td>\n",
       "      <td>...</td>\n",
       "      <td>...</td>\n",
       "      <td>...</td>\n",
       "    </tr>\n",
       "    <tr>\n",
       "      <th>57403</th>\n",
       "      <td>F5A2E09EDD13F4EE</td>\n",
       "      <td>2020-12-13</td>\n",
       "      <td>EU</td>\n",
       "      <td>iPhone</td>\n",
       "    </tr>\n",
       "    <tr>\n",
       "      <th>57416</th>\n",
       "      <td>CB194C10D84C7E25</td>\n",
       "      <td>2020-12-13</td>\n",
       "      <td>EU</td>\n",
       "      <td>PC</td>\n",
       "    </tr>\n",
       "    <tr>\n",
       "      <th>57433</th>\n",
       "      <td>AD21E668FC949228</td>\n",
       "      <td>2020-12-13</td>\n",
       "      <td>EU</td>\n",
       "      <td>Mac</td>\n",
       "    </tr>\n",
       "    <tr>\n",
       "      <th>57441</th>\n",
       "      <td>1FCFF602844AD352</td>\n",
       "      <td>2020-12-13</td>\n",
       "      <td>EU</td>\n",
       "      <td>Android</td>\n",
       "    </tr>\n",
       "    <tr>\n",
       "      <th>57443</th>\n",
       "      <td>677B05621B3FBF5D</td>\n",
       "      <td>2020-12-13</td>\n",
       "      <td>EU</td>\n",
       "      <td>Android</td>\n",
       "    </tr>\n",
       "  </tbody>\n",
       "</table>\n",
       "<p>3285 rows × 4 columns</p>\n",
       "</div>"
      ],
      "text/plain": [
       "                user_id first_date region   device\n",
       "0      D72A72121175D8BE 2020-12-07     EU       PC\n",
       "23     831887FE7F2D6CBA 2020-12-07     EU  Android\n",
       "39     4CB179C7F847320B 2020-12-07     EU   iPhone\n",
       "65     16C69ED14DA9F4A8 2020-12-07     EU       PC\n",
       "69     3C5DD0288AC4FE23 2020-12-07     EU       PC\n",
       "...                 ...        ...    ...      ...\n",
       "57403  F5A2E09EDD13F4EE 2020-12-13     EU   iPhone\n",
       "57416  CB194C10D84C7E25 2020-12-13     EU       PC\n",
       "57433  AD21E668FC949228 2020-12-13     EU      Mac\n",
       "57441  1FCFF602844AD352 2020-12-13     EU  Android\n",
       "57443  677B05621B3FBF5D 2020-12-13     EU  Android\n",
       "\n",
       "[3285 rows x 4 columns]"
      ]
     },
     "metadata": {},
     "output_type": "display_data"
    }
   ],
   "source": [
    "users_eu_new = users_eu_new.query(\"first_date <= '2020-12-17'\")\n",
    "display(users_eu_new)"
   ]
  },
  {
   "cell_type": "markdown",
   "id": "121b9481",
   "metadata": {},
   "source": [
    "Теперь мы можем соединить все таблицы в одну, чтобы было удобно работать дальше"
   ]
  },
  {
   "cell_type": "code",
   "execution_count": 75,
   "id": "a84b4928",
   "metadata": {},
   "outputs": [
    {
     "data": {
      "text/html": [
       "<div>\n",
       "<style scoped>\n",
       "    .dataframe tbody tr th:only-of-type {\n",
       "        vertical-align: middle;\n",
       "    }\n",
       "\n",
       "    .dataframe tbody tr th {\n",
       "        vertical-align: top;\n",
       "    }\n",
       "\n",
       "    .dataframe thead th {\n",
       "        text-align: right;\n",
       "    }\n",
       "</style>\n",
       "<table border=\"1\" class=\"dataframe\">\n",
       "  <thead>\n",
       "    <tr style=\"text-align: right;\">\n",
       "      <th></th>\n",
       "      <th>user_id</th>\n",
       "      <th>first_date</th>\n",
       "      <th>region</th>\n",
       "      <th>device</th>\n",
       "      <th>index</th>\n",
       "      <th>group</th>\n",
       "      <th>ab_test</th>\n",
       "    </tr>\n",
       "  </thead>\n",
       "  <tbody>\n",
       "    <tr>\n",
       "      <th>0</th>\n",
       "      <td>D72A72121175D8BE</td>\n",
       "      <td>2020-12-07</td>\n",
       "      <td>EU</td>\n",
       "      <td>PC</td>\n",
       "      <td>6226</td>\n",
       "      <td>A</td>\n",
       "      <td>recommender_system_test</td>\n",
       "    </tr>\n",
       "    <tr>\n",
       "      <th>1</th>\n",
       "      <td>831887FE7F2D6CBA</td>\n",
       "      <td>2020-12-07</td>\n",
       "      <td>EU</td>\n",
       "      <td>Android</td>\n",
       "      <td>656</td>\n",
       "      <td>A</td>\n",
       "      <td>recommender_system_test</td>\n",
       "    </tr>\n",
       "    <tr>\n",
       "      <th>2</th>\n",
       "      <td>4CB179C7F847320B</td>\n",
       "      <td>2020-12-07</td>\n",
       "      <td>EU</td>\n",
       "      <td>iPhone</td>\n",
       "      <td>2789</td>\n",
       "      <td>B</td>\n",
       "      <td>recommender_system_test</td>\n",
       "    </tr>\n",
       "    <tr>\n",
       "      <th>3</th>\n",
       "      <td>16C69ED14DA9F4A8</td>\n",
       "      <td>2020-12-07</td>\n",
       "      <td>EU</td>\n",
       "      <td>PC</td>\n",
       "      <td>2036</td>\n",
       "      <td>B</td>\n",
       "      <td>recommender_system_test</td>\n",
       "    </tr>\n",
       "    <tr>\n",
       "      <th>4</th>\n",
       "      <td>3C5DD0288AC4FE23</td>\n",
       "      <td>2020-12-07</td>\n",
       "      <td>EU</td>\n",
       "      <td>PC</td>\n",
       "      <td>3943</td>\n",
       "      <td>A</td>\n",
       "      <td>recommender_system_test</td>\n",
       "    </tr>\n",
       "    <tr>\n",
       "      <th>...</th>\n",
       "      <td>...</td>\n",
       "      <td>...</td>\n",
       "      <td>...</td>\n",
       "      <td>...</td>\n",
       "      <td>...</td>\n",
       "      <td>...</td>\n",
       "      <td>...</td>\n",
       "    </tr>\n",
       "    <tr>\n",
       "      <th>3280</th>\n",
       "      <td>F5A2E09EDD13F4EE</td>\n",
       "      <td>2020-12-13</td>\n",
       "      <td>EU</td>\n",
       "      <td>iPhone</td>\n",
       "      <td>3796</td>\n",
       "      <td>B</td>\n",
       "      <td>recommender_system_test</td>\n",
       "    </tr>\n",
       "    <tr>\n",
       "      <th>3281</th>\n",
       "      <td>CB194C10D84C7E25</td>\n",
       "      <td>2020-12-13</td>\n",
       "      <td>EU</td>\n",
       "      <td>PC</td>\n",
       "      <td>5954</td>\n",
       "      <td>A</td>\n",
       "      <td>recommender_system_test</td>\n",
       "    </tr>\n",
       "    <tr>\n",
       "      <th>3282</th>\n",
       "      <td>AD21E668FC949228</td>\n",
       "      <td>2020-12-13</td>\n",
       "      <td>EU</td>\n",
       "      <td>Mac</td>\n",
       "      <td>606</td>\n",
       "      <td>A</td>\n",
       "      <td>recommender_system_test</td>\n",
       "    </tr>\n",
       "    <tr>\n",
       "      <th>3283</th>\n",
       "      <td>1FCFF602844AD352</td>\n",
       "      <td>2020-12-13</td>\n",
       "      <td>EU</td>\n",
       "      <td>Android</td>\n",
       "      <td>5095</td>\n",
       "      <td>A</td>\n",
       "      <td>recommender_system_test</td>\n",
       "    </tr>\n",
       "    <tr>\n",
       "      <th>3284</th>\n",
       "      <td>677B05621B3FBF5D</td>\n",
       "      <td>2020-12-13</td>\n",
       "      <td>EU</td>\n",
       "      <td>Android</td>\n",
       "      <td>1065</td>\n",
       "      <td>A</td>\n",
       "      <td>recommender_system_test</td>\n",
       "    </tr>\n",
       "  </tbody>\n",
       "</table>\n",
       "<p>3285 rows × 7 columns</p>\n",
       "</div>"
      ],
      "text/plain": [
       "               user_id first_date region   device  index group  \\\n",
       "0     D72A72121175D8BE 2020-12-07     EU       PC   6226     A   \n",
       "1     831887FE7F2D6CBA 2020-12-07     EU  Android    656     A   \n",
       "2     4CB179C7F847320B 2020-12-07     EU   iPhone   2789     B   \n",
       "3     16C69ED14DA9F4A8 2020-12-07     EU       PC   2036     B   \n",
       "4     3C5DD0288AC4FE23 2020-12-07     EU       PC   3943     A   \n",
       "...                ...        ...    ...      ...    ...   ...   \n",
       "3280  F5A2E09EDD13F4EE 2020-12-13     EU   iPhone   3796     B   \n",
       "3281  CB194C10D84C7E25 2020-12-13     EU       PC   5954     A   \n",
       "3282  AD21E668FC949228 2020-12-13     EU      Mac    606     A   \n",
       "3283  1FCFF602844AD352 2020-12-13     EU  Android   5095     A   \n",
       "3284  677B05621B3FBF5D 2020-12-13     EU  Android   1065     A   \n",
       "\n",
       "                      ab_test  \n",
       "0     recommender_system_test  \n",
       "1     recommender_system_test  \n",
       "2     recommender_system_test  \n",
       "3     recommender_system_test  \n",
       "4     recommender_system_test  \n",
       "...                       ...  \n",
       "3280  recommender_system_test  \n",
       "3281  recommender_system_test  \n",
       "3282  recommender_system_test  \n",
       "3283  recommender_system_test  \n",
       "3284  recommender_system_test  \n",
       "\n",
       "[3285 rows x 7 columns]"
      ]
     },
     "metadata": {},
     "output_type": "display_data"
    }
   ],
   "source": [
    "df = users_eu_new.merge(our_test_filtered, how = 'left' , on = 'user_id')\n",
    "display(df)"
   ]
  },
  {
   "cell_type": "code",
   "execution_count": 76,
   "id": "b137d425",
   "metadata": {},
   "outputs": [
    {
     "data": {
      "text/html": [
       "<div>\n",
       "<style scoped>\n",
       "    .dataframe tbody tr th:only-of-type {\n",
       "        vertical-align: middle;\n",
       "    }\n",
       "\n",
       "    .dataframe tbody tr th {\n",
       "        vertical-align: top;\n",
       "    }\n",
       "\n",
       "    .dataframe thead th {\n",
       "        text-align: right;\n",
       "    }\n",
       "</style>\n",
       "<table border=\"1\" class=\"dataframe\">\n",
       "  <thead>\n",
       "    <tr style=\"text-align: right;\">\n",
       "      <th></th>\n",
       "      <th>user_id</th>\n",
       "      <th>event_dt</th>\n",
       "      <th>event_name</th>\n",
       "      <th>details</th>\n",
       "      <th>first_date</th>\n",
       "      <th>region</th>\n",
       "      <th>device</th>\n",
       "      <th>index</th>\n",
       "      <th>group</th>\n",
       "      <th>ab_test</th>\n",
       "    </tr>\n",
       "  </thead>\n",
       "  <tbody>\n",
       "    <tr>\n",
       "      <th>0</th>\n",
       "      <td>831887FE7F2D6CBA</td>\n",
       "      <td>2020-12-07 06:50:29</td>\n",
       "      <td>purchase</td>\n",
       "      <td>4.99</td>\n",
       "      <td>2020-12-07</td>\n",
       "      <td>EU</td>\n",
       "      <td>Android</td>\n",
       "      <td>656</td>\n",
       "      <td>A</td>\n",
       "      <td>recommender_system_test</td>\n",
       "    </tr>\n",
       "    <tr>\n",
       "      <th>1</th>\n",
       "      <td>831887FE7F2D6CBA</td>\n",
       "      <td>2020-12-09 02:19:17</td>\n",
       "      <td>purchase</td>\n",
       "      <td>99.99</td>\n",
       "      <td>2020-12-07</td>\n",
       "      <td>EU</td>\n",
       "      <td>Android</td>\n",
       "      <td>656</td>\n",
       "      <td>A</td>\n",
       "      <td>recommender_system_test</td>\n",
       "    </tr>\n",
       "    <tr>\n",
       "      <th>2</th>\n",
       "      <td>831887FE7F2D6CBA</td>\n",
       "      <td>2020-12-07 06:50:30</td>\n",
       "      <td>product_cart</td>\n",
       "      <td>NaN</td>\n",
       "      <td>2020-12-07</td>\n",
       "      <td>EU</td>\n",
       "      <td>Android</td>\n",
       "      <td>656</td>\n",
       "      <td>A</td>\n",
       "      <td>recommender_system_test</td>\n",
       "    </tr>\n",
       "    <tr>\n",
       "      <th>3</th>\n",
       "      <td>831887FE7F2D6CBA</td>\n",
       "      <td>2020-12-08 10:52:27</td>\n",
       "      <td>product_cart</td>\n",
       "      <td>NaN</td>\n",
       "      <td>2020-12-07</td>\n",
       "      <td>EU</td>\n",
       "      <td>Android</td>\n",
       "      <td>656</td>\n",
       "      <td>A</td>\n",
       "      <td>recommender_system_test</td>\n",
       "    </tr>\n",
       "    <tr>\n",
       "      <th>4</th>\n",
       "      <td>831887FE7F2D6CBA</td>\n",
       "      <td>2020-12-09 02:19:17</td>\n",
       "      <td>product_cart</td>\n",
       "      <td>NaN</td>\n",
       "      <td>2020-12-07</td>\n",
       "      <td>EU</td>\n",
       "      <td>Android</td>\n",
       "      <td>656</td>\n",
       "      <td>A</td>\n",
       "      <td>recommender_system_test</td>\n",
       "    </tr>\n",
       "    <tr>\n",
       "      <th>...</th>\n",
       "      <td>...</td>\n",
       "      <td>...</td>\n",
       "      <td>...</td>\n",
       "      <td>...</td>\n",
       "      <td>...</td>\n",
       "      <td>...</td>\n",
       "      <td>...</td>\n",
       "      <td>...</td>\n",
       "      <td>...</td>\n",
       "      <td>...</td>\n",
       "    </tr>\n",
       "    <tr>\n",
       "      <th>10977</th>\n",
       "      <td>E26F13A65CEAC6EA</td>\n",
       "      <td>2020-12-17 08:45:52</td>\n",
       "      <td>login</td>\n",
       "      <td>NaN</td>\n",
       "      <td>2020-12-17</td>\n",
       "      <td>EU</td>\n",
       "      <td>Mac</td>\n",
       "      <td>6348</td>\n",
       "      <td>A</td>\n",
       "      <td>recommender_system_test</td>\n",
       "    </tr>\n",
       "    <tr>\n",
       "      <th>10978</th>\n",
       "      <td>E26F13A65CEAC6EA</td>\n",
       "      <td>2020-12-19 23:30:22</td>\n",
       "      <td>login</td>\n",
       "      <td>NaN</td>\n",
       "      <td>2020-12-17</td>\n",
       "      <td>EU</td>\n",
       "      <td>Mac</td>\n",
       "      <td>6348</td>\n",
       "      <td>A</td>\n",
       "      <td>recommender_system_test</td>\n",
       "    </tr>\n",
       "    <tr>\n",
       "      <th>10979</th>\n",
       "      <td>E26F13A65CEAC6EA</td>\n",
       "      <td>2020-12-20 18:41:25</td>\n",
       "      <td>login</td>\n",
       "      <td>NaN</td>\n",
       "      <td>2020-12-17</td>\n",
       "      <td>EU</td>\n",
       "      <td>Mac</td>\n",
       "      <td>6348</td>\n",
       "      <td>A</td>\n",
       "      <td>recommender_system_test</td>\n",
       "    </tr>\n",
       "    <tr>\n",
       "      <th>10980</th>\n",
       "      <td>8013F2257A25F9BD</td>\n",
       "      <td>2020-12-17 02:09:03</td>\n",
       "      <td>login</td>\n",
       "      <td>NaN</td>\n",
       "      <td>2020-12-17</td>\n",
       "      <td>EU</td>\n",
       "      <td>iPhone</td>\n",
       "      <td>6330</td>\n",
       "      <td>A</td>\n",
       "      <td>recommender_system_test</td>\n",
       "    </tr>\n",
       "    <tr>\n",
       "      <th>10981</th>\n",
       "      <td>8013F2257A25F9BD</td>\n",
       "      <td>2020-12-27 09:22:36</td>\n",
       "      <td>login</td>\n",
       "      <td>NaN</td>\n",
       "      <td>2020-12-17</td>\n",
       "      <td>EU</td>\n",
       "      <td>iPhone</td>\n",
       "      <td>6330</td>\n",
       "      <td>A</td>\n",
       "      <td>recommender_system_test</td>\n",
       "    </tr>\n",
       "  </tbody>\n",
       "</table>\n",
       "<p>10982 rows × 10 columns</p>\n",
       "</div>"
      ],
      "text/plain": [
       "                user_id            event_dt    event_name  details first_date  \\\n",
       "0      831887FE7F2D6CBA 2020-12-07 06:50:29      purchase     4.99 2020-12-07   \n",
       "1      831887FE7F2D6CBA 2020-12-09 02:19:17      purchase    99.99 2020-12-07   \n",
       "2      831887FE7F2D6CBA 2020-12-07 06:50:30  product_cart      NaN 2020-12-07   \n",
       "3      831887FE7F2D6CBA 2020-12-08 10:52:27  product_cart      NaN 2020-12-07   \n",
       "4      831887FE7F2D6CBA 2020-12-09 02:19:17  product_cart      NaN 2020-12-07   \n",
       "...                 ...                 ...           ...      ...        ...   \n",
       "10977  E26F13A65CEAC6EA 2020-12-17 08:45:52         login      NaN 2020-12-17   \n",
       "10978  E26F13A65CEAC6EA 2020-12-19 23:30:22         login      NaN 2020-12-17   \n",
       "10979  E26F13A65CEAC6EA 2020-12-20 18:41:25         login      NaN 2020-12-17   \n",
       "10980  8013F2257A25F9BD 2020-12-17 02:09:03         login      NaN 2020-12-17   \n",
       "10981  8013F2257A25F9BD 2020-12-27 09:22:36         login      NaN 2020-12-17   \n",
       "\n",
       "      region   device  index group                  ab_test  \n",
       "0         EU  Android    656     A  recommender_system_test  \n",
       "1         EU  Android    656     A  recommender_system_test  \n",
       "2         EU  Android    656     A  recommender_system_test  \n",
       "3         EU  Android    656     A  recommender_system_test  \n",
       "4         EU  Android    656     A  recommender_system_test  \n",
       "...      ...      ...    ...   ...                      ...  \n",
       "10977     EU      Mac   6348     A  recommender_system_test  \n",
       "10978     EU      Mac   6348     A  recommender_system_test  \n",
       "10979     EU      Mac   6348     A  recommender_system_test  \n",
       "10980     EU   iPhone   6330     A  recommender_system_test  \n",
       "10981     EU   iPhone   6330     A  recommender_system_test  \n",
       "\n",
       "[10982 rows x 10 columns]"
      ]
     },
     "metadata": {},
     "output_type": "display_data"
    }
   ],
   "source": [
    "data = events_new.merge(df, on = 'user_id')\n",
    "display(data)"
   ]
  },
  {
   "cell_type": "code",
   "execution_count": 77,
   "id": "edc7d347",
   "metadata": {},
   "outputs": [
    {
     "name": "stdout",
     "output_type": "stream",
     "text": [
      "1591\n"
     ]
    }
   ],
   "source": [
    "print(data['user_id'].nunique())"
   ]
  },
  {
   "cell_type": "markdown",
   "id": "51da26ac",
   "metadata": {},
   "source": [
    "**Влияние маркетинговых событий**"
   ]
  },
  {
   "cell_type": "code",
   "execution_count": 78,
   "id": "ca4327b1",
   "metadata": {},
   "outputs": [
    {
     "data": {
      "text/html": [
       "<div>\n",
       "<style scoped>\n",
       "    .dataframe tbody tr th:only-of-type {\n",
       "        vertical-align: middle;\n",
       "    }\n",
       "\n",
       "    .dataframe tbody tr th {\n",
       "        vertical-align: top;\n",
       "    }\n",
       "\n",
       "    .dataframe thead th {\n",
       "        text-align: right;\n",
       "    }\n",
       "</style>\n",
       "<table border=\"1\" class=\"dataframe\">\n",
       "  <thead>\n",
       "    <tr style=\"text-align: right;\">\n",
       "      <th></th>\n",
       "      <th>name</th>\n",
       "      <th>regions</th>\n",
       "      <th>start_dt</th>\n",
       "      <th>finish_dt</th>\n",
       "    </tr>\n",
       "  </thead>\n",
       "  <tbody>\n",
       "    <tr>\n",
       "      <th>6</th>\n",
       "      <td>Chinese New Year Promo</td>\n",
       "      <td>APAC</td>\n",
       "      <td>2020-01-25</td>\n",
       "      <td>2020-02-07</td>\n",
       "    </tr>\n",
       "    <tr>\n",
       "      <th>1</th>\n",
       "      <td>St. Valentine's Day Giveaway</td>\n",
       "      <td>EU, CIS, APAC, N.America</td>\n",
       "      <td>2020-02-14</td>\n",
       "      <td>2020-02-16</td>\n",
       "    </tr>\n",
       "    <tr>\n",
       "      <th>8</th>\n",
       "      <td>International Women's Day Promo</td>\n",
       "      <td>EU, CIS, APAC</td>\n",
       "      <td>2020-03-08</td>\n",
       "      <td>2020-03-10</td>\n",
       "    </tr>\n",
       "    <tr>\n",
       "      <th>2</th>\n",
       "      <td>St. Patric's Day Promo</td>\n",
       "      <td>EU, N.America</td>\n",
       "      <td>2020-03-17</td>\n",
       "      <td>2020-03-19</td>\n",
       "    </tr>\n",
       "    <tr>\n",
       "      <th>3</th>\n",
       "      <td>Easter Promo</td>\n",
       "      <td>EU, CIS, APAC, N.America</td>\n",
       "      <td>2020-04-12</td>\n",
       "      <td>2020-04-19</td>\n",
       "    </tr>\n",
       "    <tr>\n",
       "      <th>7</th>\n",
       "      <td>Labor day (May 1st) Ads Campaign</td>\n",
       "      <td>EU, CIS, APAC</td>\n",
       "      <td>2020-05-01</td>\n",
       "      <td>2020-05-03</td>\n",
       "    </tr>\n",
       "    <tr>\n",
       "      <th>9</th>\n",
       "      <td>Victory Day CIS (May 9th) Event</td>\n",
       "      <td>CIS</td>\n",
       "      <td>2020-05-09</td>\n",
       "      <td>2020-05-11</td>\n",
       "    </tr>\n",
       "    <tr>\n",
       "      <th>11</th>\n",
       "      <td>Dragon Boat Festival Giveaway</td>\n",
       "      <td>APAC</td>\n",
       "      <td>2020-06-25</td>\n",
       "      <td>2020-07-01</td>\n",
       "    </tr>\n",
       "    <tr>\n",
       "      <th>4</th>\n",
       "      <td>4th of July Promo</td>\n",
       "      <td>N.America</td>\n",
       "      <td>2020-07-04</td>\n",
       "      <td>2020-07-11</td>\n",
       "    </tr>\n",
       "    <tr>\n",
       "      <th>13</th>\n",
       "      <td>Chinese Moon Festival</td>\n",
       "      <td>APAC</td>\n",
       "      <td>2020-10-01</td>\n",
       "      <td>2020-10-07</td>\n",
       "    </tr>\n",
       "    <tr>\n",
       "      <th>12</th>\n",
       "      <td>Single's Day Gift Promo</td>\n",
       "      <td>APAC</td>\n",
       "      <td>2020-11-11</td>\n",
       "      <td>2020-11-12</td>\n",
       "    </tr>\n",
       "    <tr>\n",
       "      <th>5</th>\n",
       "      <td>Black Friday Ads Campaign</td>\n",
       "      <td>EU, CIS, APAC, N.America</td>\n",
       "      <td>2020-11-26</td>\n",
       "      <td>2020-12-01</td>\n",
       "    </tr>\n",
       "    <tr>\n",
       "      <th>0</th>\n",
       "      <td>Christmas&amp;New Year Promo</td>\n",
       "      <td>EU, N.America</td>\n",
       "      <td>2020-12-25</td>\n",
       "      <td>2021-01-03</td>\n",
       "    </tr>\n",
       "    <tr>\n",
       "      <th>10</th>\n",
       "      <td>CIS New Year Gift Lottery</td>\n",
       "      <td>CIS</td>\n",
       "      <td>2020-12-30</td>\n",
       "      <td>2021-01-07</td>\n",
       "    </tr>\n",
       "  </tbody>\n",
       "</table>\n",
       "</div>"
      ],
      "text/plain": [
       "                                name                   regions   start_dt  \\\n",
       "6             Chinese New Year Promo                      APAC 2020-01-25   \n",
       "1       St. Valentine's Day Giveaway  EU, CIS, APAC, N.America 2020-02-14   \n",
       "8    International Women's Day Promo             EU, CIS, APAC 2020-03-08   \n",
       "2             St. Patric's Day Promo             EU, N.America 2020-03-17   \n",
       "3                       Easter Promo  EU, CIS, APAC, N.America 2020-04-12   \n",
       "7   Labor day (May 1st) Ads Campaign             EU, CIS, APAC 2020-05-01   \n",
       "9    Victory Day CIS (May 9th) Event                       CIS 2020-05-09   \n",
       "11     Dragon Boat Festival Giveaway                      APAC 2020-06-25   \n",
       "4                  4th of July Promo                 N.America 2020-07-04   \n",
       "13             Chinese Moon Festival                      APAC 2020-10-01   \n",
       "12           Single's Day Gift Promo                      APAC 2020-11-11   \n",
       "5          Black Friday Ads Campaign  EU, CIS, APAC, N.America 2020-11-26   \n",
       "0           Christmas&New Year Promo             EU, N.America 2020-12-25   \n",
       "10         CIS New Year Gift Lottery                       CIS 2020-12-30   \n",
       "\n",
       "    finish_dt  \n",
       "6  2020-02-07  \n",
       "1  2020-02-16  \n",
       "8  2020-03-10  \n",
       "2  2020-03-19  \n",
       "3  2020-04-19  \n",
       "7  2020-05-03  \n",
       "9  2020-05-11  \n",
       "11 2020-07-01  \n",
       "4  2020-07-11  \n",
       "13 2020-10-07  \n",
       "12 2020-11-12  \n",
       "5  2020-12-01  \n",
       "0  2021-01-03  \n",
       "10 2021-01-07  "
      ]
     },
     "metadata": {},
     "output_type": "display_data"
    }
   ],
   "source": [
    "display(marketing_events.sort_values('start_dt'))"
   ]
  },
  {
   "cell_type": "markdown",
   "id": "6f970db2",
   "metadata": {},
   "source": [
    "Как мы видим, по датам с нашим тестом совпадает два маркетинговых событий: `Christmas&New Year Promo` и `CIS New Year Gift Lottery`. Но так как мы знаем распределение событий по дням, то `Christmas&New Year Promo`, которое затрагивает тест с 25 декабря по 30 декабря никак не влияет на тест, так как никаких всплесков или просадки по событиям в эти дни нет. `CIS New Year Gift Lottery` затрагивает только 30 декабря, но в этот день вообще почти не было событий, поэтому получаем, что маркетинговые события никак не влияют на наш тест."
   ]
  },
  {
   "cell_type": "markdown",
   "id": "fb090482",
   "metadata": {},
   "source": [
    "**Проверка на корректность 15% EU**"
   ]
  },
  {
   "cell_type": "markdown",
   "id": "b9f5a4f2",
   "metadata": {},
   "source": [
    "Посчитаем количество пользователей, которые зарегистрировались с 7 по 21 декабря"
   ]
  },
  {
   "cell_type": "code",
   "execution_count": 79,
   "id": "36233d46",
   "metadata": {},
   "outputs": [
    {
     "data": {
      "text/plain": [
       "56470"
      ]
     },
     "execution_count": 79,
     "metadata": {},
     "output_type": "execute_result"
    }
   ],
   "source": [
    "new_users.query(\"first_date >= '2020-12-07' and first_date <= '2020-12-21'\")['user_id'].nunique()"
   ]
  },
  {
   "cell_type": "markdown",
   "id": "e320de19",
   "metadata": {},
   "source": [
    "Выведем процент пользователей которые попали в наш тест"
   ]
  },
  {
   "cell_type": "code",
   "execution_count": 80,
   "id": "8083d747",
   "metadata": {},
   "outputs": [
    {
     "name": "stdout",
     "output_type": "stream",
     "text": [
      "7.758620689655173\n"
     ]
    }
   ],
   "source": [
    "print(df['user_id'].nunique()/new_users.query(\"first_date >= '2020-12-07' and first_date <= '2020-12-21'  and region =='EU' \")['user_id'].nunique()*100)"
   ]
  },
  {
   "cell_type": "markdown",
   "id": "32c4387f",
   "metadata": {},
   "source": [
    "Получаем, что тест набрал всего 5,8% пользователей из Евросоюза из 15% заявленных, значит, данный пункт ТЗ не выполнен.\n"
   ]
  },
  {
   "cell_type": "markdown",
   "id": "d23b0ed9",
   "metadata": {},
   "source": [
    "### Удостоверимся, что группы в тесте составлены правильно и не имеют пересечений"
   ]
  },
  {
   "cell_type": "markdown",
   "id": "23077e38",
   "metadata": {},
   "source": [
    "При A/B тесте распределение между группа должно быть 50/50. Проверим как в нашем случае распределяются пользователи"
   ]
  },
  {
   "cell_type": "code",
   "execution_count": 81,
   "id": "3fa3562b",
   "metadata": {},
   "outputs": [
    {
     "name": "stdout",
     "output_type": "stream",
     "text": [
      "A    1889\n",
      "B    1396\n",
      "Name: group, dtype: int64\n"
     ]
    }
   ],
   "source": [
    "print(df['group'].value_counts())"
   ]
  },
  {
   "cell_type": "markdown",
   "id": "0a26c314",
   "metadata": {},
   "source": [
    "Как мы видим, участники теста распределены между группами совсем неодинаково, но собственно, сделать мы ничего не можем, поэтому будем работать дальше с таким распределением"
   ]
  },
  {
   "cell_type": "code",
   "execution_count": 82,
   "id": "6c7f95d5",
   "metadata": {},
   "outputs": [
    {
     "data": {
      "text/plain": [
       "group    0\n",
       "dtype: int64"
      ]
     },
     "execution_count": 82,
     "metadata": {},
     "output_type": "execute_result"
    }
   ],
   "source": [
    "df.groupby('user_id').agg({'group' : 'nunique'}).query('group>1').count()"
   ]
  },
  {
   "cell_type": "markdown",
   "id": "c4838914",
   "metadata": {},
   "source": [
    "Как можно увидеть группы в тесте не пересекаются"
   ]
  },
  {
   "cell_type": "markdown",
   "id": "de13bb5b",
   "metadata": {},
   "source": [
    "### Вывод"
   ]
  },
  {
   "cell_type": "markdown",
   "id": "80cf585b",
   "metadata": {},
   "source": [
    "Таким образом сделали следующее:\n",
    "\n",
    "1) Убрали пересечение с другим тестом, чтобы не получить плохие результаты теста\n",
    "\n",
    "2) Сократили пользователей за счет выделения только Европейского региона\n",
    "\n",
    "3) Уменьшили дату остановки набора новых пользователей до 17 декабря, чтобы все пользователи помещались в лайфтайм\n",
    "\n",
    "4) Число участников теста составляет 3285\n",
    "\n",
    "5) Те кто совершал какие-либо действия: 1591\n",
    "\n",
    "6) `Christmas&New Year Promo`, которое затрагивает тест с 25 декабря по 30 декабря никак не влияет на тест, так как никаких всплесков или просадки по событиям в эти дни нет. `CIS New Year Gift Lottery` затрагивает только 30 декабря, но в этот день вообще почти не было событий, поэтому получаем, что маркетинговые события никак не влияют на наш тест.\n",
    "\n",
    "7) Тест набрал всего 5,8% пользователей из Евросоюза из 15% заявленных, значит, данный пункт ТЗ не выполнен.\n",
    "\n",
    "8) Распределение между группами не равное(А - 1889, В - 1396), но пересечений в группах теста не имеется\n",
    "\n",
    "Тем самым мы получили не самые лучшие качества данных для нашего теста, потому что какая-то часть не выполнена, от распределения групп до количества участников теста."
   ]
  },
  {
   "cell_type": "markdown",
   "id": "42095482",
   "metadata": {},
   "source": [
    "# Исследовательский анализ данных"
   ]
  },
  {
   "cell_type": "markdown",
   "id": "0e97dd14",
   "metadata": {},
   "source": [
    "### Распределение количества событий на пользователя по группам"
   ]
  },
  {
   "cell_type": "code",
   "execution_count": 83,
   "id": "5a0c6bd9",
   "metadata": {},
   "outputs": [
    {
     "data": {
      "text/html": [
       "<div>\n",
       "<style scoped>\n",
       "    .dataframe tbody tr th:only-of-type {\n",
       "        vertical-align: middle;\n",
       "    }\n",
       "\n",
       "    .dataframe tbody tr th {\n",
       "        vertical-align: top;\n",
       "    }\n",
       "\n",
       "    .dataframe thead th {\n",
       "        text-align: right;\n",
       "    }\n",
       "</style>\n",
       "<table border=\"1\" class=\"dataframe\">\n",
       "  <thead>\n",
       "    <tr style=\"text-align: right;\">\n",
       "      <th></th>\n",
       "      <th>user_id</th>\n",
       "      <th>group</th>\n",
       "      <th>event_name</th>\n",
       "    </tr>\n",
       "  </thead>\n",
       "  <tbody>\n",
       "    <tr>\n",
       "      <th>0</th>\n",
       "      <td>0010A1C096941592</td>\n",
       "      <td>A</td>\n",
       "      <td>12</td>\n",
       "    </tr>\n",
       "    <tr>\n",
       "      <th>1</th>\n",
       "      <td>003DF44D7589BBD4</td>\n",
       "      <td>A</td>\n",
       "      <td>15</td>\n",
       "    </tr>\n",
       "    <tr>\n",
       "      <th>2</th>\n",
       "      <td>00505E15A9D81546</td>\n",
       "      <td>A</td>\n",
       "      <td>5</td>\n",
       "    </tr>\n",
       "    <tr>\n",
       "      <th>3</th>\n",
       "      <td>006E3E4E232CE760</td>\n",
       "      <td>A</td>\n",
       "      <td>6</td>\n",
       "    </tr>\n",
       "    <tr>\n",
       "      <th>4</th>\n",
       "      <td>015CCC27BDB640E1</td>\n",
       "      <td>A</td>\n",
       "      <td>6</td>\n",
       "    </tr>\n",
       "    <tr>\n",
       "      <th>...</th>\n",
       "      <td>...</td>\n",
       "      <td>...</td>\n",
       "      <td>...</td>\n",
       "    </tr>\n",
       "    <tr>\n",
       "      <th>1586</th>\n",
       "      <td>FF120D67C4BE2DA3</td>\n",
       "      <td>A</td>\n",
       "      <td>6</td>\n",
       "    </tr>\n",
       "    <tr>\n",
       "      <th>1587</th>\n",
       "      <td>FF1AB7A774128512</td>\n",
       "      <td>A</td>\n",
       "      <td>4</td>\n",
       "    </tr>\n",
       "    <tr>\n",
       "      <th>1588</th>\n",
       "      <td>FF40F25452E70E3D</td>\n",
       "      <td>A</td>\n",
       "      <td>4</td>\n",
       "    </tr>\n",
       "    <tr>\n",
       "      <th>1589</th>\n",
       "      <td>FF4456FBA59116E3</td>\n",
       "      <td>A</td>\n",
       "      <td>12</td>\n",
       "    </tr>\n",
       "    <tr>\n",
       "      <th>1590</th>\n",
       "      <td>FFAE9489C76F352B</td>\n",
       "      <td>A</td>\n",
       "      <td>6</td>\n",
       "    </tr>\n",
       "  </tbody>\n",
       "</table>\n",
       "<p>1591 rows × 3 columns</p>\n",
       "</div>"
      ],
      "text/plain": [
       "               user_id group  event_name\n",
       "0     0010A1C096941592     A          12\n",
       "1     003DF44D7589BBD4     A          15\n",
       "2     00505E15A9D81546     A           5\n",
       "3     006E3E4E232CE760     A           6\n",
       "4     015CCC27BDB640E1     A           6\n",
       "...                ...   ...         ...\n",
       "1586  FF120D67C4BE2DA3     A           6\n",
       "1587  FF1AB7A774128512     A           4\n",
       "1588  FF40F25452E70E3D     A           4\n",
       "1589  FF4456FBA59116E3     A          12\n",
       "1590  FFAE9489C76F352B     A           6\n",
       "\n",
       "[1591 rows x 3 columns]"
      ]
     },
     "metadata": {},
     "output_type": "display_data"
    }
   ],
   "source": [
    "event_user1 = data.groupby(['user_id', 'group'])['event_name'].agg('count').reset_index()\n",
    "display(event_user1)"
   ]
  },
  {
   "cell_type": "code",
   "execution_count": 84,
   "id": "457e590a",
   "metadata": {},
   "outputs": [
    {
     "data": {
      "image/png": "[encoded data removed]",
      "text/plain": [
       "<Figure size 1152x576 with 1 Axes>"
      ]
     },
     "metadata": {
      "needs_background": "light"
     },
     "output_type": "display_data"
    }
   ],
   "source": [
    "plt.figure(figsize=(16,8))\n",
    "ax = sns.histplot(data=event_user1, bins = 50,x = 'event_name' , hue='group')\n",
    "ax.set (xlabel='Количество событий',\n",
    " ylabel='Количество пользователей',\n",
    " title='Распределение количества событий на пользователя по группам')\n",
    "plt.show()"
   ]
  },
  {
   "cell_type": "markdown",
   "id": "a4b187dd",
   "metadata": {},
   "source": [
    "Как можно увидеть, что для группы А, что для группы В, пик приходится на 6 событий. Больше 25 событий делали только в группе В. Распределение в обоих группах напоминает нормальное со скосом влево, правда, есть провал на 5 событиях. Это связано с четностью событий от логина до покупки"
   ]
  },
  {
   "cell_type": "code",
   "execution_count": 85,
   "id": "0db52eff",
   "metadata": {},
   "outputs": [
    {
     "data": {
      "text/html": [
       "<div>\n",
       "<style scoped>\n",
       "    .dataframe tbody tr th:only-of-type {\n",
       "        vertical-align: middle;\n",
       "    }\n",
       "\n",
       "    .dataframe tbody tr th {\n",
       "        vertical-align: top;\n",
       "    }\n",
       "\n",
       "    .dataframe thead th {\n",
       "        text-align: right;\n",
       "    }\n",
       "</style>\n",
       "<table border=\"1\" class=\"dataframe\">\n",
       "  <thead>\n",
       "    <tr style=\"text-align: right;\">\n",
       "      <th></th>\n",
       "      <th>user_id</th>\n",
       "      <th>event_dt</th>\n",
       "      <th>event_name</th>\n",
       "      <th>details</th>\n",
       "      <th>first_date</th>\n",
       "      <th>region</th>\n",
       "      <th>device</th>\n",
       "      <th>index</th>\n",
       "      <th>group</th>\n",
       "      <th>ab_test</th>\n",
       "      <th>event_date</th>\n",
       "    </tr>\n",
       "  </thead>\n",
       "  <tbody>\n",
       "    <tr>\n",
       "      <th>0</th>\n",
       "      <td>831887FE7F2D6CBA</td>\n",
       "      <td>2020-12-07 06:50:29</td>\n",
       "      <td>purchase</td>\n",
       "      <td>4.99</td>\n",
       "      <td>2020-12-07</td>\n",
       "      <td>EU</td>\n",
       "      <td>Android</td>\n",
       "      <td>656</td>\n",
       "      <td>A</td>\n",
       "      <td>recommender_system_test</td>\n",
       "      <td>2020-12-07</td>\n",
       "    </tr>\n",
       "    <tr>\n",
       "      <th>1</th>\n",
       "      <td>831887FE7F2D6CBA</td>\n",
       "      <td>2020-12-09 02:19:17</td>\n",
       "      <td>purchase</td>\n",
       "      <td>99.99</td>\n",
       "      <td>2020-12-07</td>\n",
       "      <td>EU</td>\n",
       "      <td>Android</td>\n",
       "      <td>656</td>\n",
       "      <td>A</td>\n",
       "      <td>recommender_system_test</td>\n",
       "      <td>2020-12-09</td>\n",
       "    </tr>\n",
       "    <tr>\n",
       "      <th>2</th>\n",
       "      <td>831887FE7F2D6CBA</td>\n",
       "      <td>2020-12-07 06:50:30</td>\n",
       "      <td>product_cart</td>\n",
       "      <td>NaN</td>\n",
       "      <td>2020-12-07</td>\n",
       "      <td>EU</td>\n",
       "      <td>Android</td>\n",
       "      <td>656</td>\n",
       "      <td>A</td>\n",
       "      <td>recommender_system_test</td>\n",
       "      <td>2020-12-07</td>\n",
       "    </tr>\n",
       "    <tr>\n",
       "      <th>3</th>\n",
       "      <td>831887FE7F2D6CBA</td>\n",
       "      <td>2020-12-08 10:52:27</td>\n",
       "      <td>product_cart</td>\n",
       "      <td>NaN</td>\n",
       "      <td>2020-12-07</td>\n",
       "      <td>EU</td>\n",
       "      <td>Android</td>\n",
       "      <td>656</td>\n",
       "      <td>A</td>\n",
       "      <td>recommender_system_test</td>\n",
       "      <td>2020-12-08</td>\n",
       "    </tr>\n",
       "    <tr>\n",
       "      <th>4</th>\n",
       "      <td>831887FE7F2D6CBA</td>\n",
       "      <td>2020-12-09 02:19:17</td>\n",
       "      <td>product_cart</td>\n",
       "      <td>NaN</td>\n",
       "      <td>2020-12-07</td>\n",
       "      <td>EU</td>\n",
       "      <td>Android</td>\n",
       "      <td>656</td>\n",
       "      <td>A</td>\n",
       "      <td>recommender_system_test</td>\n",
       "      <td>2020-12-09</td>\n",
       "    </tr>\n",
       "    <tr>\n",
       "      <th>...</th>\n",
       "      <td>...</td>\n",
       "      <td>...</td>\n",
       "      <td>...</td>\n",
       "      <td>...</td>\n",
       "      <td>...</td>\n",
       "      <td>...</td>\n",
       "      <td>...</td>\n",
       "      <td>...</td>\n",
       "      <td>...</td>\n",
       "      <td>...</td>\n",
       "      <td>...</td>\n",
       "    </tr>\n",
       "    <tr>\n",
       "      <th>10977</th>\n",
       "      <td>E26F13A65CEAC6EA</td>\n",
       "      <td>2020-12-17 08:45:52</td>\n",
       "      <td>login</td>\n",
       "      <td>NaN</td>\n",
       "      <td>2020-12-17</td>\n",
       "      <td>EU</td>\n",
       "      <td>Mac</td>\n",
       "      <td>6348</td>\n",
       "      <td>A</td>\n",
       "      <td>recommender_system_test</td>\n",
       "      <td>2020-12-17</td>\n",
       "    </tr>\n",
       "    <tr>\n",
       "      <th>10978</th>\n",
       "      <td>E26F13A65CEAC6EA</td>\n",
       "      <td>2020-12-19 23:30:22</td>\n",
       "      <td>login</td>\n",
       "      <td>NaN</td>\n",
       "      <td>2020-12-17</td>\n",
       "      <td>EU</td>\n",
       "      <td>Mac</td>\n",
       "      <td>6348</td>\n",
       "      <td>A</td>\n",
       "      <td>recommender_system_test</td>\n",
       "      <td>2020-12-19</td>\n",
       "    </tr>\n",
       "    <tr>\n",
       "      <th>10979</th>\n",
       "      <td>E26F13A65CEAC6EA</td>\n",
       "      <td>2020-12-20 18:41:25</td>\n",
       "      <td>login</td>\n",
       "      <td>NaN</td>\n",
       "      <td>2020-12-17</td>\n",
       "      <td>EU</td>\n",
       "      <td>Mac</td>\n",
       "      <td>6348</td>\n",
       "      <td>A</td>\n",
       "      <td>recommender_system_test</td>\n",
       "      <td>2020-12-20</td>\n",
       "    </tr>\n",
       "    <tr>\n",
       "      <th>10980</th>\n",
       "      <td>8013F2257A25F9BD</td>\n",
       "      <td>2020-12-17 02:09:03</td>\n",
       "      <td>login</td>\n",
       "      <td>NaN</td>\n",
       "      <td>2020-12-17</td>\n",
       "      <td>EU</td>\n",
       "      <td>iPhone</td>\n",
       "      <td>6330</td>\n",
       "      <td>A</td>\n",
       "      <td>recommender_system_test</td>\n",
       "      <td>2020-12-17</td>\n",
       "    </tr>\n",
       "    <tr>\n",
       "      <th>10981</th>\n",
       "      <td>8013F2257A25F9BD</td>\n",
       "      <td>2020-12-27 09:22:36</td>\n",
       "      <td>login</td>\n",
       "      <td>NaN</td>\n",
       "      <td>2020-12-17</td>\n",
       "      <td>EU</td>\n",
       "      <td>iPhone</td>\n",
       "      <td>6330</td>\n",
       "      <td>A</td>\n",
       "      <td>recommender_system_test</td>\n",
       "      <td>2020-12-27</td>\n",
       "    </tr>\n",
       "  </tbody>\n",
       "</table>\n",
       "<p>8090 rows × 11 columns</p>\n",
       "</div>"
      ],
      "text/plain": [
       "                user_id            event_dt    event_name  details first_date  \\\n",
       "0      831887FE7F2D6CBA 2020-12-07 06:50:29      purchase     4.99 2020-12-07   \n",
       "1      831887FE7F2D6CBA 2020-12-09 02:19:17      purchase    99.99 2020-12-07   \n",
       "2      831887FE7F2D6CBA 2020-12-07 06:50:30  product_cart      NaN 2020-12-07   \n",
       "3      831887FE7F2D6CBA 2020-12-08 10:52:27  product_cart      NaN 2020-12-07   \n",
       "4      831887FE7F2D6CBA 2020-12-09 02:19:17  product_cart      NaN 2020-12-07   \n",
       "...                 ...                 ...           ...      ...        ...   \n",
       "10977  E26F13A65CEAC6EA 2020-12-17 08:45:52         login      NaN 2020-12-17   \n",
       "10978  E26F13A65CEAC6EA 2020-12-19 23:30:22         login      NaN 2020-12-17   \n",
       "10979  E26F13A65CEAC6EA 2020-12-20 18:41:25         login      NaN 2020-12-17   \n",
       "10980  8013F2257A25F9BD 2020-12-17 02:09:03         login      NaN 2020-12-17   \n",
       "10981  8013F2257A25F9BD 2020-12-27 09:22:36         login      NaN 2020-12-17   \n",
       "\n",
       "      region   device  index group                  ab_test  event_date  \n",
       "0         EU  Android    656     A  recommender_system_test  2020-12-07  \n",
       "1         EU  Android    656     A  recommender_system_test  2020-12-09  \n",
       "2         EU  Android    656     A  recommender_system_test  2020-12-07  \n",
       "3         EU  Android    656     A  recommender_system_test  2020-12-08  \n",
       "4         EU  Android    656     A  recommender_system_test  2020-12-09  \n",
       "...      ...      ...    ...   ...                      ...         ...  \n",
       "10977     EU      Mac   6348     A  recommender_system_test  2020-12-17  \n",
       "10978     EU      Mac   6348     A  recommender_system_test  2020-12-19  \n",
       "10979     EU      Mac   6348     A  recommender_system_test  2020-12-20  \n",
       "10980     EU   iPhone   6330     A  recommender_system_test  2020-12-17  \n",
       "10981     EU   iPhone   6330     A  recommender_system_test  2020-12-27  \n",
       "\n",
       "[8090 rows x 11 columns]"
      ]
     },
     "execution_count": 85,
     "metadata": {},
     "output_type": "execute_result"
    }
   ],
   "source": [
    "df_main = data\n",
    "df_main['event_date'] = df_main['event_dt'].dt.date\n",
    "#Срез для А\n",
    "df_main_a = df_main.query('group == \"A\"')\n",
    "df_main_a"
   ]
  },
  {
   "cell_type": "code",
   "execution_count": 86,
   "id": "8834a10b",
   "metadata": {},
   "outputs": [
    {
     "data": {
      "text/plain": [
       "user_id\n",
       "0010A1C096941592    12\n",
       "003DF44D7589BBD4    15\n",
       "00505E15A9D81546     5\n",
       "006E3E4E232CE760     6\n",
       "015CCC27BDB640E1     6\n",
       "                    ..\n",
       "FF120D67C4BE2DA3     6\n",
       "FF1AB7A774128512     4\n",
       "FF40F25452E70E3D     4\n",
       "FF4456FBA59116E3    12\n",
       "FFAE9489C76F352B     6\n",
       "Name: event_name, Length: 1115, dtype: int64"
      ]
     },
     "metadata": {},
     "output_type": "display_data"
    },
    {
     "data": {
      "image/png": "[encoded data removed]",
      "text/plain": [
       "<Figure size 432x288 with 1 Axes>"
      ]
     },
     "metadata": {
      "needs_background": "light"
     },
     "output_type": "display_data"
    }
   ],
   "source": [
    "count_events_a = df_main_a.groupby('user_id')['event_name'].count()\n",
    "display(count_events_a)\n",
    "event_user1.hist(bins = 10)\n",
    "plt.xlabel('Кол-во событий')\n",
    "plt.ylabel('Кол-во пользователей')\n",
    "plt.title('Распределение кол-ва событий на пользователя в группе А')\n",
    "\n",
    "plt.show()"
   ]
  },
  {
   "cell_type": "markdown",
   "id": "5dbb1db3",
   "metadata": {},
   "source": [
    "### Распределение числа событий по дням"
   ]
  },
  {
   "cell_type": "markdown",
   "id": "9000ba3f",
   "metadata": {},
   "source": [
    "Чтобы построить гистограмму, нам нужно достать дату из `event_dt` без времени"
   ]
  },
  {
   "cell_type": "code",
   "execution_count": 87,
   "id": "7018084e",
   "metadata": {},
   "outputs": [
    {
     "data": {
      "text/html": [
       "<div>\n",
       "<style scoped>\n",
       "    .dataframe tbody tr th:only-of-type {\n",
       "        vertical-align: middle;\n",
       "    }\n",
       "\n",
       "    .dataframe tbody tr th {\n",
       "        vertical-align: top;\n",
       "    }\n",
       "\n",
       "    .dataframe thead th {\n",
       "        text-align: right;\n",
       "    }\n",
       "</style>\n",
       "<table border=\"1\" class=\"dataframe\">\n",
       "  <thead>\n",
       "    <tr style=\"text-align: right;\">\n",
       "      <th></th>\n",
       "      <th>user_id</th>\n",
       "      <th>event_dt</th>\n",
       "      <th>event_name</th>\n",
       "      <th>details</th>\n",
       "      <th>first_date</th>\n",
       "      <th>region</th>\n",
       "      <th>device</th>\n",
       "      <th>index</th>\n",
       "      <th>group</th>\n",
       "      <th>ab_test</th>\n",
       "      <th>event_date</th>\n",
       "    </tr>\n",
       "  </thead>\n",
       "  <tbody>\n",
       "    <tr>\n",
       "      <th>0</th>\n",
       "      <td>831887FE7F2D6CBA</td>\n",
       "      <td>2020-12-07 06:50:29</td>\n",
       "      <td>purchase</td>\n",
       "      <td>4.99</td>\n",
       "      <td>2020-12-07</td>\n",
       "      <td>EU</td>\n",
       "      <td>Android</td>\n",
       "      <td>656</td>\n",
       "      <td>A</td>\n",
       "      <td>recommender_system_test</td>\n",
       "      <td>2020-12-07</td>\n",
       "    </tr>\n",
       "    <tr>\n",
       "      <th>1</th>\n",
       "      <td>831887FE7F2D6CBA</td>\n",
       "      <td>2020-12-09 02:19:17</td>\n",
       "      <td>purchase</td>\n",
       "      <td>99.99</td>\n",
       "      <td>2020-12-07</td>\n",
       "      <td>EU</td>\n",
       "      <td>Android</td>\n",
       "      <td>656</td>\n",
       "      <td>A</td>\n",
       "      <td>recommender_system_test</td>\n",
       "      <td>2020-12-09</td>\n",
       "    </tr>\n",
       "    <tr>\n",
       "      <th>2</th>\n",
       "      <td>831887FE7F2D6CBA</td>\n",
       "      <td>2020-12-07 06:50:30</td>\n",
       "      <td>product_cart</td>\n",
       "      <td>NaN</td>\n",
       "      <td>2020-12-07</td>\n",
       "      <td>EU</td>\n",
       "      <td>Android</td>\n",
       "      <td>656</td>\n",
       "      <td>A</td>\n",
       "      <td>recommender_system_test</td>\n",
       "      <td>2020-12-07</td>\n",
       "    </tr>\n",
       "    <tr>\n",
       "      <th>3</th>\n",
       "      <td>831887FE7F2D6CBA</td>\n",
       "      <td>2020-12-08 10:52:27</td>\n",
       "      <td>product_cart</td>\n",
       "      <td>NaN</td>\n",
       "      <td>2020-12-07</td>\n",
       "      <td>EU</td>\n",
       "      <td>Android</td>\n",
       "      <td>656</td>\n",
       "      <td>A</td>\n",
       "      <td>recommender_system_test</td>\n",
       "      <td>2020-12-08</td>\n",
       "    </tr>\n",
       "    <tr>\n",
       "      <th>4</th>\n",
       "      <td>831887FE7F2D6CBA</td>\n",
       "      <td>2020-12-09 02:19:17</td>\n",
       "      <td>product_cart</td>\n",
       "      <td>NaN</td>\n",
       "      <td>2020-12-07</td>\n",
       "      <td>EU</td>\n",
       "      <td>Android</td>\n",
       "      <td>656</td>\n",
       "      <td>A</td>\n",
       "      <td>recommender_system_test</td>\n",
       "      <td>2020-12-09</td>\n",
       "    </tr>\n",
       "    <tr>\n",
       "      <th>5</th>\n",
       "      <td>831887FE7F2D6CBA</td>\n",
       "      <td>2020-12-07 06:50:29</td>\n",
       "      <td>login</td>\n",
       "      <td>NaN</td>\n",
       "      <td>2020-12-07</td>\n",
       "      <td>EU</td>\n",
       "      <td>Android</td>\n",
       "      <td>656</td>\n",
       "      <td>A</td>\n",
       "      <td>recommender_system_test</td>\n",
       "      <td>2020-12-07</td>\n",
       "    </tr>\n",
       "    <tr>\n",
       "      <th>6</th>\n",
       "      <td>831887FE7F2D6CBA</td>\n",
       "      <td>2020-12-08 10:52:26</td>\n",
       "      <td>login</td>\n",
       "      <td>NaN</td>\n",
       "      <td>2020-12-07</td>\n",
       "      <td>EU</td>\n",
       "      <td>Android</td>\n",
       "      <td>656</td>\n",
       "      <td>A</td>\n",
       "      <td>recommender_system_test</td>\n",
       "      <td>2020-12-08</td>\n",
       "    </tr>\n",
       "    <tr>\n",
       "      <th>7</th>\n",
       "      <td>831887FE7F2D6CBA</td>\n",
       "      <td>2020-12-09 02:19:17</td>\n",
       "      <td>login</td>\n",
       "      <td>NaN</td>\n",
       "      <td>2020-12-07</td>\n",
       "      <td>EU</td>\n",
       "      <td>Android</td>\n",
       "      <td>656</td>\n",
       "      <td>A</td>\n",
       "      <td>recommender_system_test</td>\n",
       "      <td>2020-12-09</td>\n",
       "    </tr>\n",
       "    <tr>\n",
       "      <th>8</th>\n",
       "      <td>3C5DD0288AC4FE23</td>\n",
       "      <td>2020-12-07 19:42:40</td>\n",
       "      <td>purchase</td>\n",
       "      <td>4.99</td>\n",
       "      <td>2020-12-07</td>\n",
       "      <td>EU</td>\n",
       "      <td>PC</td>\n",
       "      <td>3943</td>\n",
       "      <td>A</td>\n",
       "      <td>recommender_system_test</td>\n",
       "      <td>2020-12-07</td>\n",
       "    </tr>\n",
       "    <tr>\n",
       "      <th>9</th>\n",
       "      <td>3C5DD0288AC4FE23</td>\n",
       "      <td>2020-12-07 19:42:40</td>\n",
       "      <td>product_page</td>\n",
       "      <td>NaN</td>\n",
       "      <td>2020-12-07</td>\n",
       "      <td>EU</td>\n",
       "      <td>PC</td>\n",
       "      <td>3943</td>\n",
       "      <td>A</td>\n",
       "      <td>recommender_system_test</td>\n",
       "      <td>2020-12-07</td>\n",
       "    </tr>\n",
       "  </tbody>\n",
       "</table>\n",
       "</div>"
      ],
      "text/plain": [
       "            user_id            event_dt    event_name  details first_date  \\\n",
       "0  831887FE7F2D6CBA 2020-12-07 06:50:29      purchase     4.99 2020-12-07   \n",
       "1  831887FE7F2D6CBA 2020-12-09 02:19:17      purchase    99.99 2020-12-07   \n",
       "2  831887FE7F2D6CBA 2020-12-07 06:50:30  product_cart      NaN 2020-12-07   \n",
       "3  831887FE7F2D6CBA 2020-12-08 10:52:27  product_cart      NaN 2020-12-07   \n",
       "4  831887FE7F2D6CBA 2020-12-09 02:19:17  product_cart      NaN 2020-12-07   \n",
       "5  831887FE7F2D6CBA 2020-12-07 06:50:29         login      NaN 2020-12-07   \n",
       "6  831887FE7F2D6CBA 2020-12-08 10:52:26         login      NaN 2020-12-07   \n",
       "7  831887FE7F2D6CBA 2020-12-09 02:19:17         login      NaN 2020-12-07   \n",
       "8  3C5DD0288AC4FE23 2020-12-07 19:42:40      purchase     4.99 2020-12-07   \n",
       "9  3C5DD0288AC4FE23 2020-12-07 19:42:40  product_page      NaN 2020-12-07   \n",
       "\n",
       "  region   device  index group                  ab_test  event_date  \n",
       "0     EU  Android    656     A  recommender_system_test  2020-12-07  \n",
       "1     EU  Android    656     A  recommender_system_test  2020-12-09  \n",
       "2     EU  Android    656     A  recommender_system_test  2020-12-07  \n",
       "3     EU  Android    656     A  recommender_system_test  2020-12-08  \n",
       "4     EU  Android    656     A  recommender_system_test  2020-12-09  \n",
       "5     EU  Android    656     A  recommender_system_test  2020-12-07  \n",
       "6     EU  Android    656     A  recommender_system_test  2020-12-08  \n",
       "7     EU  Android    656     A  recommender_system_test  2020-12-09  \n",
       "8     EU       PC   3943     A  recommender_system_test  2020-12-07  \n",
       "9     EU       PC   3943     A  recommender_system_test  2020-12-07  "
      ]
     },
     "metadata": {},
     "output_type": "display_data"
    }
   ],
   "source": [
    "data['event_date'] = data['event_dt'].dt.date\n",
    "display(data.head(10))"
   ]
  },
  {
   "cell_type": "markdown",
   "id": "2c534b51",
   "metadata": {},
   "source": [
    "Теперь сгруппируем по новому столбцу и посчитаем количество событий, а затем построим гистограму"
   ]
  },
  {
   "cell_type": "code",
   "execution_count": 88,
   "id": "a57ef8f8",
   "metadata": {},
   "outputs": [
    {
     "data": {
      "text/html": [
       "<div>\n",
       "<style scoped>\n",
       "    .dataframe tbody tr th:only-of-type {\n",
       "        vertical-align: middle;\n",
       "    }\n",
       "\n",
       "    .dataframe tbody tr th {\n",
       "        vertical-align: top;\n",
       "    }\n",
       "\n",
       "    .dataframe thead th {\n",
       "        text-align: right;\n",
       "    }\n",
       "</style>\n",
       "<table border=\"1\" class=\"dataframe\">\n",
       "  <thead>\n",
       "    <tr style=\"text-align: right;\">\n",
       "      <th></th>\n",
       "      <th>event_date</th>\n",
       "      <th>group</th>\n",
       "      <th>event_name</th>\n",
       "    </tr>\n",
       "  </thead>\n",
       "  <tbody>\n",
       "    <tr>\n",
       "      <th>0</th>\n",
       "      <td>2020-12-07</td>\n",
       "      <td>A</td>\n",
       "      <td>221</td>\n",
       "    </tr>\n",
       "    <tr>\n",
       "      <th>1</th>\n",
       "      <td>2020-12-07</td>\n",
       "      <td>B</td>\n",
       "      <td>268</td>\n",
       "    </tr>\n",
       "    <tr>\n",
       "      <th>2</th>\n",
       "      <td>2020-12-08</td>\n",
       "      <td>A</td>\n",
       "      <td>239</td>\n",
       "    </tr>\n",
       "    <tr>\n",
       "      <th>3</th>\n",
       "      <td>2020-12-08</td>\n",
       "      <td>B</td>\n",
       "      <td>169</td>\n",
       "    </tr>\n",
       "    <tr>\n",
       "      <th>4</th>\n",
       "      <td>2020-12-09</td>\n",
       "      <td>A</td>\n",
       "      <td>282</td>\n",
       "    </tr>\n",
       "    <tr>\n",
       "      <th>5</th>\n",
       "      <td>2020-12-09</td>\n",
       "      <td>B</td>\n",
       "      <td>250</td>\n",
       "    </tr>\n",
       "    <tr>\n",
       "      <th>6</th>\n",
       "      <td>2020-12-10</td>\n",
       "      <td>A</td>\n",
       "      <td>246</td>\n",
       "    </tr>\n",
       "    <tr>\n",
       "      <th>7</th>\n",
       "      <td>2020-12-10</td>\n",
       "      <td>B</td>\n",
       "      <td>182</td>\n",
       "    </tr>\n",
       "    <tr>\n",
       "      <th>8</th>\n",
       "      <td>2020-12-11</td>\n",
       "      <td>A</td>\n",
       "      <td>264</td>\n",
       "    </tr>\n",
       "    <tr>\n",
       "      <th>9</th>\n",
       "      <td>2020-12-11</td>\n",
       "      <td>B</td>\n",
       "      <td>115</td>\n",
       "    </tr>\n",
       "  </tbody>\n",
       "</table>\n",
       "</div>"
      ],
      "text/plain": [
       "   event_date group  event_name\n",
       "0  2020-12-07     A         221\n",
       "1  2020-12-07     B         268\n",
       "2  2020-12-08     A         239\n",
       "3  2020-12-08     B         169\n",
       "4  2020-12-09     A         282\n",
       "5  2020-12-09     B         250\n",
       "6  2020-12-10     A         246\n",
       "7  2020-12-10     B         182\n",
       "8  2020-12-11     A         264\n",
       "9  2020-12-11     B         115"
      ]
     },
     "metadata": {},
     "output_type": "display_data"
    }
   ],
   "source": [
    "event_day = data[['user_id', 'event_name', 'group', 'event_date']]\n",
    "event_day = event_day.groupby(['event_date', 'group'])['event_name'].agg('count').reset_index()\n",
    "display(event_day.head(10))"
   ]
  },
  {
   "cell_type": "code",
   "execution_count": 89,
   "id": "d3c73b8a",
   "metadata": {},
   "outputs": [
    {
     "data": {
      "image/png": "[encoded data removed]",
      "text/plain": [
       "<Figure size 1152x576 with 1 Axes>"
      ]
     },
     "metadata": {
      "needs_background": "light"
     },
     "output_type": "display_data"
    }
   ],
   "source": [
    "plt.figure(figsize=(16,8))\n",
    "ax = sns.barplot(data=event_day, x=\"event_date\", y = \"event_name\", hue = 'group')\n",
    "ax.set (xlabel='День',\n",
    " ylabel='Количество событий',\n",
    " title='Распределение количества событий по дням')\n",
    "plt.xticks(rotation=45)\n",
    "plt.show()"
   ]
  },
  {
   "cell_type": "markdown",
   "id": "c4d4c4df",
   "metadata": {},
   "source": [
    "Единственный день, когда группа В лидировала по количеству событий - это начало теста 7 декабря. Пики количество событий приходятся на 13-19 декабря и затем идет на спад. 30 декабря действия на сайте производила только группа В."
   ]
  },
  {
   "cell_type": "markdown",
   "id": "bd2c89df",
   "metadata": {},
   "source": [
    "### Изменение конверсии в воронке в выборках на разных этапах\n"
   ]
  },
  {
   "cell_type": "markdown",
   "id": "4003d9de",
   "metadata": {},
   "source": [
    "Сделаем срез, сгруппировав пользователей по группе и названию события, и посчитаем пользователей"
   ]
  },
  {
   "cell_type": "code",
   "execution_count": 90,
   "id": "f2b25945",
   "metadata": {},
   "outputs": [
    {
     "data": {
      "text/html": [
       "<div>\n",
       "<style scoped>\n",
       "    .dataframe tbody tr th:only-of-type {\n",
       "        vertical-align: middle;\n",
       "    }\n",
       "\n",
       "    .dataframe tbody tr th {\n",
       "        vertical-align: top;\n",
       "    }\n",
       "\n",
       "    .dataframe thead th {\n",
       "        text-align: right;\n",
       "    }\n",
       "</style>\n",
       "<table border=\"1\" class=\"dataframe\">\n",
       "  <thead>\n",
       "    <tr style=\"text-align: right;\">\n",
       "      <th></th>\n",
       "      <th>group</th>\n",
       "      <th>event_name</th>\n",
       "      <th>user_id</th>\n",
       "    </tr>\n",
       "  </thead>\n",
       "  <tbody>\n",
       "    <tr>\n",
       "      <th>0</th>\n",
       "      <td>A</td>\n",
       "      <td>login</td>\n",
       "      <td>3605</td>\n",
       "    </tr>\n",
       "    <tr>\n",
       "      <th>1</th>\n",
       "      <td>A</td>\n",
       "      <td>product_cart</td>\n",
       "      <td>1127</td>\n",
       "    </tr>\n",
       "    <tr>\n",
       "      <th>2</th>\n",
       "      <td>A</td>\n",
       "      <td>product_page</td>\n",
       "      <td>2327</td>\n",
       "    </tr>\n",
       "    <tr>\n",
       "      <th>3</th>\n",
       "      <td>A</td>\n",
       "      <td>purchase</td>\n",
       "      <td>1031</td>\n",
       "    </tr>\n",
       "    <tr>\n",
       "      <th>4</th>\n",
       "      <td>B</td>\n",
       "      <td>login</td>\n",
       "      <td>1394</td>\n",
       "    </tr>\n",
       "    <tr>\n",
       "      <th>5</th>\n",
       "      <td>B</td>\n",
       "      <td>product_cart</td>\n",
       "      <td>397</td>\n",
       "    </tr>\n",
       "    <tr>\n",
       "      <th>6</th>\n",
       "      <td>B</td>\n",
       "      <td>product_page</td>\n",
       "      <td>740</td>\n",
       "    </tr>\n",
       "    <tr>\n",
       "      <th>7</th>\n",
       "      <td>B</td>\n",
       "      <td>purchase</td>\n",
       "      <td>361</td>\n",
       "    </tr>\n",
       "  </tbody>\n",
       "</table>\n",
       "</div>"
      ],
      "text/plain": [
       "  group    event_name  user_id\n",
       "0     A         login     3605\n",
       "1     A  product_cart     1127\n",
       "2     A  product_page     2327\n",
       "3     A      purchase     1031\n",
       "4     B         login     1394\n",
       "5     B  product_cart      397\n",
       "6     B  product_page      740\n",
       "7     B      purchase      361"
      ]
     },
     "metadata": {},
     "output_type": "display_data"
    }
   ],
   "source": [
    "cr = data.groupby(['group', 'event_name'])['user_id'].count().reset_index()\n",
    "display(cr)"
   ]
  },
  {
   "cell_type": "code",
   "execution_count": 99,
   "id": "940dbc9e",
   "metadata": {},
   "outputs": [
    {
     "data": {
      "text/html": [
       "<div>\n",
       "<style scoped>\n",
       "    .dataframe tbody tr th:only-of-type {\n",
       "        vertical-align: middle;\n",
       "    }\n",
       "\n",
       "    .dataframe tbody tr th {\n",
       "        vertical-align: top;\n",
       "    }\n",
       "\n",
       "    .dataframe thead th {\n",
       "        text-align: right;\n",
       "    }\n",
       "</style>\n",
       "<table border=\"1\" class=\"dataframe\">\n",
       "  <thead>\n",
       "    <tr style=\"text-align: right;\">\n",
       "      <th></th>\n",
       "      <th>group</th>\n",
       "      <th>event_name</th>\n",
       "      <th>user_id</th>\n",
       "      <th>Проценты</th>\n",
       "    </tr>\n",
       "  </thead>\n",
       "  <tbody>\n",
       "    <tr>\n",
       "      <th>0</th>\n",
       "      <td>A</td>\n",
       "      <td>login</td>\n",
       "      <td>3605</td>\n",
       "      <td>100.00</td>\n",
       "    </tr>\n",
       "    <tr>\n",
       "      <th>1</th>\n",
       "      <td>A</td>\n",
       "      <td>product_cart</td>\n",
       "      <td>1127</td>\n",
       "      <td>31.26</td>\n",
       "    </tr>\n",
       "    <tr>\n",
       "      <th>2</th>\n",
       "      <td>A</td>\n",
       "      <td>product_page</td>\n",
       "      <td>2327</td>\n",
       "      <td>64.55</td>\n",
       "    </tr>\n",
       "    <tr>\n",
       "      <th>3</th>\n",
       "      <td>A</td>\n",
       "      <td>purchase</td>\n",
       "      <td>1031</td>\n",
       "      <td>28.60</td>\n",
       "    </tr>\n",
       "  </tbody>\n",
       "</table>\n",
       "</div>"
      ],
      "text/plain": [
       "  group    event_name  user_id  Проценты\n",
       "0     A         login     3605    100.00\n",
       "1     A  product_cart     1127     31.26\n",
       "2     A  product_page     2327     64.55\n",
       "3     A      purchase     1031     28.60"
      ]
     },
     "metadata": {},
     "output_type": "display_data"
    },
    {
     "data": {
      "text/html": [
       "<div>\n",
       "<style scoped>\n",
       "    .dataframe tbody tr th:only-of-type {\n",
       "        vertical-align: middle;\n",
       "    }\n",
       "\n",
       "    .dataframe tbody tr th {\n",
       "        vertical-align: top;\n",
       "    }\n",
       "\n",
       "    .dataframe thead th {\n",
       "        text-align: right;\n",
       "    }\n",
       "</style>\n",
       "<table border=\"1\" class=\"dataframe\">\n",
       "  <thead>\n",
       "    <tr style=\"text-align: right;\">\n",
       "      <th></th>\n",
       "      <th>group</th>\n",
       "      <th>event_name</th>\n",
       "      <th>user_id</th>\n",
       "      <th>Проценты</th>\n",
       "    </tr>\n",
       "  </thead>\n",
       "  <tbody>\n",
       "    <tr>\n",
       "      <th>4</th>\n",
       "      <td>B</td>\n",
       "      <td>login</td>\n",
       "      <td>1394</td>\n",
       "      <td>100.00</td>\n",
       "    </tr>\n",
       "    <tr>\n",
       "      <th>5</th>\n",
       "      <td>B</td>\n",
       "      <td>product_cart</td>\n",
       "      <td>397</td>\n",
       "      <td>28.48</td>\n",
       "    </tr>\n",
       "    <tr>\n",
       "      <th>6</th>\n",
       "      <td>B</td>\n",
       "      <td>product_page</td>\n",
       "      <td>740</td>\n",
       "      <td>53.08</td>\n",
       "    </tr>\n",
       "    <tr>\n",
       "      <th>7</th>\n",
       "      <td>B</td>\n",
       "      <td>purchase</td>\n",
       "      <td>361</td>\n",
       "      <td>25.90</td>\n",
       "    </tr>\n",
       "  </tbody>\n",
       "</table>\n",
       "</div>"
      ],
      "text/plain": [
       "  group    event_name  user_id  Проценты\n",
       "4     B         login     1394    100.00\n",
       "5     B  product_cart      397     28.48\n",
       "6     B  product_page      740     53.08\n",
       "7     B      purchase      361     25.90"
      ]
     },
     "metadata": {},
     "output_type": "display_data"
    }
   ],
   "source": [
    "cr_a = cr.query(\"group == 'A'\")\n",
    "cr_a['Проценты'] = round((cr_a['user_id'] / cr_a['user_id'].iloc[0]) * 100, 2)\n",
    "display(cr_a)   \n",
    "cr_b = cr.query(\"group == 'B'\")\n",
    "cr_b['Проценты'] = round((cr_b['user_id'] / cr_b['user_id'].iloc[0]) * 100, 2)\n",
    "display(cr_b)  \n",
    "warnings.filterwarnings(\"ignore\")"
   ]
  },
  {
   "cell_type": "markdown",
   "id": "41f9babd",
   "metadata": {},
   "source": [
    "Как мы можем увидеть из таблиц, конверсия просмотра корзин упала на 3%, конверсия просмотра карточек товара упала на 11%, конверсия покупки упала на 3%, хотя в ТЗ ожидаемый эффект: улучшение не менее чем на 10%"
   ]
  },
  {
   "cell_type": "markdown",
   "id": "6b0e3d41",
   "metadata": {},
   "source": [
    "Построим интерактивную воронку, чтобы наглядно посмотреть на изменение конверсии среди групп"
   ]
  },
  {
   "cell_type": "code",
   "execution_count": 92,
   "id": "f26d9d11",
   "metadata": {},
   "outputs": [
    {
     "data": {
      "application/vnd.plotly.v1+json": {
       "config": {
        "plotlyServerURL": "https://plot.ly"
       },
       "data": [
        {
         "name": "Group A",
         "textinfo": "value+percent initial",
         "type": "funnel",
         "x": [
          3605,
          2327,
          1127,
          1031
         ],
         "y": [
          "login",
          "product_page",
          "product_cart",
          "purchase"
         ]
        },
        {
         "name": "Group B",
         "orientation": "h",
         "textinfo": "value+percent previous",
         "textposition": "inside",
         "type": "funnel",
         "x": [
          1394,
          740,
          397,
          361
         ],
         "y": [
          "login",
          "product_page",
          "product_cart",
          "purchase"
         ]
        }
       ],
       "layout": {
        "template": {
         "data": {
          "bar": [
           {
            "error_x": {
             "color": "#2a3f5f"
            },
            "error_y": {
             "color": "#2a3f5f"
            },
            "marker": {
             "line": {
              "color": "#E5ECF6",
              "width": 0.5
             },
             "pattern": {
              "fillmode": "overlay",
              "size": 10,
              "solidity": 0.2
             }
            },
            "type": "bar"
           }
          ],
          "barpolar": [
           {
            "marker": {
             "line": {
              "color": "#E5ECF6",
              "width": 0.5
             },
             "pattern": {
              "fillmode": "overlay",
              "size": 10,
              "solidity": 0.2
             }
            },
            "type": "barpolar"
           }
          ],
          "carpet": [
           {
            "aaxis": {
             "endlinecolor": "#2a3f5f",
             "gridcolor": "white",
             "linecolor": "white",
             "minorgridcolor": "white",
             "startlinecolor": "#2a3f5f"
            },
            "baxis": {
             "endlinecolor": "#2a3f5f",
             "gridcolor": "white",
             "linecolor": "white",
             "minorgridcolor": "white",
             "startlinecolor": "#2a3f5f"
            },
            "type": "carpet"
           }
          ],
          "choropleth": [
           {
            "colorbar": {
             "outlinewidth": 0,
             "ticks": ""
            },
            "type": "choropleth"
           }
          ],
          "contour": [
           {
            "colorbar": {
             "outlinewidth": 0,
             "ticks": ""
            },
            "colorscale": [
             [
              0,
              "#0d0887"
             ],
             [
              0.1111111111111111,
              "#46039f"
             ],
             [
              0.2222222222222222,
              "#7201a8"
             ],
             [
              0.3333333333333333,
              "#9c179e"
             ],
             [
              0.4444444444444444,
              "#bd3786"
             ],
             [
              0.5555555555555556,
              "#d8576b"
             ],
             [
              0.6666666666666666,
              "#ed7953"
             ],
             [
              0.7777777777777778,
              "#fb9f3a"
             ],
             [
              0.8888888888888888,
              "#fdca26"
             ],
             [
              1,
              "#f0f921"
             ]
            ],
            "type": "contour"
           }
          ],
          "contourcarpet": [
           {
            "colorbar": {
             "outlinewidth": 0,
             "ticks": ""
            },
            "type": "contourcarpet"
           }
          ],
          "heatmap": [
           {
            "colorbar": {
             "outlinewidth": 0,
             "ticks": ""
            },
            "colorscale": [
             [
              0,
              "#0d0887"
             ],
             [
              0.1111111111111111,
              "#46039f"
             ],
             [
              0.2222222222222222,
              "#7201a8"
             ],
             [
              0.3333333333333333,
              "#9c179e"
             ],
             [
              0.4444444444444444,
              "#bd3786"
             ],
             [
              0.5555555555555556,
              "#d8576b"
             ],
             [
              0.6666666666666666,
              "#ed7953"
             ],
             [
              0.7777777777777778,
              "#fb9f3a"
             ],
             [
              0.8888888888888888,
              "#fdca26"
             ],
             [
              1,
              "#f0f921"
             ]
            ],
            "type": "heatmap"
           }
          ],
          "heatmapgl": [
           {
            "colorbar": {
             "outlinewidth": 0,
             "ticks": ""
            },
            "colorscale": [
             [
              0,
              "#0d0887"
             ],
             [
              0.1111111111111111,
              "#46039f"
             ],
             [
              0.2222222222222222,
              "#7201a8"
             ],
             [
              0.3333333333333333,
              "#9c179e"
             ],
             [
              0.4444444444444444,
              "#bd3786"
             ],
             [
              0.5555555555555556,
              "#d8576b"
             ],
             [
              0.6666666666666666,
              "#ed7953"
             ],
             [
              0.7777777777777778,
              "#fb9f3a"
             ],
             [
              0.8888888888888888,
              "#fdca26"
             ],
             [
              1,
              "#f0f921"
             ]
            ],
            "type": "heatmapgl"
           }
          ],
          "histogram": [
           {
            "marker": {
             "pattern": {
              "fillmode": "overlay",
              "size": 10,
              "solidity": 0.2
             }
            },
            "type": "histogram"
           }
          ],
          "histogram2d": [
           {
            "colorbar": {
             "outlinewidth": 0,
             "ticks": ""
            },
            "colorscale": [
             [
              0,
              "#0d0887"
             ],
             [
              0.1111111111111111,
              "#46039f"
             ],
             [
              0.2222222222222222,
              "#7201a8"
             ],
             [
              0.3333333333333333,
              "#9c179e"
             ],
             [
              0.4444444444444444,
              "#bd3786"
             ],
             [
              0.5555555555555556,
              "#d8576b"
             ],
             [
              0.6666666666666666,
              "#ed7953"
             ],
             [
              0.7777777777777778,
              "#fb9f3a"
             ],
             [
              0.8888888888888888,
              "#fdca26"
             ],
             [
              1,
              "#f0f921"
             ]
            ],
            "type": "histogram2d"
           }
          ],
          "histogram2dcontour": [
           {
            "colorbar": {
             "outlinewidth": 0,
             "ticks": ""
            },
            "colorscale": [
             [
              0,
              "#0d0887"
             ],
             [
              0.1111111111111111,
              "#46039f"
             ],
             [
              0.2222222222222222,
              "#7201a8"
             ],
             [
              0.3333333333333333,
              "#9c179e"
             ],
             [
              0.4444444444444444,
              "#bd3786"
             ],
             [
              0.5555555555555556,
              "#d8576b"
             ],
             [
              0.6666666666666666,
              "#ed7953"
             ],
             [
              0.7777777777777778,
              "#fb9f3a"
             ],
             [
              0.8888888888888888,
              "#fdca26"
             ],
             [
              1,
              "#f0f921"
             ]
            ],
            "type": "histogram2dcontour"
           }
          ],
          "mesh3d": [
           {
            "colorbar": {
             "outlinewidth": 0,
             "ticks": ""
            },
            "type": "mesh3d"
           }
          ],
          "parcoords": [
           {
            "line": {
             "colorbar": {
              "outlinewidth": 0,
              "ticks": ""
             }
            },
            "type": "parcoords"
           }
          ],
          "pie": [
           {
            "automargin": true,
            "type": "pie"
           }
          ],
          "scatter": [
           {
            "fillpattern": {
             "fillmode": "overlay",
             "size": 10,
             "solidity": 0.2
            },
            "type": "scatter"
           }
          ],
          "scatter3d": [
           {
            "line": {
             "colorbar": {
              "outlinewidth": 0,
              "ticks": ""
             }
            },
            "marker": {
             "colorbar": {
              "outlinewidth": 0,
              "ticks": ""
             }
            },
            "type": "scatter3d"
           }
          ],
          "scattercarpet": [
           {
            "marker": {
             "colorbar": {
              "outlinewidth": 0,
              "ticks": ""
             }
            },
            "type": "scattercarpet"
           }
          ],
          "scattergeo": [
           {
            "marker": {
             "colorbar": {
              "outlinewidth": 0,
              "ticks": ""
             }
            },
            "type": "scattergeo"
           }
          ],
          "scattergl": [
           {
            "marker": {
             "colorbar": {
              "outlinewidth": 0,
              "ticks": ""
             }
            },
            "type": "scattergl"
           }
          ],
          "scattermapbox": [
           {
            "marker": {
             "colorbar": {
              "outlinewidth": 0,
              "ticks": ""
             }
            },
            "type": "scattermapbox"
           }
          ],
          "scatterpolar": [
           {
            "marker": {
             "colorbar": {
              "outlinewidth": 0,
              "ticks": ""
             }
            },
            "type": "scatterpolar"
           }
          ],
          "scatterpolargl": [
           {
            "marker": {
             "colorbar": {
              "outlinewidth": 0,
              "ticks": ""
             }
            },
            "type": "scatterpolargl"
           }
          ],
          "scatterternary": [
           {
            "marker": {
             "colorbar": {
              "outlinewidth": 0,
              "ticks": ""
             }
            },
            "type": "scatterternary"
           }
          ],
          "surface": [
           {
            "colorbar": {
             "outlinewidth": 0,
             "ticks": ""
            },
            "colorscale": [
             [
              0,
              "#0d0887"
             ],
             [
              0.1111111111111111,
              "#46039f"
             ],
             [
              0.2222222222222222,
              "#7201a8"
             ],
             [
              0.3333333333333333,
              "#9c179e"
             ],
             [
              0.4444444444444444,
              "#bd3786"
             ],
             [
              0.5555555555555556,
              "#d8576b"
             ],
             [
              0.6666666666666666,
              "#ed7953"
             ],
             [
              0.7777777777777778,
              "#fb9f3a"
             ],
             [
              0.8888888888888888,
              "#fdca26"
             ],
             [
              1,
              "#f0f921"
             ]
            ],
            "type": "surface"
           }
          ],
          "table": [
           {
            "cells": {
             "fill": {
              "color": "#EBF0F8"
             },
             "line": {
              "color": "white"
             }
            },
            "header": {
             "fill": {
              "color": "#C8D4E3"
             },
             "line": {
              "color": "white"
             }
            },
            "type": "table"
           }
          ]
         },
         "layout": {
          "annotationdefaults": {
           "arrowcolor": "#2a3f5f",
           "arrowhead": 0,
           "arrowwidth": 1
          },
          "autotypenumbers": "strict",
          "coloraxis": {
           "colorbar": {
            "outlinewidth": 0,
            "ticks": ""
           }
          },
          "colorscale": {
           "diverging": [
            [
             0,
             "#8e0152"
            ],
            [
             0.1,
             "#c51b7d"
            ],
            [
             0.2,
             "#de77ae"
            ],
            [
             0.3,
             "#f1b6da"
            ],
            [
             0.4,
             "#fde0ef"
            ],
            [
             0.5,
             "#f7f7f7"
            ],
            [
             0.6,
             "#e6f5d0"
            ],
            [
             0.7,
             "#b8e186"
            ],
            [
             0.8,
             "#7fbc41"
            ],
            [
             0.9,
             "#4d9221"
            ],
            [
             1,
             "#276419"
            ]
           ],
           "sequential": [
            [
             0,
             "#0d0887"
            ],
            [
             0.1111111111111111,
             "#46039f"
            ],
            [
             0.2222222222222222,
             "#7201a8"
            ],
            [
             0.3333333333333333,
             "#9c179e"
            ],
            [
             0.4444444444444444,
             "#bd3786"
            ],
            [
             0.5555555555555556,
             "#d8576b"
            ],
            [
             0.6666666666666666,
             "#ed7953"
            ],
            [
             0.7777777777777778,
             "#fb9f3a"
            ],
            [
             0.8888888888888888,
             "#fdca26"
            ],
            [
             1,
             "#f0f921"
            ]
           ],
           "sequentialminus": [
            [
             0,
             "#0d0887"
            ],
            [
             0.1111111111111111,
             "#46039f"
            ],
            [
             0.2222222222222222,
             "#7201a8"
            ],
            [
             0.3333333333333333,
             "#9c179e"
            ],
            [
             0.4444444444444444,
             "#bd3786"
            ],
            [
             0.5555555555555556,
             "#d8576b"
            ],
            [
             0.6666666666666666,
             "#ed7953"
            ],
            [
             0.7777777777777778,
             "#fb9f3a"
            ],
            [
             0.8888888888888888,
             "#fdca26"
            ],
            [
             1,
             "#f0f921"
            ]
           ]
          },
          "colorway": [
           "#636efa",
           "#EF553B",
           "#00cc96",
           "#ab63fa",
           "#FFA15A",
           "#19d3f3",
           "#FF6692",
           "#B6E880",
           "#FF97FF",
           "#FECB52"
          ],
          "font": {
           "color": "#2a3f5f"
          },
          "geo": {
           "bgcolor": "white",
           "lakecolor": "white",
           "landcolor": "#E5ECF6",
           "showlakes": true,
           "showland": true,
           "subunitcolor": "white"
          },
          "hoverlabel": {
           "align": "left"
          },
          "hovermode": "closest",
          "mapbox": {
           "style": "light"
          },
          "paper_bgcolor": "white",
          "plot_bgcolor": "#E5ECF6",
          "polar": {
           "angularaxis": {
            "gridcolor": "white",
            "linecolor": "white",
            "ticks": ""
           },
           "bgcolor": "#E5ECF6",
           "radialaxis": {
            "gridcolor": "white",
            "linecolor": "white",
            "ticks": ""
           }
          },
          "scene": {
           "xaxis": {
            "backgroundcolor": "#E5ECF6",
            "gridcolor": "white",
            "gridwidth": 2,
            "linecolor": "white",
            "showbackground": true,
            "ticks": "",
            "zerolinecolor": "white"
           },
           "yaxis": {
            "backgroundcolor": "#E5ECF6",
            "gridcolor": "white",
            "gridwidth": 2,
            "linecolor": "white",
            "showbackground": true,
            "ticks": "",
            "zerolinecolor": "white"
           },
           "zaxis": {
            "backgroundcolor": "#E5ECF6",
            "gridcolor": "white",
            "gridwidth": 2,
            "linecolor": "white",
            "showbackground": true,
            "ticks": "",
            "zerolinecolor": "white"
           }
          },
          "shapedefaults": {
           "line": {
            "color": "#2a3f5f"
           }
          },
          "ternary": {
           "aaxis": {
            "gridcolor": "white",
            "linecolor": "white",
            "ticks": ""
           },
           "baxis": {
            "gridcolor": "white",
            "linecolor": "white",
            "ticks": ""
           },
           "bgcolor": "#E5ECF6",
           "caxis": {
            "gridcolor": "white",
            "linecolor": "white",
            "ticks": ""
           }
          },
          "title": {
           "x": 0.05
          },
          "xaxis": {
           "automargin": true,
           "gridcolor": "white",
           "linecolor": "white",
           "ticks": "",
           "title": {
            "standoff": 15
           },
           "zerolinecolor": "white",
           "zerolinewidth": 2
          },
          "yaxis": {
           "automargin": true,
           "gridcolor": "white",
           "linecolor": "white",
           "ticks": "",
           "title": {
            "standoff": 15
           },
           "zerolinecolor": "white",
           "zerolinewidth": 2
          }
         }
        },
        "title": {
         "text": "Воронка изменения конверсии среди групп",
         "x": 0.5,
         "xanchor": "center",
         "y": 0.95,
         "yanchor": "top"
        }
       }
      },
      "text/html": [
       "<div>                            <div id=\"6f99370d-627d-4963-80a7-8a1577385731\" class=\"plotly-graph-div\" style=\"height:525px; width:100%;\"></div>            <script type=\"text/javascript\">                require([\"plotly\"], function(Plotly) {                    window.PLOTLYENV=window.PLOTLYENV || {};                                    if (document.getElementById(\"6f99370d-627d-4963-80a7-8a1577385731\")) {                    Plotly.newPlot(                        \"6f99370d-627d-4963-80a7-8a1577385731\",                        [{\"name\":\"Group A\",\"textinfo\":\"value+percent initial\",\"x\":[3605,2327,1127,1031],\"y\":[\"login\",\"product_page\",\"product_cart\",\"purchase\"],\"type\":\"funnel\"},{\"name\":\"Group B\",\"orientation\":\"h\",\"textinfo\":\"value+percent previous\",\"textposition\":\"inside\",\"x\":[1394,740,397,361],\"y\":[\"login\",\"product_page\",\"product_cart\",\"purchase\"],\"type\":\"funnel\"}],                        {\"template\":{\"data\":{\"histogram2dcontour\":[{\"type\":\"histogram2dcontour\",\"colorbar\":{\"outlinewidth\":0,\"ticks\":\"\"},\"colorscale\":[[0.0,\"#0d0887\"],[0.1111111111111111,\"#46039f\"],[0.2222222222222222,\"#7201a8\"],[0.3333333333333333,\"#9c179e\"],[0.4444444444444444,\"#bd3786\"],[0.5555555555555556,\"#d8576b\"],[0.6666666666666666,\"#ed7953\"],[0.7777777777777778,\"#fb9f3a\"],[0.8888888888888888,\"#fdca26\"],[1.0,\"#f0f921\"]]}],\"choropleth\":[{\"type\":\"choropleth\",\"colorbar\":{\"outlinewidth\":0,\"ticks\":\"\"}}],\"histogram2d\":[{\"type\":\"histogram2d\",\"colorbar\":{\"outlinewidth\":0,\"ticks\":\"\"},\"colorscale\":[[0.0,\"#0d0887\"],[0.1111111111111111,\"#46039f\"],[0.2222222222222222,\"#7201a8\"],[0.3333333333333333,\"#9c179e\"],[0.4444444444444444,\"#bd3786\"],[0.5555555555555556,\"#d8576b\"],[0.6666666666666666,\"#ed7953\"],[0.7777777777777778,\"#fb9f3a\"],[0.8888888888888888,\"#fdca26\"],[1.0,\"#f0f921\"]]}],\"heatmap\":[{\"type\":\"heatmap\",\"colorbar\":{\"outlinewidth\":0,\"ticks\":\"\"},\"colorscale\":[[0.0,\"#0d0887\"],[0.1111111111111111,\"#46039f\"],[0.2222222222222222,\"#7201a8\"],[0.3333333333333333,\"#9c179e\"],[0.4444444444444444,\"#bd3786\"],[0.5555555555555556,\"#d8576b\"],[0.6666666666666666,\"#ed7953\"],[0.7777777777777778,\"#fb9f3a\"],[0.8888888888888888,\"#fdca26\"],[1.0,\"#f0f921\"]]}],\"heatmapgl\":[{\"type\":\"heatmapgl\",\"colorbar\":{\"outlinewidth\":0,\"ticks\":\"\"},\"colorscale\":[[0.0,\"#0d0887\"],[0.1111111111111111,\"#46039f\"],[0.2222222222222222,\"#7201a8\"],[0.3333333333333333,\"#9c179e\"],[0.4444444444444444,\"#bd3786\"],[0.5555555555555556,\"#d8576b\"],[0.6666666666666666,\"#ed7953\"],[0.7777777777777778,\"#fb9f3a\"],[0.8888888888888888,\"#fdca26\"],[1.0,\"#f0f921\"]]}],\"contourcarpet\":[{\"type\":\"contourcarpet\",\"colorbar\":{\"outlinewidth\":0,\"ticks\":\"\"}}],\"contour\":[{\"type\":\"contour\",\"colorbar\":{\"outlinewidth\":0,\"ticks\":\"\"},\"colorscale\":[[0.0,\"#0d0887\"],[0.1111111111111111,\"#46039f\"],[0.2222222222222222,\"#7201a8\"],[0.3333333333333333,\"#9c179e\"],[0.4444444444444444,\"#bd3786\"],[0.5555555555555556,\"#d8576b\"],[0.6666666666666666,\"#ed7953\"],[0.7777777777777778,\"#fb9f3a\"],[0.8888888888888888,\"#fdca26\"],[1.0,\"#f0f921\"]]}],\"surface\":[{\"type\":\"surface\",\"colorbar\":{\"outlinewidth\":0,\"ticks\":\"\"},\"colorscale\":[[0.0,\"#0d0887\"],[0.1111111111111111,\"#46039f\"],[0.2222222222222222,\"#7201a8\"],[0.3333333333333333,\"#9c179e\"],[0.4444444444444444,\"#bd3786\"],[0.5555555555555556,\"#d8576b\"],[0.6666666666666666,\"#ed7953\"],[0.7777777777777778,\"#fb9f3a\"],[0.8888888888888888,\"#fdca26\"],[1.0,\"#f0f921\"]]}],\"mesh3d\":[{\"type\":\"mesh3d\",\"colorbar\":{\"outlinewidth\":0,\"ticks\":\"\"}}],\"scatter\":[{\"fillpattern\":{\"fillmode\":\"overlay\",\"size\":10,\"solidity\":0.2},\"type\":\"scatter\"}],\"parcoords\":[{\"type\":\"parcoords\",\"line\":{\"colorbar\":{\"outlinewidth\":0,\"ticks\":\"\"}}}],\"scatterpolargl\":[{\"type\":\"scatterpolargl\",\"marker\":{\"colorbar\":{\"outlinewidth\":0,\"ticks\":\"\"}}}],\"bar\":[{\"error_x\":{\"color\":\"#2a3f5f\"},\"error_y\":{\"color\":\"#2a3f5f\"},\"marker\":{\"line\":{\"color\":\"#E5ECF6\",\"width\":0.5},\"pattern\":{\"fillmode\":\"overlay\",\"size\":10,\"solidity\":0.2}},\"type\":\"bar\"}],\"scattergeo\":[{\"type\":\"scattergeo\",\"marker\":{\"colorbar\":{\"outlinewidth\":0,\"ticks\":\"\"}}}],\"scatterpolar\":[{\"type\":\"scatterpolar\",\"marker\":{\"colorbar\":{\"outlinewidth\":0,\"ticks\":\"\"}}}],\"histogram\":[{\"marker\":{\"pattern\":{\"fillmode\":\"overlay\",\"size\":10,\"solidity\":0.2}},\"type\":\"histogram\"}],\"scattergl\":[{\"type\":\"scattergl\",\"marker\":{\"colorbar\":{\"outlinewidth\":0,\"ticks\":\"\"}}}],\"scatter3d\":[{\"type\":\"scatter3d\",\"line\":{\"colorbar\":{\"outlinewidth\":0,\"ticks\":\"\"}},\"marker\":{\"colorbar\":{\"outlinewidth\":0,\"ticks\":\"\"}}}],\"scattermapbox\":[{\"type\":\"scattermapbox\",\"marker\":{\"colorbar\":{\"outlinewidth\":0,\"ticks\":\"\"}}}],\"scatterternary\":[{\"type\":\"scatterternary\",\"marker\":{\"colorbar\":{\"outlinewidth\":0,\"ticks\":\"\"}}}],\"scattercarpet\":[{\"type\":\"scattercarpet\",\"marker\":{\"colorbar\":{\"outlinewidth\":0,\"ticks\":\"\"}}}],\"carpet\":[{\"aaxis\":{\"endlinecolor\":\"#2a3f5f\",\"gridcolor\":\"white\",\"linecolor\":\"white\",\"minorgridcolor\":\"white\",\"startlinecolor\":\"#2a3f5f\"},\"baxis\":{\"endlinecolor\":\"#2a3f5f\",\"gridcolor\":\"white\",\"linecolor\":\"white\",\"minorgridcolor\":\"white\",\"startlinecolor\":\"#2a3f5f\"},\"type\":\"carpet\"}],\"table\":[{\"cells\":{\"fill\":{\"color\":\"#EBF0F8\"},\"line\":{\"color\":\"white\"}},\"header\":{\"fill\":{\"color\":\"#C8D4E3\"},\"line\":{\"color\":\"white\"}},\"type\":\"table\"}],\"barpolar\":[{\"marker\":{\"line\":{\"color\":\"#E5ECF6\",\"width\":0.5},\"pattern\":{\"fillmode\":\"overlay\",\"size\":10,\"solidity\":0.2}},\"type\":\"barpolar\"}],\"pie\":[{\"automargin\":true,\"type\":\"pie\"}]},\"layout\":{\"autotypenumbers\":\"strict\",\"colorway\":[\"#636efa\",\"#EF553B\",\"#00cc96\",\"#ab63fa\",\"#FFA15A\",\"#19d3f3\",\"#FF6692\",\"#B6E880\",\"#FF97FF\",\"#FECB52\"],\"font\":{\"color\":\"#2a3f5f\"},\"hovermode\":\"closest\",\"hoverlabel\":{\"align\":\"left\"},\"paper_bgcolor\":\"white\",\"plot_bgcolor\":\"#E5ECF6\",\"polar\":{\"bgcolor\":\"#E5ECF6\",\"angularaxis\":{\"gridcolor\":\"white\",\"linecolor\":\"white\",\"ticks\":\"\"},\"radialaxis\":{\"gridcolor\":\"white\",\"linecolor\":\"white\",\"ticks\":\"\"}},\"ternary\":{\"bgcolor\":\"#E5ECF6\",\"aaxis\":{\"gridcolor\":\"white\",\"linecolor\":\"white\",\"ticks\":\"\"},\"baxis\":{\"gridcolor\":\"white\",\"linecolor\":\"white\",\"ticks\":\"\"},\"caxis\":{\"gridcolor\":\"white\",\"linecolor\":\"white\",\"ticks\":\"\"}},\"coloraxis\":{\"colorbar\":{\"outlinewidth\":0,\"ticks\":\"\"}},\"colorscale\":{\"sequential\":[[0.0,\"#0d0887\"],[0.1111111111111111,\"#46039f\"],[0.2222222222222222,\"#7201a8\"],[0.3333333333333333,\"#9c179e\"],[0.4444444444444444,\"#bd3786\"],[0.5555555555555556,\"#d8576b\"],[0.6666666666666666,\"#ed7953\"],[0.7777777777777778,\"#fb9f3a\"],[0.8888888888888888,\"#fdca26\"],[1.0,\"#f0f921\"]],\"sequentialminus\":[[0.0,\"#0d0887\"],[0.1111111111111111,\"#46039f\"],[0.2222222222222222,\"#7201a8\"],[0.3333333333333333,\"#9c179e\"],[0.4444444444444444,\"#bd3786\"],[0.5555555555555556,\"#d8576b\"],[0.6666666666666666,\"#ed7953\"],[0.7777777777777778,\"#fb9f3a\"],[0.8888888888888888,\"#fdca26\"],[1.0,\"#f0f921\"]],\"diverging\":[[0,\"#8e0152\"],[0.1,\"#c51b7d\"],[0.2,\"#de77ae\"],[0.3,\"#f1b6da\"],[0.4,\"#fde0ef\"],[0.5,\"#f7f7f7\"],[0.6,\"#e6f5d0\"],[0.7,\"#b8e186\"],[0.8,\"#7fbc41\"],[0.9,\"#4d9221\"],[1,\"#276419\"]]},\"xaxis\":{\"gridcolor\":\"white\",\"linecolor\":\"white\",\"ticks\":\"\",\"title\":{\"standoff\":15},\"zerolinecolor\":\"white\",\"automargin\":true,\"zerolinewidth\":2},\"yaxis\":{\"gridcolor\":\"white\",\"linecolor\":\"white\",\"ticks\":\"\",\"title\":{\"standoff\":15},\"zerolinecolor\":\"white\",\"automargin\":true,\"zerolinewidth\":2},\"scene\":{\"xaxis\":{\"backgroundcolor\":\"#E5ECF6\",\"gridcolor\":\"white\",\"linecolor\":\"white\",\"showbackground\":true,\"ticks\":\"\",\"zerolinecolor\":\"white\",\"gridwidth\":2},\"yaxis\":{\"backgroundcolor\":\"#E5ECF6\",\"gridcolor\":\"white\",\"linecolor\":\"white\",\"showbackground\":true,\"ticks\":\"\",\"zerolinecolor\":\"white\",\"gridwidth\":2},\"zaxis\":{\"backgroundcolor\":\"#E5ECF6\",\"gridcolor\":\"white\",\"linecolor\":\"white\",\"showbackground\":true,\"ticks\":\"\",\"zerolinecolor\":\"white\",\"gridwidth\":2}},\"shapedefaults\":{\"line\":{\"color\":\"#2a3f5f\"}},\"annotationdefaults\":{\"arrowcolor\":\"#2a3f5f\",\"arrowhead\":0,\"arrowwidth\":1},\"geo\":{\"bgcolor\":\"white\",\"landcolor\":\"#E5ECF6\",\"subunitcolor\":\"white\",\"showland\":true,\"showlakes\":true,\"lakecolor\":\"white\"},\"title\":{\"x\":0.05},\"mapbox\":{\"style\":\"light\"}}},\"title\":{\"text\":\"\\u0412\\u043e\\u0440\\u043e\\u043d\\u043a\\u0430 \\u0438\\u0437\\u043c\\u0435\\u043d\\u0435\\u043d\\u0438\\u044f \\u043a\\u043e\\u043d\\u0432\\u0435\\u0440\\u0441\\u0438\\u0438 \\u0441\\u0440\\u0435\\u0434\\u0438 \\u0433\\u0440\\u0443\\u043f\\u043f\",\"x\":0.5,\"y\":0.95,\"xanchor\":\"center\",\"yanchor\":\"top\"}},                        {\"responsive\": true}                    ).then(function(){\n",
       "                            \n",
       "var gd = document.getElementById('6f99370d-627d-4963-80a7-8a1577385731');\n",
       "var x = new MutationObserver(function (mutations, observer) {{\n",
       "        var display = window.getComputedStyle(gd).display;\n",
       "        if (!display || display === 'none') {{\n",
       "            console.log([gd, 'removed!']);\n",
       "            Plotly.purge(gd);\n",
       "            observer.disconnect();\n",
       "        }}\n",
       "}});\n",
       "\n",
       "// Listen for the removal of the full notebook cells\n",
       "var notebookContainer = gd.closest('#notebook-container');\n",
       "if (notebookContainer) {{\n",
       "    x.observe(notebookContainer, {childList: true});\n",
       "}}\n",
       "\n",
       "// Listen for the clearing of the current output cell\n",
       "var outputEl = gd.closest('.output');\n",
       "if (outputEl) {{\n",
       "    x.observe(outputEl, {childList: true});\n",
       "}}\n",
       "\n",
       "                        })                };                });            </script>        </div>"
      ]
     },
     "metadata": {},
     "output_type": "display_data"
    }
   ],
   "source": [
    "fig = go.Figure()\n",
    "fig.add_trace(go.Funnel(\n",
    "    name = 'Group A',\n",
    "    y = [\"login\", \"product_page\" , \"product_cart\", \"purchase\"],\n",
    "    x = [3605, 2327, 1127, 1031],\n",
    "    textinfo = \"value+percent initial\"))\n",
    "\n",
    "fig.add_trace(go.Funnel(\n",
    "    name = 'Group B',\n",
    "    orientation = \"h\",\n",
    "    y = [\"login\", \"product_page\", \"product_cart\", \"purchase\"],\n",
    "    x = [1394, 740 ,397, 361],\n",
    "    textposition = \"inside\",\n",
    "    textinfo = \"value+percent previous\"))\n",
    "fig.update_layout(\n",
    "    title=dict(\n",
    "        text='Воронка изменения конверсии среди групп',\n",
    "        x=0.5,  # Середина по x-ось\n",
    "        y=0.95,  # Верхняя часть по y-ось\n",
    "        xanchor='center',\n",
    "        yanchor='top'\n",
    "    )\n",
    ")\n",
    "fig.show()"
   ]
  },
  {
   "cell_type": "markdown",
   "id": "af94905f",
   "metadata": {},
   "source": [
    "**Вывод**"
   ]
  },
  {
   "cell_type": "markdown",
   "id": "29d51575",
   "metadata": {},
   "source": [
    "1) Что для группы А, что для группы В, пик приходится на 6 событий. Больше 25 событий делали только в группе В. Распределение в обоих группах напоминает нормальное со скосом влево, правда, есть провал на 5 событиях. Это связано с четностью событий от логина до покупки.\n",
    "\n",
    "2) Рассмотрели количество событий по дням. Пик выпадает на 14-19 декабря. В конце нашего теста действия на сайте совершались только группой B.\n",
    "\n",
    "3) Изменения конверсии в воронке произошли в худшую сторону. Вместо улучшения на не менее чем 10%, конверсия просмотра корзин упала на 3%, конверсия просмотра карточек товара упала на 11%, конверсия покупки упала на 3%"
   ]
  },
  {
   "cell_type": "markdown",
   "id": "c0567bd1",
   "metadata": {},
   "source": [
    "# Оценка результатов A/B-тестирования"
   ]
  },
  {
   "cell_type": "markdown",
   "id": "ef7bce4b",
   "metadata": {},
   "source": [
    "### Проверьте статистическую разницу долей z-критерием."
   ]
  },
  {
   "cell_type": "code",
   "execution_count": 93,
   "id": "5bd776db",
   "metadata": {},
   "outputs": [
    {
     "name": "stdout",
     "output_type": "stream",
     "text": [
      "[3605, 1127, 2327, 1031]\n",
      "[1394, 397, 740, 361]\n"
     ]
    }
   ],
   "source": [
    "A = [cr_a.iloc[0]['user_id'], cr_a.iloc[1]['user_id'], cr_a.iloc[2]['user_id'], cr_a.iloc[3]['user_id']]\n",
    "print(A)\n",
    "B = [cr_b.iloc[0]['user_id'], cr_b.iloc[1]['user_id'], cr_b.iloc[2]['user_id'], cr_b.iloc[3]['user_id']]\n",
    "print(B)"
   ]
  },
  {
   "cell_type": "markdown",
   "id": "0e50d53a",
   "metadata": {},
   "source": [
    "Проверим разницу в изменении долей конверсий по каждому из событий. Начнем с просмотра корзин."
   ]
  },
  {
   "cell_type": "markdown",
   "id": "8219ef4e",
   "metadata": {},
   "source": [
    "**H0: Нет оснований считать доли просмотра корзин разными**\n",
    "\n",
    "**H1: Между долями просмотра корзин есть значимая разница**"
   ]
  },
  {
   "cell_type": "code",
   "execution_count": 94,
   "id": "fedae310",
   "metadata": {},
   "outputs": [
    {
     "name": "stdout",
     "output_type": "stream",
     "text": [
      "p-значение:  0.05527308027879374\n",
      "Не получилось отвергнуть нулевую гипотезу, нет оснований считать доли разными\n"
     ]
    }
   ],
   "source": [
    "alpha = .05 \n",
    "\n",
    "successes = np.array([cr_a.iloc[1]['user_id'], cr_b.iloc[1]['user_id']])\n",
    "trials = np.array([cr_a.iloc[0]['user_id'], cr_b.iloc[0]['user_id']])\n",
    "\n",
    "\n",
    "p1 = successes[0]/trials[0]\n",
    "\n",
    "\n",
    "p2 = successes[1]/trials[1]\n",
    "\n",
    "\n",
    "p_combined = (successes[0] + successes[1]) / (trials[0] + trials[1])\n",
    "\n",
    "\n",
    "difference = p1 - p2 \n",
    "\n",
    "z_value = difference / mth.sqrt(p_combined * (1 - p_combined) * (1/trials[0] + 1/trials[1]))\n",
    "\n",
    "\n",
    "distr = st.norm(0, 1)  \n",
    "\n",
    "p_value = (1 - distr.cdf(abs(z_value))) * 2\n",
    "\n",
    "print('p-значение: ', p_value)\n",
    "\n",
    "if p_value < alpha:\n",
    "    print('Отвергаем нулевую гипотезу: между долями есть значимая разница')\n",
    "else:\n",
    "    print(\n",
    "        'Не получилось отвергнуть нулевую гипотезу, нет оснований считать доли разными'\n",
    "    ) "
   ]
  },
  {
   "cell_type": "markdown",
   "id": "7d107fd4",
   "metadata": {},
   "source": [
    "Получили, что нет оснований считать доли разными, даи конверсия упала всего на 3%"
   ]
  },
  {
   "cell_type": "markdown",
   "id": "dd02690b",
   "metadata": {},
   "source": [
    "Проверим просмотр карточек товара"
   ]
  },
  {
   "cell_type": "markdown",
   "id": "7368188e",
   "metadata": {},
   "source": [
    "**H0: Нет оснований считать доли просмотра карточек товара разными**\n",
    "\n",
    "**H1: Между долями просмотра карточек товара есть значимая разница**"
   ]
  },
  {
   "cell_type": "code",
   "execution_count": 95,
   "id": "897b6c06",
   "metadata": {},
   "outputs": [
    {
     "name": "stdout",
     "output_type": "stream",
     "text": [
      "p-значение:  8.326672684688674e-14\n",
      "Отвергаем нулевую гипотезу: между долями есть значимая разница\n"
     ]
    }
   ],
   "source": [
    "alpha = .05 \n",
    "\n",
    "successes = np.array([cr_a.iloc[2]['user_id'], cr_b.iloc[2]['user_id']])\n",
    "trials = np.array([cr_a.iloc[0]['user_id'], cr_b.iloc[0]['user_id']])\n",
    "\n",
    "\n",
    "p1 = successes[0]/trials[0]\n",
    "\n",
    "\n",
    "p2 = successes[1]/trials[1]\n",
    "\n",
    "\n",
    "p_combined = (successes[0] + successes[1]) / (trials[0] + trials[1])\n",
    "\n",
    "\n",
    "difference = p1 - p2 \n",
    "\n",
    "z_value = difference / mth.sqrt(p_combined * (1 - p_combined) * (1/trials[0] + 1/trials[1]))\n",
    "\n",
    "\n",
    "distr = st.norm(0, 1)  \n",
    "\n",
    "p_value = (1 - distr.cdf(abs(z_value))) * 2\n",
    "\n",
    "print('p-значение: ', p_value)\n",
    "\n",
    "if p_value < alpha:\n",
    "    print('Отвергаем нулевую гипотезу: между долями есть значимая разница')\n",
    "else:\n",
    "    print(\n",
    "        'Не получилось отвергнуть нулевую гипотезу, нет оснований считать доли разными'\n",
    "    ) "
   ]
  },
  {
   "cell_type": "markdown",
   "id": "37d636bb",
   "metadata": {},
   "source": [
    "Здесь доля получилась значимая, это видно и по разнице в конверсии, которая выше 10%"
   ]
  },
  {
   "cell_type": "markdown",
   "id": "7895765f",
   "metadata": {},
   "source": [
    "Проверим покупки"
   ]
  },
  {
   "cell_type": "markdown",
   "id": "3396d2bd",
   "metadata": {},
   "source": [
    "**H0: Нет оснований считать доли покупок товара разными**\n",
    "\n",
    "**H1: Между долями просмотра покупок есть значимая разница**"
   ]
  },
  {
   "cell_type": "code",
   "execution_count": 96,
   "id": "95384121",
   "metadata": {},
   "outputs": [
    {
     "name": "stdout",
     "output_type": "stream",
     "text": [
      "p-значение:  0.05592956031293328\n",
      "Не получилось отвергнуть нулевую гипотезу, нет оснований считать доли разными\n"
     ]
    }
   ],
   "source": [
    "alpha = .05 \n",
    "\n",
    "successes = np.array([cr_a.iloc[3]['user_id'], cr_b.iloc[3]['user_id']])\n",
    "trials = np.array([cr_a.iloc[0]['user_id'], cr_b.iloc[0]['user_id']])\n",
    "\n",
    "\n",
    "p1 = successes[0]/trials[0]\n",
    "\n",
    "\n",
    "p2 = successes[1]/trials[1]\n",
    "\n",
    "\n",
    "p_combined = (successes[0] + successes[1]) / (trials[0] + trials[1])\n",
    "\n",
    "\n",
    "difference = p1 - p2 \n",
    "\n",
    "z_value = difference / mth.sqrt(p_combined * (1 - p_combined) * (1/trials[0] + 1/trials[1]))\n",
    "\n",
    "\n",
    "distr = st.norm(0, 1)  \n",
    "\n",
    "p_value = (1 - distr.cdf(abs(z_value))) * 2\n",
    "\n",
    "print('p-значение: ', p_value)\n",
    "\n",
    "if p_value < alpha:\n",
    "    print('Отвергаем нулевую гипотезу: между долями есть значимая разница')\n",
    "else:\n",
    "    print(\n",
    "        'Не получилось отвергнуть нулевую гипотезу, нет оснований считать доли разными'\n",
    "    ) "
   ]
  },
  {
   "cell_type": "markdown",
   "id": "f299b78c",
   "metadata": {},
   "source": [
    "Здесь нет оснований считать доли разными, и разница в конверсиях 3%"
   ]
  },
  {
   "cell_type": "markdown",
   "id": "3a262f37",
   "metadata": {},
   "source": [
    "# Вывод"
   ]
  },
  {
   "cell_type": "markdown",
   "id": "afc29eb9",
   "metadata": {},
   "source": [
    "Была проведена **предобработка данных** в ходе которой:\n",
    "\n",
    "- Поменяли тип данных в столбцах с временем\n",
    "- Также проверили все 4 таблицы на явные и неявные дубликаты\n",
    "\n",
    "Затем мы **проверили насколько наши данные соответсвуют техническому заданию:**\n",
    "\n",
    "- Убрали пользователей, которые участвовали в обоих тестах\n",
    "- Сделали срез только по европейскому региону\n",
    "- Уменьшили дату остановки набора новых пользователей до 17 декабря, чтобы все пользователи помещались в лайфтайм\n",
    "- Число участников теста составило 3285\n",
    "- Те кто совершал какие-либо действия: 1591\n",
    "- `Christmas&New Year Promo`, которое затрагивает тест с 25 декабря по 30 декабря никак не влияет на тест, так как никаких всплесков или просадки по событиям в эти дни нет. `CIS New Year Gift Lottery` затрагивает только 30 декабря, но в этот день вообще почти не было событий, поэтому получаем, что маркетинговые события никак не влияют на наш тест.\n",
    "- Тест набрал всего 5,8% пользователей из Евросоюза из 15% заявленных, значит, данный пункт ТЗ не выполнен.\n",
    "- Распределение между группами не равное(А - 1889, В - 1396), но пересечений в группах теста не имеется\n",
    "\n",
    "Провели **исследовательский анализ данных** в котором:\n",
    "\n",
    "- Что для группы А, что для группы В, пик приходится на 6 событий. Больше 25 событий делали только в группе В. Распределение в обоих группах напоминает нормальное со скосом влево, правда, есть провал на 5 событиях. Это связано с четностью событий от логина до покупки.\n",
    "- Единственный день, когда группа В лидировала по количеству событий - это начало теста 7 декабря. Пики количество событий приходятся на 13-19 декабря и затем идет на спад. 30 декабря действия на сайте производила только группа В.\n",
    "- Изменения конверсии в воронке произошли в худшую сторону. Вместо улучшения на не менее чем 10%, конверсия просмотра корзин упала на 3%, конверсия просмотра карточек товара упала на 11%, конверсия покупки упала на 3%\n",
    "\n",
    "**Проверили статистическую разницу долей z-критерием**:\n",
    "\n",
    "- Нет оснований считать доли просмотра корзин разными, да и конверсия упала всего на 3%\n",
    "- Доля просмотров карточек товара получилась значимая, это видно и по разнице в конверсии, которая выше 10%\n",
    "- Нет оснований считать доли покупок разными, и разница в конверсиях 3%\n",
    "\n",
    "Тем самым мы можем сделать вывод о том, что условия проведения теста не были соблюдены, за счет чего не был получен ожидаемый результат, вместо повышения конверсии, она снизилась, хоть и в некоторых случаях незначительно. Поэтому собирать новые данные и запускать тест заново, так как этот тест ничем не поможет."
   ]
  }
 ],
 "metadata": {
  "ExecuteTimeLog": [
   {
    "duration": 1183,
    "start_time": "2023-07-20T20:22:36.920Z"
   },
   {
    "duration": 725,
    "start_time": "2023-07-20T20:22:38.104Z"
   },
   {
    "duration": 67,
    "start_time": "2023-07-20T20:22:38.830Z"
   },
   {
    "duration": 131,
    "start_time": "2023-07-20T20:22:38.899Z"
   },
   {
    "duration": 117,
    "start_time": "2023-07-20T20:22:39.032Z"
   },
   {
    "duration": 120,
    "start_time": "2023-07-20T20:22:39.150Z"
   },
   {
    "duration": 161,
    "start_time": "2023-07-20T20:22:39.271Z"
   },
   {
    "duration": 24,
    "start_time": "2023-07-20T20:22:39.433Z"
   },
   {
    "duration": 58,
    "start_time": "2023-07-20T20:22:39.458Z"
   },
   {
    "duration": 18,
    "start_time": "2023-07-20T20:22:39.520Z"
   },
   {
    "duration": 11,
    "start_time": "2023-07-20T20:22:39.539Z"
   },
   {
    "duration": 19,
    "start_time": "2023-07-20T20:22:39.551Z"
   },
   {
    "duration": 33,
    "start_time": "2023-07-20T20:22:39.572Z"
   },
   {
    "duration": 32,
    "start_time": "2023-07-20T20:22:39.606Z"
   },
   {
    "duration": 7,
    "start_time": "2023-07-20T20:22:39.640Z"
   },
   {
    "duration": 17,
    "start_time": "2023-07-20T20:22:39.648Z"
   },
   {
    "duration": 13,
    "start_time": "2023-07-20T20:22:39.667Z"
   },
   {
    "duration": 17,
    "start_time": "2023-07-20T20:22:39.682Z"
   },
   {
    "duration": 6,
    "start_time": "2023-07-20T20:22:39.701Z"
   },
   {
    "duration": 36,
    "start_time": "2023-07-20T20:22:39.708Z"
   },
   {
    "duration": 12,
    "start_time": "2023-07-20T20:22:39.745Z"
   },
   {
    "duration": 15,
    "start_time": "2023-07-20T20:22:39.758Z"
   },
   {
    "duration": 46,
    "start_time": "2023-07-20T20:22:39.775Z"
   },
   {
    "duration": 7,
    "start_time": "2023-07-20T20:22:39.822Z"
   },
   {
    "duration": 74,
    "start_time": "2023-07-20T20:22:39.830Z"
   },
   {
    "duration": 14,
    "start_time": "2023-07-20T20:22:39.905Z"
   },
   {
    "duration": 22,
    "start_time": "2023-07-20T20:22:39.920Z"
   },
   {
    "duration": 32,
    "start_time": "2023-07-20T20:22:39.947Z"
   },
   {
    "duration": 7,
    "start_time": "2023-07-20T20:22:40.000Z"
   },
   {
    "duration": 17,
    "start_time": "2023-07-20T20:22:40.008Z"
   },
   {
    "duration": 17,
    "start_time": "2023-07-20T20:22:40.027Z"
   },
   {
    "duration": 16,
    "start_time": "2023-07-20T20:22:40.046Z"
   },
   {
    "duration": 27744,
    "start_time": "2023-07-20T20:22:40.063Z"
   },
   {
    "duration": 17,
    "start_time": "2023-07-20T20:23:07.809Z"
   },
   {
    "duration": 26,
    "start_time": "2023-07-20T20:23:07.828Z"
   },
   {
    "duration": 380,
    "start_time": "2023-07-20T20:23:07.856Z"
   },
   {
    "duration": 13,
    "start_time": "2023-07-20T20:23:08.238Z"
   },
   {
    "duration": 19,
    "start_time": "2023-07-20T20:23:08.252Z"
   },
   {
    "duration": 6,
    "start_time": "2023-07-20T20:23:08.299Z"
   },
   {
    "duration": 8,
    "start_time": "2023-07-20T20:23:08.307Z"
   },
   {
    "duration": 10,
    "start_time": "2023-07-20T20:23:08.317Z"
   },
   {
    "duration": 1233,
    "start_time": "2023-07-21T08:31:13.909Z"
   },
   {
    "duration": 1037,
    "start_time": "2023-07-21T08:31:15.144Z"
   },
   {
    "duration": 76,
    "start_time": "2023-07-21T08:31:16.183Z"
   },
   {
    "duration": 142,
    "start_time": "2023-07-21T08:31:16.261Z"
   },
   {
    "duration": 80,
    "start_time": "2023-07-21T08:31:16.404Z"
   },
   {
    "duration": 115,
    "start_time": "2023-07-21T08:31:16.485Z"
   },
   {
    "duration": 151,
    "start_time": "2023-07-21T08:31:16.606Z"
   },
   {
    "duration": 20,
    "start_time": "2023-07-21T08:31:16.759Z"
   },
   {
    "duration": 44,
    "start_time": "2023-07-21T08:31:16.781Z"
   },
   {
    "duration": 14,
    "start_time": "2023-07-21T08:31:16.827Z"
   },
   {
    "duration": 11,
    "start_time": "2023-07-21T08:31:16.842Z"
   },
   {
    "duration": 19,
    "start_time": "2023-07-21T08:31:16.854Z"
   },
   {
    "duration": 41,
    "start_time": "2023-07-21T08:31:16.875Z"
   },
   {
    "duration": 24,
    "start_time": "2023-07-21T08:31:16.918Z"
   },
   {
    "duration": 6,
    "start_time": "2023-07-21T08:31:16.944Z"
   },
   {
    "duration": 13,
    "start_time": "2023-07-21T08:31:16.952Z"
   },
   {
    "duration": 21,
    "start_time": "2023-07-21T08:31:16.967Z"
   },
   {
    "duration": 14,
    "start_time": "2023-07-21T08:31:16.990Z"
   },
   {
    "duration": 8,
    "start_time": "2023-07-21T08:31:17.006Z"
   },
   {
    "duration": 33,
    "start_time": "2023-07-21T08:31:17.015Z"
   },
   {
    "duration": 12,
    "start_time": "2023-07-21T08:31:17.049Z"
   },
   {
    "duration": 14,
    "start_time": "2023-07-21T08:31:17.062Z"
   },
   {
    "duration": 34,
    "start_time": "2023-07-21T08:31:17.078Z"
   },
   {
    "duration": 5,
    "start_time": "2023-07-21T08:31:17.113Z"
   },
   {
    "duration": 47,
    "start_time": "2023-07-21T08:31:17.119Z"
   },
   {
    "duration": 13,
    "start_time": "2023-07-21T08:31:17.167Z"
   },
   {
    "duration": 19,
    "start_time": "2023-07-21T08:31:17.206Z"
   },
   {
    "duration": 24,
    "start_time": "2023-07-21T08:31:17.227Z"
   },
   {
    "duration": 5,
    "start_time": "2023-07-21T08:31:17.253Z"
   },
   {
    "duration": 17,
    "start_time": "2023-07-21T08:31:17.259Z"
   },
   {
    "duration": 30,
    "start_time": "2023-07-21T08:31:17.277Z"
   },
   {
    "duration": 27,
    "start_time": "2023-07-21T08:31:17.308Z"
   },
   {
    "duration": 33,
    "start_time": "2023-07-21T08:31:17.336Z"
   },
   {
    "duration": 30477,
    "start_time": "2023-07-21T08:31:17.371Z"
   },
   {
    "duration": 17,
    "start_time": "2023-07-21T08:31:47.849Z"
   },
   {
    "duration": 14,
    "start_time": "2023-07-21T08:31:47.868Z"
   },
   {
    "duration": 388,
    "start_time": "2023-07-21T08:31:47.884Z"
   },
   {
    "duration": 11,
    "start_time": "2023-07-21T08:31:48.274Z"
   },
   {
    "duration": 32,
    "start_time": "2023-07-21T08:31:48.286Z"
   },
   {
    "duration": 7,
    "start_time": "2023-07-21T08:31:48.319Z"
   },
   {
    "duration": 8,
    "start_time": "2023-07-21T08:31:48.327Z"
   },
   {
    "duration": 14,
    "start_time": "2023-07-21T08:31:48.337Z"
   },
   {
    "duration": 46,
    "start_time": "2023-07-21T08:39:39.602Z"
   },
   {
    "duration": 14,
    "start_time": "2023-07-21T08:39:41.230Z"
   },
   {
    "duration": 4,
    "start_time": "2023-07-21T08:42:02.481Z"
   },
   {
    "duration": 1112,
    "start_time": "2023-07-21T08:42:02.487Z"
   },
   {
    "duration": 102,
    "start_time": "2023-07-21T08:42:03.601Z"
   },
   {
    "duration": 162,
    "start_time": "2023-07-21T08:42:03.705Z"
   },
   {
    "duration": 82,
    "start_time": "2023-07-21T08:42:03.871Z"
   },
   {
    "duration": 115,
    "start_time": "2023-07-21T08:42:03.955Z"
   },
   {
    "duration": 146,
    "start_time": "2023-07-21T08:42:04.071Z"
   },
   {
    "duration": 23,
    "start_time": "2023-07-21T08:42:04.219Z"
   },
   {
    "duration": 45,
    "start_time": "2023-07-21T08:42:04.244Z"
   },
   {
    "duration": 34,
    "start_time": "2023-07-21T08:42:04.291Z"
   },
   {
    "duration": 13,
    "start_time": "2023-07-21T08:42:04.326Z"
   },
   {
    "duration": 13,
    "start_time": "2023-07-21T08:42:04.340Z"
   },
   {
    "duration": 24,
    "start_time": "2023-07-21T08:42:04.355Z"
   },
   {
    "duration": 40,
    "start_time": "2023-07-21T08:42:04.382Z"
   },
   {
    "duration": 6,
    "start_time": "2023-07-21T08:42:04.424Z"
   },
   {
    "duration": 18,
    "start_time": "2023-07-21T08:42:04.431Z"
   },
   {
    "duration": 30,
    "start_time": "2023-07-21T08:42:04.450Z"
   },
   {
    "duration": 5,
    "start_time": "2023-07-21T08:42:04.481Z"
   },
   {
    "duration": 21,
    "start_time": "2023-07-21T08:42:04.487Z"
   },
   {
    "duration": 32,
    "start_time": "2023-07-21T08:42:04.510Z"
   },
   {
    "duration": 15,
    "start_time": "2023-07-21T08:42:04.543Z"
   },
   {
    "duration": 42,
    "start_time": "2023-07-21T08:42:04.560Z"
   },
   {
    "duration": 46,
    "start_time": "2023-07-21T08:42:04.604Z"
   },
   {
    "duration": 21,
    "start_time": "2023-07-21T08:42:04.651Z"
   },
   {
    "duration": 63,
    "start_time": "2023-07-21T08:42:04.673Z"
   },
   {
    "duration": 35,
    "start_time": "2023-07-21T08:42:04.738Z"
   },
   {
    "duration": 30,
    "start_time": "2023-07-21T08:42:04.775Z"
   },
   {
    "duration": 38,
    "start_time": "2023-07-21T08:42:04.806Z"
   },
   {
    "duration": 6,
    "start_time": "2023-07-21T08:42:04.845Z"
   },
   {
    "duration": 15,
    "start_time": "2023-07-21T08:42:04.852Z"
   },
   {
    "duration": 29,
    "start_time": "2023-07-21T08:42:04.869Z"
   },
   {
    "duration": 45,
    "start_time": "2023-07-21T08:42:04.899Z"
   },
   {
    "duration": 42,
    "start_time": "2023-07-21T08:42:04.946Z"
   },
   {
    "duration": 43,
    "start_time": "2023-07-21T08:42:04.991Z"
   },
   {
    "duration": 32317,
    "start_time": "2023-07-21T08:42:05.036Z"
   },
   {
    "duration": 17,
    "start_time": "2023-07-21T08:42:37.354Z"
   },
   {
    "duration": 25,
    "start_time": "2023-07-21T08:42:37.373Z"
   },
   {
    "duration": 398,
    "start_time": "2023-07-21T08:42:37.400Z"
   },
   {
    "duration": 16,
    "start_time": "2023-07-21T08:42:37.799Z"
   },
   {
    "duration": 25,
    "start_time": "2023-07-21T08:42:37.817Z"
   },
   {
    "duration": 7,
    "start_time": "2023-07-21T08:42:37.845Z"
   },
   {
    "duration": 18,
    "start_time": "2023-07-21T08:42:37.853Z"
   },
   {
    "duration": 13,
    "start_time": "2023-07-21T08:42:37.872Z"
   },
   {
    "duration": 14,
    "start_time": "2023-07-21T08:44:02.313Z"
   },
   {
    "duration": 8,
    "start_time": "2023-07-21T08:45:09.456Z"
   },
   {
    "duration": 3,
    "start_time": "2023-07-21T08:46:00.339Z"
   },
   {
    "duration": 4,
    "start_time": "2023-07-21T08:49:21.621Z"
   },
   {
    "duration": 11,
    "start_time": "2023-07-21T08:49:46.188Z"
   },
   {
    "duration": 37977,
    "start_time": "2023-07-21T08:55:37.247Z"
   },
   {
    "duration": 75,
    "start_time": "2023-07-21T09:01:50.497Z"
   },
   {
    "duration": 4,
    "start_time": "2023-07-21T09:37:56.249Z"
   },
   {
    "duration": 160,
    "start_time": "2023-07-21T09:41:15.595Z"
   },
   {
    "duration": 9,
    "start_time": "2023-07-21T09:41:44.538Z"
   },
   {
    "duration": 8,
    "start_time": "2023-07-21T09:44:19.770Z"
   },
   {
    "duration": 9,
    "start_time": "2023-07-21T09:44:48.956Z"
   },
   {
    "duration": 23,
    "start_time": "2023-07-21T09:58:20.417Z"
   },
   {
    "duration": 100,
    "start_time": "2023-07-21T10:01:48.445Z"
   },
   {
    "duration": 3,
    "start_time": "2023-07-21T10:03:41.793Z"
   },
   {
    "duration": 125,
    "start_time": "2023-07-21T10:03:54.348Z"
   },
   {
    "duration": 18,
    "start_time": "2023-07-21T10:09:24.016Z"
   },
   {
    "duration": 1884,
    "start_time": "2023-07-21T10:10:23.841Z"
   },
   {
    "duration": 1936,
    "start_time": "2023-07-21T10:10:42.409Z"
   },
   {
    "duration": 1849,
    "start_time": "2023-07-21T10:10:57.693Z"
   },
   {
    "duration": 14,
    "start_time": "2023-07-21T10:11:07.744Z"
   },
   {
    "duration": 35019,
    "start_time": "2023-07-21T10:12:00.250Z"
   },
   {
    "duration": 1438,
    "start_time": "2023-07-21T10:18:25.239Z"
   },
   {
    "duration": 4,
    "start_time": "2023-07-21T10:31:55.727Z"
   },
   {
    "duration": 6,
    "start_time": "2023-07-21T10:32:40.695Z"
   },
   {
    "duration": 6,
    "start_time": "2023-07-21T10:32:52.845Z"
   },
   {
    "duration": 7,
    "start_time": "2023-07-21T10:40:30.557Z"
   },
   {
    "duration": 7,
    "start_time": "2023-07-21T10:41:19.481Z"
   },
   {
    "duration": 1338,
    "start_time": "2023-07-21T10:56:25.841Z"
   },
   {
    "duration": 897,
    "start_time": "2023-07-21T10:56:27.181Z"
   },
   {
    "duration": 40,
    "start_time": "2023-07-21T10:56:28.080Z"
   },
   {
    "duration": 156,
    "start_time": "2023-07-21T10:56:28.122Z"
   },
   {
    "duration": 112,
    "start_time": "2023-07-21T10:56:28.279Z"
   },
   {
    "duration": 145,
    "start_time": "2023-07-21T10:56:28.393Z"
   },
   {
    "duration": 240,
    "start_time": "2023-07-21T10:56:28.540Z"
   },
   {
    "duration": 32,
    "start_time": "2023-07-21T10:56:28.782Z"
   },
   {
    "duration": 95,
    "start_time": "2023-07-21T10:56:28.816Z"
   },
   {
    "duration": 20,
    "start_time": "2023-07-21T10:56:28.914Z"
   },
   {
    "duration": 21,
    "start_time": "2023-07-21T10:56:28.936Z"
   },
   {
    "duration": 47,
    "start_time": "2023-07-21T10:56:28.959Z"
   },
   {
    "duration": 59,
    "start_time": "2023-07-21T10:56:29.008Z"
   },
   {
    "duration": 46,
    "start_time": "2023-07-21T10:56:29.069Z"
   },
   {
    "duration": 10,
    "start_time": "2023-07-21T10:56:29.116Z"
   },
   {
    "duration": 43,
    "start_time": "2023-07-21T10:56:29.128Z"
   },
   {
    "duration": 62,
    "start_time": "2023-07-21T10:56:29.172Z"
   },
   {
    "duration": 32,
    "start_time": "2023-07-21T10:56:29.236Z"
   },
   {
    "duration": 46,
    "start_time": "2023-07-21T10:56:29.270Z"
   },
   {
    "duration": 69,
    "start_time": "2023-07-21T10:56:29.319Z"
   },
   {
    "duration": 47,
    "start_time": "2023-07-21T10:56:29.391Z"
   },
   {
    "duration": 65,
    "start_time": "2023-07-21T10:56:29.441Z"
   },
   {
    "duration": 42,
    "start_time": "2023-07-21T10:56:29.508Z"
   },
   {
    "duration": 29,
    "start_time": "2023-07-21T10:56:29.552Z"
   },
   {
    "duration": 86,
    "start_time": "2023-07-21T10:56:29.583Z"
   },
   {
    "duration": 60,
    "start_time": "2023-07-21T10:56:29.671Z"
   },
   {
    "duration": 63,
    "start_time": "2023-07-21T10:56:29.734Z"
   },
   {
    "duration": 44,
    "start_time": "2023-07-21T10:56:29.800Z"
   },
   {
    "duration": 13,
    "start_time": "2023-07-21T10:56:29.846Z"
   },
   {
    "duration": 33,
    "start_time": "2023-07-21T10:56:29.861Z"
   },
   {
    "duration": 51,
    "start_time": "2023-07-21T10:56:29.896Z"
   },
   {
    "duration": 54,
    "start_time": "2023-07-21T10:56:29.949Z"
   },
   {
    "duration": 81,
    "start_time": "2023-07-21T10:56:30.005Z"
   },
   {
    "duration": 72,
    "start_time": "2023-07-21T10:56:30.087Z"
   },
   {
    "duration": 129,
    "start_time": "2023-07-21T10:56:30.160Z"
   },
   {
    "duration": 1938,
    "start_time": "2023-07-21T10:56:30.291Z"
   },
   {
    "duration": 20,
    "start_time": "2023-07-21T10:56:32.231Z"
   },
   {
    "duration": 56,
    "start_time": "2023-07-21T10:56:32.253Z"
   },
   {
    "duration": 554,
    "start_time": "2023-07-21T10:56:32.311Z"
   },
   {
    "duration": 15,
    "start_time": "2023-07-21T10:56:32.867Z"
   },
   {
    "duration": 55,
    "start_time": "2023-07-21T10:56:32.883Z"
   },
   {
    "duration": 899,
    "start_time": "2023-07-21T10:56:32.939Z"
   },
   {
    "duration": 7,
    "start_time": "2023-07-21T10:56:33.840Z"
   },
   {
    "duration": 63,
    "start_time": "2023-07-21T10:56:33.849Z"
   },
   {
    "duration": 36,
    "start_time": "2023-07-21T10:56:33.914Z"
   },
   {
    "duration": 32,
    "start_time": "2023-07-21T10:56:33.952Z"
   },
   {
    "duration": 8,
    "start_time": "2023-07-21T10:58:51.314Z"
   },
   {
    "duration": 30,
    "start_time": "2023-07-21T10:58:56.737Z"
   },
   {
    "duration": 161,
    "start_time": "2023-07-21T10:59:02.647Z"
   },
   {
    "duration": 3,
    "start_time": "2023-07-21T11:06:12.825Z"
   },
   {
    "duration": 706,
    "start_time": "2023-07-21T11:06:12.838Z"
   },
   {
    "duration": 69,
    "start_time": "2023-07-21T11:06:13.546Z"
   },
   {
    "duration": 145,
    "start_time": "2023-07-21T11:06:13.616Z"
   },
   {
    "duration": 127,
    "start_time": "2023-07-21T11:06:13.763Z"
   },
   {
    "duration": 117,
    "start_time": "2023-07-21T11:06:13.891Z"
   },
   {
    "duration": 130,
    "start_time": "2023-07-21T11:06:14.010Z"
   },
   {
    "duration": 20,
    "start_time": "2023-07-21T11:06:14.142Z"
   },
   {
    "duration": 59,
    "start_time": "2023-07-21T11:06:14.163Z"
   },
   {
    "duration": 14,
    "start_time": "2023-07-21T11:06:14.225Z"
   },
   {
    "duration": 25,
    "start_time": "2023-07-21T11:06:14.241Z"
   },
   {
    "duration": 10,
    "start_time": "2023-07-21T11:06:14.268Z"
   },
   {
    "duration": 62,
    "start_time": "2023-07-21T11:06:14.280Z"
   },
   {
    "duration": 26,
    "start_time": "2023-07-21T11:06:14.343Z"
   },
   {
    "duration": 7,
    "start_time": "2023-07-21T11:06:14.371Z"
   },
   {
    "duration": 12,
    "start_time": "2023-07-21T11:06:14.379Z"
   },
   {
    "duration": 11,
    "start_time": "2023-07-21T11:06:14.393Z"
   },
   {
    "duration": 17,
    "start_time": "2023-07-21T11:06:14.406Z"
   },
   {
    "duration": 10,
    "start_time": "2023-07-21T11:06:14.424Z"
   },
   {
    "duration": 42,
    "start_time": "2023-07-21T11:06:14.435Z"
   },
   {
    "duration": 12,
    "start_time": "2023-07-21T11:06:14.479Z"
   },
   {
    "duration": 48,
    "start_time": "2023-07-21T11:06:14.492Z"
   },
   {
    "duration": 18,
    "start_time": "2023-07-21T11:06:14.541Z"
   },
   {
    "duration": 25,
    "start_time": "2023-07-21T11:06:14.560Z"
   },
   {
    "duration": 67,
    "start_time": "2023-07-21T11:06:14.587Z"
   },
   {
    "duration": 12,
    "start_time": "2023-07-21T11:06:14.656Z"
   },
   {
    "duration": 18,
    "start_time": "2023-07-21T11:06:14.669Z"
   },
   {
    "duration": 41,
    "start_time": "2023-07-21T11:06:14.688Z"
   },
   {
    "duration": 5,
    "start_time": "2023-07-21T11:06:14.730Z"
   },
   {
    "duration": 9,
    "start_time": "2023-07-21T11:06:14.737Z"
   },
   {
    "duration": 18,
    "start_time": "2023-07-21T11:06:14.747Z"
   },
   {
    "duration": 15,
    "start_time": "2023-07-21T11:06:14.766Z"
   },
   {
    "duration": 6,
    "start_time": "2023-07-21T11:06:14.782Z"
   },
   {
    "duration": 18,
    "start_time": "2023-07-21T11:06:14.789Z"
   },
   {
    "duration": 14,
    "start_time": "2023-07-21T11:06:14.808Z"
   },
   {
    "duration": 1490,
    "start_time": "2023-07-21T11:06:14.823Z"
   },
   {
    "duration": 27,
    "start_time": "2023-07-21T11:06:16.314Z"
   },
   {
    "duration": 141,
    "start_time": "2023-07-21T11:06:16.343Z"
   },
   {
    "duration": 22,
    "start_time": "2023-07-21T11:06:16.486Z"
   },
   {
    "duration": 39,
    "start_time": "2023-07-21T11:06:16.509Z"
   },
   {
    "duration": 388,
    "start_time": "2023-07-21T11:06:16.549Z"
   },
   {
    "duration": 12,
    "start_time": "2023-07-21T11:06:16.940Z"
   },
   {
    "duration": 20,
    "start_time": "2023-07-21T11:06:16.953Z"
   },
   {
    "duration": 32,
    "start_time": "2023-07-21T11:06:16.974Z"
   },
   {
    "duration": 5,
    "start_time": "2023-07-21T11:06:17.008Z"
   },
   {
    "duration": 9,
    "start_time": "2023-07-21T11:06:17.015Z"
   },
   {
    "duration": 11,
    "start_time": "2023-07-21T11:06:17.026Z"
   },
   {
    "duration": 10,
    "start_time": "2023-07-21T11:06:17.038Z"
   },
   {
    "duration": 9,
    "start_time": "2023-07-21T11:06:28.186Z"
   },
   {
    "duration": 10,
    "start_time": "2023-07-21T11:06:34.156Z"
   },
   {
    "duration": 9,
    "start_time": "2023-07-21T11:07:52.853Z"
   },
   {
    "duration": 104,
    "start_time": "2023-07-21T11:11:17.894Z"
   },
   {
    "duration": 3,
    "start_time": "2023-07-21T11:11:20.734Z"
   },
   {
    "duration": 1026,
    "start_time": "2023-07-21T11:11:20.739Z"
   },
   {
    "duration": 95,
    "start_time": "2023-07-21T11:11:21.767Z"
   },
   {
    "duration": 175,
    "start_time": "2023-07-21T11:11:21.865Z"
   },
   {
    "duration": 57,
    "start_time": "2023-07-21T11:11:22.042Z"
   },
   {
    "duration": 114,
    "start_time": "2023-07-21T11:11:22.101Z"
   },
   {
    "duration": 125,
    "start_time": "2023-07-21T11:11:22.217Z"
   },
   {
    "duration": 20,
    "start_time": "2023-07-21T11:11:22.343Z"
   },
   {
    "duration": 51,
    "start_time": "2023-07-21T11:11:22.365Z"
   },
   {
    "duration": 18,
    "start_time": "2023-07-21T11:11:22.419Z"
   },
   {
    "duration": 23,
    "start_time": "2023-07-21T11:11:22.439Z"
   },
   {
    "duration": 12,
    "start_time": "2023-07-21T11:11:22.464Z"
   },
   {
    "duration": 52,
    "start_time": "2023-07-21T11:11:22.478Z"
   },
   {
    "duration": 35,
    "start_time": "2023-07-21T11:11:22.532Z"
   },
   {
    "duration": 8,
    "start_time": "2023-07-21T11:11:22.569Z"
   },
   {
    "duration": 31,
    "start_time": "2023-07-21T11:11:22.579Z"
   },
   {
    "duration": 14,
    "start_time": "2023-07-21T11:11:22.612Z"
   },
   {
    "duration": 7,
    "start_time": "2023-07-21T11:11:22.628Z"
   },
   {
    "duration": 8,
    "start_time": "2023-07-21T11:11:22.637Z"
   },
   {
    "duration": 68,
    "start_time": "2023-07-21T11:11:22.646Z"
   },
   {
    "duration": 15,
    "start_time": "2023-07-21T11:11:22.716Z"
   },
   {
    "duration": 24,
    "start_time": "2023-07-21T11:11:22.734Z"
   },
   {
    "duration": 19,
    "start_time": "2023-07-21T11:11:22.759Z"
   },
   {
    "duration": 30,
    "start_time": "2023-07-21T11:11:22.779Z"
   },
   {
    "duration": 62,
    "start_time": "2023-07-21T11:11:22.810Z"
   },
   {
    "duration": 32,
    "start_time": "2023-07-21T11:11:22.874Z"
   },
   {
    "duration": 20,
    "start_time": "2023-07-21T11:11:22.908Z"
   },
   {
    "duration": 29,
    "start_time": "2023-07-21T11:11:22.931Z"
   },
   {
    "duration": 6,
    "start_time": "2023-07-21T11:11:22.962Z"
   },
   {
    "duration": 38,
    "start_time": "2023-07-21T11:11:22.969Z"
   },
   {
    "duration": 25,
    "start_time": "2023-07-21T11:11:23.009Z"
   },
   {
    "duration": 8,
    "start_time": "2023-07-21T11:11:23.036Z"
   },
   {
    "duration": 6,
    "start_time": "2023-07-21T11:11:23.046Z"
   },
   {
    "duration": 13,
    "start_time": "2023-07-21T11:11:23.053Z"
   },
   {
    "duration": 26,
    "start_time": "2023-07-21T11:11:23.068Z"
   },
   {
    "duration": 1587,
    "start_time": "2023-07-21T11:11:23.095Z"
   },
   {
    "duration": 39,
    "start_time": "2023-07-21T11:11:24.683Z"
   },
   {
    "duration": 1053,
    "start_time": "2023-07-21T11:11:24.724Z"
   },
   {
    "duration": 17,
    "start_time": "2023-07-21T11:11:25.778Z"
   },
   {
    "duration": 17,
    "start_time": "2023-07-21T11:11:25.807Z"
   },
   {
    "duration": 376,
    "start_time": "2023-07-21T11:11:25.825Z"
   },
   {
    "duration": 14,
    "start_time": "2023-07-21T11:11:26.202Z"
   },
   {
    "duration": 49,
    "start_time": "2023-07-21T11:11:26.217Z"
   },
   {
    "duration": 95,
    "start_time": "2023-07-21T11:11:26.268Z"
   },
   {
    "duration": 5,
    "start_time": "2023-07-21T11:11:26.365Z"
   },
   {
    "duration": 19,
    "start_time": "2023-07-21T11:11:26.372Z"
   },
   {
    "duration": 14,
    "start_time": "2023-07-21T11:11:26.392Z"
   },
   {
    "duration": 12,
    "start_time": "2023-07-21T11:11:26.408Z"
   },
   {
    "duration": 113,
    "start_time": "2023-07-21T11:11:55.186Z"
   },
   {
    "duration": 14,
    "start_time": "2023-07-21T11:59:15.950Z"
   },
   {
    "duration": 2,
    "start_time": "2023-07-21T11:59:28.351Z"
   },
   {
    "duration": 1051,
    "start_time": "2023-07-21T11:59:28.355Z"
   },
   {
    "duration": 74,
    "start_time": "2023-07-21T11:59:29.408Z"
   },
   {
    "duration": 163,
    "start_time": "2023-07-21T11:59:29.483Z"
   },
   {
    "duration": 93,
    "start_time": "2023-07-21T11:59:29.648Z"
   },
   {
    "duration": 116,
    "start_time": "2023-07-21T11:59:29.743Z"
   },
   {
    "duration": 136,
    "start_time": "2023-07-21T11:59:29.860Z"
   },
   {
    "duration": 27,
    "start_time": "2023-07-21T11:59:29.998Z"
   },
   {
    "duration": 62,
    "start_time": "2023-07-21T11:59:30.026Z"
   },
   {
    "duration": 25,
    "start_time": "2023-07-21T11:59:30.090Z"
   },
   {
    "duration": 36,
    "start_time": "2023-07-21T11:59:30.117Z"
   },
   {
    "duration": 41,
    "start_time": "2023-07-21T11:59:30.154Z"
   },
   {
    "duration": 58,
    "start_time": "2023-07-21T11:59:30.196Z"
   },
   {
    "duration": 40,
    "start_time": "2023-07-21T11:59:30.257Z"
   },
   {
    "duration": 11,
    "start_time": "2023-07-21T11:59:30.299Z"
   },
   {
    "duration": 51,
    "start_time": "2023-07-21T11:59:30.311Z"
   },
   {
    "duration": 47,
    "start_time": "2023-07-21T11:59:30.364Z"
   },
   {
    "duration": 27,
    "start_time": "2023-07-21T11:59:30.412Z"
   },
   {
    "duration": 53,
    "start_time": "2023-07-21T11:59:30.441Z"
   },
   {
    "duration": 109,
    "start_time": "2023-07-21T11:59:30.496Z"
   },
   {
    "duration": 92,
    "start_time": "2023-07-21T11:59:30.607Z"
   },
   {
    "duration": 115,
    "start_time": "2023-07-21T11:59:30.701Z"
   },
   {
    "duration": 87,
    "start_time": "2023-07-21T11:59:30.818Z"
   },
   {
    "duration": 62,
    "start_time": "2023-07-21T11:59:30.907Z"
   },
   {
    "duration": 134,
    "start_time": "2023-07-21T11:59:30.971Z"
   },
   {
    "duration": 66,
    "start_time": "2023-07-21T11:59:31.107Z"
   },
   {
    "duration": 86,
    "start_time": "2023-07-21T11:59:31.175Z"
   },
   {
    "duration": 76,
    "start_time": "2023-07-21T11:59:31.263Z"
   },
   {
    "duration": 54,
    "start_time": "2023-07-21T11:59:31.341Z"
   },
   {
    "duration": 56,
    "start_time": "2023-07-21T11:59:31.396Z"
   },
   {
    "duration": 69,
    "start_time": "2023-07-21T11:59:31.454Z"
   },
   {
    "duration": 47,
    "start_time": "2023-07-21T11:59:31.524Z"
   },
   {
    "duration": 9,
    "start_time": "2023-07-21T11:59:31.573Z"
   },
   {
    "duration": 32,
    "start_time": "2023-07-21T11:59:31.584Z"
   },
   {
    "duration": 44,
    "start_time": "2023-07-21T11:59:31.618Z"
   },
   {
    "duration": 343,
    "start_time": "2023-07-21T11:59:31.664Z"
   },
   {
    "duration": 24,
    "start_time": "2023-07-21T11:59:32.009Z"
   },
   {
    "duration": 143,
    "start_time": "2023-07-21T11:59:32.035Z"
   },
   {
    "duration": 16,
    "start_time": "2023-07-21T11:59:32.179Z"
   },
   {
    "duration": 39,
    "start_time": "2023-07-21T11:59:32.197Z"
   },
   {
    "duration": 459,
    "start_time": "2023-07-21T11:59:32.239Z"
   },
   {
    "duration": 16,
    "start_time": "2023-07-21T11:59:32.699Z"
   },
   {
    "duration": 19,
    "start_time": "2023-07-21T11:59:32.717Z"
   },
   {
    "duration": 11,
    "start_time": "2023-07-21T11:59:32.738Z"
   },
   {
    "duration": 13,
    "start_time": "2023-07-21T11:59:32.751Z"
   },
   {
    "duration": 10,
    "start_time": "2023-07-21T11:59:32.765Z"
   },
   {
    "duration": 33,
    "start_time": "2023-07-21T11:59:32.777Z"
   },
   {
    "duration": 22,
    "start_time": "2023-07-21T11:59:32.812Z"
   },
   {
    "duration": 1418,
    "start_time": "2023-07-21T12:43:08.110Z"
   },
   {
    "duration": 1112,
    "start_time": "2023-07-21T12:43:09.531Z"
   },
   {
    "duration": 61,
    "start_time": "2023-07-21T12:43:10.645Z"
   },
   {
    "duration": 202,
    "start_time": "2023-07-21T12:43:10.708Z"
   },
   {
    "duration": 89,
    "start_time": "2023-07-21T12:43:10.912Z"
   },
   {
    "duration": 153,
    "start_time": "2023-07-21T12:43:11.003Z"
   },
   {
    "duration": 234,
    "start_time": "2023-07-21T12:43:11.158Z"
   },
   {
    "duration": 31,
    "start_time": "2023-07-21T12:43:11.395Z"
   },
   {
    "duration": 45,
    "start_time": "2023-07-21T12:43:11.428Z"
   },
   {
    "duration": 45,
    "start_time": "2023-07-21T12:43:11.476Z"
   },
   {
    "duration": 14,
    "start_time": "2023-07-21T12:43:11.524Z"
   },
   {
    "duration": 15,
    "start_time": "2023-07-21T12:43:11.540Z"
   },
   {
    "duration": 52,
    "start_time": "2023-07-21T12:43:11.557Z"
   },
   {
    "duration": 43,
    "start_time": "2023-07-21T12:43:11.611Z"
   },
   {
    "duration": 8,
    "start_time": "2023-07-21T12:43:11.656Z"
   },
   {
    "duration": 14,
    "start_time": "2023-07-21T12:43:11.666Z"
   },
   {
    "duration": 37,
    "start_time": "2023-07-21T12:43:11.682Z"
   },
   {
    "duration": 5,
    "start_time": "2023-07-21T12:43:11.721Z"
   },
   {
    "duration": 13,
    "start_time": "2023-07-21T12:43:11.729Z"
   },
   {
    "duration": 66,
    "start_time": "2023-07-21T12:43:11.744Z"
   },
   {
    "duration": 16,
    "start_time": "2023-07-21T12:43:11.812Z"
   },
   {
    "duration": 23,
    "start_time": "2023-07-21T12:43:11.829Z"
   },
   {
    "duration": 23,
    "start_time": "2023-07-21T12:43:11.853Z"
   },
   {
    "duration": 10,
    "start_time": "2023-07-21T12:43:11.909Z"
   },
   {
    "duration": 63,
    "start_time": "2023-07-21T12:43:11.921Z"
   },
   {
    "duration": 18,
    "start_time": "2023-07-21T12:43:12.009Z"
   },
   {
    "duration": 35,
    "start_time": "2023-07-21T12:43:12.029Z"
   },
   {
    "duration": 58,
    "start_time": "2023-07-21T12:43:12.069Z"
   },
   {
    "duration": 7,
    "start_time": "2023-07-21T12:43:12.129Z"
   },
   {
    "duration": 15,
    "start_time": "2023-07-21T12:43:12.138Z"
   },
   {
    "duration": 55,
    "start_time": "2023-07-21T12:43:12.155Z"
   },
   {
    "duration": 40,
    "start_time": "2023-07-21T12:43:12.212Z"
   },
   {
    "duration": 5,
    "start_time": "2023-07-21T12:43:12.254Z"
   },
   {
    "duration": 26,
    "start_time": "2023-07-21T12:43:12.261Z"
   },
   {
    "duration": 39,
    "start_time": "2023-07-21T12:43:12.289Z"
   },
   {
    "duration": 427,
    "start_time": "2023-07-21T12:43:12.330Z"
   },
   {
    "duration": 33,
    "start_time": "2023-07-21T12:43:12.759Z"
   },
   {
    "duration": 187,
    "start_time": "2023-07-21T12:43:12.809Z"
   },
   {
    "duration": 29,
    "start_time": "2023-07-21T12:43:12.998Z"
   },
   {
    "duration": 21,
    "start_time": "2023-07-21T12:43:13.028Z"
   },
   {
    "duration": 485,
    "start_time": "2023-07-21T12:43:13.050Z"
   },
   {
    "duration": 15,
    "start_time": "2023-07-21T12:43:13.537Z"
   },
   {
    "duration": 25,
    "start_time": "2023-07-21T12:43:13.553Z"
   },
   {
    "duration": 667,
    "start_time": "2023-07-21T12:43:13.608Z"
   },
   {
    "duration": 7,
    "start_time": "2023-07-21T12:43:14.277Z"
   },
   {
    "duration": 29,
    "start_time": "2023-07-21T12:43:14.286Z"
   },
   {
    "duration": 23,
    "start_time": "2023-07-21T12:43:14.317Z"
   },
   {
    "duration": 9,
    "start_time": "2023-07-21T12:43:14.342Z"
   },
   {
    "duration": 34,
    "start_time": "2023-07-21T12:43:22.383Z"
   },
   {
    "duration": 24,
    "start_time": "2023-07-21T12:44:19.275Z"
   }
  ],
  "kernelspec": {
   "display_name": "Python 3 (ipykernel)",
   "language": "python",
   "name": "python3"
  },
  "language_info": {
   "codemirror_mode": {
    "name": "ipython",
    "version": 3
   },
   "file_extension": ".py",
   "mimetype": "text/x-python",
   "name": "python",
   "nbconvert_exporter": "python",
   "pygments_lexer": "ipython3",
   "version": "3.9.7"
  },
  "toc": {
   "base_numbering": 1,
   "nav_menu": {},
   "number_sections": true,
   "sideBar": true,
   "skip_h1_title": true,
   "title_cell": "Table of Contents",
   "title_sidebar": "Contents",
   "toc_cell": false,
   "toc_position": {},
   "toc_section_display": true,
   "toc_window_display": true
  }
 },
 "nbformat": 4,
 "nbformat_minor": 5
}
