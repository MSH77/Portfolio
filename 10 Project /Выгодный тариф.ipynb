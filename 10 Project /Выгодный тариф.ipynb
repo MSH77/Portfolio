{
 "cells": [
  {
   "cell_type": "markdown",
   "metadata": {},
   "source": [
    "## Описание проекта"
   ]
  },
  {
   "cell_type": "markdown",
   "metadata": {},
   "source": [
    "Клиентам предлагают два тарифных плана: «Смарт» и «Ультра». Чтобы скорректировать рекламный бюджет, коммерческий департамент хочет понять, какой тариф приносит больше денег.\n",
    "\n",
    "Предстоит сделать предварительный анализ тарифов на небольшой выборке клиентов. В нашем распоряжении данные 500 пользователей «Мегалайна»: кто они, откуда, каким тарифом пользуются, сколько звонков и сообщений каждый отправил за 2018 год. Нужно проанализировать поведение клиентов и сделать вывод — какой тариф лучше."
   ]
  },
  {
   "cell_type": "markdown",
   "metadata": {},
   "source": [
    "##  Загрузка данных и подготовка их к анализу"
   ]
  },
  {
   "cell_type": "markdown",
   "metadata": {},
   "source": [
    "Подключаем библиотеки, которые понадобятся для работы над проектом"
   ]
  },
  {
   "cell_type": "code",
   "execution_count": 54,
   "metadata": {},
   "outputs": [],
   "source": [
    "import pandas as pd\n",
    "import seaborn as sns\n",
    "import matplotlib.pyplot as plt\n",
    "import numpy as np\n",
    "import scipy.stats as st\n",
    "import datetime"
   ]
  },
  {
   "cell_type": "markdown",
   "metadata": {},
   "source": [
    "Откроем файлы с данными и изучим общую информацию"
   ]
  },
  {
   "cell_type": "code",
   "execution_count": 55,
   "metadata": {},
   "outputs": [
    {
     "name": "stdout",
     "output_type": "stream",
     "text": [
      "<class 'pandas.core.frame.DataFrame'>\n",
      "RangeIndex: 202607 entries, 0 to 202606\n",
      "Data columns (total 4 columns):\n",
      " #   Column     Non-Null Count   Dtype  \n",
      "---  ------     --------------   -----  \n",
      " 0   id         202607 non-null  object \n",
      " 1   call_date  202607 non-null  object \n",
      " 2   duration   202607 non-null  float64\n",
      " 3   user_id    202607 non-null  int64  \n",
      "dtypes: float64(1), int64(1), object(2)\n",
      "memory usage: 6.2+ MB\n",
      "None\n",
      "\n",
      "<class 'pandas.core.frame.DataFrame'>\n",
      "RangeIndex: 149396 entries, 0 to 149395\n",
      "Data columns (total 5 columns):\n",
      " #   Column        Non-Null Count   Dtype  \n",
      "---  ------        --------------   -----  \n",
      " 0   Unnamed: 0    149396 non-null  int64  \n",
      " 1   id            149396 non-null  object \n",
      " 2   mb_used       149396 non-null  float64\n",
      " 3   session_date  149396 non-null  object \n",
      " 4   user_id       149396 non-null  int64  \n",
      "dtypes: float64(1), int64(2), object(2)\n",
      "memory usage: 5.7+ MB\n",
      "None\n",
      "\n",
      "<class 'pandas.core.frame.DataFrame'>\n",
      "RangeIndex: 123036 entries, 0 to 123035\n",
      "Data columns (total 3 columns):\n",
      " #   Column        Non-Null Count   Dtype \n",
      "---  ------        --------------   ----- \n",
      " 0   id            123036 non-null  object\n",
      " 1   message_date  123036 non-null  object\n",
      " 2   user_id       123036 non-null  int64 \n",
      "dtypes: int64(1), object(2)\n",
      "memory usage: 2.8+ MB\n",
      "None\n",
      "\n",
      "<class 'pandas.core.frame.DataFrame'>\n",
      "RangeIndex: 500 entries, 0 to 499\n",
      "Data columns (total 8 columns):\n",
      " #   Column      Non-Null Count  Dtype \n",
      "---  ------      --------------  ----- \n",
      " 0   user_id     500 non-null    int64 \n",
      " 1   age         500 non-null    int64 \n",
      " 2   churn_date  38 non-null     object\n",
      " 3   city        500 non-null    object\n",
      " 4   first_name  500 non-null    object\n",
      " 5   last_name   500 non-null    object\n",
      " 6   reg_date    500 non-null    object\n",
      " 7   tariff      500 non-null    object\n",
      "dtypes: int64(2), object(6)\n",
      "memory usage: 31.4+ KB\n",
      "None\n",
      "\n",
      "<class 'pandas.core.frame.DataFrame'>\n",
      "RangeIndex: 2 entries, 0 to 1\n",
      "Data columns (total 8 columns):\n",
      " #   Column                 Non-Null Count  Dtype \n",
      "---  ------                 --------------  ----- \n",
      " 0   messages_included      2 non-null      int64 \n",
      " 1   mb_per_month_included  2 non-null      int64 \n",
      " 2   minutes_included       2 non-null      int64 \n",
      " 3   rub_monthly_fee        2 non-null      int64 \n",
      " 4   rub_per_gb             2 non-null      int64 \n",
      " 5   rub_per_message        2 non-null      int64 \n",
      " 6   rub_per_minute         2 non-null      int64 \n",
      " 7   tariff_name            2 non-null      object\n",
      "dtypes: int64(7), object(1)\n",
      "memory usage: 256.0+ bytes\n",
      "None\n",
      "\n"
     ]
    }
   ],
   "source": [
    "calls = pd.read_csv('calls.csv')\n",
    "internet = pd.read_csv('internet.csv')\n",
    "messages = pd.read_csv('messages.csv')\n",
    "tariffs = pd.read_csv('tariffs.csv')\n",
    "users = pd.read_csv('users.csv')\n",
    "\n",
    "for data in [calls, internet, messages, users, tariffs]: print(data.info(), end='\\n\\n')"
   ]
  },
  {
   "cell_type": "markdown",
   "metadata": {},
   "source": [
    "Проверим дубликаты в таблице с клиентами"
   ]
  },
  {
   "cell_type": "code",
   "execution_count": 56,
   "metadata": {},
   "outputs": [
    {
     "name": "stdout",
     "output_type": "stream",
     "text": [
      "Число дубликатов: 0\n",
      "Число дубликатов: 0\n",
      "Число дубликатов: 0\n",
      "Число дубликатов: 0\n",
      "Число дубликатов: 0\n"
     ]
    }
   ],
   "source": [
    "print(\"Число дубликатов:\", users.duplicated().sum())\n",
    "print(\"Число дубликатов:\", calls.duplicated().sum())\n",
    "print(\"Число дубликатов:\", internet.duplicated().sum())\n",
    "print(\"Число дубликатов:\", messages.duplicated().sum())\n",
    "print(\"Число дубликатов:\", tariffs.duplicated().sum())"
   ]
  },
  {
   "cell_type": "markdown",
   "metadata": {},
   "source": [
    "Как можно увидеть, ни в одной из таблиц не имеется дубликатов."
   ]
  },
  {
   "cell_type": "markdown",
   "metadata": {},
   "source": [
    "Если посмотреть на все таблицы, то можем увидеть проблему с типом данных в некоторых столбцах с датой. Также прочитав примечание из задачи, поставленной в проекте, нам нужно округлить длительность разговора и количество использованного интернет-трафика в большую сторону."
   ]
  },
  {
   "cell_type": "markdown",
   "metadata": {},
   "source": [
    "Заменим тип данных в столбцах, которые содержат дату, с `object` на `datetime`"
   ]
  },
  {
   "cell_type": "code",
   "execution_count": 57,
   "metadata": {},
   "outputs": [],
   "source": [
    "calls['call_date'] = pd.to_datetime(calls['call_date'], format='%Y-%m-%d')\n",
    "internet['session_date'] = pd.to_datetime(internet['session_date'], format='%Y-%m-%d')\n",
    "messages['message_date'] = pd.to_datetime(messages['message_date'], format='%Y-%m-%d')\n",
    "users['churn_date'] = pd.to_datetime(users['churn_date'], format='%Y-%m-%d')\n",
    "users['reg_date'] = pd.to_datetime(users['reg_date'], format='%Y-%m-%d')"
   ]
  },
  {
   "cell_type": "markdown",
   "metadata": {},
   "source": [
    "Все звонки длительностью меньше минуты запишем, как 1 минута"
   ]
  },
  {
   "cell_type": "code",
   "execution_count": 58,
   "metadata": {},
   "outputs": [
    {
     "name": "stdout",
     "output_type": "stream",
     "text": [
      "0          0.00\n",
      "1          0.00\n",
      "2          2.85\n",
      "3         13.80\n",
      "4          5.18\n",
      "          ...  \n",
      "202602     0.76\n",
      "202603    18.83\n",
      "202604    10.81\n",
      "202605     4.27\n",
      "202606    19.62\n",
      "Name: duration, Length: 202607, dtype: float64\n"
     ]
    }
   ],
   "source": [
    "print(calls['duration'])"
   ]
  },
  {
   "cell_type": "markdown",
   "metadata": {},
   "source": [
    "Воспользуемся функцией `ceil` из библиотеки math"
   ]
  },
  {
   "cell_type": "code",
   "execution_count": 59,
   "metadata": {},
   "outputs": [
    {
     "name": "stdout",
     "output_type": "stream",
     "text": [
      "0          0.0\n",
      "1          0.0\n",
      "2          3.0\n",
      "3         14.0\n",
      "4          6.0\n",
      "          ... \n",
      "202602     1.0\n",
      "202603    19.0\n",
      "202604    11.0\n",
      "202605     5.0\n",
      "202606    20.0\n",
      "Name: duration, Length: 202607, dtype: float64\n"
     ]
    }
   ],
   "source": [
    "calls['duration'] = calls['duration'].apply(np.ceil)\n",
    "print(calls['duration'])"
   ]
  },
  {
   "cell_type": "markdown",
   "metadata": {},
   "source": [
    "Проанализируем аномалии в таблице с интернет-трафиком и построим гистограмму"
   ]
  },
  {
   "cell_type": "code",
   "execution_count": 60,
   "metadata": {},
   "outputs": [
    {
     "data": {
      "image/png": "[encoded data removed]",
      "text/plain": [
       "<Figure size 432x288 with 1 Axes>"
      ]
     },
     "metadata": {
      "needs_background": "light"
     },
     "output_type": "display_data"
    }
   ],
   "source": [
    "internet['mb_used'].plot(kind='hist', ec='black', bins=50)\n",
    "plt.title('Гистограмма интернет трафика'+ \"\\n\")\n",
    "plt.xlabel('Количество мегабайт')\n",
    "plt.ylabel('Количество пользователей')\n",
    "plt.show()"
   ]
  },
  {
   "cell_type": "markdown",
   "metadata": {},
   "source": [
    "Посмотрим на количество строк с нулевым интернет-трафиком"
   ]
  },
  {
   "cell_type": "code",
   "execution_count": 61,
   "metadata": {},
   "outputs": [
    {
     "data": {
      "text/html": [
       "<div>\n",
       "<style scoped>\n",
       "    .dataframe tbody tr th:only-of-type {\n",
       "        vertical-align: middle;\n",
       "    }\n",
       "\n",
       "    .dataframe tbody tr th {\n",
       "        vertical-align: top;\n",
       "    }\n",
       "\n",
       "    .dataframe thead th {\n",
       "        text-align: right;\n",
       "    }\n",
       "</style>\n",
       "<table border=\"1\" class=\"dataframe\">\n",
       "  <thead>\n",
       "    <tr style=\"text-align: right;\">\n",
       "      <th></th>\n",
       "      <th>Unnamed: 0</th>\n",
       "      <th>id</th>\n",
       "      <th>mb_used</th>\n",
       "      <th>session_date</th>\n",
       "      <th>user_id</th>\n",
       "    </tr>\n",
       "  </thead>\n",
       "  <tbody>\n",
       "    <tr>\n",
       "      <th>11</th>\n",
       "      <td>11</td>\n",
       "      <td>1000_11</td>\n",
       "      <td>0.0</td>\n",
       "      <td>2018-08-28</td>\n",
       "      <td>1000</td>\n",
       "    </tr>\n",
       "    <tr>\n",
       "      <th>38</th>\n",
       "      <td>38</td>\n",
       "      <td>1000_38</td>\n",
       "      <td>0.0</td>\n",
       "      <td>2018-11-27</td>\n",
       "      <td>1000</td>\n",
       "    </tr>\n",
       "    <tr>\n",
       "      <th>46</th>\n",
       "      <td>46</td>\n",
       "      <td>1000_46</td>\n",
       "      <td>0.0</td>\n",
       "      <td>2018-06-30</td>\n",
       "      <td>1000</td>\n",
       "    </tr>\n",
       "    <tr>\n",
       "      <th>67</th>\n",
       "      <td>67</td>\n",
       "      <td>1000_67</td>\n",
       "      <td>0.0</td>\n",
       "      <td>2018-06-16</td>\n",
       "      <td>1000</td>\n",
       "    </tr>\n",
       "    <tr>\n",
       "      <th>72</th>\n",
       "      <td>72</td>\n",
       "      <td>1000_72</td>\n",
       "      <td>0.0</td>\n",
       "      <td>2018-06-15</td>\n",
       "      <td>1000</td>\n",
       "    </tr>\n",
       "    <tr>\n",
       "      <th>...</th>\n",
       "      <td>...</td>\n",
       "      <td>...</td>\n",
       "      <td>...</td>\n",
       "      <td>...</td>\n",
       "      <td>...</td>\n",
       "    </tr>\n",
       "    <tr>\n",
       "      <th>149380</th>\n",
       "      <td>149380</td>\n",
       "      <td>1499_141</td>\n",
       "      <td>0.0</td>\n",
       "      <td>2018-12-11</td>\n",
       "      <td>1499</td>\n",
       "    </tr>\n",
       "    <tr>\n",
       "      <th>149381</th>\n",
       "      <td>149381</td>\n",
       "      <td>1499_142</td>\n",
       "      <td>0.0</td>\n",
       "      <td>2018-11-01</td>\n",
       "      <td>1499</td>\n",
       "    </tr>\n",
       "    <tr>\n",
       "      <th>149383</th>\n",
       "      <td>149383</td>\n",
       "      <td>1499_144</td>\n",
       "      <td>0.0</td>\n",
       "      <td>2018-11-27</td>\n",
       "      <td>1499</td>\n",
       "    </tr>\n",
       "    <tr>\n",
       "      <th>149386</th>\n",
       "      <td>149386</td>\n",
       "      <td>1499_147</td>\n",
       "      <td>0.0</td>\n",
       "      <td>2018-10-21</td>\n",
       "      <td>1499</td>\n",
       "    </tr>\n",
       "    <tr>\n",
       "      <th>149393</th>\n",
       "      <td>149393</td>\n",
       "      <td>1499_154</td>\n",
       "      <td>0.0</td>\n",
       "      <td>2018-10-27</td>\n",
       "      <td>1499</td>\n",
       "    </tr>\n",
       "  </tbody>\n",
       "</table>\n",
       "<p>19598 rows × 5 columns</p>\n",
       "</div>"
      ],
      "text/plain": [
       "        Unnamed: 0        id  mb_used session_date  user_id\n",
       "11              11   1000_11      0.0   2018-08-28     1000\n",
       "38              38   1000_38      0.0   2018-11-27     1000\n",
       "46              46   1000_46      0.0   2018-06-30     1000\n",
       "67              67   1000_67      0.0   2018-06-16     1000\n",
       "72              72   1000_72      0.0   2018-06-15     1000\n",
       "...            ...       ...      ...          ...      ...\n",
       "149380      149380  1499_141      0.0   2018-12-11     1499\n",
       "149381      149381  1499_142      0.0   2018-11-01     1499\n",
       "149383      149383  1499_144      0.0   2018-11-27     1499\n",
       "149386      149386  1499_147      0.0   2018-10-21     1499\n",
       "149393      149393  1499_154      0.0   2018-10-27     1499\n",
       "\n",
       "[19598 rows x 5 columns]"
      ]
     },
     "execution_count": 61,
     "metadata": {},
     "output_type": "execute_result"
    }
   ],
   "source": [
    "internet.query('mb_used == 0')"
   ]
  },
  {
   "cell_type": "markdown",
   "metadata": {},
   "source": [
    "Таких строк почти 20 тысяч. Такое может случится, если, например, человек хотел зайти в интернет, но у него в этот момент пропала связь, и сессия была закончена. Уберем нулевые значения."
   ]
  },
  {
   "cell_type": "code",
   "execution_count": 62,
   "metadata": {},
   "outputs": [
    {
     "data": {
      "image/png": "[encoded data removed]",
      "text/plain": [
       "<Figure size 432x288 with 1 Axes>"
      ]
     },
     "metadata": {
      "needs_background": "light"
     },
     "output_type": "display_data"
    }
   ],
   "source": [
    "internet['mb_used'] = internet['mb_used'].replace(0, np.NaN)\n",
    "internet = internet.dropna()\n",
    "internet['mb_used'].plot(kind='hist', ec='black', bins=50)\n",
    "plt.title('Гистограмма интернет трафика'+ \"\\n\")\n",
    "plt.xlabel('Количество мегабайт')\n",
    "plt.ylabel('Количество пользователей')\n",
    "plt.show()"
   ]
  },
  {
   "cell_type": "markdown",
   "metadata": {},
   "source": [
    "Тем самым мы убрали значения, которые никак не помогут нам в анализе."
   ]
  },
  {
   "cell_type": "markdown",
   "metadata": {},
   "source": [
    "**Посчитаем для каждого пользователя:**\n",
    "\n",
    "- количество сделанных звонков и израсходованных минут разговора по месяцам;\n",
    "- количество отправленных сообщений по месяцам;\n",
    "- объем израсходованного интернет-трафика по месяцам;\n",
    "- помесячную выручку с каждого пользователя (вычтите бесплатный лимит из суммарного количества звонков, сообщений и интернет-трафика; остаток умножьте на значение из тарифного плана; прибавьте абонентскую плату, соответствующую тарифному плану)."
   ]
  },
  {
   "cell_type": "markdown",
   "metadata": {},
   "source": [
    "Для начала сделаем таблицу по звонкам"
   ]
  },
  {
   "cell_type": "code",
   "execution_count": 63,
   "metadata": {},
   "outputs": [],
   "source": [
    "# Комментарий ревьюера\n",
    "# Создадим копии датасетов\n",
    "temp_c = calls.copy()\n",
    "temp_i = internet.copy()\n",
    "temp_m = messages.copy()"
   ]
  },
  {
   "cell_type": "code",
   "execution_count": 64,
   "metadata": {},
   "outputs": [
    {
     "data": {
      "text/html": [
       "<div>\n",
       "<style scoped>\n",
       "    .dataframe tbody tr th:only-of-type {\n",
       "        vertical-align: middle;\n",
       "    }\n",
       "\n",
       "    .dataframe tbody tr th {\n",
       "        vertical-align: top;\n",
       "    }\n",
       "\n",
       "    .dataframe thead th {\n",
       "        text-align: right;\n",
       "    }\n",
       "</style>\n",
       "<table border=\"1\" class=\"dataframe\">\n",
       "  <thead>\n",
       "    <tr style=\"text-align: right;\">\n",
       "      <th></th>\n",
       "      <th>user_id</th>\n",
       "      <th>month</th>\n",
       "      <th>calls_count</th>\n",
       "      <th>calls_sum</th>\n",
       "    </tr>\n",
       "  </thead>\n",
       "  <tbody>\n",
       "    <tr>\n",
       "      <th>0</th>\n",
       "      <td>1000</td>\n",
       "      <td>5</td>\n",
       "      <td>22</td>\n",
       "      <td>159.0</td>\n",
       "    </tr>\n",
       "    <tr>\n",
       "      <th>1</th>\n",
       "      <td>1000</td>\n",
       "      <td>6</td>\n",
       "      <td>43</td>\n",
       "      <td>172.0</td>\n",
       "    </tr>\n",
       "    <tr>\n",
       "      <th>2</th>\n",
       "      <td>1000</td>\n",
       "      <td>7</td>\n",
       "      <td>47</td>\n",
       "      <td>340.0</td>\n",
       "    </tr>\n",
       "    <tr>\n",
       "      <th>3</th>\n",
       "      <td>1000</td>\n",
       "      <td>8</td>\n",
       "      <td>52</td>\n",
       "      <td>408.0</td>\n",
       "    </tr>\n",
       "    <tr>\n",
       "      <th>4</th>\n",
       "      <td>1000</td>\n",
       "      <td>9</td>\n",
       "      <td>58</td>\n",
       "      <td>466.0</td>\n",
       "    </tr>\n",
       "    <tr>\n",
       "      <th>5</th>\n",
       "      <td>1000</td>\n",
       "      <td>10</td>\n",
       "      <td>57</td>\n",
       "      <td>350.0</td>\n",
       "    </tr>\n",
       "    <tr>\n",
       "      <th>6</th>\n",
       "      <td>1000</td>\n",
       "      <td>11</td>\n",
       "      <td>43</td>\n",
       "      <td>338.0</td>\n",
       "    </tr>\n",
       "    <tr>\n",
       "      <th>7</th>\n",
       "      <td>1000</td>\n",
       "      <td>12</td>\n",
       "      <td>46</td>\n",
       "      <td>333.0</td>\n",
       "    </tr>\n",
       "    <tr>\n",
       "      <th>8</th>\n",
       "      <td>1001</td>\n",
       "      <td>11</td>\n",
       "      <td>59</td>\n",
       "      <td>430.0</td>\n",
       "    </tr>\n",
       "    <tr>\n",
       "      <th>9</th>\n",
       "      <td>1001</td>\n",
       "      <td>12</td>\n",
       "      <td>63</td>\n",
       "      <td>414.0</td>\n",
       "    </tr>\n",
       "  </tbody>\n",
       "</table>\n",
       "</div>"
      ],
      "text/plain": [
       "   user_id  month  calls_count  calls_sum\n",
       "0     1000      5           22      159.0\n",
       "1     1000      6           43      172.0\n",
       "2     1000      7           47      340.0\n",
       "3     1000      8           52      408.0\n",
       "4     1000      9           58      466.0\n",
       "5     1000     10           57      350.0\n",
       "6     1000     11           43      338.0\n",
       "7     1000     12           46      333.0\n",
       "8     1001     11           59      430.0\n",
       "9     1001     12           63      414.0"
      ]
     },
     "execution_count": 64,
     "metadata": {},
     "output_type": "execute_result"
    }
   ],
   "source": [
    "temp_c['month'] = temp_c['call_date'].dt.month\n",
    "temp_c_m = temp_c.pivot_table(index = ['user_id', 'month'], values = 'duration', aggfunc = ['count', 'sum']).reset_index()\n",
    "temp_c_m.columns = ['user_id', 'month', 'calls_count', 'calls_sum']\n",
    "temp_c_m.head(10)"
   ]
  },
  {
   "cell_type": "markdown",
   "metadata": {},
   "source": [
    "Сделаем такую же таблицу для сообщений"
   ]
  },
  {
   "cell_type": "code",
   "execution_count": 65,
   "metadata": {},
   "outputs": [
    {
     "data": {
      "text/html": [
       "<div>\n",
       "<style scoped>\n",
       "    .dataframe tbody tr th:only-of-type {\n",
       "        vertical-align: middle;\n",
       "    }\n",
       "\n",
       "    .dataframe tbody tr th {\n",
       "        vertical-align: top;\n",
       "    }\n",
       "\n",
       "    .dataframe thead th {\n",
       "        text-align: right;\n",
       "    }\n",
       "</style>\n",
       "<table border=\"1\" class=\"dataframe\">\n",
       "  <thead>\n",
       "    <tr style=\"text-align: right;\">\n",
       "      <th></th>\n",
       "      <th>user_id</th>\n",
       "      <th>month</th>\n",
       "      <th>message_count</th>\n",
       "    </tr>\n",
       "  </thead>\n",
       "  <tbody>\n",
       "    <tr>\n",
       "      <th>0</th>\n",
       "      <td>1000</td>\n",
       "      <td>5</td>\n",
       "      <td>22</td>\n",
       "    </tr>\n",
       "    <tr>\n",
       "      <th>1</th>\n",
       "      <td>1000</td>\n",
       "      <td>6</td>\n",
       "      <td>60</td>\n",
       "    </tr>\n",
       "    <tr>\n",
       "      <th>2</th>\n",
       "      <td>1000</td>\n",
       "      <td>7</td>\n",
       "      <td>75</td>\n",
       "    </tr>\n",
       "    <tr>\n",
       "      <th>3</th>\n",
       "      <td>1000</td>\n",
       "      <td>8</td>\n",
       "      <td>81</td>\n",
       "    </tr>\n",
       "    <tr>\n",
       "      <th>4</th>\n",
       "      <td>1000</td>\n",
       "      <td>9</td>\n",
       "      <td>57</td>\n",
       "    </tr>\n",
       "    <tr>\n",
       "      <th>5</th>\n",
       "      <td>1000</td>\n",
       "      <td>10</td>\n",
       "      <td>73</td>\n",
       "    </tr>\n",
       "    <tr>\n",
       "      <th>6</th>\n",
       "      <td>1000</td>\n",
       "      <td>11</td>\n",
       "      <td>58</td>\n",
       "    </tr>\n",
       "    <tr>\n",
       "      <th>7</th>\n",
       "      <td>1000</td>\n",
       "      <td>12</td>\n",
       "      <td>70</td>\n",
       "    </tr>\n",
       "    <tr>\n",
       "      <th>8</th>\n",
       "      <td>1002</td>\n",
       "      <td>6</td>\n",
       "      <td>4</td>\n",
       "    </tr>\n",
       "    <tr>\n",
       "      <th>9</th>\n",
       "      <td>1002</td>\n",
       "      <td>7</td>\n",
       "      <td>11</td>\n",
       "    </tr>\n",
       "  </tbody>\n",
       "</table>\n",
       "</div>"
      ],
      "text/plain": [
       "   user_id  month  message_count\n",
       "0     1000      5             22\n",
       "1     1000      6             60\n",
       "2     1000      7             75\n",
       "3     1000      8             81\n",
       "4     1000      9             57\n",
       "5     1000     10             73\n",
       "6     1000     11             58\n",
       "7     1000     12             70\n",
       "8     1002      6              4\n",
       "9     1002      7             11"
      ]
     },
     "execution_count": 65,
     "metadata": {},
     "output_type": "execute_result"
    }
   ],
   "source": [
    "temp_m['month'] = temp_m['message_date'].dt.month\n",
    "temp_m_m = temp_m.pivot_table(index = ['user_id', 'month'], values = 'id' , aggfunc = ['count']).reset_index()\n",
    "temp_m_m.columns = ['user_id', 'month', 'message_count']\n",
    "temp_m_m.head(10)"
   ]
  },
  {
   "cell_type": "markdown",
   "metadata": {},
   "source": [
    "И такую же таблицу для интернет-трафика"
   ]
  },
  {
   "cell_type": "code",
   "execution_count": 66,
   "metadata": {},
   "outputs": [
    {
     "data": {
      "text/html": [
       "<div>\n",
       "<style scoped>\n",
       "    .dataframe tbody tr th:only-of-type {\n",
       "        vertical-align: middle;\n",
       "    }\n",
       "\n",
       "    .dataframe tbody tr th {\n",
       "        vertical-align: top;\n",
       "    }\n",
       "\n",
       "    .dataframe thead th {\n",
       "        text-align: right;\n",
       "    }\n",
       "</style>\n",
       "<table border=\"1\" class=\"dataframe\">\n",
       "  <thead>\n",
       "    <tr style=\"text-align: right;\">\n",
       "      <th></th>\n",
       "      <th>user_id</th>\n",
       "      <th>month</th>\n",
       "      <th>mb_sum_internet</th>\n",
       "      <th>gb_sum_internet</th>\n",
       "    </tr>\n",
       "  </thead>\n",
       "  <tbody>\n",
       "    <tr>\n",
       "      <th>0</th>\n",
       "      <td>1000</td>\n",
       "      <td>5</td>\n",
       "      <td>2253.49</td>\n",
       "      <td>3.0</td>\n",
       "    </tr>\n",
       "    <tr>\n",
       "      <th>1</th>\n",
       "      <td>1000</td>\n",
       "      <td>6</td>\n",
       "      <td>23233.77</td>\n",
       "      <td>23.0</td>\n",
       "    </tr>\n",
       "    <tr>\n",
       "      <th>2</th>\n",
       "      <td>1000</td>\n",
       "      <td>7</td>\n",
       "      <td>14003.64</td>\n",
       "      <td>14.0</td>\n",
       "    </tr>\n",
       "    <tr>\n",
       "      <th>3</th>\n",
       "      <td>1000</td>\n",
       "      <td>8</td>\n",
       "      <td>14055.93</td>\n",
       "      <td>14.0</td>\n",
       "    </tr>\n",
       "    <tr>\n",
       "      <th>4</th>\n",
       "      <td>1000</td>\n",
       "      <td>9</td>\n",
       "      <td>14568.91</td>\n",
       "      <td>15.0</td>\n",
       "    </tr>\n",
       "  </tbody>\n",
       "</table>\n",
       "</div>"
      ],
      "text/plain": [
       "   user_id  month  mb_sum_internet  gb_sum_internet\n",
       "0     1000      5          2253.49              3.0\n",
       "1     1000      6         23233.77             23.0\n",
       "2     1000      7         14003.64             14.0\n",
       "3     1000      8         14055.93             14.0\n",
       "4     1000      9         14568.91             15.0"
      ]
     },
     "execution_count": 66,
     "metadata": {},
     "output_type": "execute_result"
    }
   ],
   "source": [
    "temp_i['month'] = temp_i['session_date'].dt.month\n",
    "temp_i_m = temp_i.pivot_table(index = ['user_id', 'month'], values = 'mb_used' , aggfunc = ['sum']).reset_index()\n",
    "temp_i_m.columns = ['user_id', 'month', 'mb_sum_internet']\n",
    "temp_i_m['gb_sum_internet'] = temp_i_m['mb_sum_internet'] / 1024 \n",
    "temp_i_m['gb_sum_internet'] = temp_i_m['gb_sum_internet'].apply(np.ceil)\n",
    "temp_i_m.head()"
   ]
  },
  {
   "cell_type": "markdown",
   "metadata": {},
   "source": [
    "Теперь объединяем все эти таблицы в одну"
   ]
  },
  {
   "cell_type": "code",
   "execution_count": 67,
   "metadata": {},
   "outputs": [
    {
     "data": {
      "text/html": [
       "<div>\n",
       "<style scoped>\n",
       "    .dataframe tbody tr th:only-of-type {\n",
       "        vertical-align: middle;\n",
       "    }\n",
       "\n",
       "    .dataframe tbody tr th {\n",
       "        vertical-align: top;\n",
       "    }\n",
       "\n",
       "    .dataframe thead th {\n",
       "        text-align: right;\n",
       "    }\n",
       "</style>\n",
       "<table border=\"1\" class=\"dataframe\">\n",
       "  <thead>\n",
       "    <tr style=\"text-align: right;\">\n",
       "      <th></th>\n",
       "      <th>user_id</th>\n",
       "      <th>month</th>\n",
       "      <th>calls_count</th>\n",
       "      <th>calls_sum</th>\n",
       "      <th>message_count</th>\n",
       "      <th>mb_sum_internet</th>\n",
       "      <th>gb_sum_internet</th>\n",
       "      <th>tariff</th>\n",
       "      <th>city</th>\n",
       "    </tr>\n",
       "  </thead>\n",
       "  <tbody>\n",
       "    <tr>\n",
       "      <th>0</th>\n",
       "      <td>1000</td>\n",
       "      <td>5.0</td>\n",
       "      <td>22.0</td>\n",
       "      <td>159.0</td>\n",
       "      <td>22.0</td>\n",
       "      <td>2253.49</td>\n",
       "      <td>3.0</td>\n",
       "      <td>ultra</td>\n",
       "      <td>Краснодар</td>\n",
       "    </tr>\n",
       "    <tr>\n",
       "      <th>1</th>\n",
       "      <td>1000</td>\n",
       "      <td>6.0</td>\n",
       "      <td>43.0</td>\n",
       "      <td>172.0</td>\n",
       "      <td>60.0</td>\n",
       "      <td>23233.77</td>\n",
       "      <td>23.0</td>\n",
       "      <td>ultra</td>\n",
       "      <td>Краснодар</td>\n",
       "    </tr>\n",
       "    <tr>\n",
       "      <th>2</th>\n",
       "      <td>1000</td>\n",
       "      <td>7.0</td>\n",
       "      <td>47.0</td>\n",
       "      <td>340.0</td>\n",
       "      <td>75.0</td>\n",
       "      <td>14003.64</td>\n",
       "      <td>14.0</td>\n",
       "      <td>ultra</td>\n",
       "      <td>Краснодар</td>\n",
       "    </tr>\n",
       "    <tr>\n",
       "      <th>3</th>\n",
       "      <td>1000</td>\n",
       "      <td>8.0</td>\n",
       "      <td>52.0</td>\n",
       "      <td>408.0</td>\n",
       "      <td>81.0</td>\n",
       "      <td>14055.93</td>\n",
       "      <td>14.0</td>\n",
       "      <td>ultra</td>\n",
       "      <td>Краснодар</td>\n",
       "    </tr>\n",
       "    <tr>\n",
       "      <th>4</th>\n",
       "      <td>1000</td>\n",
       "      <td>9.0</td>\n",
       "      <td>58.0</td>\n",
       "      <td>466.0</td>\n",
       "      <td>57.0</td>\n",
       "      <td>14568.91</td>\n",
       "      <td>15.0</td>\n",
       "      <td>ultra</td>\n",
       "      <td>Краснодар</td>\n",
       "    </tr>\n",
       "  </tbody>\n",
       "</table>\n",
       "</div>"
      ],
      "text/plain": [
       "   user_id  month  calls_count  calls_sum  message_count  mb_sum_internet  \\\n",
       "0     1000    5.0         22.0      159.0           22.0          2253.49   \n",
       "1     1000    6.0         43.0      172.0           60.0         23233.77   \n",
       "2     1000    7.0         47.0      340.0           75.0         14003.64   \n",
       "3     1000    8.0         52.0      408.0           81.0         14055.93   \n",
       "4     1000    9.0         58.0      466.0           57.0         14568.91   \n",
       "\n",
       "   gb_sum_internet tariff       city  \n",
       "0              3.0  ultra  Краснодар  \n",
       "1             23.0  ultra  Краснодар  \n",
       "2             14.0  ultra  Краснодар  \n",
       "3             14.0  ultra  Краснодар  \n",
       "4             15.0  ultra  Краснодар  "
      ]
     },
     "execution_count": 67,
     "metadata": {},
     "output_type": "execute_result"
    }
   ],
   "source": [
    "revenue = temp_c_m.merge(temp_m_m, on = ['user_id', 'month'], how = 'outer')\n",
    "revenue = revenue.merge(temp_i_m, on = ['user_id', 'month'], how = 'outer')\n",
    "revenue = revenue.merge(users[['user_id','tariff','city']], on = ['user_id'], how = 'outer')\n",
    "revenue = revenue.fillna(0)\n",
    "revenue.head()"
   ]
  },
  {
   "cell_type": "markdown",
   "metadata": {},
   "source": [
    "Посчитаем помесячную выручку с каждого пользователя"
   ]
  },
  {
   "cell_type": "code",
   "execution_count": 68,
   "metadata": {},
   "outputs": [
    {
     "data": {
      "text/html": [
       "<div>\n",
       "<style scoped>\n",
       "    .dataframe tbody tr th:only-of-type {\n",
       "        vertical-align: middle;\n",
       "    }\n",
       "\n",
       "    .dataframe tbody tr th {\n",
       "        vertical-align: top;\n",
       "    }\n",
       "\n",
       "    .dataframe thead th {\n",
       "        text-align: right;\n",
       "    }\n",
       "</style>\n",
       "<table border=\"1\" class=\"dataframe\">\n",
       "  <thead>\n",
       "    <tr style=\"text-align: right;\">\n",
       "      <th></th>\n",
       "      <th>user_id</th>\n",
       "      <th>month</th>\n",
       "      <th>calls_count</th>\n",
       "      <th>calls_sum</th>\n",
       "      <th>message_count</th>\n",
       "      <th>mb_sum_internet</th>\n",
       "      <th>gb_sum_internet</th>\n",
       "      <th>tariff</th>\n",
       "      <th>city</th>\n",
       "      <th>monthly_revenue</th>\n",
       "    </tr>\n",
       "  </thead>\n",
       "  <tbody>\n",
       "    <tr>\n",
       "      <th>0</th>\n",
       "      <td>1000</td>\n",
       "      <td>5.0</td>\n",
       "      <td>22.0</td>\n",
       "      <td>159.0</td>\n",
       "      <td>22.0</td>\n",
       "      <td>2253.49</td>\n",
       "      <td>3.0</td>\n",
       "      <td>ultra</td>\n",
       "      <td>Краснодар</td>\n",
       "      <td>1950.000000</td>\n",
       "    </tr>\n",
       "    <tr>\n",
       "      <th>1</th>\n",
       "      <td>1000</td>\n",
       "      <td>6.0</td>\n",
       "      <td>43.0</td>\n",
       "      <td>172.0</td>\n",
       "      <td>60.0</td>\n",
       "      <td>23233.77</td>\n",
       "      <td>23.0</td>\n",
       "      <td>ultra</td>\n",
       "      <td>Краснодар</td>\n",
       "      <td>1950.000000</td>\n",
       "    </tr>\n",
       "    <tr>\n",
       "      <th>2</th>\n",
       "      <td>1000</td>\n",
       "      <td>7.0</td>\n",
       "      <td>47.0</td>\n",
       "      <td>340.0</td>\n",
       "      <td>75.0</td>\n",
       "      <td>14003.64</td>\n",
       "      <td>14.0</td>\n",
       "      <td>ultra</td>\n",
       "      <td>Краснодар</td>\n",
       "      <td>1950.000000</td>\n",
       "    </tr>\n",
       "    <tr>\n",
       "      <th>3</th>\n",
       "      <td>1000</td>\n",
       "      <td>8.0</td>\n",
       "      <td>52.0</td>\n",
       "      <td>408.0</td>\n",
       "      <td>81.0</td>\n",
       "      <td>14055.93</td>\n",
       "      <td>14.0</td>\n",
       "      <td>ultra</td>\n",
       "      <td>Краснодар</td>\n",
       "      <td>1950.000000</td>\n",
       "    </tr>\n",
       "    <tr>\n",
       "      <th>4</th>\n",
       "      <td>1000</td>\n",
       "      <td>9.0</td>\n",
       "      <td>58.0</td>\n",
       "      <td>466.0</td>\n",
       "      <td>57.0</td>\n",
       "      <td>14568.91</td>\n",
       "      <td>15.0</td>\n",
       "      <td>ultra</td>\n",
       "      <td>Краснодар</td>\n",
       "      <td>1950.000000</td>\n",
       "    </tr>\n",
       "    <tr>\n",
       "      <th>5</th>\n",
       "      <td>1000</td>\n",
       "      <td>10.0</td>\n",
       "      <td>57.0</td>\n",
       "      <td>350.0</td>\n",
       "      <td>73.0</td>\n",
       "      <td>14702.49</td>\n",
       "      <td>15.0</td>\n",
       "      <td>ultra</td>\n",
       "      <td>Краснодар</td>\n",
       "      <td>1950.000000</td>\n",
       "    </tr>\n",
       "    <tr>\n",
       "      <th>6</th>\n",
       "      <td>1000</td>\n",
       "      <td>11.0</td>\n",
       "      <td>43.0</td>\n",
       "      <td>338.0</td>\n",
       "      <td>58.0</td>\n",
       "      <td>14756.47</td>\n",
       "      <td>15.0</td>\n",
       "      <td>ultra</td>\n",
       "      <td>Краснодар</td>\n",
       "      <td>1950.000000</td>\n",
       "    </tr>\n",
       "    <tr>\n",
       "      <th>7</th>\n",
       "      <td>1000</td>\n",
       "      <td>12.0</td>\n",
       "      <td>46.0</td>\n",
       "      <td>333.0</td>\n",
       "      <td>70.0</td>\n",
       "      <td>9817.61</td>\n",
       "      <td>10.0</td>\n",
       "      <td>ultra</td>\n",
       "      <td>Краснодар</td>\n",
       "      <td>1950.000000</td>\n",
       "    </tr>\n",
       "    <tr>\n",
       "      <th>8</th>\n",
       "      <td>1001</td>\n",
       "      <td>11.0</td>\n",
       "      <td>59.0</td>\n",
       "      <td>430.0</td>\n",
       "      <td>0.0</td>\n",
       "      <td>18429.34</td>\n",
       "      <td>18.0</td>\n",
       "      <td>smart</td>\n",
       "      <td>Москва</td>\n",
       "      <td>1149.480469</td>\n",
       "    </tr>\n",
       "    <tr>\n",
       "      <th>9</th>\n",
       "      <td>1001</td>\n",
       "      <td>12.0</td>\n",
       "      <td>63.0</td>\n",
       "      <td>414.0</td>\n",
       "      <td>0.0</td>\n",
       "      <td>14036.66</td>\n",
       "      <td>14.0</td>\n",
       "      <td>smart</td>\n",
       "      <td>Москва</td>\n",
       "      <td>550.000000</td>\n",
       "    </tr>\n",
       "  </tbody>\n",
       "</table>\n",
       "</div>"
      ],
      "text/plain": [
       "   user_id  month  calls_count  calls_sum  message_count  mb_sum_internet  \\\n",
       "0     1000    5.0         22.0      159.0           22.0          2253.49   \n",
       "1     1000    6.0         43.0      172.0           60.0         23233.77   \n",
       "2     1000    7.0         47.0      340.0           75.0         14003.64   \n",
       "3     1000    8.0         52.0      408.0           81.0         14055.93   \n",
       "4     1000    9.0         58.0      466.0           57.0         14568.91   \n",
       "5     1000   10.0         57.0      350.0           73.0         14702.49   \n",
       "6     1000   11.0         43.0      338.0           58.0         14756.47   \n",
       "7     1000   12.0         46.0      333.0           70.0          9817.61   \n",
       "8     1001   11.0         59.0      430.0            0.0         18429.34   \n",
       "9     1001   12.0         63.0      414.0            0.0         14036.66   \n",
       "\n",
       "   gb_sum_internet tariff       city  monthly_revenue  \n",
       "0              3.0  ultra  Краснодар      1950.000000  \n",
       "1             23.0  ultra  Краснодар      1950.000000  \n",
       "2             14.0  ultra  Краснодар      1950.000000  \n",
       "3             14.0  ultra  Краснодар      1950.000000  \n",
       "4             15.0  ultra  Краснодар      1950.000000  \n",
       "5             15.0  ultra  Краснодар      1950.000000  \n",
       "6             15.0  ultra  Краснодар      1950.000000  \n",
       "7             10.0  ultra  Краснодар      1950.000000  \n",
       "8             18.0  smart     Москва      1149.480469  \n",
       "9             14.0  smart     Москва       550.000000  "
      ]
     },
     "execution_count": 68,
     "metadata": {},
     "output_type": "execute_result"
    }
   ],
   "source": [
    "def det_revenue(row):\n",
    "    messages = row['message_count']\n",
    "    mb_used = row['mb_sum_internet']\n",
    "    tariff = row['tariff']\n",
    "    duration = row['calls_sum']\n",
    "    calls = row['calls_count']\n",
    "    if tariff == 'smart':\n",
    "        extra_duration = duration - tariffs.loc[0, 'minutes_included']\n",
    "        extra_mb = mb_used - tariffs.loc[0, 'mb_per_month_included']\n",
    "        extra_messages = messages - tariffs.loc[0, 'messages_included']\n",
    "        if extra_duration <= 0: extra_duration = 0\n",
    "        if extra_mb <= 0: extra_mb = 0\n",
    "        if extra_messages <= 0: extra_messages = 0\n",
    "        return (tariffs.loc[0, 'rub_per_message'] * extra_messages + \n",
    "                   (tariffs.loc[0, 'rub_per_gb'] / 1024) * extra_mb + \n",
    "                   tariffs.loc[0, 'rub_per_minute'] * extra_duration + \n",
    "                   tariffs.loc[0, 'rub_monthly_fee']\n",
    "                  ) \n",
    "    else:\n",
    "        extra_duration = duration - tariffs.loc[1, 'minutes_included']\n",
    "        extra_mb = mb_used - tariffs.loc[1, 'mb_per_month_included']\n",
    "        extra_messages = messages - tariffs.loc[1, 'messages_included']\n",
    "        if extra_duration <= 0: extra_duration = 0\n",
    "        if extra_mb <= 0: extra_mb = 0\n",
    "        if extra_messages <= 0: extra_messages = 0\n",
    "        return (tariffs.loc[1, 'rub_per_message'] * extra_messages + \n",
    "                   (tariffs.loc[1, 'rub_per_gb'] / 1024) * extra_mb + \n",
    "                   tariffs.loc[1, 'rub_per_minute'] * extra_duration + \n",
    "                   tariffs.loc[1, 'rub_monthly_fee']\n",
    "                  )\n",
    "\n",
    "revenue['monthly_revenue'] = revenue.apply(det_revenue, axis=1)\n",
    "revenue.head(10)"
   ]
  },
  {
   "cell_type": "markdown",
   "metadata": {},
   "source": [
    "## Проанализируйте данные"
   ]
  },
  {
   "cell_type": "markdown",
   "metadata": {},
   "source": [
    "Посчитаем сколько минут разговора, сообщений и какой объём интернет-трафика требуется пользователям каждого тарифа в месяц"
   ]
  },
  {
   "cell_type": "code",
   "execution_count": 69,
   "metadata": {},
   "outputs": [
    {
     "data": {
      "text/html": [
       "<div>\n",
       "<style scoped>\n",
       "    .dataframe tbody tr th:only-of-type {\n",
       "        vertical-align: middle;\n",
       "    }\n",
       "\n",
       "    .dataframe tbody tr th {\n",
       "        vertical-align: top;\n",
       "    }\n",
       "\n",
       "    .dataframe thead th {\n",
       "        text-align: right;\n",
       "    }\n",
       "</style>\n",
       "<table border=\"1\" class=\"dataframe\">\n",
       "  <thead>\n",
       "    <tr style=\"text-align: right;\">\n",
       "      <th></th>\n",
       "      <th>user_id</th>\n",
       "      <th>calls_sum</th>\n",
       "      <th>gb_sum_internet</th>\n",
       "      <th>message_count</th>\n",
       "      <th>monthly_revenue</th>\n",
       "      <th>tariff</th>\n",
       "    </tr>\n",
       "  </thead>\n",
       "  <tbody>\n",
       "    <tr>\n",
       "      <th>0</th>\n",
       "      <td>1000</td>\n",
       "      <td>339.0</td>\n",
       "      <td>14.5</td>\n",
       "      <td>65.0</td>\n",
       "      <td>1950.000000</td>\n",
       "      <td>ultra</td>\n",
       "    </tr>\n",
       "    <tr>\n",
       "      <th>1</th>\n",
       "      <td>1001</td>\n",
       "      <td>422.0</td>\n",
       "      <td>16.0</td>\n",
       "      <td>0.0</td>\n",
       "      <td>849.740234</td>\n",
       "      <td>smart</td>\n",
       "    </tr>\n",
       "    <tr>\n",
       "      <th>2</th>\n",
       "      <td>1002</td>\n",
       "      <td>214.0</td>\n",
       "      <td>18.0</td>\n",
       "      <td>11.0</td>\n",
       "      <td>983.613281</td>\n",
       "      <td>smart</td>\n",
       "    </tr>\n",
       "    <tr>\n",
       "      <th>3</th>\n",
       "      <td>1003</td>\n",
       "      <td>824.0</td>\n",
       "      <td>12.0</td>\n",
       "      <td>83.0</td>\n",
       "      <td>1950.000000</td>\n",
       "      <td>ultra</td>\n",
       "    </tr>\n",
       "    <tr>\n",
       "      <th>4</th>\n",
       "      <td>1004</td>\n",
       "      <td>132.5</td>\n",
       "      <td>18.0</td>\n",
       "      <td>154.5</td>\n",
       "      <td>1950.000000</td>\n",
       "      <td>ultra</td>\n",
       "    </tr>\n",
       "  </tbody>\n",
       "</table>\n",
       "</div>"
      ],
      "text/plain": [
       "   user_id  calls_sum  gb_sum_internet  message_count  monthly_revenue tariff\n",
       "0     1000      339.0             14.5           65.0      1950.000000  ultra\n",
       "1     1001      422.0             16.0            0.0       849.740234  smart\n",
       "2     1002      214.0             18.0           11.0       983.613281  smart\n",
       "3     1003      824.0             12.0           83.0      1950.000000  ultra\n",
       "4     1004      132.5             18.0          154.5      1950.000000  ultra"
      ]
     },
     "execution_count": 69,
     "metadata": {},
     "output_type": "execute_result"
    }
   ],
   "source": [
    "medians = revenue.pivot_table(index='user_id', values=['calls_sum', 'message_count', 'gb_sum_internet', 'monthly_revenue'],aggfunc='median')\n",
    "medians = medians.merge(users[['user_id','tariff']], on = ['user_id'], how = 'outer')\n",
    "medians.head()"
   ]
  },
  {
   "cell_type": "markdown",
   "metadata": {},
   "source": [
    "Посчитаем дисперсию, среднее и стандартное отклонение для звонков, сообщений и интернета."
   ]
  },
  {
   "cell_type": "code",
   "execution_count": 70,
   "metadata": {
    "scrolled": true
   },
   "outputs": [
    {
     "data": {
      "text/html": [
       "<div>\n",
       "<style scoped>\n",
       "    .dataframe tbody tr th:only-of-type {\n",
       "        vertical-align: middle;\n",
       "    }\n",
       "\n",
       "    .dataframe tbody tr th {\n",
       "        vertical-align: top;\n",
       "    }\n",
       "\n",
       "    .dataframe thead tr th {\n",
       "        text-align: left;\n",
       "    }\n",
       "\n",
       "    .dataframe thead tr:last-of-type th {\n",
       "        text-align: right;\n",
       "    }\n",
       "</style>\n",
       "<table border=\"1\" class=\"dataframe\">\n",
       "  <thead>\n",
       "    <tr>\n",
       "      <th></th>\n",
       "      <th colspan=\"3\" halign=\"left\">calls_sum</th>\n",
       "      <th colspan=\"3\" halign=\"left\">gb_sum_internet</th>\n",
       "      <th colspan=\"3\" halign=\"left\">message_count</th>\n",
       "    </tr>\n",
       "    <tr>\n",
       "      <th></th>\n",
       "      <th>mean</th>\n",
       "      <th>std</th>\n",
       "      <th>var</th>\n",
       "      <th>mean</th>\n",
       "      <th>std</th>\n",
       "      <th>var</th>\n",
       "      <th>mean</th>\n",
       "      <th>std</th>\n",
       "      <th>var</th>\n",
       "    </tr>\n",
       "    <tr>\n",
       "      <th>tariff</th>\n",
       "      <th></th>\n",
       "      <th></th>\n",
       "      <th></th>\n",
       "      <th></th>\n",
       "      <th></th>\n",
       "      <th></th>\n",
       "      <th></th>\n",
       "      <th></th>\n",
       "      <th></th>\n",
       "    </tr>\n",
       "  </thead>\n",
       "  <tbody>\n",
       "    <tr>\n",
       "      <th>smart</th>\n",
       "      <td>417.747534</td>\n",
       "      <td>190.476754</td>\n",
       "      <td>36281.393836</td>\n",
       "      <td>16.321525</td>\n",
       "      <td>5.756167</td>\n",
       "      <td>33.133453</td>\n",
       "      <td>33.369058</td>\n",
       "      <td>28.230396</td>\n",
       "      <td>796.955256</td>\n",
       "    </tr>\n",
       "    <tr>\n",
       "      <th>ultra</th>\n",
       "      <td>526.089249</td>\n",
       "      <td>317.887549</td>\n",
       "      <td>101052.493549</td>\n",
       "      <td>19.474645</td>\n",
       "      <td>9.868057</td>\n",
       "      <td>97.378544</td>\n",
       "      <td>49.313387</td>\n",
       "      <td>47.806040</td>\n",
       "      <td>2285.417425</td>\n",
       "    </tr>\n",
       "  </tbody>\n",
       "</table>\n",
       "</div>"
      ],
      "text/plain": [
       "         calls_sum                            gb_sum_internet            \\\n",
       "              mean         std            var            mean       std   \n",
       "tariff                                                                    \n",
       "smart   417.747534  190.476754   36281.393836       16.321525  5.756167   \n",
       "ultra   526.089249  317.887549  101052.493549       19.474645  9.868057   \n",
       "\n",
       "                  message_count                          \n",
       "              var          mean        std          var  \n",
       "tariff                                                   \n",
       "smart   33.133453     33.369058  28.230396   796.955256  \n",
       "ultra   97.378544     49.313387  47.806040  2285.417425  "
      ]
     },
     "execution_count": 70,
     "metadata": {},
     "output_type": "execute_result"
    }
   ],
   "source": [
    "statistic = revenue.pivot_table(index=['tariff'], values=['calls_sum', 'gb_sum_internet', 'message_count'], \n",
    "                    aggfunc={'calls_sum': [np.mean, np.var, np.std], \n",
    "                             'gb_sum_internet': [np.mean, np.var, np.std], \n",
    "                             'message_count': [np.mean, np.var, np.std]})\n",
    "statistic.head()"
   ]
  },
  {
   "cell_type": "code",
   "execution_count": 71,
   "metadata": {},
   "outputs": [
    {
     "data": {
      "image/png": "[encoded data removed]",
      "text/plain": [
       "<Figure size 360x360 with 1 Axes>"
      ]
     },
     "metadata": {
      "needs_background": "light"
     },
     "output_type": "display_data"
    },
    {
     "data": {
      "image/png": "[encoded data removed]",
      "text/plain": [
       "<Figure size 360x360 with 1 Axes>"
      ]
     },
     "metadata": {
      "needs_background": "light"
     },
     "output_type": "display_data"
    },
    {
     "data": {
      "image/png": "[encoded data removed]",
      "text/plain": [
       "<Figure size 360x360 with 1 Axes>"
      ]
     },
     "metadata": {
      "needs_background": "light"
     },
     "output_type": "display_data"
    }
   ],
   "source": [
    "for column in ['calls_sum', 'gb_sum_internet', 'message_count']:    \n",
    "    sns.catplot(x=\"tariff\", y=column, kind=\"box\", data=revenue)\n",
    "    plt.title('Коробчатая диаграмма для звонков, сообщений и интернета по тарифам'+ \"\\n\")\n",
    "    plt.xlabel('Тариф')\n",
    "    plt.show()"
   ]
  },
  {
   "cell_type": "markdown",
   "metadata": {},
   "source": [
    "Как можно увидеть среднеее и дисперсия более дорого тарифа `Ультра` больше, чем дисперсия и медиана тарифа `Смарт`. С помощью boxplot можно увидеть, что более дешевый тариф имеет выбросы по всем категориям, которые мы рассматриваем. Также медианы дорогого тарифа по звонкам и интернету смещены в большую стороны, нежели у дешевого тарифа."
   ]
  },
  {
   "cell_type": "code",
   "execution_count": 72,
   "metadata": {},
   "outputs": [
    {
     "data": {
      "image/png": "[encoded data removed]",
      "text/plain": [
       "<Figure size 432x288 with 1 Axes>"
      ]
     },
     "metadata": {
      "needs_background": "light"
     },
     "output_type": "display_data"
    }
   ],
   "source": [
    "for tariff in ['ultra', 'smart']:\n",
    "    sns.distplot(revenue.query('tariff == @tariff')['calls_sum'], kde=False, label=tariff)\n",
    "plt.legend(['ultra', 'smart']) \n",
    "plt.title('Гистограмма звонков по тарифам'+ \"\\n\")\n",
    "plt.xlabel('Звонки')\n",
    "plt.ylabel('Количество пользователей')\n",
    "plt.show()\n",
    "import warnings\n",
    "warnings.filterwarnings(\"ignore\")"
   ]
  },
  {
   "cell_type": "code",
   "execution_count": 73,
   "metadata": {},
   "outputs": [
    {
     "data": {
      "image/png": "[encoded data removed]",
      "text/plain": [
       "<Figure size 432x288 with 1 Axes>"
      ]
     },
     "metadata": {
      "needs_background": "light"
     },
     "output_type": "display_data"
    }
   ],
   "source": [
    "for tariff in ['ultra', 'smart']:\n",
    "    sns.distplot(revenue.query('tariff == @tariff')['gb_sum_internet'], kde=False, label=tariff)\n",
    "plt.legend(['ultra', 'smart'])\n",
    "plt.title('Гистограмма интернет трафика по тарифам'+ \"\\n\")\n",
    "plt.xlabel('Интернет')\n",
    "plt.ylabel('Количество пользователей')\n",
    "plt.show()"
   ]
  },
  {
   "cell_type": "code",
   "execution_count": 74,
   "metadata": {},
   "outputs": [
    {
     "data": {
      "image/png": "[encoded data removed]",
      "text/plain": [
       "<Figure size 432x288 with 1 Axes>"
      ]
     },
     "metadata": {
      "needs_background": "light"
     },
     "output_type": "display_data"
    }
   ],
   "source": [
    "for tariff in ['ultra', 'smart']:\n",
    "    sns.distplot(revenue.query('tariff == @tariff')['message_count'], kde=False, label=tariff)\n",
    "plt.legend(['ultra', 'smart'])\n",
    "plt.title('Гистограмма сообщений по тарифам'+ \"\\n\")\n",
    "plt.xlabel('Сообщения')\n",
    "plt.ylabel('Количество пользователей')\n",
    "plt.show()"
   ]
  },
  {
   "cell_type": "markdown",
   "metadata": {},
   "source": [
    "Если обобщить комментарии по каждому из трех графиков, то можно сделать вывод, что пользователи тарифа `Ультра` более гибкие в плане использования услуг. То есть благодаря большему запасу минут разговора, интернет-трафика и сообщений они могут не думать о том, что у них может что то закончиться, и они выйдут за рамки тарифа. А вот с дешевым тарифом ситуация иная, по графикам видно, что большая часть сконцентрирована в одном месте, то есть люди пользуются им примерно одинаково."
   ]
  },
  {
   "cell_type": "code",
   "execution_count": 75,
   "metadata": {},
   "outputs": [
    {
     "data": {
      "image/png": "[encoded data removed]",
      "text/plain": [
       "<Figure size 432x288 with 1 Axes>"
      ]
     },
     "metadata": {
      "needs_background": "light"
     },
     "output_type": "display_data"
    }
   ],
   "source": [
    "revenue.pivot_table(index='tariff', columns='month', values='monthly_revenue', aggfunc='mean').T.plot(kind='bar', alpha=0.5)\n",
    "plt.title('Средняя ежемесячная выручка по 2-м тарифам за год'+ \"\\n\")\n",
    "plt.xlabel('Месяц')\n",
    "plt.ylabel('Рубли')\n",
    "plt.show()"
   ]
  },
  {
   "cell_type": "markdown",
   "metadata": {},
   "source": [
    "По средней ежемесячной выручке мы можем увидеть положительную динамику у более дешевого тарифа, который в перспективе может обогнать в будущем по выручке более дорогой тариф."
   ]
  },
  {
   "cell_type": "markdown",
   "metadata": {},
   "source": [
    "## Проверка гипотез"
   ]
  },
  {
   "cell_type": "markdown",
   "metadata": {},
   "source": [
    "- Средняя выручка пользователей тарифов «Ультра» и «Смарт» различаются"
   ]
  },
  {
   "cell_type": "markdown",
   "metadata": {},
   "source": [
    "H0 - Средняя выручка пользователей тарифов не отличается<br>\n",
    "H1 - Отличается"
   ]
  },
  {
   "cell_type": "code",
   "execution_count": 76,
   "metadata": {},
   "outputs": [
    {
     "name": "stdout",
     "output_type": "stream",
     "text": [
      "p-значение: 6.637705069062305e-299\n",
      "Отвергаем нулевую гипотезу\n"
     ]
    }
   ],
   "source": [
    "ultra = revenue.query('tariff == \"ultra\"')['monthly_revenue']\n",
    "smart = revenue.query('tariff == \"smart\"')['monthly_revenue']\n",
    "\n",
    "alpha = .05\n",
    "\n",
    "results = st.ttest_ind(\n",
    "    ultra, \n",
    "    smart, \n",
    "    equal_var=False)\n",
    "\n",
    "print('p-значение:', results.pvalue)\n",
    "\n",
    "if (results.pvalue < alpha):\n",
    "    print(\"Отвергаем нулевую гипотезу\")\n",
    "else:\n",
    "    print(\"Не получилось отвергнуть нулевую гипотезу\")"
   ]
  },
  {
   "cell_type": "markdown",
   "metadata": {},
   "source": [
    "Посмотрим выручку с каждого из тарифов"
   ]
  },
  {
   "cell_type": "code",
   "execution_count": 77,
   "metadata": {},
   "outputs": [
    {
     "data": {
      "text/html": [
       "<div>\n",
       "<style scoped>\n",
       "    .dataframe tbody tr th:only-of-type {\n",
       "        vertical-align: middle;\n",
       "    }\n",
       "\n",
       "    .dataframe tbody tr th {\n",
       "        vertical-align: top;\n",
       "    }\n",
       "\n",
       "    .dataframe thead th {\n",
       "        text-align: right;\n",
       "    }\n",
       "</style>\n",
       "<table border=\"1\" class=\"dataframe\">\n",
       "  <thead>\n",
       "    <tr style=\"text-align: right;\">\n",
       "      <th></th>\n",
       "      <th>monthly_revenue</th>\n",
       "    </tr>\n",
       "    <tr>\n",
       "      <th>tariff</th>\n",
       "      <th></th>\n",
       "    </tr>\n",
       "  </thead>\n",
       "  <tbody>\n",
       "    <tr>\n",
       "      <th>smart</th>\n",
       "      <td>957.022461</td>\n",
       "    </tr>\n",
       "    <tr>\n",
       "      <th>ultra</th>\n",
       "      <td>1950.000000</td>\n",
       "    </tr>\n",
       "  </tbody>\n",
       "</table>\n",
       "</div>"
      ],
      "text/plain": [
       "        monthly_revenue\n",
       "tariff                 \n",
       "smart        957.022461\n",
       "ultra       1950.000000"
      ]
     },
     "execution_count": 77,
     "metadata": {},
     "output_type": "execute_result"
    }
   ],
   "source": [
    "revenue.pivot_table(index='tariff', values='monthly_revenue', aggfunc='median')"
   ]
  },
  {
   "cell_type": "code",
   "execution_count": 78,
   "metadata": {},
   "outputs": [
    {
     "data": {
      "image/png": "[encoded data removed]",
      "text/plain": [
       "<Figure size 360x360 with 1 Axes>"
      ]
     },
     "metadata": {
      "needs_background": "light"
     },
     "output_type": "display_data"
    }
   ],
   "source": [
    "sns.catplot(x=\"tariff\", y='monthly_revenue', kind=\"box\", data=revenue)\n",
    "plt.title('Коробчатая диаграмма ежемесячного дохода'+ \"\\n\")\n",
    "plt.xlabel('Тариф')\n",
    "plt.ylabel('Ежемесячный доход')\n",
    "plt.show()"
   ]
  },
  {
   "cell_type": "markdown",
   "metadata": {},
   "source": [
    "Как мы можем увидеть из анализа, в среднем пользователи тарифа `Ультра` приносят почти в 2 раза больше выручки. Пользователи тарифа `Смарт` доплачивают в среднем еще 400 рублей из-за нехватки услуг в рамках их тарифного плана.\n",
    "\n",
    "Нулевая гипотеза была отвергнута, что означает, что средняя выручка тарифов Ультра и Смарт отличаются."
   ]
  },
  {
   "cell_type": "markdown",
   "metadata": {},
   "source": [
    "- Средняя выручка пользователей из Москвы отличается от выручки пользователей из других регионов"
   ]
  },
  {
   "cell_type": "markdown",
   "metadata": {},
   "source": [
    "H0 - Выручка пользователей из Москвы не отличается<br>\n",
    "H1 - Отличается"
   ]
  },
  {
   "cell_type": "code",
   "execution_count": 79,
   "metadata": {},
   "outputs": [
    {
     "name": "stdout",
     "output_type": "stream",
     "text": [
      "p-значение: 0.4471856469587271\n",
      "Не получилось отвергнуть нулевую гипотезу\n"
     ]
    }
   ],
   "source": [
    "moscow = revenue.query('city == \"Москва\"')['monthly_revenue']\n",
    "regions = revenue.query('city != \"Москва\"')['monthly_revenue']\n",
    "\n",
    "alpha = .05\n",
    "\n",
    "results = st.ttest_ind(\n",
    "    moscow, \n",
    "    regions, \n",
    "    equal_var=False)\n",
    "\n",
    "print('p-значение:', results.pvalue)\n",
    "\n",
    "if (results.pvalue < alpha):\n",
    "    print(\"Отвергаем нулевую гипотезу\")\n",
    "else:\n",
    "    print(\"Не получилось отвергнуть нулевую гипотезу\")"
   ]
  },
  {
   "cell_type": "markdown",
   "metadata": {},
   "source": [
    "Посчитаем среднюю выручку в Москве и в других регионах"
   ]
  },
  {
   "cell_type": "code",
   "execution_count": 80,
   "metadata": {},
   "outputs": [
    {
     "data": {
      "text/html": [
       "<div>\n",
       "<style scoped>\n",
       "    .dataframe tbody tr th:only-of-type {\n",
       "        vertical-align: middle;\n",
       "    }\n",
       "\n",
       "    .dataframe tbody tr th {\n",
       "        vertical-align: top;\n",
       "    }\n",
       "\n",
       "    .dataframe thead th {\n",
       "        text-align: right;\n",
       "    }\n",
       "</style>\n",
       "<table border=\"1\" class=\"dataframe\">\n",
       "  <thead>\n",
       "    <tr style=\"text-align: right;\">\n",
       "      <th></th>\n",
       "      <th>monthly_revenue</th>\n",
       "    </tr>\n",
       "    <tr>\n",
       "      <th>region</th>\n",
       "      <th></th>\n",
       "    </tr>\n",
       "  </thead>\n",
       "  <tbody>\n",
       "    <tr>\n",
       "      <th>Другой регион</th>\n",
       "      <td>1513.873047</td>\n",
       "    </tr>\n",
       "    <tr>\n",
       "      <th>Москва</th>\n",
       "      <td>1699.357422</td>\n",
       "    </tr>\n",
       "  </tbody>\n",
       "</table>\n",
       "</div>"
      ],
      "text/plain": [
       "               monthly_revenue\n",
       "region                        \n",
       "Другой регион      1513.873047\n",
       "Москва             1699.357422"
      ]
     },
     "execution_count": 80,
     "metadata": {},
     "output_type": "execute_result"
    }
   ],
   "source": [
    "def det_region(city):\n",
    "    if city == 'Москва': \n",
    "        return 'Москва'\n",
    "    else: \n",
    "        return 'Другой регион'\n",
    "    \n",
    "revenue['region'] = revenue['city'].apply(det_region)\n",
    "revenue.pivot_table(index='region', values='monthly_revenue', aggfunc='median')"
   ]
  },
  {
   "cell_type": "code",
   "execution_count": 81,
   "metadata": {},
   "outputs": [
    {
     "data": {
      "image/png": "[encoded data removed]",
      "text/plain": [
       "<Figure size 360x360 with 1 Axes>"
      ]
     },
     "metadata": {
      "needs_background": "light"
     },
     "output_type": "display_data"
    }
   ],
   "source": [
    "sns.catplot(x=\"region\", y='monthly_revenue', kind=\"box\", data=revenue)\n",
    "plt.title('Коробчатая диаграмма ежемесячного дохода'+ \"\\n\")\n",
    "plt.xlabel('Регион')\n",
    "plt.ylabel('Ежемесячный доход')\n",
    "plt.show()"
   ]
  },
  {
   "cell_type": "markdown",
   "metadata": {},
   "source": [
    "Нулевая гипотеза не отвергнута, что означает, что выручка пользователей из Москвы и из других регионов не отличается. \n",
    "\n",
    "Если смотреть по значением, то и правда можно сказать, что выручки не отличаются(1699 против 1513 рублей)."
   ]
  },
  {
   "cell_type": "markdown",
   "metadata": {},
   "source": [
    "##  Общий вывод"
   ]
  },
  {
   "cell_type": "markdown",
   "metadata": {},
   "source": [
    "По результатам анализа, мы получаем, что доходы от пользователей тарифа `Ультра` больше, чем доходы от пользователей тарифа `Смарт`. В среднем каждый пользователь приносит 1950 рублей и 957 рублей соответственно.\n",
    "\n",
    "- Как мы выяснили из анализа, пользователи тарифа смарт в среднем каждый месяц доплачивают 407 рублей из-за нехватки услуг в рамках их тарифного плана\n",
    "- С дорогим тарифом все совсем наоборот, люди пользуются тарифом более свободно, при этом им не нужно доплачивать за услуги, так как не расходуется весь пакет услуг\n",
    "- Выручка от пользователей из Москвы и других регионов не отличаются, то есть мы можем сказать, что разница незначима(186 рублей)\n"
   ]
  }
 ],
 "metadata": {
  "ExecuteTimeLog": [
   {
    "duration": 1525,
    "start_time": "2023-04-04T12:02:50.318Z"
   },
   {
    "duration": 4,
    "start_time": "2023-04-04T12:02:53.118Z"
   },
   {
    "duration": 1513,
    "start_time": "2023-04-04T12:29:28.305Z"
   },
   {
    "duration": 577,
    "start_time": "2023-04-04T12:29:38.790Z"
   },
   {
    "duration": 559,
    "start_time": "2023-04-04T12:29:49.191Z"
   },
   {
    "duration": 75,
    "start_time": "2023-04-04T12:57:58.093Z"
   },
   {
    "duration": 3,
    "start_time": "2023-04-04T13:17:45.395Z"
   },
   {
    "duration": 96,
    "start_time": "2023-04-04T13:17:51.186Z"
   },
   {
    "duration": 5,
    "start_time": "2023-04-04T13:22:25.832Z"
   },
   {
    "duration": 96,
    "start_time": "2023-04-04T13:24:33.897Z"
   },
   {
    "duration": 107,
    "start_time": "2023-04-04T13:25:39.788Z"
   },
   {
    "duration": 10,
    "start_time": "2023-04-04T13:30:09.806Z"
   },
   {
    "duration": 5,
    "start_time": "2023-04-04T13:32:31.641Z"
   },
   {
    "duration": 5,
    "start_time": "2023-04-04T13:32:46.269Z"
   },
   {
    "duration": 7,
    "start_time": "2023-04-04T13:33:08.401Z"
   },
   {
    "duration": 89,
    "start_time": "2023-04-04T13:34:17.410Z"
   },
   {
    "duration": 5,
    "start_time": "2023-04-04T13:35:31.464Z"
   },
   {
    "duration": 7,
    "start_time": "2023-04-04T13:36:05.091Z"
   },
   {
    "duration": 61,
    "start_time": "2023-04-04T14:31:29.673Z"
   },
   {
    "duration": 105,
    "start_time": "2023-04-04T14:32:42.323Z"
   },
   {
    "duration": 145,
    "start_time": "2023-04-04T14:33:24.630Z"
   },
   {
    "duration": 135,
    "start_time": "2023-04-04T14:33:48.366Z"
   },
   {
    "duration": 141,
    "start_time": "2023-04-04T14:34:54.302Z"
   },
   {
    "duration": 123,
    "start_time": "2023-04-04T14:35:06.203Z"
   },
   {
    "duration": 94,
    "start_time": "2023-04-04T14:35:28.692Z"
   },
   {
    "duration": 68,
    "start_time": "2023-04-04T14:35:45.048Z"
   },
   {
    "duration": 75,
    "start_time": "2023-04-04T14:36:09.947Z"
   },
   {
    "duration": 75,
    "start_time": "2023-04-04T14:36:17.479Z"
   },
   {
    "duration": 109,
    "start_time": "2023-04-04T14:37:15.340Z"
   },
   {
    "duration": 3,
    "start_time": "2023-04-04T14:54:05.066Z"
   },
   {
    "duration": 17,
    "start_time": "2023-04-04T14:54:18.412Z"
   },
   {
    "duration": 5,
    "start_time": "2023-04-04T14:56:34.641Z"
   },
   {
    "duration": 11,
    "start_time": "2023-04-04T14:59:54.647Z"
   },
   {
    "duration": 10,
    "start_time": "2023-04-04T15:01:16.109Z"
   },
   {
    "duration": 9,
    "start_time": "2023-04-04T15:01:18.166Z"
   },
   {
    "duration": 9,
    "start_time": "2023-04-04T15:01:24.311Z"
   },
   {
    "duration": 21,
    "start_time": "2023-04-04T15:01:31.562Z"
   },
   {
    "duration": 19,
    "start_time": "2023-04-04T15:02:46.521Z"
   },
   {
    "duration": 25,
    "start_time": "2023-04-04T15:03:09.181Z"
   },
   {
    "duration": 10,
    "start_time": "2023-04-04T15:04:30.180Z"
   },
   {
    "duration": 10,
    "start_time": "2023-04-04T15:04:53.417Z"
   },
   {
    "duration": 6,
    "start_time": "2023-04-04T15:05:10.642Z"
   },
   {
    "duration": 15,
    "start_time": "2023-04-04T15:05:20.917Z"
   },
   {
    "duration": 2367,
    "start_time": "2023-04-04T15:23:58.834Z"
   },
   {
    "duration": 1464,
    "start_time": "2023-04-04T15:32:44.842Z"
   },
   {
    "duration": 19,
    "start_time": "2023-04-04T15:35:42.905Z"
   },
   {
    "duration": 14,
    "start_time": "2023-04-04T15:38:31.851Z"
   },
   {
    "duration": 1423,
    "start_time": "2023-04-04T15:38:51.478Z"
   },
   {
    "duration": 2646,
    "start_time": "2023-04-04T15:39:48.819Z"
   },
   {
    "duration": 2364,
    "start_time": "2023-04-04T15:43:11.790Z"
   },
   {
    "duration": 1509,
    "start_time": "2023-04-04T15:43:42.918Z"
   },
   {
    "duration": 1655,
    "start_time": "2023-04-04T15:44:43.907Z"
   },
   {
    "duration": 1027,
    "start_time": "2023-04-04T15:45:14.280Z"
   },
   {
    "duration": 10,
    "start_time": "2023-04-04T15:52:39.789Z"
   },
   {
    "duration": 9,
    "start_time": "2023-04-04T15:52:47.162Z"
   },
   {
    "duration": 4,
    "start_time": "2023-04-04T15:53:23.523Z"
   },
   {
    "duration": 27,
    "start_time": "2023-04-04T15:53:35.702Z"
   },
   {
    "duration": 16,
    "start_time": "2023-04-04T15:53:45.162Z"
   },
   {
    "duration": 16,
    "start_time": "2023-04-04T15:54:10.137Z"
   },
   {
    "duration": 1981,
    "start_time": "2023-04-04T15:54:27.442Z"
   },
   {
    "duration": 1773,
    "start_time": "2023-04-04T15:56:58.797Z"
   },
   {
    "duration": 1613,
    "start_time": "2023-04-04T15:58:04.216Z"
   },
   {
    "duration": 14,
    "start_time": "2023-04-04T16:02:39.356Z"
   },
   {
    "duration": 2089,
    "start_time": "2023-04-04T16:02:58.952Z"
   },
   {
    "duration": 1275,
    "start_time": "2023-04-04T16:09:20.361Z"
   },
   {
    "duration": 7,
    "start_time": "2023-04-04T16:12:08.281Z"
   },
   {
    "duration": 1833,
    "start_time": "2023-04-04T16:12:13.731Z"
   },
   {
    "duration": 1200,
    "start_time": "2023-04-04T16:17:17.719Z"
   },
   {
    "duration": 1375,
    "start_time": "2023-04-04T16:17:28.941Z"
   },
   {
    "duration": 1414,
    "start_time": "2023-04-04T16:19:33.214Z"
   },
   {
    "duration": 24,
    "start_time": "2023-04-04T16:36:24.528Z"
   },
   {
    "duration": 27,
    "start_time": "2023-04-04T16:36:32.399Z"
   },
   {
    "duration": 535,
    "start_time": "2023-04-04T16:37:30.810Z"
   },
   {
    "duration": 85,
    "start_time": "2023-04-04T16:37:34.548Z"
   },
   {
    "duration": 7,
    "start_time": "2023-04-04T16:37:36.554Z"
   },
   {
    "duration": 7,
    "start_time": "2023-04-04T16:37:38.496Z"
   },
   {
    "duration": 5,
    "start_time": "2023-04-04T16:37:40.557Z"
   },
   {
    "duration": 7,
    "start_time": "2023-04-04T16:37:42.179Z"
   },
   {
    "duration": 140,
    "start_time": "2023-04-04T16:37:44.154Z"
   },
   {
    "duration": 83,
    "start_time": "2023-04-04T16:37:46.520Z"
   },
   {
    "duration": 97,
    "start_time": "2023-04-04T16:37:48.554Z"
   },
   {
    "duration": 26,
    "start_time": "2023-04-04T16:37:50.627Z"
   },
   {
    "duration": 4,
    "start_time": "2023-04-04T16:37:54.925Z"
   },
   {
    "duration": 505,
    "start_time": "2023-04-04T16:37:54.931Z"
   },
   {
    "duration": 79,
    "start_time": "2023-04-04T16:37:55.438Z"
   },
   {
    "duration": 5,
    "start_time": "2023-04-04T16:37:55.519Z"
   },
   {
    "duration": 8,
    "start_time": "2023-04-04T16:37:55.534Z"
   },
   {
    "duration": 6,
    "start_time": "2023-04-04T16:37:55.544Z"
   },
   {
    "duration": 9,
    "start_time": "2023-04-04T16:37:55.551Z"
   },
   {
    "duration": 172,
    "start_time": "2023-04-04T16:37:55.562Z"
   },
   {
    "duration": 84,
    "start_time": "2023-04-04T16:37:55.736Z"
   },
   {
    "duration": 103,
    "start_time": "2023-04-04T16:37:55.832Z"
   },
   {
    "duration": 24,
    "start_time": "2023-04-04T16:37:55.937Z"
   },
   {
    "duration": 23,
    "start_time": "2023-04-04T16:37:55.963Z"
   },
   {
    "duration": 328,
    "start_time": "2023-04-04T16:37:55.988Z"
   },
   {
    "duration": 22,
    "start_time": "2023-04-04T16:38:23.951Z"
   },
   {
    "duration": 26,
    "start_time": "2023-04-04T16:38:28.643Z"
   },
   {
    "duration": 23,
    "start_time": "2023-04-04T16:38:30.573Z"
   },
   {
    "duration": 288,
    "start_time": "2023-04-04T16:38:34.243Z"
   },
   {
    "duration": 26,
    "start_time": "2023-04-04T16:40:24.729Z"
   },
   {
    "duration": 24,
    "start_time": "2023-04-04T16:40:26.915Z"
   },
   {
    "duration": 13,
    "start_time": "2023-04-04T16:40:49.130Z"
   },
   {
    "duration": 1206,
    "start_time": "2023-04-04T16:41:08.350Z"
   },
   {
    "duration": 1242,
    "start_time": "2023-04-04T16:41:47.722Z"
   },
   {
    "duration": 298,
    "start_time": "2023-04-04T16:41:57.931Z"
   },
   {
    "duration": 23,
    "start_time": "2023-04-04T16:43:54.341Z"
   },
   {
    "duration": 16,
    "start_time": "2023-04-04T16:46:30.183Z"
   },
   {
    "duration": 30,
    "start_time": "2023-04-04T16:48:04.086Z"
   },
   {
    "duration": 13,
    "start_time": "2023-04-04T16:49:14.301Z"
   },
   {
    "duration": 24,
    "start_time": "2023-04-04T16:49:32.952Z"
   },
   {
    "duration": 30,
    "start_time": "2023-04-04T16:50:17.381Z"
   },
   {
    "duration": 14,
    "start_time": "2023-04-04T16:51:47.575Z"
   },
   {
    "duration": 18,
    "start_time": "2023-04-04T16:52:05.987Z"
   },
   {
    "duration": 37,
    "start_time": "2023-04-04T16:59:19.009Z"
   },
   {
    "duration": 37,
    "start_time": "2023-04-04T17:01:44.727Z"
   },
   {
    "duration": 10,
    "start_time": "2023-04-04T17:01:52.730Z"
   },
   {
    "duration": 46,
    "start_time": "2023-04-04T17:02:00.338Z"
   },
   {
    "duration": 42,
    "start_time": "2023-04-04T17:02:14.899Z"
   },
   {
    "duration": 40,
    "start_time": "2023-04-04T17:02:29.230Z"
   },
   {
    "duration": 42,
    "start_time": "2023-04-04T17:02:32.932Z"
   },
   {
    "duration": 98,
    "start_time": "2023-04-04T17:04:22.180Z"
   },
   {
    "duration": 47,
    "start_time": "2023-04-04T17:04:25.348Z"
   },
   {
    "duration": 11,
    "start_time": "2023-04-04T17:05:03.992Z"
   },
   {
    "duration": 42,
    "start_time": "2023-04-04T17:05:09.041Z"
   },
   {
    "duration": 17,
    "start_time": "2023-04-04T17:05:45.598Z"
   },
   {
    "duration": 15,
    "start_time": "2023-04-04T17:05:54.193Z"
   },
   {
    "duration": 1238,
    "start_time": "2023-04-04T17:06:40.531Z"
   },
   {
    "duration": 34,
    "start_time": "2023-04-04T17:07:34.238Z"
   },
   {
    "duration": 26,
    "start_time": "2023-04-04T17:08:35.663Z"
   },
   {
    "duration": 100,
    "start_time": "2023-04-04T17:08:42.022Z"
   },
   {
    "duration": 49,
    "start_time": "2023-04-04T17:10:25.394Z"
   },
   {
    "duration": 1453,
    "start_time": "2023-04-04T17:10:50.296Z"
   },
   {
    "duration": 36,
    "start_time": "2023-04-04T17:14:25.582Z"
   },
   {
    "duration": 41,
    "start_time": "2023-04-04T17:14:27.246Z"
   },
   {
    "duration": 42,
    "start_time": "2023-04-04T17:14:29.056Z"
   },
   {
    "duration": 34,
    "start_time": "2023-04-04T17:14:30.574Z"
   },
   {
    "duration": 43,
    "start_time": "2023-04-04T17:14:32.134Z"
   },
   {
    "duration": 35,
    "start_time": "2023-04-04T17:14:34.267Z"
   },
   {
    "duration": 200,
    "start_time": "2023-04-04T17:14:39.235Z"
   },
   {
    "duration": 50,
    "start_time": "2023-04-04T17:16:38.203Z"
   },
   {
    "duration": 42,
    "start_time": "2023-04-04T17:17:05.551Z"
   },
   {
    "duration": 36,
    "start_time": "2023-04-04T17:17:16.298Z"
   },
   {
    "duration": 205,
    "start_time": "2023-04-04T17:17:18.147Z"
   },
   {
    "duration": 38,
    "start_time": "2023-04-04T17:17:45.023Z"
   },
   {
    "duration": 239,
    "start_time": "2023-04-04T17:18:31.557Z"
   },
   {
    "duration": 201,
    "start_time": "2023-04-04T17:20:32.449Z"
   },
   {
    "duration": 135,
    "start_time": "2023-04-04T17:21:45.584Z"
   },
   {
    "duration": 5,
    "start_time": "2023-04-04T17:22:16.040Z"
   },
   {
    "duration": 515,
    "start_time": "2023-04-04T17:22:16.047Z"
   },
   {
    "duration": 83,
    "start_time": "2023-04-04T17:22:16.564Z"
   },
   {
    "duration": 5,
    "start_time": "2023-04-04T17:22:16.649Z"
   },
   {
    "duration": 12,
    "start_time": "2023-04-04T17:22:16.656Z"
   },
   {
    "duration": 9,
    "start_time": "2023-04-04T17:22:16.669Z"
   },
   {
    "duration": 8,
    "start_time": "2023-04-04T17:22:16.679Z"
   },
   {
    "duration": 52,
    "start_time": "2023-04-04T17:22:16.689Z"
   },
   {
    "duration": 0,
    "start_time": "2023-04-04T17:22:16.743Z"
   },
   {
    "duration": 0,
    "start_time": "2023-04-04T17:22:16.744Z"
   },
   {
    "duration": 0,
    "start_time": "2023-04-04T17:22:16.746Z"
   },
   {
    "duration": 0,
    "start_time": "2023-04-04T17:22:16.747Z"
   },
   {
    "duration": 1,
    "start_time": "2023-04-04T17:22:16.748Z"
   },
   {
    "duration": 0,
    "start_time": "2023-04-04T17:22:16.750Z"
   },
   {
    "duration": 0,
    "start_time": "2023-04-04T17:22:16.752Z"
   },
   {
    "duration": 0,
    "start_time": "2023-04-04T17:22:16.753Z"
   },
   {
    "duration": 85,
    "start_time": "2023-04-04T17:23:48.553Z"
   },
   {
    "duration": 58,
    "start_time": "2023-04-04T17:23:51.847Z"
   },
   {
    "duration": 5,
    "start_time": "2023-04-04T17:23:54.082Z"
   },
   {
    "duration": 590,
    "start_time": "2023-04-04T17:23:54.089Z"
   },
   {
    "duration": 112,
    "start_time": "2023-04-04T17:23:54.681Z"
   },
   {
    "duration": 5,
    "start_time": "2023-04-04T17:23:54.797Z"
   },
   {
    "duration": 12,
    "start_time": "2023-04-04T17:23:54.804Z"
   },
   {
    "duration": 6,
    "start_time": "2023-04-04T17:23:54.818Z"
   },
   {
    "duration": 8,
    "start_time": "2023-04-04T17:23:54.834Z"
   },
   {
    "duration": 66,
    "start_time": "2023-04-04T17:23:54.844Z"
   },
   {
    "duration": 75,
    "start_time": "2023-04-04T17:23:54.913Z"
   },
   {
    "duration": 45,
    "start_time": "2023-04-04T17:23:54.991Z"
   },
   {
    "duration": 0,
    "start_time": "2023-04-04T17:23:55.039Z"
   },
   {
    "duration": 0,
    "start_time": "2023-04-04T17:23:55.041Z"
   },
   {
    "duration": 0,
    "start_time": "2023-04-04T17:23:55.042Z"
   },
   {
    "duration": 1,
    "start_time": "2023-04-04T17:23:55.043Z"
   },
   {
    "duration": 0,
    "start_time": "2023-04-04T17:23:55.045Z"
   },
   {
    "duration": 0,
    "start_time": "2023-04-04T17:23:55.047Z"
   },
   {
    "duration": 4,
    "start_time": "2023-04-04T17:24:47.580Z"
   },
   {
    "duration": 723,
    "start_time": "2023-04-04T17:24:47.587Z"
   },
   {
    "duration": 103,
    "start_time": "2023-04-04T17:24:48.313Z"
   },
   {
    "duration": 5,
    "start_time": "2023-04-04T17:24:48.419Z"
   },
   {
    "duration": 9,
    "start_time": "2023-04-04T17:24:48.435Z"
   },
   {
    "duration": 8,
    "start_time": "2023-04-04T17:24:48.447Z"
   },
   {
    "duration": 12,
    "start_time": "2023-04-04T17:24:48.457Z"
   },
   {
    "duration": 107,
    "start_time": "2023-04-04T17:24:48.471Z"
   },
   {
    "duration": 56,
    "start_time": "2023-04-04T17:24:48.581Z"
   },
   {
    "duration": 55,
    "start_time": "2023-04-04T17:24:48.639Z"
   },
   {
    "duration": 71,
    "start_time": "2023-04-04T17:24:48.696Z"
   },
   {
    "duration": 37,
    "start_time": "2023-04-04T17:24:48.769Z"
   },
   {
    "duration": 226,
    "start_time": "2023-04-04T17:24:48.808Z"
   },
   {
    "duration": 39,
    "start_time": "2023-04-04T17:24:49.037Z"
   },
   {
    "duration": 307,
    "start_time": "2023-04-04T17:24:49.078Z"
   },
   {
    "duration": 210,
    "start_time": "2023-04-04T17:24:49.389Z"
   },
   {
    "duration": 231,
    "start_time": "2023-04-04T17:25:30.259Z"
   },
   {
    "duration": 9,
    "start_time": "2023-04-04T17:29:59.477Z"
   },
   {
    "duration": 196,
    "start_time": "2023-04-04T17:30:07.952Z"
   },
   {
    "duration": 104,
    "start_time": "2023-04-04T17:31:03.395Z"
   },
   {
    "duration": 91,
    "start_time": "2023-04-04T17:31:21.988Z"
   },
   {
    "duration": 193,
    "start_time": "2023-04-04T17:31:52.932Z"
   },
   {
    "duration": 277,
    "start_time": "2023-04-04T17:33:11.710Z"
   },
   {
    "duration": 53,
    "start_time": "2023-04-04T17:35:36.900Z"
   },
   {
    "duration": 177,
    "start_time": "2023-04-04T17:35:45.749Z"
   },
   {
    "duration": 50,
    "start_time": "2023-04-04T17:37:55.277Z"
   },
   {
    "duration": 102,
    "start_time": "2023-04-04T17:38:38.113Z"
   },
   {
    "duration": 24,
    "start_time": "2023-04-04T17:39:17.274Z"
   },
   {
    "duration": 96,
    "start_time": "2023-04-04T17:39:32.379Z"
   },
   {
    "duration": 1255,
    "start_time": "2023-04-05T18:50:06.007Z"
   },
   {
    "duration": 1036,
    "start_time": "2023-04-05T18:50:07.265Z"
   },
   {
    "duration": 93,
    "start_time": "2023-04-05T18:50:08.303Z"
   },
   {
    "duration": 6,
    "start_time": "2023-04-05T18:50:08.398Z"
   },
   {
    "duration": 67,
    "start_time": "2023-04-05T18:50:08.406Z"
   },
   {
    "duration": 16,
    "start_time": "2023-04-05T18:50:08.475Z"
   },
   {
    "duration": 43,
    "start_time": "2023-04-05T18:50:08.493Z"
   },
   {
    "duration": 86,
    "start_time": "2023-04-05T18:50:08.538Z"
   },
   {
    "duration": 44,
    "start_time": "2023-04-05T18:50:08.629Z"
   },
   {
    "duration": 70,
    "start_time": "2023-04-05T18:50:08.676Z"
   },
   {
    "duration": 57,
    "start_time": "2023-04-05T18:50:08.747Z"
   },
   {
    "duration": 63,
    "start_time": "2023-04-05T18:50:08.807Z"
   },
   {
    "duration": 259,
    "start_time": "2023-04-05T18:50:08.872Z"
   },
   {
    "duration": 40,
    "start_time": "2023-04-05T18:50:09.133Z"
   },
   {
    "duration": 192,
    "start_time": "2023-04-05T18:50:09.175Z"
   },
   {
    "duration": 177,
    "start_time": "2023-04-05T18:50:09.369Z"
   },
   {
    "duration": 152,
    "start_time": "2023-04-05T18:50:09.548Z"
   },
   {
    "duration": 7,
    "start_time": "2023-04-05T18:50:09.701Z"
   },
   {
    "duration": 155,
    "start_time": "2023-04-05T18:50:09.710Z"
   },
   {
    "duration": 161,
    "start_time": "2023-04-05T18:50:09.867Z"
   },
   {
    "duration": 175,
    "start_time": "2023-04-05T18:50:10.030Z"
   },
   {
    "duration": 56,
    "start_time": "2023-04-05T18:50:10.207Z"
   },
   {
    "duration": 145,
    "start_time": "2023-04-05T18:50:10.265Z"
   },
   {
    "duration": 64,
    "start_time": "2023-04-05T18:50:10.412Z"
   },
   {
    "duration": 114,
    "start_time": "2023-04-05T18:50:10.477Z"
   },
   {
    "duration": 11,
    "start_time": "2023-04-05T21:01:42.033Z"
   },
   {
    "duration": 23,
    "start_time": "2023-04-05T21:02:00.094Z"
   },
   {
    "duration": 15,
    "start_time": "2023-04-05T21:04:27.300Z"
   },
   {
    "duration": 1249,
    "start_time": "2023-04-05T22:04:58.488Z"
   },
   {
    "duration": 551,
    "start_time": "2023-04-05T22:04:59.741Z"
   },
   {
    "duration": 106,
    "start_time": "2023-04-05T22:05:00.293Z"
   },
   {
    "duration": 5,
    "start_time": "2023-04-05T22:05:00.401Z"
   },
   {
    "duration": 19,
    "start_time": "2023-04-05T22:05:00.408Z"
   },
   {
    "duration": 20,
    "start_time": "2023-04-05T22:05:00.429Z"
   },
   {
    "duration": 35,
    "start_time": "2023-04-05T22:05:00.457Z"
   },
   {
    "duration": 40,
    "start_time": "2023-04-05T22:05:00.494Z"
   },
   {
    "duration": 87,
    "start_time": "2023-04-05T22:05:00.536Z"
   },
   {
    "duration": 47,
    "start_time": "2023-04-05T22:05:00.627Z"
   },
   {
    "duration": 68,
    "start_time": "2023-04-05T22:05:00.676Z"
   },
   {
    "duration": 64,
    "start_time": "2023-04-05T22:05:00.745Z"
   },
   {
    "duration": 47,
    "start_time": "2023-04-05T22:05:00.811Z"
   },
   {
    "duration": 203,
    "start_time": "2023-04-05T22:05:00.860Z"
   },
   {
    "duration": 36,
    "start_time": "2023-04-05T22:05:01.065Z"
   },
   {
    "duration": 256,
    "start_time": "2023-04-05T22:05:01.104Z"
   },
   {
    "duration": 165,
    "start_time": "2023-04-05T22:05:01.362Z"
   },
   {
    "duration": 180,
    "start_time": "2023-04-05T22:05:01.531Z"
   },
   {
    "duration": 7,
    "start_time": "2023-04-05T22:05:01.713Z"
   },
   {
    "duration": 309,
    "start_time": "2023-04-05T22:05:01.741Z"
   },
   {
    "duration": 322,
    "start_time": "2023-04-05T22:05:02.052Z"
   },
   {
    "duration": 390,
    "start_time": "2023-04-05T22:05:02.376Z"
   },
   {
    "duration": 108,
    "start_time": "2023-04-05T22:05:02.768Z"
   },
   {
    "duration": 366,
    "start_time": "2023-04-05T22:05:02.878Z"
   },
   {
    "duration": 110,
    "start_time": "2023-04-05T22:05:03.255Z"
   },
   {
    "duration": 196,
    "start_time": "2023-04-05T22:05:03.367Z"
   },
   {
    "duration": 14,
    "start_time": "2023-04-05T22:05:25.289Z"
   },
   {
    "duration": 34,
    "start_time": "2023-04-05T22:07:06.056Z"
   },
   {
    "duration": 86,
    "start_time": "2023-04-05T22:08:34.805Z"
   },
   {
    "duration": 50,
    "start_time": "2023-04-05T22:19:25.038Z"
   },
   {
    "duration": 17,
    "start_time": "2023-04-05T22:23:02.498Z"
   },
   {
    "duration": 47,
    "start_time": "2023-04-05T22:23:11.325Z"
   },
   {
    "duration": 57,
    "start_time": "2023-04-05T22:26:07.109Z"
   },
   {
    "duration": 173,
    "start_time": "2023-04-05T22:26:54.239Z"
   },
   {
    "duration": 75,
    "start_time": "2023-04-05T22:28:08.869Z"
   },
   {
    "duration": 60,
    "start_time": "2023-04-05T22:28:31.071Z"
   },
   {
    "duration": 60,
    "start_time": "2023-04-05T22:28:42.806Z"
   },
   {
    "duration": 8,
    "start_time": "2023-04-05T22:30:31.977Z"
   },
   {
    "duration": 48,
    "start_time": "2023-04-05T22:31:25.193Z"
   },
   {
    "duration": 6,
    "start_time": "2023-04-05T22:31:41.303Z"
   },
   {
    "duration": 12,
    "start_time": "2023-04-05T22:32:24.265Z"
   },
   {
    "duration": 13,
    "start_time": "2023-04-05T22:33:14.813Z"
   },
   {
    "duration": 11,
    "start_time": "2023-04-05T22:33:23.424Z"
   },
   {
    "duration": 15,
    "start_time": "2023-04-05T22:34:00.605Z"
   },
   {
    "duration": 21,
    "start_time": "2023-04-05T22:34:25.975Z"
   },
   {
    "duration": 20,
    "start_time": "2023-04-05T22:35:40.896Z"
   },
   {
    "duration": 22,
    "start_time": "2023-04-05T22:36:11.161Z"
   },
   {
    "duration": 11,
    "start_time": "2023-04-05T22:36:29.268Z"
   },
   {
    "duration": 13,
    "start_time": "2023-04-05T22:37:23.353Z"
   },
   {
    "duration": 14,
    "start_time": "2023-04-05T22:37:32.555Z"
   },
   {
    "duration": 14,
    "start_time": "2023-04-05T22:38:20.061Z"
   },
   {
    "duration": 19,
    "start_time": "2023-04-05T22:39:14.786Z"
   },
   {
    "duration": 12,
    "start_time": "2023-04-05T22:41:00.070Z"
   },
   {
    "duration": 14,
    "start_time": "2023-04-05T22:45:33.861Z"
   },
   {
    "duration": 13,
    "start_time": "2023-04-05T22:45:45.031Z"
   },
   {
    "duration": 20,
    "start_time": "2023-04-05T22:46:50.771Z"
   },
   {
    "duration": 14,
    "start_time": "2023-04-05T22:47:32.648Z"
   },
   {
    "duration": 16,
    "start_time": "2023-04-05T22:48:22.955Z"
   },
   {
    "duration": 26,
    "start_time": "2023-04-05T22:49:24.685Z"
   },
   {
    "duration": 13,
    "start_time": "2023-04-05T22:49:35.472Z"
   },
   {
    "duration": 15,
    "start_time": "2023-04-05T22:50:44.106Z"
   },
   {
    "duration": 14,
    "start_time": "2023-04-05T22:51:04.106Z"
   },
   {
    "duration": 49,
    "start_time": "2023-04-19T09:43:21.721Z"
   },
   {
    "duration": 1516,
    "start_time": "2023-04-19T09:43:26.323Z"
   },
   {
    "duration": 1404,
    "start_time": "2023-04-19T09:43:27.846Z"
   },
   {
    "duration": 6,
    "start_time": "2023-04-19T09:43:29.252Z"
   },
   {
    "duration": 96,
    "start_time": "2023-04-19T09:43:29.259Z"
   },
   {
    "duration": 5,
    "start_time": "2023-04-19T09:43:29.357Z"
   },
   {
    "duration": 8,
    "start_time": "2023-04-19T09:43:29.363Z"
   },
   {
    "duration": 15,
    "start_time": "2023-04-19T09:43:29.373Z"
   },
   {
    "duration": 26,
    "start_time": "2023-04-19T09:43:29.390Z"
   },
   {
    "duration": 86,
    "start_time": "2023-04-19T09:43:29.418Z"
   },
   {
    "duration": 39,
    "start_time": "2023-04-19T09:43:29.512Z"
   },
   {
    "duration": 72,
    "start_time": "2023-04-19T09:43:29.553Z"
   },
   {
    "duration": 62,
    "start_time": "2023-04-19T09:43:29.627Z"
   },
   {
    "duration": 40,
    "start_time": "2023-04-19T09:43:29.691Z"
   },
   {
    "duration": 207,
    "start_time": "2023-04-19T09:43:29.733Z"
   },
   {
    "duration": 20,
    "start_time": "2023-04-19T09:43:29.941Z"
   },
   {
    "duration": 11,
    "start_time": "2023-04-19T09:43:29.963Z"
   },
   {
    "duration": 43,
    "start_time": "2023-04-19T09:43:29.990Z"
   },
   {
    "duration": 201,
    "start_time": "2023-04-19T09:43:30.034Z"
   },
   {
    "duration": 181,
    "start_time": "2023-04-19T09:43:30.237Z"
   },
   {
    "duration": 171,
    "start_time": "2023-04-19T09:43:30.420Z"
   },
   {
    "duration": 9,
    "start_time": "2023-04-19T09:43:30.593Z"
   },
   {
    "duration": 179,
    "start_time": "2023-04-19T09:43:30.605Z"
   },
   {
    "duration": 177,
    "start_time": "2023-04-19T09:43:30.797Z"
   },
   {
    "duration": 173,
    "start_time": "2023-04-19T09:43:30.976Z"
   },
   {
    "duration": 55,
    "start_time": "2023-04-19T09:43:31.151Z"
   },
   {
    "duration": 145,
    "start_time": "2023-04-19T09:43:31.215Z"
   },
   {
    "duration": 63,
    "start_time": "2023-04-19T09:43:31.361Z"
   },
   {
    "duration": 106,
    "start_time": "2023-04-19T09:43:31.426Z"
   },
   {
    "duration": 249,
    "start_time": "2023-04-19T09:46:21.746Z"
   },
   {
    "duration": 85,
    "start_time": "2023-04-19T09:46:56.641Z"
   },
   {
    "duration": 45,
    "start_time": "2023-04-19T09:47:43.632Z"
   },
   {
    "duration": 233,
    "start_time": "2023-04-19T09:57:46.680Z"
   },
   {
    "duration": 283,
    "start_time": "2023-04-19T10:01:59.357Z"
   },
   {
    "duration": 22,
    "start_time": "2023-04-19T10:02:33.158Z"
   },
   {
    "duration": 257,
    "start_time": "2023-04-19T10:06:37.220Z"
   },
   {
    "duration": 47,
    "start_time": "2023-04-19T10:11:51.808Z"
   },
   {
    "duration": 77,
    "start_time": "2023-04-19T10:21:08.786Z"
   },
   {
    "duration": 85,
    "start_time": "2023-04-19T10:21:26.872Z"
   },
   {
    "duration": 82,
    "start_time": "2023-04-19T10:24:33.273Z"
   },
   {
    "duration": 101,
    "start_time": "2023-04-19T10:28:10.522Z"
   },
   {
    "duration": 34,
    "start_time": "2023-04-19T10:28:54.431Z"
   },
   {
    "duration": 239,
    "start_time": "2023-04-19T10:29:03.326Z"
   },
   {
    "duration": 42,
    "start_time": "2023-04-19T10:29:59.436Z"
   },
   {
    "duration": 787,
    "start_time": "2023-04-19T11:09:14.455Z"
   },
   {
    "duration": 49,
    "start_time": "2023-04-19T11:11:55.431Z"
   },
   {
    "duration": 40,
    "start_time": "2023-04-19T11:12:04.001Z"
   },
   {
    "duration": 40,
    "start_time": "2023-04-19T11:13:01.962Z"
   },
   {
    "duration": 51,
    "start_time": "2023-04-19T11:28:18.978Z"
   },
   {
    "duration": 51,
    "start_time": "2023-04-19T11:28:56.869Z"
   },
   {
    "duration": 2794,
    "start_time": "2023-04-19T11:58:43.047Z"
   },
   {
    "duration": 130,
    "start_time": "2023-04-19T12:00:19.468Z"
   },
   {
    "duration": 34,
    "start_time": "2023-04-19T12:00:41.671Z"
   },
   {
    "duration": 36,
    "start_time": "2023-04-19T12:00:44.278Z"
   },
   {
    "duration": 9,
    "start_time": "2023-04-19T12:01:40.134Z"
   },
   {
    "duration": 23,
    "start_time": "2023-04-19T12:01:48.955Z"
   },
   {
    "duration": 27,
    "start_time": "2023-04-19T12:02:19.108Z"
   },
   {
    "duration": 825,
    "start_time": "2023-04-19T12:19:30.977Z"
   },
   {
    "duration": 916,
    "start_time": "2023-04-19T12:21:21.953Z"
   },
   {
    "duration": 816,
    "start_time": "2023-04-19T12:21:47.209Z"
   },
   {
    "duration": 284,
    "start_time": "2023-04-19T12:22:51.597Z"
   },
   {
    "duration": 294,
    "start_time": "2023-04-19T12:23:19.905Z"
   },
   {
    "duration": 296,
    "start_time": "2023-04-19T12:24:03.453Z"
   },
   {
    "duration": 48,
    "start_time": "2023-04-19T12:26:30.399Z"
   },
   {
    "duration": 290,
    "start_time": "2023-04-19T12:27:42.071Z"
   },
   {
    "duration": 65,
    "start_time": "2023-04-19T12:28:07.238Z"
   },
   {
    "duration": 289,
    "start_time": "2023-04-19T12:29:01.965Z"
   },
   {
    "duration": 324,
    "start_time": "2023-04-19T12:31:01.650Z"
   },
   {
    "duration": 29,
    "start_time": "2023-04-19T13:08:56.240Z"
   },
   {
    "duration": 384,
    "start_time": "2023-04-19T13:09:01.577Z"
   },
   {
    "duration": 344,
    "start_time": "2023-04-19T13:09:31.928Z"
   },
   {
    "duration": 413,
    "start_time": "2023-04-19T13:11:09.125Z"
   },
   {
    "duration": 12,
    "start_time": "2023-04-19T13:41:18.014Z"
   },
   {
    "duration": 17,
    "start_time": "2023-04-19T13:41:50.972Z"
   },
   {
    "duration": 21,
    "start_time": "2023-04-19T13:45:51.323Z"
   },
   {
    "duration": 14,
    "start_time": "2023-04-19T13:57:19.551Z"
   },
   {
    "duration": 16,
    "start_time": "2023-04-19T13:57:45.121Z"
   },
   {
    "duration": 34,
    "start_time": "2023-04-19T13:57:58.209Z"
   },
   {
    "duration": 20,
    "start_time": "2023-04-19T14:06:13.143Z"
   },
   {
    "duration": 14,
    "start_time": "2023-04-19T14:06:26.318Z"
   },
   {
    "duration": 27,
    "start_time": "2023-04-19T14:06:40.155Z"
   },
   {
    "duration": 2,
    "start_time": "2023-04-19T14:09:48.896Z"
   },
   {
    "duration": 913,
    "start_time": "2023-04-19T14:09:59.549Z"
   },
   {
    "duration": 827,
    "start_time": "2023-04-19T14:10:06.723Z"
   },
   {
    "duration": 878,
    "start_time": "2023-04-19T14:22:03.731Z"
   },
   {
    "duration": 143,
    "start_time": "2023-04-19T14:22:18.021Z"
   },
   {
    "duration": 190,
    "start_time": "2023-04-19T14:22:37.221Z"
   },
   {
    "duration": 322,
    "start_time": "2023-04-19T14:22:58.639Z"
   },
   {
    "duration": 239,
    "start_time": "2023-04-19T14:23:33.570Z"
   },
   {
    "duration": 179,
    "start_time": "2023-04-19T14:23:34.745Z"
   },
   {
    "duration": 11,
    "start_time": "2023-04-19T14:48:27.046Z"
   },
   {
    "duration": 15,
    "start_time": "2023-04-19T14:48:51.613Z"
   },
   {
    "duration": 10,
    "start_time": "2023-04-19T14:48:55.059Z"
   },
   {
    "duration": 11,
    "start_time": "2023-04-19T14:48:57.557Z"
   },
   {
    "duration": 63,
    "start_time": "2023-04-19T14:50:43.667Z"
   },
   {
    "duration": 14,
    "start_time": "2023-04-19T14:51:25.635Z"
   },
   {
    "duration": 12,
    "start_time": "2023-04-19T14:52:13.933Z"
   },
   {
    "duration": 310,
    "start_time": "2023-04-19T14:52:22.118Z"
   },
   {
    "duration": 10,
    "start_time": "2023-04-19T14:59:37.652Z"
   },
   {
    "duration": 1046,
    "start_time": "2023-04-19T14:59:53.828Z"
   },
   {
    "duration": 13,
    "start_time": "2023-04-19T15:00:24.256Z"
   },
   {
    "duration": 11,
    "start_time": "2023-04-19T15:00:27.839Z"
   },
   {
    "duration": 12,
    "start_time": "2023-04-19T15:01:04.606Z"
   },
   {
    "duration": 14,
    "start_time": "2023-04-19T15:02:28.834Z"
   },
   {
    "duration": 277,
    "start_time": "2023-04-19T15:03:19.189Z"
   },
   {
    "duration": 1094,
    "start_time": "2023-04-20T10:51:25.798Z"
   },
   {
    "duration": 992,
    "start_time": "2023-04-20T10:51:26.894Z"
   },
   {
    "duration": 216,
    "start_time": "2023-04-20T10:51:27.889Z"
   },
   {
    "duration": 79,
    "start_time": "2023-04-20T10:51:28.107Z"
   },
   {
    "duration": 19,
    "start_time": "2023-04-20T10:51:28.189Z"
   },
   {
    "duration": 44,
    "start_time": "2023-04-20T10:51:28.209Z"
   },
   {
    "duration": 230,
    "start_time": "2023-04-20T10:51:28.254Z"
   },
   {
    "duration": 18,
    "start_time": "2023-04-20T10:51:28.485Z"
   },
   {
    "duration": 217,
    "start_time": "2023-04-20T10:51:28.505Z"
   },
   {
    "duration": 14,
    "start_time": "2023-04-20T10:51:28.724Z"
   },
   {
    "duration": 97,
    "start_time": "2023-04-20T10:51:28.740Z"
   },
   {
    "duration": 87,
    "start_time": "2023-04-20T10:51:28.838Z"
   },
   {
    "duration": 39,
    "start_time": "2023-04-20T10:51:28.926Z"
   },
   {
    "duration": 35,
    "start_time": "2023-04-20T10:51:28.968Z"
   },
   {
    "duration": 257,
    "start_time": "2023-04-20T10:51:29.004Z"
   },
   {
    "duration": 96,
    "start_time": "2023-04-20T10:51:29.262Z"
   },
   {
    "duration": 0,
    "start_time": "2023-04-20T10:51:29.360Z"
   },
   {
    "duration": 0,
    "start_time": "2023-04-20T10:51:29.360Z"
   },
   {
    "duration": 0,
    "start_time": "2023-04-20T10:51:29.361Z"
   },
   {
    "duration": 0,
    "start_time": "2023-04-20T10:51:29.362Z"
   },
   {
    "duration": 0,
    "start_time": "2023-04-20T10:51:29.363Z"
   },
   {
    "duration": 0,
    "start_time": "2023-04-20T10:51:29.364Z"
   },
   {
    "duration": 0,
    "start_time": "2023-04-20T10:51:29.365Z"
   },
   {
    "duration": 0,
    "start_time": "2023-04-20T10:51:29.367Z"
   },
   {
    "duration": 0,
    "start_time": "2023-04-20T10:51:29.383Z"
   },
   {
    "duration": 0,
    "start_time": "2023-04-20T10:51:29.384Z"
   },
   {
    "duration": 0,
    "start_time": "2023-04-20T10:51:29.386Z"
   },
   {
    "duration": 0,
    "start_time": "2023-04-20T10:51:29.387Z"
   },
   {
    "duration": 0,
    "start_time": "2023-04-20T10:51:29.388Z"
   },
   {
    "duration": 1129,
    "start_time": "2023-04-20T10:52:19.417Z"
   },
   {
    "duration": 474,
    "start_time": "2023-04-20T10:52:20.549Z"
   },
   {
    "duration": 221,
    "start_time": "2023-04-20T10:52:21.024Z"
   },
   {
    "duration": 88,
    "start_time": "2023-04-20T10:52:21.246Z"
   },
   {
    "duration": 5,
    "start_time": "2023-04-20T10:52:21.337Z"
   },
   {
    "duration": 20,
    "start_time": "2023-04-20T10:52:21.343Z"
   },
   {
    "duration": 249,
    "start_time": "2023-04-20T10:52:21.364Z"
   },
   {
    "duration": 20,
    "start_time": "2023-04-20T10:52:21.614Z"
   },
   {
    "duration": 256,
    "start_time": "2023-04-20T10:52:21.635Z"
   },
   {
    "duration": 17,
    "start_time": "2023-04-20T10:52:21.892Z"
   },
   {
    "duration": 96,
    "start_time": "2023-04-20T10:52:21.910Z"
   },
   {
    "duration": 46,
    "start_time": "2023-04-20T10:52:22.008Z"
   },
   {
    "duration": 51,
    "start_time": "2023-04-20T10:52:22.056Z"
   },
   {
    "duration": 27,
    "start_time": "2023-04-20T10:52:22.110Z"
   },
   {
    "duration": 268,
    "start_time": "2023-04-20T10:52:22.138Z"
   },
   {
    "duration": 119,
    "start_time": "2023-04-20T10:52:22.409Z"
   },
   {
    "duration": 0,
    "start_time": "2023-04-20T10:52:22.530Z"
   },
   {
    "duration": 0,
    "start_time": "2023-04-20T10:52:22.531Z"
   },
   {
    "duration": 0,
    "start_time": "2023-04-20T10:52:22.532Z"
   },
   {
    "duration": 0,
    "start_time": "2023-04-20T10:52:22.533Z"
   },
   {
    "duration": 0,
    "start_time": "2023-04-20T10:52:22.534Z"
   },
   {
    "duration": 0,
    "start_time": "2023-04-20T10:52:22.535Z"
   },
   {
    "duration": 0,
    "start_time": "2023-04-20T10:52:22.536Z"
   },
   {
    "duration": 0,
    "start_time": "2023-04-20T10:52:22.537Z"
   },
   {
    "duration": 0,
    "start_time": "2023-04-20T10:52:22.538Z"
   },
   {
    "duration": 0,
    "start_time": "2023-04-20T10:52:22.539Z"
   },
   {
    "duration": 0,
    "start_time": "2023-04-20T10:52:22.540Z"
   },
   {
    "duration": 0,
    "start_time": "2023-04-20T10:52:22.542Z"
   },
   {
    "duration": 1139,
    "start_time": "2023-04-20T10:53:00.986Z"
   },
   {
    "duration": 476,
    "start_time": "2023-04-20T10:53:02.126Z"
   },
   {
    "duration": 233,
    "start_time": "2023-04-20T10:53:02.604Z"
   },
   {
    "duration": 87,
    "start_time": "2023-04-20T10:53:02.840Z"
   },
   {
    "duration": 5,
    "start_time": "2023-04-20T10:53:02.928Z"
   },
   {
    "duration": 38,
    "start_time": "2023-04-20T10:53:02.935Z"
   },
   {
    "duration": 248,
    "start_time": "2023-04-20T10:53:02.974Z"
   },
   {
    "duration": 24,
    "start_time": "2023-04-20T10:53:03.224Z"
   },
   {
    "duration": 255,
    "start_time": "2023-04-20T10:53:03.250Z"
   },
   {
    "duration": 17,
    "start_time": "2023-04-20T10:53:03.507Z"
   },
   {
    "duration": 103,
    "start_time": "2023-04-20T10:53:03.526Z"
   },
   {
    "duration": 53,
    "start_time": "2023-04-20T10:53:03.631Z"
   },
   {
    "duration": 43,
    "start_time": "2023-04-20T10:53:03.686Z"
   },
   {
    "duration": 29,
    "start_time": "2023-04-20T10:53:03.731Z"
   },
   {
    "duration": 323,
    "start_time": "2023-04-20T10:53:03.762Z"
   },
   {
    "duration": 25,
    "start_time": "2023-04-20T10:53:04.086Z"
   },
   {
    "duration": 35,
    "start_time": "2023-04-20T10:53:04.113Z"
   },
   {
    "duration": 875,
    "start_time": "2023-04-20T10:53:04.149Z"
   },
   {
    "duration": 226,
    "start_time": "2023-04-20T10:53:05.026Z"
   },
   {
    "duration": 193,
    "start_time": "2023-04-20T10:53:05.253Z"
   },
   {
    "duration": 174,
    "start_time": "2023-04-20T10:53:05.448Z"
   },
   {
    "duration": 10,
    "start_time": "2023-04-20T10:53:05.623Z"
   },
   {
    "duration": 85,
    "start_time": "2023-04-20T10:53:05.634Z"
   },
   {
    "duration": 439,
    "start_time": "2023-04-20T10:53:05.721Z"
   },
   {
    "duration": 9,
    "start_time": "2023-04-20T10:53:06.161Z"
   },
   {
    "duration": 43,
    "start_time": "2023-04-20T10:53:06.183Z"
   },
   {
    "duration": 265,
    "start_time": "2023-04-20T10:53:06.228Z"
   },
   {
    "duration": 270,
    "start_time": "2023-04-20T11:28:58.455Z"
   },
   {
    "duration": 16,
    "start_time": "2023-04-20T11:33:04.536Z"
   },
   {
    "duration": 305,
    "start_time": "2023-04-20T11:33:19.594Z"
   },
   {
    "duration": 110,
    "start_time": "2023-04-20T11:57:53.797Z"
   },
   {
    "duration": 20,
    "start_time": "2023-04-20T11:58:20.805Z"
   },
   {
    "duration": 246,
    "start_time": "2023-04-20T11:58:35.275Z"
   },
   {
    "duration": 238,
    "start_time": "2023-04-20T11:58:56.605Z"
   },
   {
    "duration": 65,
    "start_time": "2023-04-20T12:45:51.829Z"
   },
   {
    "duration": 1628,
    "start_time": "2023-04-20T12:45:54.882Z"
   },
   {
    "duration": 2133,
    "start_time": "2023-04-20T12:45:56.512Z"
   },
   {
    "duration": 297,
    "start_time": "2023-04-20T12:45:58.646Z"
   },
   {
    "duration": 109,
    "start_time": "2023-04-20T12:45:58.945Z"
   },
   {
    "duration": 7,
    "start_time": "2023-04-20T12:45:59.056Z"
   },
   {
    "duration": 16,
    "start_time": "2023-04-20T12:45:59.067Z"
   },
   {
    "duration": 340,
    "start_time": "2023-04-20T12:45:59.093Z"
   },
   {
    "duration": 27,
    "start_time": "2023-04-20T12:45:59.435Z"
   },
   {
    "duration": 294,
    "start_time": "2023-04-20T12:45:59.472Z"
   },
   {
    "duration": 25,
    "start_time": "2023-04-20T12:45:59.772Z"
   },
   {
    "duration": 98,
    "start_time": "2023-04-20T12:45:59.802Z"
   },
   {
    "duration": 71,
    "start_time": "2023-04-20T12:45:59.902Z"
   },
   {
    "duration": 58,
    "start_time": "2023-04-20T12:45:59.976Z"
   },
   {
    "duration": 51,
    "start_time": "2023-04-20T12:46:00.037Z"
   },
   {
    "duration": 385,
    "start_time": "2023-04-20T12:46:00.090Z"
   },
   {
    "duration": 28,
    "start_time": "2023-04-20T12:46:00.477Z"
   },
   {
    "duration": 40,
    "start_time": "2023-04-20T12:46:00.508Z"
   },
   {
    "duration": 1082,
    "start_time": "2023-04-20T12:46:00.567Z"
   },
   {
    "duration": 285,
    "start_time": "2023-04-20T12:46:01.656Z"
   },
   {
    "duration": 264,
    "start_time": "2023-04-20T12:46:01.943Z"
   },
   {
    "duration": 238,
    "start_time": "2023-04-20T12:46:02.209Z"
   },
   {
    "duration": 17,
    "start_time": "2023-04-20T12:46:02.449Z"
   },
   {
    "duration": 22,
    "start_time": "2023-04-20T12:46:02.470Z"
   },
   {
    "duration": 393,
    "start_time": "2023-04-20T12:46:02.499Z"
   },
   {
    "duration": 13,
    "start_time": "2023-04-20T12:46:02.894Z"
   },
   {
    "duration": 22,
    "start_time": "2023-04-20T12:46:02.910Z"
   },
   {
    "duration": 325,
    "start_time": "2023-04-20T12:46:02.934Z"
   },
   {
    "duration": 326,
    "start_time": "2023-04-20T12:46:03.260Z"
   },
   {
    "duration": 313,
    "start_time": "2023-04-20T12:50:46.184Z"
   },
   {
    "duration": 290,
    "start_time": "2023-04-20T12:50:54.633Z"
   },
   {
    "duration": 228,
    "start_time": "2023-04-20T12:51:01.808Z"
   },
   {
    "duration": 293,
    "start_time": "2023-04-20T12:53:11.339Z"
   },
   {
    "duration": 344,
    "start_time": "2023-04-20T12:55:46.480Z"
   },
   {
    "duration": 38,
    "start_time": "2023-04-20T13:01:25.684Z"
   },
   {
    "duration": 1125,
    "start_time": "2023-04-20T13:08:46.993Z"
   },
   {
    "duration": 22,
    "start_time": "2023-04-20T13:09:22.733Z"
   },
   {
    "duration": 41,
    "start_time": "2023-04-20T13:09:56.164Z"
   },
   {
    "duration": 49,
    "start_time": "2023-04-20T13:10:42.524Z"
   },
   {
    "duration": 20,
    "start_time": "2023-04-20T13:10:53.135Z"
   },
   {
    "duration": 21,
    "start_time": "2023-04-20T13:11:01.524Z"
   },
   {
    "duration": 1056,
    "start_time": "2023-04-20T23:23:16.241Z"
   },
   {
    "duration": 459,
    "start_time": "2023-04-20T23:23:17.299Z"
   },
   {
    "duration": 211,
    "start_time": "2023-04-20T23:23:17.760Z"
   },
   {
    "duration": 78,
    "start_time": "2023-04-20T23:23:17.972Z"
   },
   {
    "duration": 5,
    "start_time": "2023-04-20T23:23:18.052Z"
   },
   {
    "duration": 15,
    "start_time": "2023-04-20T23:23:18.058Z"
   },
   {
    "duration": 198,
    "start_time": "2023-04-20T23:23:18.075Z"
   },
   {
    "duration": 22,
    "start_time": "2023-04-20T23:23:18.274Z"
   },
   {
    "duration": 212,
    "start_time": "2023-04-20T23:23:18.298Z"
   },
   {
    "duration": 18,
    "start_time": "2023-04-20T23:23:18.512Z"
   },
   {
    "duration": 88,
    "start_time": "2023-04-20T23:23:18.532Z"
   },
   {
    "duration": 41,
    "start_time": "2023-04-20T23:23:18.623Z"
   },
   {
    "duration": 51,
    "start_time": "2023-04-20T23:23:18.665Z"
   },
   {
    "duration": 25,
    "start_time": "2023-04-20T23:23:18.718Z"
   },
   {
    "duration": 278,
    "start_time": "2023-04-20T23:23:18.745Z"
   },
   {
    "duration": 19,
    "start_time": "2023-04-20T23:23:19.025Z"
   },
   {
    "duration": 40,
    "start_time": "2023-04-20T23:23:19.046Z"
   },
   {
    "duration": 807,
    "start_time": "2023-04-20T23:23:19.088Z"
   },
   {
    "duration": 237,
    "start_time": "2023-04-20T23:23:19.897Z"
   },
   {
    "duration": 208,
    "start_time": "2023-04-20T23:23:20.135Z"
   },
   {
    "duration": 245,
    "start_time": "2023-04-20T23:23:20.344Z"
   },
   {
    "duration": 218,
    "start_time": "2023-04-20T23:23:20.590Z"
   },
   {
    "duration": 10,
    "start_time": "2023-04-20T23:23:20.809Z"
   },
   {
    "duration": 22,
    "start_time": "2023-04-20T23:23:20.821Z"
   },
   {
    "duration": 311,
    "start_time": "2023-04-20T23:23:20.844Z"
   },
   {
    "duration": 9,
    "start_time": "2023-04-20T23:23:21.157Z"
   },
   {
    "duration": 18,
    "start_time": "2023-04-20T23:23:21.183Z"
   },
   {
    "duration": 249,
    "start_time": "2023-04-20T23:23:21.202Z"
   },
   {
    "duration": 220,
    "start_time": "2023-04-20T23:23:21.453Z"
   },
   {
    "duration": 23,
    "start_time": "2023-04-20T23:27:27.073Z"
   },
   {
    "duration": 273,
    "start_time": "2023-04-20T23:32:29.940Z"
   }
  ],
  "kernelspec": {
   "display_name": "Python 3 (ipykernel)",
   "language": "python",
   "name": "python3"
  },
  "language_info": {
   "codemirror_mode": {
    "name": "ipython",
    "version": 3
   },
   "file_extension": ".py",
   "mimetype": "text/x-python",
   "name": "python",
   "nbconvert_exporter": "python",
   "pygments_lexer": "ipython3",
   "version": "3.9.7"
  },
  "toc": {
   "base_numbering": 1,
   "nav_menu": {},
   "number_sections": true,
   "sideBar": true,
   "skip_h1_title": true,
   "title_cell": "Table of Contents",
   "title_sidebar": "Contents",
   "toc_cell": false,
   "toc_position": {
    "height": "calc(100% - 180px)",
    "left": "10px",
    "top": "150px",
    "width": "165px"
   },
   "toc_section_display": true,
   "toc_window_display": true
  }
 },
 "nbformat": 4,
 "nbformat_minor": 2
}
