{
 "cells": [
  {
   "cell_type": "markdown",
   "id": "3cedd922",
   "metadata": {},
   "source": [
    "# Описание проекта"
   ]
  },
  {
   "cell_type": "markdown",
   "id": "9fb3dcbd",
   "metadata": {},
   "source": [
    "### Анализ оттока клиентов банка «Метанпром»\n",
    "\n",
    "Датасет содержит данные о клиентах банка «Метанпром». Банк находится в Ярославле и областных городах: Ростов Великий и Рыбинск.\n",
    "\n",
    "**Цель исследование:** \n",
    "\n",
    "1) Проанализировать клиентов регионального банка и выделить сегменты клиентов, которые склонны уходить из банка.\n",
    "\n",
    "2) Сформулировать и проверить статистические гипотезы:\n",
    "   \n",
    "  - гипотеза различия дохода между теми клиентами, которые ушли и теми, которые остались\n",
    "  - Гипотеза различия среднего возраста между теми клиентами, которые ушли и теми, которые остались   "
   ]
  },
  {
   "cell_type": "markdown",
   "id": "4fb8e6c7",
   "metadata": {},
   "source": [
    "# Подключение библиотек и загрузка данных"
   ]
  },
  {
   "cell_type": "markdown",
   "id": "9c387f0f",
   "metadata": {},
   "source": [
    "Подключим библиотеки, которые нужны для реализации проекта"
   ]
  },
  {
   "cell_type": "code",
   "execution_count": 47,
   "id": "ae435a65",
   "metadata": {},
   "outputs": [],
   "source": [
    "import pandas as pd\n",
    "import numpy as np\n",
    "import seaborn as sns\n",
    "import matplotlib.pyplot as plt\n",
    "from matplotlib.ticker import FuncFormatter\n",
    "from scipy import stats as st\n",
    "import plotly.express as px\n",
    "import warnings"
   ]
  },
  {
   "cell_type": "markdown",
   "id": "79fb1332",
   "metadata": {},
   "source": [
    "Загружаем данные для исследования"
   ]
  },
  {
   "cell_type": "code",
   "execution_count": 2,
   "id": "95fed900",
   "metadata": {},
   "outputs": [],
   "source": [
    "path = \"https://drive.google.com/uc?export=download&id=1-U61mhTz_N1ARjy2XSAZ7IlQqGjeqP0F\" \n",
    "df = pd.read_csv('bank_scrooge.csv')"
   ]
  },
  {
   "cell_type": "code",
   "execution_count": 3,
   "id": "bc4cfb63",
   "metadata": {},
   "outputs": [
    {
     "data": {
      "text/html": [
       "<div>\n",
       "<style scoped>\n",
       "    .dataframe tbody tr th:only-of-type {\n",
       "        vertical-align: middle;\n",
       "    }\n",
       "\n",
       "    .dataframe tbody tr th {\n",
       "        vertical-align: top;\n",
       "    }\n",
       "\n",
       "    .dataframe thead th {\n",
       "        text-align: right;\n",
       "    }\n",
       "</style>\n",
       "<table border=\"1\" class=\"dataframe\">\n",
       "  <thead>\n",
       "    <tr style=\"text-align: right;\">\n",
       "      <th></th>\n",
       "      <th>USERID</th>\n",
       "      <th>score</th>\n",
       "      <th>city</th>\n",
       "      <th>gender</th>\n",
       "      <th>age</th>\n",
       "      <th>equity</th>\n",
       "      <th>balance</th>\n",
       "      <th>products</th>\n",
       "      <th>credit_card</th>\n",
       "      <th>last_activity</th>\n",
       "      <th>EST_SALARY</th>\n",
       "      <th>churn</th>\n",
       "    </tr>\n",
       "  </thead>\n",
       "  <tbody>\n",
       "    <tr>\n",
       "      <th>0</th>\n",
       "      <td>183012</td>\n",
       "      <td>850.0</td>\n",
       "      <td>Рыбинск</td>\n",
       "      <td>Ж</td>\n",
       "      <td>25.0</td>\n",
       "      <td>1</td>\n",
       "      <td>59214.82</td>\n",
       "      <td>2</td>\n",
       "      <td>0</td>\n",
       "      <td>1</td>\n",
       "      <td>75719.14</td>\n",
       "      <td>1</td>\n",
       "    </tr>\n",
       "    <tr>\n",
       "      <th>1</th>\n",
       "      <td>146556</td>\n",
       "      <td>861.0</td>\n",
       "      <td>Рыбинск</td>\n",
       "      <td>Ж</td>\n",
       "      <td>37.0</td>\n",
       "      <td>5</td>\n",
       "      <td>850594.33</td>\n",
       "      <td>3</td>\n",
       "      <td>1</td>\n",
       "      <td>0</td>\n",
       "      <td>86621.77</td>\n",
       "      <td>0</td>\n",
       "    </tr>\n",
       "    <tr>\n",
       "      <th>2</th>\n",
       "      <td>120722</td>\n",
       "      <td>892.0</td>\n",
       "      <td>Рыбинск</td>\n",
       "      <td>Ж</td>\n",
       "      <td>30.0</td>\n",
       "      <td>0</td>\n",
       "      <td>NaN</td>\n",
       "      <td>1</td>\n",
       "      <td>1</td>\n",
       "      <td>1</td>\n",
       "      <td>107683.34</td>\n",
       "      <td>0</td>\n",
       "    </tr>\n",
       "    <tr>\n",
       "      <th>3</th>\n",
       "      <td>225363</td>\n",
       "      <td>866.0</td>\n",
       "      <td>Ярославль</td>\n",
       "      <td>Ж</td>\n",
       "      <td>51.0</td>\n",
       "      <td>5</td>\n",
       "      <td>1524746.26</td>\n",
       "      <td>2</td>\n",
       "      <td>0</td>\n",
       "      <td>1</td>\n",
       "      <td>174423.53</td>\n",
       "      <td>1</td>\n",
       "    </tr>\n",
       "    <tr>\n",
       "      <th>4</th>\n",
       "      <td>157978</td>\n",
       "      <td>730.0</td>\n",
       "      <td>Ярославль</td>\n",
       "      <td>М</td>\n",
       "      <td>34.0</td>\n",
       "      <td>5</td>\n",
       "      <td>174.00</td>\n",
       "      <td>1</td>\n",
       "      <td>1</td>\n",
       "      <td>0</td>\n",
       "      <td>67353.16</td>\n",
       "      <td>1</td>\n",
       "    </tr>\n",
       "    <tr>\n",
       "      <th>5</th>\n",
       "      <td>202305</td>\n",
       "      <td>856.0</td>\n",
       "      <td>Рыбинск</td>\n",
       "      <td>М</td>\n",
       "      <td>56.0</td>\n",
       "      <td>4</td>\n",
       "      <td>863687.24</td>\n",
       "      <td>3</td>\n",
       "      <td>1</td>\n",
       "      <td>0</td>\n",
       "      <td>156619.80</td>\n",
       "      <td>0</td>\n",
       "    </tr>\n",
       "    <tr>\n",
       "      <th>6</th>\n",
       "      <td>177259</td>\n",
       "      <td>807.0</td>\n",
       "      <td>Ярославль</td>\n",
       "      <td>Ж</td>\n",
       "      <td>39.0</td>\n",
       "      <td>3</td>\n",
       "      <td>405042.44</td>\n",
       "      <td>3</td>\n",
       "      <td>0</td>\n",
       "      <td>1</td>\n",
       "      <td>103838.32</td>\n",
       "      <td>0</td>\n",
       "    </tr>\n",
       "    <tr>\n",
       "      <th>7</th>\n",
       "      <td>218868</td>\n",
       "      <td>825.0</td>\n",
       "      <td>Ярославль</td>\n",
       "      <td>Ж</td>\n",
       "      <td>38.0</td>\n",
       "      <td>4</td>\n",
       "      <td>458145.40</td>\n",
       "      <td>2</td>\n",
       "      <td>1</td>\n",
       "      <td>1</td>\n",
       "      <td>68085.48</td>\n",
       "      <td>0</td>\n",
       "    </tr>\n",
       "    <tr>\n",
       "      <th>8</th>\n",
       "      <td>211686</td>\n",
       "      <td>923.0</td>\n",
       "      <td>Ярославль</td>\n",
       "      <td>М</td>\n",
       "      <td>54.0</td>\n",
       "      <td>5</td>\n",
       "      <td>1206337.87</td>\n",
       "      <td>2</td>\n",
       "      <td>1</td>\n",
       "      <td>0</td>\n",
       "      <td>155371.79</td>\n",
       "      <td>0</td>\n",
       "    </tr>\n",
       "    <tr>\n",
       "      <th>9</th>\n",
       "      <td>133130</td>\n",
       "      <td>906.0</td>\n",
       "      <td>Ярославль</td>\n",
       "      <td>Ж</td>\n",
       "      <td>67.0</td>\n",
       "      <td>0</td>\n",
       "      <td>NaN</td>\n",
       "      <td>1</td>\n",
       "      <td>0</td>\n",
       "      <td>1</td>\n",
       "      <td>238055.53</td>\n",
       "      <td>0</td>\n",
       "    </tr>\n",
       "  </tbody>\n",
       "</table>\n",
       "</div>"
      ],
      "text/plain": [
       "   USERID  score       city gender   age  equity     balance  products  \\\n",
       "0  183012  850.0    Рыбинск      Ж  25.0       1    59214.82         2   \n",
       "1  146556  861.0    Рыбинск      Ж  37.0       5   850594.33         3   \n",
       "2  120722  892.0    Рыбинск      Ж  30.0       0         NaN         1   \n",
       "3  225363  866.0  Ярославль      Ж  51.0       5  1524746.26         2   \n",
       "4  157978  730.0  Ярославль      М  34.0       5      174.00         1   \n",
       "5  202305  856.0    Рыбинск      М  56.0       4   863687.24         3   \n",
       "6  177259  807.0  Ярославль      Ж  39.0       3   405042.44         3   \n",
       "7  218868  825.0  Ярославль      Ж  38.0       4   458145.40         2   \n",
       "8  211686  923.0  Ярославль      М  54.0       5  1206337.87         2   \n",
       "9  133130  906.0  Ярославль      Ж  67.0       0         NaN         1   \n",
       "\n",
       "   credit_card  last_activity  EST_SALARY  churn  \n",
       "0            0              1    75719.14      1  \n",
       "1            1              0    86621.77      0  \n",
       "2            1              1   107683.34      0  \n",
       "3            0              1   174423.53      1  \n",
       "4            1              0    67353.16      1  \n",
       "5            1              0   156619.80      0  \n",
       "6            0              1   103838.32      0  \n",
       "7            1              1    68085.48      0  \n",
       "8            1              0   155371.79      0  \n",
       "9            0              1   238055.53      0  "
      ]
     },
     "metadata": {},
     "output_type": "display_data"
    },
    {
     "name": "stdout",
     "output_type": "stream",
     "text": [
      "<class 'pandas.core.frame.DataFrame'>\n",
      "RangeIndex: 10000 entries, 0 to 9999\n",
      "Data columns (total 12 columns):\n",
      " #   Column         Non-Null Count  Dtype  \n",
      "---  ------         --------------  -----  \n",
      " 0   USERID         10000 non-null  int64  \n",
      " 1   score          10000 non-null  float64\n",
      " 2   city           10000 non-null  object \n",
      " 3   gender         10000 non-null  object \n",
      " 4   age            9974 non-null   float64\n",
      " 5   equity         10000 non-null  int64  \n",
      " 6   balance        7705 non-null   float64\n",
      " 7   products       10000 non-null  int64  \n",
      " 8   credit_card    10000 non-null  int64  \n",
      " 9   last_activity  10000 non-null  int64  \n",
      " 10  EST_SALARY     10000 non-null  float64\n",
      " 11  churn          10000 non-null  int64  \n",
      "dtypes: float64(4), int64(6), object(2)\n",
      "memory usage: 937.6+ KB\n"
     ]
    }
   ],
   "source": [
    "display(df.head(10))\n",
    "df.info()"
   ]
  },
  {
   "cell_type": "markdown",
   "id": "921b6732",
   "metadata": {},
   "source": [
    "**Вывод**"
   ]
  },
  {
   "cell_type": "markdown",
   "id": "87170056",
   "metadata": {},
   "source": [
    "Проблемы, которые предстоит исправить в предобработке данных:\n",
    "     \n",
    "     1) Привести названия столбцов к змеиному регистру\n",
    "   \n",
    "     2) Посмотреть явные и неявные дубликаты\n",
    "   \n",
    "     3) Проанализировать появление пропусков в столбцах `age` и `balance`\n",
    "   \n",
    "     4) Рассмотреть выбросы в столбцах\n",
    "   \n",
    "     5) Закодировать столбцы `city` и `gender`"
   ]
  },
  {
   "cell_type": "markdown",
   "id": "543a4a01",
   "metadata": {},
   "source": [
    "# Предобработка данных"
   ]
  },
  {
   "cell_type": "markdown",
   "id": "d1ab934c",
   "metadata": {},
   "source": [
    "**1. Приведем названия столбцов к змеиному регистру**"
   ]
  },
  {
   "cell_type": "code",
   "execution_count": 4,
   "id": "e83e6b6d",
   "metadata": {},
   "outputs": [
    {
     "name": "stdout",
     "output_type": "stream",
     "text": [
      "<class 'pandas.core.frame.DataFrame'>\n",
      "RangeIndex: 10000 entries, 0 to 9999\n",
      "Data columns (total 12 columns):\n",
      " #   Column         Non-Null Count  Dtype  \n",
      "---  ------         --------------  -----  \n",
      " 0   user_id        10000 non-null  int64  \n",
      " 1   score          10000 non-null  float64\n",
      " 2   city           10000 non-null  object \n",
      " 3   gender         10000 non-null  object \n",
      " 4   age            9974 non-null   float64\n",
      " 5   equity         10000 non-null  int64  \n",
      " 6   balance        7705 non-null   float64\n",
      " 7   products       10000 non-null  int64  \n",
      " 8   credit_card    10000 non-null  int64  \n",
      " 9   last_activity  10000 non-null  int64  \n",
      " 10  est_salary     10000 non-null  float64\n",
      " 11  churn          10000 non-null  int64  \n",
      "dtypes: float64(4), int64(6), object(2)\n",
      "memory usage: 937.6+ KB\n"
     ]
    }
   ],
   "source": [
    "df = df.rename(columns = {'USERID' : 'user_id', 'EST_SALARY' : 'est_salary'})\n",
    "df.info()"
   ]
  },
  {
   "cell_type": "markdown",
   "id": "12bc1d81",
   "metadata": {},
   "source": [
    "**2. Явные дубликаты**"
   ]
  },
  {
   "cell_type": "code",
   "execution_count": 5,
   "id": "a31bfd61",
   "metadata": {},
   "outputs": [
    {
     "data": {
      "text/plain": [
       "0"
      ]
     },
     "execution_count": 5,
     "metadata": {},
     "output_type": "execute_result"
    }
   ],
   "source": [
    "df.duplicated().sum()"
   ]
  },
  {
   "cell_type": "markdown",
   "id": "9474d905",
   "metadata": {},
   "source": [
    "Как можно увидеть, явных дубликатов нет в датасете"
   ]
  },
  {
   "cell_type": "markdown",
   "id": "5915cdd8",
   "metadata": {},
   "source": [
    "**3. Неявные дубликаты**"
   ]
  },
  {
   "cell_type": "code",
   "execution_count": 6,
   "id": "444c2df6",
   "metadata": {},
   "outputs": [
    {
     "data": {
      "text/plain": [
       "array(['Рыбинск', 'Ярославль', 'Ростов'], dtype=object)"
      ]
     },
     "execution_count": 6,
     "metadata": {},
     "output_type": "execute_result"
    }
   ],
   "source": [
    "df['city'].unique()"
   ]
  },
  {
   "cell_type": "code",
   "execution_count": 7,
   "id": "645d2499",
   "metadata": {},
   "outputs": [
    {
     "data": {
      "text/plain": [
       "array(['Ж', 'М'], dtype=object)"
      ]
     },
     "execution_count": 7,
     "metadata": {},
     "output_type": "execute_result"
    }
   ],
   "source": [
    "df['gender'].unique()"
   ]
  },
  {
   "cell_type": "code",
   "execution_count": 8,
   "id": "cd536a97",
   "metadata": {},
   "outputs": [
    {
     "data": {
      "text/plain": [
       "array([0, 1], dtype=int64)"
      ]
     },
     "execution_count": 8,
     "metadata": {},
     "output_type": "execute_result"
    }
   ],
   "source": [
    "df['credit_card'].unique()"
   ]
  },
  {
   "cell_type": "code",
   "execution_count": 9,
   "id": "fabb470f",
   "metadata": {},
   "outputs": [
    {
     "data": {
      "text/plain": [
       "array([1, 0], dtype=int64)"
      ]
     },
     "execution_count": 9,
     "metadata": {},
     "output_type": "execute_result"
    }
   ],
   "source": [
    "df['last_activity'].unique()"
   ]
  },
  {
   "cell_type": "code",
   "execution_count": 10,
   "id": "e155d052",
   "metadata": {},
   "outputs": [
    {
     "data": {
      "text/plain": [
       "array([1, 0], dtype=int64)"
      ]
     },
     "execution_count": 10,
     "metadata": {},
     "output_type": "execute_result"
    }
   ],
   "source": [
    "df['churn'].unique()"
   ]
  },
  {
   "cell_type": "markdown",
   "id": "89b62f37",
   "metadata": {},
   "source": [
    "Как можно увидеть, в столбцах с категориальными переменными и бинарными значениями нет никаких странных значений"
   ]
  },
  {
   "cell_type": "markdown",
   "id": "e2ada366",
   "metadata": {},
   "source": [
    "**4. Пропуски**"
   ]
  },
  {
   "cell_type": "code",
   "execution_count": 11,
   "id": "8fde17ac",
   "metadata": {},
   "outputs": [
    {
     "name": "stdout",
     "output_type": "stream",
     "text": [
      "user_id           0.00\n",
      "score             0.00\n",
      "city              0.00\n",
      "gender            0.00\n",
      "age               0.26\n",
      "equity            0.00\n",
      "balance          22.95\n",
      "products          0.00\n",
      "credit_card       0.00\n",
      "last_activity     0.00\n",
      "est_salary        0.00\n",
      "churn             0.00\n",
      "dtype: float64\n"
     ]
    }
   ],
   "source": [
    "print(df.isnull().sum() / len(df) * 100)"
   ]
  },
  {
   "cell_type": "markdown",
   "id": "ea877717",
   "metadata": {},
   "source": [
    "В датасете есть пропуски в двух столбцах: `age` и `balance`. В столбце `age` всего 0,2 процента пропусков или 26 строк. Посмотрим на эти строки, чтобы исключить систематичность этой ошибки."
   ]
  },
  {
   "cell_type": "code",
   "execution_count": 12,
   "id": "6cd4f376",
   "metadata": {},
   "outputs": [
    {
     "data": {
      "text/html": [
       "<div>\n",
       "<style scoped>\n",
       "    .dataframe tbody tr th:only-of-type {\n",
       "        vertical-align: middle;\n",
       "    }\n",
       "\n",
       "    .dataframe tbody tr th {\n",
       "        vertical-align: top;\n",
       "    }\n",
       "\n",
       "    .dataframe thead th {\n",
       "        text-align: right;\n",
       "    }\n",
       "</style>\n",
       "<table border=\"1\" class=\"dataframe\">\n",
       "  <thead>\n",
       "    <tr style=\"text-align: right;\">\n",
       "      <th></th>\n",
       "      <th>user_id</th>\n",
       "      <th>score</th>\n",
       "      <th>city</th>\n",
       "      <th>gender</th>\n",
       "      <th>age</th>\n",
       "      <th>equity</th>\n",
       "      <th>balance</th>\n",
       "      <th>products</th>\n",
       "      <th>credit_card</th>\n",
       "      <th>last_activity</th>\n",
       "      <th>est_salary</th>\n",
       "      <th>churn</th>\n",
       "    </tr>\n",
       "  </thead>\n",
       "  <tbody>\n",
       "    <tr>\n",
       "      <th>1247</th>\n",
       "      <td>228075</td>\n",
       "      <td>932.0</td>\n",
       "      <td>Ярославль</td>\n",
       "      <td>М</td>\n",
       "      <td>NaN</td>\n",
       "      <td>5</td>\n",
       "      <td>7601719.20</td>\n",
       "      <td>2</td>\n",
       "      <td>1</td>\n",
       "      <td>1</td>\n",
       "      <td>408121.16</td>\n",
       "      <td>0</td>\n",
       "    </tr>\n",
       "    <tr>\n",
       "      <th>2165</th>\n",
       "      <td>187635</td>\n",
       "      <td>692.0</td>\n",
       "      <td>Рыбинск</td>\n",
       "      <td>Ж</td>\n",
       "      <td>NaN</td>\n",
       "      <td>0</td>\n",
       "      <td>NaN</td>\n",
       "      <td>1</td>\n",
       "      <td>1</td>\n",
       "      <td>1</td>\n",
       "      <td>160368.82</td>\n",
       "      <td>0</td>\n",
       "    </tr>\n",
       "    <tr>\n",
       "      <th>2444</th>\n",
       "      <td>221156</td>\n",
       "      <td>913.0</td>\n",
       "      <td>Ярославль</td>\n",
       "      <td>М</td>\n",
       "      <td>NaN</td>\n",
       "      <td>0</td>\n",
       "      <td>NaN</td>\n",
       "      <td>1</td>\n",
       "      <td>1</td>\n",
       "      <td>1</td>\n",
       "      <td>135693.24</td>\n",
       "      <td>0</td>\n",
       "    </tr>\n",
       "    <tr>\n",
       "      <th>3091</th>\n",
       "      <td>138660</td>\n",
       "      <td>836.0</td>\n",
       "      <td>Ростов</td>\n",
       "      <td>Ж</td>\n",
       "      <td>NaN</td>\n",
       "      <td>5</td>\n",
       "      <td>294315.53</td>\n",
       "      <td>2</td>\n",
       "      <td>0</td>\n",
       "      <td>1</td>\n",
       "      <td>63310.22</td>\n",
       "      <td>1</td>\n",
       "    </tr>\n",
       "    <tr>\n",
       "      <th>4912</th>\n",
       "      <td>210674</td>\n",
       "      <td>834.0</td>\n",
       "      <td>Рыбинск</td>\n",
       "      <td>М</td>\n",
       "      <td>NaN</td>\n",
       "      <td>1</td>\n",
       "      <td>238330.52</td>\n",
       "      <td>2</td>\n",
       "      <td>0</td>\n",
       "      <td>1</td>\n",
       "      <td>93775.06</td>\n",
       "      <td>0</td>\n",
       "    </tr>\n",
       "    <tr>\n",
       "      <th>5470</th>\n",
       "      <td>218868</td>\n",
       "      <td>827.0</td>\n",
       "      <td>Рыбинск</td>\n",
       "      <td>Ж</td>\n",
       "      <td>NaN</td>\n",
       "      <td>4</td>\n",
       "      <td>448959.07</td>\n",
       "      <td>2</td>\n",
       "      <td>1</td>\n",
       "      <td>1</td>\n",
       "      <td>67835.95</td>\n",
       "      <td>0</td>\n",
       "    </tr>\n",
       "    <tr>\n",
       "      <th>5495</th>\n",
       "      <td>151662</td>\n",
       "      <td>884.0</td>\n",
       "      <td>Рыбинск</td>\n",
       "      <td>Ж</td>\n",
       "      <td>NaN</td>\n",
       "      <td>0</td>\n",
       "      <td>NaN</td>\n",
       "      <td>1</td>\n",
       "      <td>1</td>\n",
       "      <td>1</td>\n",
       "      <td>137500.77</td>\n",
       "      <td>0</td>\n",
       "    </tr>\n",
       "    <tr>\n",
       "      <th>7236</th>\n",
       "      <td>210135</td>\n",
       "      <td>908.0</td>\n",
       "      <td>Рыбинск</td>\n",
       "      <td>Ж</td>\n",
       "      <td>NaN</td>\n",
       "      <td>4</td>\n",
       "      <td>1120340.31</td>\n",
       "      <td>3</td>\n",
       "      <td>1</td>\n",
       "      <td>1</td>\n",
       "      <td>85002.15</td>\n",
       "      <td>0</td>\n",
       "    </tr>\n",
       "    <tr>\n",
       "      <th>7248</th>\n",
       "      <td>219343</td>\n",
       "      <td>920.0</td>\n",
       "      <td>Рыбинск</td>\n",
       "      <td>Ж</td>\n",
       "      <td>NaN</td>\n",
       "      <td>0</td>\n",
       "      <td>NaN</td>\n",
       "      <td>1</td>\n",
       "      <td>1</td>\n",
       "      <td>0</td>\n",
       "      <td>159248.67</td>\n",
       "      <td>0</td>\n",
       "    </tr>\n",
       "    <tr>\n",
       "      <th>7345</th>\n",
       "      <td>184913</td>\n",
       "      <td>829.0</td>\n",
       "      <td>Ярославль</td>\n",
       "      <td>Ж</td>\n",
       "      <td>NaN</td>\n",
       "      <td>3</td>\n",
       "      <td>188648.77</td>\n",
       "      <td>2</td>\n",
       "      <td>0</td>\n",
       "      <td>1</td>\n",
       "      <td>75206.90</td>\n",
       "      <td>0</td>\n",
       "    </tr>\n",
       "    <tr>\n",
       "      <th>7409</th>\n",
       "      <td>214031</td>\n",
       "      <td>777.0</td>\n",
       "      <td>Ярославль</td>\n",
       "      <td>М</td>\n",
       "      <td>NaN</td>\n",
       "      <td>2</td>\n",
       "      <td>171510.23</td>\n",
       "      <td>1</td>\n",
       "      <td>1</td>\n",
       "      <td>1</td>\n",
       "      <td>75409.63</td>\n",
       "      <td>0</td>\n",
       "    </tr>\n",
       "    <tr>\n",
       "      <th>8015</th>\n",
       "      <td>198635</td>\n",
       "      <td>670.0</td>\n",
       "      <td>Ярославль</td>\n",
       "      <td>Ж</td>\n",
       "      <td>NaN</td>\n",
       "      <td>0</td>\n",
       "      <td>NaN</td>\n",
       "      <td>1</td>\n",
       "      <td>1</td>\n",
       "      <td>1</td>\n",
       "      <td>168699.33</td>\n",
       "      <td>0</td>\n",
       "    </tr>\n",
       "    <tr>\n",
       "      <th>8070</th>\n",
       "      <td>226550</td>\n",
       "      <td>940.0</td>\n",
       "      <td>Рыбинск</td>\n",
       "      <td>М</td>\n",
       "      <td>NaN</td>\n",
       "      <td>0</td>\n",
       "      <td>NaN</td>\n",
       "      <td>1</td>\n",
       "      <td>0</td>\n",
       "      <td>1</td>\n",
       "      <td>147696.95</td>\n",
       "      <td>0</td>\n",
       "    </tr>\n",
       "    <tr>\n",
       "      <th>8293</th>\n",
       "      <td>216848</td>\n",
       "      <td>930.0</td>\n",
       "      <td>Ярославль</td>\n",
       "      <td>М</td>\n",
       "      <td>NaN</td>\n",
       "      <td>0</td>\n",
       "      <td>NaN</td>\n",
       "      <td>1</td>\n",
       "      <td>1</td>\n",
       "      <td>1</td>\n",
       "      <td>199542.51</td>\n",
       "      <td>0</td>\n",
       "    </tr>\n",
       "    <tr>\n",
       "      <th>8385</th>\n",
       "      <td>206759</td>\n",
       "      <td>915.0</td>\n",
       "      <td>Рыбинск</td>\n",
       "      <td>М</td>\n",
       "      <td>NaN</td>\n",
       "      <td>0</td>\n",
       "      <td>NaN</td>\n",
       "      <td>1</td>\n",
       "      <td>1</td>\n",
       "      <td>0</td>\n",
       "      <td>71179.53</td>\n",
       "      <td>0</td>\n",
       "    </tr>\n",
       "    <tr>\n",
       "      <th>8449</th>\n",
       "      <td>210898</td>\n",
       "      <td>805.0</td>\n",
       "      <td>Ярославль</td>\n",
       "      <td>Ж</td>\n",
       "      <td>NaN</td>\n",
       "      <td>0</td>\n",
       "      <td>NaN</td>\n",
       "      <td>1</td>\n",
       "      <td>0</td>\n",
       "      <td>1</td>\n",
       "      <td>922080.25</td>\n",
       "      <td>0</td>\n",
       "    </tr>\n",
       "    <tr>\n",
       "      <th>8632</th>\n",
       "      <td>221197</td>\n",
       "      <td>893.0</td>\n",
       "      <td>Ярославль</td>\n",
       "      <td>М</td>\n",
       "      <td>NaN</td>\n",
       "      <td>0</td>\n",
       "      <td>NaN</td>\n",
       "      <td>1</td>\n",
       "      <td>1</td>\n",
       "      <td>0</td>\n",
       "      <td>173929.92</td>\n",
       "      <td>0</td>\n",
       "    </tr>\n",
       "    <tr>\n",
       "      <th>8785</th>\n",
       "      <td>127440</td>\n",
       "      <td>663.0</td>\n",
       "      <td>Ярославль</td>\n",
       "      <td>М</td>\n",
       "      <td>NaN</td>\n",
       "      <td>0</td>\n",
       "      <td>NaN</td>\n",
       "      <td>1</td>\n",
       "      <td>1</td>\n",
       "      <td>1</td>\n",
       "      <td>117197.56</td>\n",
       "      <td>0</td>\n",
       "    </tr>\n",
       "    <tr>\n",
       "      <th>9104</th>\n",
       "      <td>222480</td>\n",
       "      <td>776.0</td>\n",
       "      <td>Рыбинск</td>\n",
       "      <td>Ж</td>\n",
       "      <td>NaN</td>\n",
       "      <td>5</td>\n",
       "      <td>796735.09</td>\n",
       "      <td>1</td>\n",
       "      <td>1</td>\n",
       "      <td>1</td>\n",
       "      <td>55073.63</td>\n",
       "      <td>0</td>\n",
       "    </tr>\n",
       "    <tr>\n",
       "      <th>9301</th>\n",
       "      <td>202983</td>\n",
       "      <td>942.0</td>\n",
       "      <td>Рыбинск</td>\n",
       "      <td>Ж</td>\n",
       "      <td>NaN</td>\n",
       "      <td>0</td>\n",
       "      <td>NaN</td>\n",
       "      <td>1</td>\n",
       "      <td>1</td>\n",
       "      <td>1</td>\n",
       "      <td>163804.73</td>\n",
       "      <td>0</td>\n",
       "    </tr>\n",
       "    <tr>\n",
       "      <th>9380</th>\n",
       "      <td>187459</td>\n",
       "      <td>894.0</td>\n",
       "      <td>Рыбинск</td>\n",
       "      <td>М</td>\n",
       "      <td>NaN</td>\n",
       "      <td>0</td>\n",
       "      <td>NaN</td>\n",
       "      <td>1</td>\n",
       "      <td>1</td>\n",
       "      <td>0</td>\n",
       "      <td>178012.28</td>\n",
       "      <td>0</td>\n",
       "    </tr>\n",
       "    <tr>\n",
       "      <th>9457</th>\n",
       "      <td>141945</td>\n",
       "      <td>929.0</td>\n",
       "      <td>Ярославль</td>\n",
       "      <td>М</td>\n",
       "      <td>NaN</td>\n",
       "      <td>0</td>\n",
       "      <td>NaN</td>\n",
       "      <td>1</td>\n",
       "      <td>1</td>\n",
       "      <td>0</td>\n",
       "      <td>381868.89</td>\n",
       "      <td>0</td>\n",
       "    </tr>\n",
       "    <tr>\n",
       "      <th>9632</th>\n",
       "      <td>185829</td>\n",
       "      <td>927.0</td>\n",
       "      <td>Ярославль</td>\n",
       "      <td>М</td>\n",
       "      <td>NaN</td>\n",
       "      <td>0</td>\n",
       "      <td>NaN</td>\n",
       "      <td>1</td>\n",
       "      <td>1</td>\n",
       "      <td>0</td>\n",
       "      <td>231254.86</td>\n",
       "      <td>0</td>\n",
       "    </tr>\n",
       "    <tr>\n",
       "      <th>9634</th>\n",
       "      <td>221809</td>\n",
       "      <td>917.0</td>\n",
       "      <td>Ярославль</td>\n",
       "      <td>М</td>\n",
       "      <td>NaN</td>\n",
       "      <td>0</td>\n",
       "      <td>NaN</td>\n",
       "      <td>1</td>\n",
       "      <td>1</td>\n",
       "      <td>1</td>\n",
       "      <td>192644.15</td>\n",
       "      <td>0</td>\n",
       "    </tr>\n",
       "    <tr>\n",
       "      <th>9667</th>\n",
       "      <td>163657</td>\n",
       "      <td>849.0</td>\n",
       "      <td>Ярославль</td>\n",
       "      <td>М</td>\n",
       "      <td>NaN</td>\n",
       "      <td>4</td>\n",
       "      <td>1254013.85</td>\n",
       "      <td>2</td>\n",
       "      <td>1</td>\n",
       "      <td>1</td>\n",
       "      <td>119106.67</td>\n",
       "      <td>0</td>\n",
       "    </tr>\n",
       "    <tr>\n",
       "      <th>9819</th>\n",
       "      <td>140934</td>\n",
       "      <td>832.0</td>\n",
       "      <td>Рыбинск</td>\n",
       "      <td>Ж</td>\n",
       "      <td>NaN</td>\n",
       "      <td>3</td>\n",
       "      <td>385763.16</td>\n",
       "      <td>2</td>\n",
       "      <td>0</td>\n",
       "      <td>1</td>\n",
       "      <td>59651.35</td>\n",
       "      <td>0</td>\n",
       "    </tr>\n",
       "  </tbody>\n",
       "</table>\n",
       "</div>"
      ],
      "text/plain": [
       "      user_id  score       city gender  age  equity     balance  products  \\\n",
       "1247   228075  932.0  Ярославль      М  NaN       5  7601719.20         2   \n",
       "2165   187635  692.0    Рыбинск      Ж  NaN       0         NaN         1   \n",
       "2444   221156  913.0  Ярославль      М  NaN       0         NaN         1   \n",
       "3091   138660  836.0     Ростов      Ж  NaN       5   294315.53         2   \n",
       "4912   210674  834.0    Рыбинск      М  NaN       1   238330.52         2   \n",
       "5470   218868  827.0    Рыбинск      Ж  NaN       4   448959.07         2   \n",
       "5495   151662  884.0    Рыбинск      Ж  NaN       0         NaN         1   \n",
       "7236   210135  908.0    Рыбинск      Ж  NaN       4  1120340.31         3   \n",
       "7248   219343  920.0    Рыбинск      Ж  NaN       0         NaN         1   \n",
       "7345   184913  829.0  Ярославль      Ж  NaN       3   188648.77         2   \n",
       "7409   214031  777.0  Ярославль      М  NaN       2   171510.23         1   \n",
       "8015   198635  670.0  Ярославль      Ж  NaN       0         NaN         1   \n",
       "8070   226550  940.0    Рыбинск      М  NaN       0         NaN         1   \n",
       "8293   216848  930.0  Ярославль      М  NaN       0         NaN         1   \n",
       "8385   206759  915.0    Рыбинск      М  NaN       0         NaN         1   \n",
       "8449   210898  805.0  Ярославль      Ж  NaN       0         NaN         1   \n",
       "8632   221197  893.0  Ярославль      М  NaN       0         NaN         1   \n",
       "8785   127440  663.0  Ярославль      М  NaN       0         NaN         1   \n",
       "9104   222480  776.0    Рыбинск      Ж  NaN       5   796735.09         1   \n",
       "9301   202983  942.0    Рыбинск      Ж  NaN       0         NaN         1   \n",
       "9380   187459  894.0    Рыбинск      М  NaN       0         NaN         1   \n",
       "9457   141945  929.0  Ярославль      М  NaN       0         NaN         1   \n",
       "9632   185829  927.0  Ярославль      М  NaN       0         NaN         1   \n",
       "9634   221809  917.0  Ярославль      М  NaN       0         NaN         1   \n",
       "9667   163657  849.0  Ярославль      М  NaN       4  1254013.85         2   \n",
       "9819   140934  832.0    Рыбинск      Ж  NaN       3   385763.16         2   \n",
       "\n",
       "      credit_card  last_activity  est_salary  churn  \n",
       "1247            1              1   408121.16      0  \n",
       "2165            1              1   160368.82      0  \n",
       "2444            1              1   135693.24      0  \n",
       "3091            0              1    63310.22      1  \n",
       "4912            0              1    93775.06      0  \n",
       "5470            1              1    67835.95      0  \n",
       "5495            1              1   137500.77      0  \n",
       "7236            1              1    85002.15      0  \n",
       "7248            1              0   159248.67      0  \n",
       "7345            0              1    75206.90      0  \n",
       "7409            1              1    75409.63      0  \n",
       "8015            1              1   168699.33      0  \n",
       "8070            0              1   147696.95      0  \n",
       "8293            1              1   199542.51      0  \n",
       "8385            1              0    71179.53      0  \n",
       "8449            0              1   922080.25      0  \n",
       "8632            1              0   173929.92      0  \n",
       "8785            1              1   117197.56      0  \n",
       "9104            1              1    55073.63      0  \n",
       "9301            1              1   163804.73      0  \n",
       "9380            1              0   178012.28      0  \n",
       "9457            1              0   381868.89      0  \n",
       "9632            1              0   231254.86      0  \n",
       "9634            1              1   192644.15      0  \n",
       "9667            1              1   119106.67      0  \n",
       "9819            0              1    59651.35      0  "
      ]
     },
     "metadata": {},
     "output_type": "display_data"
    }
   ],
   "source": [
    "display(df[df['age'].isna()])"
   ]
  },
  {
   "cell_type": "markdown",
   "id": "33143c41",
   "metadata": {},
   "source": [
    "В данных строках нет какой-то систематической ошибки и пропуски не зависят от других переменных, также данных пропусков очень мало. Я думаю, что мы имеем право удалить данные строки без последствий для анализа."
   ]
  },
  {
   "cell_type": "code",
   "execution_count": 13,
   "id": "820e5223",
   "metadata": {},
   "outputs": [
    {
     "data": {
      "text/plain": [
       "0"
      ]
     },
     "execution_count": 13,
     "metadata": {},
     "output_type": "execute_result"
    }
   ],
   "source": [
    "df = df.dropna(subset = ['age']).reset_index(drop=True)\n",
    "df['age'].isna().sum()"
   ]
  },
  {
   "cell_type": "markdown",
   "id": "17bef17b",
   "metadata": {},
   "source": [
    "Теперь рассмотрим столбец `balance`"
   ]
  },
  {
   "cell_type": "markdown",
   "id": "85b8e71f",
   "metadata": {},
   "source": [
    "В данном случае пропусков много (22,95%), данный столбец содержит числа, но мы не можем заменять пропуски на среднюю или медиану, так как при исследовании придется убирать эти столбцы из-за искажения результата. Для того, чтобы корректно поступить, нужно исследовать от чего они возникли."
   ]
  },
  {
   "cell_type": "markdown",
   "id": "ecf48629",
   "metadata": {},
   "source": [
    "Сравним средние клиентов с пропусками и клиентов без пропусков\n"
   ]
  },
  {
   "cell_type": "code",
   "execution_count": 49,
   "id": "364dfb8d",
   "metadata": {},
   "outputs": [
    {
     "data": {
      "text/plain": [
       "user_id          171710.892268\n",
       "score               843.744120\n",
       "age                  42.924366\n",
       "equity                3.394802\n",
       "balance          827245.587515\n",
       "products              2.081222\n",
       "credit_card           0.640156\n",
       "last_activity         0.515140\n",
       "est_salary       124520.394264\n",
       "churn                 0.234698\n",
       "Ростов                0.153476\n",
       "Рыбинск               0.272515\n",
       "Ярославль             0.574009\n",
       "female                0.516699\n",
       "male                  0.483301\n",
       "dtype: float64"
      ]
     },
     "metadata": {},
     "output_type": "display_data"
    }
   ],
   "source": [
    "display(df.query(\"balance == balance\", engine='python').mean())\n",
    "warnings.filterwarnings(\"ignore\")"
   ]
  },
  {
   "cell_type": "code",
   "execution_count": 50,
   "id": "de798aea",
   "metadata": {},
   "outputs": [],
   "source": [
    "df[df['balance'].isna()].mean()\n",
    "warnings.filterwarnings(\"ignore\")"
   ]
  },
  {
   "cell_type": "markdown",
   "id": "8fe2c934",
   "metadata": {},
   "source": [
    "Сравнили средние по каждому столбцу, среди тех кто не имеет пропусков и среди тех, кто имеет пропуски. Получили следующее:\n",
    "- `score` выше у тех, у кого пропущен баланс на 2%\n",
    "- `age` одинаковый\n",
    "- `equity` выше у тех, что без пропусков в 66 раз\n",
    "- `products` выше у тех, что без пропусков \n",
    "- `est_salary` выше у тех, кто имеет пропуски на 81%\n",
    "\n",
    "Таким образом, клиенты с пропущенными значениями имеют более высокую среднюю зарплату и имеют очень маленькое количество баллов собственности по сравнению с теми клиентами, которые не имеют пропущенные значения в балансе. Поскольку пропуски относятся к определенной группе людей, то мы можем заменить их на средний баланс по данной группе."
   ]
  },
  {
   "cell_type": "code",
   "execution_count": 16,
   "id": "3b572937",
   "metadata": {},
   "outputs": [],
   "source": [
    "old_balance = df.balance.copy()"
   ]
  },
  {
   "cell_type": "code",
   "execution_count": 17,
   "id": "604eec20",
   "metadata": {},
   "outputs": [
    {
     "data": {
      "text/html": [
       "<div>\n",
       "<style scoped>\n",
       "    .dataframe tbody tr th:only-of-type {\n",
       "        vertical-align: middle;\n",
       "    }\n",
       "\n",
       "    .dataframe tbody tr th {\n",
       "        vertical-align: top;\n",
       "    }\n",
       "\n",
       "    .dataframe thead th {\n",
       "        text-align: right;\n",
       "    }\n",
       "</style>\n",
       "<table border=\"1\" class=\"dataframe\">\n",
       "  <thead>\n",
       "    <tr style=\"text-align: right;\">\n",
       "      <th></th>\n",
       "      <th>user_id</th>\n",
       "      <th>score</th>\n",
       "      <th>city</th>\n",
       "      <th>gender</th>\n",
       "      <th>age</th>\n",
       "      <th>equity</th>\n",
       "      <th>balance</th>\n",
       "      <th>products</th>\n",
       "      <th>credit_card</th>\n",
       "      <th>last_activity</th>\n",
       "      <th>est_salary</th>\n",
       "      <th>churn</th>\n",
       "    </tr>\n",
       "  </thead>\n",
       "  <tbody>\n",
       "    <tr>\n",
       "      <th>2</th>\n",
       "      <td>120722</td>\n",
       "      <td>892.0</td>\n",
       "      <td>Рыбинск</td>\n",
       "      <td>Ж</td>\n",
       "      <td>30.0</td>\n",
       "      <td>0</td>\n",
       "      <td>NaN</td>\n",
       "      <td>1</td>\n",
       "      <td>1</td>\n",
       "      <td>1</td>\n",
       "      <td>107683.34</td>\n",
       "      <td>0</td>\n",
       "    </tr>\n",
       "    <tr>\n",
       "      <th>9</th>\n",
       "      <td>133130</td>\n",
       "      <td>906.0</td>\n",
       "      <td>Ярославль</td>\n",
       "      <td>Ж</td>\n",
       "      <td>67.0</td>\n",
       "      <td>0</td>\n",
       "      <td>NaN</td>\n",
       "      <td>1</td>\n",
       "      <td>0</td>\n",
       "      <td>1</td>\n",
       "      <td>238055.53</td>\n",
       "      <td>0</td>\n",
       "    </tr>\n",
       "    <tr>\n",
       "      <th>10</th>\n",
       "      <td>148929</td>\n",
       "      <td>927.0</td>\n",
       "      <td>Ростов</td>\n",
       "      <td>М</td>\n",
       "      <td>52.0</td>\n",
       "      <td>0</td>\n",
       "      <td>NaN</td>\n",
       "      <td>1</td>\n",
       "      <td>1</td>\n",
       "      <td>1</td>\n",
       "      <td>196820.07</td>\n",
       "      <td>0</td>\n",
       "    </tr>\n",
       "    <tr>\n",
       "      <th>11</th>\n",
       "      <td>172184</td>\n",
       "      <td>921.0</td>\n",
       "      <td>Ростов</td>\n",
       "      <td>М</td>\n",
       "      <td>41.0</td>\n",
       "      <td>0</td>\n",
       "      <td>NaN</td>\n",
       "      <td>1</td>\n",
       "      <td>1</td>\n",
       "      <td>1</td>\n",
       "      <td>217469.48</td>\n",
       "      <td>0</td>\n",
       "    </tr>\n",
       "    <tr>\n",
       "      <th>19</th>\n",
       "      <td>127034</td>\n",
       "      <td>922.0</td>\n",
       "      <td>Рыбинск</td>\n",
       "      <td>Ж</td>\n",
       "      <td>53.0</td>\n",
       "      <td>0</td>\n",
       "      <td>NaN</td>\n",
       "      <td>1</td>\n",
       "      <td>0</td>\n",
       "      <td>0</td>\n",
       "      <td>147094.82</td>\n",
       "      <td>0</td>\n",
       "    </tr>\n",
       "    <tr>\n",
       "      <th>...</th>\n",
       "      <td>...</td>\n",
       "      <td>...</td>\n",
       "      <td>...</td>\n",
       "      <td>...</td>\n",
       "      <td>...</td>\n",
       "      <td>...</td>\n",
       "      <td>...</td>\n",
       "      <td>...</td>\n",
       "      <td>...</td>\n",
       "      <td>...</td>\n",
       "      <td>...</td>\n",
       "      <td>...</td>\n",
       "    </tr>\n",
       "    <tr>\n",
       "      <th>9950</th>\n",
       "      <td>208085</td>\n",
       "      <td>876.0</td>\n",
       "      <td>Ростов</td>\n",
       "      <td>М</td>\n",
       "      <td>38.0</td>\n",
       "      <td>0</td>\n",
       "      <td>NaN</td>\n",
       "      <td>1</td>\n",
       "      <td>0</td>\n",
       "      <td>0</td>\n",
       "      <td>171763.69</td>\n",
       "      <td>0</td>\n",
       "    </tr>\n",
       "    <tr>\n",
       "      <th>9958</th>\n",
       "      <td>125941</td>\n",
       "      <td>729.0</td>\n",
       "      <td>Ярославль</td>\n",
       "      <td>Ж</td>\n",
       "      <td>42.0</td>\n",
       "      <td>0</td>\n",
       "      <td>NaN</td>\n",
       "      <td>1</td>\n",
       "      <td>1</td>\n",
       "      <td>1</td>\n",
       "      <td>687538.70</td>\n",
       "      <td>0</td>\n",
       "    </tr>\n",
       "    <tr>\n",
       "      <th>9967</th>\n",
       "      <td>219924</td>\n",
       "      <td>884.0</td>\n",
       "      <td>Рыбинск</td>\n",
       "      <td>Ж</td>\n",
       "      <td>36.0</td>\n",
       "      <td>0</td>\n",
       "      <td>NaN</td>\n",
       "      <td>1</td>\n",
       "      <td>1</td>\n",
       "      <td>1</td>\n",
       "      <td>169844.88</td>\n",
       "      <td>0</td>\n",
       "    </tr>\n",
       "    <tr>\n",
       "      <th>9970</th>\n",
       "      <td>139170</td>\n",
       "      <td>894.0</td>\n",
       "      <td>Ярославль</td>\n",
       "      <td>М</td>\n",
       "      <td>46.0</td>\n",
       "      <td>0</td>\n",
       "      <td>NaN</td>\n",
       "      <td>1</td>\n",
       "      <td>1</td>\n",
       "      <td>0</td>\n",
       "      <td>196898.29</td>\n",
       "      <td>0</td>\n",
       "    </tr>\n",
       "    <tr>\n",
       "      <th>9971</th>\n",
       "      <td>115639</td>\n",
       "      <td>903.0</td>\n",
       "      <td>Ярославль</td>\n",
       "      <td>М</td>\n",
       "      <td>24.0</td>\n",
       "      <td>0</td>\n",
       "      <td>NaN</td>\n",
       "      <td>2</td>\n",
       "      <td>1</td>\n",
       "      <td>1</td>\n",
       "      <td>108905.09</td>\n",
       "      <td>0</td>\n",
       "    </tr>\n",
       "  </tbody>\n",
       "</table>\n",
       "<p>2279 rows × 12 columns</p>\n",
       "</div>"
      ],
      "text/plain": [
       "      user_id  score       city gender   age  equity  balance  products  \\\n",
       "2      120722  892.0    Рыбинск      Ж  30.0       0      NaN         1   \n",
       "9      133130  906.0  Ярославль      Ж  67.0       0      NaN         1   \n",
       "10     148929  927.0     Ростов      М  52.0       0      NaN         1   \n",
       "11     172184  921.0     Ростов      М  41.0       0      NaN         1   \n",
       "19     127034  922.0    Рыбинск      Ж  53.0       0      NaN         1   \n",
       "...       ...    ...        ...    ...   ...     ...      ...       ...   \n",
       "9950   208085  876.0     Ростов      М  38.0       0      NaN         1   \n",
       "9958   125941  729.0  Ярославль      Ж  42.0       0      NaN         1   \n",
       "9967   219924  884.0    Рыбинск      Ж  36.0       0      NaN         1   \n",
       "9970   139170  894.0  Ярославль      М  46.0       0      NaN         1   \n",
       "9971   115639  903.0  Ярославль      М  24.0       0      NaN         2   \n",
       "\n",
       "      credit_card  last_activity  est_salary  churn  \n",
       "2               1              1   107683.34      0  \n",
       "9               0              1   238055.53      0  \n",
       "10              1              1   196820.07      0  \n",
       "11              1              1   217469.48      0  \n",
       "19              0              0   147094.82      0  \n",
       "...           ...            ...         ...    ...  \n",
       "9950            0              0   171763.69      0  \n",
       "9958            1              1   687538.70      0  \n",
       "9967            1              1   169844.88      0  \n",
       "9970            1              0   196898.29      0  \n",
       "9971            1              1   108905.09      0  \n",
       "\n",
       "[2279 rows x 12 columns]"
      ]
     },
     "metadata": {},
     "output_type": "display_data"
    }
   ],
   "source": [
    "display(df[df['balance'].isna()])"
   ]
  },
  {
   "cell_type": "code",
   "execution_count": 18,
   "id": "3e73b58e",
   "metadata": {},
   "outputs": [
    {
     "name": "stdout",
     "output_type": "stream",
     "text": [
      "equity\n",
      "0    2164\n",
      "1     114\n",
      "2       0\n",
      "3       1\n",
      "4       0\n",
      "5       0\n",
      "6       0\n",
      "7       0\n",
      "8       0\n",
      "9       0\n",
      "Name: balance, dtype: int64\n"
     ]
    }
   ],
   "source": [
    "print(df.groupby('equity')['balance'].apply(lambda x: x.isna().sum()))"
   ]
  },
  {
   "cell_type": "markdown",
   "id": "56746fc5",
   "metadata": {},
   "source": [
    "Как можно увидеть, практически все пропуски в столбце `balance` содержат клиенты, у который 0 баллов собственности, если быть точнее то их 2164. Те у кого один балл собственности 114."
   ]
  },
  {
   "cell_type": "markdown",
   "id": "3bed5c97",
   "metadata": {},
   "source": [
    "Разобьем зарплаты клиентов на категории, и посмотрим на количество клиентов с пропусками в балансе в разрезе этих категорий."
   ]
  },
  {
   "cell_type": "code",
   "execution_count": 19,
   "id": "f9ac9b0a",
   "metadata": {},
   "outputs": [
    {
     "data": {
      "text/html": [
       "<div>\n",
       "<style scoped>\n",
       "    .dataframe tbody tr th:only-of-type {\n",
       "        vertical-align: middle;\n",
       "    }\n",
       "\n",
       "    .dataframe tbody tr th {\n",
       "        vertical-align: top;\n",
       "    }\n",
       "\n",
       "    .dataframe thead th {\n",
       "        text-align: right;\n",
       "    }\n",
       "</style>\n",
       "<table border=\"1\" class=\"dataframe\">\n",
       "  <thead>\n",
       "    <tr style=\"text-align: right;\">\n",
       "      <th></th>\n",
       "      <th>user_id</th>\n",
       "      <th>score</th>\n",
       "      <th>city</th>\n",
       "      <th>gender</th>\n",
       "      <th>age</th>\n",
       "      <th>equity</th>\n",
       "      <th>balance</th>\n",
       "      <th>products</th>\n",
       "      <th>credit_card</th>\n",
       "      <th>last_activity</th>\n",
       "      <th>est_salary</th>\n",
       "      <th>churn</th>\n",
       "      <th>est_salary_category</th>\n",
       "    </tr>\n",
       "  </thead>\n",
       "  <tbody>\n",
       "    <tr>\n",
       "      <th>0</th>\n",
       "      <td>183012</td>\n",
       "      <td>850.0</td>\n",
       "      <td>Рыбинск</td>\n",
       "      <td>Ж</td>\n",
       "      <td>25.0</td>\n",
       "      <td>1</td>\n",
       "      <td>59214.82</td>\n",
       "      <td>2</td>\n",
       "      <td>0</td>\n",
       "      <td>1</td>\n",
       "      <td>75719.14</td>\n",
       "      <td>1</td>\n",
       "      <td>A</td>\n",
       "    </tr>\n",
       "    <tr>\n",
       "      <th>1</th>\n",
       "      <td>146556</td>\n",
       "      <td>861.0</td>\n",
       "      <td>Рыбинск</td>\n",
       "      <td>Ж</td>\n",
       "      <td>37.0</td>\n",
       "      <td>5</td>\n",
       "      <td>850594.33</td>\n",
       "      <td>3</td>\n",
       "      <td>1</td>\n",
       "      <td>0</td>\n",
       "      <td>86621.77</td>\n",
       "      <td>0</td>\n",
       "      <td>A</td>\n",
       "    </tr>\n",
       "    <tr>\n",
       "      <th>2</th>\n",
       "      <td>120722</td>\n",
       "      <td>892.0</td>\n",
       "      <td>Рыбинск</td>\n",
       "      <td>Ж</td>\n",
       "      <td>30.0</td>\n",
       "      <td>0</td>\n",
       "      <td>NaN</td>\n",
       "      <td>1</td>\n",
       "      <td>1</td>\n",
       "      <td>1</td>\n",
       "      <td>107683.34</td>\n",
       "      <td>0</td>\n",
       "      <td>B</td>\n",
       "    </tr>\n",
       "    <tr>\n",
       "      <th>3</th>\n",
       "      <td>225363</td>\n",
       "      <td>866.0</td>\n",
       "      <td>Ярославль</td>\n",
       "      <td>Ж</td>\n",
       "      <td>51.0</td>\n",
       "      <td>5</td>\n",
       "      <td>1524746.26</td>\n",
       "      <td>2</td>\n",
       "      <td>0</td>\n",
       "      <td>1</td>\n",
       "      <td>174423.53</td>\n",
       "      <td>1</td>\n",
       "      <td>B</td>\n",
       "    </tr>\n",
       "    <tr>\n",
       "      <th>4</th>\n",
       "      <td>157978</td>\n",
       "      <td>730.0</td>\n",
       "      <td>Ярославль</td>\n",
       "      <td>М</td>\n",
       "      <td>34.0</td>\n",
       "      <td>5</td>\n",
       "      <td>174.00</td>\n",
       "      <td>1</td>\n",
       "      <td>1</td>\n",
       "      <td>0</td>\n",
       "      <td>67353.16</td>\n",
       "      <td>1</td>\n",
       "      <td>A</td>\n",
       "    </tr>\n",
       "    <tr>\n",
       "      <th>5</th>\n",
       "      <td>202305</td>\n",
       "      <td>856.0</td>\n",
       "      <td>Рыбинск</td>\n",
       "      <td>М</td>\n",
       "      <td>56.0</td>\n",
       "      <td>4</td>\n",
       "      <td>863687.24</td>\n",
       "      <td>3</td>\n",
       "      <td>1</td>\n",
       "      <td>0</td>\n",
       "      <td>156619.80</td>\n",
       "      <td>0</td>\n",
       "      <td>B</td>\n",
       "    </tr>\n",
       "    <tr>\n",
       "      <th>6</th>\n",
       "      <td>177259</td>\n",
       "      <td>807.0</td>\n",
       "      <td>Ярославль</td>\n",
       "      <td>Ж</td>\n",
       "      <td>39.0</td>\n",
       "      <td>3</td>\n",
       "      <td>405042.44</td>\n",
       "      <td>3</td>\n",
       "      <td>0</td>\n",
       "      <td>1</td>\n",
       "      <td>103838.32</td>\n",
       "      <td>0</td>\n",
       "      <td>B</td>\n",
       "    </tr>\n",
       "    <tr>\n",
       "      <th>7</th>\n",
       "      <td>218868</td>\n",
       "      <td>825.0</td>\n",
       "      <td>Ярославль</td>\n",
       "      <td>Ж</td>\n",
       "      <td>38.0</td>\n",
       "      <td>4</td>\n",
       "      <td>458145.40</td>\n",
       "      <td>2</td>\n",
       "      <td>1</td>\n",
       "      <td>1</td>\n",
       "      <td>68085.48</td>\n",
       "      <td>0</td>\n",
       "      <td>A</td>\n",
       "    </tr>\n",
       "    <tr>\n",
       "      <th>8</th>\n",
       "      <td>211686</td>\n",
       "      <td>923.0</td>\n",
       "      <td>Ярославль</td>\n",
       "      <td>М</td>\n",
       "      <td>54.0</td>\n",
       "      <td>5</td>\n",
       "      <td>1206337.87</td>\n",
       "      <td>2</td>\n",
       "      <td>1</td>\n",
       "      <td>0</td>\n",
       "      <td>155371.79</td>\n",
       "      <td>0</td>\n",
       "      <td>B</td>\n",
       "    </tr>\n",
       "    <tr>\n",
       "      <th>9</th>\n",
       "      <td>133130</td>\n",
       "      <td>906.0</td>\n",
       "      <td>Ярославль</td>\n",
       "      <td>Ж</td>\n",
       "      <td>67.0</td>\n",
       "      <td>0</td>\n",
       "      <td>NaN</td>\n",
       "      <td>1</td>\n",
       "      <td>0</td>\n",
       "      <td>1</td>\n",
       "      <td>238055.53</td>\n",
       "      <td>0</td>\n",
       "      <td>C</td>\n",
       "    </tr>\n",
       "  </tbody>\n",
       "</table>\n",
       "</div>"
      ],
      "text/plain": [
       "   user_id  score       city gender   age  equity     balance  products  \\\n",
       "0   183012  850.0    Рыбинск      Ж  25.0       1    59214.82         2   \n",
       "1   146556  861.0    Рыбинск      Ж  37.0       5   850594.33         3   \n",
       "2   120722  892.0    Рыбинск      Ж  30.0       0         NaN         1   \n",
       "3   225363  866.0  Ярославль      Ж  51.0       5  1524746.26         2   \n",
       "4   157978  730.0  Ярославль      М  34.0       5      174.00         1   \n",
       "5   202305  856.0    Рыбинск      М  56.0       4   863687.24         3   \n",
       "6   177259  807.0  Ярославль      Ж  39.0       3   405042.44         3   \n",
       "7   218868  825.0  Ярославль      Ж  38.0       4   458145.40         2   \n",
       "8   211686  923.0  Ярославль      М  54.0       5  1206337.87         2   \n",
       "9   133130  906.0  Ярославль      Ж  67.0       0         NaN         1   \n",
       "\n",
       "   credit_card  last_activity  est_salary  churn est_salary_category  \n",
       "0            0              1    75719.14      1                   A  \n",
       "1            1              0    86621.77      0                   A  \n",
       "2            1              1   107683.34      0                   B  \n",
       "3            0              1   174423.53      1                   B  \n",
       "4            1              0    67353.16      1                   A  \n",
       "5            1              0   156619.80      0                   B  \n",
       "6            0              1   103838.32      0                   B  \n",
       "7            1              1    68085.48      0                   A  \n",
       "8            1              0   155371.79      0                   B  \n",
       "9            0              1   238055.53      0                   C  "
      ]
     },
     "metadata": {},
     "output_type": "display_data"
    },
    {
     "name": "stdout",
     "output_type": "stream",
     "text": [
      "est_salary_category\n",
      "A     379\n",
      "B    1031\n",
      "C     523\n",
      "D     346\n",
      "Name: balance, dtype: int64\n"
     ]
    }
   ],
   "source": [
    "def est_salary_category(est_salary):\n",
    "    if 0 < est_salary <= 100000:\n",
    "        return 'A'\n",
    "    if 100000 < est_salary <= 200000:\n",
    "        return 'B'\n",
    "    if 200000 < est_salary <= 300000:\n",
    "        return 'C'\n",
    "    if 300000 <= est_salary:\n",
    "        return 'D'   \n",
    "df['est_salary_category'] = df['est_salary'].apply(est_salary_category)\n",
    "display(df.head(10))\n",
    "print(df.groupby('est_salary_category')['balance'].apply(lambda x: x.isna().sum()))"
   ]
  },
  {
   "cell_type": "markdown",
   "id": "fbdb650d",
   "metadata": {},
   "source": [
    "Будем заменять пропуски средними в разрезе категорий по зарплате и баллам собственности."
   ]
  },
  {
   "cell_type": "code",
   "execution_count": 20,
   "id": "52988a19",
   "metadata": {},
   "outputs": [
    {
     "name": "stdout",
     "output_type": "stream",
     "text": [
      "est_salary_category\n",
      "A    5.676842e+05\n",
      "B    7.999352e+05\n",
      "C    1.292853e+06\n",
      "D    4.077234e+06\n",
      "Name: balance, dtype: float64\n"
     ]
    }
   ],
   "source": [
    "mean_by_group = df.groupby('est_salary_category')['balance'].mean()\n",
    "print(mean_by_group)"
   ]
  },
  {
   "cell_type": "markdown",
   "id": "75235a55",
   "metadata": {},
   "source": [
    "Теперь в датафрейме нет пропущенных значений, работа с ними закончена."
   ]
  },
  {
   "cell_type": "code",
   "execution_count": 21,
   "id": "62f045fb",
   "metadata": {},
   "outputs": [
    {
     "data": {
      "image/png": "[encoded data removed]",
      "text/plain": [
       "<Figure size 432x288 with 1 Axes>"
      ]
     },
     "metadata": {
      "needs_background": "light"
     },
     "output_type": "display_data"
    }
   ],
   "source": [
    "top, step = 3e6, 5e4\n",
    "bins = np.arange(0,top+step,step)\n",
    "\n",
    "groups_cols = ['est_salary_category','city','churn','products','gender','credit_card','equity','last_activity','age']\n",
    "old_balance = df.balance.copy()\n",
    "\n",
    "new_balance = df.balance.fillna(df.assign(age=df.age.round(-1)).groupby(groups_cols)['balance'].transform('mean'))\n",
    "\n",
    "new_balance.hist(bins=bins, color='r')\n",
    "old_balance.hist(bins=bins);"
   ]
  },
  {
   "cell_type": "markdown",
   "id": "250540cd",
   "metadata": {},
   "source": [
    "**5. Выбросы**"
   ]
  },
  {
   "cell_type": "code",
   "execution_count": 22,
   "id": "231a949d",
   "metadata": {},
   "outputs": [
    {
     "data": {
      "text/html": [
       "<div>\n",
       "<style scoped>\n",
       "    .dataframe tbody tr th:only-of-type {\n",
       "        vertical-align: middle;\n",
       "    }\n",
       "\n",
       "    .dataframe tbody tr th {\n",
       "        vertical-align: top;\n",
       "    }\n",
       "\n",
       "    .dataframe thead th {\n",
       "        text-align: right;\n",
       "    }\n",
       "</style>\n",
       "<table border=\"1\" class=\"dataframe\">\n",
       "  <thead>\n",
       "    <tr style=\"text-align: right;\">\n",
       "      <th></th>\n",
       "      <th>user_id</th>\n",
       "      <th>score</th>\n",
       "      <th>age</th>\n",
       "      <th>equity</th>\n",
       "      <th>balance</th>\n",
       "      <th>products</th>\n",
       "      <th>credit_card</th>\n",
       "      <th>last_activity</th>\n",
       "      <th>est_salary</th>\n",
       "      <th>churn</th>\n",
       "    </tr>\n",
       "  </thead>\n",
       "  <tbody>\n",
       "    <tr>\n",
       "      <th>count</th>\n",
       "      <td>9974.000000</td>\n",
       "      <td>9974.000000</td>\n",
       "      <td>9974.000000</td>\n",
       "      <td>9974.000000</td>\n",
       "      <td>7.695000e+03</td>\n",
       "      <td>9974.000000</td>\n",
       "      <td>9974.000000</td>\n",
       "      <td>9974.000000</td>\n",
       "      <td>9.974000e+03</td>\n",
       "      <td>9974.000000</td>\n",
       "    </tr>\n",
       "    <tr>\n",
       "      <th>mean</th>\n",
       "      <td>171755.218669</td>\n",
       "      <td>848.682575</td>\n",
       "      <td>42.734409</td>\n",
       "      <td>2.630840</td>\n",
       "      <td>8.272456e+05</td>\n",
       "      <td>1.871466</td>\n",
       "      <td>0.680168</td>\n",
       "      <td>0.522859</td>\n",
       "      <td>1.477868e+05</td>\n",
       "      <td>0.182374</td>\n",
       "    </tr>\n",
       "    <tr>\n",
       "      <th>std</th>\n",
       "      <td>33695.527126</td>\n",
       "      <td>65.399720</td>\n",
       "      <td>12.179971</td>\n",
       "      <td>1.979965</td>\n",
       "      <td>1.980327e+06</td>\n",
       "      <td>0.792729</td>\n",
       "      <td>0.466435</td>\n",
       "      <td>0.499502</td>\n",
       "      <td>1.392855e+05</td>\n",
       "      <td>0.386172</td>\n",
       "    </tr>\n",
       "    <tr>\n",
       "      <th>min</th>\n",
       "      <td>94561.000000</td>\n",
       "      <td>642.000000</td>\n",
       "      <td>18.000000</td>\n",
       "      <td>0.000000</td>\n",
       "      <td>0.000000e+00</td>\n",
       "      <td>0.000000</td>\n",
       "      <td>0.000000</td>\n",
       "      <td>0.000000</td>\n",
       "      <td>2.546300e+03</td>\n",
       "      <td>0.000000</td>\n",
       "    </tr>\n",
       "    <tr>\n",
       "      <th>25%</th>\n",
       "      <td>142760.000000</td>\n",
       "      <td>802.000000</td>\n",
       "      <td>33.000000</td>\n",
       "      <td>0.000000</td>\n",
       "      <td>2.956987e+05</td>\n",
       "      <td>1.000000</td>\n",
       "      <td>0.000000</td>\n",
       "      <td>0.000000</td>\n",
       "      <td>7.525166e+04</td>\n",
       "      <td>0.000000</td>\n",
       "    </tr>\n",
       "    <tr>\n",
       "      <th>50%</th>\n",
       "      <td>172643.000000</td>\n",
       "      <td>853.000000</td>\n",
       "      <td>40.000000</td>\n",
       "      <td>3.000000</td>\n",
       "      <td>5.242953e+05</td>\n",
       "      <td>2.000000</td>\n",
       "      <td>1.000000</td>\n",
       "      <td>1.000000</td>\n",
       "      <td>1.196268e+05</td>\n",
       "      <td>0.000000</td>\n",
       "    </tr>\n",
       "    <tr>\n",
       "      <th>75%</th>\n",
       "      <td>201163.750000</td>\n",
       "      <td>900.000000</td>\n",
       "      <td>51.000000</td>\n",
       "      <td>4.000000</td>\n",
       "      <td>9.800512e+05</td>\n",
       "      <td>2.000000</td>\n",
       "      <td>1.000000</td>\n",
       "      <td>1.000000</td>\n",
       "      <td>1.744998e+05</td>\n",
       "      <td>0.000000</td>\n",
       "    </tr>\n",
       "    <tr>\n",
       "      <th>max</th>\n",
       "      <td>229145.000000</td>\n",
       "      <td>1000.000000</td>\n",
       "      <td>86.000000</td>\n",
       "      <td>9.000000</td>\n",
       "      <td>1.191136e+08</td>\n",
       "      <td>5.000000</td>\n",
       "      <td>1.000000</td>\n",
       "      <td>1.000000</td>\n",
       "      <td>1.395064e+06</td>\n",
       "      <td>1.000000</td>\n",
       "    </tr>\n",
       "  </tbody>\n",
       "</table>\n",
       "</div>"
      ],
      "text/plain": [
       "             user_id        score          age       equity       balance  \\\n",
       "count    9974.000000  9974.000000  9974.000000  9974.000000  7.695000e+03   \n",
       "mean   171755.218669   848.682575    42.734409     2.630840  8.272456e+05   \n",
       "std     33695.527126    65.399720    12.179971     1.979965  1.980327e+06   \n",
       "min     94561.000000   642.000000    18.000000     0.000000  0.000000e+00   \n",
       "25%    142760.000000   802.000000    33.000000     0.000000  2.956987e+05   \n",
       "50%    172643.000000   853.000000    40.000000     3.000000  5.242953e+05   \n",
       "75%    201163.750000   900.000000    51.000000     4.000000  9.800512e+05   \n",
       "max    229145.000000  1000.000000    86.000000     9.000000  1.191136e+08   \n",
       "\n",
       "          products  credit_card  last_activity    est_salary        churn  \n",
       "count  9974.000000  9974.000000    9974.000000  9.974000e+03  9974.000000  \n",
       "mean      1.871466     0.680168       0.522859  1.477868e+05     0.182374  \n",
       "std       0.792729     0.466435       0.499502  1.392855e+05     0.386172  \n",
       "min       0.000000     0.000000       0.000000  2.546300e+03     0.000000  \n",
       "25%       1.000000     0.000000       0.000000  7.525166e+04     0.000000  \n",
       "50%       2.000000     1.000000       1.000000  1.196268e+05     0.000000  \n",
       "75%       2.000000     1.000000       1.000000  1.744998e+05     0.000000  \n",
       "max       5.000000     1.000000       1.000000  1.395064e+06     1.000000  "
      ]
     },
     "execution_count": 22,
     "metadata": {},
     "output_type": "execute_result"
    }
   ],
   "source": [
    "df.describe()"
   ]
  },
  {
   "cell_type": "markdown",
   "id": "d6e1417c",
   "metadata": {},
   "source": [
    "Все данные выглядят нормально, поэтому ничего изменять не будем"
   ]
  },
  {
   "cell_type": "markdown",
   "id": "378b23cd",
   "metadata": {},
   "source": [
    "**6. Кодирование столбцов `gender` и `city`**"
   ]
  },
  {
   "cell_type": "code",
   "execution_count": 23,
   "id": "601e81fc",
   "metadata": {},
   "outputs": [
    {
     "data": {
      "text/html": [
       "<div>\n",
       "<style scoped>\n",
       "    .dataframe tbody tr th:only-of-type {\n",
       "        vertical-align: middle;\n",
       "    }\n",
       "\n",
       "    .dataframe tbody tr th {\n",
       "        vertical-align: top;\n",
       "    }\n",
       "\n",
       "    .dataframe thead th {\n",
       "        text-align: right;\n",
       "    }\n",
       "</style>\n",
       "<table border=\"1\" class=\"dataframe\">\n",
       "  <thead>\n",
       "    <tr style=\"text-align: right;\">\n",
       "      <th></th>\n",
       "      <th>user_id</th>\n",
       "      <th>score</th>\n",
       "      <th>city</th>\n",
       "      <th>gender</th>\n",
       "      <th>age</th>\n",
       "      <th>equity</th>\n",
       "      <th>balance</th>\n",
       "      <th>products</th>\n",
       "      <th>credit_card</th>\n",
       "      <th>last_activity</th>\n",
       "      <th>est_salary</th>\n",
       "      <th>churn</th>\n",
       "      <th>est_salary_category</th>\n",
       "      <th>cit_Ростов</th>\n",
       "      <th>cit_Рыбинск</th>\n",
       "      <th>cit_Ярославль</th>\n",
       "      <th>gen_Ж</th>\n",
       "      <th>gen_М</th>\n",
       "    </tr>\n",
       "  </thead>\n",
       "  <tbody>\n",
       "    <tr>\n",
       "      <th>0</th>\n",
       "      <td>183012</td>\n",
       "      <td>850.0</td>\n",
       "      <td>Рыбинск</td>\n",
       "      <td>Ж</td>\n",
       "      <td>25.0</td>\n",
       "      <td>1</td>\n",
       "      <td>59214.82</td>\n",
       "      <td>2</td>\n",
       "      <td>0</td>\n",
       "      <td>1</td>\n",
       "      <td>75719.14</td>\n",
       "      <td>1</td>\n",
       "      <td>A</td>\n",
       "      <td>0</td>\n",
       "      <td>1</td>\n",
       "      <td>0</td>\n",
       "      <td>1</td>\n",
       "      <td>0</td>\n",
       "    </tr>\n",
       "    <tr>\n",
       "      <th>1</th>\n",
       "      <td>146556</td>\n",
       "      <td>861.0</td>\n",
       "      <td>Рыбинск</td>\n",
       "      <td>Ж</td>\n",
       "      <td>37.0</td>\n",
       "      <td>5</td>\n",
       "      <td>850594.33</td>\n",
       "      <td>3</td>\n",
       "      <td>1</td>\n",
       "      <td>0</td>\n",
       "      <td>86621.77</td>\n",
       "      <td>0</td>\n",
       "      <td>A</td>\n",
       "      <td>0</td>\n",
       "      <td>1</td>\n",
       "      <td>0</td>\n",
       "      <td>1</td>\n",
       "      <td>0</td>\n",
       "    </tr>\n",
       "    <tr>\n",
       "      <th>2</th>\n",
       "      <td>120722</td>\n",
       "      <td>892.0</td>\n",
       "      <td>Рыбинск</td>\n",
       "      <td>Ж</td>\n",
       "      <td>30.0</td>\n",
       "      <td>0</td>\n",
       "      <td>NaN</td>\n",
       "      <td>1</td>\n",
       "      <td>1</td>\n",
       "      <td>1</td>\n",
       "      <td>107683.34</td>\n",
       "      <td>0</td>\n",
       "      <td>B</td>\n",
       "      <td>0</td>\n",
       "      <td>1</td>\n",
       "      <td>0</td>\n",
       "      <td>1</td>\n",
       "      <td>0</td>\n",
       "    </tr>\n",
       "    <tr>\n",
       "      <th>3</th>\n",
       "      <td>225363</td>\n",
       "      <td>866.0</td>\n",
       "      <td>Ярославль</td>\n",
       "      <td>Ж</td>\n",
       "      <td>51.0</td>\n",
       "      <td>5</td>\n",
       "      <td>1524746.26</td>\n",
       "      <td>2</td>\n",
       "      <td>0</td>\n",
       "      <td>1</td>\n",
       "      <td>174423.53</td>\n",
       "      <td>1</td>\n",
       "      <td>B</td>\n",
       "      <td>0</td>\n",
       "      <td>0</td>\n",
       "      <td>1</td>\n",
       "      <td>1</td>\n",
       "      <td>0</td>\n",
       "    </tr>\n",
       "    <tr>\n",
       "      <th>4</th>\n",
       "      <td>157978</td>\n",
       "      <td>730.0</td>\n",
       "      <td>Ярославль</td>\n",
       "      <td>М</td>\n",
       "      <td>34.0</td>\n",
       "      <td>5</td>\n",
       "      <td>174.00</td>\n",
       "      <td>1</td>\n",
       "      <td>1</td>\n",
       "      <td>0</td>\n",
       "      <td>67353.16</td>\n",
       "      <td>1</td>\n",
       "      <td>A</td>\n",
       "      <td>0</td>\n",
       "      <td>0</td>\n",
       "      <td>1</td>\n",
       "      <td>0</td>\n",
       "      <td>1</td>\n",
       "    </tr>\n",
       "  </tbody>\n",
       "</table>\n",
       "</div>"
      ],
      "text/plain": [
       "   user_id  score       city gender   age  equity     balance  products  \\\n",
       "0   183012  850.0    Рыбинск      Ж  25.0       1    59214.82         2   \n",
       "1   146556  861.0    Рыбинск      Ж  37.0       5   850594.33         3   \n",
       "2   120722  892.0    Рыбинск      Ж  30.0       0         NaN         1   \n",
       "3   225363  866.0  Ярославль      Ж  51.0       5  1524746.26         2   \n",
       "4   157978  730.0  Ярославль      М  34.0       5      174.00         1   \n",
       "\n",
       "   credit_card  last_activity  est_salary  churn est_salary_category  \\\n",
       "0            0              1    75719.14      1                   A   \n",
       "1            1              0    86621.77      0                   A   \n",
       "2            1              1   107683.34      0                   B   \n",
       "3            0              1   174423.53      1                   B   \n",
       "4            1              0    67353.16      1                   A   \n",
       "\n",
       "   cit_Ростов  cit_Рыбинск  cit_Ярославль  gen_Ж  gen_М  \n",
       "0           0            1              0      1      0  \n",
       "1           0            1              0      1      0  \n",
       "2           0            1              0      1      0  \n",
       "3           0            0              1      1      0  \n",
       "4           0            0              1      0      1  "
      ]
     },
     "metadata": {},
     "output_type": "display_data"
    }
   ],
   "source": [
    "df['cit'] = df['city']\n",
    "df['gen'] = df['gender']\n",
    "df = pd.get_dummies(df, columns = ['cit','gen'])\n",
    "display(df.head())"
   ]
  },
  {
   "cell_type": "markdown",
   "id": "703eda1c",
   "metadata": {},
   "source": [
    "Переименуем новые столбцы, чтобы с ними было проще работать"
   ]
  },
  {
   "cell_type": "code",
   "execution_count": 24,
   "id": "4d043136",
   "metadata": {},
   "outputs": [
    {
     "data": {
      "text/html": [
       "<div>\n",
       "<style scoped>\n",
       "    .dataframe tbody tr th:only-of-type {\n",
       "        vertical-align: middle;\n",
       "    }\n",
       "\n",
       "    .dataframe tbody tr th {\n",
       "        vertical-align: top;\n",
       "    }\n",
       "\n",
       "    .dataframe thead th {\n",
       "        text-align: right;\n",
       "    }\n",
       "</style>\n",
       "<table border=\"1\" class=\"dataframe\">\n",
       "  <thead>\n",
       "    <tr style=\"text-align: right;\">\n",
       "      <th></th>\n",
       "      <th>user_id</th>\n",
       "      <th>score</th>\n",
       "      <th>city</th>\n",
       "      <th>gender</th>\n",
       "      <th>age</th>\n",
       "      <th>equity</th>\n",
       "      <th>balance</th>\n",
       "      <th>products</th>\n",
       "      <th>credit_card</th>\n",
       "      <th>last_activity</th>\n",
       "      <th>est_salary</th>\n",
       "      <th>churn</th>\n",
       "      <th>est_salary_category</th>\n",
       "      <th>Ростов</th>\n",
       "      <th>Рыбинск</th>\n",
       "      <th>Ярославль</th>\n",
       "      <th>female</th>\n",
       "      <th>male</th>\n",
       "    </tr>\n",
       "  </thead>\n",
       "  <tbody>\n",
       "    <tr>\n",
       "      <th>0</th>\n",
       "      <td>183012</td>\n",
       "      <td>850.0</td>\n",
       "      <td>Рыбинск</td>\n",
       "      <td>Ж</td>\n",
       "      <td>25.0</td>\n",
       "      <td>1</td>\n",
       "      <td>59214.82</td>\n",
       "      <td>2</td>\n",
       "      <td>0</td>\n",
       "      <td>1</td>\n",
       "      <td>75719.14</td>\n",
       "      <td>1</td>\n",
       "      <td>A</td>\n",
       "      <td>0</td>\n",
       "      <td>1</td>\n",
       "      <td>0</td>\n",
       "      <td>1</td>\n",
       "      <td>0</td>\n",
       "    </tr>\n",
       "    <tr>\n",
       "      <th>1</th>\n",
       "      <td>146556</td>\n",
       "      <td>861.0</td>\n",
       "      <td>Рыбинск</td>\n",
       "      <td>Ж</td>\n",
       "      <td>37.0</td>\n",
       "      <td>5</td>\n",
       "      <td>850594.33</td>\n",
       "      <td>3</td>\n",
       "      <td>1</td>\n",
       "      <td>0</td>\n",
       "      <td>86621.77</td>\n",
       "      <td>0</td>\n",
       "      <td>A</td>\n",
       "      <td>0</td>\n",
       "      <td>1</td>\n",
       "      <td>0</td>\n",
       "      <td>1</td>\n",
       "      <td>0</td>\n",
       "    </tr>\n",
       "    <tr>\n",
       "      <th>2</th>\n",
       "      <td>120722</td>\n",
       "      <td>892.0</td>\n",
       "      <td>Рыбинск</td>\n",
       "      <td>Ж</td>\n",
       "      <td>30.0</td>\n",
       "      <td>0</td>\n",
       "      <td>NaN</td>\n",
       "      <td>1</td>\n",
       "      <td>1</td>\n",
       "      <td>1</td>\n",
       "      <td>107683.34</td>\n",
       "      <td>0</td>\n",
       "      <td>B</td>\n",
       "      <td>0</td>\n",
       "      <td>1</td>\n",
       "      <td>0</td>\n",
       "      <td>1</td>\n",
       "      <td>0</td>\n",
       "    </tr>\n",
       "    <tr>\n",
       "      <th>3</th>\n",
       "      <td>225363</td>\n",
       "      <td>866.0</td>\n",
       "      <td>Ярославль</td>\n",
       "      <td>Ж</td>\n",
       "      <td>51.0</td>\n",
       "      <td>5</td>\n",
       "      <td>1524746.26</td>\n",
       "      <td>2</td>\n",
       "      <td>0</td>\n",
       "      <td>1</td>\n",
       "      <td>174423.53</td>\n",
       "      <td>1</td>\n",
       "      <td>B</td>\n",
       "      <td>0</td>\n",
       "      <td>0</td>\n",
       "      <td>1</td>\n",
       "      <td>1</td>\n",
       "      <td>0</td>\n",
       "    </tr>\n",
       "    <tr>\n",
       "      <th>4</th>\n",
       "      <td>157978</td>\n",
       "      <td>730.0</td>\n",
       "      <td>Ярославль</td>\n",
       "      <td>М</td>\n",
       "      <td>34.0</td>\n",
       "      <td>5</td>\n",
       "      <td>174.00</td>\n",
       "      <td>1</td>\n",
       "      <td>1</td>\n",
       "      <td>0</td>\n",
       "      <td>67353.16</td>\n",
       "      <td>1</td>\n",
       "      <td>A</td>\n",
       "      <td>0</td>\n",
       "      <td>0</td>\n",
       "      <td>1</td>\n",
       "      <td>0</td>\n",
       "      <td>1</td>\n",
       "    </tr>\n",
       "  </tbody>\n",
       "</table>\n",
       "</div>"
      ],
      "text/plain": [
       "   user_id  score       city gender   age  equity     balance  products  \\\n",
       "0   183012  850.0    Рыбинск      Ж  25.0       1    59214.82         2   \n",
       "1   146556  861.0    Рыбинск      Ж  37.0       5   850594.33         3   \n",
       "2   120722  892.0    Рыбинск      Ж  30.0       0         NaN         1   \n",
       "3   225363  866.0  Ярославль      Ж  51.0       5  1524746.26         2   \n",
       "4   157978  730.0  Ярославль      М  34.0       5      174.00         1   \n",
       "\n",
       "   credit_card  last_activity  est_salary  churn est_salary_category  Ростов  \\\n",
       "0            0              1    75719.14      1                   A       0   \n",
       "1            1              0    86621.77      0                   A       0   \n",
       "2            1              1   107683.34      0                   B       0   \n",
       "3            0              1   174423.53      1                   B       0   \n",
       "4            1              0    67353.16      1                   A       0   \n",
       "\n",
       "   Рыбинск  Ярославль  female  male  \n",
       "0        1          0       1     0  \n",
       "1        1          0       1     0  \n",
       "2        1          0       1     0  \n",
       "3        0          1       1     0  \n",
       "4        0          1       0     1  "
      ]
     },
     "metadata": {},
     "output_type": "display_data"
    }
   ],
   "source": [
    "df = df.rename (\n",
    "    columns = ({\n",
    "        'cit_Ростов':'Ростов', 'cit_Рыбинск':'Рыбинск','cit_Ярославль':'Ярославль', \n",
    "        'gen_Ж':'female', 'gen_М':'male'}))\n",
    "display (df.head())"
   ]
  },
  {
   "cell_type": "markdown",
   "id": "d7ec1e6c",
   "metadata": {},
   "source": [
    "# Исследовательский анализ данных"
   ]
  },
  {
   "cell_type": "markdown",
   "id": "e2a2443e",
   "metadata": {},
   "source": [
    "**1.Сравним средние по столбцам среди отточных клиентов и неотточных**"
   ]
  },
  {
   "cell_type": "code",
   "execution_count": 25,
   "id": "7e1fcf2d",
   "metadata": {},
   "outputs": [
    {
     "data": {
      "text/html": [
       "<div>\n",
       "<style scoped>\n",
       "    .dataframe tbody tr th:only-of-type {\n",
       "        vertical-align: middle;\n",
       "    }\n",
       "\n",
       "    .dataframe tbody tr th {\n",
       "        vertical-align: top;\n",
       "    }\n",
       "\n",
       "    .dataframe thead th {\n",
       "        text-align: right;\n",
       "    }\n",
       "</style>\n",
       "<table border=\"1\" class=\"dataframe\">\n",
       "  <thead>\n",
       "    <tr style=\"text-align: right;\">\n",
       "      <th>churn</th>\n",
       "      <th>Остались</th>\n",
       "      <th>Ушли</th>\n",
       "      <th>diff</th>\n",
       "    </tr>\n",
       "  </thead>\n",
       "  <tbody>\n",
       "    <tr>\n",
       "      <th>user_id</th>\n",
       "      <td>171928.11</td>\n",
       "      <td>170980.10</td>\n",
       "      <td>-0.551399</td>\n",
       "    </tr>\n",
       "    <tr>\n",
       "      <th>score</th>\n",
       "      <td>845.40</td>\n",
       "      <td>863.42</td>\n",
       "      <td>2.131535</td>\n",
       "    </tr>\n",
       "    <tr>\n",
       "      <th>age</th>\n",
       "      <td>43.02</td>\n",
       "      <td>41.45</td>\n",
       "      <td>-3.649465</td>\n",
       "    </tr>\n",
       "    <tr>\n",
       "      <th>equity</th>\n",
       "      <td>2.38</td>\n",
       "      <td>3.76</td>\n",
       "      <td>57.983193</td>\n",
       "    </tr>\n",
       "    <tr>\n",
       "      <th>balance</th>\n",
       "      <td>733031.63</td>\n",
       "      <td>1134458.21</td>\n",
       "      <td>54.762518</td>\n",
       "    </tr>\n",
       "    <tr>\n",
       "      <th>products</th>\n",
       "      <td>1.76</td>\n",
       "      <td>2.38</td>\n",
       "      <td>35.227273</td>\n",
       "    </tr>\n",
       "    <tr>\n",
       "      <th>credit_card</th>\n",
       "      <td>0.71</td>\n",
       "      <td>0.55</td>\n",
       "      <td>-22.535211</td>\n",
       "    </tr>\n",
       "    <tr>\n",
       "      <th>last_activity</th>\n",
       "      <td>0.48</td>\n",
       "      <td>0.70</td>\n",
       "      <td>45.833333</td>\n",
       "    </tr>\n",
       "    <tr>\n",
       "      <th>est_salary</th>\n",
       "      <td>147674.64</td>\n",
       "      <td>148289.70</td>\n",
       "      <td>0.416497</td>\n",
       "    </tr>\n",
       "    <tr>\n",
       "      <th>Ростов</th>\n",
       "      <td>0.14</td>\n",
       "      <td>0.15</td>\n",
       "      <td>7.142857</td>\n",
       "    </tr>\n",
       "    <tr>\n",
       "      <th>Рыбинск</th>\n",
       "      <td>0.28</td>\n",
       "      <td>0.24</td>\n",
       "      <td>-14.285714</td>\n",
       "    </tr>\n",
       "    <tr>\n",
       "      <th>Ярославль</th>\n",
       "      <td>0.58</td>\n",
       "      <td>0.61</td>\n",
       "      <td>5.172414</td>\n",
       "    </tr>\n",
       "    <tr>\n",
       "      <th>female</th>\n",
       "      <td>0.53</td>\n",
       "      <td>0.35</td>\n",
       "      <td>-33.962264</td>\n",
       "    </tr>\n",
       "    <tr>\n",
       "      <th>male</th>\n",
       "      <td>0.47</td>\n",
       "      <td>0.65</td>\n",
       "      <td>38.297872</td>\n",
       "    </tr>\n",
       "  </tbody>\n",
       "</table>\n",
       "</div>"
      ],
      "text/plain": [
       "churn           Остались        Ушли       diff\n",
       "user_id        171928.11   170980.10  -0.551399\n",
       "score             845.40      863.42   2.131535\n",
       "age                43.02       41.45  -3.649465\n",
       "equity              2.38        3.76  57.983193\n",
       "balance        733031.63  1134458.21  54.762518\n",
       "products            1.76        2.38  35.227273\n",
       "credit_card         0.71        0.55 -22.535211\n",
       "last_activity       0.48        0.70  45.833333\n",
       "est_salary     147674.64   148289.70   0.416497\n",
       "Ростов              0.14        0.15   7.142857\n",
       "Рыбинск             0.28        0.24 -14.285714\n",
       "Ярославль           0.58        0.61   5.172414\n",
       "female              0.53        0.35 -33.962264\n",
       "male                0.47        0.65  38.297872"
      ]
     },
     "metadata": {},
     "output_type": "display_data"
    }
   ],
   "source": [
    "mean_df = df.groupby('churn').agg('mean').round(2).T\n",
    "mean_df = mean_df.rename(columns = {0:'Остались', 1:'Ушли'})\n",
    "mean_df[\"diff\"] = ((mean_df[\"Ушли\"] - mean_df[\"Остались\"]) / mean_df[\"Остались\"]) * 100\n",
    "display(mean_df)"
   ]
  },
  {
   "cell_type": "markdown",
   "id": "9f472b6f",
   "metadata": {},
   "source": [
    "- У отточных клиентов средний баланс на счете больше на 401 427 рублей или 54%. \n",
    "- `score` у отточных больше на 18 или на 2%\n",
    "- `equity` у отточнвх больше на 1.38 или 36%\n",
    "- Среднее количество продуктов у отточных больше на 26%\n",
    "- Зарплаты у отточных и оставшихся одинаковые"
   ]
  },
  {
   "cell_type": "markdown",
   "id": "7a4a3964",
   "metadata": {},
   "source": [
    "**2.Построим матрицу корреляций, чтобы выяснить какие присутствуют зависимости между переменными**"
   ]
  },
  {
   "cell_type": "code",
   "execution_count": 26,
   "id": "0784adc6",
   "metadata": {},
   "outputs": [
    {
     "data": {
      "text/plain": [
       "<AxesSubplot:>"
      ]
     },
     "execution_count": 26,
     "metadata": {},
     "output_type": "execute_result"
    },
    {
     "data": {
      "image/png": "[encoded data removed]",
      "text/plain": [
       "<Figure size 1152x576 with 2 Axes>"
      ]
     },
     "metadata": {
      "needs_background": "light"
     },
     "output_type": "display_data"
    }
   ],
   "source": [
    "plt.figure(figsize=(16,8))\n",
    "fmt = lambda x,pos: '{:.0%}'.format(x)\n",
    "sns.heatmap (df.corr(), annot=True, fmt=\".0%\" ,vmin=-1, vmax=1, center= 0, cmap= 'vlag', linewidths=1, cbar_kws={'format': FuncFormatter(fmt)})"
   ]
  },
  {
   "cell_type": "markdown",
   "id": "2fc95bfd",
   "metadata": {},
   "source": [
    "**Вывод**\n",
    "\n",
    "Из матрицы корреляций можно увидеть, что наибольшую корреляцию со столбцом `churn` имеют следующие столбцы:\n",
    "\n",
    "   1) Баллы кредитного скоринга `score` \n",
    "\n",
    "   2) Количество баллов собственности `equity`\n",
    "\n",
    "   3) Количество продуктов, которыми пользуется клиент `products`\n",
    "   \n",
    "   4) Наличие кредитной карты `credit_card`\n",
    "\n",
    "   5) Активный клиент `last_activity`\n",
    "\n",
    "   6) Пол клиента `female` и `male`"
   ]
  },
  {
   "cell_type": "code",
   "execution_count": 27,
   "id": "71ccbab5",
   "metadata": {},
   "outputs": [
    {
     "data": {
      "image/png": "[encoded data removed]",
      "text/plain": [
       "<Figure size 216x504 with 2 Axes>"
      ]
     },
     "metadata": {
      "needs_background": "light"
     },
     "output_type": "display_data"
    }
   ],
   "source": [
    "correlation_matrix = df.corr()\n",
    "churn_corr = correlation_matrix['churn'].drop('churn').sort_values(ascending=False)\n",
    "plt.figure(figsize=(3, 7))\n",
    "sns.heatmap(churn_corr.to_frame(), annot=True, fmt=\".0%\" ,vmin=-1, vmax=1, center= 0 ,cmap= 'vlag', linewidths=1, cbar_kws={'format': FuncFormatter(fmt)})\n",
    "plt.show()"
   ]
  },
  {
   "cell_type": "markdown",
   "id": "daf58ef4",
   "metadata": {},
   "source": [
    "**3.Построим гистограммы процента отточных клиентов по этим столбцам**"
   ]
  },
  {
   "cell_type": "markdown",
   "id": "280be475",
   "metadata": {},
   "source": [
    "**Рассмотрим отточных и неотточных клиентов в разбивке по столбцу `score`**"
   ]
  },
  {
   "cell_type": "code",
   "execution_count": 28,
   "id": "ef784379",
   "metadata": {},
   "outputs": [
    {
     "data": {
      "image/png": "[encoded data removed]",
      "text/plain": [
       "<Figure size 1152x576 with 1 Axes>"
      ]
     },
     "metadata": {
      "needs_background": "light"
     },
     "output_type": "display_data"
    }
   ],
   "source": [
    "plt.figure(figsize=(16,8))\n",
    "ax = sns.histplot(data=df, x=\"score\", hue = 'churn' ,bins = 50 ,kde=True, stat='density', common_norm=False)\n",
    "ax.set (xlabel='Скоринговый рейтинг',\n",
    " ylabel='Плотность',\n",
    " title='Плотность распределения отточных и неотточных клиентов в разрезе скорингового рейтинга')\n",
    "plt.xticks(rotation=45) \n",
    "plt.show()"
   ]
  },
  {
   "cell_type": "markdown",
   "id": "da9d4dba",
   "metadata": {},
   "source": [
    "По данному графику мы можем понять, что там, где плотность распределения отточных клиентов выше плотности распределения неотточных, при таком скоринговом рейтинге отточность выше средней отточности по банку. Получаем, что интервал с высокой отточностью по скоринговому рейтингу находится от 825 до 940."
   ]
  },
  {
   "cell_type": "markdown",
   "id": "5417e7a8",
   "metadata": {},
   "source": [
    "**Рассмотрим количество баллов собственности `equity`**"
   ]
  },
  {
   "cell_type": "code",
   "execution_count": 29,
   "id": "72d577fe",
   "metadata": {},
   "outputs": [
    {
     "data": {
      "text/html": [
       "<div>\n",
       "<style scoped>\n",
       "    .dataframe tbody tr th:only-of-type {\n",
       "        vertical-align: middle;\n",
       "    }\n",
       "\n",
       "    .dataframe tbody tr th {\n",
       "        vertical-align: top;\n",
       "    }\n",
       "\n",
       "    .dataframe thead th {\n",
       "        text-align: right;\n",
       "    }\n",
       "</style>\n",
       "<table border=\"1\" class=\"dataframe\">\n",
       "  <thead>\n",
       "    <tr style=\"text-align: right;\">\n",
       "      <th></th>\n",
       "      <th>equity</th>\n",
       "      <th>sum</th>\n",
       "      <th>count</th>\n",
       "      <th>percent</th>\n",
       "    </tr>\n",
       "  </thead>\n",
       "  <tbody>\n",
       "    <tr>\n",
       "      <th>0</th>\n",
       "      <td>0</td>\n",
       "      <td>90</td>\n",
       "      <td>2576</td>\n",
       "      <td>3.493789</td>\n",
       "    </tr>\n",
       "    <tr>\n",
       "      <th>1</th>\n",
       "      <td>1</td>\n",
       "      <td>93</td>\n",
       "      <td>773</td>\n",
       "      <td>12.031048</td>\n",
       "    </tr>\n",
       "    <tr>\n",
       "      <th>2</th>\n",
       "      <td>2</td>\n",
       "      <td>166</td>\n",
       "      <td>1051</td>\n",
       "      <td>15.794481</td>\n",
       "    </tr>\n",
       "    <tr>\n",
       "      <th>3</th>\n",
       "      <td>3</td>\n",
       "      <td>322</td>\n",
       "      <td>1541</td>\n",
       "      <td>20.895522</td>\n",
       "    </tr>\n",
       "    <tr>\n",
       "      <th>4</th>\n",
       "      <td>4</td>\n",
       "      <td>464</td>\n",
       "      <td>1847</td>\n",
       "      <td>25.121819</td>\n",
       "    </tr>\n",
       "    <tr>\n",
       "      <th>5</th>\n",
       "      <td>5</td>\n",
       "      <td>576</td>\n",
       "      <td>1915</td>\n",
       "      <td>30.078329</td>\n",
       "    </tr>\n",
       "    <tr>\n",
       "      <th>6</th>\n",
       "      <td>6</td>\n",
       "      <td>58</td>\n",
       "      <td>161</td>\n",
       "      <td>36.024845</td>\n",
       "    </tr>\n",
       "    <tr>\n",
       "      <th>7</th>\n",
       "      <td>7</td>\n",
       "      <td>37</td>\n",
       "      <td>80</td>\n",
       "      <td>46.250000</td>\n",
       "    </tr>\n",
       "    <tr>\n",
       "      <th>8</th>\n",
       "      <td>8</td>\n",
       "      <td>6</td>\n",
       "      <td>17</td>\n",
       "      <td>35.294118</td>\n",
       "    </tr>\n",
       "    <tr>\n",
       "      <th>9</th>\n",
       "      <td>9</td>\n",
       "      <td>7</td>\n",
       "      <td>13</td>\n",
       "      <td>53.846154</td>\n",
       "    </tr>\n",
       "  </tbody>\n",
       "</table>\n",
       "</div>"
      ],
      "text/plain": [
       "   equity  sum  count    percent\n",
       "0       0   90   2576   3.493789\n",
       "1       1   93    773  12.031048\n",
       "2       2  166   1051  15.794481\n",
       "3       3  322   1541  20.895522\n",
       "4       4  464   1847  25.121819\n",
       "5       5  576   1915  30.078329\n",
       "6       6   58    161  36.024845\n",
       "7       7   37     80  46.250000\n",
       "8       8    6     17  35.294118\n",
       "9       9    7     13  53.846154"
      ]
     },
     "metadata": {},
     "output_type": "display_data"
    },
    {
     "data": {
      "image/png": "[encoded data removed]",
      "text/plain": [
       "<Figure size 1152x576 with 1 Axes>"
      ]
     },
     "metadata": {
      "needs_background": "light"
     },
     "output_type": "display_data"
    }
   ],
   "source": [
    "equity_churn = df.pivot_table (index = 'equity', values = 'churn', aggfunc =['sum', 'count'])\n",
    "equity_churn.columns = equity_churn.columns.droplevel(level=1)\n",
    "equity_churn ['percent'] = equity_churn['sum']/equity_churn['count']*100\n",
    "equity_churn.reset_index(inplace= True)\n",
    "display(equity_churn.head(10))\n",
    "\n",
    "plt.figure(figsize=(16,8))\n",
    "ax = sns.barplot(data=equity_churn, x=\"equity\", y = \"percent\", color='#1E90FF', alpha=0.4)\n",
    "plt.axhline(y=18)\n",
    "ax.set (xlabel='Баллы собственности',\n",
    " ylabel='Процент ушедших клиентов',\n",
    " title='Процент ушедших клиентов в разбивке по их количеству баллов собственности') \n",
    "plt.show()"
   ]
  },
  {
   "cell_type": "markdown",
   "id": "916361fa",
   "metadata": {},
   "source": [
    "Как можно увидеть, чем больше у клиента баллов собственности, тем выше процент оттока клиентов у банка. При количестве баллов собственности выше 4 отток клиентов в разрезе баллов собственности выше, чем средний отток по банку. Предположительно, это может означать, что банк не предлагает какие-либо услуги клиентам, связанные с их имуществом."
   ]
  },
  {
   "cell_type": "markdown",
   "id": "61d0f282",
   "metadata": {},
   "source": [
    "**Рассмотрим количество продуктов, которыми пользуется клиент `products`**"
   ]
  },
  {
   "cell_type": "code",
   "execution_count": 30,
   "id": "2ff7fb17",
   "metadata": {
    "scrolled": false
   },
   "outputs": [
    {
     "data": {
      "text/html": [
       "<div>\n",
       "<style scoped>\n",
       "    .dataframe tbody tr th:only-of-type {\n",
       "        vertical-align: middle;\n",
       "    }\n",
       "\n",
       "    .dataframe tbody tr th {\n",
       "        vertical-align: top;\n",
       "    }\n",
       "\n",
       "    .dataframe thead th {\n",
       "        text-align: right;\n",
       "    }\n",
       "</style>\n",
       "<table border=\"1\" class=\"dataframe\">\n",
       "  <thead>\n",
       "    <tr style=\"text-align: right;\">\n",
       "      <th></th>\n",
       "      <th>products</th>\n",
       "      <th>sum</th>\n",
       "      <th>count</th>\n",
       "      <th>percent</th>\n",
       "    </tr>\n",
       "  </thead>\n",
       "  <tbody>\n",
       "    <tr>\n",
       "      <th>0</th>\n",
       "      <td>1</td>\n",
       "      <td>235</td>\n",
       "      <td>3323</td>\n",
       "      <td>7.071923</td>\n",
       "    </tr>\n",
       "    <tr>\n",
       "      <th>1</th>\n",
       "      <td>2</td>\n",
       "      <td>978</td>\n",
       "      <td>5119</td>\n",
       "      <td>19.105294</td>\n",
       "    </tr>\n",
       "    <tr>\n",
       "      <th>2</th>\n",
       "      <td>3</td>\n",
       "      <td>297</td>\n",
       "      <td>1038</td>\n",
       "      <td>28.612717</td>\n",
       "    </tr>\n",
       "    <tr>\n",
       "      <th>3</th>\n",
       "      <td>4</td>\n",
       "      <td>300</td>\n",
       "      <td>474</td>\n",
       "      <td>63.291139</td>\n",
       "    </tr>\n",
       "    <tr>\n",
       "      <th>4</th>\n",
       "      <td>5</td>\n",
       "      <td>8</td>\n",
       "      <td>19</td>\n",
       "      <td>42.105263</td>\n",
       "    </tr>\n",
       "  </tbody>\n",
       "</table>\n",
       "</div>"
      ],
      "text/plain": [
       "   products  sum  count    percent\n",
       "0         1  235   3323   7.071923\n",
       "1         2  978   5119  19.105294\n",
       "2         3  297   1038  28.612717\n",
       "3         4  300    474  63.291139\n",
       "4         5    8     19  42.105263"
      ]
     },
     "metadata": {},
     "output_type": "display_data"
    },
    {
     "data": {
      "image/png": "[encoded data removed]",
      "text/plain": [
       "<Figure size 1152x576 with 1 Axes>"
      ]
     },
     "metadata": {
      "needs_background": "light"
     },
     "output_type": "display_data"
    }
   ],
   "source": [
    "products_churn = df.pivot_table (index = 'products', values = 'churn', aggfunc =['sum', 'count'])\n",
    "products_churn.columns = products_churn.columns.droplevel(level=1)\n",
    "products_churn ['percent'] = products_churn['sum']/products_churn['count']*100\n",
    "products_churn.reset_index(inplace= True)\n",
    "products_churn = products_churn.drop(index=[0])\n",
    "products_churn = products_churn.reset_index(drop=True)\n",
    "display(products_churn.head(10))\n",
    "\n",
    "\n",
    "plt.figure(figsize=(16,8))\n",
    "ax = sns.barplot(data=products_churn, x=\"products\", y = \"percent\", color = '#1E90FF', alpha=0.4)\n",
    "plt.axhline(y=18)\n",
    "ax.set (xlabel='Количество продуктов',\n",
    " ylabel='Процент ушедших клиентов',\n",
    " title='Процент ушедших клиентов в разбивке по количеству продуктов, которыми они пользуются') \n",
    "plt.show()"
   ]
  },
  {
   "cell_type": "markdown",
   "id": "c14b02ca",
   "metadata": {},
   "source": [
    "Здесь также наблюдается тенденция, что чем больше количество продуктов, которыми пользуются клиенты, чем больше процент оттока клиентов. При количестве продуктов от 3, отток клиентов в разрезе количества продуктов больше среднего оттока по банку."
   ]
  },
  {
   "cell_type": "markdown",
   "id": "c47f7106",
   "metadata": {},
   "source": [
    "**Рассмотрим наличие кредитных карт у клиентов `credit_card` , относительно оттока клиентов `churn`**"
   ]
  },
  {
   "cell_type": "code",
   "execution_count": 31,
   "id": "9956455c",
   "metadata": {},
   "outputs": [
    {
     "data": {
      "text/html": [
       "<div>\n",
       "<style scoped>\n",
       "    .dataframe tbody tr th:only-of-type {\n",
       "        vertical-align: middle;\n",
       "    }\n",
       "\n",
       "    .dataframe tbody tr th {\n",
       "        vertical-align: top;\n",
       "    }\n",
       "\n",
       "    .dataframe thead th {\n",
       "        text-align: right;\n",
       "    }\n",
       "</style>\n",
       "<table border=\"1\" class=\"dataframe\">\n",
       "  <thead>\n",
       "    <tr style=\"text-align: right;\">\n",
       "      <th></th>\n",
       "      <th>credit_card</th>\n",
       "      <th>sum</th>\n",
       "      <th>count</th>\n",
       "      <th>percent</th>\n",
       "    </tr>\n",
       "  </thead>\n",
       "  <tbody>\n",
       "    <tr>\n",
       "      <th>0</th>\n",
       "      <td>0</td>\n",
       "      <td>816</td>\n",
       "      <td>3190</td>\n",
       "      <td>25.579937</td>\n",
       "    </tr>\n",
       "    <tr>\n",
       "      <th>1</th>\n",
       "      <td>1</td>\n",
       "      <td>1003</td>\n",
       "      <td>6784</td>\n",
       "      <td>14.784788</td>\n",
       "    </tr>\n",
       "  </tbody>\n",
       "</table>\n",
       "</div>"
      ],
      "text/plain": [
       "   credit_card   sum  count    percent\n",
       "0            0   816   3190  25.579937\n",
       "1            1  1003   6784  14.784788"
      ]
     },
     "metadata": {},
     "output_type": "display_data"
    },
    {
     "data": {
      "image/png": "[encoded data removed]",
      "text/plain": [
       "<Figure size 1152x576 with 1 Axes>"
      ]
     },
     "metadata": {
      "needs_background": "light"
     },
     "output_type": "display_data"
    }
   ],
   "source": [
    "credit_card_churn = df.pivot_table (index = 'credit_card', values = 'churn', aggfunc =['sum', 'count'])\n",
    "credit_card_churn.columns = credit_card_churn.columns.droplevel(level=1)\n",
    "credit_card_churn ['percent'] = credit_card_churn['sum']/credit_card_churn['count']*100\n",
    "credit_card_churn.reset_index(inplace= True)\n",
    "credit_card_churn = credit_card_churn.reset_index(drop=True)\n",
    "display(credit_card_churn.head())\n",
    "\n",
    "\n",
    "plt.figure(figsize=(16,8))\n",
    "ax = sns.barplot(data=credit_card_churn, x=\"credit_card\", y = \"percent\")\n",
    "ax.set (xlabel='Наличие кредитной карты',\n",
    " ylabel='Процент ушедших клиентов',\n",
    " title='Процент ушедших клиентов в разбивке по наличию кредитной карты') \n",
    "plt.show()"
   ]
  },
  {
   "cell_type": "markdown",
   "id": "1fe0d4ce",
   "metadata": {},
   "source": [
    "Здесь мы видим вполне базовые вещи для банковской системы, клиенты, которые имеют кредитные карты данного банка, меньше уходят из банка. Я думаю это связано с тем, что кредитная карта накладывает определенные обязательства на клиента в виде выплаты процентов заемных средств, таким образом, клиенты тратят деньги, затем возвращают их, и потом опять тратят, попадая в своеборазную петлю."
   ]
  },
  {
   "cell_type": "markdown",
   "id": "29ec5543",
   "metadata": {},
   "source": [
    "**Рассмотрим активность клиентов `last_activity` , относительно оттока клиентов `churn`**"
   ]
  },
  {
   "cell_type": "code",
   "execution_count": 32,
   "id": "f490ebfb",
   "metadata": {},
   "outputs": [
    {
     "data": {
      "text/html": [
       "<div>\n",
       "<style scoped>\n",
       "    .dataframe tbody tr th:only-of-type {\n",
       "        vertical-align: middle;\n",
       "    }\n",
       "\n",
       "    .dataframe tbody tr th {\n",
       "        vertical-align: top;\n",
       "    }\n",
       "\n",
       "    .dataframe thead th {\n",
       "        text-align: right;\n",
       "    }\n",
       "</style>\n",
       "<table border=\"1\" class=\"dataframe\">\n",
       "  <thead>\n",
       "    <tr style=\"text-align: right;\">\n",
       "      <th></th>\n",
       "      <th>last_activity</th>\n",
       "      <th>sum</th>\n",
       "      <th>count</th>\n",
       "      <th>percent</th>\n",
       "    </tr>\n",
       "  </thead>\n",
       "  <tbody>\n",
       "    <tr>\n",
       "      <th>0</th>\n",
       "      <td>0</td>\n",
       "      <td>542</td>\n",
       "      <td>4759</td>\n",
       "      <td>11.388947</td>\n",
       "    </tr>\n",
       "    <tr>\n",
       "      <th>1</th>\n",
       "      <td>1</td>\n",
       "      <td>1277</td>\n",
       "      <td>5215</td>\n",
       "      <td>24.487057</td>\n",
       "    </tr>\n",
       "  </tbody>\n",
       "</table>\n",
       "</div>"
      ],
      "text/plain": [
       "   last_activity   sum  count    percent\n",
       "0              0   542   4759  11.388947\n",
       "1              1  1277   5215  24.487057"
      ]
     },
     "metadata": {},
     "output_type": "display_data"
    },
    {
     "data": {
      "image/png": "[encoded data removed]",
      "text/plain": [
       "<Figure size 1152x576 with 1 Axes>"
      ]
     },
     "metadata": {
      "needs_background": "light"
     },
     "output_type": "display_data"
    }
   ],
   "source": [
    "last_activity_churn = df.pivot_table (index = 'last_activity', values = 'churn', aggfunc =['sum', 'count'])\n",
    "last_activity_churn.columns = last_activity_churn.columns.droplevel(level=1)\n",
    "last_activity_churn ['percent'] = last_activity_churn['sum']/last_activity_churn['count']*100\n",
    "last_activity_churn.reset_index(inplace= True)\n",
    "last_activity_churn = last_activity_churn.reset_index(drop=True)\n",
    "display(last_activity_churn.head())\n",
    "\n",
    "\n",
    "plt.figure(figsize=(16,8))\n",
    "ax = sns.barplot(data=last_activity_churn, x=\"last_activity\", y = \"percent\")\n",
    "ax.set (xlabel='Активность клиентов',\n",
    " ylabel='Процент ушедших клиентов',\n",
    " title='Процент ушедших клиентов в разбивке по активности клиентов') \n",
    "plt.show()"
   ]
  },
  {
   "cell_type": "markdown",
   "id": "977a63e5",
   "metadata": {},
   "source": [
    "В данном случае мы видим, что у активных клиентов процент ухода из банка выше в 2 раза. Возможно это может быть связано с тем, что клиенты не удовлетворены какими-то продуктами банка или их недостаточно, и они не покрывают все нужды активных клиентов."
   ]
  },
  {
   "cell_type": "markdown",
   "id": "f09963ec",
   "metadata": {},
   "source": [
    "**Рассмотрим пол клиента `female` и `male` в разбивке по отточности `churn`**"
   ]
  },
  {
   "cell_type": "code",
   "execution_count": 33,
   "id": "8229568b",
   "metadata": {},
   "outputs": [
    {
     "data": {
      "text/html": [
       "<div>\n",
       "<style scoped>\n",
       "    .dataframe tbody tr th:only-of-type {\n",
       "        vertical-align: middle;\n",
       "    }\n",
       "\n",
       "    .dataframe tbody tr th {\n",
       "        vertical-align: top;\n",
       "    }\n",
       "\n",
       "    .dataframe thead th {\n",
       "        text-align: right;\n",
       "    }\n",
       "</style>\n",
       "<table border=\"1\" class=\"dataframe\">\n",
       "  <thead>\n",
       "    <tr style=\"text-align: right;\">\n",
       "      <th></th>\n",
       "      <th>gender</th>\n",
       "      <th>sum</th>\n",
       "      <th>count</th>\n",
       "      <th>percent</th>\n",
       "    </tr>\n",
       "  </thead>\n",
       "  <tbody>\n",
       "    <tr>\n",
       "      <th>0</th>\n",
       "      <td>Ж</td>\n",
       "      <td>636</td>\n",
       "      <td>4983</td>\n",
       "      <td>12.763396</td>\n",
       "    </tr>\n",
       "    <tr>\n",
       "      <th>1</th>\n",
       "      <td>М</td>\n",
       "      <td>1183</td>\n",
       "      <td>4991</td>\n",
       "      <td>23.702665</td>\n",
       "    </tr>\n",
       "  </tbody>\n",
       "</table>\n",
       "</div>"
      ],
      "text/plain": [
       "  gender   sum  count    percent\n",
       "0      Ж   636   4983  12.763396\n",
       "1      М  1183   4991  23.702665"
      ]
     },
     "metadata": {},
     "output_type": "display_data"
    },
    {
     "data": {
      "image/png": "[encoded data removed]",
      "text/plain": [
       "<Figure size 1152x576 with 1 Axes>"
      ]
     },
     "metadata": {
      "needs_background": "light"
     },
     "output_type": "display_data"
    }
   ],
   "source": [
    "gender_churn = df.pivot_table (index = 'gender', values = 'churn', aggfunc =['sum', 'count'])\n",
    "gender_churn.columns = gender_churn.columns.droplevel(level=1)\n",
    "gender_churn ['percent'] = gender_churn['sum']/gender_churn['count']*100\n",
    "gender_churn.reset_index(inplace= True)\n",
    "gender_churn = gender_churn.reset_index(drop=True)\n",
    "display(gender_churn.head())\n",
    "\n",
    "\n",
    "plt.figure(figsize=(16,8))\n",
    "ax = sns.barplot(data=gender_churn, x=\"gender\", y = \"percent\")\n",
    "ax.set (xlabel='Пол клиентов',\n",
    " ylabel='Процент ушедших клиентов',\n",
    " title='Процент ушедших клиентов в разбивке по полу клиентов') \n",
    "plt.show()"
   ]
  },
  {
   "cell_type": "markdown",
   "id": "8ebe9b3a",
   "metadata": {},
   "source": [
    "Как можно увидеть, отток среди мужчин в два раза выше. Я думаю это связано с тем. что мужчины, как клиенты банка, могут быть активнее и пользоваться большим количеством продуктов, а как выяснилось выше, активные пользователи больше уходят из банка."
   ]
  },
  {
   "cell_type": "markdown",
   "id": "d6afd2d6",
   "metadata": {},
   "source": [
    "**Рассмотрим город `city` в разбивке по отточности `churn`**"
   ]
  },
  {
   "cell_type": "code",
   "execution_count": 34,
   "id": "8316c5ea",
   "metadata": {},
   "outputs": [
    {
     "data": {
      "text/html": [
       "<div>\n",
       "<style scoped>\n",
       "    .dataframe tbody tr th:only-of-type {\n",
       "        vertical-align: middle;\n",
       "    }\n",
       "\n",
       "    .dataframe tbody tr th {\n",
       "        vertical-align: top;\n",
       "    }\n",
       "\n",
       "    .dataframe thead th {\n",
       "        text-align: right;\n",
       "    }\n",
       "</style>\n",
       "<table border=\"1\" class=\"dataframe\">\n",
       "  <thead>\n",
       "    <tr style=\"text-align: right;\">\n",
       "      <th></th>\n",
       "      <th>city</th>\n",
       "      <th>sum</th>\n",
       "      <th>count</th>\n",
       "      <th>percent</th>\n",
       "    </tr>\n",
       "  </thead>\n",
       "  <tbody>\n",
       "    <tr>\n",
       "      <th>0</th>\n",
       "      <td>Ростов</td>\n",
       "      <td>265</td>\n",
       "      <td>1416</td>\n",
       "      <td>18.714689</td>\n",
       "    </tr>\n",
       "    <tr>\n",
       "      <th>1</th>\n",
       "      <td>Рыбинск</td>\n",
       "      <td>437</td>\n",
       "      <td>2683</td>\n",
       "      <td>16.287738</td>\n",
       "    </tr>\n",
       "    <tr>\n",
       "      <th>2</th>\n",
       "      <td>Ярославль</td>\n",
       "      <td>1117</td>\n",
       "      <td>5875</td>\n",
       "      <td>19.012766</td>\n",
       "    </tr>\n",
       "  </tbody>\n",
       "</table>\n",
       "</div>"
      ],
      "text/plain": [
       "        city   sum  count    percent\n",
       "0     Ростов   265   1416  18.714689\n",
       "1    Рыбинск   437   2683  16.287738\n",
       "2  Ярославль  1117   5875  19.012766"
      ]
     },
     "metadata": {},
     "output_type": "display_data"
    },
    {
     "data": {
      "image/png": "[encoded data removed]",
      "text/plain": [
       "<Figure size 1152x576 with 1 Axes>"
      ]
     },
     "metadata": {
      "needs_background": "light"
     },
     "output_type": "display_data"
    }
   ],
   "source": [
    "city_churn = df.pivot_table (index = 'city', values = 'churn', aggfunc =['sum', 'count'])\n",
    "city_churn.columns = city_churn.columns.droplevel(level=1)\n",
    "city_churn ['percent'] = city_churn['sum']/city_churn['count']*100\n",
    "city_churn.reset_index(inplace= True)\n",
    "city_churn = city_churn.reset_index(drop=True)\n",
    "display(city_churn.head())\n",
    "\n",
    "\n",
    "plt.figure(figsize=(16,8))\n",
    "ax = sns.barplot(data=city_churn, x=\"city\", y = \"percent\", color = '#1E90FF', alpha=0.4)\n",
    "plt.axhline(y=18)\n",
    "ax.set (xlabel='Город',\n",
    " ylabel='Процент ушедших клиентов',\n",
    " title='Процент ушедших клиентов в разбивке по городам') \n",
    "plt.show()"
   ]
  },
  {
   "cell_type": "markdown",
   "id": "72697610",
   "metadata": {},
   "source": [
    "Как мы можем увидеть, нет города, который бы выделялся высокой отточностью, только у двух городов отток выше на 1%, чем средний отток по банку, поэтому данный столбец мы не будем учитывать при сегментации."
   ]
  },
  {
   "cell_type": "markdown",
   "id": "e8361af2",
   "metadata": {},
   "source": [
    "**Рассмотрим также столбец `age`, хотя он и не коррелирует с нашей целевой переменной, потому что для сегментации это достаточно важный признак**"
   ]
  },
  {
   "cell_type": "code",
   "execution_count": 35,
   "id": "612ce0ee",
   "metadata": {},
   "outputs": [
    {
     "data": {
      "image/png": "[encoded data removed]",
      "text/plain": [
       "<Figure size 1152x576 with 1 Axes>"
      ]
     },
     "metadata": {
      "needs_background": "light"
     },
     "output_type": "display_data"
    }
   ],
   "source": [
    "plt.figure(figsize=(16,8))\n",
    "ax = sns.histplot(data=df, x=\"age\", hue = 'churn' ,bins = 50 ,kde=True, stat='density', common_norm=False)\n",
    "ax.set (xlabel='Возраст',\n",
    " ylabel='Плотность',\n",
    " title='Плотность распределения отточных и неотточных клиентов в разрезе возраста')\n",
    "plt.xticks(rotation=45) \n",
    "plt.show()"
   ]
  },
  {
   "cell_type": "markdown",
   "id": "600f24e7",
   "metadata": {},
   "source": [
    "На графике выделяются 3 группы возрастов, где количество ушедших очень маленькое относительно других: от 18 до 23, от 36 до 49 и от 61. Также есть две группы где потери банка очень высокие: от 24 до 35 и от 50 до 60. Данная информация поможет нам сегментировать пользователей. Также по данному столбцу можно проверить гипотезу."
   ]
  },
  {
   "cell_type": "markdown",
   "id": "dd87189c",
   "metadata": {},
   "source": [
    "**Рассмотрим баланс `balance` в разбивке по отточности `churn`**"
   ]
  },
  {
   "cell_type": "code",
   "execution_count": 36,
   "id": "d35a2b60",
   "metadata": {},
   "outputs": [
    {
     "data": {
      "image/png": "[encoded data removed]",
      "text/plain": [
       "<Figure size 1152x576 with 1 Axes>"
      ]
     },
     "metadata": {
      "needs_background": "light"
     },
     "output_type": "display_data"
    }
   ],
   "source": [
    "plt.figure(figsize=(16,8))\n",
    "ax = sns.histplot(data=df, x=\"balance\", hue = 'churn' ,bins = 1000 ,kde=True, stat='density', common_norm=False)\n",
    "ax.set (xlabel='Баланс',\n",
    " ylabel='Плотность',\n",
    " title='Плотность распределения отточных и неотточных клиентов в разрезе баланса')\n",
    "plt.xlim (0,10000000 )\n",
    "plt.xticks(rotation=45) \n",
    "plt.show()"
   ]
  },
  {
   "cell_type": "markdown",
   "id": "dd6d4c7d",
   "metadata": {},
   "source": [
    "При балансе от 1 миллиона получаем высокую отточность клиентов банка. До 1 миллиона люди в основном остаются клиентами банка."
   ]
  },
  {
   "cell_type": "markdown",
   "id": "d3a692fa",
   "metadata": {},
   "source": [
    "**Рассмотрим доходы `est_salary` в разбивке по отточности `churn`**"
   ]
  },
  {
   "cell_type": "code",
   "execution_count": 37,
   "id": "cb1d08dd",
   "metadata": {},
   "outputs": [
    {
     "data": {
      "image/png": "[encoded data removed]",
      "text/plain": [
       "<Figure size 1152x576 with 1 Axes>"
      ]
     },
     "metadata": {
      "needs_background": "light"
     },
     "output_type": "display_data"
    }
   ],
   "source": [
    "plt.figure(figsize=(16,8))\n",
    "ax = sns.histplot(data=df, x=\"est_salary\", hue = 'churn' ,bins = 100 ,kde=True, stat='density', common_norm=False)\n",
    "ax.set (xlabel='Доходы',\n",
    " ylabel='Плотность',\n",
    " title='Плотность распределения отточных и неотточных клиентов в разрезе доходов клиентов')\n",
    "plt.xticks(rotation=45) \n",
    "plt.show()"
   ]
  },
  {
   "cell_type": "markdown",
   "id": "565a21a1",
   "metadata": {},
   "source": [
    "Высокая отточность наблюдается в интервале от 150 тысяч до 220 тысяч."
   ]
  },
  {
   "cell_type": "markdown",
   "id": "a4521f9a",
   "metadata": {},
   "source": [
    "Прежде чем делать выводы, сделаем проверку статистических гипотез, чтобы наиболее точно провести сегментацию."
   ]
  },
  {
   "cell_type": "markdown",
   "id": "02278f78",
   "metadata": {},
   "source": [
    "# Проверка статистических гипотез"
   ]
  },
  {
   "cell_type": "markdown",
   "id": "124166bf",
   "metadata": {},
   "source": [
    "**1. Гипотеза различия дохода между теми клиентами, которые ушли и теми, которые остались**"
   ]
  },
  {
   "cell_type": "markdown",
   "id": "1ac65997",
   "metadata": {},
   "source": [
    "Гипотеза H0: Средние доходы оставшихся и отточных клиентов равны\n",
    "\n",
    "Гипотеза H1: Средние доходы оставшихся и отточных клиентов не равны"
   ]
  },
  {
   "cell_type": "markdown",
   "id": "1c908a70",
   "metadata": {},
   "source": [
    "В данном случае у нас имеется два критерии для проверки данной гипотезы: критерий Стьюдента и критерий Манна-Уитни. Так как выборки большие, то нам неважно, что они распределены ненормально, мы можем использовать t-критерий. Таким образом нормальное распределение для выборок более 30-50 элементов не требуется для t-теста. Требуется отсутствие большого числа выбросов, так как это не робастный критерий. Но выбросы можно отфильтровать. В среднем у u-критерия Манна-Уитни мощность выше, чем у t-критерия, т.е. он чаще даёт более точный результат. Основной минус критерия Манна-Уитни — его слабая интерпретируемость для бизнеса. Если мы сраниваем суммы покупок, то t-критерий позволяет нам сравнить средний чек — величину, которую можно перевести в выручку, умножив на количество покупок. U-критерий же, по сути, будет сравнивать медианный чек, который практически не используется."
   ]
  },
  {
   "cell_type": "markdown",
   "id": "65f08eaf",
   "metadata": {},
   "source": [
    "**Воспользуемся критерием Стьюдента**"
   ]
  },
  {
   "cell_type": "code",
   "execution_count": 38,
   "id": "4a1bb12a",
   "metadata": {},
   "outputs": [
    {
     "name": "stdout",
     "output_type": "stream",
     "text": [
      "p-значение: 0.8515799588935961\n",
      "Не получилось отвергнуть нулевую гипотезу\n"
     ]
    }
   ],
   "source": [
    "alpha = 0.05 # уровень статистической значимости\n",
    "# если p-value окажется меньше него, отвергнем гипотезу\n",
    "\n",
    "results = st.ttest_ind(df[df['churn'] == 0]['est_salary'], df[df['churn'] == 1]['est_salary'], equal_var = False)\n",
    "\n",
    "print('p-значение:', results.pvalue)\n",
    "\n",
    "if results.pvalue < alpha:\n",
    "    print('Отвергаем нулевую гипотезу')\n",
    "else:\n",
    "    print('Не получилось отвергнуть нулевую гипотезу') "
   ]
  },
  {
   "cell_type": "markdown",
   "id": "890008b7",
   "metadata": {},
   "source": [
    "Получаем, что средние доходы оставшихся и отточных клиентов равны."
   ]
  },
  {
   "cell_type": "markdown",
   "id": "643ca7f9",
   "metadata": {},
   "source": [
    "**Воспользуемся критерием Манна-Уитни** "
   ]
  },
  {
   "cell_type": "code",
   "execution_count": 39,
   "id": "91c17255",
   "metadata": {},
   "outputs": [
    {
     "name": "stdout",
     "output_type": "stream",
     "text": [
      "p-значение:  0.0001941125216825749\n",
      "Отвергаем нулевую гипотезу: разница статистически значима\n"
     ]
    }
   ],
   "source": [
    "alpha = 0.05  # критический уровень статистической значимости\n",
    "\n",
    "results = st.mannwhitneyu(df[df['churn'] == 0]['est_salary'], df[df['churn'] == 1]['est_salary'])\n",
    "\n",
    "print('p-значение: ', results.pvalue)\n",
    "\n",
    "if results.pvalue < alpha:\n",
    "    print('Отвергаем нулевую гипотезу: разница статистически значима')\n",
    "else: \n",
    "    print(\n",
    "        'Не получилось отвергнуть нулевую гипотезу, вывод о различии сделать нельзя'\n",
    "    ) "
   ]
  },
  {
   "cell_type": "markdown",
   "id": "72ca99e4",
   "metadata": {},
   "source": [
    "В данном случае получили, что средние доходы оставшихся и отточных клиентов не равны."
   ]
  },
  {
   "cell_type": "markdown",
   "id": "188ca867",
   "metadata": {},
   "source": [
    "Мы получили различные результаты при применении двух разных критериев для одних и тех же данных. t-критерий Стьюдента является параметрическим, что означает, что он основан на определенной модели и требует точных расчетов. U-критерий Манна-Уитни, с другой стороны, является непараметрическим и основывается на рангах данных. Это может привести к разным результатам, особенно если данные имеют выбросы или нарушают предположения о распределении."
   ]
  },
  {
   "cell_type": "markdown",
   "id": "a54ab7da",
   "metadata": {},
   "source": [
    "**Критерий Стьюдента больше подходит для проверки средних величин двух независимых выборок, поэтому в данном случае, он будет более сильным критерием для проверки нашей гипотезы.**"
   ]
  },
  {
   "cell_type": "markdown",
   "id": "5ef8e108",
   "metadata": {},
   "source": [
    "Если выбросы удалить из данных, то t-тест может стать более точным. Однако, это может привести к потере информации."
   ]
  },
  {
   "cell_type": "code",
   "execution_count": 40,
   "id": "7f1c374d",
   "metadata": {},
   "outputs": [
    {
     "name": "stdout",
     "output_type": "stream",
     "text": [
      "p-значение: 0.013625482565063244\n",
      "Отвергаем нулевую гипотезу\n"
     ]
    }
   ],
   "source": [
    "alpha = 0.05 # уровень статистической значимости\n",
    "# если p-value окажется меньше него, отвергнем гипотезу\n",
    "df_test = df.query('est_salary < 700000')\n",
    "results = st.ttest_ind(df_test[df_test['churn'] == 0]['est_salary'], df_test[df_test['churn'] == 1]['est_salary'])\n",
    "\n",
    "print('p-значение:', results.pvalue)\n",
    "\n",
    "if results.pvalue < alpha:\n",
    "    print('Отвергаем нулевую гипотезу')\n",
    "else:\n",
    "    print('Не получилось отвергнуть нулевую гипотезу') "
   ]
  },
  {
   "cell_type": "markdown",
   "id": "3e9e53f9",
   "metadata": {},
   "source": [
    "**2.Гипотеза различия среднего возраста между теми клиентами, которые ушли и теми, которые остались**"
   ]
  },
  {
   "cell_type": "markdown",
   "id": "b26449e7",
   "metadata": {},
   "source": [
    "Гипотеза H0: Средний возраст оставшихся и отточных клиентов равны\n",
    "\n",
    "Гипотеза H1: Средние возраст оставшихся и отточных клиентов не равны"
   ]
  },
  {
   "cell_type": "markdown",
   "id": "6d9b15c3",
   "metadata": {},
   "source": [
    "**Воспользуемся критерием Стьюдента**"
   ]
  },
  {
   "cell_type": "code",
   "execution_count": 41,
   "id": "a19c7fec",
   "metadata": {},
   "outputs": [
    {
     "name": "stdout",
     "output_type": "stream",
     "text": [
      "p-значение: 6.503036883995611e-07\n",
      "Отвергаем нулевую гипотезу\n"
     ]
    }
   ],
   "source": [
    "alpha = 0.05 # уровень статистической значимости\n",
    "# если p-value окажется меньше него, отвергнем гипотезу\n",
    "\n",
    "results = st.ttest_ind(df[df['churn'] == 0]['age'], df[df['churn'] == 1]['age'])\n",
    "\n",
    "print('p-значение:', results.pvalue)\n",
    "\n",
    "if results.pvalue < alpha:\n",
    "    print('Отвергаем нулевую гипотезу')\n",
    "else:\n",
    "    print('Не получилось отвергнуть нулевую гипотезу') "
   ]
  },
  {
   "cell_type": "markdown",
   "id": "25a12b45",
   "metadata": {},
   "source": [
    "Выше мы рассматривали данный столбец, хоть он никак не коррелирует с оттоком клиентов, но в нем выделяются 4 группы, имеющие сильную разницу в оттоке клиентов. Данной гипотезой мы подтвердили, что все таки средний возраст оставшихся и отточных клиентов разнится. В банке преимущественно остаются самая молодая категория и самая взрослая, так как данная группа меньше всего пользуется обширным количеством продуктов. А вот наибольший отток у двух средних групп по возрасту клиентов."
   ]
  },
  {
   "cell_type": "markdown",
   "id": "4e11c8ae",
   "metadata": {},
   "source": [
    "# Промежуточный вывод"
   ]
  },
  {
   "cell_type": "markdown",
   "id": "6f2aab9c",
   "metadata": {},
   "source": [
    "Мы провели исследовательский анализ данных, а также проверили 2 гипотезы. С помощью этого было выявлено:\n",
    "    \n",
    "    1) Скоринговый рейтинг коррелирует с целевой переменной. Отточный интервал от 825 до 940.\n",
    "    \n",
    "    2) Количестве баллов собственности коррелирует с целевой переменной. Отточный интервал от 4 до 9. \n",
    "    \n",
    "    3) Количество продуктов также коррелирует с целевой переменной. Отточный интервал от 3 до 5.\n",
    "    \n",
    "    4) Клиент не имеющий кредитной карты также охотнее уходит из банка.\n",
    "    \n",
    "    5) У более активных клиентов выше процент оттока.\n",
    "    \n",
    "    6) Мужчины имеют в 2 раза больший процент оттока из банка, нежели женщины.\n",
    "    \n",
    "    7) Также рассмотрели столбец с возрастом, который не коррелирует с целевой переменной. Здесь можно выделить 4 группы клиентов по возрасту. Две группы: от 24 до 35 и от 50 до 60 самые высокоотточные.\n",
    "    \n",
    "    8) Баланс не коррелирует с целевой переменной. При балансе от 1 миллиона получаем высокую отточность клиентов банка.\n",
    "    \n",
    "    9) Доходы клиентов не коррелируют с целевой переменной. Отточный интервал от 150 тысяч до 220 тысяч.\n",
    "    \n",
    "    10) Проверили гипотезу об различие доходов отточных и оставшихся клиентов. Получили, что средние доходы оставшихся и отточных клиентов равны.\n",
    "    \n",
    "    11) Также проверили гипотезу о различии среднего возраста оставшихся и отточных клиентов. Гипотеза не подтвердилась, средние возрасты не равны, а значит, данная информация повлияет на сегментацию в целом, и на процент оттока в каждом из сегментов.\n",
    "\n",
    "Теперь мы можем перейти к разделу сегментации. Признаки, которые мы будем использовать для сегментации:\n",
    "\n",
    "- Скоринговый рейтинг \n",
    "\n",
    "- Количество баллов собственности\n",
    "\n",
    "- Количество продуктов\n",
    "\n",
    "- Возраст\n",
    "\n",
    "- Пол\n",
    "\n",
    "- Активный клиент или нет\n",
    "\n",
    "- Наличие кредитной карты"
   ]
  },
  {
   "cell_type": "markdown",
   "id": "daa5d13f",
   "metadata": {},
   "source": [
    "# Сегментация"
   ]
  },
  {
   "cell_type": "markdown",
   "id": "333848a9",
   "metadata": {},
   "source": [
    "**Сегмент №1**"
   ]
  },
  {
   "cell_type": "markdown",
   "id": "47c7308c",
   "metadata": {},
   "source": [
    "- Скоринговый рейтинг от 825 до 940\n",
    "- Количество продуктов выше 2"
   ]
  },
  {
   "cell_type": "code",
   "execution_count": 42,
   "id": "a411ec0a",
   "metadata": {},
   "outputs": [
    {
     "data": {
      "text/html": [
       "<div>\n",
       "<style scoped>\n",
       "    .dataframe tbody tr th:only-of-type {\n",
       "        vertical-align: middle;\n",
       "    }\n",
       "\n",
       "    .dataframe tbody tr th {\n",
       "        vertical-align: top;\n",
       "    }\n",
       "\n",
       "    .dataframe thead th {\n",
       "        text-align: right;\n",
       "    }\n",
       "</style>\n",
       "<table border=\"1\" class=\"dataframe\">\n",
       "  <thead>\n",
       "    <tr style=\"text-align: right;\">\n",
       "      <th></th>\n",
       "      <th>churn</th>\n",
       "    </tr>\n",
       "  </thead>\n",
       "  <tbody>\n",
       "    <tr>\n",
       "      <th>mean</th>\n",
       "      <td>0.47486</td>\n",
       "    </tr>\n",
       "    <tr>\n",
       "      <th>sum</th>\n",
       "      <td>425.00000</td>\n",
       "    </tr>\n",
       "    <tr>\n",
       "      <th>count</th>\n",
       "      <td>895.00000</td>\n",
       "    </tr>\n",
       "  </tbody>\n",
       "</table>\n",
       "</div>"
      ],
      "text/plain": [
       "           churn\n",
       "mean     0.47486\n",
       "sum    425.00000\n",
       "count  895.00000"
      ]
     },
     "execution_count": 42,
     "metadata": {},
     "output_type": "execute_result"
    }
   ],
   "source": [
    "df.query('score >= 825 and score <= 940 and products > 2 ').agg({\"churn\":[\"mean\",\"sum\",\"count\"]})"
   ]
  },
  {
   "cell_type": "markdown",
   "id": "73ef3b02",
   "metadata": {},
   "source": [
    "Процент оттока составляет 47% в данном сегменте, что довольно много."
   ]
  },
  {
   "cell_type": "markdown",
   "id": "79eb5ecb",
   "metadata": {},
   "source": [
    "**Сегмент №2**"
   ]
  },
  {
   "cell_type": "markdown",
   "id": "d2efd53a",
   "metadata": {},
   "source": [
    "- Количество баллов собственности выше 4\n",
    "- Активный клиент\n",
    "- Нет кредитной карты"
   ]
  },
  {
   "cell_type": "code",
   "execution_count": 43,
   "id": "550ca7fe",
   "metadata": {},
   "outputs": [
    {
     "data": {
      "text/html": [
       "<div>\n",
       "<style scoped>\n",
       "    .dataframe tbody tr th:only-of-type {\n",
       "        vertical-align: middle;\n",
       "    }\n",
       "\n",
       "    .dataframe tbody tr th {\n",
       "        vertical-align: top;\n",
       "    }\n",
       "\n",
       "    .dataframe thead th {\n",
       "        text-align: right;\n",
       "    }\n",
       "</style>\n",
       "<table border=\"1\" class=\"dataframe\">\n",
       "  <thead>\n",
       "    <tr style=\"text-align: right;\">\n",
       "      <th></th>\n",
       "      <th>churn</th>\n",
       "    </tr>\n",
       "  </thead>\n",
       "  <tbody>\n",
       "    <tr>\n",
       "      <th>mean</th>\n",
       "      <td>0.496637</td>\n",
       "    </tr>\n",
       "    <tr>\n",
       "      <th>sum</th>\n",
       "      <td>443.000000</td>\n",
       "    </tr>\n",
       "    <tr>\n",
       "      <th>count</th>\n",
       "      <td>892.000000</td>\n",
       "    </tr>\n",
       "  </tbody>\n",
       "</table>\n",
       "</div>"
      ],
      "text/plain": [
       "            churn\n",
       "mean     0.496637\n",
       "sum    443.000000\n",
       "count  892.000000"
      ]
     },
     "execution_count": 43,
     "metadata": {},
     "output_type": "execute_result"
    }
   ],
   "source": [
    "df.query('equity >= 4 and last_activity == 1 and credit_card == 0 ').agg({\"churn\":[\"mean\",\"sum\",\"count\"]})"
   ]
  },
  {
   "cell_type": "markdown",
   "id": "10a830c6",
   "metadata": {},
   "source": [
    "Получили процент оттока пользователей в данном сегменте 49%. "
   ]
  },
  {
   "cell_type": "markdown",
   "id": "25e3939c",
   "metadata": {},
   "source": [
    "**Сегмент №3**"
   ]
  },
  {
   "cell_type": "markdown",
   "id": "93d188c9",
   "metadata": {},
   "source": [
    "- Количество продуктов выше 3\n",
    "- Пол мужской "
   ]
  },
  {
   "cell_type": "code",
   "execution_count": 44,
   "id": "fcdf753e",
   "metadata": {},
   "outputs": [
    {
     "data": {
      "text/html": [
       "<div>\n",
       "<style scoped>\n",
       "    .dataframe tbody tr th:only-of-type {\n",
       "        vertical-align: middle;\n",
       "    }\n",
       "\n",
       "    .dataframe tbody tr th {\n",
       "        vertical-align: top;\n",
       "    }\n",
       "\n",
       "    .dataframe thead th {\n",
       "        text-align: right;\n",
       "    }\n",
       "</style>\n",
       "<table border=\"1\" class=\"dataframe\">\n",
       "  <thead>\n",
       "    <tr style=\"text-align: right;\">\n",
       "      <th></th>\n",
       "      <th>churn</th>\n",
       "    </tr>\n",
       "  </thead>\n",
       "  <tbody>\n",
       "    <tr>\n",
       "      <th>mean</th>\n",
       "      <td>0.5</td>\n",
       "    </tr>\n",
       "    <tr>\n",
       "      <th>sum</th>\n",
       "      <td>376.0</td>\n",
       "    </tr>\n",
       "    <tr>\n",
       "      <th>count</th>\n",
       "      <td>752.0</td>\n",
       "    </tr>\n",
       "  </tbody>\n",
       "</table>\n",
       "</div>"
      ],
      "text/plain": [
       "       churn\n",
       "mean     0.5\n",
       "sum    376.0\n",
       "count  752.0"
      ]
     },
     "execution_count": 44,
     "metadata": {},
     "output_type": "execute_result"
    }
   ],
   "source": [
    "df.query('products >= 3 and male == 1').agg({\"churn\":[\"mean\",\"sum\",\"count\"]})"
   ]
  },
  {
   "cell_type": "markdown",
   "id": "e950c890",
   "metadata": {},
   "source": [
    "В данной группе мы достигли уровня оттока в 50%."
   ]
  },
  {
   "cell_type": "markdown",
   "id": "27783864",
   "metadata": {},
   "source": [
    "# Вывод"
   ]
  },
  {
   "cell_type": "markdown",
   "id": "4a7685dc",
   "metadata": {},
   "source": [
    "В данном проекте мы провели **предобработку данных**, при которой данные были проверены на начилие явных и неявных дубликатов, проведена проверка на наличие пропусков и выбросов, а также были закодированы 2 столбца для удобства работы с ними.\n",
    "\n",
    "Также был проведен **исследовательский анализ данных**, в ходе которого мы выяснили:\n",
    "- Скоринговый рейтинг коррелирует с целевой переменной. Отточный интервал от 825 до 940.\n",
    "    \n",
    "- Количестве баллов собственности коррелирует с целевой переменной. Отточный интервал от 4 до 9. \n",
    "    \n",
    "- Количество продуктов также коррелирует с целевой переменной. Отточный интервал от 3 до 5.\n",
    "    \n",
    "- Клиент не имеющий кредитной карты также охотнее уходит из банка.\n",
    "    \n",
    "- У более активных клиентов выше процент оттока.\n",
    "    \n",
    "- Мужчины имеют в 2 раза больший процент оттока из банка, нежели женщины.\n",
    "    \n",
    "- Также рассмотрели столбец с возрастом, который не коррелирует с целевой переменной. Здесь можно выделить 4 группы клиентов по возрасту. Две группы: от 24 до 46 и от 47 до 62 самые высокоотточные.\n",
    "\n",
    "**Проверили 2 статистические гипотезы :**\n",
    "1) Гипотеза об различие доходов отточных и оставшихся клиентов. Получили, что **средние доходы оставшихся и отточных клиентов равны**.\n",
    "\n",
    "2) Гипотеза о различии среднего возраста оставшихся и отточных клиентов. Гипотеза не подтвердилась, **средние возрасты оставшихся и отточных клиентов не равны**.\n",
    "\n",
    "Была проведена **сегментация отточных пользователей**, также к каждому сегменту будет дана рекомендация отделу маркетинга, сегменты расположены по уменьшению процента оттока пользователей:\n",
    "1) **Сегмент №3 (отток 50%)**\n",
    "  - Количество продуктов выше 3\n",
    "  \n",
    "  - Пол мужской  \n",
    "\n",
    "**Рекомендация отделу маркетинга:** \n",
    "- Выгодные условия кредитования для новой недвижимости\n",
    "- Кредитная карта с увеличенным беспроцентным периодом\n",
    "- Страхование уже имеющейся собственности\n",
    "- Кэшбек на заправки\n",
    "\n",
    "2) **Сегмент №2 (отток 49%)**\n",
    "  - Количество баллов собственности выше 4\n",
    "  \n",
    "  - Активный клиент\n",
    "  \n",
    "  - Нет кредитной карты\n",
    "\n",
    "**Рекомендация отделу маркетинга:** \n",
    "- Кредитная карта с увеличенным беспроцентным периодом\n",
    "- Предлагать лизинги на автомобили(если есть у человека компания)\n",
    "- Выгодные условия кредитования для новой недвижимости\n",
    "\n",
    "\n",
    "3) **Сегмент №1 (отток 47%)**\n",
    "   \n",
    "  - Скоринговый рейтинг от 825 до 940\n",
    "  \n",
    "  - Количество продуктов выше 2\n",
    "   \n",
    "**Рекомендация отделу маркетинга:**\n",
    "- Кредитная карта с увеличенным беспроцентным периодом\n",
    "- Предложение сделать зарплатную карту данного банка\n",
    "- Выгодные условия кредитования для новой недвижимости"
   ]
  }
 ],
 "metadata": {
  "ExecuteTimeLog": [
   {
    "duration": 1340,
    "start_time": "2023-07-13T17:17:50.681Z"
   },
   {
    "duration": 1282,
    "start_time": "2023-07-13T17:17:52.024Z"
   },
   {
    "duration": 28,
    "start_time": "2023-07-13T17:17:53.308Z"
   },
   {
    "duration": 13,
    "start_time": "2023-07-13T17:17:53.338Z"
   },
   {
    "duration": 17,
    "start_time": "2023-07-13T17:17:53.353Z"
   },
   {
    "duration": 5,
    "start_time": "2023-07-13T17:17:53.371Z"
   },
   {
    "duration": 6,
    "start_time": "2023-07-13T17:17:53.378Z"
   },
   {
    "duration": 26,
    "start_time": "2023-07-13T17:17:53.385Z"
   },
   {
    "duration": 6,
    "start_time": "2023-07-13T17:17:53.413Z"
   },
   {
    "duration": 16,
    "start_time": "2023-07-13T17:17:53.422Z"
   },
   {
    "duration": 11,
    "start_time": "2023-07-13T17:17:53.440Z"
   },
   {
    "duration": 26,
    "start_time": "2023-07-13T17:17:53.453Z"
   },
   {
    "duration": 12,
    "start_time": "2023-07-13T17:17:53.481Z"
   },
   {
    "duration": 45,
    "start_time": "2023-07-13T17:17:53.495Z"
   },
   {
    "duration": 59,
    "start_time": "2023-07-13T17:17:53.542Z"
   },
   {
    "duration": 40,
    "start_time": "2023-07-13T17:17:53.603Z"
   },
   {
    "duration": 43,
    "start_time": "2023-07-13T17:17:53.645Z"
   },
   {
    "duration": 15,
    "start_time": "2023-07-13T17:17:53.689Z"
   },
   {
    "duration": 34,
    "start_time": "2023-07-13T17:17:53.706Z"
   },
   {
    "duration": 35,
    "start_time": "2023-07-13T17:17:53.742Z"
   },
   {
    "duration": 1702,
    "start_time": "2023-07-13T17:17:53.779Z"
   },
   {
    "duration": 472,
    "start_time": "2023-07-13T17:17:55.483Z"
   },
   {
    "duration": 237,
    "start_time": "2023-07-13T17:17:55.957Z"
   },
   {
    "duration": 193,
    "start_time": "2023-07-13T17:17:56.196Z"
   },
   {
    "duration": 266,
    "start_time": "2023-07-13T17:17:56.391Z"
   },
   {
    "duration": 173,
    "start_time": "2023-07-13T17:17:56.659Z"
   },
   {
    "duration": 180,
    "start_time": "2023-07-13T17:17:56.834Z"
   },
   {
    "duration": 2230,
    "start_time": "2023-07-13T17:17:57.017Z"
   },
   {
    "duration": 18,
    "start_time": "2023-07-13T17:17:59.249Z"
   },
   {
    "duration": 15,
    "start_time": "2023-07-13T17:17:59.268Z"
   },
   {
    "duration": 9,
    "start_time": "2023-07-13T17:17:59.285Z"
   },
   {
    "duration": 16,
    "start_time": "2023-07-13T17:17:59.295Z"
   },
   {
    "duration": 16,
    "start_time": "2023-07-13T17:17:59.312Z"
   },
   {
    "duration": 42,
    "start_time": "2023-07-13T17:17:59.330Z"
   },
   {
    "duration": 14,
    "start_time": "2023-07-13T17:17:59.373Z"
   },
   {
    "duration": 132,
    "start_time": "2023-07-13T17:21:16.529Z"
   },
   {
    "duration": 57,
    "start_time": "2023-07-15T11:39:55.559Z"
   },
   {
    "duration": 1641,
    "start_time": "2023-07-15T11:39:59.621Z"
   },
   {
    "duration": 1083,
    "start_time": "2023-07-15T11:40:01.265Z"
   },
   {
    "duration": 36,
    "start_time": "2023-07-15T11:40:02.350Z"
   },
   {
    "duration": 12,
    "start_time": "2023-07-15T11:40:02.388Z"
   },
   {
    "duration": 10,
    "start_time": "2023-07-15T11:40:02.401Z"
   },
   {
    "duration": 100,
    "start_time": "2023-07-15T11:40:02.412Z"
   },
   {
    "duration": 54,
    "start_time": "2023-07-15T11:40:02.514Z"
   },
   {
    "duration": 25,
    "start_time": "2023-07-15T11:40:02.569Z"
   },
   {
    "duration": 25,
    "start_time": "2023-07-15T11:40:02.595Z"
   },
   {
    "duration": 50,
    "start_time": "2023-07-15T11:40:02.623Z"
   },
   {
    "duration": 11,
    "start_time": "2023-07-15T11:40:02.674Z"
   },
   {
    "duration": 29,
    "start_time": "2023-07-15T11:40:02.687Z"
   },
   {
    "duration": 39,
    "start_time": "2023-07-15T11:40:02.717Z"
   },
   {
    "duration": 38,
    "start_time": "2023-07-15T11:40:02.757Z"
   },
   {
    "duration": 33,
    "start_time": "2023-07-15T11:40:02.797Z"
   },
   {
    "duration": 42,
    "start_time": "2023-07-15T11:40:02.835Z"
   },
   {
    "duration": 25,
    "start_time": "2023-07-15T11:40:02.879Z"
   },
   {
    "duration": 14,
    "start_time": "2023-07-15T11:40:02.906Z"
   },
   {
    "duration": 47,
    "start_time": "2023-07-15T11:40:02.921Z"
   },
   {
    "duration": 47,
    "start_time": "2023-07-15T11:40:02.970Z"
   },
   {
    "duration": 1651,
    "start_time": "2023-07-15T11:40:03.019Z"
   },
   {
    "duration": 479,
    "start_time": "2023-07-15T11:40:04.673Z"
   },
   {
    "duration": 216,
    "start_time": "2023-07-15T11:40:05.159Z"
   },
   {
    "duration": 232,
    "start_time": "2023-07-15T11:40:05.377Z"
   },
   {
    "duration": 297,
    "start_time": "2023-07-15T11:40:05.610Z"
   },
   {
    "duration": 203,
    "start_time": "2023-07-15T11:40:05.909Z"
   },
   {
    "duration": 174,
    "start_time": "2023-07-15T11:40:06.113Z"
   },
   {
    "duration": 2488,
    "start_time": "2023-07-15T11:40:06.292Z"
   },
   {
    "duration": 10,
    "start_time": "2023-07-15T11:40:08.782Z"
   },
   {
    "duration": 18,
    "start_time": "2023-07-15T11:40:08.794Z"
   },
   {
    "duration": 14,
    "start_time": "2023-07-15T11:40:08.831Z"
   },
   {
    "duration": 35,
    "start_time": "2023-07-15T11:40:08.855Z"
   },
   {
    "duration": 14,
    "start_time": "2023-07-15T11:40:08.891Z"
   },
   {
    "duration": 15,
    "start_time": "2023-07-15T11:40:08.906Z"
   },
   {
    "duration": 26,
    "start_time": "2023-07-15T11:40:08.924Z"
   },
   {
    "duration": 133,
    "start_time": "2023-07-15T11:40:08.954Z"
   },
   {
    "duration": 21,
    "start_time": "2023-07-15T11:42:19.947Z"
   },
   {
    "duration": 23,
    "start_time": "2023-07-15T11:43:11.989Z"
   },
   {
    "duration": 30,
    "start_time": "2023-07-15T11:44:54.316Z"
   },
   {
    "duration": 9,
    "start_time": "2023-07-15T11:45:08.384Z"
   },
   {
    "duration": 33,
    "start_time": "2023-07-15T12:01:42.451Z"
   },
   {
    "duration": 33,
    "start_time": "2023-07-15T12:02:05.808Z"
   },
   {
    "duration": 108,
    "start_time": "2023-07-15T12:24:55.779Z"
   },
   {
    "duration": 29,
    "start_time": "2023-07-15T12:25:08.058Z"
   },
   {
    "duration": 33,
    "start_time": "2023-07-15T12:25:18.332Z"
   },
   {
    "duration": 29,
    "start_time": "2023-07-15T12:25:27.990Z"
   },
   {
    "duration": 26,
    "start_time": "2023-07-15T12:32:42.056Z"
   },
   {
    "duration": 35,
    "start_time": "2023-07-15T12:33:00.013Z"
   },
   {
    "duration": 37,
    "start_time": "2023-07-15T12:33:33.831Z"
   },
   {
    "duration": 36,
    "start_time": "2023-07-15T12:34:22.618Z"
   },
   {
    "duration": 33,
    "start_time": "2023-07-15T12:37:57.311Z"
   },
   {
    "duration": 24,
    "start_time": "2023-07-15T12:38:26.045Z"
   },
   {
    "duration": 127,
    "start_time": "2023-07-15T12:38:58.545Z"
   },
   {
    "duration": 33,
    "start_time": "2023-07-15T12:39:47.617Z"
   },
   {
    "duration": 7,
    "start_time": "2023-07-15T12:39:54.471Z"
   },
   {
    "duration": 17,
    "start_time": "2023-07-15T12:53:53.699Z"
   },
   {
    "duration": 13,
    "start_time": "2023-07-15T12:55:40.388Z"
   },
   {
    "duration": 17,
    "start_time": "2023-07-15T12:56:02.536Z"
   },
   {
    "duration": 1295,
    "start_time": "2023-07-15T13:09:53.779Z"
   },
   {
    "duration": 16,
    "start_time": "2023-07-15T13:11:45.345Z"
   },
   {
    "duration": 27,
    "start_time": "2023-07-15T13:13:48.781Z"
   },
   {
    "duration": 4,
    "start_time": "2023-07-15T13:18:25.501Z"
   },
   {
    "duration": 5,
    "start_time": "2023-07-15T13:18:34.992Z"
   },
   {
    "duration": 17,
    "start_time": "2023-07-15T13:19:19.091Z"
   },
   {
    "duration": 13,
    "start_time": "2023-07-15T13:19:59.218Z"
   },
   {
    "duration": 24,
    "start_time": "2023-07-15T13:23:13.832Z"
   },
   {
    "duration": 15,
    "start_time": "2023-07-15T13:23:19.008Z"
   },
   {
    "duration": 11,
    "start_time": "2023-07-15T13:28:03.644Z"
   },
   {
    "duration": 15,
    "start_time": "2023-07-15T13:28:09.351Z"
   },
   {
    "duration": 1500,
    "start_time": "2023-07-15T14:04:36.826Z"
   },
   {
    "duration": 22,
    "start_time": "2023-07-15T14:05:45.164Z"
   },
   {
    "duration": 25,
    "start_time": "2023-07-15T14:06:02.657Z"
   },
   {
    "duration": 30,
    "start_time": "2023-07-15T14:06:15.058Z"
   },
   {
    "duration": 12,
    "start_time": "2023-07-15T14:08:06.471Z"
   },
   {
    "duration": 24,
    "start_time": "2023-07-15T14:08:31.680Z"
   },
   {
    "duration": 25,
    "start_time": "2023-07-15T14:09:36.363Z"
   },
   {
    "duration": 13,
    "start_time": "2023-07-15T14:09:45.909Z"
   },
   {
    "duration": 13,
    "start_time": "2023-07-15T14:14:15.445Z"
   },
   {
    "duration": 13,
    "start_time": "2023-07-15T14:14:24.259Z"
   },
   {
    "duration": 14,
    "start_time": "2023-07-15T14:14:50.493Z"
   },
   {
    "duration": 15,
    "start_time": "2023-07-15T14:15:02.349Z"
   },
   {
    "duration": 13,
    "start_time": "2023-07-15T14:15:25.784Z"
   },
   {
    "duration": 16,
    "start_time": "2023-07-15T14:15:45.271Z"
   },
   {
    "duration": 15,
    "start_time": "2023-07-15T14:15:49.481Z"
   },
   {
    "duration": 14,
    "start_time": "2023-07-15T14:17:43.084Z"
   },
   {
    "duration": 1291,
    "start_time": "2023-07-15T14:17:57.486Z"
   },
   {
    "duration": 1235,
    "start_time": "2023-07-15T14:18:22.610Z"
   },
   {
    "duration": 666,
    "start_time": "2023-07-15T14:21:09.575Z"
   },
   {
    "duration": 31,
    "start_time": "2023-07-15T14:21:31.078Z"
   },
   {
    "duration": 721,
    "start_time": "2023-07-15T14:21:49.282Z"
   },
   {
    "duration": 682,
    "start_time": "2023-07-15T14:22:01.179Z"
   },
   {
    "duration": 16,
    "start_time": "2023-07-15T14:23:37.636Z"
   },
   {
    "duration": 49,
    "start_time": "2023-07-16T11:31:15.351Z"
   },
   {
    "duration": 1445,
    "start_time": "2023-07-16T11:31:23.473Z"
   },
   {
    "duration": 1214,
    "start_time": "2023-07-16T11:31:24.920Z"
   },
   {
    "duration": 30,
    "start_time": "2023-07-16T11:31:26.136Z"
   },
   {
    "duration": 14,
    "start_time": "2023-07-16T11:31:26.170Z"
   },
   {
    "duration": 33,
    "start_time": "2023-07-16T11:31:26.185Z"
   },
   {
    "duration": 19,
    "start_time": "2023-07-16T11:31:26.219Z"
   },
   {
    "duration": 33,
    "start_time": "2023-07-16T11:31:26.240Z"
   },
   {
    "duration": 38,
    "start_time": "2023-07-16T11:31:26.275Z"
   },
   {
    "duration": 34,
    "start_time": "2023-07-16T11:31:26.314Z"
   },
   {
    "duration": 25,
    "start_time": "2023-07-16T11:31:26.351Z"
   },
   {
    "duration": 27,
    "start_time": "2023-07-16T11:31:26.378Z"
   },
   {
    "duration": 35,
    "start_time": "2023-07-16T11:31:26.406Z"
   },
   {
    "duration": 26,
    "start_time": "2023-07-16T11:31:26.443Z"
   },
   {
    "duration": 49,
    "start_time": "2023-07-16T11:31:26.470Z"
   },
   {
    "duration": 10,
    "start_time": "2023-07-16T11:31:26.521Z"
   },
   {
    "duration": 34,
    "start_time": "2023-07-16T11:31:26.532Z"
   },
   {
    "duration": 7,
    "start_time": "2023-07-16T11:31:26.567Z"
   },
   {
    "duration": 60,
    "start_time": "2023-07-16T11:31:26.576Z"
   },
   {
    "duration": 22,
    "start_time": "2023-07-16T11:31:26.638Z"
   },
   {
    "duration": 14,
    "start_time": "2023-07-16T11:31:26.662Z"
   },
   {
    "duration": 35,
    "start_time": "2023-07-16T11:31:26.678Z"
   },
   {
    "duration": 1585,
    "start_time": "2023-07-16T11:31:26.714Z"
   },
   {
    "duration": 97,
    "start_time": "2023-07-16T11:31:28.301Z"
   },
   {
    "duration": 0,
    "start_time": "2023-07-16T11:31:28.400Z"
   },
   {
    "duration": 0,
    "start_time": "2023-07-16T11:31:28.401Z"
   },
   {
    "duration": 0,
    "start_time": "2023-07-16T11:31:28.413Z"
   },
   {
    "duration": 0,
    "start_time": "2023-07-16T11:31:28.414Z"
   },
   {
    "duration": 0,
    "start_time": "2023-07-16T11:31:28.416Z"
   },
   {
    "duration": 0,
    "start_time": "2023-07-16T11:31:28.417Z"
   },
   {
    "duration": 0,
    "start_time": "2023-07-16T11:31:28.418Z"
   },
   {
    "duration": 0,
    "start_time": "2023-07-16T11:31:28.419Z"
   },
   {
    "duration": 0,
    "start_time": "2023-07-16T11:31:28.420Z"
   },
   {
    "duration": 0,
    "start_time": "2023-07-16T11:31:28.421Z"
   },
   {
    "duration": 0,
    "start_time": "2023-07-16T11:31:28.422Z"
   },
   {
    "duration": 0,
    "start_time": "2023-07-16T11:31:28.423Z"
   },
   {
    "duration": 0,
    "start_time": "2023-07-16T11:31:28.424Z"
   },
   {
    "duration": 0,
    "start_time": "2023-07-16T11:31:28.425Z"
   },
   {
    "duration": 151,
    "start_time": "2023-07-16T11:33:10.725Z"
   },
   {
    "duration": 5877,
    "start_time": "2023-07-16T11:39:55.922Z"
   },
   {
    "duration": 143,
    "start_time": "2023-07-16T11:50:27.774Z"
   },
   {
    "duration": 324,
    "start_time": "2023-07-16T11:50:39.408Z"
   },
   {
    "duration": 25,
    "start_time": "2023-07-16T11:56:32.067Z"
   },
   {
    "duration": 16,
    "start_time": "2023-07-16T11:56:47.113Z"
   },
   {
    "duration": 28,
    "start_time": "2023-07-16T11:57:06.315Z"
   },
   {
    "duration": 14,
    "start_time": "2023-07-16T12:01:42.851Z"
   },
   {
    "duration": 15,
    "start_time": "2023-07-16T12:03:36.932Z"
   },
   {
    "duration": 17,
    "start_time": "2023-07-16T12:05:25.526Z"
   },
   {
    "duration": 214,
    "start_time": "2023-07-16T12:05:39.146Z"
   },
   {
    "duration": 169,
    "start_time": "2023-07-16T12:06:26.612Z"
   },
   {
    "duration": 194,
    "start_time": "2023-07-16T12:07:04.967Z"
   },
   {
    "duration": 292,
    "start_time": "2023-07-16T12:07:23.932Z"
   },
   {
    "duration": 426,
    "start_time": "2023-07-16T12:13:12.931Z"
   },
   {
    "duration": 435,
    "start_time": "2023-07-16T12:18:41.948Z"
   },
   {
    "duration": 110,
    "start_time": "2023-07-16T12:24:14.563Z"
   },
   {
    "duration": 297,
    "start_time": "2023-07-16T12:24:35.641Z"
   },
   {
    "duration": 211,
    "start_time": "2023-07-16T12:27:34.934Z"
   },
   {
    "duration": 335,
    "start_time": "2023-07-16T12:28:23.873Z"
   },
   {
    "duration": 334,
    "start_time": "2023-07-16T12:30:04.838Z"
   },
   {
    "duration": 350,
    "start_time": "2023-07-16T12:30:13.929Z"
   },
   {
    "duration": 343,
    "start_time": "2023-07-16T12:31:14.260Z"
   },
   {
    "duration": 341,
    "start_time": "2023-07-16T12:35:50.263Z"
   },
   {
    "duration": 330,
    "start_time": "2023-07-16T12:36:18.199Z"
   },
   {
    "duration": 333,
    "start_time": "2023-07-16T12:36:32.989Z"
   },
   {
    "duration": 329,
    "start_time": "2023-07-16T12:36:41.598Z"
   },
   {
    "duration": 375,
    "start_time": "2023-07-16T12:36:49.519Z"
   },
   {
    "duration": 403,
    "start_time": "2023-07-16T12:38:13.224Z"
   },
   {
    "duration": 176,
    "start_time": "2023-07-16T12:41:21.028Z"
   },
   {
    "duration": 326,
    "start_time": "2023-07-16T12:41:51.665Z"
   },
   {
    "duration": 292,
    "start_time": "2023-07-16T12:43:56.411Z"
   },
   {
    "duration": 311,
    "start_time": "2023-07-16T12:44:02.243Z"
   },
   {
    "duration": 275,
    "start_time": "2023-07-16T12:44:08.921Z"
   },
   {
    "duration": 279,
    "start_time": "2023-07-16T12:44:16.042Z"
   },
   {
    "duration": 329,
    "start_time": "2023-07-16T12:44:26.868Z"
   },
   {
    "duration": 340,
    "start_time": "2023-07-16T12:47:42.655Z"
   },
   {
    "duration": 340,
    "start_time": "2023-07-16T12:48:19.009Z"
   },
   {
    "duration": 168,
    "start_time": "2023-07-16T13:03:46.406Z"
   },
   {
    "duration": 344,
    "start_time": "2023-07-16T13:04:09.433Z"
   },
   {
    "duration": 191,
    "start_time": "2023-07-16T13:05:00.180Z"
   },
   {
    "duration": 278,
    "start_time": "2023-07-16T13:05:22.953Z"
   },
   {
    "duration": 263,
    "start_time": "2023-07-16T13:06:51.233Z"
   },
   {
    "duration": 2943,
    "start_time": "2023-07-16T13:12:37.086Z"
   },
   {
    "duration": 444,
    "start_time": "2023-07-16T13:13:09.019Z"
   },
   {
    "duration": 129,
    "start_time": "2023-07-16T13:29:42.754Z"
   },
   {
    "duration": 425,
    "start_time": "2023-07-16T13:30:31.849Z"
   },
   {
    "duration": 586,
    "start_time": "2023-07-16T13:31:34.307Z"
   },
   {
    "duration": 711,
    "start_time": "2023-07-16T13:36:14.503Z"
   },
   {
    "duration": 576,
    "start_time": "2023-07-16T13:36:33.265Z"
   },
   {
    "duration": 522,
    "start_time": "2023-07-16T13:41:23.272Z"
   },
   {
    "duration": 599,
    "start_time": "2023-07-16T13:44:09.741Z"
   },
   {
    "duration": 696,
    "start_time": "2023-07-16T13:44:38.508Z"
   },
   {
    "duration": 581,
    "start_time": "2023-07-16T13:44:47.506Z"
   },
   {
    "duration": 338,
    "start_time": "2023-07-16T13:44:58.027Z"
   },
   {
    "duration": 3419,
    "start_time": "2023-07-16T13:45:04.738Z"
   },
   {
    "duration": 3782,
    "start_time": "2023-07-16T13:45:18.804Z"
   },
   {
    "duration": 3665,
    "start_time": "2023-07-16T13:45:29.577Z"
   },
   {
    "duration": 3567,
    "start_time": "2023-07-16T13:47:55.910Z"
   },
   {
    "duration": 3,
    "start_time": "2023-07-16T13:55:22.556Z"
   },
   {
    "duration": 1017,
    "start_time": "2023-07-16T13:55:22.561Z"
   },
   {
    "duration": 25,
    "start_time": "2023-07-16T13:55:23.580Z"
   },
   {
    "duration": 21,
    "start_time": "2023-07-16T13:55:23.607Z"
   },
   {
    "duration": 14,
    "start_time": "2023-07-16T13:55:23.630Z"
   },
   {
    "duration": 21,
    "start_time": "2023-07-16T13:55:23.646Z"
   },
   {
    "duration": 16,
    "start_time": "2023-07-16T13:55:23.669Z"
   },
   {
    "duration": 22,
    "start_time": "2023-07-16T13:55:23.687Z"
   },
   {
    "duration": 17,
    "start_time": "2023-07-16T13:55:23.711Z"
   },
   {
    "duration": 26,
    "start_time": "2023-07-16T13:55:23.729Z"
   },
   {
    "duration": 19,
    "start_time": "2023-07-16T13:55:23.757Z"
   },
   {
    "duration": 24,
    "start_time": "2023-07-16T13:55:23.778Z"
   },
   {
    "duration": 24,
    "start_time": "2023-07-16T13:55:23.803Z"
   },
   {
    "duration": 47,
    "start_time": "2023-07-16T13:55:23.828Z"
   },
   {
    "duration": 11,
    "start_time": "2023-07-16T13:55:23.877Z"
   },
   {
    "duration": 27,
    "start_time": "2023-07-16T13:55:23.890Z"
   },
   {
    "duration": 10,
    "start_time": "2023-07-16T13:55:23.918Z"
   },
   {
    "duration": 50,
    "start_time": "2023-07-16T13:55:23.930Z"
   },
   {
    "duration": 33,
    "start_time": "2023-07-16T13:55:23.981Z"
   },
   {
    "duration": 13,
    "start_time": "2023-07-16T13:55:24.016Z"
   },
   {
    "duration": 13,
    "start_time": "2023-07-16T13:55:24.031Z"
   },
   {
    "duration": 1538,
    "start_time": "2023-07-16T13:55:24.046Z"
   },
   {
    "duration": 571,
    "start_time": "2023-07-16T13:55:25.586Z"
   },
   {
    "duration": 356,
    "start_time": "2023-07-16T13:55:26.159Z"
   },
   {
    "duration": 296,
    "start_time": "2023-07-16T13:55:26.517Z"
   },
   {
    "duration": 199,
    "start_time": "2023-07-16T13:55:26.815Z"
   },
   {
    "duration": 170,
    "start_time": "2023-07-16T13:55:27.016Z"
   },
   {
    "duration": 202,
    "start_time": "2023-07-16T13:55:27.188Z"
   },
   {
    "duration": 307,
    "start_time": "2023-07-16T13:55:27.392Z"
   },
   {
    "duration": 758,
    "start_time": "2023-07-16T13:55:28.129Z"
   },
   {
    "duration": 9,
    "start_time": "2023-07-16T13:55:28.888Z"
   },
   {
    "duration": 45,
    "start_time": "2023-07-16T13:55:28.899Z"
   },
   {
    "duration": 173,
    "start_time": "2023-07-16T13:55:28.945Z"
   },
   {
    "duration": 51,
    "start_time": "2023-07-16T13:55:29.120Z"
   },
   {
    "duration": 63,
    "start_time": "2023-07-16T13:55:29.172Z"
   },
   {
    "duration": 15,
    "start_time": "2023-07-16T13:55:29.240Z"
   },
   {
    "duration": 37,
    "start_time": "2023-07-16T13:55:29.257Z"
   },
   {
    "duration": 56,
    "start_time": "2023-07-16T13:55:29.296Z"
   },
   {
    "duration": 532,
    "start_time": "2023-07-16T13:55:29.354Z"
   },
   {
    "duration": 387,
    "start_time": "2023-07-16T14:00:29.583Z"
   },
   {
    "duration": 319,
    "start_time": "2023-07-16T14:00:41.697Z"
   },
   {
    "duration": 3510,
    "start_time": "2023-07-16T14:02:42.348Z"
   },
   {
    "duration": 3870,
    "start_time": "2023-07-16T14:03:03.265Z"
   },
   {
    "duration": 3803,
    "start_time": "2023-07-16T14:03:58.202Z"
   },
   {
    "duration": 4,
    "start_time": "2023-07-16T14:10:38.686Z"
   },
   {
    "duration": 4,
    "start_time": "2023-07-16T14:12:45.756Z"
   },
   {
    "duration": 6,
    "start_time": "2023-07-16T15:21:51.605Z"
   },
   {
    "duration": 8,
    "start_time": "2023-07-16T15:22:05.291Z"
   },
   {
    "duration": 14,
    "start_time": "2023-07-16T15:25:37.359Z"
   },
   {
    "duration": 14,
    "start_time": "2023-07-16T15:25:51.165Z"
   },
   {
    "duration": 14,
    "start_time": "2023-07-16T15:26:22.169Z"
   },
   {
    "duration": 15,
    "start_time": "2023-07-16T15:27:51.548Z"
   },
   {
    "duration": 15,
    "start_time": "2023-07-16T15:27:57.238Z"
   },
   {
    "duration": 14,
    "start_time": "2023-07-16T15:28:07.552Z"
   },
   {
    "duration": 14,
    "start_time": "2023-07-16T15:28:13.606Z"
   },
   {
    "duration": 14,
    "start_time": "2023-07-16T15:28:33.739Z"
   },
   {
    "duration": 14,
    "start_time": "2023-07-16T15:28:39.258Z"
   },
   {
    "duration": 14,
    "start_time": "2023-07-16T15:30:31.561Z"
   },
   {
    "duration": 15,
    "start_time": "2023-07-16T15:30:58.315Z"
   },
   {
    "duration": 14,
    "start_time": "2023-07-16T15:32:19.448Z"
   },
   {
    "duration": 15,
    "start_time": "2023-07-16T15:33:26.613Z"
   },
   {
    "duration": 14,
    "start_time": "2023-07-16T15:33:43.522Z"
   },
   {
    "duration": 17,
    "start_time": "2023-07-16T15:33:56.220Z"
   },
   {
    "duration": 13,
    "start_time": "2023-07-16T15:34:04.541Z"
   },
   {
    "duration": 12,
    "start_time": "2023-07-16T15:34:19.292Z"
   },
   {
    "duration": 13,
    "start_time": "2023-07-16T15:34:34.437Z"
   },
   {
    "duration": 13,
    "start_time": "2023-07-16T15:35:03.550Z"
   },
   {
    "duration": 13,
    "start_time": "2023-07-16T15:35:30.718Z"
   },
   {
    "duration": 16,
    "start_time": "2023-07-16T15:35:51.016Z"
   },
   {
    "duration": 12,
    "start_time": "2023-07-16T15:36:06.907Z"
   },
   {
    "duration": 13,
    "start_time": "2023-07-16T15:36:51.452Z"
   },
   {
    "duration": 14,
    "start_time": "2023-07-16T15:39:16.962Z"
   },
   {
    "duration": 13,
    "start_time": "2023-07-16T15:40:00.135Z"
   },
   {
    "duration": 12,
    "start_time": "2023-07-16T15:40:14.435Z"
   },
   {
    "duration": 15,
    "start_time": "2023-07-16T15:40:22.894Z"
   },
   {
    "duration": 14,
    "start_time": "2023-07-16T15:40:30.726Z"
   },
   {
    "duration": 12,
    "start_time": "2023-07-16T15:40:39.136Z"
   },
   {
    "duration": 12,
    "start_time": "2023-07-16T15:41:21.840Z"
   },
   {
    "duration": 13,
    "start_time": "2023-07-16T15:42:08.232Z"
   },
   {
    "duration": 13,
    "start_time": "2023-07-16T15:42:14.101Z"
   },
   {
    "duration": 56,
    "start_time": "2023-07-16T15:43:12.463Z"
   },
   {
    "duration": 119,
    "start_time": "2023-07-16T15:44:35.401Z"
   },
   {
    "duration": 46,
    "start_time": "2023-07-16T15:44:48.497Z"
   },
   {
    "duration": 13,
    "start_time": "2023-07-16T15:45:36.271Z"
   },
   {
    "duration": 14,
    "start_time": "2023-07-16T15:45:43.997Z"
   },
   {
    "duration": 1577,
    "start_time": "2023-07-17T09:58:14.153Z"
   },
   {
    "duration": 1095,
    "start_time": "2023-07-17T09:58:15.732Z"
   },
   {
    "duration": 39,
    "start_time": "2023-07-17T09:58:16.830Z"
   },
   {
    "duration": 15,
    "start_time": "2023-07-17T09:58:16.871Z"
   },
   {
    "duration": 13,
    "start_time": "2023-07-17T09:58:16.888Z"
   },
   {
    "duration": 21,
    "start_time": "2023-07-17T09:58:16.903Z"
   },
   {
    "duration": 12,
    "start_time": "2023-07-17T09:58:16.926Z"
   },
   {
    "duration": 28,
    "start_time": "2023-07-17T09:58:16.940Z"
   },
   {
    "duration": 5,
    "start_time": "2023-07-17T09:58:16.969Z"
   },
   {
    "duration": 30,
    "start_time": "2023-07-17T09:58:16.975Z"
   },
   {
    "duration": 18,
    "start_time": "2023-07-17T09:58:17.006Z"
   },
   {
    "duration": 25,
    "start_time": "2023-07-17T09:58:17.026Z"
   },
   {
    "duration": 48,
    "start_time": "2023-07-17T09:58:17.052Z"
   },
   {
    "duration": 44,
    "start_time": "2023-07-17T09:58:17.103Z"
   },
   {
    "duration": 12,
    "start_time": "2023-07-17T09:58:17.149Z"
   },
   {
    "duration": 12,
    "start_time": "2023-07-17T09:58:17.163Z"
   },
   {
    "duration": 38,
    "start_time": "2023-07-17T09:58:17.176Z"
   },
   {
    "duration": 7,
    "start_time": "2023-07-17T09:58:17.216Z"
   },
   {
    "duration": 326,
    "start_time": "2023-07-17T09:58:17.225Z"
   },
   {
    "duration": 3,
    "start_time": "2023-07-17T10:05:51.489Z"
   },
   {
    "duration": 1093,
    "start_time": "2023-07-17T10:05:51.495Z"
   },
   {
    "duration": 29,
    "start_time": "2023-07-17T10:05:52.591Z"
   },
   {
    "duration": 39,
    "start_time": "2023-07-17T10:05:52.622Z"
   },
   {
    "duration": 27,
    "start_time": "2023-07-17T10:05:52.666Z"
   },
   {
    "duration": 35,
    "start_time": "2023-07-17T10:05:52.695Z"
   },
   {
    "duration": 27,
    "start_time": "2023-07-17T10:05:52.732Z"
   },
   {
    "duration": 20,
    "start_time": "2023-07-17T10:05:52.761Z"
   },
   {
    "duration": 34,
    "start_time": "2023-07-17T10:05:52.784Z"
   },
   {
    "duration": 24,
    "start_time": "2023-07-17T10:05:52.820Z"
   },
   {
    "duration": 25,
    "start_time": "2023-07-17T10:05:52.847Z"
   },
   {
    "duration": 56,
    "start_time": "2023-07-17T10:05:52.874Z"
   },
   {
    "duration": 24,
    "start_time": "2023-07-17T10:05:52.933Z"
   },
   {
    "duration": 35,
    "start_time": "2023-07-17T10:05:52.959Z"
   },
   {
    "duration": 14,
    "start_time": "2023-07-17T10:05:52.996Z"
   },
   {
    "duration": 19,
    "start_time": "2023-07-17T10:05:53.012Z"
   },
   {
    "duration": 66,
    "start_time": "2023-07-17T10:05:53.033Z"
   },
   {
    "duration": 32,
    "start_time": "2023-07-17T10:05:53.101Z"
   },
   {
    "duration": 344,
    "start_time": "2023-07-17T10:05:53.135Z"
   },
   {
    "duration": 45,
    "start_time": "2023-07-17T10:05:53.481Z"
   },
   {
    "duration": 51,
    "start_time": "2023-07-17T10:05:53.528Z"
   },
   {
    "duration": 29,
    "start_time": "2023-07-17T10:05:53.581Z"
   },
   {
    "duration": 42,
    "start_time": "2023-07-17T10:05:53.612Z"
   },
   {
    "duration": 1837,
    "start_time": "2023-07-17T10:05:53.656Z"
   },
   {
    "duration": 609,
    "start_time": "2023-07-17T10:05:55.494Z"
   },
   {
    "duration": 378,
    "start_time": "2023-07-17T10:05:56.106Z"
   },
   {
    "duration": 326,
    "start_time": "2023-07-17T10:05:56.486Z"
   },
   {
    "duration": 193,
    "start_time": "2023-07-17T10:05:56.813Z"
   },
   {
    "duration": 190,
    "start_time": "2023-07-17T10:05:57.009Z"
   },
   {
    "duration": 176,
    "start_time": "2023-07-17T10:05:57.201Z"
   },
   {
    "duration": 293,
    "start_time": "2023-07-17T10:05:57.379Z"
   },
   {
    "duration": 483,
    "start_time": "2023-07-17T10:05:57.674Z"
   },
   {
    "duration": 600,
    "start_time": "2023-07-17T10:05:58.159Z"
   },
   {
    "duration": 116,
    "start_time": "2023-07-17T10:47:06.203Z"
   },
   {
    "duration": 1442,
    "start_time": "2023-07-17T10:55:32.971Z"
   },
   {
    "duration": 1235,
    "start_time": "2023-07-17T10:55:34.415Z"
   },
   {
    "duration": 32,
    "start_time": "2023-07-17T10:55:35.652Z"
   },
   {
    "duration": 15,
    "start_time": "2023-07-17T10:55:35.686Z"
   },
   {
    "duration": 13,
    "start_time": "2023-07-17T10:55:35.703Z"
   },
   {
    "duration": 14,
    "start_time": "2023-07-17T10:55:35.717Z"
   },
   {
    "duration": 9,
    "start_time": "2023-07-17T10:55:35.733Z"
   },
   {
    "duration": 25,
    "start_time": "2023-07-17T10:55:35.743Z"
   },
   {
    "duration": 12,
    "start_time": "2023-07-17T10:55:35.770Z"
   },
   {
    "duration": 5,
    "start_time": "2023-07-17T10:55:35.785Z"
   },
   {
    "duration": 18,
    "start_time": "2023-07-17T10:55:35.792Z"
   },
   {
    "duration": 21,
    "start_time": "2023-07-17T10:55:35.812Z"
   },
   {
    "duration": 32,
    "start_time": "2023-07-17T10:55:35.835Z"
   },
   {
    "duration": 34,
    "start_time": "2023-07-17T10:55:35.869Z"
   },
   {
    "duration": 11,
    "start_time": "2023-07-17T10:55:35.905Z"
   },
   {
    "duration": 21,
    "start_time": "2023-07-17T10:55:35.919Z"
   },
   {
    "duration": 40,
    "start_time": "2023-07-17T10:55:35.942Z"
   },
   {
    "duration": 9,
    "start_time": "2023-07-17T10:55:35.984Z"
   },
   {
    "duration": 325,
    "start_time": "2023-07-17T10:55:35.994Z"
   },
   {
    "duration": 56,
    "start_time": "2023-07-17T10:55:36.321Z"
   },
   {
    "duration": 28,
    "start_time": "2023-07-17T10:55:36.379Z"
   },
   {
    "duration": 20,
    "start_time": "2023-07-17T10:55:36.409Z"
   },
   {
    "duration": 43,
    "start_time": "2023-07-17T10:55:36.431Z"
   },
   {
    "duration": 1648,
    "start_time": "2023-07-17T10:55:36.476Z"
   },
   {
    "duration": 476,
    "start_time": "2023-07-17T10:55:38.127Z"
   },
   {
    "duration": 479,
    "start_time": "2023-07-17T10:55:38.604Z"
   },
   {
    "duration": 342,
    "start_time": "2023-07-17T10:55:39.085Z"
   },
   {
    "duration": 210,
    "start_time": "2023-07-17T10:55:39.431Z"
   },
   {
    "duration": 183,
    "start_time": "2023-07-17T10:55:39.644Z"
   },
   {
    "duration": 186,
    "start_time": "2023-07-17T10:55:39.829Z"
   },
   {
    "duration": 314,
    "start_time": "2023-07-17T10:55:40.017Z"
   },
   {
    "duration": 467,
    "start_time": "2023-07-17T10:55:40.334Z"
   },
   {
    "duration": 484,
    "start_time": "2023-07-17T10:55:40.804Z"
   },
   {
    "duration": 10,
    "start_time": "2023-07-17T10:55:41.290Z"
   },
   {
    "duration": 30,
    "start_time": "2023-07-17T10:55:41.302Z"
   },
   {
    "duration": 10,
    "start_time": "2023-07-17T10:55:41.335Z"
   },
   {
    "duration": 29,
    "start_time": "2023-07-17T10:55:41.347Z"
   },
   {
    "duration": 14,
    "start_time": "2023-07-17T10:55:41.378Z"
   },
   {
    "duration": 24,
    "start_time": "2023-07-17T10:55:41.393Z"
   },
   {
    "duration": 113,
    "start_time": "2023-07-17T10:55:41.419Z"
   },
   {
    "duration": 66,
    "start_time": "2023-07-17T12:25:53.106Z"
   },
   {
    "duration": 1613,
    "start_time": "2023-07-17T12:25:56.835Z"
   },
   {
    "duration": 1243,
    "start_time": "2023-07-17T12:25:58.451Z"
   },
   {
    "duration": 40,
    "start_time": "2023-07-17T12:25:59.699Z"
   },
   {
    "duration": 15,
    "start_time": "2023-07-17T12:25:59.740Z"
   },
   {
    "duration": 14,
    "start_time": "2023-07-17T12:25:59.758Z"
   },
   {
    "duration": 7,
    "start_time": "2023-07-17T12:25:59.774Z"
   },
   {
    "duration": 12,
    "start_time": "2023-07-17T12:25:59.818Z"
   },
   {
    "duration": 6,
    "start_time": "2023-07-17T12:25:59.836Z"
   },
   {
    "duration": 11,
    "start_time": "2023-07-17T12:25:59.844Z"
   },
   {
    "duration": 17,
    "start_time": "2023-07-17T12:25:59.857Z"
   },
   {
    "duration": 12,
    "start_time": "2023-07-17T12:25:59.877Z"
   },
   {
    "duration": 48,
    "start_time": "2023-07-17T12:25:59.892Z"
   },
   {
    "duration": 11,
    "start_time": "2023-07-17T12:25:59.941Z"
   },
   {
    "duration": 39,
    "start_time": "2023-07-17T12:25:59.957Z"
   },
   {
    "duration": 37,
    "start_time": "2023-07-17T12:25:59.999Z"
   },
   {
    "duration": 18,
    "start_time": "2023-07-17T12:26:00.041Z"
   },
   {
    "duration": 78,
    "start_time": "2023-07-17T12:26:00.062Z"
   },
   {
    "duration": 9,
    "start_time": "2023-07-17T12:26:00.143Z"
   },
   {
    "duration": 345,
    "start_time": "2023-07-17T12:26:00.154Z"
   },
   {
    "duration": 55,
    "start_time": "2023-07-17T12:26:00.500Z"
   },
   {
    "duration": 44,
    "start_time": "2023-07-17T12:26:00.557Z"
   },
   {
    "duration": 101,
    "start_time": "2023-07-17T12:26:00.603Z"
   },
   {
    "duration": 42,
    "start_time": "2023-07-17T12:26:00.705Z"
   },
   {
    "duration": 1875,
    "start_time": "2023-07-17T12:26:00.748Z"
   },
   {
    "duration": 478,
    "start_time": "2023-07-17T12:26:02.625Z"
   },
   {
    "duration": 447,
    "start_time": "2023-07-17T12:26:03.105Z"
   },
   {
    "duration": 393,
    "start_time": "2023-07-17T12:26:03.554Z"
   },
   {
    "duration": 189,
    "start_time": "2023-07-17T12:26:03.951Z"
   },
   {
    "duration": 193,
    "start_time": "2023-07-17T12:26:04.142Z"
   },
   {
    "duration": 188,
    "start_time": "2023-07-17T12:26:04.339Z"
   },
   {
    "duration": 273,
    "start_time": "2023-07-17T12:26:04.530Z"
   },
   {
    "duration": 487,
    "start_time": "2023-07-17T12:26:04.805Z"
   },
   {
    "duration": 503,
    "start_time": "2023-07-17T12:26:05.294Z"
   },
   {
    "duration": 32,
    "start_time": "2023-07-17T12:26:05.798Z"
   },
   {
    "duration": 15,
    "start_time": "2023-07-17T12:26:05.834Z"
   },
   {
    "duration": 9,
    "start_time": "2023-07-17T12:26:05.851Z"
   },
   {
    "duration": 34,
    "start_time": "2023-07-17T12:26:05.861Z"
   },
   {
    "duration": 42,
    "start_time": "2023-07-17T12:26:05.898Z"
   },
   {
    "duration": 90,
    "start_time": "2023-07-17T12:26:05.941Z"
   },
   {
    "duration": 100,
    "start_time": "2023-07-17T12:26:06.033Z"
   },
   {
    "duration": 14,
    "start_time": "2023-07-17T12:27:35.489Z"
   },
   {
    "duration": 7,
    "start_time": "2023-07-17T12:27:46.092Z"
   },
   {
    "duration": 3,
    "start_time": "2023-07-17T12:27:52.585Z"
   },
   {
    "duration": 1058,
    "start_time": "2023-07-17T12:27:52.590Z"
   },
   {
    "duration": 22,
    "start_time": "2023-07-17T12:27:53.651Z"
   },
   {
    "duration": 20,
    "start_time": "2023-07-17T12:27:53.675Z"
   },
   {
    "duration": 14,
    "start_time": "2023-07-17T12:27:53.697Z"
   },
   {
    "duration": 6,
    "start_time": "2023-07-17T12:27:53.713Z"
   },
   {
    "duration": 15,
    "start_time": "2023-07-17T12:27:53.720Z"
   },
   {
    "duration": 10,
    "start_time": "2023-07-17T12:27:53.737Z"
   },
   {
    "duration": 8,
    "start_time": "2023-07-17T12:27:53.749Z"
   },
   {
    "duration": 25,
    "start_time": "2023-07-17T12:27:53.760Z"
   },
   {
    "duration": 14,
    "start_time": "2023-07-17T12:27:53.787Z"
   },
   {
    "duration": 27,
    "start_time": "2023-07-17T12:27:53.803Z"
   },
   {
    "duration": 10,
    "start_time": "2023-07-17T12:27:53.832Z"
   },
   {
    "duration": 41,
    "start_time": "2023-07-17T12:27:53.844Z"
   },
   {
    "duration": 50,
    "start_time": "2023-07-17T12:27:53.887Z"
   },
   {
    "duration": 17,
    "start_time": "2023-07-17T12:27:53.939Z"
   },
   {
    "duration": 49,
    "start_time": "2023-07-17T12:27:53.958Z"
   },
   {
    "duration": 11,
    "start_time": "2023-07-17T12:27:54.009Z"
   },
   {
    "duration": 402,
    "start_time": "2023-07-17T12:27:54.022Z"
   },
   {
    "duration": 47,
    "start_time": "2023-07-17T12:27:54.431Z"
   },
   {
    "duration": 22,
    "start_time": "2023-07-17T12:27:54.480Z"
   },
   {
    "duration": 26,
    "start_time": "2023-07-17T12:27:54.503Z"
   },
   {
    "duration": 15,
    "start_time": "2023-07-17T12:27:54.531Z"
   },
   {
    "duration": 1747,
    "start_time": "2023-07-17T12:27:54.547Z"
   },
   {
    "duration": 481,
    "start_time": "2023-07-17T12:27:56.296Z"
   },
   {
    "duration": 367,
    "start_time": "2023-07-17T12:27:56.779Z"
   },
   {
    "duration": 348,
    "start_time": "2023-07-17T12:27:57.149Z"
   },
   {
    "duration": 229,
    "start_time": "2023-07-17T12:27:57.501Z"
   },
   {
    "duration": 327,
    "start_time": "2023-07-17T12:27:57.734Z"
   },
   {
    "duration": 239,
    "start_time": "2023-07-17T12:27:58.064Z"
   },
   {
    "duration": 296,
    "start_time": "2023-07-17T12:27:58.305Z"
   },
   {
    "duration": 471,
    "start_time": "2023-07-17T12:27:58.603Z"
   },
   {
    "duration": 496,
    "start_time": "2023-07-17T12:27:59.076Z"
   },
   {
    "duration": 9,
    "start_time": "2023-07-17T12:27:59.573Z"
   },
   {
    "duration": 46,
    "start_time": "2023-07-17T12:27:59.584Z"
   },
   {
    "duration": 14,
    "start_time": "2023-07-17T12:27:59.633Z"
   },
   {
    "duration": 18,
    "start_time": "2023-07-17T12:27:59.650Z"
   },
   {
    "duration": 21,
    "start_time": "2023-07-17T12:27:59.671Z"
   },
   {
    "duration": 36,
    "start_time": "2023-07-17T12:27:59.694Z"
   },
   {
    "duration": 78,
    "start_time": "2023-07-17T12:27:59.735Z"
   },
   {
    "duration": 4,
    "start_time": "2023-07-17T12:38:42.831Z"
   },
   {
    "duration": 9,
    "start_time": "2023-07-17T12:38:55.272Z"
   },
   {
    "duration": 8,
    "start_time": "2023-07-17T12:39:06.393Z"
   },
   {
    "duration": 3,
    "start_time": "2023-07-17T12:39:29.379Z"
   },
   {
    "duration": 7,
    "start_time": "2023-07-17T12:39:30.748Z"
   },
   {
    "duration": 9,
    "start_time": "2023-07-17T12:39:33.395Z"
   },
   {
    "duration": 4,
    "start_time": "2023-07-17T12:39:44.168Z"
   },
   {
    "duration": 1060,
    "start_time": "2023-07-17T12:39:44.175Z"
   },
   {
    "duration": 26,
    "start_time": "2023-07-17T12:39:45.237Z"
   },
   {
    "duration": 14,
    "start_time": "2023-07-17T12:39:45.265Z"
   },
   {
    "duration": 10,
    "start_time": "2023-07-17T12:39:45.282Z"
   },
   {
    "duration": 6,
    "start_time": "2023-07-17T12:39:45.316Z"
   },
   {
    "duration": 10,
    "start_time": "2023-07-17T12:39:45.326Z"
   },
   {
    "duration": 9,
    "start_time": "2023-07-17T12:39:45.338Z"
   },
   {
    "duration": 10,
    "start_time": "2023-07-17T12:39:45.349Z"
   },
   {
    "duration": 27,
    "start_time": "2023-07-17T12:39:45.361Z"
   },
   {
    "duration": 8,
    "start_time": "2023-07-17T12:39:45.390Z"
   },
   {
    "duration": 42,
    "start_time": "2023-07-17T12:39:45.399Z"
   },
   {
    "duration": 14,
    "start_time": "2023-07-17T12:39:45.443Z"
   },
   {
    "duration": 32,
    "start_time": "2023-07-17T12:39:45.460Z"
   },
   {
    "duration": 26,
    "start_time": "2023-07-17T12:39:45.493Z"
   },
   {
    "duration": 3,
    "start_time": "2023-07-17T12:39:45.521Z"
   },
   {
    "duration": 32,
    "start_time": "2023-07-17T12:39:45.526Z"
   },
   {
    "duration": 3,
    "start_time": "2023-07-17T12:39:45.560Z"
   },
   {
    "duration": 333,
    "start_time": "2023-07-17T12:39:45.564Z"
   },
   {
    "duration": 53,
    "start_time": "2023-07-17T12:39:45.898Z"
   },
   {
    "duration": 22,
    "start_time": "2023-07-17T12:39:45.953Z"
   },
   {
    "duration": 14,
    "start_time": "2023-07-17T12:39:45.976Z"
   },
   {
    "duration": 42,
    "start_time": "2023-07-17T12:39:45.992Z"
   },
   {
    "duration": 1871,
    "start_time": "2023-07-17T12:39:46.039Z"
   },
   {
    "duration": 502,
    "start_time": "2023-07-17T12:39:47.913Z"
   },
   {
    "duration": 347,
    "start_time": "2023-07-17T12:39:48.420Z"
   },
   {
    "duration": 330,
    "start_time": "2023-07-17T12:39:48.768Z"
   },
   {
    "duration": 186,
    "start_time": "2023-07-17T12:39:49.100Z"
   },
   {
    "duration": 190,
    "start_time": "2023-07-17T12:39:49.287Z"
   },
   {
    "duration": 206,
    "start_time": "2023-07-17T12:39:49.479Z"
   },
   {
    "duration": 325,
    "start_time": "2023-07-17T12:39:49.688Z"
   },
   {
    "duration": 494,
    "start_time": "2023-07-17T12:39:50.015Z"
   },
   {
    "duration": 597,
    "start_time": "2023-07-17T12:39:50.511Z"
   },
   {
    "duration": 17,
    "start_time": "2023-07-17T12:39:51.110Z"
   },
   {
    "duration": 48,
    "start_time": "2023-07-17T12:39:51.131Z"
   },
   {
    "duration": 27,
    "start_time": "2023-07-17T12:39:51.181Z"
   },
   {
    "duration": 39,
    "start_time": "2023-07-17T12:39:51.210Z"
   },
   {
    "duration": 82,
    "start_time": "2023-07-17T12:39:51.251Z"
   },
   {
    "duration": 14,
    "start_time": "2023-07-17T12:39:51.335Z"
   },
   {
    "duration": 84,
    "start_time": "2023-07-17T12:39:51.350Z"
   },
   {
    "duration": 89,
    "start_time": "2023-07-17T12:44:49.088Z"
   },
   {
    "duration": 4,
    "start_time": "2023-07-17T12:45:10.986Z"
   },
   {
    "duration": 14,
    "start_time": "2023-07-17T12:45:44.033Z"
   },
   {
    "duration": 5,
    "start_time": "2023-07-17T12:46:13.505Z"
   },
   {
    "duration": 9,
    "start_time": "2023-07-17T12:47:50.799Z"
   },
   {
    "duration": 20,
    "start_time": "2023-07-17T12:54:32.949Z"
   },
   {
    "duration": 34,
    "start_time": "2023-07-17T12:55:20.607Z"
   },
   {
    "duration": 140,
    "start_time": "2023-07-17T13:07:18.392Z"
   },
   {
    "duration": 114,
    "start_time": "2023-07-17T13:11:28.161Z"
   },
   {
    "duration": 117,
    "start_time": "2023-07-17T13:23:07.129Z"
   },
   {
    "duration": 61,
    "start_time": "2023-07-17T13:23:44.372Z"
   },
   {
    "duration": 65,
    "start_time": "2023-07-17T13:24:00.851Z"
   },
   {
    "duration": 58,
    "start_time": "2023-07-17T13:24:14.084Z"
   },
   {
    "duration": 24,
    "start_time": "2023-07-17T13:24:39.310Z"
   },
   {
    "duration": 21,
    "start_time": "2023-07-17T13:24:48.107Z"
   },
   {
    "duration": 20,
    "start_time": "2023-07-17T13:26:11.868Z"
   },
   {
    "duration": 30,
    "start_time": "2023-07-17T13:26:40.073Z"
   },
   {
    "duration": 32,
    "start_time": "2023-07-17T13:30:51.697Z"
   },
   {
    "duration": 135,
    "start_time": "2023-07-17T13:39:28.377Z"
   },
   {
    "duration": 75,
    "start_time": "2023-07-17T13:53:29.512Z"
   },
   {
    "duration": 32,
    "start_time": "2023-07-17T13:53:45.168Z"
   },
   {
    "duration": 21,
    "start_time": "2023-07-17T13:55:10.289Z"
   },
   {
    "duration": 32,
    "start_time": "2023-07-17T13:55:56.715Z"
   },
   {
    "duration": 40,
    "start_time": "2023-07-17T13:56:10.968Z"
   },
   {
    "duration": 25,
    "start_time": "2023-07-17T13:56:25.966Z"
   },
   {
    "duration": 9,
    "start_time": "2023-07-17T13:59:59.869Z"
   },
   {
    "duration": 29,
    "start_time": "2023-07-17T14:01:14.981Z"
   },
   {
    "duration": 128,
    "start_time": "2023-07-17T14:10:43.659Z"
   },
   {
    "duration": 1981,
    "start_time": "2023-07-17T14:10:52.148Z"
   },
   {
    "duration": 17,
    "start_time": "2023-07-17T14:15:30.563Z"
   },
   {
    "duration": 34,
    "start_time": "2023-07-17T14:17:42.508Z"
   },
   {
    "duration": 546,
    "start_time": "2023-07-17T14:20:39.455Z"
   },
   {
    "duration": 16,
    "start_time": "2023-07-17T14:26:20.021Z"
   },
   {
    "duration": 10,
    "start_time": "2023-07-17T14:26:26.217Z"
   },
   {
    "duration": 6,
    "start_time": "2023-07-17T14:26:40.873Z"
   },
   {
    "duration": 14,
    "start_time": "2023-07-17T14:27:18.407Z"
   },
   {
    "duration": 25,
    "start_time": "2023-07-17T14:28:45.701Z"
   },
   {
    "duration": 34,
    "start_time": "2023-07-17T14:28:52.431Z"
   },
   {
    "duration": 10,
    "start_time": "2023-07-17T14:28:57.660Z"
   },
   {
    "duration": 7,
    "start_time": "2023-07-17T14:29:06.787Z"
   },
   {
    "duration": 7,
    "start_time": "2023-07-17T14:29:32.486Z"
   },
   {
    "duration": 33,
    "start_time": "2023-07-17T14:32:39.068Z"
   },
   {
    "duration": 3,
    "start_time": "2023-07-17T14:32:57.754Z"
   },
   {
    "duration": 1304,
    "start_time": "2023-07-17T14:32:57.760Z"
   },
   {
    "duration": 21,
    "start_time": "2023-07-17T14:32:59.066Z"
   },
   {
    "duration": 13,
    "start_time": "2023-07-17T14:32:59.089Z"
   },
   {
    "duration": 11,
    "start_time": "2023-07-17T14:32:59.104Z"
   },
   {
    "duration": 12,
    "start_time": "2023-07-17T14:32:59.125Z"
   },
   {
    "duration": 7,
    "start_time": "2023-07-17T14:32:59.139Z"
   },
   {
    "duration": 6,
    "start_time": "2023-07-17T14:32:59.148Z"
   },
   {
    "duration": 7,
    "start_time": "2023-07-17T14:32:59.156Z"
   },
   {
    "duration": 6,
    "start_time": "2023-07-17T14:32:59.165Z"
   },
   {
    "duration": 8,
    "start_time": "2023-07-17T14:32:59.173Z"
   },
   {
    "duration": 50,
    "start_time": "2023-07-17T14:32:59.183Z"
   },
   {
    "duration": 11,
    "start_time": "2023-07-17T14:32:59.237Z"
   },
   {
    "duration": 35,
    "start_time": "2023-07-17T14:32:59.250Z"
   },
   {
    "duration": 45,
    "start_time": "2023-07-17T14:32:59.288Z"
   },
   {
    "duration": 4,
    "start_time": "2023-07-17T14:32:59.334Z"
   },
   {
    "duration": 21,
    "start_time": "2023-07-17T14:32:59.340Z"
   },
   {
    "duration": 9,
    "start_time": "2023-07-17T14:32:59.363Z"
   },
   {
    "duration": 55,
    "start_time": "2023-07-17T14:32:59.374Z"
   },
   {
    "duration": 8,
    "start_time": "2023-07-17T14:32:59.435Z"
   },
   {
    "duration": 413,
    "start_time": "2023-07-17T14:32:59.445Z"
   },
   {
    "duration": 71,
    "start_time": "2023-07-17T14:32:59.860Z"
   },
   {
    "duration": 28,
    "start_time": "2023-07-17T14:32:59.934Z"
   },
   {
    "duration": 20,
    "start_time": "2023-07-17T14:32:59.964Z"
   },
   {
    "duration": 18,
    "start_time": "2023-07-17T14:32:59.986Z"
   },
   {
    "duration": 1962,
    "start_time": "2023-07-17T14:33:00.006Z"
   },
   {
    "duration": 560,
    "start_time": "2023-07-17T14:33:01.970Z"
   },
   {
    "duration": 414,
    "start_time": "2023-07-17T14:33:02.539Z"
   },
   {
    "duration": 382,
    "start_time": "2023-07-17T14:33:02.955Z"
   },
   {
    "duration": 350,
    "start_time": "2023-07-17T14:33:03.339Z"
   },
   {
    "duration": 203,
    "start_time": "2023-07-17T14:33:03.691Z"
   },
   {
    "duration": 196,
    "start_time": "2023-07-17T14:33:03.896Z"
   },
   {
    "duration": 353,
    "start_time": "2023-07-17T14:33:04.094Z"
   },
   {
    "duration": 496,
    "start_time": "2023-07-17T14:33:04.449Z"
   },
   {
    "duration": 519,
    "start_time": "2023-07-17T14:33:04.948Z"
   },
   {
    "duration": 8,
    "start_time": "2023-07-17T14:33:05.469Z"
   },
   {
    "duration": 24,
    "start_time": "2023-07-17T14:33:05.480Z"
   },
   {
    "duration": 14,
    "start_time": "2023-07-17T14:33:05.522Z"
   },
   {
    "duration": 33,
    "start_time": "2023-07-17T14:33:05.538Z"
   },
   {
    "duration": 14,
    "start_time": "2023-07-17T14:33:05.575Z"
   },
   {
    "duration": 91,
    "start_time": "2023-07-17T14:33:05.591Z"
   },
   {
    "duration": 85,
    "start_time": "2023-07-17T14:33:05.684Z"
   },
   {
    "duration": 36,
    "start_time": "2023-07-17T14:34:36.305Z"
   },
   {
    "duration": 8,
    "start_time": "2023-07-17T14:34:46.420Z"
   },
   {
    "duration": 11,
    "start_time": "2023-07-17T14:35:24.510Z"
   },
   {
    "duration": 523,
    "start_time": "2023-07-17T14:35:52.464Z"
   },
   {
    "duration": 2020,
    "start_time": "2023-07-17T14:38:19.625Z"
   },
   {
    "duration": 27,
    "start_time": "2023-07-17T14:41:16.893Z"
   },
   {
    "duration": 33,
    "start_time": "2023-07-17T14:41:26.131Z"
   },
   {
    "duration": 8,
    "start_time": "2023-07-17T14:41:49.931Z"
   },
   {
    "duration": 146,
    "start_time": "2023-07-17T14:42:52.987Z"
   },
   {
    "duration": 118,
    "start_time": "2023-07-17T14:43:09.289Z"
   },
   {
    "duration": 377,
    "start_time": "2023-07-17T14:44:59.670Z"
   },
   {
    "duration": 15,
    "start_time": "2023-07-17T14:52:17.552Z"
   },
   {
    "duration": 16,
    "start_time": "2023-07-17T14:53:13.052Z"
   },
   {
    "duration": 20,
    "start_time": "2023-07-17T14:54:42.207Z"
   },
   {
    "duration": 2094,
    "start_time": "2023-07-17T14:57:57.056Z"
   },
   {
    "duration": 2132,
    "start_time": "2023-07-17T14:58:27.355Z"
   },
   {
    "duration": 19,
    "start_time": "2023-07-17T14:59:55.298Z"
   },
   {
    "duration": 2294,
    "start_time": "2023-07-17T15:00:54.570Z"
   },
   {
    "duration": 537,
    "start_time": "2023-07-17T15:02:13.994Z"
   },
   {
    "duration": 632,
    "start_time": "2023-07-17T15:04:29.667Z"
   },
   {
    "duration": 13,
    "start_time": "2023-07-17T15:04:35.464Z"
   },
   {
    "duration": 14,
    "start_time": "2023-07-17T15:04:50.664Z"
   },
   {
    "duration": 19,
    "start_time": "2023-07-17T15:09:18.261Z"
   },
   {
    "duration": 14,
    "start_time": "2023-07-17T15:09:34.686Z"
   },
   {
    "duration": 546,
    "start_time": "2023-07-17T15:09:41.651Z"
   },
   {
    "duration": 19,
    "start_time": "2023-07-17T15:17:11.800Z"
   },
   {
    "duration": 20,
    "start_time": "2023-07-17T15:20:29.063Z"
   },
   {
    "duration": 18,
    "start_time": "2023-07-17T15:22:17.565Z"
   },
   {
    "duration": 3,
    "start_time": "2023-07-17T15:31:11.747Z"
   },
   {
    "duration": 457,
    "start_time": "2023-07-17T15:31:18.031Z"
   },
   {
    "duration": 19,
    "start_time": "2023-07-17T15:31:36.171Z"
   },
   {
    "duration": 3,
    "start_time": "2023-07-17T15:38:22.277Z"
   },
   {
    "duration": 1427,
    "start_time": "2023-07-17T15:38:22.283Z"
   },
   {
    "duration": 34,
    "start_time": "2023-07-17T15:38:23.712Z"
   },
   {
    "duration": 16,
    "start_time": "2023-07-17T15:38:23.749Z"
   },
   {
    "duration": 16,
    "start_time": "2023-07-17T15:38:23.767Z"
   },
   {
    "duration": 7,
    "start_time": "2023-07-17T15:38:23.784Z"
   },
   {
    "duration": 35,
    "start_time": "2023-07-17T15:38:23.793Z"
   },
   {
    "duration": 19,
    "start_time": "2023-07-17T15:38:23.830Z"
   },
   {
    "duration": 45,
    "start_time": "2023-07-17T15:38:23.852Z"
   },
   {
    "duration": 46,
    "start_time": "2023-07-17T15:38:23.900Z"
   },
   {
    "duration": 33,
    "start_time": "2023-07-17T15:38:23.954Z"
   },
   {
    "duration": 38,
    "start_time": "2023-07-17T15:38:23.988Z"
   },
   {
    "duration": 30,
    "start_time": "2023-07-17T15:38:24.028Z"
   },
   {
    "duration": 59,
    "start_time": "2023-07-17T15:38:24.061Z"
   },
   {
    "duration": 16,
    "start_time": "2023-07-17T15:38:24.122Z"
   },
   {
    "duration": 7,
    "start_time": "2023-07-17T15:38:24.142Z"
   },
   {
    "duration": 47,
    "start_time": "2023-07-17T15:38:24.151Z"
   },
   {
    "duration": 10,
    "start_time": "2023-07-17T15:38:24.200Z"
   },
   {
    "duration": 56,
    "start_time": "2023-07-17T15:38:24.211Z"
   },
   {
    "duration": 22,
    "start_time": "2023-07-17T15:38:24.269Z"
   },
   {
    "duration": 33,
    "start_time": "2023-07-17T15:38:24.293Z"
   },
   {
    "duration": 359,
    "start_time": "2023-07-17T15:38:24.328Z"
   },
   {
    "duration": 65,
    "start_time": "2023-07-17T15:38:24.689Z"
   },
   {
    "duration": 26,
    "start_time": "2023-07-17T15:38:24.755Z"
   },
   {
    "duration": 18,
    "start_time": "2023-07-17T15:38:24.783Z"
   },
   {
    "duration": 39,
    "start_time": "2023-07-17T15:38:24.813Z"
   },
   {
    "duration": 1776,
    "start_time": "2023-07-17T15:38:24.855Z"
   },
   {
    "duration": 496,
    "start_time": "2023-07-17T15:38:26.633Z"
   },
   {
    "duration": 350,
    "start_time": "2023-07-17T15:38:27.131Z"
   },
   {
    "duration": 394,
    "start_time": "2023-07-17T15:38:27.484Z"
   },
   {
    "duration": 207,
    "start_time": "2023-07-17T15:38:27.880Z"
   },
   {
    "duration": 340,
    "start_time": "2023-07-17T15:38:28.088Z"
   },
   {
    "duration": 222,
    "start_time": "2023-07-17T15:38:28.432Z"
   },
   {
    "duration": 364,
    "start_time": "2023-07-17T15:38:28.656Z"
   },
   {
    "duration": 502,
    "start_time": "2023-07-17T15:38:29.022Z"
   },
   {
    "duration": 574,
    "start_time": "2023-07-17T15:38:29.526Z"
   },
   {
    "duration": 17,
    "start_time": "2023-07-17T15:38:30.102Z"
   },
   {
    "duration": 209,
    "start_time": "2023-07-17T15:38:30.120Z"
   },
   {
    "duration": 82,
    "start_time": "2023-07-17T15:38:30.331Z"
   },
   {
    "duration": 52,
    "start_time": "2023-07-17T15:38:30.416Z"
   },
   {
    "duration": 274,
    "start_time": "2023-07-17T15:38:30.472Z"
   },
   {
    "duration": 27,
    "start_time": "2023-07-17T15:38:30.748Z"
   },
   {
    "duration": 64,
    "start_time": "2023-07-17T15:38:30.777Z"
   },
   {
    "duration": 22,
    "start_time": "2023-07-17T15:54:14.452Z"
   },
   {
    "duration": 25,
    "start_time": "2023-07-17T15:54:23.027Z"
   },
   {
    "duration": 19,
    "start_time": "2023-07-17T15:54:42.075Z"
   },
   {
    "duration": 18,
    "start_time": "2023-07-17T15:54:53.076Z"
   },
   {
    "duration": 17,
    "start_time": "2023-07-17T15:54:57.564Z"
   },
   {
    "duration": 17,
    "start_time": "2023-07-17T15:58:46.261Z"
   },
   {
    "duration": 23,
    "start_time": "2023-07-17T16:01:24.670Z"
   },
   {
    "duration": 23,
    "start_time": "2023-07-17T16:04:15.804Z"
   },
   {
    "duration": 4050,
    "start_time": "2023-07-17T16:21:09.584Z"
   },
   {
    "duration": 5318,
    "start_time": "2023-07-17T16:21:21.534Z"
   },
   {
    "duration": 2398,
    "start_time": "2023-07-17T16:21:41.068Z"
   },
   {
    "duration": 4491,
    "start_time": "2023-07-17T16:22:33.757Z"
   },
   {
    "duration": 4528,
    "start_time": "2023-07-17T16:22:47.308Z"
   },
   {
    "duration": 5233,
    "start_time": "2023-07-17T16:22:59.883Z"
   },
   {
    "duration": 81,
    "start_time": "2023-07-17T19:25:03.481Z"
   },
   {
    "duration": 1483,
    "start_time": "2023-07-17T19:25:07.904Z"
   },
   {
    "duration": 1411,
    "start_time": "2023-07-17T19:25:09.389Z"
   },
   {
    "duration": 37,
    "start_time": "2023-07-17T19:25:10.802Z"
   },
   {
    "duration": 21,
    "start_time": "2023-07-17T19:25:10.841Z"
   },
   {
    "duration": 38,
    "start_time": "2023-07-17T19:25:10.869Z"
   },
   {
    "duration": 10,
    "start_time": "2023-07-17T19:25:10.909Z"
   },
   {
    "duration": 53,
    "start_time": "2023-07-17T19:25:10.921Z"
   },
   {
    "duration": 8,
    "start_time": "2023-07-17T19:25:10.976Z"
   },
   {
    "duration": 9,
    "start_time": "2023-07-17T19:25:10.986Z"
   },
   {
    "duration": 7,
    "start_time": "2023-07-17T19:25:10.999Z"
   },
   {
    "duration": 11,
    "start_time": "2023-07-17T19:25:11.008Z"
   },
   {
    "duration": 34,
    "start_time": "2023-07-17T19:25:11.021Z"
   },
   {
    "duration": 22,
    "start_time": "2023-07-17T19:25:11.057Z"
   },
   {
    "duration": 32,
    "start_time": "2023-07-17T19:25:11.081Z"
   },
   {
    "duration": 10,
    "start_time": "2023-07-17T19:25:11.115Z"
   },
   {
    "duration": 9,
    "start_time": "2023-07-17T19:25:11.127Z"
   },
   {
    "duration": 50,
    "start_time": "2023-07-17T19:25:11.144Z"
   },
   {
    "duration": 9,
    "start_time": "2023-07-17T19:25:11.196Z"
   },
   {
    "duration": 58,
    "start_time": "2023-07-17T19:25:11.207Z"
   },
   {
    "duration": 6,
    "start_time": "2023-07-17T19:25:11.266Z"
   },
   {
    "duration": 3,
    "start_time": "2023-07-17T19:25:11.274Z"
   },
   {
    "duration": 290,
    "start_time": "2023-07-17T19:25:11.279Z"
   },
   {
    "duration": 37,
    "start_time": "2023-07-17T19:25:11.571Z"
   },
   {
    "duration": 45,
    "start_time": "2023-07-17T19:25:11.610Z"
   },
   {
    "duration": 20,
    "start_time": "2023-07-17T19:25:11.662Z"
   },
   {
    "duration": 30,
    "start_time": "2023-07-17T19:25:11.684Z"
   },
   {
    "duration": 1735,
    "start_time": "2023-07-17T19:25:11.716Z"
   },
   {
    "duration": 466,
    "start_time": "2023-07-17T19:25:13.455Z"
   },
   {
    "duration": 462,
    "start_time": "2023-07-17T19:25:13.923Z"
   },
   {
    "duration": 374,
    "start_time": "2023-07-17T19:25:14.386Z"
   },
   {
    "duration": 209,
    "start_time": "2023-07-17T19:25:14.762Z"
   },
   {
    "duration": 198,
    "start_time": "2023-07-17T19:25:14.977Z"
   },
   {
    "duration": 168,
    "start_time": "2023-07-17T19:25:15.177Z"
   },
   {
    "duration": 263,
    "start_time": "2023-07-17T19:25:15.346Z"
   },
   {
    "duration": 478,
    "start_time": "2023-07-17T19:25:15.610Z"
   },
   {
    "duration": 3972,
    "start_time": "2023-07-17T19:25:16.090Z"
   },
   {
    "duration": 11,
    "start_time": "2023-07-17T19:25:20.064Z"
   },
   {
    "duration": 52,
    "start_time": "2023-07-17T19:25:20.078Z"
   },
   {
    "duration": 53,
    "start_time": "2023-07-17T19:25:20.136Z"
   },
   {
    "duration": 110,
    "start_time": "2023-07-17T19:25:20.191Z"
   },
   {
    "duration": 84,
    "start_time": "2023-07-17T19:25:20.303Z"
   },
   {
    "duration": 38,
    "start_time": "2023-07-17T19:25:20.389Z"
   },
   {
    "duration": 158,
    "start_time": "2023-07-17T19:25:20.429Z"
   },
   {
    "duration": 301,
    "start_time": "2023-07-17T19:25:45.111Z"
   },
   {
    "duration": 342,
    "start_time": "2023-07-17T19:26:03.315Z"
   },
   {
    "duration": 553,
    "start_time": "2023-07-17T19:35:33.989Z"
   },
   {
    "duration": 604,
    "start_time": "2023-07-17T19:36:06.460Z"
   },
   {
    "duration": 162,
    "start_time": "2023-07-17T19:38:11.711Z"
   },
   {
    "duration": 716,
    "start_time": "2023-07-17T19:39:15.867Z"
   },
   {
    "duration": 16,
    "start_time": "2023-07-17T19:55:20.460Z"
   },
   {
    "duration": 16,
    "start_time": "2023-07-17T19:55:42.050Z"
   },
   {
    "duration": 11,
    "start_time": "2023-07-17T19:55:47.983Z"
   },
   {
    "duration": 9,
    "start_time": "2023-07-17T19:56:11.379Z"
   },
   {
    "duration": 24,
    "start_time": "2023-07-17T19:56:19.348Z"
   },
   {
    "duration": 15,
    "start_time": "2023-07-17T19:56:23.362Z"
   },
   {
    "duration": 15,
    "start_time": "2023-07-17T19:56:28.062Z"
   },
   {
    "duration": 17,
    "start_time": "2023-07-17T20:04:21.654Z"
   },
   {
    "duration": 35,
    "start_time": "2023-07-17T20:12:49.847Z"
   },
   {
    "duration": 17,
    "start_time": "2023-07-17T20:12:57.684Z"
   },
   {
    "duration": 15,
    "start_time": "2023-07-17T20:14:38.466Z"
   },
   {
    "duration": 29,
    "start_time": "2023-07-17T20:15:05.057Z"
   },
   {
    "duration": 29,
    "start_time": "2023-07-17T20:15:11.522Z"
   },
   {
    "duration": 27,
    "start_time": "2023-07-17T20:16:14.960Z"
   },
   {
    "duration": 26,
    "start_time": "2023-07-17T20:16:39.509Z"
   },
   {
    "duration": 17,
    "start_time": "2023-07-17T20:16:48.206Z"
   },
   {
    "duration": 32,
    "start_time": "2023-07-17T20:18:34.124Z"
   },
   {
    "duration": 24,
    "start_time": "2023-07-17T20:19:10.917Z"
   },
   {
    "duration": 26,
    "start_time": "2023-07-17T20:19:17.216Z"
   },
   {
    "duration": 19,
    "start_time": "2023-07-17T20:19:33.101Z"
   },
   {
    "duration": 21,
    "start_time": "2023-07-17T20:19:39.615Z"
   },
   {
    "duration": 35,
    "start_time": "2023-07-17T20:20:27.206Z"
   },
   {
    "duration": 33,
    "start_time": "2023-07-17T20:20:49.817Z"
   },
   {
    "duration": 65,
    "start_time": "2023-07-17T20:21:05.118Z"
   },
   {
    "duration": 140,
    "start_time": "2023-07-17T20:21:28.660Z"
   },
   {
    "duration": 24,
    "start_time": "2023-07-17T20:21:34.419Z"
   },
   {
    "duration": 16,
    "start_time": "2023-07-17T20:22:54.978Z"
   },
   {
    "duration": 17,
    "start_time": "2023-07-17T20:23:06.482Z"
   },
   {
    "duration": 157,
    "start_time": "2023-07-17T20:26:18.962Z"
   },
   {
    "duration": 72,
    "start_time": "2023-07-17T20:26:30.386Z"
   },
   {
    "duration": 1659,
    "start_time": "2023-07-18T10:25:58.345Z"
   },
   {
    "duration": 1693,
    "start_time": "2023-07-18T10:26:00.010Z"
   },
   {
    "duration": 42,
    "start_time": "2023-07-18T10:26:01.705Z"
   },
   {
    "duration": 92,
    "start_time": "2023-07-18T10:26:01.751Z"
   },
   {
    "duration": 126,
    "start_time": "2023-07-18T10:26:01.846Z"
   },
   {
    "duration": 290,
    "start_time": "2023-07-18T10:26:01.974Z"
   },
   {
    "duration": 219,
    "start_time": "2023-07-18T10:26:02.266Z"
   },
   {
    "duration": 134,
    "start_time": "2023-07-18T10:26:02.487Z"
   },
   {
    "duration": 102,
    "start_time": "2023-07-18T10:26:02.623Z"
   },
   {
    "duration": 63,
    "start_time": "2023-07-18T10:26:02.728Z"
   },
   {
    "duration": 241,
    "start_time": "2023-07-18T10:26:02.792Z"
   },
   {
    "duration": 102,
    "start_time": "2023-07-18T10:26:03.035Z"
   },
   {
    "duration": 94,
    "start_time": "2023-07-18T10:26:03.139Z"
   },
   {
    "duration": 149,
    "start_time": "2023-07-18T10:26:03.235Z"
   },
   {
    "duration": 82,
    "start_time": "2023-07-18T10:26:03.385Z"
   },
   {
    "duration": 81,
    "start_time": "2023-07-18T10:26:03.469Z"
   },
   {
    "duration": 46,
    "start_time": "2023-07-18T10:26:03.552Z"
   },
   {
    "duration": 47,
    "start_time": "2023-07-18T10:26:03.599Z"
   },
   {
    "duration": 45,
    "start_time": "2023-07-18T10:26:03.647Z"
   },
   {
    "duration": 109,
    "start_time": "2023-07-18T10:26:03.694Z"
   },
   {
    "duration": 89,
    "start_time": "2023-07-18T10:26:03.804Z"
   },
   {
    "duration": 394,
    "start_time": "2023-07-18T10:26:03.895Z"
   },
   {
    "duration": 59,
    "start_time": "2023-07-18T10:26:04.292Z"
   },
   {
    "duration": 139,
    "start_time": "2023-07-18T10:26:04.354Z"
   },
   {
    "duration": 26,
    "start_time": "2023-07-18T10:26:04.495Z"
   },
   {
    "duration": 94,
    "start_time": "2023-07-18T10:26:04.524Z"
   },
   {
    "duration": 1832,
    "start_time": "2023-07-18T10:26:04.623Z"
   },
   {
    "duration": 122,
    "start_time": "2023-07-18T10:26:06.458Z"
   },
   {
    "duration": 0,
    "start_time": "2023-07-18T10:26:06.581Z"
   },
   {
    "duration": 0,
    "start_time": "2023-07-18T10:26:06.583Z"
   },
   {
    "duration": 0,
    "start_time": "2023-07-18T10:26:06.585Z"
   },
   {
    "duration": 0,
    "start_time": "2023-07-18T10:26:06.586Z"
   },
   {
    "duration": 0,
    "start_time": "2023-07-18T10:26:06.587Z"
   },
   {
    "duration": 0,
    "start_time": "2023-07-18T10:26:06.588Z"
   },
   {
    "duration": 0,
    "start_time": "2023-07-18T10:26:06.589Z"
   },
   {
    "duration": 0,
    "start_time": "2023-07-18T10:26:06.591Z"
   },
   {
    "duration": 0,
    "start_time": "2023-07-18T10:26:06.592Z"
   },
   {
    "duration": 0,
    "start_time": "2023-07-18T10:26:06.593Z"
   },
   {
    "duration": 0,
    "start_time": "2023-07-18T10:26:06.610Z"
   },
   {
    "duration": 0,
    "start_time": "2023-07-18T10:26:06.611Z"
   },
   {
    "duration": 0,
    "start_time": "2023-07-18T10:26:06.613Z"
   },
   {
    "duration": 0,
    "start_time": "2023-07-18T10:26:06.614Z"
   },
   {
    "duration": 0,
    "start_time": "2023-07-18T10:26:06.616Z"
   },
   {
    "duration": 0,
    "start_time": "2023-07-18T10:26:06.617Z"
   },
   {
    "duration": 0,
    "start_time": "2023-07-18T10:26:06.618Z"
   },
   {
    "duration": 0,
    "start_time": "2023-07-18T10:26:06.620Z"
   },
   {
    "duration": 2585,
    "start_time": "2023-07-18T10:30:49.740Z"
   },
   {
    "duration": 450,
    "start_time": "2023-07-18T10:32:07.088Z"
   },
   {
    "duration": 38,
    "start_time": "2023-07-18T10:33:21.969Z"
   },
   {
    "duration": 515,
    "start_time": "2023-07-18T10:35:10.808Z"
   },
   {
    "duration": 417,
    "start_time": "2023-07-18T10:35:43.736Z"
   },
   {
    "duration": 424,
    "start_time": "2023-07-18T10:36:53.577Z"
   },
   {
    "duration": 442,
    "start_time": "2023-07-18T10:38:45.979Z"
   },
   {
    "duration": 394,
    "start_time": "2023-07-18T10:38:59.544Z"
   },
   {
    "duration": 4,
    "start_time": "2023-07-18T10:42:27.740Z"
   },
   {
    "duration": 1014,
    "start_time": "2023-07-18T10:42:27.764Z"
   },
   {
    "duration": 31,
    "start_time": "2023-07-18T10:42:28.781Z"
   },
   {
    "duration": 35,
    "start_time": "2023-07-18T10:42:28.814Z"
   },
   {
    "duration": 11,
    "start_time": "2023-07-18T10:42:28.851Z"
   },
   {
    "duration": 7,
    "start_time": "2023-07-18T10:42:28.865Z"
   },
   {
    "duration": 33,
    "start_time": "2023-07-18T10:42:28.874Z"
   },
   {
    "duration": 6,
    "start_time": "2023-07-18T10:42:28.908Z"
   },
   {
    "duration": 9,
    "start_time": "2023-07-18T10:42:28.916Z"
   },
   {
    "duration": 14,
    "start_time": "2023-07-18T10:42:28.927Z"
   },
   {
    "duration": 11,
    "start_time": "2023-07-18T10:42:28.943Z"
   },
   {
    "duration": 22,
    "start_time": "2023-07-18T10:42:28.957Z"
   },
   {
    "duration": 31,
    "start_time": "2023-07-18T10:42:28.981Z"
   },
   {
    "duration": 35,
    "start_time": "2023-07-18T10:42:29.014Z"
   },
   {
    "duration": 12,
    "start_time": "2023-07-18T10:42:29.052Z"
   },
   {
    "duration": 9,
    "start_time": "2023-07-18T10:42:29.066Z"
   },
   {
    "duration": 44,
    "start_time": "2023-07-18T10:42:29.078Z"
   },
   {
    "duration": 14,
    "start_time": "2023-07-18T10:42:29.124Z"
   },
   {
    "duration": 54,
    "start_time": "2023-07-18T10:42:29.140Z"
   },
   {
    "duration": 14,
    "start_time": "2023-07-18T10:42:29.196Z"
   },
   {
    "duration": 4,
    "start_time": "2023-07-18T10:42:29.211Z"
   },
   {
    "duration": 325,
    "start_time": "2023-07-18T10:42:29.216Z"
   },
   {
    "duration": 42,
    "start_time": "2023-07-18T10:42:29.543Z"
   },
   {
    "duration": 43,
    "start_time": "2023-07-18T10:42:29.587Z"
   },
   {
    "duration": 21,
    "start_time": "2023-07-18T10:42:29.632Z"
   },
   {
    "duration": 26,
    "start_time": "2023-07-18T10:42:29.655Z"
   },
   {
    "duration": 1614,
    "start_time": "2023-07-18T10:42:29.684Z"
   },
   {
    "duration": 409,
    "start_time": "2023-07-18T10:42:31.299Z"
   },
   {
    "duration": 612,
    "start_time": "2023-07-18T10:42:31.710Z"
   },
   {
    "duration": 401,
    "start_time": "2023-07-18T10:42:32.324Z"
   },
   {
    "duration": 300,
    "start_time": "2023-07-18T10:42:32.728Z"
   },
   {
    "duration": 186,
    "start_time": "2023-07-18T10:42:33.030Z"
   },
   {
    "duration": 207,
    "start_time": "2023-07-18T10:42:33.217Z"
   },
   {
    "duration": 195,
    "start_time": "2023-07-18T10:42:33.427Z"
   },
   {
    "duration": 293,
    "start_time": "2023-07-18T10:42:33.624Z"
   },
   {
    "duration": 448,
    "start_time": "2023-07-18T10:42:33.918Z"
   },
   {
    "duration": 3919,
    "start_time": "2023-07-18T10:42:34.368Z"
   },
   {
    "duration": 640,
    "start_time": "2023-07-18T10:42:38.289Z"
   },
   {
    "duration": 10,
    "start_time": "2023-07-18T10:42:38.931Z"
   },
   {
    "duration": 33,
    "start_time": "2023-07-18T10:42:38.942Z"
   },
   {
    "duration": 15,
    "start_time": "2023-07-18T10:42:38.977Z"
   },
   {
    "duration": 28,
    "start_time": "2023-07-18T10:42:38.996Z"
   },
   {
    "duration": 33,
    "start_time": "2023-07-18T10:42:39.026Z"
   },
   {
    "duration": 25,
    "start_time": "2023-07-18T10:42:39.061Z"
   },
   {
    "duration": 17,
    "start_time": "2023-07-18T10:42:39.088Z"
   },
   {
    "duration": 271,
    "start_time": "2023-07-18T10:42:39.107Z"
   },
   {
    "duration": 47,
    "start_time": "2023-07-19T07:51:56.281Z"
   },
   {
    "duration": 1278,
    "start_time": "2023-07-19T07:52:07.008Z"
   },
   {
    "duration": 1187,
    "start_time": "2023-07-19T07:52:08.288Z"
   },
   {
    "duration": 26,
    "start_time": "2023-07-19T07:52:09.477Z"
   },
   {
    "duration": 13,
    "start_time": "2023-07-19T07:52:09.505Z"
   },
   {
    "duration": 10,
    "start_time": "2023-07-19T07:52:09.520Z"
   },
   {
    "duration": 5,
    "start_time": "2023-07-19T07:52:09.532Z"
   },
   {
    "duration": 5,
    "start_time": "2023-07-19T07:52:09.569Z"
   },
   {
    "duration": 12,
    "start_time": "2023-07-19T07:52:09.575Z"
   },
   {
    "duration": 6,
    "start_time": "2023-07-19T07:52:09.589Z"
   },
   {
    "duration": 5,
    "start_time": "2023-07-19T07:52:09.597Z"
   },
   {
    "duration": 12,
    "start_time": "2023-07-19T07:52:09.603Z"
   },
   {
    "duration": 19,
    "start_time": "2023-07-19T07:52:09.617Z"
   },
   {
    "duration": 39,
    "start_time": "2023-07-19T07:52:09.638Z"
   },
   {
    "duration": 32,
    "start_time": "2023-07-19T07:52:09.679Z"
   },
   {
    "duration": 13,
    "start_time": "2023-07-19T07:52:09.712Z"
   },
   {
    "duration": 8,
    "start_time": "2023-07-19T07:52:09.727Z"
   },
   {
    "duration": 60,
    "start_time": "2023-07-19T07:52:09.737Z"
   },
   {
    "duration": 9,
    "start_time": "2023-07-19T07:52:09.798Z"
   },
   {
    "duration": 23,
    "start_time": "2023-07-19T07:52:09.808Z"
   },
   {
    "duration": 35,
    "start_time": "2023-07-19T07:52:09.833Z"
   },
   {
    "duration": 63,
    "start_time": "2023-07-19T07:52:11.511Z"
   },
   {
    "duration": 13,
    "start_time": "2023-07-19T07:52:25.741Z"
   },
   {
    "duration": 271,
    "start_time": "2023-07-19T07:52:35.127Z"
   }
  ],
  "kernelspec": {
   "display_name": "Python 3 (ipykernel)",
   "language": "python",
   "name": "python3"
  },
  "language_info": {
   "codemirror_mode": {
    "name": "ipython",
    "version": 3
   },
   "file_extension": ".py",
   "mimetype": "text/x-python",
   "name": "python",
   "nbconvert_exporter": "python",
   "pygments_lexer": "ipython3",
   "version": "3.9.7"
  },
  "toc": {
   "base_numbering": 1,
   "nav_menu": {},
   "number_sections": true,
   "sideBar": true,
   "skip_h1_title": true,
   "title_cell": "Table of Contents",
   "title_sidebar": "Contents",
   "toc_cell": false,
   "toc_position": {},
   "toc_section_display": true,
   "toc_window_display": false
  }
 },
 "nbformat": 4,
 "nbformat_minor": 5
}
