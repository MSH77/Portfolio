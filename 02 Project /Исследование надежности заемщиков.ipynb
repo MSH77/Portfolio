{
 "cells": [
  {
   "cell_type": "markdown",
   "id": "620b3edd",
   "metadata": {},
   "source": [
    "# Исследование надежности заемщиков."
   ]
  },
  {
   "cell_type": "markdown",
   "id": "3fa27278",
   "metadata": {},
   "source": [
    "**Описание проекта**\n",
    "\n",
    "Заказчик — кредитный отдел банка. Нужно разобраться, влияет ли семейное положение и количество детей клиента на факт погашения кредита в срок. Входные данные от банка — статистика о платёжеспособности клиентов.\n",
    "Результаты исследования будут учтены при построении модели кредитного скоринга — специальной системы, которая оценивает способность потенциального заёмщика вернуть кредит банку.\n",
    "\n",
    "**Цель исследования** - ответить на вопросы:\n",
    "1. Есть ли зависимость между количеством детей и возвратом кредита в срок?\n",
    "2. Есть ли зависимость между семейным положением и возвратом кредита в срок?\n",
    "3. Есть ли зависимость между уровнем дохода и возвратом кредита в срок?\n",
    "4. Как разные цели кредита влияют на его возврат в срок?\n",
    "\n",
    "**Ход исследования**\n",
    "\n",
    "Данные о поведении пользователей мы получаем из файла `data.csv`. О качестве данных ничего не известно. Поэтому перед ответом на вопросы понадобится обзор данных.\n",
    "\n",
    "Таким образом, исследование пройдёт в три этапа:\n",
    " 1. Обзор данных.\n",
    " 2. Предобработка данных.\n",
    " 3. Ответ на вопросы."
   ]
  },
  {
   "cell_type": "markdown",
   "id": "913d90df",
   "metadata": {},
   "source": [
    "## Обзор данных"
   ]
  },
  {
   "cell_type": "code",
   "execution_count": 9,
   "id": "be2610c1",
   "metadata": {
    "scrolled": true
   },
   "outputs": [
    {
     "data": {
      "text/html": [
       "<div>\n",
       "<style scoped>\n",
       "    .dataframe tbody tr th:only-of-type {\n",
       "        vertical-align: middle;\n",
       "    }\n",
       "\n",
       "    .dataframe tbody tr th {\n",
       "        vertical-align: top;\n",
       "    }\n",
       "\n",
       "    .dataframe thead th {\n",
       "        text-align: right;\n",
       "    }\n",
       "</style>\n",
       "<table border=\"1\" class=\"dataframe\">\n",
       "  <thead>\n",
       "    <tr style=\"text-align: right;\">\n",
       "      <th></th>\n",
       "      <th>children</th>\n",
       "      <th>days_employed</th>\n",
       "      <th>dob_years</th>\n",
       "      <th>education</th>\n",
       "      <th>education_id</th>\n",
       "      <th>family_status</th>\n",
       "      <th>family_status_id</th>\n",
       "      <th>gender</th>\n",
       "      <th>income_type</th>\n",
       "      <th>debt</th>\n",
       "      <th>total_income</th>\n",
       "      <th>purpose</th>\n",
       "    </tr>\n",
       "  </thead>\n",
       "  <tbody>\n",
       "    <tr>\n",
       "      <th>0</th>\n",
       "      <td>1</td>\n",
       "      <td>-8437.673028</td>\n",
       "      <td>42</td>\n",
       "      <td>высшее</td>\n",
       "      <td>0</td>\n",
       "      <td>женат / замужем</td>\n",
       "      <td>0</td>\n",
       "      <td>F</td>\n",
       "      <td>сотрудник</td>\n",
       "      <td>0</td>\n",
       "      <td>253875.639453</td>\n",
       "      <td>покупка жилья</td>\n",
       "    </tr>\n",
       "    <tr>\n",
       "      <th>1</th>\n",
       "      <td>1</td>\n",
       "      <td>-4024.803754</td>\n",
       "      <td>36</td>\n",
       "      <td>среднее</td>\n",
       "      <td>1</td>\n",
       "      <td>женат / замужем</td>\n",
       "      <td>0</td>\n",
       "      <td>F</td>\n",
       "      <td>сотрудник</td>\n",
       "      <td>0</td>\n",
       "      <td>112080.014102</td>\n",
       "      <td>приобретение автомобиля</td>\n",
       "    </tr>\n",
       "    <tr>\n",
       "      <th>2</th>\n",
       "      <td>0</td>\n",
       "      <td>-5623.422610</td>\n",
       "      <td>33</td>\n",
       "      <td>Среднее</td>\n",
       "      <td>1</td>\n",
       "      <td>женат / замужем</td>\n",
       "      <td>0</td>\n",
       "      <td>M</td>\n",
       "      <td>сотрудник</td>\n",
       "      <td>0</td>\n",
       "      <td>145885.952297</td>\n",
       "      <td>покупка жилья</td>\n",
       "    </tr>\n",
       "    <tr>\n",
       "      <th>3</th>\n",
       "      <td>3</td>\n",
       "      <td>-4124.747207</td>\n",
       "      <td>32</td>\n",
       "      <td>среднее</td>\n",
       "      <td>1</td>\n",
       "      <td>женат / замужем</td>\n",
       "      <td>0</td>\n",
       "      <td>M</td>\n",
       "      <td>сотрудник</td>\n",
       "      <td>0</td>\n",
       "      <td>267628.550329</td>\n",
       "      <td>дополнительное образование</td>\n",
       "    </tr>\n",
       "    <tr>\n",
       "      <th>4</th>\n",
       "      <td>0</td>\n",
       "      <td>340266.072047</td>\n",
       "      <td>53</td>\n",
       "      <td>среднее</td>\n",
       "      <td>1</td>\n",
       "      <td>гражданский брак</td>\n",
       "      <td>1</td>\n",
       "      <td>F</td>\n",
       "      <td>пенсионер</td>\n",
       "      <td>0</td>\n",
       "      <td>158616.077870</td>\n",
       "      <td>сыграть свадьбу</td>\n",
       "    </tr>\n",
       "    <tr>\n",
       "      <th>5</th>\n",
       "      <td>0</td>\n",
       "      <td>-926.185831</td>\n",
       "      <td>27</td>\n",
       "      <td>высшее</td>\n",
       "      <td>0</td>\n",
       "      <td>гражданский брак</td>\n",
       "      <td>1</td>\n",
       "      <td>M</td>\n",
       "      <td>компаньон</td>\n",
       "      <td>0</td>\n",
       "      <td>255763.565419</td>\n",
       "      <td>покупка жилья</td>\n",
       "    </tr>\n",
       "    <tr>\n",
       "      <th>6</th>\n",
       "      <td>0</td>\n",
       "      <td>-2879.202052</td>\n",
       "      <td>43</td>\n",
       "      <td>высшее</td>\n",
       "      <td>0</td>\n",
       "      <td>женат / замужем</td>\n",
       "      <td>0</td>\n",
       "      <td>F</td>\n",
       "      <td>компаньон</td>\n",
       "      <td>0</td>\n",
       "      <td>240525.971920</td>\n",
       "      <td>операции с жильем</td>\n",
       "    </tr>\n",
       "    <tr>\n",
       "      <th>7</th>\n",
       "      <td>0</td>\n",
       "      <td>-152.779569</td>\n",
       "      <td>50</td>\n",
       "      <td>СРЕДНЕЕ</td>\n",
       "      <td>1</td>\n",
       "      <td>женат / замужем</td>\n",
       "      <td>0</td>\n",
       "      <td>M</td>\n",
       "      <td>сотрудник</td>\n",
       "      <td>0</td>\n",
       "      <td>135823.934197</td>\n",
       "      <td>образование</td>\n",
       "    </tr>\n",
       "    <tr>\n",
       "      <th>8</th>\n",
       "      <td>2</td>\n",
       "      <td>-6929.865299</td>\n",
       "      <td>35</td>\n",
       "      <td>ВЫСШЕЕ</td>\n",
       "      <td>0</td>\n",
       "      <td>гражданский брак</td>\n",
       "      <td>1</td>\n",
       "      <td>F</td>\n",
       "      <td>сотрудник</td>\n",
       "      <td>0</td>\n",
       "      <td>95856.832424</td>\n",
       "      <td>на проведение свадьбы</td>\n",
       "    </tr>\n",
       "    <tr>\n",
       "      <th>9</th>\n",
       "      <td>0</td>\n",
       "      <td>-2188.756445</td>\n",
       "      <td>41</td>\n",
       "      <td>среднее</td>\n",
       "      <td>1</td>\n",
       "      <td>женат / замужем</td>\n",
       "      <td>0</td>\n",
       "      <td>M</td>\n",
       "      <td>сотрудник</td>\n",
       "      <td>0</td>\n",
       "      <td>144425.938277</td>\n",
       "      <td>покупка жилья для семьи</td>\n",
       "    </tr>\n",
       "  </tbody>\n",
       "</table>\n",
       "</div>"
      ],
      "text/plain": [
       "   children  days_employed  dob_years education  education_id  \\\n",
       "0         1   -8437.673028         42    высшее             0   \n",
       "1         1   -4024.803754         36   среднее             1   \n",
       "2         0   -5623.422610         33   Среднее             1   \n",
       "3         3   -4124.747207         32   среднее             1   \n",
       "4         0  340266.072047         53   среднее             1   \n",
       "5         0    -926.185831         27    высшее             0   \n",
       "6         0   -2879.202052         43    высшее             0   \n",
       "7         0    -152.779569         50   СРЕДНЕЕ             1   \n",
       "8         2   -6929.865299         35    ВЫСШЕЕ             0   \n",
       "9         0   -2188.756445         41   среднее             1   \n",
       "\n",
       "      family_status  family_status_id gender income_type  debt   total_income  \\\n",
       "0   женат / замужем                 0      F   сотрудник     0  253875.639453   \n",
       "1   женат / замужем                 0      F   сотрудник     0  112080.014102   \n",
       "2   женат / замужем                 0      M   сотрудник     0  145885.952297   \n",
       "3   женат / замужем                 0      M   сотрудник     0  267628.550329   \n",
       "4  гражданский брак                 1      F   пенсионер     0  158616.077870   \n",
       "5  гражданский брак                 1      M   компаньон     0  255763.565419   \n",
       "6   женат / замужем                 0      F   компаньон     0  240525.971920   \n",
       "7   женат / замужем                 0      M   сотрудник     0  135823.934197   \n",
       "8  гражданский брак                 1      F   сотрудник     0   95856.832424   \n",
       "9   женат / замужем                 0      M   сотрудник     0  144425.938277   \n",
       "\n",
       "                      purpose  \n",
       "0               покупка жилья  \n",
       "1     приобретение автомобиля  \n",
       "2               покупка жилья  \n",
       "3  дополнительное образование  \n",
       "4             сыграть свадьбу  \n",
       "5               покупка жилья  \n",
       "6           операции с жильем  \n",
       "7                 образование  \n",
       "8       на проведение свадьбы  \n",
       "9     покупка жилья для семьи  "
      ]
     },
     "metadata": {},
     "output_type": "display_data"
    },
    {
     "name": "stdout",
     "output_type": "stream",
     "text": [
      "<class 'pandas.core.frame.DataFrame'>\n",
      "RangeIndex: 21525 entries, 0 to 21524\n",
      "Data columns (total 12 columns):\n",
      " #   Column            Non-Null Count  Dtype  \n",
      "---  ------            --------------  -----  \n",
      " 0   children          21525 non-null  int64  \n",
      " 1   days_employed     19351 non-null  float64\n",
      " 2   dob_years         21525 non-null  int64  \n",
      " 3   education         21525 non-null  object \n",
      " 4   education_id      21525 non-null  int64  \n",
      " 5   family_status     21525 non-null  object \n",
      " 6   family_status_id  21525 non-null  int64  \n",
      " 7   gender            21525 non-null  object \n",
      " 8   income_type       21525 non-null  object \n",
      " 9   debt              21525 non-null  int64  \n",
      " 10  total_income      19351 non-null  float64\n",
      " 11  purpose           21525 non-null  object \n",
      "dtypes: float64(2), int64(5), object(5)\n",
      "memory usage: 2.0+ MB\n"
     ]
    }
   ],
   "source": [
    "import pandas as pd\n",
    "data = pd.read_csv('data.csv')\n",
    "display(data.head(10))\n",
    "data.info()"
   ]
  },
  {
   "cell_type": "markdown",
   "id": "f42aba36",
   "metadata": {},
   "source": [
    "### Шаг 2.1 Заполнение пропусков"
   ]
  },
  {
   "cell_type": "markdown",
   "id": "267f3ae9",
   "metadata": {},
   "source": [
    "Для начала посчитаем сколько в таблице пропущенных значений."
   ]
  },
  {
   "cell_type": "code",
   "execution_count": 2,
   "id": "57e875c5",
   "metadata": {},
   "outputs": [
    {
     "data": {
      "text/plain": [
       "children               0\n",
       "days_employed       2174\n",
       "dob_years              0\n",
       "education              0\n",
       "education_id           0\n",
       "family_status          0\n",
       "family_status_id       0\n",
       "gender                 0\n",
       "income_type            0\n",
       "debt                   0\n",
       "total_income        2174\n",
       "purpose                0\n",
       "dtype: int64"
      ]
     },
     "metadata": {},
     "output_type": "display_data"
    }
   ],
   "source": [
    "display(data.isna().sum())"
   ]
  },
  {
   "cell_type": "markdown",
   "id": "eb817d91",
   "metadata": {},
   "source": [
    "Мы нашли пропуски в двух столбцах: `days_employed` и `total_income`.\n",
    "\n",
    "Пропуски в этих столбцах могут помешать исследованию и ответам на вопросы проекта. \n",
    "\n",
    "Найдем какую долю составляют пропущенные значения в каждом из столбцов с пропусками."
   ]
  },
  {
   "cell_type": "code",
   "execution_count": 10,
   "id": "b8f8342c",
   "metadata": {},
   "outputs": [
    {
     "name": "stdout",
     "output_type": "stream",
     "text": [
      "children            0.000000\n",
      "days_employed       0.100999\n",
      "dob_years           0.000000\n",
      "education           0.000000\n",
      "education_id        0.000000\n",
      "family_status       0.000000\n",
      "family_status_id    0.000000\n",
      "gender              0.000000\n",
      "income_type         0.000000\n",
      "debt                0.000000\n",
      "total_income        0.100999\n",
      "purpose             0.000000\n",
      "dtype: float64\n"
     ]
    }
   ],
   "source": [
    "print(data.isna().mean())"
   ]
  },
  {
   "cell_type": "markdown",
   "id": "75dbfcc0",
   "metadata": {},
   "source": [
    "Пропущенные значения составляют около 10 процентов от общего количества.\n",
    "\n",
    "Возможные пропуски в данных являлись технической или человеческой ошибкой при внесении данных.\n"
   ]
  },
  {
   "cell_type": "code",
   "execution_count": 4,
   "id": "17e6b0f8",
   "metadata": {},
   "outputs": [
    {
     "name": "stdout",
     "output_type": "stream",
     "text": [
      "145017.93753253992\n"
     ]
    },
    {
     "data": {
      "text/plain": [
       "children               0\n",
       "days_employed       2174\n",
       "dob_years              0\n",
       "education              0\n",
       "education_id           0\n",
       "family_status          0\n",
       "family_status_id       0\n",
       "gender                 0\n",
       "income_type            0\n",
       "debt                   0\n",
       "total_income           0\n",
       "purpose                0\n",
       "dtype: int64"
      ]
     },
     "metadata": {},
     "output_type": "display_data"
    }
   ],
   "source": [
    "print(data['total_income'].median())\n",
    "data['total_income'] = data['total_income'].fillna(data['total_income'].median())\n",
    "display(data.isna().sum())"
   ]
  },
  {
   "cell_type": "markdown",
   "id": "f93d8c7c",
   "metadata": {},
   "source": [
    "Заполнили пропуски в столбце `total_income` медианным значением. Среднее значение может быть некорректно в данной ситуации из за очень большой разницы зарплат между людьми."
   ]
  },
  {
   "cell_type": "markdown",
   "id": "bf04bfbe",
   "metadata": {},
   "source": [
    "### Шаг 2.2 Проверка данных на аномалии и исправления."
   ]
  },
  {
   "cell_type": "markdown",
   "id": "44532711",
   "metadata": {},
   "source": [
    "В столбце `days_employed` 3 аномалии: \n",
    "1. Пустые значения\n",
    "2. Сверхбольшие значения\n",
    "3. Отрицательные значения"
   ]
  },
  {
   "cell_type": "code",
   "execution_count": 5,
   "id": "b390e5ed",
   "metadata": {},
   "outputs": [
    {
     "data": {
      "text/plain": [
       "children            0\n",
       "days_employed       0\n",
       "dob_years           0\n",
       "education           0\n",
       "education_id        0\n",
       "family_status       0\n",
       "family_status_id    0\n",
       "gender              0\n",
       "income_type         0\n",
       "debt                0\n",
       "total_income        0\n",
       "purpose             0\n",
       "dtype: int64"
      ]
     },
     "metadata": {},
     "output_type": "display_data"
    }
   ],
   "source": [
    "data['days_employed'] = abs(data['days_employed']) #изменяем все значения в столбце на положительные\n",
    "for value in data['days_employed']: # изменяем все сверхбольшие значения, предполагая, что они записаны в часах \n",
    "    if value / 365 > 75:\n",
    "        value = value / 24\n",
    "med_days = data['days_employed'].median() \n",
    "data['days_employed'] = data['days_employed'].fillna(med_days)# Заменяем пустые значения на медианные\n",
    "display(data.isna().sum())  "
   ]
  },
  {
   "cell_type": "markdown",
   "id": "de93b0e2",
   "metadata": {},
   "source": [
    "Для сверхбольших значений взяли условное количество отработанных лет в виде 75, чтобы убрать данную аномалию и перевести ее в количество отработанных дней из отработанных часов. Заменили пустые значения на медианные, но нулевые значения трогать не будем, так как причина их появления неизвестна,а количество таких строк крайне мало."
   ]
  },
  {
   "cell_type": "code",
   "execution_count": 15,
   "id": "41cb72fd",
   "metadata": {
    "scrolled": true
   },
   "outputs": [
    {
     "name": "stdout",
     "output_type": "stream",
     "text": [
      "[1 0 3 2 4 5]\n",
      "0    14225\n",
      "1     4865\n",
      "2     2055\n",
      "3      330\n",
      "4       41\n",
      "5        9\n",
      "Name: children, dtype: int64\n"
     ]
    }
   ],
   "source": [
    "data['children'] = abs(data['children'])\n",
    "med_ch = int(data['children'].median())\n",
    "data.loc[data['children'] == 20, 'children'] = med_ch\n",
    "print(data['children'].unique())\n",
    "print(data['children'].value_counts())"
   ]
  },
  {
   "cell_type": "markdown",
   "id": "a5a929d4",
   "metadata": {},
   "source": [
    "Исправили аномалии в столбце `children`. Убрали отрицательное значение в виде -1 и заменили значение 20 на медианное, так как непонятно откуда оно могло взяться. Возможно из за человеческого фактора кто то случайно добавил либо 0 в конце, либо 2 в начале."
   ]
  },
  {
   "cell_type": "code",
   "execution_count": 17,
   "id": "abeba197",
   "metadata": {},
   "outputs": [
    {
     "name": "stdout",
     "output_type": "stream",
     "text": [
      "[42 36 33 32 53 27 43 50 35 41 40 65 54 56 26 48 24 21 57 67 28 63 62 47\n",
      " 34 68 25 31 30 20 49 37 45 61 64 44 52 46 23 38 39 51  0 59 29 60 55 58\n",
      " 71 22 73 66 69 19 72 70 74 75]\n",
      "[42 36 33 32 53 27 43 50 35 41 40 65 54 56 26 48 24 21 57 67 28 63 62 47\n",
      " 34 68 25 31 30 20 49 37 45 61 64 44 52 46 23 38 39 51 59 29 60 55 58 71\n",
      " 22 73 66 69 19 72 70 74 75]\n"
     ]
    }
   ],
   "source": [
    "print(data['dob_years'].unique())#Встречаются нулевые значения\n",
    "med = int(data['dob_years'].median()) #Медиана \n",
    "data.loc[(data['dob_years'] == 0), 'dob_years'] = med\n",
    "print(data['dob_years'].unique())"
   ]
  },
  {
   "cell_type": "markdown",
   "id": "b87e4b57",
   "metadata": {},
   "source": [
    "Заменили 0 на медианное значение."
   ]
  },
  {
   "cell_type": "markdown",
   "id": "87324b26",
   "metadata": {},
   "source": [
    "### Шаг 2.3. Изменение типов данных."
   ]
  },
  {
   "cell_type": "code",
   "execution_count": null,
   "id": "008c210b",
   "metadata": {
    "scrolled": true
   },
   "outputs": [],
   "source": [
    "data['total_income'] = data['total_income'].astype('int')\n",
    "data.info()"
   ]
  },
  {
   "cell_type": "markdown",
   "id": "f1985e3f",
   "metadata": {},
   "source": [
    "### Шаг 2.4. Удаление дубликатов."
   ]
  },
  {
   "cell_type": "code",
   "execution_count": null,
   "id": "2d9a20b4",
   "metadata": {},
   "outputs": [],
   "source": [
    "print(data.duplicated().sum())\n",
    "data = data.drop_duplicates().reset_index(drop=True) # убрали строки-дубликаты\n",
    "print(data.duplicated().sum())"
   ]
  },
  {
   "cell_type": "markdown",
   "id": "3a8cdf5a",
   "metadata": {},
   "source": [
    "Убрали строки-дубликаты.\n",
    "Теперь займемся неявными дубликатами."
   ]
  },
  {
   "cell_type": "code",
   "execution_count": null,
   "id": "0cc5bc94",
   "metadata": {},
   "outputs": [],
   "source": [
    "print(data['education'].unique())"
   ]
  },
  {
   "cell_type": "markdown",
   "id": "861fe0b0",
   "metadata": {},
   "source": [
    "Приведем все к нижнему регистру, тем самым убрав неявные дубликаты из столбца `education`."
   ]
  },
  {
   "cell_type": "code",
   "execution_count": null,
   "id": "c7071e52",
   "metadata": {},
   "outputs": [],
   "source": [
    "data['education'] = data['education'].str.lower()\n",
    "print(data['education'].unique())\n",
    "print(data['family_status'].unique()) #нет неявных дубликатов\n",
    "print(data['gender'].unique())#нет неявных дубликатов\n",
    "print(data['income_type'].unique())#нет неявных дубликатов\n",
    "print(data['purpose'].unique())#нет неявных дубликатов"
   ]
  },
  {
   "cell_type": "markdown",
   "id": "128e6ebd",
   "metadata": {},
   "source": [
    "Проверили остальные столбцы на неявные дубликаты. Их нигде не оказалось, разве что в столбце `gender` есть XNA, но я думаю что это пропуск и встречается он только в одной строчке."
   ]
  },
  {
   "cell_type": "markdown",
   "id": "7b5dabb8",
   "metadata": {},
   "source": [
    "### Шаг 2.5. Формирование дополнительных датафреймов словарей, декомпозиция исходного датафрейма."
   ]
  },
  {
   "cell_type": "markdown",
   "id": "a3b5b40e",
   "metadata": {},
   "source": [
    "Создадим два новый датафрейма `education_dict` и `family_status_dict`, каждому уникальному значению из `education` соответствует уникальное значение `education_id` — в первом, тоже самое с `family_status`.\n",
    "\n",
    "Также удалим из исходного датафрейма столбцы `education` и `family_status`, оставив только их идентификаторы: `education_id` и `family_status_id`."
   ]
  },
  {
   "cell_type": "code",
   "execution_count": null,
   "id": "bb758814",
   "metadata": {
    "scrolled": true
   },
   "outputs": [],
   "source": [
    "education_dict = data[['education','education_id']]\n",
    "education_dict = education_dict.drop_duplicates().reset_index(drop = True)\n",
    "display(education_dict)#Проверка\n",
    "family_status_dict = data[['family_status', 'family_status_id']]\n",
    "family_status_dict = family_status_dict.drop_duplicates().reset_index(drop = True)\n",
    "display(family_status_dict)#Проверка\n",
    "data = data.drop(['education', 'family_status'], axis=1)\n",
    "display(data.head(10))#Проверка"
   ]
  },
  {
   "cell_type": "markdown",
   "id": "43812e89",
   "metadata": {},
   "source": [
    "### Шаг 2.6. Категоризация дохода."
   ]
  },
  {
   "cell_type": "markdown",
   "id": "eca50352",
   "metadata": {},
   "source": [
    "На основании диапазонов, указанных ниже, создаем столбец `total_income_category` с категориями:\n",
    "1. 0–30000 — `E`;\n",
    "2. 30001–50000 — `D`;\n",
    "3. 50001–200000 — `C`;\n",
    "4. 200001–1000000 — `B`;\n",
    "5. 1000001 и выше — `A`."
   ]
  },
  {
   "cell_type": "code",
   "execution_count": null,
   "id": "d1f2eda2",
   "metadata": {
    "scrolled": true
   },
   "outputs": [],
   "source": [
    "def income_category(total_income):\n",
    "    if total_income >= 0 and total_income<= 30000:\n",
    "        return 'E'\n",
    "    if total_income >= 30001 and total_income<= 50000:\n",
    "        return 'D'\n",
    "    if total_income >= 50001 and total_income<= 200000:\n",
    "        return 'C'\n",
    "    if total_income >= 200001 and total_income<= 1000000:\n",
    "        return 'B'\n",
    "    if total_income >= 1000001:\n",
    "        return 'A'\n",
    "data['total_income_category'] = data['total_income'].apply(income_category)    \n",
    "display(data)"
   ]
  },
  {
   "cell_type": "markdown",
   "id": "46838124",
   "metadata": {},
   "source": [
    "### Шаг 2.7. Категоризация целей кредита."
   ]
  },
  {
   "cell_type": "markdown",
   "id": "05c67ef0",
   "metadata": {},
   "source": [
    "Создадим функцию, которая на основании данных из столбца `purpose` сформирует новый столбец `purpose_category`, в который войдут следующие категории:\n",
    "1. `операции с автомобилем`,\n",
    "2. `операции с недвижимостью`,\n",
    "3. `проведение свадьбы`,\n",
    "4. `получение образования`."
   ]
  },
  {
   "cell_type": "code",
   "execution_count": null,
   "id": "bf19cf7c",
   "metadata": {
    "scrolled": true
   },
   "outputs": [],
   "source": [
    "data['purpose'].unique()\n",
    "def purpose_category(purpose):\n",
    "    if 'авто' in purpose:\n",
    "        return 'операции с автомобилем'\n",
    "    if 'жи' in purpose:\n",
    "        return 'операции с недвижимостью'\n",
    "    if 'сва' in purpose:\n",
    "        return 'проведение свадьбы'\n",
    "    if 'образ' in purpose:\n",
    "        return 'получение образования'\n",
    "data['purpose_category'] = data['purpose'].apply(purpose_category)    \n",
    "display(data)"
   ]
  },
  {
   "cell_type": "markdown",
   "id": "e1d175ab",
   "metadata": {},
   "source": [
    "### Ответы на вопросы."
   ]
  },
  {
   "cell_type": "markdown",
   "id": "93ac9904",
   "metadata": {},
   "source": [
    "##### Вопрос 1:"
   ]
  },
  {
   "cell_type": "markdown",
   "id": "66366d91",
   "metadata": {},
   "source": [
    "Есть ли зависимость между количеством детей и возвратом кредита в срок?\n",
    "\n",
    "Зависимость оказалось неявной, так как в семьях с 5 детьми 100% выплачиваемость кредитов, но для выборки в 9 таких клиентов это очень мало. Если бы появилась семья с невыплаченным в срок кредитом, то ratio было бы уже 10%. Также можем увидеть, что семьи с 3 детьми имеют больший процент вылпачиваемости кредитов в срок в отличие от семей с 1, 2 и 4 детьми. Поэтому данная зависимость является слабой."
   ]
  },
  {
   "cell_type": "code",
   "execution_count": null,
   "id": "d378086e",
   "metadata": {},
   "outputs": [],
   "source": [
    "children_result = pd.DataFrame()\n",
    "children_result['sum'] = data.groupby('children')['debt'].sum()\n",
    "children_result['count'] = data.groupby('children')['children'].count()\n",
    "children_result['ratio'] = children_result['sum']/children_result['count']\n",
    "display(children_result.sort_values('ratio'))"
   ]
  },
  {
   "cell_type": "markdown",
   "id": "53730cd7",
   "metadata": {},
   "source": [
    "##### Вопрос 2:"
   ]
  },
  {
   "cell_type": "markdown",
   "id": "abf4ba55",
   "metadata": {},
   "source": [
    "Есть ли зависимость между семейным положением и возвратом кредита в срок?\n",
    "\n",
    "Зависимость присутствует. Овдовевшие люди и разведенные намного чаще платят кредиты в срок, нежели люди, которые никогда не были в браке"
   ]
  },
  {
   "cell_type": "code",
   "execution_count": null,
   "id": "121f30d2",
   "metadata": {},
   "outputs": [],
   "source": [
    "family_status_result = pd.DataFrame()\n",
    "family_status_result['sum'] = data.merge(family_status_dict, on = 'family_status_id', how = 'left').groupby('family_status')['debt'].sum()\n",
    "family_status_result['count'] = data.merge(family_status_dict, on = 'family_status_id', how = 'left').groupby('family_status')['family_status'].count()\n",
    "family_status_result['ratio'] = family_status_result['sum']/family_status_result['count']\n",
    "display(family_status_result.sort_values('ratio'))"
   ]
  },
  {
   "cell_type": "markdown",
   "id": "402e8103",
   "metadata": {},
   "source": [
    "##### Вопрос 3:"
   ]
  },
  {
   "cell_type": "markdown",
   "id": "5fe2b86d",
   "metadata": {},
   "source": [
    "Есть ли зависимость между уровнем дохода и возвратом кредита в срок?\n",
    "\n",
    "Здесь зависимость не наблюдается, так как выборки людей с доходами меньше 30000 и больше 1000000 крайне малы и по ним мы не можем делать какие-то выводы. По таблице видно, что люди с почти самым маленьким заработком выплачивают в срок намного больше, чем люди с почти самым большим заработком."
   ]
  },
  {
   "cell_type": "code",
   "execution_count": null,
   "id": "f6a897c5",
   "metadata": {},
   "outputs": [],
   "source": [
    "income_total_result = pd.DataFrame()\n",
    "income_total_result['sum'] = data.groupby('total_income_category')['debt'].sum()\n",
    "income_total_result['count'] = data.groupby('total_income_category')['total_income_category'].count()\n",
    "income_total_result['ratio'] = income_total_result['sum'] / income_total_result['count']\n",
    "display(income_total_result.sort_values('ratio'))"
   ]
  },
  {
   "cell_type": "markdown",
   "id": "fc4d5dc4",
   "metadata": {},
   "source": [
    "##### Вопрос 4:"
   ]
  },
  {
   "cell_type": "markdown",
   "id": "5da47f03",
   "metadata": {},
   "source": [
    "Как разные цели кредита влияют на его возврат в срок?\n",
    "\n",
    "Зависимость присутствует. Люди берущие кредит для операции с недвижимостью чаще всего отдают кредит в срок, в то время как кредиты, выданные для покупки автомобиля и для получения образования, отдаются хуже всего. Кредит для проведения свадьбы отдается также часто как и кредит на недвижимость."
   ]
  },
  {
   "cell_type": "code",
   "execution_count": null,
   "id": "db7d124b",
   "metadata": {},
   "outputs": [],
   "source": [
    "purpose_result = pd.DataFrame()\n",
    "purpose_result['sum'] = data.groupby('purpose_category')['debt'].sum()\n",
    "purpose_result['count'] = data.groupby('purpose_category')['purpose_category'].count()\n",
    "purpose_result['ratio'] = purpose_result['sum'] / purpose_result['count']\n",
    "display(purpose_result.sort_values('ratio'))"
   ]
  },
  {
   "cell_type": "markdown",
   "id": "6a1c92a4",
   "metadata": {},
   "source": [
    "## Общий вывод:"
   ]
  },
  {
   "cell_type": "markdown",
   "id": "b358f0f7",
   "metadata": {},
   "source": [
    "Был произведен обзор данных, затем их преобработка, при которой мы выявили аномалии, пропуски в данных, явные и неявные дубликаты. Произвели категоризацию данных по уровню дохода, семейному положению, образованию, а также по целям кредита.\n",
    "\n",
    "Мы провели все 3 этапа исследования, о которых написали вначале. По данным которые получили можно сказать следующее:\n",
    "\n",
    "1. Чем больше детей, тем реже выплачиваются кредиты. \n",
    "2. Разведенные и овдовевшие люди чаще выплачивают кредиты в срок, чем те кто не был еще в браке.\n",
    "3. Кредиты, которые берут для недвижимости или проведения свадьбы чаще отдаются вовремя, чем кредиты для получения образования и покупки автомобиля.\n",
    "\n",
    "**ИТОГИ**\n",
    "1. Зависимость между количеством детей и возвратом кредита в срок `Имеется`\n",
    "2. Зависимость между семейным положением и возвратом кредита в срок `Имеется`\n",
    "3. Зависимость между уровнем дохода и возвратом кредита в срок `Не имеется`\n",
    "4. Цели кредита влияют на его возврат в срок `Влияют`"
   ]
  }
 ],
 "metadata": {
  "ExecuteTimeLog": [
   {
    "duration": 607,
    "start_time": "2022-06-06T13:49:41.712Z"
   },
   {
    "duration": 99,
    "start_time": "2022-06-06T14:17:26.862Z"
   },
   {
    "duration": 11,
    "start_time": "2022-06-06T14:17:37.038Z"
   },
   {
    "duration": 31,
    "start_time": "2022-06-06T14:34:51.858Z"
   },
   {
    "duration": 11,
    "start_time": "2022-06-06T14:35:52.502Z"
   },
   {
    "duration": 6,
    "start_time": "2022-06-06T14:36:32.397Z"
   },
   {
    "duration": 6,
    "start_time": "2022-06-06T14:41:08.451Z"
   },
   {
    "duration": 5,
    "start_time": "2022-06-06T14:41:33.049Z"
   },
   {
    "duration": 6,
    "start_time": "2022-06-06T14:41:59.080Z"
   },
   {
    "duration": 17,
    "start_time": "2022-06-06T14:42:23.570Z"
   },
   {
    "duration": 102,
    "start_time": "2022-06-06T14:50:31.033Z"
   },
   {
    "duration": 6,
    "start_time": "2022-06-06T14:50:36.498Z"
   },
   {
    "duration": 21,
    "start_time": "2022-06-06T15:13:33.719Z"
   },
   {
    "duration": 13,
    "start_time": "2022-06-06T15:20:08.149Z"
   },
   {
    "duration": 4,
    "start_time": "2022-06-06T15:24:42.834Z"
   },
   {
    "duration": 6,
    "start_time": "2022-06-06T15:27:13.873Z"
   },
   {
    "duration": 13,
    "start_time": "2022-06-06T15:30:26.443Z"
   },
   {
    "duration": 14,
    "start_time": "2022-06-06T15:30:37.003Z"
   },
   {
    "duration": 12,
    "start_time": "2022-06-06T15:31:33.343Z"
   },
   {
    "duration": 13,
    "start_time": "2022-06-06T15:32:34.102Z"
   },
   {
    "duration": 35,
    "start_time": "2022-06-06T15:37:52.160Z"
   },
   {
    "duration": 4,
    "start_time": "2022-06-06T15:39:02.481Z"
   },
   {
    "duration": 13,
    "start_time": "2022-06-06T15:40:51.858Z"
   },
   {
    "duration": 13,
    "start_time": "2022-06-06T15:41:11.389Z"
   },
   {
    "duration": 12,
    "start_time": "2022-06-06T15:41:50.952Z"
   },
   {
    "duration": 12,
    "start_time": "2022-06-06T15:42:07.586Z"
   },
   {
    "duration": 102,
    "start_time": "2022-06-06T15:42:16.912Z"
   },
   {
    "duration": 12,
    "start_time": "2022-06-06T15:42:17.016Z"
   },
   {
    "duration": 13,
    "start_time": "2022-06-06T15:42:17.030Z"
   },
   {
    "duration": 19,
    "start_time": "2022-06-06T15:42:17.045Z"
   },
   {
    "duration": 37,
    "start_time": "2022-06-06T15:42:17.067Z"
   },
   {
    "duration": 14,
    "start_time": "2022-06-06T15:42:17.106Z"
   },
   {
    "duration": 12,
    "start_time": "2022-06-06T15:42:20.943Z"
   },
   {
    "duration": 12,
    "start_time": "2022-06-06T15:42:38.857Z"
   },
   {
    "duration": 11,
    "start_time": "2022-06-06T15:42:48.586Z"
   },
   {
    "duration": 106,
    "start_time": "2022-06-06T15:43:31.597Z"
   },
   {
    "duration": 11,
    "start_time": "2022-06-06T15:43:31.706Z"
   },
   {
    "duration": 5,
    "start_time": "2022-06-06T15:43:31.719Z"
   },
   {
    "duration": 14,
    "start_time": "2022-06-06T15:43:31.726Z"
   },
   {
    "duration": 50,
    "start_time": "2022-06-06T15:43:31.743Z"
   },
   {
    "duration": 14,
    "start_time": "2022-06-06T15:43:31.796Z"
   },
   {
    "duration": 16,
    "start_time": "2022-06-06T15:43:31.812Z"
   },
   {
    "duration": 17,
    "start_time": "2022-06-06T16:11:00.466Z"
   },
   {
    "duration": 4,
    "start_time": "2022-06-06T16:16:40.751Z"
   },
   {
    "duration": 19,
    "start_time": "2022-06-06T16:16:49.207Z"
   },
   {
    "duration": 16,
    "start_time": "2022-06-06T16:18:04.353Z"
   },
   {
    "duration": 14,
    "start_time": "2022-06-06T16:18:16.804Z"
   },
   {
    "duration": 42,
    "start_time": "2022-06-06T16:19:25.946Z"
   },
   {
    "duration": 53,
    "start_time": "2022-06-06T16:19:50.864Z"
   },
   {
    "duration": 23,
    "start_time": "2022-06-06T16:38:21.961Z"
   },
   {
    "duration": 25,
    "start_time": "2022-06-06T16:38:25.204Z"
   },
   {
    "duration": 5,
    "start_time": "2022-06-06T16:40:33.657Z"
   },
   {
    "duration": 6,
    "start_time": "2022-06-06T16:46:37.070Z"
   },
   {
    "duration": 18,
    "start_time": "2022-06-06T16:47:36.007Z"
   },
   {
    "duration": 20,
    "start_time": "2022-06-06T16:49:09.501Z"
   },
   {
    "duration": 4,
    "start_time": "2022-06-06T16:50:05.953Z"
   },
   {
    "duration": 114,
    "start_time": "2022-06-06T16:50:30.213Z"
   },
   {
    "duration": 11,
    "start_time": "2022-06-06T16:50:30.329Z"
   },
   {
    "duration": 6,
    "start_time": "2022-06-06T16:50:30.342Z"
   },
   {
    "duration": 23,
    "start_time": "2022-06-06T16:50:30.350Z"
   },
   {
    "duration": 30,
    "start_time": "2022-06-06T16:50:30.375Z"
   },
   {
    "duration": 15,
    "start_time": "2022-06-06T16:50:30.407Z"
   },
   {
    "duration": 12,
    "start_time": "2022-06-06T16:50:30.424Z"
   },
   {
    "duration": 56,
    "start_time": "2022-06-06T16:50:30.438Z"
   },
   {
    "duration": 27,
    "start_time": "2022-06-06T16:50:30.496Z"
   },
   {
    "duration": 5,
    "start_time": "2022-06-06T16:50:32.784Z"
   },
   {
    "duration": 16,
    "start_time": "2022-06-06T16:57:16.558Z"
   },
   {
    "duration": 15,
    "start_time": "2022-06-06T16:57:24.915Z"
   },
   {
    "duration": 4,
    "start_time": "2022-06-06T16:58:44.473Z"
   },
   {
    "duration": 6,
    "start_time": "2022-06-06T17:01:29.921Z"
   },
   {
    "duration": 9,
    "start_time": "2022-06-06T17:02:07.098Z"
   },
   {
    "duration": 118,
    "start_time": "2022-06-06T17:47:37.264Z"
   },
   {
    "duration": 27,
    "start_time": "2022-06-06T17:47:37.395Z"
   },
   {
    "duration": 8,
    "start_time": "2022-06-06T17:47:37.424Z"
   },
   {
    "duration": 21,
    "start_time": "2022-06-06T17:47:37.434Z"
   },
   {
    "duration": 35,
    "start_time": "2022-06-06T17:47:37.458Z"
   },
   {
    "duration": 23,
    "start_time": "2022-06-06T17:47:37.496Z"
   },
   {
    "duration": 12,
    "start_time": "2022-06-06T17:47:37.521Z"
   },
   {
    "duration": 35,
    "start_time": "2022-06-06T17:47:37.535Z"
   },
   {
    "duration": 53,
    "start_time": "2022-06-06T17:47:37.571Z"
   },
   {
    "duration": 4,
    "start_time": "2022-06-06T17:47:37.625Z"
   },
   {
    "duration": 25,
    "start_time": "2022-06-06T17:47:37.631Z"
   },
   {
    "duration": 50,
    "start_time": "2022-06-06T17:47:37.658Z"
   },
   {
    "duration": 14,
    "start_time": "2022-06-06T17:47:37.711Z"
   },
   {
    "duration": 5,
    "start_time": "2022-06-06T17:47:40.424Z"
   },
   {
    "duration": 24,
    "start_time": "2022-06-06T17:47:45.658Z"
   },
   {
    "duration": 23,
    "start_time": "2022-06-06T17:47:46.312Z"
   },
   {
    "duration": 17,
    "start_time": "2022-06-06T17:47:49.414Z"
   },
   {
    "duration": 6,
    "start_time": "2022-06-06T17:48:29.614Z"
   },
   {
    "duration": 18,
    "start_time": "2022-06-06T17:48:32.426Z"
   },
   {
    "duration": 33,
    "start_time": "2022-06-06T17:50:19.593Z"
   },
   {
    "duration": 4,
    "start_time": "2022-06-06T17:51:16.111Z"
   },
   {
    "duration": 26,
    "start_time": "2022-06-06T17:51:32.921Z"
   },
   {
    "duration": 19,
    "start_time": "2022-06-06T17:53:42.713Z"
   },
   {
    "duration": 16,
    "start_time": "2022-06-06T17:53:50.316Z"
   },
   {
    "duration": 115,
    "start_time": "2022-06-06T17:54:01.634Z"
   },
   {
    "duration": 10,
    "start_time": "2022-06-06T17:54:01.751Z"
   },
   {
    "duration": 13,
    "start_time": "2022-06-06T17:54:01.763Z"
   },
   {
    "duration": 42,
    "start_time": "2022-06-06T17:54:01.778Z"
   },
   {
    "duration": 32,
    "start_time": "2022-06-06T17:54:01.822Z"
   },
   {
    "duration": 37,
    "start_time": "2022-06-06T17:54:01.856Z"
   },
   {
    "duration": 75,
    "start_time": "2022-06-06T17:54:01.895Z"
   },
   {
    "duration": 19,
    "start_time": "2022-06-06T17:54:15.955Z"
   },
   {
    "duration": 8,
    "start_time": "2022-06-06T17:54:26.297Z"
   },
   {
    "duration": 31,
    "start_time": "2022-06-06T17:55:45.463Z"
   },
   {
    "duration": 5,
    "start_time": "2022-06-06T17:56:05.556Z"
   },
   {
    "duration": 123,
    "start_time": "2022-06-06T17:56:11.356Z"
   },
   {
    "duration": 14,
    "start_time": "2022-06-06T17:56:11.482Z"
   },
   {
    "duration": 35,
    "start_time": "2022-06-06T17:56:11.498Z"
   },
   {
    "duration": 16,
    "start_time": "2022-06-06T17:56:11.535Z"
   },
   {
    "duration": 18,
    "start_time": "2022-06-06T17:56:11.553Z"
   },
   {
    "duration": 13,
    "start_time": "2022-06-06T17:56:11.572Z"
   },
   {
    "duration": 24,
    "start_time": "2022-06-06T17:56:11.587Z"
   },
   {
    "duration": 30,
    "start_time": "2022-06-06T17:56:11.628Z"
   },
   {
    "duration": 39,
    "start_time": "2022-06-06T17:56:11.662Z"
   },
   {
    "duration": 5,
    "start_time": "2022-06-06T17:56:11.702Z"
   },
   {
    "duration": 35,
    "start_time": "2022-06-06T17:56:11.708Z"
   },
   {
    "duration": 18,
    "start_time": "2022-06-06T17:58:11.812Z"
   },
   {
    "duration": 106,
    "start_time": "2022-06-06T17:58:25.255Z"
   },
   {
    "duration": 10,
    "start_time": "2022-06-06T17:58:25.364Z"
   },
   {
    "duration": 15,
    "start_time": "2022-06-06T17:58:25.375Z"
   },
   {
    "duration": 29,
    "start_time": "2022-06-06T17:58:25.393Z"
   },
   {
    "duration": 19,
    "start_time": "2022-06-06T17:58:25.425Z"
   },
   {
    "duration": 13,
    "start_time": "2022-06-06T17:58:25.446Z"
   },
   {
    "duration": 41,
    "start_time": "2022-06-06T17:58:25.461Z"
   },
   {
    "duration": 36,
    "start_time": "2022-06-06T17:58:46.288Z"
   },
   {
    "duration": 4,
    "start_time": "2022-06-06T17:58:47.650Z"
   },
   {
    "duration": 26,
    "start_time": "2022-06-06T17:58:52.888Z"
   },
   {
    "duration": 37,
    "start_time": "2022-06-06T18:02:25.387Z"
   },
   {
    "duration": 6,
    "start_time": "2022-06-06T18:02:26.520Z"
   },
   {
    "duration": 22,
    "start_time": "2022-06-06T18:02:29.791Z"
   },
   {
    "duration": 109,
    "start_time": "2022-06-06T18:02:33.101Z"
   },
   {
    "duration": 10,
    "start_time": "2022-06-06T18:02:33.212Z"
   },
   {
    "duration": 8,
    "start_time": "2022-06-06T18:02:33.223Z"
   },
   {
    "duration": 15,
    "start_time": "2022-06-06T18:02:33.232Z"
   },
   {
    "duration": 41,
    "start_time": "2022-06-06T18:02:33.249Z"
   },
   {
    "duration": 18,
    "start_time": "2022-06-06T18:02:33.295Z"
   },
   {
    "duration": 18,
    "start_time": "2022-06-06T18:02:33.315Z"
   },
   {
    "duration": 16,
    "start_time": "2022-06-06T18:02:33.335Z"
   },
   {
    "duration": 61,
    "start_time": "2022-06-06T18:02:33.353Z"
   },
   {
    "duration": 4,
    "start_time": "2022-06-06T18:02:33.415Z"
   },
   {
    "duration": 20,
    "start_time": "2022-06-06T18:02:33.420Z"
   },
   {
    "duration": 8,
    "start_time": "2022-06-06T18:23:30.890Z"
   },
   {
    "duration": 6,
    "start_time": "2022-06-06T18:23:47.914Z"
   },
   {
    "duration": 105,
    "start_time": "2022-06-06T18:23:52.749Z"
   },
   {
    "duration": 9,
    "start_time": "2022-06-06T18:23:52.856Z"
   },
   {
    "duration": 6,
    "start_time": "2022-06-06T18:23:52.867Z"
   },
   {
    "duration": 33,
    "start_time": "2022-06-06T18:23:52.875Z"
   },
   {
    "duration": 17,
    "start_time": "2022-06-06T18:23:52.910Z"
   },
   {
    "duration": 13,
    "start_time": "2022-06-06T18:23:52.928Z"
   },
   {
    "duration": 6,
    "start_time": "2022-06-06T18:23:52.943Z"
   },
   {
    "duration": 7,
    "start_time": "2022-06-06T18:24:01.207Z"
   },
   {
    "duration": 108,
    "start_time": "2022-06-06T18:24:04.551Z"
   },
   {
    "duration": 11,
    "start_time": "2022-06-06T18:24:04.661Z"
   },
   {
    "duration": 16,
    "start_time": "2022-06-06T18:24:04.674Z"
   },
   {
    "duration": 19,
    "start_time": "2022-06-06T18:24:04.692Z"
   },
   {
    "duration": 26,
    "start_time": "2022-06-06T18:24:04.713Z"
   },
   {
    "duration": 17,
    "start_time": "2022-06-06T18:24:04.742Z"
   },
   {
    "duration": 33,
    "start_time": "2022-06-06T18:24:04.761Z"
   },
   {
    "duration": 17,
    "start_time": "2022-06-06T18:26:12.885Z"
   },
   {
    "duration": 10,
    "start_time": "2022-06-06T18:30:04.220Z"
   },
   {
    "duration": 10,
    "start_time": "2022-06-06T18:30:18.843Z"
   },
   {
    "duration": 105,
    "start_time": "2022-06-06T18:30:22.569Z"
   },
   {
    "duration": 9,
    "start_time": "2022-06-06T18:30:22.676Z"
   },
   {
    "duration": 12,
    "start_time": "2022-06-06T18:30:22.691Z"
   },
   {
    "duration": 18,
    "start_time": "2022-06-06T18:30:22.707Z"
   },
   {
    "duration": 17,
    "start_time": "2022-06-06T18:30:22.727Z"
   },
   {
    "duration": 8,
    "start_time": "2022-06-06T18:30:22.745Z"
   },
   {
    "duration": 4,
    "start_time": "2022-06-06T18:30:36.374Z"
   },
   {
    "duration": 45,
    "start_time": "2022-06-06T18:30:40.482Z"
   },
   {
    "duration": 9,
    "start_time": "2022-06-06T18:30:41.896Z"
   },
   {
    "duration": 15,
    "start_time": "2022-06-06T18:30:43.222Z"
   },
   {
    "duration": 108,
    "start_time": "2022-06-06T18:30:46.452Z"
   },
   {
    "duration": 10,
    "start_time": "2022-06-06T18:30:46.561Z"
   },
   {
    "duration": 6,
    "start_time": "2022-06-06T18:30:46.572Z"
   },
   {
    "duration": 23,
    "start_time": "2022-06-06T18:30:46.591Z"
   },
   {
    "duration": 18,
    "start_time": "2022-06-06T18:30:46.617Z"
   },
   {
    "duration": 8,
    "start_time": "2022-06-06T18:30:46.637Z"
   },
   {
    "duration": 7,
    "start_time": "2022-06-06T18:30:46.647Z"
   },
   {
    "duration": 58,
    "start_time": "2022-06-06T18:30:46.655Z"
   },
   {
    "duration": 36,
    "start_time": "2022-06-06T18:30:46.715Z"
   },
   {
    "duration": 5,
    "start_time": "2022-06-06T18:30:46.752Z"
   },
   {
    "duration": 52,
    "start_time": "2022-06-06T18:30:46.759Z"
   },
   {
    "duration": 31,
    "start_time": "2022-06-06T18:46:26.328Z"
   },
   {
    "duration": 25,
    "start_time": "2022-06-06T18:49:54.835Z"
   },
   {
    "duration": 48,
    "start_time": "2022-06-08T13:10:55.450Z"
   },
   {
    "duration": 606,
    "start_time": "2022-06-08T13:11:06.298Z"
   },
   {
    "duration": 7,
    "start_time": "2022-06-08T13:11:06.906Z"
   },
   {
    "duration": 5,
    "start_time": "2022-06-08T13:11:06.914Z"
   },
   {
    "duration": 12,
    "start_time": "2022-06-08T13:11:06.920Z"
   },
   {
    "duration": 14,
    "start_time": "2022-06-08T13:11:06.934Z"
   },
   {
    "duration": 8,
    "start_time": "2022-06-08T13:11:06.949Z"
   },
   {
    "duration": 7,
    "start_time": "2022-06-08T13:11:06.958Z"
   },
   {
    "duration": 15,
    "start_time": "2022-06-08T13:11:06.966Z"
   },
   {
    "duration": 55,
    "start_time": "2022-06-08T13:11:06.982Z"
   },
   {
    "duration": 4,
    "start_time": "2022-06-08T13:11:07.038Z"
   },
   {
    "duration": 22,
    "start_time": "2022-06-08T13:11:07.043Z"
   },
   {
    "duration": 10,
    "start_time": "2022-06-08T13:11:07.066Z"
   },
   {
    "duration": 9,
    "start_time": "2022-06-08T13:11:23.095Z"
   },
   {
    "duration": 12,
    "start_time": "2022-06-08T13:12:18.535Z"
   },
   {
    "duration": 21,
    "start_time": "2022-06-08T13:15:33.322Z"
   },
   {
    "duration": 16,
    "start_time": "2022-06-08T13:16:34.633Z"
   },
   {
    "duration": 30,
    "start_time": "2022-06-08T13:21:48.210Z"
   },
   {
    "duration": 86,
    "start_time": "2022-06-08T13:22:23.647Z"
   },
   {
    "duration": 7,
    "start_time": "2022-06-08T13:22:23.735Z"
   },
   {
    "duration": 12,
    "start_time": "2022-06-08T13:22:23.744Z"
   },
   {
    "duration": 12,
    "start_time": "2022-06-08T13:22:23.758Z"
   },
   {
    "duration": 14,
    "start_time": "2022-06-08T13:22:23.771Z"
   },
   {
    "duration": 8,
    "start_time": "2022-06-08T13:22:23.786Z"
   },
   {
    "duration": 31,
    "start_time": "2022-06-08T13:22:23.795Z"
   },
   {
    "duration": 15,
    "start_time": "2022-06-08T13:22:23.828Z"
   },
   {
    "duration": 28,
    "start_time": "2022-06-08T13:22:23.845Z"
   },
   {
    "duration": 4,
    "start_time": "2022-06-08T13:22:23.875Z"
   },
   {
    "duration": 45,
    "start_time": "2022-06-08T13:22:23.880Z"
   },
   {
    "duration": 25,
    "start_time": "2022-06-08T13:22:23.927Z"
   },
   {
    "duration": 12,
    "start_time": "2022-06-08T13:23:03.821Z"
   },
   {
    "duration": 87,
    "start_time": "2022-06-08T13:23:09.080Z"
   },
   {
    "duration": 9,
    "start_time": "2022-06-08T13:23:09.169Z"
   },
   {
    "duration": 6,
    "start_time": "2022-06-08T13:23:09.179Z"
   },
   {
    "duration": 14,
    "start_time": "2022-06-08T13:23:09.187Z"
   },
   {
    "duration": 34,
    "start_time": "2022-06-08T13:23:09.203Z"
   },
   {
    "duration": 7,
    "start_time": "2022-06-08T13:23:09.239Z"
   },
   {
    "duration": 7,
    "start_time": "2022-06-08T13:23:09.247Z"
   },
   {
    "duration": 16,
    "start_time": "2022-06-08T13:23:09.255Z"
   },
   {
    "duration": 60,
    "start_time": "2022-06-08T13:23:09.272Z"
   },
   {
    "duration": 4,
    "start_time": "2022-06-08T13:23:09.334Z"
   },
   {
    "duration": 21,
    "start_time": "2022-06-08T13:23:09.339Z"
   },
   {
    "duration": 27,
    "start_time": "2022-06-08T13:23:09.362Z"
   },
   {
    "duration": 29,
    "start_time": "2022-06-08T13:34:55.477Z"
   },
   {
    "duration": 21,
    "start_time": "2022-06-08T13:35:51.655Z"
   },
   {
    "duration": 6,
    "start_time": "2022-06-08T13:43:21.182Z"
   },
   {
    "duration": 22,
    "start_time": "2022-06-08T13:49:17.766Z"
   },
   {
    "duration": 23,
    "start_time": "2022-06-08T14:23:14.341Z"
   },
   {
    "duration": 46,
    "start_time": "2022-06-08T15:07:59.587Z"
   },
   {
    "duration": 752,
    "start_time": "2022-06-08T15:08:02.818Z"
   },
   {
    "duration": 15,
    "start_time": "2022-06-08T15:08:03.572Z"
   },
   {
    "duration": 11,
    "start_time": "2022-06-08T15:08:03.589Z"
   },
   {
    "duration": 27,
    "start_time": "2022-06-08T15:08:03.602Z"
   },
   {
    "duration": 19,
    "start_time": "2022-06-08T15:08:03.631Z"
   },
   {
    "duration": 10,
    "start_time": "2022-06-08T15:08:03.652Z"
   },
   {
    "duration": 28,
    "start_time": "2022-06-08T15:08:03.664Z"
   },
   {
    "duration": 22,
    "start_time": "2022-06-08T15:08:03.694Z"
   },
   {
    "duration": 57,
    "start_time": "2022-06-08T15:08:03.718Z"
   },
   {
    "duration": 6,
    "start_time": "2022-06-08T15:08:03.777Z"
   },
   {
    "duration": 44,
    "start_time": "2022-06-08T15:08:03.784Z"
   },
   {
    "duration": 42,
    "start_time": "2022-06-08T15:08:03.829Z"
   },
   {
    "duration": 27,
    "start_time": "2022-06-08T15:08:03.872Z"
   },
   {
    "duration": 24,
    "start_time": "2022-06-08T15:08:03.901Z"
   },
   {
    "duration": 36,
    "start_time": "2022-06-08T15:08:03.927Z"
   },
   {
    "duration": 44,
    "start_time": "2022-06-08T15:08:03.966Z"
   },
   {
    "duration": 8,
    "start_time": "2022-06-08T15:09:48.307Z"
   },
   {
    "duration": 35,
    "start_time": "2022-06-08T15:10:14.121Z"
   },
   {
    "duration": 32,
    "start_time": "2022-06-08T15:15:53.399Z"
   },
   {
    "duration": 19,
    "start_time": "2022-06-08T15:18:44.597Z"
   },
   {
    "duration": 27,
    "start_time": "2022-06-08T15:19:34.985Z"
   },
   {
    "duration": 23,
    "start_time": "2022-06-08T15:20:22.455Z"
   },
   {
    "duration": 15,
    "start_time": "2022-06-08T15:28:38.795Z"
   },
   {
    "duration": 17,
    "start_time": "2022-06-08T15:31:32.512Z"
   },
   {
    "duration": 50,
    "start_time": "2022-06-08T15:31:39.133Z"
   },
   {
    "duration": 49,
    "start_time": "2022-06-09T12:07:04.740Z"
   },
   {
    "duration": 590,
    "start_time": "2022-06-09T12:07:08.856Z"
   },
   {
    "duration": 11,
    "start_time": "2022-06-09T12:07:09.447Z"
   },
   {
    "duration": 22,
    "start_time": "2022-06-09T12:07:09.460Z"
   },
   {
    "duration": 55,
    "start_time": "2022-06-09T12:17:49.711Z"
   },
   {
    "duration": 772,
    "start_time": "2022-06-09T13:11:11.153Z"
   },
   {
    "duration": 15,
    "start_time": "2022-06-09T13:11:11.928Z"
   },
   {
    "duration": 18,
    "start_time": "2022-06-09T13:11:11.946Z"
   },
   {
    "duration": 25,
    "start_time": "2022-06-09T13:11:11.971Z"
   },
   {
    "duration": 17,
    "start_time": "2022-06-09T13:11:11.998Z"
   },
   {
    "duration": 12,
    "start_time": "2022-06-09T13:11:12.017Z"
   },
   {
    "duration": 36,
    "start_time": "2022-06-09T13:11:12.031Z"
   },
   {
    "duration": 39,
    "start_time": "2022-06-09T13:11:12.072Z"
   },
   {
    "duration": 68,
    "start_time": "2022-06-09T13:11:12.113Z"
   },
   {
    "duration": 7,
    "start_time": "2022-06-09T13:11:12.184Z"
   },
   {
    "duration": 24,
    "start_time": "2022-06-09T13:11:12.192Z"
   },
   {
    "duration": 61,
    "start_time": "2022-06-09T13:11:12.218Z"
   },
   {
    "duration": 24,
    "start_time": "2022-06-09T13:11:12.281Z"
   },
   {
    "duration": 23,
    "start_time": "2022-06-09T13:11:12.307Z"
   },
   {
    "duration": 41,
    "start_time": "2022-06-09T13:11:12.332Z"
   },
   {
    "duration": 51,
    "start_time": "2022-06-09T13:11:12.375Z"
   },
   {
    "duration": 23,
    "start_time": "2022-06-09T13:11:12.432Z"
   },
   {
    "duration": 23,
    "start_time": "2022-06-09T13:11:12.459Z"
   },
   {
    "duration": 3,
    "start_time": "2022-06-09T13:11:44.276Z"
   },
   {
    "duration": 82,
    "start_time": "2022-06-09T13:11:46.724Z"
   },
   {
    "duration": 11,
    "start_time": "2022-06-09T13:12:48.393Z"
   },
   {
    "duration": 15,
    "start_time": "2022-06-09T13:12:52.057Z"
   }
  ],
  "kernelspec": {
   "display_name": "Python 3 (ipykernel)",
   "language": "python",
   "name": "python3"
  },
  "language_info": {
   "codemirror_mode": {
    "name": "ipython",
    "version": 3
   },
   "file_extension": ".py",
   "mimetype": "text/x-python",
   "name": "python",
   "nbconvert_exporter": "python",
   "pygments_lexer": "ipython3",
   "version": "3.9.7"
  },
  "toc": {
   "base_numbering": 1,
   "nav_menu": {},
   "number_sections": true,
   "sideBar": true,
   "skip_h1_title": true,
   "title_cell": "Table of Contents",
   "title_sidebar": "Contents",
   "toc_cell": false,
   "toc_position": {},
   "toc_section_display": true,
   "toc_window_display": false
  }
 },
 "nbformat": 4,
 "nbformat_minor": 5
}
