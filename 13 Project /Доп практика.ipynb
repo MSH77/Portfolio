{
 "cells": [
  {
   "cell_type": "markdown",
   "metadata": {},
   "source": [
    "# Описание проекта"
   ]
  },
  {
   "cell_type": "markdown",
   "metadata": {},
   "source": [
    "Вы работаете в интернет-магазине «Стримчик», который продаёт по всему миру компьютерные игры. Из открытых источников доступны исторические данные о продажах игр, оценки пользователей и экспертов, жанры и платформы (например, Xbox или PlayStation). Вам нужно выявить определяющие успешность игры закономерности. Это позволит сделать ставку на потенциально популярный продукт и спланировать рекламные кампании.\n",
    "\n",
    "Перед вами данные до 2016 года. Представим, что сейчас декабрь 2016 г., и вы планируете кампанию на 2017-й. Нужно отработать принцип работы с данными. Неважно, прогнозируете ли вы продажи на 2017 год по данным 2016-го или же 2027-й — по данным 2026 года.\n",
    "\n",
    "В наборе данных попадается аббревиатура ESRB (Entertainment Software Rating Board) — это ассоциация, определяющая возрастной рейтинг компьютерных игр. ESRB оценивает игровой контент и присваивает ему подходящую возрастную категорию, например, «Для взрослых», «Для детей младшего возраста» или «Для подростков»."
   ]
  },
  {
   "cell_type": "markdown",
   "metadata": {},
   "source": [
    "# Подключение библиотек и загрузка данных"
   ]
  },
  {
   "cell_type": "code",
   "execution_count": 132,
   "metadata": {},
   "outputs": [],
   "source": [
    "import numpy as np\n",
    "import pandas as pd\n",
    "from matplotlib import pyplot as plt\n",
    "import seaborn as sns\n",
    "from scipy import stats as st"
   ]
  },
  {
   "cell_type": "code",
   "execution_count": 133,
   "metadata": {},
   "outputs": [
    {
     "data": {
      "text/html": [
       "<div>\n",
       "<style scoped>\n",
       "    .dataframe tbody tr th:only-of-type {\n",
       "        vertical-align: middle;\n",
       "    }\n",
       "\n",
       "    .dataframe tbody tr th {\n",
       "        vertical-align: top;\n",
       "    }\n",
       "\n",
       "    .dataframe thead th {\n",
       "        text-align: right;\n",
       "    }\n",
       "</style>\n",
       "<table border=\"1\" class=\"dataframe\">\n",
       "  <thead>\n",
       "    <tr style=\"text-align: right;\">\n",
       "      <th></th>\n",
       "      <th>Name</th>\n",
       "      <th>Platform</th>\n",
       "      <th>Year_of_Release</th>\n",
       "      <th>Genre</th>\n",
       "      <th>NA_sales</th>\n",
       "      <th>EU_sales</th>\n",
       "      <th>JP_sales</th>\n",
       "      <th>Other_sales</th>\n",
       "      <th>Critic_Score</th>\n",
       "      <th>User_Score</th>\n",
       "      <th>Rating</th>\n",
       "    </tr>\n",
       "  </thead>\n",
       "  <tbody>\n",
       "    <tr>\n",
       "      <th>0</th>\n",
       "      <td>Wii Sports</td>\n",
       "      <td>Wii</td>\n",
       "      <td>2006.0</td>\n",
       "      <td>Sports</td>\n",
       "      <td>41.36</td>\n",
       "      <td>28.96</td>\n",
       "      <td>3.77</td>\n",
       "      <td>8.45</td>\n",
       "      <td>76.0</td>\n",
       "      <td>8</td>\n",
       "      <td>E</td>\n",
       "    </tr>\n",
       "    <tr>\n",
       "      <th>1</th>\n",
       "      <td>Super Mario Bros.</td>\n",
       "      <td>NES</td>\n",
       "      <td>1985.0</td>\n",
       "      <td>Platform</td>\n",
       "      <td>29.08</td>\n",
       "      <td>3.58</td>\n",
       "      <td>6.81</td>\n",
       "      <td>0.77</td>\n",
       "      <td>NaN</td>\n",
       "      <td>NaN</td>\n",
       "      <td>NaN</td>\n",
       "    </tr>\n",
       "    <tr>\n",
       "      <th>2</th>\n",
       "      <td>Mario Kart Wii</td>\n",
       "      <td>Wii</td>\n",
       "      <td>2008.0</td>\n",
       "      <td>Racing</td>\n",
       "      <td>15.68</td>\n",
       "      <td>12.76</td>\n",
       "      <td>3.79</td>\n",
       "      <td>3.29</td>\n",
       "      <td>82.0</td>\n",
       "      <td>8.3</td>\n",
       "      <td>E</td>\n",
       "    </tr>\n",
       "    <tr>\n",
       "      <th>3</th>\n",
       "      <td>Wii Sports Resort</td>\n",
       "      <td>Wii</td>\n",
       "      <td>2009.0</td>\n",
       "      <td>Sports</td>\n",
       "      <td>15.61</td>\n",
       "      <td>10.93</td>\n",
       "      <td>3.28</td>\n",
       "      <td>2.95</td>\n",
       "      <td>80.0</td>\n",
       "      <td>8</td>\n",
       "      <td>E</td>\n",
       "    </tr>\n",
       "    <tr>\n",
       "      <th>4</th>\n",
       "      <td>Pokemon Red/Pokemon Blue</td>\n",
       "      <td>GB</td>\n",
       "      <td>1996.0</td>\n",
       "      <td>Role-Playing</td>\n",
       "      <td>11.27</td>\n",
       "      <td>8.89</td>\n",
       "      <td>10.22</td>\n",
       "      <td>1.00</td>\n",
       "      <td>NaN</td>\n",
       "      <td>NaN</td>\n",
       "      <td>NaN</td>\n",
       "    </tr>\n",
       "    <tr>\n",
       "      <th>5</th>\n",
       "      <td>Tetris</td>\n",
       "      <td>GB</td>\n",
       "      <td>1989.0</td>\n",
       "      <td>Puzzle</td>\n",
       "      <td>23.20</td>\n",
       "      <td>2.26</td>\n",
       "      <td>4.22</td>\n",
       "      <td>0.58</td>\n",
       "      <td>NaN</td>\n",
       "      <td>NaN</td>\n",
       "      <td>NaN</td>\n",
       "    </tr>\n",
       "    <tr>\n",
       "      <th>6</th>\n",
       "      <td>New Super Mario Bros.</td>\n",
       "      <td>DS</td>\n",
       "      <td>2006.0</td>\n",
       "      <td>Platform</td>\n",
       "      <td>11.28</td>\n",
       "      <td>9.14</td>\n",
       "      <td>6.50</td>\n",
       "      <td>2.88</td>\n",
       "      <td>89.0</td>\n",
       "      <td>8.5</td>\n",
       "      <td>E</td>\n",
       "    </tr>\n",
       "    <tr>\n",
       "      <th>7</th>\n",
       "      <td>Wii Play</td>\n",
       "      <td>Wii</td>\n",
       "      <td>2006.0</td>\n",
       "      <td>Misc</td>\n",
       "      <td>13.96</td>\n",
       "      <td>9.18</td>\n",
       "      <td>2.93</td>\n",
       "      <td>2.84</td>\n",
       "      <td>58.0</td>\n",
       "      <td>6.6</td>\n",
       "      <td>E</td>\n",
       "    </tr>\n",
       "    <tr>\n",
       "      <th>8</th>\n",
       "      <td>New Super Mario Bros. Wii</td>\n",
       "      <td>Wii</td>\n",
       "      <td>2009.0</td>\n",
       "      <td>Platform</td>\n",
       "      <td>14.44</td>\n",
       "      <td>6.94</td>\n",
       "      <td>4.70</td>\n",
       "      <td>2.24</td>\n",
       "      <td>87.0</td>\n",
       "      <td>8.4</td>\n",
       "      <td>E</td>\n",
       "    </tr>\n",
       "    <tr>\n",
       "      <th>9</th>\n",
       "      <td>Duck Hunt</td>\n",
       "      <td>NES</td>\n",
       "      <td>1984.0</td>\n",
       "      <td>Shooter</td>\n",
       "      <td>26.93</td>\n",
       "      <td>0.63</td>\n",
       "      <td>0.28</td>\n",
       "      <td>0.47</td>\n",
       "      <td>NaN</td>\n",
       "      <td>NaN</td>\n",
       "      <td>NaN</td>\n",
       "    </tr>\n",
       "  </tbody>\n",
       "</table>\n",
       "</div>"
      ],
      "text/plain": [
       "                        Name Platform  Year_of_Release         Genre  \\\n",
       "0                 Wii Sports      Wii           2006.0        Sports   \n",
       "1          Super Mario Bros.      NES           1985.0      Platform   \n",
       "2             Mario Kart Wii      Wii           2008.0        Racing   \n",
       "3          Wii Sports Resort      Wii           2009.0        Sports   \n",
       "4   Pokemon Red/Pokemon Blue       GB           1996.0  Role-Playing   \n",
       "5                     Tetris       GB           1989.0        Puzzle   \n",
       "6      New Super Mario Bros.       DS           2006.0      Platform   \n",
       "7                   Wii Play      Wii           2006.0          Misc   \n",
       "8  New Super Mario Bros. Wii      Wii           2009.0      Platform   \n",
       "9                  Duck Hunt      NES           1984.0       Shooter   \n",
       "\n",
       "   NA_sales  EU_sales  JP_sales  Other_sales  Critic_Score User_Score Rating  \n",
       "0     41.36     28.96      3.77         8.45          76.0          8      E  \n",
       "1     29.08      3.58      6.81         0.77           NaN        NaN    NaN  \n",
       "2     15.68     12.76      3.79         3.29          82.0        8.3      E  \n",
       "3     15.61     10.93      3.28         2.95          80.0          8      E  \n",
       "4     11.27      8.89     10.22         1.00           NaN        NaN    NaN  \n",
       "5     23.20      2.26      4.22         0.58           NaN        NaN    NaN  \n",
       "6     11.28      9.14      6.50         2.88          89.0        8.5      E  \n",
       "7     13.96      9.18      2.93         2.84          58.0        6.6      E  \n",
       "8     14.44      6.94      4.70         2.24          87.0        8.4      E  \n",
       "9     26.93      0.63      0.28         0.47           NaN        NaN    NaN  "
      ]
     },
     "metadata": {},
     "output_type": "display_data"
    },
    {
     "name": "stdout",
     "output_type": "stream",
     "text": [
      "<class 'pandas.core.frame.DataFrame'>\n",
      "RangeIndex: 16715 entries, 0 to 16714\n",
      "Data columns (total 11 columns):\n",
      " #   Column           Non-Null Count  Dtype  \n",
      "---  ------           --------------  -----  \n",
      " 0   Name             16713 non-null  object \n",
      " 1   Platform         16715 non-null  object \n",
      " 2   Year_of_Release  16446 non-null  float64\n",
      " 3   Genre            16713 non-null  object \n",
      " 4   NA_sales         16715 non-null  float64\n",
      " 5   EU_sales         16715 non-null  float64\n",
      " 6   JP_sales         16715 non-null  float64\n",
      " 7   Other_sales      16715 non-null  float64\n",
      " 8   Critic_Score     8137 non-null   float64\n",
      " 9   User_Score       10014 non-null  object \n",
      " 10  Rating           9949 non-null   object \n",
      "dtypes: float64(6), object(5)\n",
      "memory usage: 1.4+ MB\n"
     ]
    }
   ],
   "source": [
    "df = pd.read_csv(\"games.csv\", sep=\",\")\n",
    "display(df.head(10))\n",
    "df.info()"
   ]
  },
  {
   "cell_type": "markdown",
   "metadata": {},
   "source": [
    "# Предобработка данных"
   ]
  },
  {
   "cell_type": "markdown",
   "metadata": {},
   "source": [
    "**1. Заменим названия столбцов (приведем к нижнему регистру)**"
   ]
  },
  {
   "cell_type": "code",
   "execution_count": 134,
   "metadata": {},
   "outputs": [
    {
     "name": "stdout",
     "output_type": "stream",
     "text": [
      "Index(['Name', 'Platform', 'Year_of_Release', 'Genre', 'NA_sales', 'EU_sales',\n",
      "       'JP_sales', 'Other_sales', 'Critic_Score', 'User_Score', 'Rating'],\n",
      "      dtype='object')\n",
      "Index(['name', 'platform', 'year_of_release', 'genre', 'na_sales', 'eu_sales',\n",
      "       'jp_sales', 'other_sales', 'critic_score', 'user_score', 'rating'],\n",
      "      dtype='object')\n"
     ]
    }
   ],
   "source": [
    "print(df.columns)\n",
    "df.columns = map(str.lower, df.columns)\n",
    "print(df.columns)    "
   ]
  },
  {
   "cell_type": "markdown",
   "metadata": {},
   "source": [
    "Привели все названия столбцов к нижнему регистру, в данном случае больше ничего менять не нужно."
   ]
  },
  {
   "cell_type": "markdown",
   "metadata": {},
   "source": [
    "**2. Преобразуем данные в нужные типы. Опишем, в каких столбцах заменили тип данных и почему**"
   ]
  },
  {
   "cell_type": "markdown",
   "metadata": {},
   "source": [
    "Если взглянуть на таблицу, то бросается в глаза только тип данных в столбце `year_of_release`. Поменяем его на тип int, так как год не может быть не целым числом."
   ]
  },
  {
   "cell_type": "code",
   "execution_count": 135,
   "metadata": {},
   "outputs": [
    {
     "name": "stdout",
     "output_type": "stream",
     "text": [
      "<class 'pandas.core.frame.DataFrame'>\n",
      "RangeIndex: 16715 entries, 0 to 16714\n",
      "Data columns (total 11 columns):\n",
      " #   Column           Non-Null Count  Dtype  \n",
      "---  ------           --------------  -----  \n",
      " 0   name             16713 non-null  object \n",
      " 1   platform         16715 non-null  object \n",
      " 2   year_of_release  16446 non-null  Int64  \n",
      " 3   genre            16713 non-null  object \n",
      " 4   na_sales         16715 non-null  float64\n",
      " 5   eu_sales         16715 non-null  float64\n",
      " 6   jp_sales         16715 non-null  float64\n",
      " 7   other_sales      16715 non-null  float64\n",
      " 8   critic_score     8137 non-null   float64\n",
      " 9   user_score       10014 non-null  object \n",
      " 10  rating           9949 non-null   object \n",
      "dtypes: Int64(1), float64(5), object(5)\n",
      "memory usage: 1.4+ MB\n"
     ]
    }
   ],
   "source": [
    "df['year_of_release'] = df['year_of_release'].astype('Int64')\n",
    "df.info()"
   ]
  },
  {
   "cell_type": "markdown",
   "metadata": {},
   "source": [
    "Больше проблем с типом данных в нашем датафрейме нет."
   ]
  },
  {
   "cell_type": "markdown",
   "metadata": {},
   "source": [
    "**3. Обработаем пропуски при необходимости:**\n",
    "- Объясним, почему заполнили пропуски определённым образом или почему не стали это делать\n",
    "- Опишем причины, которые могли привести к пропускам;\n",
    "- Обратим внимание на аббревиатуру 'tbd' в столбце с оценкой пользователей. Отдельно разберем это значение и опишем, как его обработать"
   ]
  },
  {
   "cell_type": "code",
   "execution_count": 136,
   "metadata": {},
   "outputs": [
    {
     "data": {
      "text/plain": [
       "name                0.011965\n",
       "platform            0.000000\n",
       "year_of_release     1.609333\n",
       "genre               0.011965\n",
       "na_sales            0.000000\n",
       "eu_sales            0.000000\n",
       "jp_sales            0.000000\n",
       "other_sales         0.000000\n",
       "critic_score       51.319174\n",
       "user_score         40.089740\n",
       "rating             40.478612\n",
       "dtype: float64"
      ]
     },
     "execution_count": 136,
     "metadata": {},
     "output_type": "execute_result"
    }
   ],
   "source": [
    "df.isnull().sum()/len(df)*100"
   ]
  },
  {
   "cell_type": "markdown",
   "metadata": {},
   "source": [
    "- Столбец `name`: Здесь всего 2 пропуска, которые возможно появились из-за технической ошибки или чьей-то невнимательности. Единственное решение убрать две данные строки. Исследованию это никак не навредит.\n",
    "- Столбец `year_of_release` имеет всего 1,6% пропусков, возможно, что данные по году выпуска игры просто были утеряны. Заменять средним и медианным значением мы не можем, так как это будет некорректно. Правильным решением будет просто оставить данный столбец как есть\n",
    "- Столбец `critic_score` имеет 51% пропусков. Это самое большое количество пропусков среди всех столбцов. Причиной их появления, по моему мнению то, что критики просто не оценивали половину игр из данного датафрейма. Возможно большая часть пропусков - это старые игры, и тогда никому это было не нужно. Здесь также нельзя заменить на среднюю или медиану, такая оценка будет необъективной и помешает исследованию. Для дальнейшей работы с датафреймом можно заменить пропуски на -1. Тогда данное значение не перепутается с нулевым рейтингом.\n",
    "- Столбец `user_score` имеет 40% пропусков. Причиной их появления является то, что раньше не было сайтов, на которых сами игроки после некоторого прохождения могли написать отзыв на игру, как это происходит сейчас на площадках по типу Steam или Epic Games. Решение такое, как и для прошлого столбца.\n",
    "- Столбец `rating` имеет почти 40,5% пропусков. Возможно раньше не было данной организации, которая ставит возрастной рейтинг для игр, поэтому в данном столбце столько пропусков. Хорошим вариантом будет оставить пропуски как есть, так как данный столбец никак не связан с другими и данные пропуски не помешают исследованию."
   ]
  },
  {
   "cell_type": "markdown",
   "metadata": {},
   "source": [
    "Посмотрим по очереди на каждый столбец в которых есть пропуски"
   ]
  },
  {
   "cell_type": "markdown",
   "metadata": {},
   "source": [
    "Начнем со столбца `name`"
   ]
  },
  {
   "cell_type": "code",
   "execution_count": 137,
   "metadata": {},
   "outputs": [
    {
     "name": "stdout",
     "output_type": "stream",
     "text": [
      "      name platform  year_of_release genre  na_sales  eu_sales  jp_sales  \\\n",
      "659    NaN      GEN             1993   NaN      1.78      0.53      0.00   \n",
      "14244  NaN      GEN             1993   NaN      0.00      0.00      0.03   \n",
      "\n",
      "       other_sales  critic_score user_score rating  \n",
      "659           0.08           NaN        NaN    NaN  \n",
      "14244         0.00           NaN        NaN    NaN  \n"
     ]
    }
   ],
   "source": [
    "print(df.query('name.isnull()', engine='python'))"
   ]
  },
  {
   "cell_type": "markdown",
   "metadata": {},
   "source": [
    "Как можно увидеть, в датафрейме всего 2 столбца с пропущенными именами. Я думаю, что их можно убрать без ущерба данным и исследованию."
   ]
  },
  {
   "cell_type": "code",
   "execution_count": 138,
   "metadata": {},
   "outputs": [
    {
     "name": "stdout",
     "output_type": "stream",
     "text": [
      "<class 'pandas.core.frame.DataFrame'>\n",
      "RangeIndex: 16713 entries, 0 to 16712\n",
      "Data columns (total 11 columns):\n",
      " #   Column           Non-Null Count  Dtype  \n",
      "---  ------           --------------  -----  \n",
      " 0   name             16713 non-null  object \n",
      " 1   platform         16713 non-null  object \n",
      " 2   year_of_release  16444 non-null  Int64  \n",
      " 3   genre            16713 non-null  object \n",
      " 4   na_sales         16713 non-null  float64\n",
      " 5   eu_sales         16713 non-null  float64\n",
      " 6   jp_sales         16713 non-null  float64\n",
      " 7   other_sales      16713 non-null  float64\n",
      " 8   critic_score     8137 non-null   float64\n",
      " 9   user_score       10014 non-null  object \n",
      " 10  rating           9949 non-null   object \n",
      "dtypes: Int64(1), float64(5), object(5)\n",
      "memory usage: 1.4+ MB\n"
     ]
    }
   ],
   "source": [
    "df.dropna(subset=['name'], inplace=True)\n",
    "df.reset_index(inplace=True,drop=True)\n",
    "df.info()"
   ]
  },
  {
   "cell_type": "markdown",
   "metadata": {},
   "source": [
    "Как можно увидеть, две данных строки убрались.\n"
   ]
  },
  {
   "cell_type": "markdown",
   "metadata": {},
   "source": [
    "Столбец `year_of_release` имеет всего 1,6% пропусков, что очень мало по сравнению с количеством данных. К тому же данные целочисленные, замена средним значением или медианой здесь не подойдет. Оставим данные пропуски как есть, они не должны навредить исследованию."
   ]
  },
  {
   "cell_type": "markdown",
   "metadata": {},
   "source": [
    "Далее рассмотрим столбец `user_score`. Сначала разберемся с его типом данных. Он типа object, хотя должен быть float."
   ]
  },
  {
   "cell_type": "code",
   "execution_count": 139,
   "metadata": {},
   "outputs": [
    {
     "data": {
      "text/plain": [
       "array(['8', nan, '8.3', '8.5', '6.6', '8.4', '8.6', '7.7', '6.3', '7.4',\n",
       "       '8.2', '9', '7.9', '8.1', '8.7', '7.1', '3.4', '5.3', '4.8', '3.2',\n",
       "       '8.9', '6.4', '7.8', '7.5', '2.6', '7.2', '9.2', '7', '7.3', '4.3',\n",
       "       '7.6', '5.7', '5', '9.1', '6.5', 'tbd', '8.8', '6.9', '9.4', '6.8',\n",
       "       '6.1', '6.7', '5.4', '4', '4.9', '4.5', '9.3', '6.2', '4.2', '6',\n",
       "       '3.7', '4.1', '5.8', '5.6', '5.5', '4.4', '4.6', '5.9', '3.9',\n",
       "       '3.1', '2.9', '5.2', '3.3', '4.7', '5.1', '3.5', '2.5', '1.9', '3',\n",
       "       '2.7', '2.2', '2', '9.5', '2.1', '3.6', '2.8', '1.8', '3.8', '0',\n",
       "       '1.6', '9.6', '2.4', '1.7', '1.1', '0.3', '1.5', '0.7', '1.2',\n",
       "       '2.3', '0.5', '1.3', '0.2', '0.6', '1.4', '0.9', '1', '9.7'],\n",
       "      dtype=object)"
      ]
     },
     "execution_count": 139,
     "metadata": {},
     "output_type": "execute_result"
    }
   ],
   "source": [
    "df['user_score'].unique()"
   ]
  },
  {
   "cell_type": "markdown",
   "metadata": {},
   "source": [
    "Здесь присутствует некая аббревиатура tbd. Я думаю, что ее можно заменить на Nan, а затем поменять тип данных на float."
   ]
  },
  {
   "cell_type": "code",
   "execution_count": 140,
   "metadata": {},
   "outputs": [
    {
     "data": {
      "text/html": [
       "<div>\n",
       "<style scoped>\n",
       "    .dataframe tbody tr th:only-of-type {\n",
       "        vertical-align: middle;\n",
       "    }\n",
       "\n",
       "    .dataframe tbody tr th {\n",
       "        vertical-align: top;\n",
       "    }\n",
       "\n",
       "    .dataframe thead th {\n",
       "        text-align: right;\n",
       "    }\n",
       "</style>\n",
       "<table border=\"1\" class=\"dataframe\">\n",
       "  <thead>\n",
       "    <tr style=\"text-align: right;\">\n",
       "      <th></th>\n",
       "      <th>name</th>\n",
       "      <th>platform</th>\n",
       "      <th>year_of_release</th>\n",
       "      <th>genre</th>\n",
       "      <th>na_sales</th>\n",
       "      <th>eu_sales</th>\n",
       "      <th>jp_sales</th>\n",
       "      <th>other_sales</th>\n",
       "      <th>critic_score</th>\n",
       "      <th>user_score</th>\n",
       "      <th>rating</th>\n",
       "    </tr>\n",
       "  </thead>\n",
       "  <tbody>\n",
       "    <tr>\n",
       "      <th>0</th>\n",
       "      <td>Wii Sports</td>\n",
       "      <td>Wii</td>\n",
       "      <td>2006</td>\n",
       "      <td>Sports</td>\n",
       "      <td>41.36</td>\n",
       "      <td>28.96</td>\n",
       "      <td>3.77</td>\n",
       "      <td>8.45</td>\n",
       "      <td>76.0</td>\n",
       "      <td>8.0</td>\n",
       "      <td>E</td>\n",
       "    </tr>\n",
       "    <tr>\n",
       "      <th>1</th>\n",
       "      <td>Super Mario Bros.</td>\n",
       "      <td>NES</td>\n",
       "      <td>1985</td>\n",
       "      <td>Platform</td>\n",
       "      <td>29.08</td>\n",
       "      <td>3.58</td>\n",
       "      <td>6.81</td>\n",
       "      <td>0.77</td>\n",
       "      <td>NaN</td>\n",
       "      <td>NaN</td>\n",
       "      <td>NaN</td>\n",
       "    </tr>\n",
       "    <tr>\n",
       "      <th>2</th>\n",
       "      <td>Mario Kart Wii</td>\n",
       "      <td>Wii</td>\n",
       "      <td>2008</td>\n",
       "      <td>Racing</td>\n",
       "      <td>15.68</td>\n",
       "      <td>12.76</td>\n",
       "      <td>3.79</td>\n",
       "      <td>3.29</td>\n",
       "      <td>82.0</td>\n",
       "      <td>8.3</td>\n",
       "      <td>E</td>\n",
       "    </tr>\n",
       "    <tr>\n",
       "      <th>3</th>\n",
       "      <td>Wii Sports Resort</td>\n",
       "      <td>Wii</td>\n",
       "      <td>2009</td>\n",
       "      <td>Sports</td>\n",
       "      <td>15.61</td>\n",
       "      <td>10.93</td>\n",
       "      <td>3.28</td>\n",
       "      <td>2.95</td>\n",
       "      <td>80.0</td>\n",
       "      <td>8.0</td>\n",
       "      <td>E</td>\n",
       "    </tr>\n",
       "    <tr>\n",
       "      <th>4</th>\n",
       "      <td>Pokemon Red/Pokemon Blue</td>\n",
       "      <td>GB</td>\n",
       "      <td>1996</td>\n",
       "      <td>Role-Playing</td>\n",
       "      <td>11.27</td>\n",
       "      <td>8.89</td>\n",
       "      <td>10.22</td>\n",
       "      <td>1.00</td>\n",
       "      <td>NaN</td>\n",
       "      <td>NaN</td>\n",
       "      <td>NaN</td>\n",
       "    </tr>\n",
       "    <tr>\n",
       "      <th>...</th>\n",
       "      <td>...</td>\n",
       "      <td>...</td>\n",
       "      <td>...</td>\n",
       "      <td>...</td>\n",
       "      <td>...</td>\n",
       "      <td>...</td>\n",
       "      <td>...</td>\n",
       "      <td>...</td>\n",
       "      <td>...</td>\n",
       "      <td>...</td>\n",
       "      <td>...</td>\n",
       "    </tr>\n",
       "    <tr>\n",
       "      <th>16708</th>\n",
       "      <td>Samurai Warriors: Sanada Maru</td>\n",
       "      <td>PS3</td>\n",
       "      <td>2016</td>\n",
       "      <td>Action</td>\n",
       "      <td>0.00</td>\n",
       "      <td>0.00</td>\n",
       "      <td>0.01</td>\n",
       "      <td>0.00</td>\n",
       "      <td>NaN</td>\n",
       "      <td>NaN</td>\n",
       "      <td>NaN</td>\n",
       "    </tr>\n",
       "    <tr>\n",
       "      <th>16709</th>\n",
       "      <td>LMA Manager 2007</td>\n",
       "      <td>X360</td>\n",
       "      <td>2006</td>\n",
       "      <td>Sports</td>\n",
       "      <td>0.00</td>\n",
       "      <td>0.01</td>\n",
       "      <td>0.00</td>\n",
       "      <td>0.00</td>\n",
       "      <td>NaN</td>\n",
       "      <td>NaN</td>\n",
       "      <td>NaN</td>\n",
       "    </tr>\n",
       "    <tr>\n",
       "      <th>16710</th>\n",
       "      <td>Haitaka no Psychedelica</td>\n",
       "      <td>PSV</td>\n",
       "      <td>2016</td>\n",
       "      <td>Adventure</td>\n",
       "      <td>0.00</td>\n",
       "      <td>0.00</td>\n",
       "      <td>0.01</td>\n",
       "      <td>0.00</td>\n",
       "      <td>NaN</td>\n",
       "      <td>NaN</td>\n",
       "      <td>NaN</td>\n",
       "    </tr>\n",
       "    <tr>\n",
       "      <th>16711</th>\n",
       "      <td>Spirits &amp; Spells</td>\n",
       "      <td>GBA</td>\n",
       "      <td>2003</td>\n",
       "      <td>Platform</td>\n",
       "      <td>0.01</td>\n",
       "      <td>0.00</td>\n",
       "      <td>0.00</td>\n",
       "      <td>0.00</td>\n",
       "      <td>NaN</td>\n",
       "      <td>NaN</td>\n",
       "      <td>NaN</td>\n",
       "    </tr>\n",
       "    <tr>\n",
       "      <th>16712</th>\n",
       "      <td>Winning Post 8 2016</td>\n",
       "      <td>PSV</td>\n",
       "      <td>2016</td>\n",
       "      <td>Simulation</td>\n",
       "      <td>0.00</td>\n",
       "      <td>0.00</td>\n",
       "      <td>0.01</td>\n",
       "      <td>0.00</td>\n",
       "      <td>NaN</td>\n",
       "      <td>NaN</td>\n",
       "      <td>NaN</td>\n",
       "    </tr>\n",
       "  </tbody>\n",
       "</table>\n",
       "<p>16713 rows × 11 columns</p>\n",
       "</div>"
      ],
      "text/plain": [
       "                                name platform  year_of_release         genre  \\\n",
       "0                         Wii Sports      Wii             2006        Sports   \n",
       "1                  Super Mario Bros.      NES             1985      Platform   \n",
       "2                     Mario Kart Wii      Wii             2008        Racing   \n",
       "3                  Wii Sports Resort      Wii             2009        Sports   \n",
       "4           Pokemon Red/Pokemon Blue       GB             1996  Role-Playing   \n",
       "...                              ...      ...              ...           ...   \n",
       "16708  Samurai Warriors: Sanada Maru      PS3             2016        Action   \n",
       "16709               LMA Manager 2007     X360             2006        Sports   \n",
       "16710        Haitaka no Psychedelica      PSV             2016     Adventure   \n",
       "16711               Spirits & Spells      GBA             2003      Platform   \n",
       "16712            Winning Post 8 2016      PSV             2016    Simulation   \n",
       "\n",
       "       na_sales  eu_sales  jp_sales  other_sales  critic_score  user_score  \\\n",
       "0         41.36     28.96      3.77         8.45          76.0         8.0   \n",
       "1         29.08      3.58      6.81         0.77           NaN         NaN   \n",
       "2         15.68     12.76      3.79         3.29          82.0         8.3   \n",
       "3         15.61     10.93      3.28         2.95          80.0         8.0   \n",
       "4         11.27      8.89     10.22         1.00           NaN         NaN   \n",
       "...         ...       ...       ...          ...           ...         ...   \n",
       "16708      0.00      0.00      0.01         0.00           NaN         NaN   \n",
       "16709      0.00      0.01      0.00         0.00           NaN         NaN   \n",
       "16710      0.00      0.00      0.01         0.00           NaN         NaN   \n",
       "16711      0.01      0.00      0.00         0.00           NaN         NaN   \n",
       "16712      0.00      0.00      0.01         0.00           NaN         NaN   \n",
       "\n",
       "      rating  \n",
       "0          E  \n",
       "1        NaN  \n",
       "2          E  \n",
       "3          E  \n",
       "4        NaN  \n",
       "...      ...  \n",
       "16708    NaN  \n",
       "16709    NaN  \n",
       "16710    NaN  \n",
       "16711    NaN  \n",
       "16712    NaN  \n",
       "\n",
       "[16713 rows x 11 columns]"
      ]
     },
     "metadata": {},
     "output_type": "display_data"
    }
   ],
   "source": [
    "df['user_score'] = df['user_score'].replace('tbd', np.NaN)\n",
    "df['user_score'] = df['user_score'].astype('float')\n",
    "display(df)"
   ]
  },
  {
   "cell_type": "markdown",
   "metadata": {},
   "source": [
    "Теперь поменяем пропуски на -1, как мы рассуждали вначале."
   ]
  },
  {
   "cell_type": "markdown",
   "metadata": {},
   "source": [
    "**При попытке такой замены, я не знаю по какой причине, но столбец user_score становился копией critic_score. Поэтому я убрал данную замену из-за этой ошибки**\n"
   ]
  },
  {
   "cell_type": "markdown",
   "metadata": {},
   "source": [
    "Как мы видим теперь пропусков нет."
   ]
  },
  {
   "cell_type": "markdown",
   "metadata": {},
   "source": [
    "**4. Посчитаем суммарные продажи во всех регионах и запишите их в отдельный столбец.**"
   ]
  },
  {
   "cell_type": "code",
   "execution_count": 141,
   "metadata": {},
   "outputs": [
    {
     "data": {
      "text/html": [
       "<div>\n",
       "<style scoped>\n",
       "    .dataframe tbody tr th:only-of-type {\n",
       "        vertical-align: middle;\n",
       "    }\n",
       "\n",
       "    .dataframe tbody tr th {\n",
       "        vertical-align: top;\n",
       "    }\n",
       "\n",
       "    .dataframe thead th {\n",
       "        text-align: right;\n",
       "    }\n",
       "</style>\n",
       "<table border=\"1\" class=\"dataframe\">\n",
       "  <thead>\n",
       "    <tr style=\"text-align: right;\">\n",
       "      <th></th>\n",
       "      <th>name</th>\n",
       "      <th>platform</th>\n",
       "      <th>year_of_release</th>\n",
       "      <th>genre</th>\n",
       "      <th>na_sales</th>\n",
       "      <th>eu_sales</th>\n",
       "      <th>jp_sales</th>\n",
       "      <th>other_sales</th>\n",
       "      <th>critic_score</th>\n",
       "      <th>user_score</th>\n",
       "      <th>rating</th>\n",
       "      <th>sales</th>\n",
       "    </tr>\n",
       "  </thead>\n",
       "  <tbody>\n",
       "    <tr>\n",
       "      <th>0</th>\n",
       "      <td>Wii Sports</td>\n",
       "      <td>Wii</td>\n",
       "      <td>2006</td>\n",
       "      <td>Sports</td>\n",
       "      <td>41.36</td>\n",
       "      <td>28.96</td>\n",
       "      <td>3.77</td>\n",
       "      <td>8.45</td>\n",
       "      <td>76.0</td>\n",
       "      <td>8.0</td>\n",
       "      <td>E</td>\n",
       "      <td>82.54</td>\n",
       "    </tr>\n",
       "    <tr>\n",
       "      <th>1</th>\n",
       "      <td>Super Mario Bros.</td>\n",
       "      <td>NES</td>\n",
       "      <td>1985</td>\n",
       "      <td>Platform</td>\n",
       "      <td>29.08</td>\n",
       "      <td>3.58</td>\n",
       "      <td>6.81</td>\n",
       "      <td>0.77</td>\n",
       "      <td>NaN</td>\n",
       "      <td>NaN</td>\n",
       "      <td>NaN</td>\n",
       "      <td>40.24</td>\n",
       "    </tr>\n",
       "    <tr>\n",
       "      <th>2</th>\n",
       "      <td>Mario Kart Wii</td>\n",
       "      <td>Wii</td>\n",
       "      <td>2008</td>\n",
       "      <td>Racing</td>\n",
       "      <td>15.68</td>\n",
       "      <td>12.76</td>\n",
       "      <td>3.79</td>\n",
       "      <td>3.29</td>\n",
       "      <td>82.0</td>\n",
       "      <td>8.3</td>\n",
       "      <td>E</td>\n",
       "      <td>35.52</td>\n",
       "    </tr>\n",
       "    <tr>\n",
       "      <th>3</th>\n",
       "      <td>Wii Sports Resort</td>\n",
       "      <td>Wii</td>\n",
       "      <td>2009</td>\n",
       "      <td>Sports</td>\n",
       "      <td>15.61</td>\n",
       "      <td>10.93</td>\n",
       "      <td>3.28</td>\n",
       "      <td>2.95</td>\n",
       "      <td>80.0</td>\n",
       "      <td>8.0</td>\n",
       "      <td>E</td>\n",
       "      <td>32.77</td>\n",
       "    </tr>\n",
       "    <tr>\n",
       "      <th>4</th>\n",
       "      <td>Pokemon Red/Pokemon Blue</td>\n",
       "      <td>GB</td>\n",
       "      <td>1996</td>\n",
       "      <td>Role-Playing</td>\n",
       "      <td>11.27</td>\n",
       "      <td>8.89</td>\n",
       "      <td>10.22</td>\n",
       "      <td>1.00</td>\n",
       "      <td>NaN</td>\n",
       "      <td>NaN</td>\n",
       "      <td>NaN</td>\n",
       "      <td>31.38</td>\n",
       "    </tr>\n",
       "  </tbody>\n",
       "</table>\n",
       "</div>"
      ],
      "text/plain": [
       "                       name platform  year_of_release         genre  na_sales  \\\n",
       "0                Wii Sports      Wii             2006        Sports     41.36   \n",
       "1         Super Mario Bros.      NES             1985      Platform     29.08   \n",
       "2            Mario Kart Wii      Wii             2008        Racing     15.68   \n",
       "3         Wii Sports Resort      Wii             2009        Sports     15.61   \n",
       "4  Pokemon Red/Pokemon Blue       GB             1996  Role-Playing     11.27   \n",
       "\n",
       "   eu_sales  jp_sales  other_sales  critic_score  user_score rating  sales  \n",
       "0     28.96      3.77         8.45          76.0         8.0      E  82.54  \n",
       "1      3.58      6.81         0.77           NaN         NaN    NaN  40.24  \n",
       "2     12.76      3.79         3.29          82.0         8.3      E  35.52  \n",
       "3     10.93      3.28         2.95          80.0         8.0      E  32.77  \n",
       "4      8.89     10.22         1.00           NaN         NaN    NaN  31.38  "
      ]
     },
     "metadata": {},
     "output_type": "display_data"
    }
   ],
   "source": [
    "df['sales'] = df['na_sales'] + df['eu_sales'] + df['jp_sales'] + df['other_sales']\n",
    "display(df.head())"
   ]
  },
  {
   "cell_type": "markdown",
   "metadata": {},
   "source": [
    "**5. Проверим наличие неявных дубликатов**"
   ]
  },
  {
   "cell_type": "code",
   "execution_count": 142,
   "metadata": {},
   "outputs": [
    {
     "name": "stdout",
     "output_type": "stream",
     "text": [
      "                name platform  year_of_release   genre  na_sales  eu_sales  \\\n",
      "604    Madden NFL 13      PS3             2012  Sports      2.11      0.22   \n",
      "16228  Madden NFL 13      PS3             2012  Sports      0.00      0.01   \n",
      "\n",
      "       jp_sales  other_sales  critic_score  user_score rating  sales  \n",
      "604         0.0         0.23          83.0         5.5      E   2.56  \n",
      "16228       0.0         0.00          83.0         5.5      E   0.01  \n"
     ]
    }
   ],
   "source": [
    "duplicates = df[df.duplicated(['name', 'platform', 'year_of_release'], keep=False)]\n",
    "print(duplicates)"
   ]
  },
  {
   "cell_type": "markdown",
   "metadata": {},
   "source": [
    "Как можно увидеть, в датафрейме есть две одинаковые игры с одним названием, годом выпуска и одной платформой, но у одной из них практически нет продаж. Удалим данную строку из датафрейма."
   ]
  },
  {
   "cell_type": "code",
   "execution_count": 143,
   "metadata": {},
   "outputs": [],
   "source": [
    "df.drop_duplicates(subset=['name', 'platform', 'year_of_release'], inplace=True)"
   ]
  },
  {
   "cell_type": "markdown",
   "metadata": {},
   "source": [
    "Теперь мы избавились от такого вида дубликатов"
   ]
  },
  {
   "cell_type": "markdown",
   "metadata": {},
   "source": [
    "**Вывод**"
   ]
  },
  {
   "cell_type": "markdown",
   "metadata": {},
   "source": [
    "В данном разделе привели названия столбцов к нижнему регистру и поменяли типы данных в столбцах, которые в этом нуждались. Также убрали и заменили пропуски в нужных столбцах. Мои рассуждения по этому поводу написаны в начале раздела. Также добавили новый столбец с суммарными продажами во всех регионах.\n"
   ]
  },
  {
   "cell_type": "markdown",
   "metadata": {},
   "source": [
    "# Исследовательский анализ данных"
   ]
  },
  {
   "cell_type": "markdown",
   "metadata": {},
   "source": [
    "**1. Посмотрим, сколько игр выпускалось в разные годы. Важны ли данные за все периоды?**"
   ]
  },
  {
   "cell_type": "code",
   "execution_count": 144,
   "metadata": {},
   "outputs": [
    {
     "data": {
      "text/html": [
       "<div>\n",
       "<style scoped>\n",
       "    .dataframe tbody tr th:only-of-type {\n",
       "        vertical-align: middle;\n",
       "    }\n",
       "\n",
       "    .dataframe tbody tr th {\n",
       "        vertical-align: top;\n",
       "    }\n",
       "\n",
       "    .dataframe thead th {\n",
       "        text-align: right;\n",
       "    }\n",
       "</style>\n",
       "<table border=\"1\" class=\"dataframe\">\n",
       "  <thead>\n",
       "    <tr style=\"text-align: right;\">\n",
       "      <th></th>\n",
       "      <th>year</th>\n",
       "      <th>count</th>\n",
       "    </tr>\n",
       "  </thead>\n",
       "  <tbody>\n",
       "    <tr>\n",
       "      <th>0</th>\n",
       "      <td>1980</td>\n",
       "      <td>9</td>\n",
       "    </tr>\n",
       "    <tr>\n",
       "      <th>1</th>\n",
       "      <td>1981</td>\n",
       "      <td>46</td>\n",
       "    </tr>\n",
       "    <tr>\n",
       "      <th>2</th>\n",
       "      <td>1982</td>\n",
       "      <td>36</td>\n",
       "    </tr>\n",
       "    <tr>\n",
       "      <th>3</th>\n",
       "      <td>1983</td>\n",
       "      <td>17</td>\n",
       "    </tr>\n",
       "    <tr>\n",
       "      <th>4</th>\n",
       "      <td>1984</td>\n",
       "      <td>14</td>\n",
       "    </tr>\n",
       "    <tr>\n",
       "      <th>5</th>\n",
       "      <td>1985</td>\n",
       "      <td>14</td>\n",
       "    </tr>\n",
       "    <tr>\n",
       "      <th>6</th>\n",
       "      <td>1986</td>\n",
       "      <td>21</td>\n",
       "    </tr>\n",
       "    <tr>\n",
       "      <th>7</th>\n",
       "      <td>1987</td>\n",
       "      <td>16</td>\n",
       "    </tr>\n",
       "    <tr>\n",
       "      <th>8</th>\n",
       "      <td>1988</td>\n",
       "      <td>15</td>\n",
       "    </tr>\n",
       "    <tr>\n",
       "      <th>9</th>\n",
       "      <td>1989</td>\n",
       "      <td>17</td>\n",
       "    </tr>\n",
       "    <tr>\n",
       "      <th>10</th>\n",
       "      <td>1990</td>\n",
       "      <td>16</td>\n",
       "    </tr>\n",
       "    <tr>\n",
       "      <th>11</th>\n",
       "      <td>1991</td>\n",
       "      <td>41</td>\n",
       "    </tr>\n",
       "    <tr>\n",
       "      <th>12</th>\n",
       "      <td>1992</td>\n",
       "      <td>43</td>\n",
       "    </tr>\n",
       "    <tr>\n",
       "      <th>13</th>\n",
       "      <td>1993</td>\n",
       "      <td>60</td>\n",
       "    </tr>\n",
       "    <tr>\n",
       "      <th>14</th>\n",
       "      <td>1994</td>\n",
       "      <td>121</td>\n",
       "    </tr>\n",
       "    <tr>\n",
       "      <th>15</th>\n",
       "      <td>1995</td>\n",
       "      <td>219</td>\n",
       "    </tr>\n",
       "    <tr>\n",
       "      <th>16</th>\n",
       "      <td>1996</td>\n",
       "      <td>263</td>\n",
       "    </tr>\n",
       "    <tr>\n",
       "      <th>17</th>\n",
       "      <td>1997</td>\n",
       "      <td>289</td>\n",
       "    </tr>\n",
       "    <tr>\n",
       "      <th>18</th>\n",
       "      <td>1998</td>\n",
       "      <td>379</td>\n",
       "    </tr>\n",
       "    <tr>\n",
       "      <th>19</th>\n",
       "      <td>1999</td>\n",
       "      <td>338</td>\n",
       "    </tr>\n",
       "    <tr>\n",
       "      <th>20</th>\n",
       "      <td>2000</td>\n",
       "      <td>350</td>\n",
       "    </tr>\n",
       "    <tr>\n",
       "      <th>21</th>\n",
       "      <td>2001</td>\n",
       "      <td>482</td>\n",
       "    </tr>\n",
       "    <tr>\n",
       "      <th>22</th>\n",
       "      <td>2002</td>\n",
       "      <td>829</td>\n",
       "    </tr>\n",
       "    <tr>\n",
       "      <th>23</th>\n",
       "      <td>2003</td>\n",
       "      <td>775</td>\n",
       "    </tr>\n",
       "    <tr>\n",
       "      <th>24</th>\n",
       "      <td>2004</td>\n",
       "      <td>762</td>\n",
       "    </tr>\n",
       "    <tr>\n",
       "      <th>25</th>\n",
       "      <td>2005</td>\n",
       "      <td>939</td>\n",
       "    </tr>\n",
       "    <tr>\n",
       "      <th>26</th>\n",
       "      <td>2006</td>\n",
       "      <td>1006</td>\n",
       "    </tr>\n",
       "    <tr>\n",
       "      <th>27</th>\n",
       "      <td>2007</td>\n",
       "      <td>1197</td>\n",
       "    </tr>\n",
       "    <tr>\n",
       "      <th>28</th>\n",
       "      <td>2008</td>\n",
       "      <td>1427</td>\n",
       "    </tr>\n",
       "    <tr>\n",
       "      <th>29</th>\n",
       "      <td>2009</td>\n",
       "      <td>1426</td>\n",
       "    </tr>\n",
       "    <tr>\n",
       "      <th>30</th>\n",
       "      <td>2010</td>\n",
       "      <td>1255</td>\n",
       "    </tr>\n",
       "    <tr>\n",
       "      <th>31</th>\n",
       "      <td>2011</td>\n",
       "      <td>1136</td>\n",
       "    </tr>\n",
       "    <tr>\n",
       "      <th>32</th>\n",
       "      <td>2012</td>\n",
       "      <td>652</td>\n",
       "    </tr>\n",
       "    <tr>\n",
       "      <th>33</th>\n",
       "      <td>2013</td>\n",
       "      <td>544</td>\n",
       "    </tr>\n",
       "    <tr>\n",
       "      <th>34</th>\n",
       "      <td>2014</td>\n",
       "      <td>581</td>\n",
       "    </tr>\n",
       "    <tr>\n",
       "      <th>35</th>\n",
       "      <td>2015</td>\n",
       "      <td>606</td>\n",
       "    </tr>\n",
       "    <tr>\n",
       "      <th>36</th>\n",
       "      <td>2016</td>\n",
       "      <td>502</td>\n",
       "    </tr>\n",
       "  </tbody>\n",
       "</table>\n",
       "</div>"
      ],
      "text/plain": [
       "    year  count\n",
       "0   1980      9\n",
       "1   1981     46\n",
       "2   1982     36\n",
       "3   1983     17\n",
       "4   1984     14\n",
       "5   1985     14\n",
       "6   1986     21\n",
       "7   1987     16\n",
       "8   1988     15\n",
       "9   1989     17\n",
       "10  1990     16\n",
       "11  1991     41\n",
       "12  1992     43\n",
       "13  1993     60\n",
       "14  1994    121\n",
       "15  1995    219\n",
       "16  1996    263\n",
       "17  1997    289\n",
       "18  1998    379\n",
       "19  1999    338\n",
       "20  2000    350\n",
       "21  2001    482\n",
       "22  2002    829\n",
       "23  2003    775\n",
       "24  2004    762\n",
       "25  2005    939\n",
       "26  2006   1006\n",
       "27  2007   1197\n",
       "28  2008   1427\n",
       "29  2009   1426\n",
       "30  2010   1255\n",
       "31  2011   1136\n",
       "32  2012    652\n",
       "33  2013    544\n",
       "34  2014    581\n",
       "35  2015    606\n",
       "36  2016    502"
      ]
     },
     "metadata": {},
     "output_type": "display_data"
    },
    {
     "data": {
      "image/png": "[encoded data removed]",
      "text/plain": [
       "<Figure size 1080x360 with 1 Axes>"
      ]
     },
     "metadata": {
      "needs_background": "light"
     },
     "output_type": "display_data"
    }
   ],
   "source": [
    "game_count = df.groupby('year_of_release')['name'].count().reset_index()\n",
    "game_count.columns = ['year', 'count']\n",
    "display(game_count)\n",
    "plt.figure(figsize=(15, 5))\n",
    "plt.bar(game_count['year'], game_count['count'], label='Кол-во релизов за год', color='b')\n",
    "plt.xlabel('Год релизов')\n",
    "plt.ylabel('Кол-во релизов')\n",
    "plt.grid()\n",
    "plt.title(f'Кол-во релизов по годам')\n",
    "plt.show()"
   ]
  },
  {
   "cell_type": "markdown",
   "metadata": {},
   "source": [
    "**Вывод**"
   ]
  },
  {
   "cell_type": "markdown",
   "metadata": {},
   "source": [
    "Как видно из графика и таблицы, до 1990 года количество выпущенных игр было очень маленьким, после этого наступает эпоха компьютеров и игровых приставок. Игры на них начинают все больше выходить. Пик приходится на 2008 и 2009 года, было выпущено больше 1400 игр, затем их количество падает. "
   ]
  },
  {
   "cell_type": "markdown",
   "metadata": {},
   "source": [
    "**2. Посмотрим, как менялись продажи по платформам. Выберем платформы с наибольшими суммарными продажами и построим распределение по годам. За какой характерный срок появляются новые и исчезают старые платформы?**"
   ]
  },
  {
   "cell_type": "code",
   "execution_count": 145,
   "metadata": {},
   "outputs": [
    {
     "data": {
      "text/html": [
       "<div>\n",
       "<style scoped>\n",
       "    .dataframe tbody tr th:only-of-type {\n",
       "        vertical-align: middle;\n",
       "    }\n",
       "\n",
       "    .dataframe tbody tr th {\n",
       "        vertical-align: top;\n",
       "    }\n",
       "\n",
       "    .dataframe thead th {\n",
       "        text-align: right;\n",
       "    }\n",
       "</style>\n",
       "<table border=\"1\" class=\"dataframe\">\n",
       "  <thead>\n",
       "    <tr style=\"text-align: right;\">\n",
       "      <th></th>\n",
       "      <th>platform</th>\n",
       "      <th>sales</th>\n",
       "    </tr>\n",
       "  </thead>\n",
       "  <tbody>\n",
       "    <tr>\n",
       "      <th>0</th>\n",
       "      <td>PS2</td>\n",
       "      <td>1255.77</td>\n",
       "    </tr>\n",
       "    <tr>\n",
       "      <th>1</th>\n",
       "      <td>X360</td>\n",
       "      <td>971.42</td>\n",
       "    </tr>\n",
       "    <tr>\n",
       "      <th>2</th>\n",
       "      <td>PS3</td>\n",
       "      <td>939.64</td>\n",
       "    </tr>\n",
       "    <tr>\n",
       "      <th>3</th>\n",
       "      <td>Wii</td>\n",
       "      <td>907.51</td>\n",
       "    </tr>\n",
       "    <tr>\n",
       "      <th>4</th>\n",
       "      <td>DS</td>\n",
       "      <td>806.12</td>\n",
       "    </tr>\n",
       "    <tr>\n",
       "      <th>5</th>\n",
       "      <td>PS</td>\n",
       "      <td>730.86</td>\n",
       "    </tr>\n",
       "    <tr>\n",
       "      <th>6</th>\n",
       "      <td>GBA</td>\n",
       "      <td>317.85</td>\n",
       "    </tr>\n",
       "    <tr>\n",
       "      <th>7</th>\n",
       "      <td>PS4</td>\n",
       "      <td>314.14</td>\n",
       "    </tr>\n",
       "    <tr>\n",
       "      <th>8</th>\n",
       "      <td>PSP</td>\n",
       "      <td>294.05</td>\n",
       "    </tr>\n",
       "    <tr>\n",
       "      <th>9</th>\n",
       "      <td>PC</td>\n",
       "      <td>259.52</td>\n",
       "    </tr>\n",
       "    <tr>\n",
       "      <th>10</th>\n",
       "      <td>3DS</td>\n",
       "      <td>259.00</td>\n",
       "    </tr>\n",
       "    <tr>\n",
       "      <th>11</th>\n",
       "      <td>XB</td>\n",
       "      <td>257.74</td>\n",
       "    </tr>\n",
       "    <tr>\n",
       "      <th>12</th>\n",
       "      <td>GB</td>\n",
       "      <td>255.46</td>\n",
       "    </tr>\n",
       "    <tr>\n",
       "      <th>13</th>\n",
       "      <td>NES</td>\n",
       "      <td>251.05</td>\n",
       "    </tr>\n",
       "    <tr>\n",
       "      <th>14</th>\n",
       "      <td>N64</td>\n",
       "      <td>218.68</td>\n",
       "    </tr>\n",
       "    <tr>\n",
       "      <th>15</th>\n",
       "      <td>SNES</td>\n",
       "      <td>200.04</td>\n",
       "    </tr>\n",
       "    <tr>\n",
       "      <th>16</th>\n",
       "      <td>GC</td>\n",
       "      <td>198.93</td>\n",
       "    </tr>\n",
       "    <tr>\n",
       "      <th>17</th>\n",
       "      <td>XOne</td>\n",
       "      <td>159.32</td>\n",
       "    </tr>\n",
       "    <tr>\n",
       "      <th>18</th>\n",
       "      <td>2600</td>\n",
       "      <td>96.98</td>\n",
       "    </tr>\n",
       "    <tr>\n",
       "      <th>19</th>\n",
       "      <td>WiiU</td>\n",
       "      <td>82.19</td>\n",
       "    </tr>\n",
       "  </tbody>\n",
       "</table>\n",
       "</div>"
      ],
      "text/plain": [
       "   platform    sales\n",
       "0       PS2  1255.77\n",
       "1      X360   971.42\n",
       "2       PS3   939.64\n",
       "3       Wii   907.51\n",
       "4        DS   806.12\n",
       "5        PS   730.86\n",
       "6       GBA   317.85\n",
       "7       PS4   314.14\n",
       "8       PSP   294.05\n",
       "9        PC   259.52\n",
       "10      3DS   259.00\n",
       "11       XB   257.74\n",
       "12       GB   255.46\n",
       "13      NES   251.05\n",
       "14      N64   218.68\n",
       "15     SNES   200.04\n",
       "16       GC   198.93\n",
       "17     XOne   159.32\n",
       "18     2600    96.98\n",
       "19     WiiU    82.19"
      ]
     },
     "metadata": {},
     "output_type": "display_data"
    }
   ],
   "source": [
    "platform = df.groupby('platform')['sales'].sum().sort_values(ascending = False).reset_index()\n",
    "display(platform.head(20))"
   ]
  },
  {
   "cell_type": "code",
   "execution_count": 146,
   "metadata": {},
   "outputs": [
    {
     "data": {
      "text/plain": [
       "array(['PS2', 'X360', 'PS3', 'Wii', 'DS', 'PS'], dtype=object)"
      ]
     },
     "metadata": {},
     "output_type": "display_data"
    },
    {
     "data": {
      "image/png": "[encoded data removed]",
      "text/plain": [
       "<Figure size 1080x432 with 1 Axes>"
      ]
     },
     "metadata": {
      "needs_background": "light"
     },
     "output_type": "display_data"
    }
   ],
   "source": [
    "top_platforms = platform.loc[0:5, 'platform'].values\n",
    "display(top_platforms)\n",
    "color = ['r','b','y','black','c','orange','grey','green','brown','purple','m','pink','yellow','coral','darkcyan','dimgray','lime']\n",
    "plt.figure(figsize=(15, 6))\n",
    "plt.grid()\n",
    "plt.title('Наибольшие суммарные продажи с распределением по годам')\n",
    "mean_year_life = 0\n",
    "for i in range(0,len(top_platforms)):\n",
    "    platform1  = df.query('platform == @top_platforms[@i]').groupby('year_of_release')['sales'].sum()\n",
    "    mean_year_life += platform1.count()\n",
    "    platform1.plot(x=platform1.index, y=platform1.values, style='-', color=color[i], label=top_platforms[i], alpha=0.8, grid=True);\n",
    "plt.xlabel('Год')    \n",
    "plt.ylabel('Количество')\n",
    "plt.legend()\n",
    "plt.show()"
   ]
  },
  {
   "cell_type": "markdown",
   "metadata": {},
   "source": [
    "Посмотрим за какой характерный срок появляются новые и исчезают старые платформы"
   ]
  },
  {
   "cell_type": "code",
   "execution_count": 147,
   "metadata": {},
   "outputs": [
    {
     "name": "stdout",
     "output_type": "stream",
     "text": [
      "11.166666666666666\n"
     ]
    }
   ],
   "source": [
    "print(mean_year_life/len(top_platforms))"
   ]
  },
  {
   "cell_type": "markdown",
   "metadata": {},
   "source": [
    "Как видно на графике, те устройства, которые появились в 2000 году практически не использовались после 2010 году. Аналогично происходило и с устройствами которые появились в 2005 году. То есть получаем, что все приставки жили в основном чуть больше 10 лет. Самыми популярными устройствами были PS2, Xbox360 и PS3. Они до сих пор остаются на уровне легендарных устройств."
   ]
  },
  {
   "cell_type": "markdown",
   "metadata": {},
   "source": [
    "**3. Возьмем данные за соответствующий актуальный период. Актуальный период определим самостоятельно в результате исследования предыдущих вопросов. Основной фактор — эти данные помогут построить прогноз на 2017 год.**"
   ]
  },
  {
   "cell_type": "markdown",
   "metadata": {},
   "source": [
    "Возьмем в качестве акутального периода, период развития приставок, то естьдо того, как они достигли пика популярности. Это будет период с 2012 года по 2016 год."
   ]
  },
  {
   "cell_type": "code",
   "execution_count": 148,
   "metadata": {},
   "outputs": [
    {
     "data": {
      "text/html": [
       "<div>\n",
       "<style scoped>\n",
       "    .dataframe tbody tr th:only-of-type {\n",
       "        vertical-align: middle;\n",
       "    }\n",
       "\n",
       "    .dataframe tbody tr th {\n",
       "        vertical-align: top;\n",
       "    }\n",
       "\n",
       "    .dataframe thead th {\n",
       "        text-align: right;\n",
       "    }\n",
       "</style>\n",
       "<table border=\"1\" class=\"dataframe\">\n",
       "  <thead>\n",
       "    <tr style=\"text-align: right;\">\n",
       "      <th>platform</th>\n",
       "      <th>year_of_release</th>\n",
       "      <th>3DS</th>\n",
       "      <th>DS</th>\n",
       "      <th>PC</th>\n",
       "      <th>PS3</th>\n",
       "      <th>PS4</th>\n",
       "      <th>PSP</th>\n",
       "      <th>PSV</th>\n",
       "      <th>Wii</th>\n",
       "      <th>WiiU</th>\n",
       "      <th>X360</th>\n",
       "      <th>XOne</th>\n",
       "    </tr>\n",
       "  </thead>\n",
       "  <tbody>\n",
       "    <tr>\n",
       "      <th>0</th>\n",
       "      <td>2012</td>\n",
       "      <td>51.36</td>\n",
       "      <td>11.01</td>\n",
       "      <td>23.22</td>\n",
       "      <td>107.35</td>\n",
       "      <td>0.00</td>\n",
       "      <td>7.69</td>\n",
       "      <td>16.19</td>\n",
       "      <td>21.71</td>\n",
       "      <td>17.56</td>\n",
       "      <td>99.74</td>\n",
       "      <td>0.00</td>\n",
       "    </tr>\n",
       "    <tr>\n",
       "      <th>1</th>\n",
       "      <td>2013</td>\n",
       "      <td>56.57</td>\n",
       "      <td>1.54</td>\n",
       "      <td>12.38</td>\n",
       "      <td>113.25</td>\n",
       "      <td>25.99</td>\n",
       "      <td>3.14</td>\n",
       "      <td>10.59</td>\n",
       "      <td>8.59</td>\n",
       "      <td>21.65</td>\n",
       "      <td>88.58</td>\n",
       "      <td>18.96</td>\n",
       "    </tr>\n",
       "    <tr>\n",
       "      <th>2</th>\n",
       "      <td>2014</td>\n",
       "      <td>43.76</td>\n",
       "      <td>0.00</td>\n",
       "      <td>13.28</td>\n",
       "      <td>47.76</td>\n",
       "      <td>100.00</td>\n",
       "      <td>0.24</td>\n",
       "      <td>11.90</td>\n",
       "      <td>3.75</td>\n",
       "      <td>22.03</td>\n",
       "      <td>34.74</td>\n",
       "      <td>54.07</td>\n",
       "    </tr>\n",
       "    <tr>\n",
       "      <th>3</th>\n",
       "      <td>2015</td>\n",
       "      <td>27.78</td>\n",
       "      <td>0.00</td>\n",
       "      <td>8.52</td>\n",
       "      <td>16.82</td>\n",
       "      <td>118.90</td>\n",
       "      <td>0.12</td>\n",
       "      <td>6.25</td>\n",
       "      <td>1.14</td>\n",
       "      <td>16.35</td>\n",
       "      <td>11.96</td>\n",
       "      <td>60.14</td>\n",
       "    </tr>\n",
       "    <tr>\n",
       "      <th>4</th>\n",
       "      <td>2016</td>\n",
       "      <td>15.14</td>\n",
       "      <td>0.00</td>\n",
       "      <td>5.25</td>\n",
       "      <td>3.60</td>\n",
       "      <td>69.25</td>\n",
       "      <td>0.00</td>\n",
       "      <td>4.25</td>\n",
       "      <td>0.18</td>\n",
       "      <td>4.60</td>\n",
       "      <td>1.52</td>\n",
       "      <td>26.15</td>\n",
       "    </tr>\n",
       "  </tbody>\n",
       "</table>\n",
       "</div>"
      ],
      "text/plain": [
       "platform  year_of_release    3DS     DS     PC     PS3     PS4   PSP    PSV  \\\n",
       "0                    2012  51.36  11.01  23.22  107.35    0.00  7.69  16.19   \n",
       "1                    2013  56.57   1.54  12.38  113.25   25.99  3.14  10.59   \n",
       "2                    2014  43.76   0.00  13.28   47.76  100.00  0.24  11.90   \n",
       "3                    2015  27.78   0.00   8.52   16.82  118.90  0.12   6.25   \n",
       "4                    2016  15.14   0.00   5.25    3.60   69.25  0.00   4.25   \n",
       "\n",
       "platform    Wii   WiiU   X360   XOne  \n",
       "0         21.71  17.56  99.74   0.00  \n",
       "1          8.59  21.65  88.58  18.96  \n",
       "2          3.75  22.03  34.74  54.07  \n",
       "3          1.14  16.35  11.96  60.14  \n",
       "4          0.18   4.60   1.52  26.15  "
      ]
     },
     "metadata": {},
     "output_type": "display_data"
    }
   ],
   "source": [
    "platform_2017 = df.pivot_table(index='year_of_release', columns='platform', values='sales', aggfunc='sum').query('year_of_release >= 2012 & year_of_release <= 2016').fillna(0).reset_index()\n",
    "platform_2017['year_of_release'] = platform_2017['year_of_release'].astype('Int64')\n",
    "for column in platform_2017.columns:\n",
    "    if platform_2017[column].sum()==0:\n",
    "        platform_2017.drop(column, axis=1,inplace=True)\n",
    "display(platform_2017)"
   ]
  },
  {
   "cell_type": "code",
   "execution_count": 149,
   "metadata": {},
   "outputs": [
    {
     "data": {
      "image/png": "[encoded data removed]",
      "text/plain": [
       "<Figure size 1080x504 with 1 Axes>"
      ]
     },
     "metadata": {
      "needs_background": "light"
     },
     "output_type": "display_data"
    }
   ],
   "source": [
    "plt.figure(figsize=(15, 7))\n",
    "plt.grid()\n",
    "plt.title('Наибольшие суммарные продажи за актуальный период')\n",
    "i=0\n",
    "for column in platform_2017.columns[1:]:\n",
    "    plt.plot(platform_2017['year_of_release'].to_list(), platform_2017[column].to_list(), label=column, color=color[i], alpha=0.95);\n",
    "    i+=1 \n",
    "plt.grid()\n",
    "plt.xlabel('Год')    \n",
    "plt.ylabel('Количество')\n",
    "plt.legend()\n",
    "plt.show()"
   ]
  },
  {
   "cell_type": "markdown",
   "metadata": {},
   "source": [
    "По данным из графика, можно увидеть, что во все времена существовали некоторые флагманские устройства, которые доминировали и покупались людьми во все года. К ним относятся PS2, Xbox360, Wii и PS3. Закат этих моделей как раз таки приходится на примерно на 2014 год, когда на замену этим приставкам пришли PS4 и XboxOne.\n",
    "\n",
    "То есть если создавать некоторый топ устройств, то сначала идут флагманские устройства от гигантов индустрии, которые актуальны сейчас. Это PS4 и XboxOne. Затем предущие их версии, ведь люди же не будут их выбрасывать и сразу же покупать новые версии, поэтому в топе остаются также PS3 и Xbox360. Также можем выделить приставку Wii."
   ]
  },
  {
   "cell_type": "code",
   "execution_count": 150,
   "metadata": {},
   "outputs": [
    {
     "data": {
      "text/html": [
       "<div>\n",
       "<style scoped>\n",
       "    .dataframe tbody tr th:only-of-type {\n",
       "        vertical-align: middle;\n",
       "    }\n",
       "\n",
       "    .dataframe tbody tr th {\n",
       "        vertical-align: top;\n",
       "    }\n",
       "\n",
       "    .dataframe thead th {\n",
       "        text-align: right;\n",
       "    }\n",
       "</style>\n",
       "<table border=\"1\" class=\"dataframe\">\n",
       "  <thead>\n",
       "    <tr style=\"text-align: right;\">\n",
       "      <th></th>\n",
       "      <th>platform</th>\n",
       "      <th>sales</th>\n",
       "    </tr>\n",
       "  </thead>\n",
       "  <tbody>\n",
       "    <tr>\n",
       "      <th>0</th>\n",
       "      <td>PS4</td>\n",
       "      <td>314.14</td>\n",
       "    </tr>\n",
       "    <tr>\n",
       "      <th>1</th>\n",
       "      <td>PS3</td>\n",
       "      <td>288.78</td>\n",
       "    </tr>\n",
       "    <tr>\n",
       "      <th>2</th>\n",
       "      <td>X360</td>\n",
       "      <td>236.54</td>\n",
       "    </tr>\n",
       "    <tr>\n",
       "      <th>3</th>\n",
       "      <td>3DS</td>\n",
       "      <td>194.61</td>\n",
       "    </tr>\n",
       "    <tr>\n",
       "      <th>4</th>\n",
       "      <td>XOne</td>\n",
       "      <td>159.32</td>\n",
       "    </tr>\n",
       "    <tr>\n",
       "      <th>5</th>\n",
       "      <td>WiiU</td>\n",
       "      <td>82.19</td>\n",
       "    </tr>\n",
       "    <tr>\n",
       "      <th>6</th>\n",
       "      <td>PC</td>\n",
       "      <td>62.65</td>\n",
       "    </tr>\n",
       "    <tr>\n",
       "      <th>7</th>\n",
       "      <td>PSV</td>\n",
       "      <td>49.18</td>\n",
       "    </tr>\n",
       "    <tr>\n",
       "      <th>8</th>\n",
       "      <td>Wii</td>\n",
       "      <td>35.37</td>\n",
       "    </tr>\n",
       "    <tr>\n",
       "      <th>9</th>\n",
       "      <td>DS</td>\n",
       "      <td>12.55</td>\n",
       "    </tr>\n",
       "  </tbody>\n",
       "</table>\n",
       "</div>"
      ],
      "text/plain": [
       "  platform   sales\n",
       "0      PS4  314.14\n",
       "1      PS3  288.78\n",
       "2     X360  236.54\n",
       "3      3DS  194.61\n",
       "4     XOne  159.32\n",
       "5     WiiU   82.19\n",
       "6       PC   62.65\n",
       "7      PSV   49.18\n",
       "8      Wii   35.37\n",
       "9       DS   12.55"
      ]
     },
     "metadata": {},
     "output_type": "display_data"
    }
   ],
   "source": [
    "top_platform_2017 = df.query('year_of_release >= 2012 & year_of_release <= 2016', engine='python').groupby('platform')['sales'].sum().sort_values(ascending=False).reset_index()\n",
    "display(top_platform_2017.head(10))"
   ]
  },
  {
   "cell_type": "markdown",
   "metadata": {},
   "source": [
    "**4. Построим график «ящик с усами» по глобальным продажам игр в разбивке по платформам. Опишем результат.**"
   ]
  },
  {
   "cell_type": "code",
   "execution_count": 151,
   "metadata": {},
   "outputs": [
    {
     "data": {
      "image/png": "[encoded data removed]",
      "text/plain": [
       "<Figure size 1152x864 with 10 Axes>"
      ]
     },
     "metadata": {
      "needs_background": "light"
     },
     "output_type": "display_data"
    }
   ],
   "source": [
    "fig, (ax1, ax2, ax3, ax4, ax5, ax6, ax7, ax8, ax9, ax10) = plt.subplots(nrows=1, ncols=10, figsize=(16, 12))\n",
    "fig.autofmt_xdate();\n",
    "p = {ax1:'X360', ax2:'PS3', ax3:'Wii', ax4:'DS', ax5:'PS2', ax6:'PS4', ax7:'PSP', ax8:'3DS', ax9:'PC', ax10:'XOne'}\n",
    "for ax in [ax1, ax2, ax3, ax4, ax5, ax6, ax7, ax8, ax9, ax10]:\n",
    "    sales = df.query('platform==@p[@ax] and sales<1.5', engine='python')['sales']\n",
    "    ax.boxplot(sales)\n",
    "    ax.grid()\n",
    "    ax.set_title(p[ax])\n",
    "fig.autofmt_xdate()"
   ]
  },
  {
   "cell_type": "markdown",
   "metadata": {},
   "source": [
    "Как можно увидеть на ящиках с усами, медианные значения лежат в промежутке от 0,1 до 0,25 млн. Также можно увидеть огромное количество выбросов, точнее количество продаваемых игр на данную платформу. Лидерами тут несомненно будут PS2, PS3, Xbox360, а также Wii."
   ]
  },
  {
   "cell_type": "markdown",
   "metadata": {},
   "source": [
    "**5. Посмотрим, как влияют на продажи внутри одной популярной платформы отзывы пользователей и критиков. Построим диаграмму рассеяния и посчитаем корреляцию между отзывами и продажами. Сформулируем выводы.**"
   ]
  },
  {
   "cell_type": "markdown",
   "metadata": {},
   "source": [
    "Возьмем популярную платформу PS2"
   ]
  },
  {
   "cell_type": "code",
   "execution_count": 152,
   "metadata": {},
   "outputs": [
    {
     "data": {
      "text/html": [
       "<div>\n",
       "<style scoped>\n",
       "    .dataframe tbody tr th:only-of-type {\n",
       "        vertical-align: middle;\n",
       "    }\n",
       "\n",
       "    .dataframe tbody tr th {\n",
       "        vertical-align: top;\n",
       "    }\n",
       "\n",
       "    .dataframe thead th {\n",
       "        text-align: right;\n",
       "    }\n",
       "</style>\n",
       "<table border=\"1\" class=\"dataframe\">\n",
       "  <thead>\n",
       "    <tr style=\"text-align: right;\">\n",
       "      <th></th>\n",
       "      <th>name</th>\n",
       "      <th>platform</th>\n",
       "      <th>year_of_release</th>\n",
       "      <th>genre</th>\n",
       "      <th>na_sales</th>\n",
       "      <th>eu_sales</th>\n",
       "      <th>jp_sales</th>\n",
       "      <th>other_sales</th>\n",
       "      <th>critic_score</th>\n",
       "      <th>user_score</th>\n",
       "      <th>rating</th>\n",
       "      <th>sales</th>\n",
       "    </tr>\n",
       "  </thead>\n",
       "  <tbody>\n",
       "    <tr>\n",
       "      <th>17</th>\n",
       "      <td>Grand Theft Auto: San Andreas</td>\n",
       "      <td>PS2</td>\n",
       "      <td>2004</td>\n",
       "      <td>Action</td>\n",
       "      <td>9.43</td>\n",
       "      <td>0.40</td>\n",
       "      <td>0.41</td>\n",
       "      <td>10.57</td>\n",
       "      <td>95.0</td>\n",
       "      <td>9.0</td>\n",
       "      <td>M</td>\n",
       "      <td>20.81</td>\n",
       "    </tr>\n",
       "    <tr>\n",
       "      <th>24</th>\n",
       "      <td>Grand Theft Auto: Vice City</td>\n",
       "      <td>PS2</td>\n",
       "      <td>2002</td>\n",
       "      <td>Action</td>\n",
       "      <td>8.41</td>\n",
       "      <td>5.49</td>\n",
       "      <td>0.47</td>\n",
       "      <td>1.78</td>\n",
       "      <td>95.0</td>\n",
       "      <td>8.7</td>\n",
       "      <td>M</td>\n",
       "      <td>16.15</td>\n",
       "    </tr>\n",
       "    <tr>\n",
       "      <th>28</th>\n",
       "      <td>Gran Turismo 3: A-Spec</td>\n",
       "      <td>PS2</td>\n",
       "      <td>2001</td>\n",
       "      <td>Racing</td>\n",
       "      <td>6.85</td>\n",
       "      <td>5.09</td>\n",
       "      <td>1.87</td>\n",
       "      <td>1.16</td>\n",
       "      <td>95.0</td>\n",
       "      <td>8.4</td>\n",
       "      <td>E</td>\n",
       "      <td>14.97</td>\n",
       "    </tr>\n",
       "    <tr>\n",
       "      <th>38</th>\n",
       "      <td>Grand Theft Auto III</td>\n",
       "      <td>PS2</td>\n",
       "      <td>2001</td>\n",
       "      <td>Action</td>\n",
       "      <td>6.99</td>\n",
       "      <td>4.51</td>\n",
       "      <td>0.30</td>\n",
       "      <td>1.30</td>\n",
       "      <td>97.0</td>\n",
       "      <td>8.5</td>\n",
       "      <td>M</td>\n",
       "      <td>13.10</td>\n",
       "    </tr>\n",
       "    <tr>\n",
       "      <th>48</th>\n",
       "      <td>Gran Turismo 4</td>\n",
       "      <td>PS2</td>\n",
       "      <td>2004</td>\n",
       "      <td>Racing</td>\n",
       "      <td>3.01</td>\n",
       "      <td>0.01</td>\n",
       "      <td>1.10</td>\n",
       "      <td>7.53</td>\n",
       "      <td>89.0</td>\n",
       "      <td>8.5</td>\n",
       "      <td>E</td>\n",
       "      <td>11.65</td>\n",
       "    </tr>\n",
       "    <tr>\n",
       "      <th>...</th>\n",
       "      <td>...</td>\n",
       "      <td>...</td>\n",
       "      <td>...</td>\n",
       "      <td>...</td>\n",
       "      <td>...</td>\n",
       "      <td>...</td>\n",
       "      <td>...</td>\n",
       "      <td>...</td>\n",
       "      <td>...</td>\n",
       "      <td>...</td>\n",
       "      <td>...</td>\n",
       "      <td>...</td>\n",
       "    </tr>\n",
       "    <tr>\n",
       "      <th>16285</th>\n",
       "      <td>Metal Slug Anthology</td>\n",
       "      <td>PS2</td>\n",
       "      <td>2007</td>\n",
       "      <td>Shooter</td>\n",
       "      <td>0.00</td>\n",
       "      <td>0.00</td>\n",
       "      <td>0.01</td>\n",
       "      <td>0.00</td>\n",
       "      <td>80.0</td>\n",
       "      <td>8.1</td>\n",
       "      <td>T</td>\n",
       "      <td>0.01</td>\n",
       "    </tr>\n",
       "    <tr>\n",
       "      <th>16427</th>\n",
       "      <td>Greg Hastings' Tournament Paintball Max'd</td>\n",
       "      <td>PS2</td>\n",
       "      <td>2006</td>\n",
       "      <td>Shooter</td>\n",
       "      <td>0.01</td>\n",
       "      <td>0.00</td>\n",
       "      <td>0.00</td>\n",
       "      <td>0.00</td>\n",
       "      <td>70.0</td>\n",
       "      <td>9.2</td>\n",
       "      <td>E10+</td>\n",
       "      <td>0.01</td>\n",
       "    </tr>\n",
       "    <tr>\n",
       "      <th>16437</th>\n",
       "      <td>Ultimate Board Game Collection</td>\n",
       "      <td>PS2</td>\n",
       "      <td>2006</td>\n",
       "      <td>Misc</td>\n",
       "      <td>0.01</td>\n",
       "      <td>0.00</td>\n",
       "      <td>0.00</td>\n",
       "      <td>0.00</td>\n",
       "      <td>37.0</td>\n",
       "      <td>NaN</td>\n",
       "      <td>E</td>\n",
       "      <td>0.01</td>\n",
       "    </tr>\n",
       "    <tr>\n",
       "      <th>16505</th>\n",
       "      <td>World Heroes Anthology</td>\n",
       "      <td>PS2</td>\n",
       "      <td>2007</td>\n",
       "      <td>Fighting</td>\n",
       "      <td>0.00</td>\n",
       "      <td>0.00</td>\n",
       "      <td>0.01</td>\n",
       "      <td>0.00</td>\n",
       "      <td>53.0</td>\n",
       "      <td>NaN</td>\n",
       "      <td>T</td>\n",
       "      <td>0.01</td>\n",
       "    </tr>\n",
       "    <tr>\n",
       "      <th>16589</th>\n",
       "      <td>Micro Machines V4</td>\n",
       "      <td>PS2</td>\n",
       "      <td>2006</td>\n",
       "      <td>Racing</td>\n",
       "      <td>0.01</td>\n",
       "      <td>0.00</td>\n",
       "      <td>0.00</td>\n",
       "      <td>0.00</td>\n",
       "      <td>64.0</td>\n",
       "      <td>6.8</td>\n",
       "      <td>E</td>\n",
       "      <td>0.01</td>\n",
       "    </tr>\n",
       "  </tbody>\n",
       "</table>\n",
       "<p>1298 rows × 12 columns</p>\n",
       "</div>"
      ],
      "text/plain": [
       "                                            name platform  year_of_release  \\\n",
       "17                 Grand Theft Auto: San Andreas      PS2             2004   \n",
       "24                   Grand Theft Auto: Vice City      PS2             2002   \n",
       "28                        Gran Turismo 3: A-Spec      PS2             2001   \n",
       "38                          Grand Theft Auto III      PS2             2001   \n",
       "48                                Gran Turismo 4      PS2             2004   \n",
       "...                                          ...      ...              ...   \n",
       "16285                       Metal Slug Anthology      PS2             2007   \n",
       "16427  Greg Hastings' Tournament Paintball Max'd      PS2             2006   \n",
       "16437             Ultimate Board Game Collection      PS2             2006   \n",
       "16505                     World Heroes Anthology      PS2             2007   \n",
       "16589                          Micro Machines V4      PS2             2006   \n",
       "\n",
       "          genre  na_sales  eu_sales  jp_sales  other_sales  critic_score  \\\n",
       "17       Action      9.43      0.40      0.41        10.57          95.0   \n",
       "24       Action      8.41      5.49      0.47         1.78          95.0   \n",
       "28       Racing      6.85      5.09      1.87         1.16          95.0   \n",
       "38       Action      6.99      4.51      0.30         1.30          97.0   \n",
       "48       Racing      3.01      0.01      1.10         7.53          89.0   \n",
       "...         ...       ...       ...       ...          ...           ...   \n",
       "16285   Shooter      0.00      0.00      0.01         0.00          80.0   \n",
       "16427   Shooter      0.01      0.00      0.00         0.00          70.0   \n",
       "16437      Misc      0.01      0.00      0.00         0.00          37.0   \n",
       "16505  Fighting      0.00      0.00      0.01         0.00          53.0   \n",
       "16589    Racing      0.01      0.00      0.00         0.00          64.0   \n",
       "\n",
       "       user_score rating  sales  \n",
       "17            9.0      M  20.81  \n",
       "24            8.7      M  16.15  \n",
       "28            8.4      E  14.97  \n",
       "38            8.5      M  13.10  \n",
       "48            8.5      E  11.65  \n",
       "...           ...    ...    ...  \n",
       "16285         8.1      T   0.01  \n",
       "16427         9.2   E10+   0.01  \n",
       "16437         NaN      E   0.01  \n",
       "16505         NaN      T   0.01  \n",
       "16589         6.8      E   0.01  \n",
       "\n",
       "[1298 rows x 12 columns]"
      ]
     },
     "metadata": {},
     "output_type": "display_data"
    }
   ],
   "source": [
    "ps = df[(df['platform'] == 'PS2') & (df['critic_score'] > 0)]\n",
    "display(ps)"
   ]
  },
  {
   "cell_type": "markdown",
   "metadata": {},
   "source": [
    "Посмотрим как коррелируют продажи данной платформы и отзывы покупателей и критиков."
   ]
  },
  {
   "cell_type": "code",
   "execution_count": 153,
   "metadata": {},
   "outputs": [
    {
     "name": "stdout",
     "output_type": "stream",
     "text": [
      "0.39543454945454865\n",
      "0.16941987448591259\n"
     ]
    }
   ],
   "source": [
    "print(ps['sales'].corr(ps['critic_score']))\n",
    "print(ps['sales'].corr(ps['user_score']))"
   ]
  },
  {
   "cell_type": "markdown",
   "metadata": {},
   "source": [
    "Как можно увидеть, зависимость прямая в обоих случаях, но отзывы критиков влияют средне на продажи, а вот в ситуации с покупателями зависимость слабая."
   ]
  },
  {
   "cell_type": "markdown",
   "metadata": {},
   "source": [
    "Посмотроим два графика для наглядности"
   ]
  },
  {
   "cell_type": "code",
   "execution_count": 154,
   "metadata": {},
   "outputs": [
    {
     "data": {
      "text/plain": [
       "Text(0, 0.5, 'Продажи')"
      ]
     },
     "execution_count": 154,
     "metadata": {},
     "output_type": "execute_result"
    },
    {
     "data": {
      "image/png": "[encoded data removed]",
      "text/plain": [
       "<Figure size 1080x360 with 1 Axes>"
      ]
     },
     "metadata": {
      "needs_background": "light"
     },
     "output_type": "display_data"
    },
    {
     "data": {
      "image/png": "[encoded data removed]",
      "text/plain": [
       "<Figure size 1080x360 with 1 Axes>"
      ]
     },
     "metadata": {
      "needs_background": "light"
     },
     "output_type": "display_data"
    }
   ],
   "source": [
    "ps.plot(x='critic_score',y='sales',kind='scatter',figsize=(15,5), alpha=0.5)\n",
    "plt.title('Зависимость продаж от отзывов критиков')\n",
    "plt.xlabel('Отзывы критиков')\n",
    "plt.ylabel('Продажи')\n",
    "ps.plot(x='user_score',y='sales',kind='scatter',figsize=(15,5), alpha=0.5)\n",
    "plt.title('Зависимость продаж от отзывов покупателей')\n",
    "plt.xlabel('Отзывы покупателей')\n",
    "plt.ylabel('Продажи')"
   ]
  },
  {
   "cell_type": "markdown",
   "metadata": {},
   "source": [
    "Видно, что чем лучше оценки, тем лучше продажи, что достаточно логично."
   ]
  },
  {
   "cell_type": "markdown",
   "metadata": {},
   "source": [
    "**6. Соотнесите выводы с продажами игр на других платформах**"
   ]
  },
  {
   "cell_type": "code",
   "execution_count": 155,
   "metadata": {},
   "outputs": [
    {
     "data": {
      "text/html": [
       "<div>\n",
       "<style scoped>\n",
       "    .dataframe tbody tr th:only-of-type {\n",
       "        vertical-align: middle;\n",
       "    }\n",
       "\n",
       "    .dataframe tbody tr th {\n",
       "        vertical-align: top;\n",
       "    }\n",
       "\n",
       "    .dataframe thead th {\n",
       "        text-align: right;\n",
       "    }\n",
       "</style>\n",
       "<table border=\"1\" class=\"dataframe\">\n",
       "  <thead>\n",
       "    <tr style=\"text-align: right;\">\n",
       "      <th></th>\n",
       "      <th>name</th>\n",
       "      <th>platform</th>\n",
       "      <th>year_of_release</th>\n",
       "      <th>genre</th>\n",
       "      <th>na_sales</th>\n",
       "      <th>eu_sales</th>\n",
       "      <th>jp_sales</th>\n",
       "      <th>other_sales</th>\n",
       "      <th>critic_score</th>\n",
       "      <th>user_score</th>\n",
       "      <th>rating</th>\n",
       "      <th>sales</th>\n",
       "    </tr>\n",
       "  </thead>\n",
       "  <tbody>\n",
       "    <tr>\n",
       "      <th>14</th>\n",
       "      <td>Kinect Adventures!</td>\n",
       "      <td>X360</td>\n",
       "      <td>2010</td>\n",
       "      <td>Misc</td>\n",
       "      <td>15.00</td>\n",
       "      <td>4.89</td>\n",
       "      <td>0.24</td>\n",
       "      <td>1.69</td>\n",
       "      <td>61.0</td>\n",
       "      <td>6.3</td>\n",
       "      <td>E</td>\n",
       "      <td>21.82</td>\n",
       "    </tr>\n",
       "    <tr>\n",
       "      <th>23</th>\n",
       "      <td>Grand Theft Auto V</td>\n",
       "      <td>X360</td>\n",
       "      <td>2013</td>\n",
       "      <td>Action</td>\n",
       "      <td>9.66</td>\n",
       "      <td>5.14</td>\n",
       "      <td>0.06</td>\n",
       "      <td>1.41</td>\n",
       "      <td>97.0</td>\n",
       "      <td>8.1</td>\n",
       "      <td>M</td>\n",
       "      <td>16.27</td>\n",
       "    </tr>\n",
       "    <tr>\n",
       "      <th>29</th>\n",
       "      <td>Call of Duty: Modern Warfare 3</td>\n",
       "      <td>X360</td>\n",
       "      <td>2011</td>\n",
       "      <td>Shooter</td>\n",
       "      <td>9.04</td>\n",
       "      <td>4.24</td>\n",
       "      <td>0.13</td>\n",
       "      <td>1.32</td>\n",
       "      <td>88.0</td>\n",
       "      <td>3.4</td>\n",
       "      <td>M</td>\n",
       "      <td>14.73</td>\n",
       "    </tr>\n",
       "    <tr>\n",
       "      <th>32</th>\n",
       "      <td>Call of Duty: Black Ops</td>\n",
       "      <td>X360</td>\n",
       "      <td>2010</td>\n",
       "      <td>Shooter</td>\n",
       "      <td>9.70</td>\n",
       "      <td>3.68</td>\n",
       "      <td>0.11</td>\n",
       "      <td>1.13</td>\n",
       "      <td>87.0</td>\n",
       "      <td>6.3</td>\n",
       "      <td>M</td>\n",
       "      <td>14.62</td>\n",
       "    </tr>\n",
       "    <tr>\n",
       "      <th>35</th>\n",
       "      <td>Call of Duty: Black Ops II</td>\n",
       "      <td>X360</td>\n",
       "      <td>2012</td>\n",
       "      <td>Shooter</td>\n",
       "      <td>8.25</td>\n",
       "      <td>4.24</td>\n",
       "      <td>0.07</td>\n",
       "      <td>1.12</td>\n",
       "      <td>83.0</td>\n",
       "      <td>4.8</td>\n",
       "      <td>M</td>\n",
       "      <td>13.68</td>\n",
       "    </tr>\n",
       "    <tr>\n",
       "      <th>...</th>\n",
       "      <td>...</td>\n",
       "      <td>...</td>\n",
       "      <td>...</td>\n",
       "      <td>...</td>\n",
       "      <td>...</td>\n",
       "      <td>...</td>\n",
       "      <td>...</td>\n",
       "      <td>...</td>\n",
       "      <td>...</td>\n",
       "      <td>...</td>\n",
       "      <td>...</td>\n",
       "      <td>...</td>\n",
       "    </tr>\n",
       "    <tr>\n",
       "      <th>15741</th>\n",
       "      <td>Worms</td>\n",
       "      <td>X360</td>\n",
       "      <td>2007</td>\n",
       "      <td>Strategy</td>\n",
       "      <td>0.00</td>\n",
       "      <td>0.02</td>\n",
       "      <td>0.00</td>\n",
       "      <td>0.00</td>\n",
       "      <td>75.0</td>\n",
       "      <td>6.9</td>\n",
       "      <td>E10+</td>\n",
       "      <td>0.02</td>\n",
       "    </tr>\n",
       "    <tr>\n",
       "      <th>16309</th>\n",
       "      <td>Banjo-Kazooie</td>\n",
       "      <td>X360</td>\n",
       "      <td>2008</td>\n",
       "      <td>Platform</td>\n",
       "      <td>0.00</td>\n",
       "      <td>0.01</td>\n",
       "      <td>0.00</td>\n",
       "      <td>0.00</td>\n",
       "      <td>77.0</td>\n",
       "      <td>8.2</td>\n",
       "      <td>E</td>\n",
       "      <td>0.01</td>\n",
       "    </tr>\n",
       "    <tr>\n",
       "      <th>16472</th>\n",
       "      <td>John Daly's ProStroke Golf</td>\n",
       "      <td>X360</td>\n",
       "      <td>2010</td>\n",
       "      <td>Sports</td>\n",
       "      <td>0.01</td>\n",
       "      <td>0.00</td>\n",
       "      <td>0.00</td>\n",
       "      <td>0.00</td>\n",
       "      <td>57.0</td>\n",
       "      <td>NaN</td>\n",
       "      <td>E</td>\n",
       "      <td>0.01</td>\n",
       "    </tr>\n",
       "    <tr>\n",
       "      <th>16548</th>\n",
       "      <td>Superstars V8 Racing</td>\n",
       "      <td>X360</td>\n",
       "      <td>2009</td>\n",
       "      <td>Racing</td>\n",
       "      <td>0.00</td>\n",
       "      <td>0.01</td>\n",
       "      <td>0.00</td>\n",
       "      <td>0.00</td>\n",
       "      <td>62.0</td>\n",
       "      <td>NaN</td>\n",
       "      <td>E</td>\n",
       "      <td>0.01</td>\n",
       "    </tr>\n",
       "    <tr>\n",
       "      <th>16611</th>\n",
       "      <td>Dragon Ball Z for Kinect</td>\n",
       "      <td>X360</td>\n",
       "      <td>2012</td>\n",
       "      <td>Fighting</td>\n",
       "      <td>0.01</td>\n",
       "      <td>0.00</td>\n",
       "      <td>0.00</td>\n",
       "      <td>0.00</td>\n",
       "      <td>49.0</td>\n",
       "      <td>2.1</td>\n",
       "      <td>T</td>\n",
       "      <td>0.01</td>\n",
       "    </tr>\n",
       "  </tbody>\n",
       "</table>\n",
       "<p>916 rows × 12 columns</p>\n",
       "</div>"
      ],
      "text/plain": [
       "                                 name platform  year_of_release     genre  \\\n",
       "14                 Kinect Adventures!     X360             2010      Misc   \n",
       "23                 Grand Theft Auto V     X360             2013    Action   \n",
       "29     Call of Duty: Modern Warfare 3     X360             2011   Shooter   \n",
       "32            Call of Duty: Black Ops     X360             2010   Shooter   \n",
       "35         Call of Duty: Black Ops II     X360             2012   Shooter   \n",
       "...                               ...      ...              ...       ...   \n",
       "15741                           Worms     X360             2007  Strategy   \n",
       "16309                   Banjo-Kazooie     X360             2008  Platform   \n",
       "16472      John Daly's ProStroke Golf     X360             2010    Sports   \n",
       "16548            Superstars V8 Racing     X360             2009    Racing   \n",
       "16611        Dragon Ball Z for Kinect     X360             2012  Fighting   \n",
       "\n",
       "       na_sales  eu_sales  jp_sales  other_sales  critic_score  user_score  \\\n",
       "14        15.00      4.89      0.24         1.69          61.0         6.3   \n",
       "23         9.66      5.14      0.06         1.41          97.0         8.1   \n",
       "29         9.04      4.24      0.13         1.32          88.0         3.4   \n",
       "32         9.70      3.68      0.11         1.13          87.0         6.3   \n",
       "35         8.25      4.24      0.07         1.12          83.0         4.8   \n",
       "...         ...       ...       ...          ...           ...         ...   \n",
       "15741      0.00      0.02      0.00         0.00          75.0         6.9   \n",
       "16309      0.00      0.01      0.00         0.00          77.0         8.2   \n",
       "16472      0.01      0.00      0.00         0.00          57.0         NaN   \n",
       "16548      0.00      0.01      0.00         0.00          62.0         NaN   \n",
       "16611      0.01      0.00      0.00         0.00          49.0         2.1   \n",
       "\n",
       "      rating  sales  \n",
       "14         E  21.82  \n",
       "23         M  16.27  \n",
       "29         M  14.73  \n",
       "32         M  14.62  \n",
       "35         M  13.68  \n",
       "...      ...    ...  \n",
       "15741   E10+   0.02  \n",
       "16309      E   0.01  \n",
       "16472      E   0.01  \n",
       "16548      E   0.01  \n",
       "16611      T   0.01  \n",
       "\n",
       "[916 rows x 12 columns]"
      ]
     },
     "metadata": {},
     "output_type": "display_data"
    },
    {
     "name": "stdout",
     "output_type": "stream",
     "text": [
      "0.3937358653072583\n",
      "0.11041150383472836\n"
     ]
    },
    {
     "data": {
      "image/png": "[encoded data removed]",
      "text/plain": [
       "<Figure size 1080x360 with 1 Axes>"
      ]
     },
     "metadata": {
      "needs_background": "light"
     },
     "output_type": "display_data"
    },
    {
     "data": {
      "image/png": "[encoded data removed]",
      "text/plain": [
       "<Figure size 1080x360 with 1 Axes>"
      ]
     },
     "metadata": {
      "needs_background": "light"
     },
     "output_type": "display_data"
    }
   ],
   "source": [
    "x = df[(df['platform'] == 'X360') & (df['critic_score'] > 0)]\n",
    "display(x)\n",
    "print(x['sales'].corr(x['critic_score']))\n",
    "print(x['sales'].corr(x['user_score']))\n",
    "x.plot(x='critic_score',y='sales',kind='scatter',figsize=(15,5), alpha=0.5);\n",
    "plt.title('Зависимость продаж от отзывов критиков');\n",
    "plt.xlabel('Отзывы критиков');\n",
    "plt.ylabel('Продажи');\n",
    "x.plot(x='user_score',y='sales',kind='scatter',figsize=(15,5), alpha=0.5);\n",
    "plt.title('Зависимость продаж от отзывов покупателей');\n",
    "plt.xlabel('Отзывы покупателей');\n",
    "plt.ylabel('Продажи');"
   ]
  },
  {
   "cell_type": "markdown",
   "metadata": {},
   "source": [
    "Ситуация крайне похожа, только отзывы покупателей влияют чуть меньше."
   ]
  },
  {
   "cell_type": "code",
   "execution_count": 156,
   "metadata": {},
   "outputs": [
    {
     "data": {
      "text/html": [
       "<div>\n",
       "<style scoped>\n",
       "    .dataframe tbody tr th:only-of-type {\n",
       "        vertical-align: middle;\n",
       "    }\n",
       "\n",
       "    .dataframe tbody tr th {\n",
       "        vertical-align: top;\n",
       "    }\n",
       "\n",
       "    .dataframe thead th {\n",
       "        text-align: right;\n",
       "    }\n",
       "</style>\n",
       "<table border=\"1\" class=\"dataframe\">\n",
       "  <thead>\n",
       "    <tr style=\"text-align: right;\">\n",
       "      <th></th>\n",
       "      <th>name</th>\n",
       "      <th>platform</th>\n",
       "      <th>year_of_release</th>\n",
       "      <th>genre</th>\n",
       "      <th>na_sales</th>\n",
       "      <th>eu_sales</th>\n",
       "      <th>jp_sales</th>\n",
       "      <th>other_sales</th>\n",
       "      <th>critic_score</th>\n",
       "      <th>user_score</th>\n",
       "      <th>rating</th>\n",
       "      <th>sales</th>\n",
       "    </tr>\n",
       "  </thead>\n",
       "  <tbody>\n",
       "    <tr>\n",
       "      <th>16</th>\n",
       "      <td>Grand Theft Auto V</td>\n",
       "      <td>PS3</td>\n",
       "      <td>2013</td>\n",
       "      <td>Action</td>\n",
       "      <td>7.02</td>\n",
       "      <td>9.09</td>\n",
       "      <td>0.98</td>\n",
       "      <td>3.96</td>\n",
       "      <td>97.0</td>\n",
       "      <td>8.2</td>\n",
       "      <td>M</td>\n",
       "      <td>21.05</td>\n",
       "    </tr>\n",
       "    <tr>\n",
       "      <th>34</th>\n",
       "      <td>Call of Duty: Black Ops II</td>\n",
       "      <td>PS3</td>\n",
       "      <td>2012</td>\n",
       "      <td>Shooter</td>\n",
       "      <td>4.99</td>\n",
       "      <td>5.73</td>\n",
       "      <td>0.65</td>\n",
       "      <td>2.42</td>\n",
       "      <td>83.0</td>\n",
       "      <td>5.3</td>\n",
       "      <td>M</td>\n",
       "      <td>13.79</td>\n",
       "    </tr>\n",
       "    <tr>\n",
       "      <th>37</th>\n",
       "      <td>Call of Duty: Modern Warfare 3</td>\n",
       "      <td>PS3</td>\n",
       "      <td>2011</td>\n",
       "      <td>Shooter</td>\n",
       "      <td>5.54</td>\n",
       "      <td>5.73</td>\n",
       "      <td>0.49</td>\n",
       "      <td>1.57</td>\n",
       "      <td>88.0</td>\n",
       "      <td>3.2</td>\n",
       "      <td>M</td>\n",
       "      <td>13.33</td>\n",
       "    </tr>\n",
       "    <tr>\n",
       "      <th>41</th>\n",
       "      <td>Call of Duty: Black Ops</td>\n",
       "      <td>PS3</td>\n",
       "      <td>2010</td>\n",
       "      <td>Shooter</td>\n",
       "      <td>5.99</td>\n",
       "      <td>4.37</td>\n",
       "      <td>0.48</td>\n",
       "      <td>1.79</td>\n",
       "      <td>88.0</td>\n",
       "      <td>6.4</td>\n",
       "      <td>M</td>\n",
       "      <td>12.63</td>\n",
       "    </tr>\n",
       "    <tr>\n",
       "      <th>54</th>\n",
       "      <td>Gran Turismo 5</td>\n",
       "      <td>PS3</td>\n",
       "      <td>2010</td>\n",
       "      <td>Racing</td>\n",
       "      <td>2.96</td>\n",
       "      <td>4.82</td>\n",
       "      <td>0.81</td>\n",
       "      <td>2.11</td>\n",
       "      <td>84.0</td>\n",
       "      <td>7.5</td>\n",
       "      <td>E</td>\n",
       "      <td>10.70</td>\n",
       "    </tr>\n",
       "    <tr>\n",
       "      <th>...</th>\n",
       "      <td>...</td>\n",
       "      <td>...</td>\n",
       "      <td>...</td>\n",
       "      <td>...</td>\n",
       "      <td>...</td>\n",
       "      <td>...</td>\n",
       "      <td>...</td>\n",
       "      <td>...</td>\n",
       "      <td>...</td>\n",
       "      <td>...</td>\n",
       "      <td>...</td>\n",
       "      <td>...</td>\n",
       "    </tr>\n",
       "    <tr>\n",
       "      <th>15565</th>\n",
       "      <td>Tom Clancy's Splinter Cell Classic Trilogy HD</td>\n",
       "      <td>PS3</td>\n",
       "      <td>2011</td>\n",
       "      <td>Action</td>\n",
       "      <td>0.02</td>\n",
       "      <td>0.00</td>\n",
       "      <td>0.00</td>\n",
       "      <td>0.00</td>\n",
       "      <td>67.0</td>\n",
       "      <td>6.8</td>\n",
       "      <td>M</td>\n",
       "      <td>0.02</td>\n",
       "    </tr>\n",
       "    <tr>\n",
       "      <th>15647</th>\n",
       "      <td>Darksiders</td>\n",
       "      <td>PS3</td>\n",
       "      <td>2010</td>\n",
       "      <td>Action</td>\n",
       "      <td>0.01</td>\n",
       "      <td>0.00</td>\n",
       "      <td>0.00</td>\n",
       "      <td>0.00</td>\n",
       "      <td>82.0</td>\n",
       "      <td>7.9</td>\n",
       "      <td>M</td>\n",
       "      <td>0.01</td>\n",
       "    </tr>\n",
       "    <tr>\n",
       "      <th>15740</th>\n",
       "      <td>Invizimals: The Lost Kingdom</td>\n",
       "      <td>PS3</td>\n",
       "      <td>2013</td>\n",
       "      <td>Action</td>\n",
       "      <td>0.00</td>\n",
       "      <td>0.02</td>\n",
       "      <td>0.00</td>\n",
       "      <td>0.00</td>\n",
       "      <td>50.0</td>\n",
       "      <td>5.0</td>\n",
       "      <td>E10+</td>\n",
       "      <td>0.02</td>\n",
       "    </tr>\n",
       "    <tr>\n",
       "      <th>15878</th>\n",
       "      <td>Turbo: Super Stunt Squad</td>\n",
       "      <td>PS3</td>\n",
       "      <td>2013</td>\n",
       "      <td>Sports</td>\n",
       "      <td>0.00</td>\n",
       "      <td>0.01</td>\n",
       "      <td>0.00</td>\n",
       "      <td>0.00</td>\n",
       "      <td>38.0</td>\n",
       "      <td>NaN</td>\n",
       "      <td>E</td>\n",
       "      <td>0.01</td>\n",
       "    </tr>\n",
       "    <tr>\n",
       "      <th>16144</th>\n",
       "      <td>Don Bradman Cricket 14</td>\n",
       "      <td>PS3</td>\n",
       "      <td>2014</td>\n",
       "      <td>Sports</td>\n",
       "      <td>0.00</td>\n",
       "      <td>0.01</td>\n",
       "      <td>0.00</td>\n",
       "      <td>0.00</td>\n",
       "      <td>73.0</td>\n",
       "      <td>6.9</td>\n",
       "      <td>E</td>\n",
       "      <td>0.01</td>\n",
       "    </tr>\n",
       "  </tbody>\n",
       "</table>\n",
       "<p>819 rows × 12 columns</p>\n",
       "</div>"
      ],
      "text/plain": [
       "                                                name platform  \\\n",
       "16                                Grand Theft Auto V      PS3   \n",
       "34                        Call of Duty: Black Ops II      PS3   \n",
       "37                    Call of Duty: Modern Warfare 3      PS3   \n",
       "41                           Call of Duty: Black Ops      PS3   \n",
       "54                                    Gran Turismo 5      PS3   \n",
       "...                                              ...      ...   \n",
       "15565  Tom Clancy's Splinter Cell Classic Trilogy HD      PS3   \n",
       "15647                                     Darksiders      PS3   \n",
       "15740                   Invizimals: The Lost Kingdom      PS3   \n",
       "15878                       Turbo: Super Stunt Squad      PS3   \n",
       "16144                         Don Bradman Cricket 14      PS3   \n",
       "\n",
       "       year_of_release    genre  na_sales  eu_sales  jp_sales  other_sales  \\\n",
       "16                2013   Action      7.02      9.09      0.98         3.96   \n",
       "34                2012  Shooter      4.99      5.73      0.65         2.42   \n",
       "37                2011  Shooter      5.54      5.73      0.49         1.57   \n",
       "41                2010  Shooter      5.99      4.37      0.48         1.79   \n",
       "54                2010   Racing      2.96      4.82      0.81         2.11   \n",
       "...                ...      ...       ...       ...       ...          ...   \n",
       "15565             2011   Action      0.02      0.00      0.00         0.00   \n",
       "15647             2010   Action      0.01      0.00      0.00         0.00   \n",
       "15740             2013   Action      0.00      0.02      0.00         0.00   \n",
       "15878             2013   Sports      0.00      0.01      0.00         0.00   \n",
       "16144             2014   Sports      0.00      0.01      0.00         0.00   \n",
       "\n",
       "       critic_score  user_score rating  sales  \n",
       "16             97.0         8.2      M  21.05  \n",
       "34             83.0         5.3      M  13.79  \n",
       "37             88.0         3.2      M  13.33  \n",
       "41             88.0         6.4      M  12.63  \n",
       "54             84.0         7.5      E  10.70  \n",
       "...             ...         ...    ...    ...  \n",
       "15565          67.0         6.8      M   0.02  \n",
       "15647          82.0         7.9      M   0.01  \n",
       "15740          50.0         5.0   E10+   0.02  \n",
       "15878          38.0         NaN      E   0.01  \n",
       "16144          73.0         6.9      E   0.01  \n",
       "\n",
       "[819 rows x 12 columns]"
      ]
     },
     "metadata": {},
     "output_type": "display_data"
    },
    {
     "name": "stdout",
     "output_type": "stream",
     "text": [
      "0.43337268693947606\n",
      "0.1426647022635121\n"
     ]
    },
    {
     "data": {
      "image/png": "[encoded data removed]",
      "text/plain": [
       "<Figure size 1080x360 with 1 Axes>"
      ]
     },
     "metadata": {
      "needs_background": "light"
     },
     "output_type": "display_data"
    },
    {
     "data": {
      "image/png": "[encoded data removed]",
      "text/plain": [
       "<Figure size 1080x360 with 1 Axes>"
      ]
     },
     "metadata": {
      "needs_background": "light"
     },
     "output_type": "display_data"
    }
   ],
   "source": [
    "ps3 = df[(df['platform'] == 'PS3') & (df['critic_score'] > 0)]\n",
    "display(ps3)\n",
    "print(ps3['sales'].corr(ps3['critic_score']))\n",
    "print(ps3['sales'].corr(ps3['user_score']))\n",
    "ps3.plot(x ='critic_score',y='sales',kind='scatter',figsize=(15,5), alpha=0.5);\n",
    "plt.title('Зависимость продаж от отзывов критиков');\n",
    "plt.xlabel('Отзывы критиков');\n",
    "plt.ylabel('Продажи');\n",
    "ps3.plot(x ='user_score',y='sales',kind='scatter',figsize=(15,5), alpha=0.5);\n",
    "plt.title('Зависимость продаж от отзывов покупателей');\n",
    "plt.xlabel('Отзывы покупателей');\n",
    "plt.ylabel('Продажи');"
   ]
  },
  {
   "cell_type": "markdown",
   "metadata": {},
   "source": [
    "**Вывод**"
   ]
  },
  {
   "cell_type": "markdown",
   "metadata": {},
   "source": [
    "Для всех платформ наблюдается общая тенденция. Зависимость продаж от отзывов критиков прямая и средняя, то есть около 0,4. Зависимость продаж от отзывов покупателей прямая и слабая(около 0,1). То есть можно сказать, что пользователи для которых делаются игры, никак не влияют на их продажу."
   ]
  },
  {
   "cell_type": "markdown",
   "metadata": {},
   "source": [
    "**7.Посмотрим на общее распределение игр по жанрам. Что можно сказать о самых прибыльных жанрах? Выделяются ли жанры с высокими и низкими продажами?**"
   ]
  },
  {
   "cell_type": "markdown",
   "metadata": {},
   "source": [
    "Посмотрим на количество игр и количество продаж по каждому жанру"
   ]
  },
  {
   "cell_type": "code",
   "execution_count": 157,
   "metadata": {},
   "outputs": [
    {
     "name": "stdout",
     "output_type": "stream",
     "text": [
      "genre\n",
      "Action          3369\n",
      "Sports          2347\n",
      "Misc            1750\n",
      "Role-Playing    1498\n",
      "Shooter         1323\n",
      "Adventure       1303\n",
      "Racing          1249\n",
      "Platform         888\n",
      "Simulation       873\n",
      "Fighting         849\n",
      "Strategy         683\n",
      "Puzzle           580\n",
      "Name: name, dtype: int64\n",
      "genre\n",
      "Action          1744.17\n",
      "Sports          1331.26\n",
      "Shooter         1052.45\n",
      "Role-Playing     934.56\n",
      "Platform         827.77\n",
      "Misc             802.51\n",
      "Racing           728.67\n",
      "Fighting         447.53\n",
      "Simulation       389.97\n",
      "Puzzle           242.57\n",
      "Adventure        237.59\n",
      "Strategy         174.23\n",
      "Name: sales, dtype: float64\n"
     ]
    }
   ],
   "source": [
    "genres_count = df.groupby('genre')['name'].count().sort_values(ascending=False)\n",
    "genres_sales = df.groupby('genre')['sales'].sum().sort_values(ascending=False)\n",
    "print(genres_count)\n",
    "print(genres_sales)"
   ]
  },
  {
   "cell_type": "code",
   "execution_count": 158,
   "metadata": {},
   "outputs": [
    {
     "data": {
      "image/png": "[encoded data removed]",
      "text/plain": [
       "<Figure size 1080x360 with 1 Axes>"
      ]
     },
     "metadata": {
      "needs_background": "light"
     },
     "output_type": "display_data"
    }
   ],
   "source": [
    "ax = plt.gca();\n",
    "genres_count.plot(kind='bar', figsize=(15,5), ec='black', ax=ax, width=0.2, position=1);\n",
    "genres_sales.plot(kind='bar', figsize=(15,5), ec='black', ax=ax, width=0.2, color='#97F0AA', position=0);\n",
    "ax.legend(['Количество игр', 'Сумма продаж']);\n",
    "ax.set_title('Количество игр и продаж по каждому жанру');\n",
    "ax.set_xlabel('Жанр');"
   ]
  },
  {
   "cell_type": "markdown",
   "metadata": {},
   "source": [
    "Преобладают жанры action, sports и shooter. Это достаточно логично, ведь на разработку игр в таких жанрах индустрия тратит сотни миллионов долларов, а их прохождение может занимать больше 50 часов. Меньше всего игр и продаж в жанрах puzzle, adventure и strategy."
   ]
  },
  {
   "cell_type": "markdown",
   "metadata": {},
   "source": [
    "Рассмотрим средние и медианные продажи с распределнием по жанрам."
   ]
  },
  {
   "cell_type": "code",
   "execution_count": 159,
   "metadata": {},
   "outputs": [
    {
     "data": {
      "image/png": "[encoded data removed]",
      "text/plain": [
       "<Figure size 1080x360 with 1 Axes>"
      ]
     },
     "metadata": {
      "needs_background": "light"
     },
     "output_type": "display_data"
    }
   ],
   "source": [
    "median_sales_by_genre = df.groupby('genre')['sales'].median()\n",
    "mean_sales_by_genre = df.groupby('genre')['sales'].mean()\n",
    "ax = plt.gca();\n",
    "median_sales_by_genre.plot(kind='bar', figsize=(15,5), ec='black', ax=ax, width=0.2, position=1);\n",
    "mean_sales_by_genre.plot(kind='bar', figsize=(15,5), ec='black', ax=ax, width=0.2, color='#97F0AA', position=0);\n",
    "ax.legend(['Медианные продажи', 'Средние продажи']);\n",
    "ax.set_title('Распределение медианных и средних продаж по жанрам');\n",
    "ax.set_xlabel('Жанр');"
   ]
  },
  {
   "cell_type": "markdown",
   "metadata": {},
   "source": [
    "Как мы знаем, средняя в отличие от медианы сильно зависит от выбросов, в нашем случае, выброс - это игра с большой суммой продаж во всех регионах. Как можно увидеть на графике, платформеры сильно обгоняют остальные жанры по средним и медианным продажам. Самый известный платформер - это Super Mario. Я думаю в нег играли большинство людей, кроме современного поколения. Также большие средние продажи имеет жанр shooter. В этом жанре выходило очень много игр бестселлеров, например, Call of Duty или Battlefield."
   ]
  },
  {
   "cell_type": "markdown",
   "metadata": {},
   "source": [
    "# Составление портрета пользователя каждого региона"
   ]
  },
  {
   "cell_type": "markdown",
   "metadata": {},
   "source": [
    "**Все следующие пункты будут сделаны для пользователя каждого региона (NA, EU, JP)**"
   ]
  },
  {
   "cell_type": "markdown",
   "metadata": {},
   "source": [
    "**1. Самые популярные платформы (топ-5). Опишем различия в долях продаж.**"
   ]
  },
  {
   "cell_type": "markdown",
   "metadata": {},
   "source": [
    "Напишем функцию для составления графиков"
   ]
  },
  {
   "cell_type": "code",
   "execution_count": 160,
   "metadata": {},
   "outputs": [],
   "source": [
    "def top_in_regions(groupby, region_sales, ax):\n",
    "    pivot = df.query('year_of_release >= 2012 & year_of_release <= 2016', engine='python').groupby(groupby).agg({region_sales: 'sum'}).sort_values(by=region_sales, ascending=False)[:5]\n",
    "    plot = pivot.plot(kind='bar', ec='black', ax=axes[ax])"
   ]
  },
  {
   "cell_type": "code",
   "execution_count": 161,
   "metadata": {},
   "outputs": [
    {
     "data": {
      "image/png": "[encoded data removed]",
      "text/plain": [
       "<Figure size 1800x432 with 3 Axes>"
      ]
     },
     "metadata": {
      "needs_background": "light"
     },
     "output_type": "display_data"
    }
   ],
   "source": [
    "fig, axes = plt.subplots(1, 3, figsize=(25,6))\n",
    "\n",
    "top_in_regions('platform', 'na_sales', 0)\n",
    "top_in_regions('platform', 'eu_sales', 1)\n",
    "top_in_regions('platform', 'jp_sales', 2)"
   ]
  },
  {
   "cell_type": "markdown",
   "metadata": {},
   "source": [
    "Как можно увидеть, лидерами в Америке является Wii, затем идет почти на равне Xbox360, и потом DS. В Европе также ценят Wii. Там лидерами являются Wii, DS и PS3. В Японии же ситуация немного отличается, для них Xbox360 совсем уходит из топа. Лидерами являются DS, Wii и PS2."
   ]
  },
  {
   "cell_type": "markdown",
   "metadata": {},
   "source": [
    "**2. Самые популярные жанры (топ-5). Поясним разницу.**"
   ]
  },
  {
   "cell_type": "code",
   "execution_count": 162,
   "metadata": {},
   "outputs": [
    {
     "data": {
      "image/png": "[encoded data removed]",
      "text/plain": [
       "<Figure size 1800x432 with 3 Axes>"
      ]
     },
     "metadata": {
      "needs_background": "light"
     },
     "output_type": "display_data"
    }
   ],
   "source": [
    "fig, axes = plt.subplots(1, 3, figsize=(25,6))\n",
    "\n",
    "top_in_regions('genre', 'na_sales', 0)\n",
    "top_in_regions('genre', 'eu_sales', 1)\n",
    "top_in_regions('genre', 'jp_sales', 2)"
   ]
  },
  {
   "cell_type": "markdown",
   "metadata": {},
   "source": [
    "В Америке и Европе играют в экшен, спортивные игры, шутеры и разное, то два данных региона похожи во вкусах на жанры игр. А вот в Японии с большим отрывом любят жанр ролевых игр, и только потом экшен и разное."
   ]
  },
  {
   "cell_type": "markdown",
   "metadata": {},
   "source": [
    "**3. Влияет ли рейтинг ESRB на продажи в отдельном регионе?**"
   ]
  },
  {
   "cell_type": "code",
   "execution_count": 163,
   "metadata": {},
   "outputs": [
    {
     "data": {
      "image/png": "[encoded data removed]",
      "text/plain": [
       "<Figure size 1800x432 with 3 Axes>"
      ]
     },
     "metadata": {
      "needs_background": "light"
     },
     "output_type": "display_data"
    }
   ],
   "source": [
    "fig, axes = plt.subplots(1, 3, figsize=(25,6))\n",
    "\n",
    "top_in_regions('rating', 'na_sales', 0)\n",
    "top_in_regions('rating', 'eu_sales', 1)\n",
    "top_in_regions('rating', 'jp_sales', 2)"
   ]
  },
  {
   "cell_type": "markdown",
   "metadata": {},
   "source": [
    "Для начала расшифруем, что означают эти буквы:\n",
    "- E - игры для всех возрастов\n",
    "- Т - старше 13 лет\n",
    "- М - старше 17 лет\n",
    "- Е10+ - старше 10 лет\n",
    "- К-А - расшифровывается как для детей и взрослых. Можно считать, что от 6 лет и старше.\n",
    "\n",
    "Во всех регионах преобладают игры \"для всех\", \"старше 13 лет\" и \"старше 17 лет\". "
   ]
  },
  {
   "cell_type": "markdown",
   "metadata": {},
   "source": [
    "# Проверка гипотез"
   ]
  },
  {
   "cell_type": "markdown",
   "metadata": {},
   "source": [
    "**1. Средние пользовательские рейтинги платформ Xbox One и PC одинаковые**"
   ]
  },
  {
   "cell_type": "markdown",
   "metadata": {},
   "source": [
    "Гипотеза H0: Средние пользовательские рейтинги платформ Xbox One и PC одинаковые\n",
    "\n",
    "Гипотеза H1: Средние пользовательские рейтинги платформ Xbox One и PC не одинаковы"
   ]
  },
  {
   "cell_type": "markdown",
   "metadata": {},
   "source": [
    "Критическое значение возьмем равным 0.05"
   ]
  },
  {
   "cell_type": "code",
   "execution_count": 164,
   "metadata": {},
   "outputs": [
    {
     "name": "stdout",
     "output_type": "stream",
     "text": [
      "p-значение: 0.5489537965134912\n",
      "Не получилось отвергнуть нулевую гипотезу\n"
     ]
    }
   ],
   "source": [
    "xbox_ratings = df[(df['platform'] == 'XOne') & (df['user_score'] > 0) & (df['year_of_release'] >= 2012) & (df['year_of_release'] <= 2016)]['user_score']\n",
    "pc_ratings = df[(df['platform'] == 'PC') & (df['user_score'] > 0) & (df['year_of_release'] >= 2012) & (df['year_of_release'] <= 2016)]['user_score']\n",
    "alpha = 0.05\n",
    "\n",
    "results = st.ttest_ind(xbox_ratings, pc_ratings, equal_var = False)\n",
    "\n",
    "print('p-значение:', results.pvalue)\n",
    "\n",
    "if (results.pvalue < alpha):\n",
    "    print(\"Отвергаем нулевую гипотезу\")\n",
    "else:\n",
    "    print(\"Не получилось отвергнуть нулевую гипотезу\")"
   ]
  },
  {
   "cell_type": "markdown",
   "metadata": {},
   "source": [
    "P-value больше 0.05, значит, нулевая гипотеза принимается, то есть средние пользовательские рейтинги платформ Xbox One и PС одинаковые."
   ]
  },
  {
   "cell_type": "markdown",
   "metadata": {},
   "source": [
    "Посчитаем эти средние пользовательские рейтинги"
   ]
  },
  {
   "cell_type": "code",
   "execution_count": 165,
   "metadata": {},
   "outputs": [
    {
     "name": "stdout",
     "output_type": "stream",
     "text": [
      "6.52142857142857\n",
      "6.428640776699027\n"
     ]
    }
   ],
   "source": [
    "print(xbox_ratings.mean())\n",
    "print(pc_ratings.mean())"
   ]
  },
  {
   "cell_type": "markdown",
   "metadata": {},
   "source": [
    "Как мы видим пользовательские рейтинги действительно одинаковые\n"
   ]
  },
  {
   "cell_type": "markdown",
   "metadata": {},
   "source": [
    "**2. Средние пользовательские рейтинги жанров Action (англ. «действие», экшен-игры) и Sports (англ. «спортивные соревнования») разные.**"
   ]
  },
  {
   "cell_type": "markdown",
   "metadata": {},
   "source": [
    "Гипотеза H0: Средние пользовательские рейтинги жанров Action и Sports одинаковые\n",
    "\n",
    "Гипотеза H1: Средние пользовательские рейтинги жанров Action и Sports разные"
   ]
  },
  {
   "cell_type": "markdown",
   "metadata": {},
   "source": [
    "Критическое значение возьмем равным 0.05"
   ]
  },
  {
   "cell_type": "code",
   "execution_count": 166,
   "metadata": {},
   "outputs": [
    {
     "name": "stdout",
     "output_type": "stream",
     "text": [
      "p-значение: 4.804523380462917e-26\n",
      "Отвергаем нулевую гипотезу\n"
     ]
    }
   ],
   "source": [
    "action_ratings = df[(df['genre'] == 'Action') & (df['user_score'] > 0) & (df['year_of_release'] >= 2012) & (df['year_of_release'] <= 2016)]['user_score']\n",
    "pc_ratings = df[(df['genre'] == 'Sports') & (df['user_score'] > 0) & (df['year_of_release'] >= 2012) & (df['year_of_release'] <= 2016)]['user_score']\n",
    "alpha = 0.05\n",
    "\n",
    "results = st.ttest_ind(action_ratings, pc_ratings, equal_var = True)\n",
    "\n",
    "print('p-значение:', results.pvalue)\n",
    "\n",
    "if (results.pvalue < alpha):\n",
    "    print(\"Отвергаем нулевую гипотезу\")\n",
    "else:\n",
    "    print(\"Не получилось отвергнуть нулевую гипотезу\")"
   ]
  },
  {
   "cell_type": "markdown",
   "metadata": {},
   "source": [
    "P-value больше 0.05, значит, нулевая гипотеза принимается и средние пользовательские рейтинги жанров Action и Sports одинаковые"
   ]
  },
  {
   "cell_type": "markdown",
   "metadata": {},
   "source": [
    "# Вывод"
   ]
  },
  {
   "cell_type": "markdown",
   "metadata": {},
   "source": [
    "В ходе исследования были проведены:\n",
    "1) Предобработка данных\n",
    "\n",
    "2) Исследовательский анализ данных\n",
    "\n",
    "3) Составление портрета пользователя каждого региона\n",
    "\n",
    "4) Проверка гипотез\n",
    "\n",
    "**Предобработке данных:** привели названия столбцов к нижнему регистру, замены типы данных в столбцах и поработали с пропусками. Такжедобавили новый столбец с суммарными продажами со всех регионов.\n",
    "\n",
    "**В исследовательском анализе данных выяснили:**\n",
    "- Период компьютерных игр начался с 2000 года. Крупный рост и популярность игровых платформ пошли с 2005 года. \n",
    "- Средний срок существования платформы около 11 лет. \n",
    "- На момент 2017 года развивающиеся платформы - это PS4 и XboxOne. Эра прошлого поколения приставок к 2017 году уже подошла к концу. Платформа ПК будет актуальна всегда, поэтому игры на нее не перестают выпускать. \n",
    "- Также мы выяснили, что продажи прямопропорционально зависят от отзывов критиков, втоже же время присутствует слабая прямая зависимость между продажами и отзывами пользователей.\n",
    "- В тройку лидеров по количеству игр по жанрам входят Action(20,2%), Sports(14%) и Sports(10,5%). В тройку лидеров по продажам игр по жанрам входят Action(19,6%), Sports(14,9%)и Shooter(11,8)\n",
    "\n",
    "**Портрет пользователя каждого региона:**\n",
    "- Лидерами в Америке является Xbox360, затем идет почти на равне PS2, и потом Wii. В Европе больше ценят Playstation. Там лидерами являются PS2, PS3 и Xbox360. В Японии же ситуация немного отличается, для них Xbox360 совсем уходит из топа. Лидерами являются DS, PS и PS2.\n",
    "- В Америке и Европе играют в экшен, спортивные игры и шутеры, то два данных региона похожи во вкусах на жанры игр. А вот в Японии с большим отрывом любят жанр ролевых игр, и только потом экшен и спортивные игры.\n",
    "- Во всех регионах преобладают игры \"для всех\", \"старше 13 лет\" и \"старше 17 лет\".\n",
    "\n",
    "**Также была проведена проверка гипотез из которой мы выяснили, что:**\n",
    "- средние пользовательские рейтинги платформ Xbox One и PС одинаковые\n",
    "- Средние пользовательские рейтинги жанров Action и Sports одинаковые"
   ]
  }
 ],
 "metadata": {
  "ExecuteTimeLog": [
   {
    "duration": 794,
    "start_time": "2023-05-07T09:18:19.037Z"
   },
   {
    "duration": 117,
    "start_time": "2023-05-07T09:18:57.368Z"
   },
   {
    "duration": 82,
    "start_time": "2023-05-07T09:21:09.562Z"
   },
   {
    "duration": 3,
    "start_time": "2023-05-07T09:29:17.273Z"
   },
   {
    "duration": 85,
    "start_time": "2023-05-07T09:29:32.528Z"
   },
   {
    "duration": 4,
    "start_time": "2023-05-07T09:29:39.609Z"
   },
   {
    "duration": 4,
    "start_time": "2023-05-07T09:31:46.484Z"
   },
   {
    "duration": 79,
    "start_time": "2023-05-07T09:38:23.828Z"
   },
   {
    "duration": 761,
    "start_time": "2023-05-07T09:45:10.173Z"
   },
   {
    "duration": 10,
    "start_time": "2023-05-07T10:30:38.107Z"
   },
   {
    "duration": 4,
    "start_time": "2023-05-07T10:30:48.773Z"
   },
   {
    "duration": 20,
    "start_time": "2023-05-07T10:30:51.603Z"
   },
   {
    "duration": 4,
    "start_time": "2023-05-07T10:31:09.279Z"
   },
   {
    "duration": 3,
    "start_time": "2023-05-07T10:31:15.166Z"
   },
   {
    "duration": 76,
    "start_time": "2023-05-07T10:31:15.172Z"
   },
   {
    "duration": 4,
    "start_time": "2023-05-07T10:31:15.250Z"
   },
   {
    "duration": 9,
    "start_time": "2023-05-07T10:31:15.256Z"
   },
   {
    "duration": 17,
    "start_time": "2023-05-07T10:31:43.040Z"
   },
   {
    "duration": 14,
    "start_time": "2023-05-07T10:31:45.901Z"
   },
   {
    "duration": 15,
    "start_time": "2023-05-07T12:28:23.336Z"
   },
   {
    "duration": 12,
    "start_time": "2023-05-07T12:31:07.775Z"
   },
   {
    "duration": 12,
    "start_time": "2023-05-07T12:32:17.910Z"
   },
   {
    "duration": 6,
    "start_time": "2023-05-07T14:20:10.668Z"
   },
   {
    "duration": 17,
    "start_time": "2023-05-07T14:35:16.093Z"
   },
   {
    "duration": 10,
    "start_time": "2023-05-07T14:50:43.718Z"
   },
   {
    "duration": 8,
    "start_time": "2023-05-07T15:23:47.737Z"
   },
   {
    "duration": 7,
    "start_time": "2023-05-07T15:24:02.656Z"
   },
   {
    "duration": 26,
    "start_time": "2023-05-07T15:25:19.712Z"
   },
   {
    "duration": 52,
    "start_time": "2023-05-07T15:25:48.644Z"
   },
   {
    "duration": 8,
    "start_time": "2023-05-07T15:26:38.640Z"
   },
   {
    "duration": 9,
    "start_time": "2023-05-07T15:26:47.317Z"
   },
   {
    "duration": 3,
    "start_time": "2023-05-07T15:26:54.382Z"
   },
   {
    "duration": 98,
    "start_time": "2023-05-07T15:26:54.387Z"
   },
   {
    "duration": 4,
    "start_time": "2023-05-07T15:26:54.486Z"
   },
   {
    "duration": 14,
    "start_time": "2023-05-07T15:26:54.492Z"
   },
   {
    "duration": 8,
    "start_time": "2023-05-07T15:26:54.507Z"
   },
   {
    "duration": 16,
    "start_time": "2023-05-07T15:26:54.517Z"
   },
   {
    "duration": 16,
    "start_time": "2023-05-07T15:26:54.534Z"
   },
   {
    "duration": 50,
    "start_time": "2023-05-07T15:31:49.106Z"
   },
   {
    "duration": 6,
    "start_time": "2023-05-07T15:37:38.389Z"
   },
   {
    "duration": 9,
    "start_time": "2023-05-07T15:38:16.889Z"
   },
   {
    "duration": 3,
    "start_time": "2023-05-07T15:38:22.788Z"
   },
   {
    "duration": 82,
    "start_time": "2023-05-07T15:38:22.793Z"
   },
   {
    "duration": 3,
    "start_time": "2023-05-07T15:38:22.877Z"
   },
   {
    "duration": 25,
    "start_time": "2023-05-07T15:38:22.881Z"
   },
   {
    "duration": 8,
    "start_time": "2023-05-07T15:38:22.908Z"
   },
   {
    "duration": 17,
    "start_time": "2023-05-07T15:38:22.917Z"
   },
   {
    "duration": 15,
    "start_time": "2023-05-07T15:38:22.935Z"
   },
   {
    "duration": 5,
    "start_time": "2023-05-07T15:38:22.951Z"
   },
   {
    "duration": 52,
    "start_time": "2023-05-07T16:49:23.816Z"
   },
   {
    "duration": 7,
    "start_time": "2023-05-07T16:49:40.942Z"
   },
   {
    "duration": 5,
    "start_time": "2023-05-07T16:49:49.834Z"
   },
   {
    "duration": 6,
    "start_time": "2023-05-07T16:52:53.494Z"
   },
   {
    "duration": 4,
    "start_time": "2023-05-07T16:54:22.059Z"
   },
   {
    "duration": 7,
    "start_time": "2023-05-07T16:56:39.117Z"
   },
   {
    "duration": 16,
    "start_time": "2023-05-07T17:14:10.799Z"
   },
   {
    "duration": 44,
    "start_time": "2023-05-08T10:17:33.420Z"
   },
   {
    "duration": 7,
    "start_time": "2023-05-08T10:17:42.564Z"
   },
   {
    "duration": 1256,
    "start_time": "2023-05-08T10:18:24.701Z"
   },
   {
    "duration": 220,
    "start_time": "2023-05-08T10:18:25.959Z"
   },
   {
    "duration": 4,
    "start_time": "2023-05-08T10:18:26.181Z"
   },
   {
    "duration": 17,
    "start_time": "2023-05-08T10:18:26.187Z"
   },
   {
    "duration": 12,
    "start_time": "2023-05-08T10:18:26.206Z"
   },
   {
    "duration": 25,
    "start_time": "2023-05-08T10:18:26.219Z"
   },
   {
    "duration": 22,
    "start_time": "2023-05-08T10:18:26.245Z"
   },
   {
    "duration": 6,
    "start_time": "2023-05-08T10:18:26.268Z"
   },
   {
    "duration": 9,
    "start_time": "2023-05-08T10:18:26.275Z"
   },
   {
    "duration": 6,
    "start_time": "2023-05-08T10:18:26.286Z"
   },
   {
    "duration": 49,
    "start_time": "2023-05-08T10:18:26.293Z"
   },
   {
    "duration": 71,
    "start_time": "2023-05-08T10:18:26.344Z"
   },
   {
    "duration": 243,
    "start_time": "2023-05-08T10:18:42.664Z"
   },
   {
    "duration": 248,
    "start_time": "2023-05-08T10:22:19.972Z"
   },
   {
    "duration": 251,
    "start_time": "2023-05-08T12:14:16.821Z"
   },
   {
    "duration": 190,
    "start_time": "2023-05-08T12:23:37.437Z"
   },
   {
    "duration": 291,
    "start_time": "2023-05-08T12:26:30.665Z"
   },
   {
    "duration": 228,
    "start_time": "2023-05-08T12:28:46.531Z"
   },
   {
    "duration": 8,
    "start_time": "2023-05-08T13:05:38.104Z"
   },
   {
    "duration": 12,
    "start_time": "2023-05-08T13:05:52.230Z"
   },
   {
    "duration": 11,
    "start_time": "2023-05-08T13:06:18.845Z"
   },
   {
    "duration": 16,
    "start_time": "2023-05-08T13:06:36.342Z"
   },
   {
    "duration": 220,
    "start_time": "2023-05-08T13:12:31.677Z"
   },
   {
    "duration": 142,
    "start_time": "2023-05-08T13:35:18.301Z"
   },
   {
    "duration": 158,
    "start_time": "2023-05-08T13:35:29.716Z"
   },
   {
    "duration": 163,
    "start_time": "2023-05-08T13:35:40.856Z"
   },
   {
    "duration": 136,
    "start_time": "2023-05-08T13:42:30.493Z"
   },
   {
    "duration": 179,
    "start_time": "2023-05-08T13:42:41.298Z"
   },
   {
    "duration": 170,
    "start_time": "2023-05-08T13:43:17.566Z"
   },
   {
    "duration": 154,
    "start_time": "2023-05-08T13:44:10.450Z"
   },
   {
    "duration": 198,
    "start_time": "2023-05-08T13:45:08.424Z"
   },
   {
    "duration": 669,
    "start_time": "2023-05-08T13:45:30.982Z"
   },
   {
    "duration": 639,
    "start_time": "2023-05-08T13:45:43.979Z"
   },
   {
    "duration": 422,
    "start_time": "2023-05-08T13:45:57.668Z"
   },
   {
    "duration": 4,
    "start_time": "2023-05-08T13:48:53.456Z"
   },
   {
    "duration": 135,
    "start_time": "2023-05-08T14:06:13.044Z"
   },
   {
    "duration": 57,
    "start_time": "2023-05-08T14:07:27.260Z"
   },
   {
    "duration": 56,
    "start_time": "2023-05-08T14:08:16.715Z"
   },
   {
    "duration": 43,
    "start_time": "2023-05-08T14:08:21.485Z"
   },
   {
    "duration": 182,
    "start_time": "2023-05-08T14:23:47.740Z"
   },
   {
    "duration": 324,
    "start_time": "2023-05-08T14:24:10.828Z"
   },
   {
    "duration": 184,
    "start_time": "2023-05-08T14:24:16.716Z"
   },
   {
    "duration": 168,
    "start_time": "2023-05-08T14:24:53.952Z"
   },
   {
    "duration": 41,
    "start_time": "2023-05-08T14:25:48.393Z"
   },
   {
    "duration": 39,
    "start_time": "2023-05-08T14:25:53.481Z"
   },
   {
    "duration": 190,
    "start_time": "2023-05-08T14:25:54.083Z"
   },
   {
    "duration": 47,
    "start_time": "2023-05-08T14:27:55.431Z"
   },
   {
    "duration": 189,
    "start_time": "2023-05-08T14:27:56.836Z"
   },
   {
    "duration": 45,
    "start_time": "2023-05-08T14:28:13.182Z"
   },
   {
    "duration": 310,
    "start_time": "2023-05-08T14:28:17.713Z"
   },
   {
    "duration": 287,
    "start_time": "2023-05-08T14:29:11.269Z"
   },
   {
    "duration": 290,
    "start_time": "2023-05-08T14:29:23.877Z"
   },
   {
    "duration": 381,
    "start_time": "2023-05-08T14:29:43.347Z"
   },
   {
    "duration": 16,
    "start_time": "2023-05-08T14:39:55.506Z"
   },
   {
    "duration": 817,
    "start_time": "2023-05-08T14:54:45.433Z"
   },
   {
    "duration": 16,
    "start_time": "2023-05-08T15:38:08.263Z"
   },
   {
    "duration": 66,
    "start_time": "2023-05-08T15:39:28.969Z"
   },
   {
    "duration": 5,
    "start_time": "2023-05-08T15:40:05.362Z"
   },
   {
    "duration": 7,
    "start_time": "2023-05-08T15:41:24.771Z"
   },
   {
    "duration": 98,
    "start_time": "2023-05-08T15:42:02.929Z"
   },
   {
    "duration": 267,
    "start_time": "2023-05-08T15:43:16.160Z"
   },
   {
    "duration": 333,
    "start_time": "2023-05-08T15:57:59.038Z"
   },
   {
    "duration": 23,
    "start_time": "2023-05-08T16:04:02.853Z"
   },
   {
    "duration": 6,
    "start_time": "2023-05-08T16:04:10.625Z"
   },
   {
    "duration": 3,
    "start_time": "2023-05-08T16:04:48.944Z"
   },
   {
    "duration": 90,
    "start_time": "2023-05-08T16:04:48.949Z"
   },
   {
    "duration": 5,
    "start_time": "2023-05-08T16:04:49.040Z"
   },
   {
    "duration": 20,
    "start_time": "2023-05-08T16:04:49.046Z"
   },
   {
    "duration": 11,
    "start_time": "2023-05-08T16:04:49.069Z"
   },
   {
    "duration": 24,
    "start_time": "2023-05-08T16:04:49.082Z"
   },
   {
    "duration": 28,
    "start_time": "2023-05-08T16:04:49.107Z"
   },
   {
    "duration": 4,
    "start_time": "2023-05-08T16:04:49.137Z"
   },
   {
    "duration": 9,
    "start_time": "2023-05-08T16:04:49.143Z"
   },
   {
    "duration": 7,
    "start_time": "2023-05-08T16:04:49.153Z"
   },
   {
    "duration": 17,
    "start_time": "2023-05-08T16:04:49.162Z"
   },
   {
    "duration": 233,
    "start_time": "2023-05-08T16:04:49.181Z"
   },
   {
    "duration": 20,
    "start_time": "2023-05-08T16:04:49.415Z"
   },
   {
    "duration": 331,
    "start_time": "2023-05-08T16:04:49.438Z"
   },
   {
    "duration": 4,
    "start_time": "2023-05-08T16:04:49.770Z"
   },
   {
    "duration": 64,
    "start_time": "2023-05-08T16:04:49.776Z"
   },
   {
    "duration": 323,
    "start_time": "2023-05-08T16:04:49.842Z"
   },
   {
    "duration": 13,
    "start_time": "2023-05-08T16:04:50.167Z"
   },
   {
    "duration": 914,
    "start_time": "2023-05-08T16:04:50.181Z"
   },
   {
    "duration": 21,
    "start_time": "2023-05-08T16:04:51.096Z"
   },
   {
    "duration": 18,
    "start_time": "2023-05-08T16:04:51.119Z"
   },
   {
    "duration": 283,
    "start_time": "2023-05-08T16:04:51.138Z"
   },
   {
    "duration": 299,
    "start_time": "2023-05-08T16:04:51.423Z"
   },
   {
    "duration": 5,
    "start_time": "2023-05-08T16:05:33.402Z"
   },
   {
    "duration": 68,
    "start_time": "2023-05-08T16:05:56.265Z"
   },
   {
    "duration": 6,
    "start_time": "2023-05-08T16:05:59.293Z"
   },
   {
    "duration": 14,
    "start_time": "2023-05-08T16:06:02.299Z"
   },
   {
    "duration": 12,
    "start_time": "2023-05-08T16:06:07.270Z"
   },
   {
    "duration": 15,
    "start_time": "2023-05-08T16:06:11.042Z"
   },
   {
    "duration": 21,
    "start_time": "2023-05-08T16:06:12.799Z"
   },
   {
    "duration": 4,
    "start_time": "2023-05-08T16:06:17.225Z"
   },
   {
    "duration": 4,
    "start_time": "2023-05-08T16:06:20.723Z"
   },
   {
    "duration": 6,
    "start_time": "2023-05-08T16:06:26.258Z"
   },
   {
    "duration": 9,
    "start_time": "2023-05-08T16:06:33.812Z"
   },
   {
    "duration": 19,
    "start_time": "2023-05-08T16:06:42.312Z"
   },
   {
    "duration": 24,
    "start_time": "2023-05-08T16:06:53.435Z"
   },
   {
    "duration": 19,
    "start_time": "2023-05-08T16:07:02.604Z"
   },
   {
    "duration": 5,
    "start_time": "2023-05-08T16:07:06.979Z"
   },
   {
    "duration": 17,
    "start_time": "2023-05-08T16:07:13.581Z"
   },
   {
    "duration": 4,
    "start_time": "2023-05-08T16:07:32.737Z"
   },
   {
    "duration": 16,
    "start_time": "2023-05-08T16:07:34.718Z"
   },
   {
    "duration": 17,
    "start_time": "2023-05-08T16:07:44.155Z"
   },
   {
    "duration": 4,
    "start_time": "2023-05-08T16:07:50.436Z"
   },
   {
    "duration": 19,
    "start_time": "2023-05-08T16:07:55.899Z"
   },
   {
    "duration": 5,
    "start_time": "2023-05-08T16:08:03.604Z"
   },
   {
    "duration": 3,
    "start_time": "2023-05-08T16:08:06.237Z"
   },
   {
    "duration": 78,
    "start_time": "2023-05-08T16:08:06.242Z"
   },
   {
    "duration": 4,
    "start_time": "2023-05-08T16:08:06.321Z"
   },
   {
    "duration": 43,
    "start_time": "2023-05-08T16:08:06.326Z"
   },
   {
    "duration": 9,
    "start_time": "2023-05-08T16:08:06.372Z"
   },
   {
    "duration": 35,
    "start_time": "2023-05-08T16:08:06.383Z"
   },
   {
    "duration": 18,
    "start_time": "2023-05-08T16:08:06.420Z"
   },
   {
    "duration": 4,
    "start_time": "2023-05-08T16:08:06.440Z"
   },
   {
    "duration": 55,
    "start_time": "2023-05-08T16:08:06.446Z"
   },
   {
    "duration": 31,
    "start_time": "2023-05-08T16:08:06.503Z"
   },
   {
    "duration": 36,
    "start_time": "2023-05-08T16:08:06.535Z"
   },
   {
    "duration": 211,
    "start_time": "2023-05-08T16:08:06.572Z"
   },
   {
    "duration": 11,
    "start_time": "2023-05-08T16:08:06.784Z"
   },
   {
    "duration": 298,
    "start_time": "2023-05-08T16:08:06.797Z"
   },
   {
    "duration": 3,
    "start_time": "2023-05-08T16:08:07.097Z"
   },
   {
    "duration": 63,
    "start_time": "2023-05-08T16:08:07.101Z"
   },
   {
    "duration": 308,
    "start_time": "2023-05-08T16:08:07.165Z"
   },
   {
    "duration": 12,
    "start_time": "2023-05-08T16:08:07.475Z"
   },
   {
    "duration": 883,
    "start_time": "2023-05-08T16:08:07.489Z"
   },
   {
    "duration": 22,
    "start_time": "2023-05-08T16:08:08.374Z"
   },
   {
    "duration": 11,
    "start_time": "2023-05-08T16:08:08.397Z"
   },
   {
    "duration": 282,
    "start_time": "2023-05-08T16:08:08.410Z"
   },
   {
    "duration": 304,
    "start_time": "2023-05-08T16:08:08.694Z"
   },
   {
    "duration": 22,
    "start_time": "2023-05-08T16:09:15.031Z"
   },
   {
    "duration": 2,
    "start_time": "2023-05-08T16:09:23.226Z"
   },
   {
    "duration": 75,
    "start_time": "2023-05-08T16:09:23.230Z"
   },
   {
    "duration": 3,
    "start_time": "2023-05-08T16:09:23.307Z"
   },
   {
    "duration": 16,
    "start_time": "2023-05-08T16:09:23.312Z"
   },
   {
    "duration": 10,
    "start_time": "2023-05-08T16:09:23.329Z"
   },
   {
    "duration": 14,
    "start_time": "2023-05-08T16:09:23.340Z"
   },
   {
    "duration": 17,
    "start_time": "2023-05-08T16:09:23.356Z"
   },
   {
    "duration": 5,
    "start_time": "2023-05-08T16:09:23.375Z"
   },
   {
    "duration": 28,
    "start_time": "2023-05-08T16:09:23.381Z"
   },
   {
    "duration": 18,
    "start_time": "2023-05-08T16:09:23.434Z"
   },
   {
    "duration": 25,
    "start_time": "2023-05-08T16:09:23.454Z"
   },
   {
    "duration": 227,
    "start_time": "2023-05-08T16:09:23.481Z"
   },
   {
    "duration": 25,
    "start_time": "2023-05-08T16:09:23.710Z"
   },
   {
    "duration": 331,
    "start_time": "2023-05-08T16:09:23.737Z"
   },
   {
    "duration": 3,
    "start_time": "2023-05-08T16:09:24.070Z"
   },
   {
    "duration": 63,
    "start_time": "2023-05-08T16:09:24.074Z"
   },
   {
    "duration": 323,
    "start_time": "2023-05-08T16:09:24.139Z"
   },
   {
    "duration": 16,
    "start_time": "2023-05-08T16:09:24.463Z"
   },
   {
    "duration": 1041,
    "start_time": "2023-05-08T16:09:24.480Z"
   },
   {
    "duration": 31,
    "start_time": "2023-05-08T16:09:25.523Z"
   },
   {
    "duration": 5,
    "start_time": "2023-05-08T16:09:25.555Z"
   },
   {
    "duration": 292,
    "start_time": "2023-05-08T16:09:25.561Z"
   },
   {
    "duration": 329,
    "start_time": "2023-05-08T16:09:25.854Z"
   },
   {
    "duration": 2,
    "start_time": "2023-05-08T16:13:45.674Z"
   },
   {
    "duration": 81,
    "start_time": "2023-05-08T16:13:45.678Z"
   },
   {
    "duration": 5,
    "start_time": "2023-05-08T16:13:45.761Z"
   },
   {
    "duration": 32,
    "start_time": "2023-05-08T16:13:45.767Z"
   },
   {
    "duration": 13,
    "start_time": "2023-05-08T16:13:45.801Z"
   },
   {
    "duration": 37,
    "start_time": "2023-05-08T16:13:45.816Z"
   },
   {
    "duration": 17,
    "start_time": "2023-05-08T16:13:45.855Z"
   },
   {
    "duration": 5,
    "start_time": "2023-05-08T16:13:45.873Z"
   },
   {
    "duration": 34,
    "start_time": "2023-05-08T16:13:45.880Z"
   },
   {
    "duration": 19,
    "start_time": "2023-05-08T16:13:45.915Z"
   },
   {
    "duration": 203,
    "start_time": "2023-05-08T16:13:45.936Z"
   },
   {
    "duration": 11,
    "start_time": "2023-05-08T16:13:46.141Z"
   },
   {
    "duration": 306,
    "start_time": "2023-05-08T16:13:46.153Z"
   },
   {
    "duration": 3,
    "start_time": "2023-05-08T16:13:46.463Z"
   },
   {
    "duration": 48,
    "start_time": "2023-05-08T16:13:46.468Z"
   },
   {
    "duration": 311,
    "start_time": "2023-05-08T16:13:46.534Z"
   },
   {
    "duration": 14,
    "start_time": "2023-05-08T16:13:46.847Z"
   },
   {
    "duration": 926,
    "start_time": "2023-05-08T16:13:46.863Z"
   },
   {
    "duration": 23,
    "start_time": "2023-05-08T16:13:47.791Z"
   },
   {
    "duration": 20,
    "start_time": "2023-05-08T16:13:47.815Z"
   },
   {
    "duration": 277,
    "start_time": "2023-05-08T16:13:47.837Z"
   },
   {
    "duration": 323,
    "start_time": "2023-05-08T16:13:48.116Z"
   },
   {
    "duration": 23,
    "start_time": "2023-05-08T16:14:07.203Z"
   },
   {
    "duration": 5,
    "start_time": "2023-05-08T16:14:10.873Z"
   },
   {
    "duration": 326,
    "start_time": "2023-05-08T16:16:40.559Z"
   },
   {
    "duration": 3,
    "start_time": "2023-05-08T16:17:02.121Z"
   },
   {
    "duration": 98,
    "start_time": "2023-05-08T16:17:02.125Z"
   },
   {
    "duration": 4,
    "start_time": "2023-05-08T16:17:02.224Z"
   },
   {
    "duration": 47,
    "start_time": "2023-05-08T16:17:02.229Z"
   },
   {
    "duration": 16,
    "start_time": "2023-05-08T16:17:02.278Z"
   },
   {
    "duration": 30,
    "start_time": "2023-05-08T16:17:02.295Z"
   },
   {
    "duration": 41,
    "start_time": "2023-05-08T16:17:02.326Z"
   },
   {
    "duration": 27,
    "start_time": "2023-05-08T16:17:02.368Z"
   },
   {
    "duration": 76,
    "start_time": "2023-05-08T16:17:02.396Z"
   },
   {
    "duration": 19,
    "start_time": "2023-05-08T16:17:02.474Z"
   },
   {
    "duration": 209,
    "start_time": "2023-05-08T16:17:02.495Z"
   },
   {
    "duration": 12,
    "start_time": "2023-05-08T16:17:02.705Z"
   },
   {
    "duration": 306,
    "start_time": "2023-05-08T16:17:02.718Z"
   },
   {
    "duration": 3,
    "start_time": "2023-05-08T16:17:03.027Z"
   },
   {
    "duration": 95,
    "start_time": "2023-05-08T16:17:03.034Z"
   },
   {
    "duration": 309,
    "start_time": "2023-05-08T16:17:03.131Z"
   },
   {
    "duration": 13,
    "start_time": "2023-05-08T16:17:03.441Z"
   },
   {
    "duration": 905,
    "start_time": "2023-05-08T16:17:03.456Z"
   },
   {
    "duration": 23,
    "start_time": "2023-05-08T16:17:04.363Z"
   },
   {
    "duration": 11,
    "start_time": "2023-05-08T16:17:04.387Z"
   },
   {
    "duration": 328,
    "start_time": "2023-05-08T16:17:04.399Z"
   },
   {
    "duration": 353,
    "start_time": "2023-05-08T16:17:04.733Z"
   },
   {
    "duration": 69,
    "start_time": "2023-05-08T16:18:27.296Z"
   },
   {
    "duration": 321,
    "start_time": "2023-05-08T16:19:08.295Z"
   },
   {
    "duration": 37,
    "start_time": "2023-05-08T16:19:39.890Z"
   },
   {
    "duration": 36,
    "start_time": "2023-05-08T16:19:54.805Z"
   },
   {
    "duration": 35,
    "start_time": "2023-05-08T16:20:30.406Z"
   },
   {
    "duration": 297,
    "start_time": "2023-05-08T16:22:45.145Z"
   },
   {
    "duration": 11,
    "start_time": "2023-05-08T16:34:30.212Z"
   },
   {
    "duration": 290,
    "start_time": "2023-05-08T16:37:25.207Z"
   },
   {
    "duration": 328,
    "start_time": "2023-05-08T16:38:17.430Z"
   },
   {
    "duration": 323,
    "start_time": "2023-05-08T16:38:22.168Z"
   },
   {
    "duration": 295,
    "start_time": "2023-05-08T16:38:24.750Z"
   },
   {
    "duration": 4,
    "start_time": "2023-05-08T16:51:44.852Z"
   },
   {
    "duration": 278,
    "start_time": "2023-05-08T16:51:47.108Z"
   },
   {
    "duration": 3,
    "start_time": "2023-05-08T16:52:10.523Z"
   },
   {
    "duration": 5,
    "start_time": "2023-05-08T16:52:25.973Z"
   },
   {
    "duration": 498,
    "start_time": "2023-05-08T16:52:26.605Z"
   },
   {
    "duration": 64,
    "start_time": "2023-05-08T16:53:12.667Z"
   },
   {
    "duration": 295,
    "start_time": "2023-05-08T16:54:23.558Z"
   },
   {
    "duration": 295,
    "start_time": "2023-05-08T16:54:46.163Z"
   },
   {
    "duration": 5,
    "start_time": "2023-05-08T16:54:49.210Z"
   },
   {
    "duration": 391,
    "start_time": "2023-05-08T16:54:49.608Z"
   },
   {
    "duration": 343,
    "start_time": "2023-05-08T16:59:02.820Z"
   },
   {
    "duration": 330,
    "start_time": "2023-05-08T17:07:54.548Z"
   },
   {
    "duration": 358,
    "start_time": "2023-05-08T17:08:31.953Z"
   },
   {
    "duration": 20,
    "start_time": "2023-05-08T17:20:50.067Z"
   },
   {
    "duration": 2,
    "start_time": "2023-05-08T17:21:12.123Z"
   },
   {
    "duration": 15,
    "start_time": "2023-05-08T17:21:16.761Z"
   },
   {
    "duration": 10,
    "start_time": "2023-05-08T17:21:26.650Z"
   },
   {
    "duration": 4,
    "start_time": "2023-05-08T17:24:45.257Z"
   },
   {
    "duration": 89,
    "start_time": "2023-05-08T17:27:28.026Z"
   },
   {
    "duration": 10,
    "start_time": "2023-05-08T17:29:43.322Z"
   },
   {
    "duration": 9,
    "start_time": "2023-05-08T17:29:51.546Z"
   },
   {
    "duration": 10,
    "start_time": "2023-05-08T17:30:04.964Z"
   },
   {
    "duration": 15,
    "start_time": "2023-05-08T17:35:29.436Z"
   },
   {
    "duration": 2,
    "start_time": "2023-05-08T17:35:34.005Z"
   },
   {
    "duration": 10,
    "start_time": "2023-05-08T17:35:38.369Z"
   },
   {
    "duration": 10,
    "start_time": "2023-05-08T17:36:30.775Z"
   },
   {
    "duration": 1190,
    "start_time": "2023-05-09T07:39:24.161Z"
   },
   {
    "duration": 80,
    "start_time": "2023-05-09T07:39:25.353Z"
   },
   {
    "duration": 4,
    "start_time": "2023-05-09T07:39:25.437Z"
   },
   {
    "duration": 15,
    "start_time": "2023-05-09T07:39:25.442Z"
   },
   {
    "duration": 28,
    "start_time": "2023-05-09T07:39:25.458Z"
   },
   {
    "duration": 16,
    "start_time": "2023-05-09T07:39:25.496Z"
   },
   {
    "duration": 21,
    "start_time": "2023-05-09T07:39:25.514Z"
   },
   {
    "duration": 5,
    "start_time": "2023-05-09T07:39:25.536Z"
   },
   {
    "duration": 24,
    "start_time": "2023-05-09T07:39:25.544Z"
   },
   {
    "duration": 39,
    "start_time": "2023-05-09T07:39:25.570Z"
   },
   {
    "duration": 228,
    "start_time": "2023-05-09T07:39:25.610Z"
   },
   {
    "duration": 12,
    "start_time": "2023-05-09T07:39:25.840Z"
   },
   {
    "duration": 443,
    "start_time": "2023-05-09T07:39:25.854Z"
   },
   {
    "duration": 3,
    "start_time": "2023-05-09T07:39:26.298Z"
   },
   {
    "duration": 57,
    "start_time": "2023-05-09T07:39:26.303Z"
   },
   {
    "duration": 370,
    "start_time": "2023-05-09T07:39:26.363Z"
   },
   {
    "duration": 15,
    "start_time": "2023-05-09T07:39:26.735Z"
   },
   {
    "duration": 1051,
    "start_time": "2023-05-09T07:39:26.752Z"
   },
   {
    "duration": 24,
    "start_time": "2023-05-09T07:39:27.804Z"
   },
   {
    "duration": 5,
    "start_time": "2023-05-09T07:39:27.830Z"
   },
   {
    "duration": 339,
    "start_time": "2023-05-09T07:39:27.836Z"
   },
   {
    "duration": 391,
    "start_time": "2023-05-09T07:39:28.176Z"
   },
   {
    "duration": 359,
    "start_time": "2023-05-09T07:39:28.568Z"
   },
   {
    "duration": 13,
    "start_time": "2023-05-09T07:39:28.929Z"
   },
   {
    "duration": 269,
    "start_time": "2023-05-09T07:39:28.944Z"
   },
   {
    "duration": 3,
    "start_time": "2023-05-09T07:39:29.215Z"
   },
   {
    "duration": 418,
    "start_time": "2023-05-09T07:39:29.222Z"
   },
   {
    "duration": 293,
    "start_time": "2023-05-09T07:39:29.642Z"
   },
   {
    "duration": 0,
    "start_time": "2023-05-09T07:39:29.936Z"
   },
   {
    "duration": 0,
    "start_time": "2023-05-09T07:39:29.938Z"
   },
   {
    "duration": 0,
    "start_time": "2023-05-09T07:39:29.939Z"
   },
   {
    "duration": 0,
    "start_time": "2023-05-09T07:39:29.940Z"
   },
   {
    "duration": 365,
    "start_time": "2023-05-09T07:42:11.475Z"
   },
   {
    "duration": 442,
    "start_time": "2023-05-09T07:42:16.320Z"
   },
   {
    "duration": 11,
    "start_time": "2023-05-09T07:42:19.320Z"
   },
   {
    "duration": 4,
    "start_time": "2023-05-09T07:42:20.391Z"
   },
   {
    "duration": 12,
    "start_time": "2023-05-09T07:42:23.571Z"
   },
   {
    "duration": 1229,
    "start_time": "2023-05-09T13:13:12.771Z"
   },
   {
    "duration": 97,
    "start_time": "2023-05-09T13:13:14.002Z"
   },
   {
    "duration": 6,
    "start_time": "2023-05-09T13:13:14.101Z"
   },
   {
    "duration": 20,
    "start_time": "2023-05-09T13:13:14.109Z"
   },
   {
    "duration": 16,
    "start_time": "2023-05-09T13:13:14.132Z"
   },
   {
    "duration": 45,
    "start_time": "2023-05-09T13:13:14.150Z"
   },
   {
    "duration": 25,
    "start_time": "2023-05-09T13:13:14.197Z"
   },
   {
    "duration": 6,
    "start_time": "2023-05-09T13:13:14.224Z"
   },
   {
    "duration": 62,
    "start_time": "2023-05-09T13:13:14.232Z"
   },
   {
    "duration": 17,
    "start_time": "2023-05-09T13:13:14.295Z"
   },
   {
    "duration": 251,
    "start_time": "2023-05-09T13:13:14.314Z"
   },
   {
    "duration": 27,
    "start_time": "2023-05-09T13:13:14.566Z"
   },
   {
    "duration": 441,
    "start_time": "2023-05-09T13:13:14.595Z"
   },
   {
    "duration": 3,
    "start_time": "2023-05-09T13:13:15.039Z"
   },
   {
    "duration": 84,
    "start_time": "2023-05-09T13:13:15.043Z"
   },
   {
    "duration": 339,
    "start_time": "2023-05-09T13:13:15.129Z"
   },
   {
    "duration": 20,
    "start_time": "2023-05-09T13:13:15.470Z"
   },
   {
    "duration": 1015,
    "start_time": "2023-05-09T13:13:15.491Z"
   },
   {
    "duration": 28,
    "start_time": "2023-05-09T13:13:16.508Z"
   },
   {
    "duration": 6,
    "start_time": "2023-05-09T13:13:16.537Z"
   },
   {
    "duration": 347,
    "start_time": "2023-05-09T13:13:16.544Z"
   },
   {
    "duration": 387,
    "start_time": "2023-05-09T13:13:16.892Z"
   },
   {
    "duration": 323,
    "start_time": "2023-05-09T13:13:17.284Z"
   },
   {
    "duration": 10,
    "start_time": "2023-05-09T13:13:17.609Z"
   },
   {
    "duration": 258,
    "start_time": "2023-05-09T13:13:17.621Z"
   },
   {
    "duration": 6,
    "start_time": "2023-05-09T13:13:17.881Z"
   },
   {
    "duration": 425,
    "start_time": "2023-05-09T13:13:17.888Z"
   },
   {
    "duration": 417,
    "start_time": "2023-05-09T13:13:18.315Z"
   },
   {
    "duration": 465,
    "start_time": "2023-05-09T13:13:18.734Z"
   },
   {
    "duration": 11,
    "start_time": "2023-05-09T13:13:19.201Z"
   },
   {
    "duration": 4,
    "start_time": "2023-05-09T13:13:19.214Z"
   },
   {
    "duration": 14,
    "start_time": "2023-05-09T13:13:19.220Z"
   },
   {
    "duration": 23,
    "start_time": "2023-05-09T13:36:10.302Z"
   },
   {
    "duration": 1393,
    "start_time": "2023-05-10T07:50:53.648Z"
   },
   {
    "duration": 235,
    "start_time": "2023-05-10T07:50:55.043Z"
   },
   {
    "duration": 4,
    "start_time": "2023-05-10T07:50:55.280Z"
   },
   {
    "duration": 29,
    "start_time": "2023-05-10T07:50:55.286Z"
   },
   {
    "duration": 11,
    "start_time": "2023-05-10T07:50:55.318Z"
   },
   {
    "duration": 43,
    "start_time": "2023-05-10T07:50:55.331Z"
   },
   {
    "duration": 23,
    "start_time": "2023-05-10T07:50:55.375Z"
   },
   {
    "duration": 5,
    "start_time": "2023-05-10T07:50:55.400Z"
   },
   {
    "duration": 34,
    "start_time": "2023-05-10T07:50:55.407Z"
   },
   {
    "duration": 18,
    "start_time": "2023-05-10T07:50:55.443Z"
   },
   {
    "duration": 9,
    "start_time": "2023-05-10T07:50:55.463Z"
   },
   {
    "duration": 258,
    "start_time": "2023-05-10T07:50:55.474Z"
   },
   {
    "duration": 12,
    "start_time": "2023-05-10T07:50:55.734Z"
   },
   {
    "duration": 582,
    "start_time": "2023-05-10T07:50:55.749Z"
   },
   {
    "duration": 3,
    "start_time": "2023-05-10T07:50:56.333Z"
   },
   {
    "duration": 101,
    "start_time": "2023-05-10T07:50:56.338Z"
   },
   {
    "duration": 407,
    "start_time": "2023-05-10T07:50:56.440Z"
   },
   {
    "duration": 16,
    "start_time": "2023-05-10T07:50:56.848Z"
   },
   {
    "duration": 1046,
    "start_time": "2023-05-10T07:50:56.865Z"
   },
   {
    "duration": 28,
    "start_time": "2023-05-10T07:50:57.913Z"
   },
   {
    "duration": 10,
    "start_time": "2023-05-10T07:50:57.942Z"
   },
   {
    "duration": 347,
    "start_time": "2023-05-10T07:50:57.954Z"
   },
   {
    "duration": 364,
    "start_time": "2023-05-10T07:50:58.303Z"
   },
   {
    "duration": 349,
    "start_time": "2023-05-10T07:50:58.669Z"
   },
   {
    "duration": 12,
    "start_time": "2023-05-10T07:50:59.020Z"
   },
   {
    "duration": 273,
    "start_time": "2023-05-10T07:50:59.034Z"
   },
   {
    "duration": 4,
    "start_time": "2023-05-10T07:50:59.309Z"
   },
   {
    "duration": 411,
    "start_time": "2023-05-10T07:50:59.318Z"
   },
   {
    "duration": 406,
    "start_time": "2023-05-10T07:50:59.731Z"
   },
   {
    "duration": 490,
    "start_time": "2023-05-10T07:51:00.139Z"
   },
   {
    "duration": 13,
    "start_time": "2023-05-10T07:51:00.631Z"
   },
   {
    "duration": 40,
    "start_time": "2023-05-10T07:51:00.646Z"
   },
   {
    "duration": 39,
    "start_time": "2023-05-10T07:51:00.687Z"
   },
   {
    "duration": 8,
    "start_time": "2023-05-10T07:51:44.601Z"
   },
   {
    "duration": 12,
    "start_time": "2023-05-10T07:51:51.055Z"
   },
   {
    "duration": 17,
    "start_time": "2023-05-10T07:54:19.178Z"
   },
   {
    "duration": 6,
    "start_time": "2023-05-10T07:58:44.363Z"
   },
   {
    "duration": 22,
    "start_time": "2023-05-10T07:59:16.252Z"
   },
   {
    "duration": 13,
    "start_time": "2023-05-10T07:59:37.969Z"
   },
   {
    "duration": 15,
    "start_time": "2023-05-10T08:01:43.010Z"
   },
   {
    "duration": 13,
    "start_time": "2023-05-10T08:01:53.323Z"
   },
   {
    "duration": 3,
    "start_time": "2023-05-10T08:02:00.861Z"
   },
   {
    "duration": 144,
    "start_time": "2023-05-10T08:02:00.866Z"
   },
   {
    "duration": 4,
    "start_time": "2023-05-10T08:02:01.012Z"
   },
   {
    "duration": 62,
    "start_time": "2023-05-10T08:02:01.017Z"
   },
   {
    "duration": 25,
    "start_time": "2023-05-10T08:02:01.082Z"
   },
   {
    "duration": 40,
    "start_time": "2023-05-10T08:02:01.109Z"
   },
   {
    "duration": 53,
    "start_time": "2023-05-10T08:02:01.151Z"
   },
   {
    "duration": 43,
    "start_time": "2023-05-10T08:02:01.206Z"
   },
   {
    "duration": 93,
    "start_time": "2023-05-10T08:02:01.252Z"
   },
   {
    "duration": 91,
    "start_time": "2023-05-10T08:02:01.347Z"
   },
   {
    "duration": 91,
    "start_time": "2023-05-10T08:02:01.440Z"
   },
   {
    "duration": 45,
    "start_time": "2023-05-10T08:02:01.534Z"
   },
   {
    "duration": 468,
    "start_time": "2023-05-10T08:02:01.580Z"
   },
   {
    "duration": 12,
    "start_time": "2023-05-10T08:02:02.051Z"
   },
   {
    "duration": 463,
    "start_time": "2023-05-10T08:02:02.065Z"
   },
   {
    "duration": 4,
    "start_time": "2023-05-10T08:02:02.530Z"
   },
   {
    "duration": 87,
    "start_time": "2023-05-10T08:02:02.536Z"
   },
   {
    "duration": 396,
    "start_time": "2023-05-10T08:02:02.625Z"
   },
   {
    "duration": 16,
    "start_time": "2023-05-10T08:02:03.022Z"
   },
   {
    "duration": 898,
    "start_time": "2023-05-10T08:02:03.039Z"
   },
   {
    "duration": 25,
    "start_time": "2023-05-10T08:02:03.938Z"
   },
   {
    "duration": 5,
    "start_time": "2023-05-10T08:02:03.965Z"
   },
   {
    "duration": 358,
    "start_time": "2023-05-10T08:02:03.972Z"
   },
   {
    "duration": 471,
    "start_time": "2023-05-10T08:02:04.332Z"
   },
   {
    "duration": 353,
    "start_time": "2023-05-10T08:02:04.805Z"
   },
   {
    "duration": 10,
    "start_time": "2023-05-10T08:02:05.160Z"
   },
   {
    "duration": 271,
    "start_time": "2023-05-10T08:02:05.172Z"
   },
   {
    "duration": 4,
    "start_time": "2023-05-10T08:02:05.445Z"
   },
   {
    "duration": 409,
    "start_time": "2023-05-10T08:02:05.451Z"
   },
   {
    "duration": 410,
    "start_time": "2023-05-10T08:02:05.862Z"
   },
   {
    "duration": 415,
    "start_time": "2023-05-10T08:02:06.273Z"
   },
   {
    "duration": 13,
    "start_time": "2023-05-10T08:02:06.690Z"
   },
   {
    "duration": 6,
    "start_time": "2023-05-10T08:02:06.717Z"
   },
   {
    "duration": 13,
    "start_time": "2023-05-10T08:02:06.725Z"
   },
   {
    "duration": 13,
    "start_time": "2023-05-10T08:02:35.414Z"
   },
   {
    "duration": 9,
    "start_time": "2023-05-10T08:04:14.809Z"
   },
   {
    "duration": 10,
    "start_time": "2023-05-10T08:04:27.466Z"
   },
   {
    "duration": 47,
    "start_time": "2023-05-10T08:16:14.179Z"
   },
   {
    "duration": 50,
    "start_time": "2023-05-10T08:16:19.345Z"
   },
   {
    "duration": 48,
    "start_time": "2023-05-10T08:16:33.532Z"
   },
   {
    "duration": 339,
    "start_time": "2023-05-10T08:16:42.263Z"
   },
   {
    "duration": 4,
    "start_time": "2023-05-10T08:16:56.021Z"
   },
   {
    "duration": 90,
    "start_time": "2023-05-10T08:16:56.027Z"
   },
   {
    "duration": 6,
    "start_time": "2023-05-10T08:16:56.119Z"
   },
   {
    "duration": 28,
    "start_time": "2023-05-10T08:16:56.127Z"
   },
   {
    "duration": 36,
    "start_time": "2023-05-10T08:16:56.158Z"
   },
   {
    "duration": 44,
    "start_time": "2023-05-10T08:16:56.196Z"
   },
   {
    "duration": 25,
    "start_time": "2023-05-10T08:16:56.242Z"
   },
   {
    "duration": 5,
    "start_time": "2023-05-10T08:16:56.269Z"
   },
   {
    "duration": 40,
    "start_time": "2023-05-10T08:16:56.276Z"
   },
   {
    "duration": 18,
    "start_time": "2023-05-10T08:16:56.317Z"
   },
   {
    "duration": 16,
    "start_time": "2023-05-10T08:16:56.336Z"
   },
   {
    "duration": 18,
    "start_time": "2023-05-10T08:16:56.353Z"
   },
   {
    "duration": 247,
    "start_time": "2023-05-10T08:16:56.373Z"
   },
   {
    "duration": 13,
    "start_time": "2023-05-10T08:16:56.622Z"
   },
   {
    "duration": 450,
    "start_time": "2023-05-10T08:16:56.636Z"
   },
   {
    "duration": 3,
    "start_time": "2023-05-10T08:16:57.088Z"
   },
   {
    "duration": 60,
    "start_time": "2023-05-10T08:16:57.092Z"
   },
   {
    "duration": 285,
    "start_time": "2023-05-10T08:16:57.154Z"
   },
   {
    "duration": 16,
    "start_time": "2023-05-10T08:16:57.441Z"
   },
   {
    "duration": 943,
    "start_time": "2023-05-10T08:16:57.458Z"
   },
   {
    "duration": 33,
    "start_time": "2023-05-10T08:16:58.402Z"
   },
   {
    "duration": 5,
    "start_time": "2023-05-10T08:16:58.436Z"
   },
   {
    "duration": 319,
    "start_time": "2023-05-10T08:16:58.443Z"
   },
   {
    "duration": 354,
    "start_time": "2023-05-10T08:16:58.763Z"
   },
   {
    "duration": 349,
    "start_time": "2023-05-10T08:16:59.120Z"
   },
   {
    "duration": 11,
    "start_time": "2023-05-10T08:16:59.470Z"
   },
   {
    "duration": 257,
    "start_time": "2023-05-10T08:16:59.483Z"
   },
   {
    "duration": 5,
    "start_time": "2023-05-10T08:16:59.742Z"
   },
   {
    "duration": 495,
    "start_time": "2023-05-10T08:16:59.749Z"
   },
   {
    "duration": 393,
    "start_time": "2023-05-10T08:17:00.246Z"
   },
   {
    "duration": 417,
    "start_time": "2023-05-10T08:17:00.641Z"
   },
   {
    "duration": 11,
    "start_time": "2023-05-10T08:17:01.059Z"
   },
   {
    "duration": 46,
    "start_time": "2023-05-10T08:17:01.072Z"
   },
   {
    "duration": 67,
    "start_time": "2023-05-10T08:17:01.120Z"
   },
   {
    "duration": 267,
    "start_time": "2023-05-10T08:47:39.890Z"
   },
   {
    "duration": 271,
    "start_time": "2023-05-10T08:48:05.438Z"
   },
   {
    "duration": 4,
    "start_time": "2023-05-10T09:03:24.308Z"
   },
   {
    "duration": 405,
    "start_time": "2023-05-10T09:03:25.355Z"
   },
   {
    "duration": 574,
    "start_time": "2023-05-10T09:03:30.716Z"
   },
   {
    "duration": 389,
    "start_time": "2023-05-10T09:03:33.899Z"
   },
   {
    "duration": 4,
    "start_time": "2023-05-10T09:04:29.444Z"
   },
   {
    "duration": 399,
    "start_time": "2023-05-10T09:04:30.833Z"
   },
   {
    "duration": 398,
    "start_time": "2023-05-10T09:08:39.961Z"
   },
   {
    "duration": 14,
    "start_time": "2023-05-10T09:10:58.397Z"
   },
   {
    "duration": 13,
    "start_time": "2023-05-10T09:13:52.875Z"
   },
   {
    "duration": 13,
    "start_time": "2023-05-10T09:14:18.285Z"
   },
   {
    "duration": 15,
    "start_time": "2023-05-10T09:14:42.425Z"
   },
   {
    "duration": 13,
    "start_time": "2023-05-10T09:14:55.114Z"
   },
   {
    "duration": 12,
    "start_time": "2023-05-10T09:16:16.389Z"
   },
   {
    "duration": 12,
    "start_time": "2023-05-10T09:16:20.345Z"
   },
   {
    "duration": 11,
    "start_time": "2023-05-10T09:16:24.179Z"
   },
   {
    "duration": 3,
    "start_time": "2023-05-10T09:18:45.998Z"
   },
   {
    "duration": 98,
    "start_time": "2023-05-10T09:18:46.003Z"
   },
   {
    "duration": 5,
    "start_time": "2023-05-10T09:18:46.102Z"
   },
   {
    "duration": 44,
    "start_time": "2023-05-10T09:18:46.108Z"
   },
   {
    "duration": 52,
    "start_time": "2023-05-10T09:18:46.155Z"
   },
   {
    "duration": 30,
    "start_time": "2023-05-10T09:18:46.209Z"
   },
   {
    "duration": 20,
    "start_time": "2023-05-10T09:18:46.241Z"
   },
   {
    "duration": 6,
    "start_time": "2023-05-10T09:18:46.263Z"
   },
   {
    "duration": 56,
    "start_time": "2023-05-10T09:18:46.271Z"
   },
   {
    "duration": 39,
    "start_time": "2023-05-10T09:18:46.329Z"
   },
   {
    "duration": 51,
    "start_time": "2023-05-10T09:18:46.369Z"
   },
   {
    "duration": 78,
    "start_time": "2023-05-10T09:18:46.422Z"
   },
   {
    "duration": 241,
    "start_time": "2023-05-10T09:18:46.503Z"
   },
   {
    "duration": 14,
    "start_time": "2023-05-10T09:18:46.746Z"
   },
   {
    "duration": 360,
    "start_time": "2023-05-10T09:18:46.761Z"
   },
   {
    "duration": 3,
    "start_time": "2023-05-10T09:18:47.123Z"
   },
   {
    "duration": 76,
    "start_time": "2023-05-10T09:18:47.127Z"
   },
   {
    "duration": 303,
    "start_time": "2023-05-10T09:18:47.205Z"
   },
   {
    "duration": 20,
    "start_time": "2023-05-10T09:18:47.510Z"
   },
   {
    "duration": 1082,
    "start_time": "2023-05-10T09:18:47.531Z"
   },
   {
    "duration": 26,
    "start_time": "2023-05-10T09:18:48.617Z"
   },
   {
    "duration": 6,
    "start_time": "2023-05-10T09:18:48.644Z"
   },
   {
    "duration": 365,
    "start_time": "2023-05-10T09:18:48.651Z"
   },
   {
    "duration": 373,
    "start_time": "2023-05-10T09:18:49.018Z"
   },
   {
    "duration": 347,
    "start_time": "2023-05-10T09:18:49.392Z"
   },
   {
    "duration": 12,
    "start_time": "2023-05-10T09:18:49.741Z"
   },
   {
    "duration": 290,
    "start_time": "2023-05-10T09:18:49.755Z"
   },
   {
    "duration": 246,
    "start_time": "2023-05-10T09:18:50.046Z"
   },
   {
    "duration": 4,
    "start_time": "2023-05-10T09:18:50.294Z"
   },
   {
    "duration": 440,
    "start_time": "2023-05-10T09:18:50.300Z"
   },
   {
    "duration": 579,
    "start_time": "2023-05-10T09:18:50.742Z"
   },
   {
    "duration": 414,
    "start_time": "2023-05-10T09:18:51.323Z"
   },
   {
    "duration": 12,
    "start_time": "2023-05-10T09:18:51.740Z"
   },
   {
    "duration": 47,
    "start_time": "2023-05-10T09:18:51.754Z"
   },
   {
    "duration": 53,
    "start_time": "2023-05-10T09:18:51.803Z"
   },
   {
    "duration": 12,
    "start_time": "2023-05-10T09:19:40.455Z"
   },
   {
    "duration": 64,
    "start_time": "2023-05-10T12:42:51.822Z"
   },
   {
    "duration": 1361,
    "start_time": "2023-05-10T12:42:56.058Z"
   },
   {
    "duration": 128,
    "start_time": "2023-05-10T12:42:57.421Z"
   },
   {
    "duration": 4,
    "start_time": "2023-05-10T12:42:57.551Z"
   },
   {
    "duration": 17,
    "start_time": "2023-05-10T12:42:57.557Z"
   },
   {
    "duration": 18,
    "start_time": "2023-05-10T12:42:57.576Z"
   },
   {
    "duration": 16,
    "start_time": "2023-05-10T12:42:57.596Z"
   },
   {
    "duration": 19,
    "start_time": "2023-05-10T12:42:57.614Z"
   },
   {
    "duration": 7,
    "start_time": "2023-05-10T12:42:57.635Z"
   },
   {
    "duration": 50,
    "start_time": "2023-05-10T12:42:57.644Z"
   },
   {
    "duration": 18,
    "start_time": "2023-05-10T12:42:57.698Z"
   },
   {
    "duration": 23,
    "start_time": "2023-05-10T12:42:57.718Z"
   },
   {
    "duration": 17,
    "start_time": "2023-05-10T12:42:57.744Z"
   },
   {
    "duration": 263,
    "start_time": "2023-05-10T12:42:57.763Z"
   },
   {
    "duration": 12,
    "start_time": "2023-05-10T12:42:58.028Z"
   },
   {
    "duration": 463,
    "start_time": "2023-05-10T12:42:58.042Z"
   },
   {
    "duration": 3,
    "start_time": "2023-05-10T12:42:58.507Z"
   },
   {
    "duration": 58,
    "start_time": "2023-05-10T12:42:58.512Z"
   },
   {
    "duration": 325,
    "start_time": "2023-05-10T12:42:58.571Z"
   },
   {
    "duration": 15,
    "start_time": "2023-05-10T12:42:58.898Z"
   },
   {
    "duration": 1060,
    "start_time": "2023-05-10T12:42:58.915Z"
   },
   {
    "duration": 34,
    "start_time": "2023-05-10T12:42:59.977Z"
   },
   {
    "duration": 6,
    "start_time": "2023-05-10T12:43:00.014Z"
   },
   {
    "duration": 368,
    "start_time": "2023-05-10T12:43:00.022Z"
   },
   {
    "duration": 426,
    "start_time": "2023-05-10T12:43:00.392Z"
   },
   {
    "duration": 353,
    "start_time": "2023-05-10T12:43:00.821Z"
   },
   {
    "duration": 20,
    "start_time": "2023-05-10T12:43:01.176Z"
   },
   {
    "duration": 286,
    "start_time": "2023-05-10T12:43:01.198Z"
   },
   {
    "duration": 256,
    "start_time": "2023-05-10T12:43:01.486Z"
   },
   {
    "duration": 4,
    "start_time": "2023-05-10T12:43:01.743Z"
   },
   {
    "duration": 508,
    "start_time": "2023-05-10T12:43:01.748Z"
   },
   {
    "duration": 448,
    "start_time": "2023-05-10T12:43:02.258Z"
   },
   {
    "duration": 489,
    "start_time": "2023-05-10T12:43:02.708Z"
   },
   {
    "duration": 14,
    "start_time": "2023-05-10T12:43:03.199Z"
   },
   {
    "duration": 19,
    "start_time": "2023-05-10T12:43:03.215Z"
   },
   {
    "duration": 25,
    "start_time": "2023-05-10T12:43:03.237Z"
   },
   {
    "duration": 49,
    "start_time": "2023-05-10T12:43:37.098Z"
   },
   {
    "duration": 314,
    "start_time": "2023-05-10T12:43:48.702Z"
   },
   {
    "duration": 49,
    "start_time": "2023-05-10T12:44:20.583Z"
   },
   {
    "duration": 15,
    "start_time": "2023-05-10T12:44:35.685Z"
   },
   {
    "duration": 1068,
    "start_time": "2023-05-10T12:44:40.987Z"
   },
   {
    "duration": 3,
    "start_time": "2023-05-10T12:45:00.357Z"
   },
   {
    "duration": 417,
    "start_time": "2023-05-10T12:45:02.356Z"
   },
   {
    "duration": 563,
    "start_time": "2023-05-10T12:45:06.826Z"
   },
   {
    "duration": 395,
    "start_time": "2023-05-10T12:45:08.717Z"
   },
   {
    "duration": 13,
    "start_time": "2023-05-10T12:45:36.195Z"
   },
   {
    "duration": 13,
    "start_time": "2023-05-10T12:47:12.733Z"
   },
   {
    "duration": 4,
    "start_time": "2023-05-10T12:47:14.036Z"
   },
   {
    "duration": 13,
    "start_time": "2023-05-10T12:47:44.691Z"
   }
  ],
  "kernelspec": {
   "display_name": "Python 3 (ipykernel)",
   "language": "python",
   "name": "python3"
  },
  "language_info": {
   "codemirror_mode": {
    "name": "ipython",
    "version": 3
   },
   "file_extension": ".py",
   "mimetype": "text/x-python",
   "name": "python",
   "nbconvert_exporter": "python",
   "pygments_lexer": "ipython3",
   "version": "3.9.7"
  },
  "toc": {
   "base_numbering": 1,
   "nav_menu": {},
   "number_sections": true,
   "sideBar": true,
   "skip_h1_title": true,
   "title_cell": "Table of Contents",
   "title_sidebar": "Contents",
   "toc_cell": false,
   "toc_position": {},
   "toc_section_display": true,
   "toc_window_display": false
  }
 },
 "nbformat": 4,
 "nbformat_minor": 2
}
