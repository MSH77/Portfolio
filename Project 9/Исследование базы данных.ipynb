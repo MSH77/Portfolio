{
 "cells": [
  {
   "cell_type": "code",
   "execution_count": 1,
   "metadata": {},
   "outputs": [
    {
     "name": "stdout",
     "output_type": "stream",
     "text": [
      "Requirement already satisfied: sqlalchemy in c:\\users\\asus\\anaconda3\\lib\\site-packages (1.4.22)\n",
      "Requirement already satisfied: greenlet!=0.4.17 in c:\\users\\asus\\anaconda3\\lib\\site-packages (from sqlalchemy) (1.1.1)\n"
     ]
    }
   ],
   "source": [
    "!pip install sqlalchemy"
   ]
  },
  {
   "cell_type": "code",
   "execution_count": 2,
   "metadata": {
    "id": "nlZBlglMDWKe"
   },
   "outputs": [],
   "source": [
    "import pandas as pd\n",
    "import matplotlib.pyplot as plt\n",
    "from sqlalchemy import create_engine "
   ]
  },
  {
   "cell_type": "markdown",
   "metadata": {
    "id": "bel8XeSlDWKj"
   },
   "source": [
    "Пример запроса к базе данных\n",
    "\n",
    "`sample_df` является pandas-датафреймом."
   ]
  },
  {
   "cell_type": "code",
   "execution_count": 5,
   "metadata": {
    "id": "6Z_fw0yLDWKk"
   },
   "outputs": [],
   "source": [
    "query = '''\n",
    "SELECT *\n",
    "FROM stackoverflow.users\n",
    "LIMIT 10;\n",
    "'''\n",
    "\n",
    "sample_df = pd.read_sql_query(query, con=engine) "
   ]
  },
  {
   "cell_type": "code",
   "execution_count": 6,
   "metadata": {
    "id": "ZpuZ290oDWKk",
    "outputId": "22785a0a-e2bc-4559-ec3c-4879c4b377eb"
   },
   "outputs": [
    {
     "data": {
      "text/html": [
       "<div>\n",
       "<style scoped>\n",
       "    .dataframe tbody tr th:only-of-type {\n",
       "        vertical-align: middle;\n",
       "    }\n",
       "\n",
       "    .dataframe tbody tr th {\n",
       "        vertical-align: top;\n",
       "    }\n",
       "\n",
       "    .dataframe thead th {\n",
       "        text-align: right;\n",
       "    }\n",
       "</style>\n",
       "<table border=\"1\" class=\"dataframe\">\n",
       "  <thead>\n",
       "    <tr style=\"text-align: right;\">\n",
       "      <th></th>\n",
       "      <th>id</th>\n",
       "      <th>creation_date</th>\n",
       "      <th>display_name</th>\n",
       "      <th>last_access_date</th>\n",
       "      <th>location</th>\n",
       "      <th>reputation</th>\n",
       "      <th>views</th>\n",
       "    </tr>\n",
       "  </thead>\n",
       "  <tbody>\n",
       "    <tr>\n",
       "      <th>0</th>\n",
       "      <td>1</td>\n",
       "      <td>2008-07-31 14:22:31</td>\n",
       "      <td>Jeff Atwood</td>\n",
       "      <td>2018-08-29 02:34:23</td>\n",
       "      <td>El Cerrito, CA</td>\n",
       "      <td>44300</td>\n",
       "      <td>408587</td>\n",
       "    </tr>\n",
       "    <tr>\n",
       "      <th>1</th>\n",
       "      <td>2</td>\n",
       "      <td>2008-07-31 14:22:31</td>\n",
       "      <td>Geoff Dalgas</td>\n",
       "      <td>2018-08-23 17:31:56</td>\n",
       "      <td>Corvallis, OR</td>\n",
       "      <td>3491</td>\n",
       "      <td>23966</td>\n",
       "    </tr>\n",
       "    <tr>\n",
       "      <th>2</th>\n",
       "      <td>3</td>\n",
       "      <td>2008-07-31 14:22:31</td>\n",
       "      <td>Jarrod Dixon</td>\n",
       "      <td>2018-08-30 20:56:24</td>\n",
       "      <td>Raleigh, NC, United States</td>\n",
       "      <td>13418</td>\n",
       "      <td>24396</td>\n",
       "    </tr>\n",
       "    <tr>\n",
       "      <th>3</th>\n",
       "      <td>4</td>\n",
       "      <td>2008-07-31 14:22:31</td>\n",
       "      <td>Joel Spolsky</td>\n",
       "      <td>2018-08-14 22:18:15</td>\n",
       "      <td>New York, NY</td>\n",
       "      <td>28768</td>\n",
       "      <td>73755</td>\n",
       "    </tr>\n",
       "    <tr>\n",
       "      <th>4</th>\n",
       "      <td>5</td>\n",
       "      <td>2008-07-31 14:22:31</td>\n",
       "      <td>Jon Galloway</td>\n",
       "      <td>2018-08-29 16:48:36</td>\n",
       "      <td>San Diego, CA</td>\n",
       "      <td>39172</td>\n",
       "      <td>11700</td>\n",
       "    </tr>\n",
       "    <tr>\n",
       "      <th>5</th>\n",
       "      <td>8</td>\n",
       "      <td>2008-07-31 21:33:24</td>\n",
       "      <td>Eggs McLaren</td>\n",
       "      <td>2018-04-09 02:04:56</td>\n",
       "      <td>None</td>\n",
       "      <td>942</td>\n",
       "      <td>6372</td>\n",
       "    </tr>\n",
       "    <tr>\n",
       "      <th>6</th>\n",
       "      <td>9</td>\n",
       "      <td>2008-07-31 21:35:27</td>\n",
       "      <td>Kevin Dente</td>\n",
       "      <td>2018-08-30 18:18:03</td>\n",
       "      <td>Oakland, CA</td>\n",
       "      <td>14337</td>\n",
       "      <td>4949</td>\n",
       "    </tr>\n",
       "    <tr>\n",
       "      <th>7</th>\n",
       "      <td>11</td>\n",
       "      <td>2008-08-01 00:59:11</td>\n",
       "      <td>Anonymous User</td>\n",
       "      <td>2008-08-01 00:59:11</td>\n",
       "      <td>None</td>\n",
       "      <td>1890</td>\n",
       "      <td>2123</td>\n",
       "    </tr>\n",
       "    <tr>\n",
       "      <th>8</th>\n",
       "      <td>13</td>\n",
       "      <td>2008-08-01 04:18:05</td>\n",
       "      <td>Chris Jester-Young</td>\n",
       "      <td>2018-08-30 02:47:23</td>\n",
       "      <td>Raleigh, NC, United States</td>\n",
       "      <td>177138</td>\n",
       "      <td>35414</td>\n",
       "    </tr>\n",
       "    <tr>\n",
       "      <th>9</th>\n",
       "      <td>17</td>\n",
       "      <td>2008-08-01 12:02:22</td>\n",
       "      <td>Nick Berardi</td>\n",
       "      <td>2018-01-22 01:35:38</td>\n",
       "      <td>Issaquah, WA</td>\n",
       "      <td>44443</td>\n",
       "      <td>4786</td>\n",
       "    </tr>\n",
       "  </tbody>\n",
       "</table>\n",
       "</div>"
      ],
      "text/plain": [
       "   id       creation_date        display_name    last_access_date  \\\n",
       "0   1 2008-07-31 14:22:31         Jeff Atwood 2018-08-29 02:34:23   \n",
       "1   2 2008-07-31 14:22:31        Geoff Dalgas 2018-08-23 17:31:56   \n",
       "2   3 2008-07-31 14:22:31        Jarrod Dixon 2018-08-30 20:56:24   \n",
       "3   4 2008-07-31 14:22:31        Joel Spolsky 2018-08-14 22:18:15   \n",
       "4   5 2008-07-31 14:22:31        Jon Galloway 2018-08-29 16:48:36   \n",
       "5   8 2008-07-31 21:33:24        Eggs McLaren 2018-04-09 02:04:56   \n",
       "6   9 2008-07-31 21:35:27         Kevin Dente 2018-08-30 18:18:03   \n",
       "7  11 2008-08-01 00:59:11      Anonymous User 2008-08-01 00:59:11   \n",
       "8  13 2008-08-01 04:18:05  Chris Jester-Young 2018-08-30 02:47:23   \n",
       "9  17 2008-08-01 12:02:22        Nick Berardi 2018-01-22 01:35:38   \n",
       "\n",
       "                     location  reputation   views  \n",
       "0              El Cerrito, CA       44300  408587  \n",
       "1               Corvallis, OR        3491   23966  \n",
       "2  Raleigh, NC, United States       13418   24396  \n",
       "3                New York, NY       28768   73755  \n",
       "4               San Diego, CA       39172   11700  \n",
       "5                        None         942    6372  \n",
       "6                 Oakland, CA       14337    4949  \n",
       "7                        None        1890    2123  \n",
       "8  Raleigh, NC, United States      177138   35414  \n",
       "9                Issaquah, WA       44443    4786  "
      ]
     },
     "execution_count": 6,
     "metadata": {},
     "output_type": "execute_result"
    }
   ],
   "source": [
    "sample_df"
   ]
  },
  {
   "cell_type": "markdown",
   "metadata": {
    "id": "gnBMXkDBDWKm"
   },
   "source": [
    "# Задание 1"
   ]
  },
  {
   "cell_type": "markdown",
   "metadata": {
    "id": "vHsfOrrNDWKn"
   },
   "source": [
    "Выведите общую сумму просмотров постов за каждый месяц 2008 года. Если данных за какой-либо месяц в базе нет, такой месяц можно пропустить. Результат отсортируйте по убыванию общего количества просмотров."
   ]
  },
  {
   "cell_type": "markdown",
   "metadata": {
    "id": "N5rTgGNmDWKn"
   },
   "source": [
    "| month_date  | total_views |\n",
    "| ------------- | ------------- |\n",
    "| 2008-09-01  | 452928568  |\n",
    "| 2008-10-01  | 365400138  |\n",
    "| ...         | ... |"
   ]
  },
  {
   "cell_type": "code",
   "execution_count": 7,
   "metadata": {
    "id": "eWvykcXTDWKo"
   },
   "outputs": [
    {
     "data": {
      "text/html": [
       "<div>\n",
       "<style scoped>\n",
       "    .dataframe tbody tr th:only-of-type {\n",
       "        vertical-align: middle;\n",
       "    }\n",
       "\n",
       "    .dataframe tbody tr th {\n",
       "        vertical-align: top;\n",
       "    }\n",
       "\n",
       "    .dataframe thead th {\n",
       "        text-align: right;\n",
       "    }\n",
       "</style>\n",
       "<table border=\"1\" class=\"dataframe\">\n",
       "  <thead>\n",
       "    <tr style=\"text-align: right;\">\n",
       "      <th></th>\n",
       "      <th>month_date</th>\n",
       "      <th>total_views</th>\n",
       "    </tr>\n",
       "  </thead>\n",
       "  <tbody>\n",
       "    <tr>\n",
       "      <th>0</th>\n",
       "      <td>2008-09-01</td>\n",
       "      <td>452928568</td>\n",
       "    </tr>\n",
       "    <tr>\n",
       "      <th>1</th>\n",
       "      <td>2008-10-01</td>\n",
       "      <td>365400138</td>\n",
       "    </tr>\n",
       "    <tr>\n",
       "      <th>2</th>\n",
       "      <td>2008-11-01</td>\n",
       "      <td>221759651</td>\n",
       "    </tr>\n",
       "    <tr>\n",
       "      <th>3</th>\n",
       "      <td>2008-12-01</td>\n",
       "      <td>197792841</td>\n",
       "    </tr>\n",
       "    <tr>\n",
       "      <th>4</th>\n",
       "      <td>2008-08-01</td>\n",
       "      <td>131367083</td>\n",
       "    </tr>\n",
       "    <tr>\n",
       "      <th>5</th>\n",
       "      <td>2008-07-01</td>\n",
       "      <td>669895</td>\n",
       "    </tr>\n",
       "  </tbody>\n",
       "</table>\n",
       "</div>"
      ],
      "text/plain": [
       "   month_date  total_views\n",
       "0  2008-09-01    452928568\n",
       "1  2008-10-01    365400138\n",
       "2  2008-11-01    221759651\n",
       "3  2008-12-01    197792841\n",
       "4  2008-08-01    131367083\n",
       "5  2008-07-01       669895"
      ]
     },
     "metadata": {},
     "output_type": "display_data"
    }
   ],
   "source": [
    "# напишите запрос\n",
    "query = '''\n",
    "SELECT CAST(DATE_TRUNC('month', creation_date) AS date) AS month_date,\n",
    "       SUM(views_count) AS total_views\n",
    "FROM stackoverflow.posts\n",
    "GROUP BY month_date\n",
    "ORDER BY total_views DESC\n",
    "'''\n",
    "z1 = pd.read_sql_query(query, con = engine)\n",
    "display(z1)\n",
    "# выполните запрос"
   ]
  },
  {
   "cell_type": "markdown",
   "metadata": {
    "id": "luxSj17oDWKq"
   },
   "source": [
    "Данные по просмотром отличаются за каждый месяц. Это может быть связано с количеством постов, которые публиковались в различные даты. Чем меньше новых постов, тем меньше просмотров. Человек редко будет дважды смотреть один и тот же пост"
   ]
  },
  {
   "cell_type": "markdown",
   "metadata": {
    "id": "FziIXkn5DWKr"
   },
   "source": [
    "# Задание 2"
   ]
  },
  {
   "cell_type": "markdown",
   "metadata": {
    "id": "fTGESZvYDWKr"
   },
   "source": [
    "Выведите имена самых активных пользователей, которые в первый месяц после регистрации (включая день регистрации) дали больше 100 ответов. Вопросы, которые задавали пользователи, не учитывайте. Для каждого имени пользователя выведите количество уникальных значений `user_id`. Отсортируйте результат по полю с именами в лексикографическом порядке."
   ]
  },
  {
   "cell_type": "markdown",
   "metadata": {
    "id": "W5-tv6Y3DWKs"
   },
   "source": [
    "| display_name | count |\n",
    "| ------------ | ----- |\n",
    "| 1800 INFORMATION | 1 |\n",
    "| Adam Bellaire | 1 |\n",
    "| Adam Davis | 1 |\n",
    "| ... | ... |"
   ]
  },
  {
   "cell_type": "code",
   "execution_count": 8,
   "metadata": {
    "id": "fIO-y-YjDWKt"
   },
   "outputs": [
    {
     "data": {
      "text/html": [
       "<div>\n",
       "<style scoped>\n",
       "    .dataframe tbody tr th:only-of-type {\n",
       "        vertical-align: middle;\n",
       "    }\n",
       "\n",
       "    .dataframe tbody tr th {\n",
       "        vertical-align: top;\n",
       "    }\n",
       "\n",
       "    .dataframe thead th {\n",
       "        text-align: right;\n",
       "    }\n",
       "</style>\n",
       "<table border=\"1\" class=\"dataframe\">\n",
       "  <thead>\n",
       "    <tr style=\"text-align: right;\">\n",
       "      <th></th>\n",
       "      <th>display_name</th>\n",
       "      <th>count</th>\n",
       "    </tr>\n",
       "  </thead>\n",
       "  <tbody>\n",
       "    <tr>\n",
       "      <th>0</th>\n",
       "      <td>1800 INFORMATION</td>\n",
       "      <td>1</td>\n",
       "    </tr>\n",
       "    <tr>\n",
       "      <th>1</th>\n",
       "      <td>Adam Bellaire</td>\n",
       "      <td>1</td>\n",
       "    </tr>\n",
       "    <tr>\n",
       "      <th>2</th>\n",
       "      <td>Adam Davis</td>\n",
       "      <td>1</td>\n",
       "    </tr>\n",
       "    <tr>\n",
       "      <th>3</th>\n",
       "      <td>Adam Liss</td>\n",
       "      <td>1</td>\n",
       "    </tr>\n",
       "    <tr>\n",
       "      <th>4</th>\n",
       "      <td>Alan</td>\n",
       "      <td>8</td>\n",
       "    </tr>\n",
       "    <tr>\n",
       "      <th>...</th>\n",
       "      <td>...</td>\n",
       "      <td>...</td>\n",
       "    </tr>\n",
       "    <tr>\n",
       "      <th>74</th>\n",
       "      <td>lomaxx</td>\n",
       "      <td>1</td>\n",
       "    </tr>\n",
       "    <tr>\n",
       "      <th>75</th>\n",
       "      <td>mattlant</td>\n",
       "      <td>1</td>\n",
       "    </tr>\n",
       "    <tr>\n",
       "      <th>76</th>\n",
       "      <td>paxdiablo</td>\n",
       "      <td>1</td>\n",
       "    </tr>\n",
       "    <tr>\n",
       "      <th>77</th>\n",
       "      <td>tvanfosson</td>\n",
       "      <td>1</td>\n",
       "    </tr>\n",
       "    <tr>\n",
       "      <th>78</th>\n",
       "      <td>tzot</td>\n",
       "      <td>1</td>\n",
       "    </tr>\n",
       "  </tbody>\n",
       "</table>\n",
       "<p>79 rows × 2 columns</p>\n",
       "</div>"
      ],
      "text/plain": [
       "        display_name  count\n",
       "0   1800 INFORMATION      1\n",
       "1      Adam Bellaire      1\n",
       "2         Adam Davis      1\n",
       "3          Adam Liss      1\n",
       "4               Alan      8\n",
       "..               ...    ...\n",
       "74            lomaxx      1\n",
       "75          mattlant      1\n",
       "76         paxdiablo      1\n",
       "77        tvanfosson      1\n",
       "78              tzot      1\n",
       "\n",
       "[79 rows x 2 columns]"
      ]
     },
     "metadata": {},
     "output_type": "display_data"
    }
   ],
   "source": [
    "# напишите запрос\n",
    "query = '''\n",
    "WITH act_users_number AS \n",
    "(SELECT p.user_id,\n",
    "        u.display_name,\n",
    "        p.creation_date AS pd,\n",
    "        u.creation_date AS rd,       \n",
    "        COUNT(pt.type) OVER(PARTITION BY u.display_name) AS number_of_answers\n",
    "FROM stackoverflow.users AS u \n",
    "JOIN stackoverflow.posts AS p ON u.id = p.user_id\n",
    "JOIN stackoverflow.post_types AS pt ON p.post_type_id = pt.id\n",
    "WHERE pt.type = 'Answer'\n",
    "AND DATE_TRUNC('day',p.creation_date) >= DATE_TRUNC('day',u.creation_date)  \n",
    "AND DATE_TRUNC('day',p.creation_date) <= DATE_TRUNC('day',u.creation_date) + INTERVAL '1 month'\n",
    ")\n",
    " \n",
    "SELECT \n",
    "       display_name,\n",
    "       COUNT(DISTINCT user_id)\n",
    "FROM act_users_number\n",
    "WHERE number_of_answers > 100\n",
    "GROUP BY display_name\n",
    "ORDER BY display_name;\n",
    "'''\n",
    "\n",
    "# выполните запрос\n",
    "z2 = pd.read_sql_query(query, con = engine)\n",
    "display(z2)"
   ]
  },
  {
   "cell_type": "markdown",
   "metadata": {
    "id": "CEIGGQ6ODWKy"
   },
   "source": [
    "В основном для каждого имени пользователей количество уникальных значений идентификатора пользователя равно 1, но есть и аномалия в виде 8."
   ]
  },
  {
   "cell_type": "markdown",
   "metadata": {
    "id": "JhM2xXj5DWKu"
   },
   "source": [
    "# Задание 3"
   ]
  },
  {
   "cell_type": "markdown",
   "metadata": {
    "id": "IS6xPqyyDWKu"
   },
   "source": [
    "Выведите количество постов за 2008 год по месяцам. Отберите посты от пользователей, которые зарегистрировались в сентябре 2008 года и сделали хотя бы один пост в декабре того же года. Отсортируйте таблицу по значению месяца по убыванию."
   ]
  },
  {
   "cell_type": "markdown",
   "metadata": {
    "id": "WmjhjV2xDWKv"
   },
   "source": [
    "| month | count |\n",
    "| ------|------ |\n",
    "| 2008-12-01 | 17641 |\n",
    "| 2008-11-01 | 18294 |\n",
    "| ... | ... |"
   ]
  },
  {
   "cell_type": "code",
   "execution_count": 9,
   "metadata": {
    "id": "kVu0FB8WDWKv"
   },
   "outputs": [
    {
     "data": {
      "text/html": [
       "<div>\n",
       "<style scoped>\n",
       "    .dataframe tbody tr th:only-of-type {\n",
       "        vertical-align: middle;\n",
       "    }\n",
       "\n",
       "    .dataframe tbody tr th {\n",
       "        vertical-align: top;\n",
       "    }\n",
       "\n",
       "    .dataframe thead th {\n",
       "        text-align: right;\n",
       "    }\n",
       "</style>\n",
       "<table border=\"1\" class=\"dataframe\">\n",
       "  <thead>\n",
       "    <tr style=\"text-align: right;\">\n",
       "      <th></th>\n",
       "      <th>month</th>\n",
       "      <th>count</th>\n",
       "    </tr>\n",
       "  </thead>\n",
       "  <tbody>\n",
       "    <tr>\n",
       "      <th>0</th>\n",
       "      <td>2008-12-01</td>\n",
       "      <td>17641</td>\n",
       "    </tr>\n",
       "    <tr>\n",
       "      <th>1</th>\n",
       "      <td>2008-11-01</td>\n",
       "      <td>18294</td>\n",
       "    </tr>\n",
       "    <tr>\n",
       "      <th>2</th>\n",
       "      <td>2008-10-01</td>\n",
       "      <td>27171</td>\n",
       "    </tr>\n",
       "    <tr>\n",
       "      <th>3</th>\n",
       "      <td>2008-09-01</td>\n",
       "      <td>24870</td>\n",
       "    </tr>\n",
       "    <tr>\n",
       "      <th>4</th>\n",
       "      <td>2008-08-01</td>\n",
       "      <td>32</td>\n",
       "    </tr>\n",
       "  </tbody>\n",
       "</table>\n",
       "</div>"
      ],
      "text/plain": [
       "        month  count\n",
       "0  2008-12-01  17641\n",
       "1  2008-11-01  18294\n",
       "2  2008-10-01  27171\n",
       "3  2008-09-01  24870\n",
       "4  2008-08-01     32"
      ]
     },
     "metadata": {},
     "output_type": "display_data"
    }
   ],
   "source": [
    "# напишите запрос\n",
    "query = '''\n",
    "SELECT DATE_TRUNC('month', creation_date)::date AS month,\n",
    "       COUNT(*)\n",
    "FROM stackoverflow.posts\n",
    "WHERE user_id IN(\n",
    "    SELECT u.id AS users\n",
    "    FROM stackoverflow.users u \n",
    "    JOIN stackoverflow.posts p ON p.user_id = u.id\n",
    "    WHERE extract(year from p.creation_date) = 2008\n",
    "        and extract(year from u.creation_date) = 2008\n",
    "         and extract(month from p.creation_date) = 12\n",
    "         and extract(month from u.creation_date) = 9\n",
    "    )\n",
    "GROUP BY month\n",
    "ORDER BY month DESC\n",
    "'''\n",
    "z3 = pd.read_sql_query(query, con = engine)\n",
    "display(z3)\n",
    "# выполните запрос"
   ]
  },
  {
   "cell_type": "markdown",
   "metadata": {
    "id": "MMVIz4yMlKpN"
   },
   "source": [
    "Есть 32 поста за август, хотя пользователи зарегистрировались только в сентябре. Они могли появиться из за технической ошибки."
   ]
  },
  {
   "cell_type": "markdown",
   "metadata": {
    "id": "5Pcizm0DDWKz"
   },
   "source": [
    "# Задание 4"
   ]
  },
  {
   "cell_type": "markdown",
   "metadata": {
    "id": "KUZPF6vHDWKz"
   },
   "source": [
    "Используя данные о постах, выведите несколько полей:\n",
    "\n",
    "- идентификатор пользователя, который написал пост;\n",
    "- дата создания поста;\n",
    "- количество просмотров у текущего поста;\n",
    "- сумму просмотров постов автора с накоплением.\n",
    "\n",
    "Данные в таблице должны быть отсортированы по возрастанию идентификаторов пользователей, а данные об одном и том же пользователе — по возрастанию даты создания поста."
   ]
  },
  {
   "cell_type": "markdown",
   "metadata": {
    "id": "ZpsTUVDYDWK0"
   },
   "source": [
    "| user_id | creation_date | views_count | cumulative_count |\n",
    "| ------ | -------------- | ----------- | ---------------- |\n",
    "| 1 | 2008-07-31 23:41:00  | 480476   | 480476  |\n",
    "| 1 | 2008-07-31 23:55:38  | 136033 | 616509  | \n",
    "| 1 | 2008-07-31 23:56:41  | 0 |  616509  |\n",
    "| ... | ... | ... | ... |\n",
    "| 2 | 2008-07-31 23:56:41 | 79087  | 79087 |\n",
    "| 2 | 2008-08-01 05:09:56 | 65443 | 144530 |\n",
    "| ... | ...  | ...  | ...  |"
   ]
  },
  {
   "cell_type": "code",
   "execution_count": 10,
   "metadata": {
    "id": "hDoJhMzfDWK0"
   },
   "outputs": [
    {
     "data": {
      "text/html": [
       "<div>\n",
       "<style scoped>\n",
       "    .dataframe tbody tr th:only-of-type {\n",
       "        vertical-align: middle;\n",
       "    }\n",
       "\n",
       "    .dataframe tbody tr th {\n",
       "        vertical-align: top;\n",
       "    }\n",
       "\n",
       "    .dataframe thead th {\n",
       "        text-align: right;\n",
       "    }\n",
       "</style>\n",
       "<table border=\"1\" class=\"dataframe\">\n",
       "  <thead>\n",
       "    <tr style=\"text-align: right;\">\n",
       "      <th></th>\n",
       "      <th>user_id</th>\n",
       "      <th>creation_date</th>\n",
       "      <th>views_count</th>\n",
       "      <th>sum</th>\n",
       "    </tr>\n",
       "  </thead>\n",
       "  <tbody>\n",
       "    <tr>\n",
       "      <th>0</th>\n",
       "      <td>1</td>\n",
       "      <td>2008-07-31 23:41:00</td>\n",
       "      <td>480476</td>\n",
       "      <td>480476</td>\n",
       "    </tr>\n",
       "    <tr>\n",
       "      <th>1</th>\n",
       "      <td>1</td>\n",
       "      <td>2008-07-31 23:55:38</td>\n",
       "      <td>136033</td>\n",
       "      <td>616509</td>\n",
       "    </tr>\n",
       "    <tr>\n",
       "      <th>2</th>\n",
       "      <td>1</td>\n",
       "      <td>2008-07-31 23:56:41</td>\n",
       "      <td>0</td>\n",
       "      <td>616509</td>\n",
       "    </tr>\n",
       "    <tr>\n",
       "      <th>3</th>\n",
       "      <td>1</td>\n",
       "      <td>2008-08-04 02:45:08</td>\n",
       "      <td>0</td>\n",
       "      <td>616509</td>\n",
       "    </tr>\n",
       "    <tr>\n",
       "      <th>4</th>\n",
       "      <td>1</td>\n",
       "      <td>2008-08-04 04:31:03</td>\n",
       "      <td>0</td>\n",
       "      <td>616509</td>\n",
       "    </tr>\n",
       "    <tr>\n",
       "      <th>5</th>\n",
       "      <td>1</td>\n",
       "      <td>2008-08-04 08:04:42</td>\n",
       "      <td>0</td>\n",
       "      <td>616509</td>\n",
       "    </tr>\n",
       "    <tr>\n",
       "      <th>6</th>\n",
       "      <td>1</td>\n",
       "      <td>2008-08-10 08:28:52</td>\n",
       "      <td>0</td>\n",
       "      <td>616509</td>\n",
       "    </tr>\n",
       "    <tr>\n",
       "      <th>7</th>\n",
       "      <td>1</td>\n",
       "      <td>2008-08-11 19:23:47</td>\n",
       "      <td>0</td>\n",
       "      <td>616509</td>\n",
       "    </tr>\n",
       "    <tr>\n",
       "      <th>8</th>\n",
       "      <td>1</td>\n",
       "      <td>2008-08-12 00:30:43</td>\n",
       "      <td>0</td>\n",
       "      <td>616509</td>\n",
       "    </tr>\n",
       "    <tr>\n",
       "      <th>9</th>\n",
       "      <td>1</td>\n",
       "      <td>2008-08-12 04:59:35</td>\n",
       "      <td>72431</td>\n",
       "      <td>688940</td>\n",
       "    </tr>\n",
       "  </tbody>\n",
       "</table>\n",
       "</div>"
      ],
      "text/plain": [
       "   user_id       creation_date  views_count     sum\n",
       "0        1 2008-07-31 23:41:00       480476  480476\n",
       "1        1 2008-07-31 23:55:38       136033  616509\n",
       "2        1 2008-07-31 23:56:41            0  616509\n",
       "3        1 2008-08-04 02:45:08            0  616509\n",
       "4        1 2008-08-04 04:31:03            0  616509\n",
       "5        1 2008-08-04 08:04:42            0  616509\n",
       "6        1 2008-08-10 08:28:52            0  616509\n",
       "7        1 2008-08-11 19:23:47            0  616509\n",
       "8        1 2008-08-12 00:30:43            0  616509\n",
       "9        1 2008-08-12 04:59:35        72431  688940"
      ]
     },
     "metadata": {},
     "output_type": "display_data"
    }
   ],
   "source": [
    "# напишите запрос\n",
    "query = '''\n",
    "SELECT user_id,\n",
    "       creation_date,\n",
    "       views_count,\n",
    "       SUM(views_count) OVER (PARTITION BY user_id ORDER BY creation_date)\n",
    "FROM stackoverflow.posts \n",
    "ORDER BY user_id,creation_date\n",
    "'''\n",
    "z4 = pd.read_sql_query(query, con = engine)\n",
    "display(z4.head(10))\n",
    "# выполните запрос"
   ]
  },
  {
   "cell_type": "markdown",
   "metadata": {
    "id": "N0kHRHvIDWK2"
   },
   "source": [
    "# Задание 5"
   ]
  },
  {
   "cell_type": "markdown",
   "metadata": {
    "id": "gBgvmPtODWK2"
   },
   "source": [
    "Найдите среднее количество постов пользователей в день за август 2008 года. Отберите данные о пользователях, которые опубликовали больше 120 постов за август. Дни без публикаций не учитывайте. \n",
    "\n",
    "Отсортируйте результат по возрастанию среднего количества постов. Значения можно не округлять."
   ]
  },
  {
   "cell_type": "markdown",
   "metadata": {
    "id": "nfzR08BODWK3"
   },
   "source": [
    "| user_id | avg_daily |\n",
    "| ------- | --------- |\n",
    "| 116     | 4.777778  |\n",
    "| 234     | 5.208333  |\n",
    "| ...     | ... |"
   ]
  },
  {
   "cell_type": "code",
   "execution_count": 11,
   "metadata": {
    "id": "YFyPNz5GDWK3"
   },
   "outputs": [
    {
     "data": {
      "text/html": [
       "<div>\n",
       "<style scoped>\n",
       "    .dataframe tbody tr th:only-of-type {\n",
       "        vertical-align: middle;\n",
       "    }\n",
       "\n",
       "    .dataframe tbody tr th {\n",
       "        vertical-align: top;\n",
       "    }\n",
       "\n",
       "    .dataframe thead th {\n",
       "        text-align: right;\n",
       "    }\n",
       "</style>\n",
       "<table border=\"1\" class=\"dataframe\">\n",
       "  <thead>\n",
       "    <tr style=\"text-align: right;\">\n",
       "      <th></th>\n",
       "      <th>user_id</th>\n",
       "      <th>avg_daily</th>\n",
       "    </tr>\n",
       "  </thead>\n",
       "  <tbody>\n",
       "    <tr>\n",
       "      <th>0</th>\n",
       "      <td>116</td>\n",
       "      <td>4.777778</td>\n",
       "    </tr>\n",
       "    <tr>\n",
       "      <th>1</th>\n",
       "      <td>234</td>\n",
       "      <td>5.208333</td>\n",
       "    </tr>\n",
       "    <tr>\n",
       "      <th>2</th>\n",
       "      <td>91</td>\n",
       "      <td>5.681818</td>\n",
       "    </tr>\n",
       "    <tr>\n",
       "      <th>3</th>\n",
       "      <td>905</td>\n",
       "      <td>7.000000</td>\n",
       "    </tr>\n",
       "    <tr>\n",
       "      <th>4</th>\n",
       "      <td>383</td>\n",
       "      <td>7.277778</td>\n",
       "    </tr>\n",
       "  </tbody>\n",
       "</table>\n",
       "</div>"
      ],
      "text/plain": [
       "   user_id  avg_daily\n",
       "0      116   4.777778\n",
       "1      234   5.208333\n",
       "2       91   5.681818\n",
       "3      905   7.000000\n",
       "4      383   7.277778"
      ]
     },
     "metadata": {},
     "output_type": "display_data"
    }
   ],
   "source": [
    "# напишите запрос\n",
    "query = '''\n",
    "WITH first AS \n",
    "    (\n",
    "    SELECT user_id, \n",
    "           count(creation_date) as total\n",
    "    FROM stackoverflow.posts\n",
    "    WHERE CAST(DATE_TRUNC('month',creation_date) AS date ) = '2008-08-01' \n",
    "    GROUP BY 1\n",
    "    HAVING count (creation_date) > 120 \n",
    "),\n",
    "second as \n",
    "(\n",
    "    SELECT count(DISTINCT CAST(DATE_TRUNC('day', creation_date) AS date)) as days , \n",
    "           user_id,\n",
    "           total\n",
    "    FROM first \n",
    "    INNER JOIN stackoverflow.posts using (user_id)\n",
    "    WHERE CAST(DATE_TRUNC('day', creation_date)as date ) BETWEEN '2008-08-01' AND '2008-08-31'\n",
    "    GROUP BY 2,3\n",
    "    ORDER BY 2\n",
    ")\n",
    "SELECT user_id,\n",
    "       (total::numeric/days::numeric) as avg_daily\n",
    "FROM second\n",
    "ORDER BY avg_daily\n",
    "'''\n",
    "z5 = pd.read_sql_query(query, con = engine)\n",
    "display(z5)\n",
    "# выполните запрос"
   ]
  },
  {
   "cell_type": "markdown",
   "metadata": {
    "id": "EQ0dcFH4DWK5"
   },
   "source": [
    "# Задание 6"
   ]
  },
  {
   "cell_type": "markdown",
   "metadata": {
    "id": "c7flfg_hDWK5"
   },
   "source": [
    "Сколько в среднем дней в период с 1 по 7 декабря 2008 года пользователи взаимодействовали с платформой? Для каждого пользователя отберите дни, в которые он или она опубликовали хотя бы один пост. Нужно получить одно целое число — не забудьте округлить результат. "
   ]
  },
  {
   "cell_type": "markdown",
   "metadata": {
    "id": "RC1Ibzm9DWK6"
   },
   "source": [
    "| result |\n",
    "| -----  |\n",
    "| <целое число> |"
   ]
  },
  {
   "cell_type": "code",
   "execution_count": 12,
   "metadata": {
    "id": "kZ7LXTr6DWK6"
   },
   "outputs": [
    {
     "data": {
      "text/html": [
       "<div>\n",
       "<style scoped>\n",
       "    .dataframe tbody tr th:only-of-type {\n",
       "        vertical-align: middle;\n",
       "    }\n",
       "\n",
       "    .dataframe tbody tr th {\n",
       "        vertical-align: top;\n",
       "    }\n",
       "\n",
       "    .dataframe thead th {\n",
       "        text-align: right;\n",
       "    }\n",
       "</style>\n",
       "<table border=\"1\" class=\"dataframe\">\n",
       "  <thead>\n",
       "    <tr style=\"text-align: right;\">\n",
       "      <th></th>\n",
       "      <th>round</th>\n",
       "    </tr>\n",
       "  </thead>\n",
       "  <tbody>\n",
       "    <tr>\n",
       "      <th>0</th>\n",
       "      <td>2.0</td>\n",
       "    </tr>\n",
       "  </tbody>\n",
       "</table>\n",
       "</div>"
      ],
      "text/plain": [
       "   round\n",
       "0    2.0"
      ]
     },
     "metadata": {},
     "output_type": "display_data"
    }
   ],
   "source": [
    "# напишите запрос\n",
    "query = '''\n",
    "SELECT ROUND(AVG(fr.cnt))\n",
    "FROM(SELECT COUNT(DISTINCT EXTRACT(DAY FROM creation_date::date)) AS cnt\n",
    "FROM stackoverflow.posts\n",
    "WHERE creation_date:: date BETWEEN '2008-12-01' AND '2008-12-07'\n",
    "GROUP BY user_id) AS fr\n",
    "\n",
    "'''\n",
    "z6 = pd.read_sql_query(query, con = engine)\n",
    "display(z6)\n",
    "\n",
    "# выполните запрос"
   ]
  },
  {
   "cell_type": "markdown",
   "metadata": {
    "id": "LfUuYz-1DWK8"
   },
   "source": [
    "То есть за неделю пользователи взаимодействуют с платформой в среднем два дня. Предположительно, это могут быть выходные дни."
   ]
  },
  {
   "cell_type": "markdown",
   "metadata": {
    "id": "wfOmqmfLDWK8"
   },
   "source": [
    "# Задание 7"
   ]
  },
  {
   "cell_type": "markdown",
   "metadata": {
    "id": "X4ARQimADWK9"
   },
   "source": [
    "Выведите историю активности каждого пользователя в таком виде: идентификатор пользователя, дата публикации поста. Отсортируйте вывод по возрастанию идентификаторов пользователей, а для каждого пользователя — по возрастанию даты публикации.\n",
    "\n",
    "Добавьте в таблицу новое поле: для каждого поста в нём будет указано название месяца предпоследней публикации пользователя относительно текущей. Если такой публикации нет, укажите `NULL`.  Python автоматически поменяет `NULL` на `None`, но дополнительно преобразовывать значения `None` вам не нужно.\n",
    "\n",
    "Посмотрите внимательно на образец таблицы: для первых двух постов предпоследней публикации нет, но, начиная с третьего поста, в новое поле входит нужный месяц. Для следующего пользователя в первые две записи поля `second_last_month` тоже войдёт `NULL`."
   ]
  },
  {
   "cell_type": "markdown",
   "metadata": {
    "id": "IGPjRP01DWK9"
   },
   "source": [
    "| user_id | creation_date | second_last_month |\n",
    "| ------- | ------------- | ----------------- |\n",
    "| 1       | 2008-07-31 23:41:00 | None |\n",
    "| 1       | 2008-07-31 23:55:38 | None |\n",
    "| 1       | 2008-07-31 23:56:41 | July |\n",
    "| 1       | 2008-08-04 02:45:08 | July |\n",
    "| 1       | 2008-08-04 04:31:03 | July |\n",
    "| 1       | 2008-08-04 08:04:42 | August |\n",
    "| ... | ... | ... |"
   ]
  },
  {
   "cell_type": "code",
   "execution_count": 13,
   "metadata": {
    "id": "HzI1vhaMDWK-"
   },
   "outputs": [
    {
     "data": {
      "text/html": [
       "<div>\n",
       "<style scoped>\n",
       "    .dataframe tbody tr th:only-of-type {\n",
       "        vertical-align: middle;\n",
       "    }\n",
       "\n",
       "    .dataframe tbody tr th {\n",
       "        vertical-align: top;\n",
       "    }\n",
       "\n",
       "    .dataframe thead th {\n",
       "        text-align: right;\n",
       "    }\n",
       "</style>\n",
       "<table border=\"1\" class=\"dataframe\">\n",
       "  <thead>\n",
       "    <tr style=\"text-align: right;\">\n",
       "      <th></th>\n",
       "      <th>user_id</th>\n",
       "      <th>creation_date</th>\n",
       "      <th>lag</th>\n",
       "    </tr>\n",
       "  </thead>\n",
       "  <tbody>\n",
       "    <tr>\n",
       "      <th>0</th>\n",
       "      <td>1</td>\n",
       "      <td>2008-07-31 23:41:00</td>\n",
       "      <td>None</td>\n",
       "    </tr>\n",
       "    <tr>\n",
       "      <th>1</th>\n",
       "      <td>1</td>\n",
       "      <td>2008-07-31 23:55:38</td>\n",
       "      <td>None</td>\n",
       "    </tr>\n",
       "    <tr>\n",
       "      <th>2</th>\n",
       "      <td>1</td>\n",
       "      <td>2008-07-31 23:56:41</td>\n",
       "      <td>July</td>\n",
       "    </tr>\n",
       "    <tr>\n",
       "      <th>3</th>\n",
       "      <td>1</td>\n",
       "      <td>2008-08-04 02:45:08</td>\n",
       "      <td>July</td>\n",
       "    </tr>\n",
       "    <tr>\n",
       "      <th>4</th>\n",
       "      <td>1</td>\n",
       "      <td>2008-08-04 04:31:03</td>\n",
       "      <td>July</td>\n",
       "    </tr>\n",
       "    <tr>\n",
       "      <th>5</th>\n",
       "      <td>1</td>\n",
       "      <td>2008-08-04 08:04:42</td>\n",
       "      <td>August</td>\n",
       "    </tr>\n",
       "    <tr>\n",
       "      <th>6</th>\n",
       "      <td>1</td>\n",
       "      <td>2008-08-10 08:28:52</td>\n",
       "      <td>August</td>\n",
       "    </tr>\n",
       "    <tr>\n",
       "      <th>7</th>\n",
       "      <td>1</td>\n",
       "      <td>2008-08-11 19:23:47</td>\n",
       "      <td>August</td>\n",
       "    </tr>\n",
       "    <tr>\n",
       "      <th>8</th>\n",
       "      <td>1</td>\n",
       "      <td>2008-08-12 00:30:43</td>\n",
       "      <td>August</td>\n",
       "    </tr>\n",
       "    <tr>\n",
       "      <th>9</th>\n",
       "      <td>1</td>\n",
       "      <td>2008-08-12 04:59:35</td>\n",
       "      <td>August</td>\n",
       "    </tr>\n",
       "  </tbody>\n",
       "</table>\n",
       "</div>"
      ],
      "text/plain": [
       "   user_id       creation_date        lag\n",
       "0        1 2008-07-31 23:41:00       None\n",
       "1        1 2008-07-31 23:55:38       None\n",
       "2        1 2008-07-31 23:56:41  July     \n",
       "3        1 2008-08-04 02:45:08  July     \n",
       "4        1 2008-08-04 04:31:03  July     \n",
       "5        1 2008-08-04 08:04:42  August   \n",
       "6        1 2008-08-10 08:28:52  August   \n",
       "7        1 2008-08-11 19:23:47  August   \n",
       "8        1 2008-08-12 00:30:43  August   \n",
       "9        1 2008-08-12 04:59:35  August   "
      ]
     },
     "metadata": {},
     "output_type": "display_data"
    }
   ],
   "source": [
    "# напишите запрос\n",
    "query = '''\n",
    "SELECT user_id,\n",
    "       creation_date,\n",
    "       LAG(TO_CHAR(creation_date, 'Month'), 2, NULL) OVER (PARTITION BY user_id ORDER BY creation_date)\n",
    "FROM stackoverflow.posts\n",
    "ORDER BY user_id, creation_date;\n",
    "'''\n",
    "z7 = pd.read_sql_query(query, con = engine)\n",
    "display(z7.head(10))\n",
    "# выполните запрос"
   ]
  },
  {
   "cell_type": "markdown",
   "metadata": {
    "id": "tf9qq2yzDWK_"
   },
   "source": [
    "# Задание 8"
   ]
  },
  {
   "cell_type": "markdown",
   "metadata": {
    "id": "gfwLVXBYDWLA"
   },
   "source": [
    "Рассчитайте аналог Retention Rate по месяцам для пользователей StackOverflow. Объедините пользователей в когорты по месяцу их первого поста. Возвращение определяйте по наличию поста в текущем месяце. "
   ]
  },
  {
   "cell_type": "markdown",
   "metadata": {
    "id": "kN2ic39WlKpl"
   },
   "source": [
    "| cohort_dt | session_date | users_cnt | cohort_users_cnt | retention_rate |\n",
    "| --- | --- | --- | --- | --- |\n",
    "| 2008-07-01 00:00:00 | 2008-07-01 00:00:00 | 3 | 3 | 100 |\n",
    "| 2008-07-01 00:00:00 | 2008-08-01 00:00:00 | 2 | 3 | 66,67 |\n",
    "| 2008-07-01 00:00:00 | 2008-09-01 00:00:00 | 1 | 3 | 33,33 |\n",
    "| 2008-07-01 00:00:00 | 2008-10-01 00:00:00 | 2 | 3 | 66,67 |\n",
    "| 2008-07-01 00:00:00 | 2008-11-01 00:00:00 | 1 | 3 | 33,33 |\n",
    "| 2008-07-01 00:00:00 | 2008-12-01 00:00:00 | 2 | 3 | 66,67 |\n",
    "| 2008-08-01 00:00:00 | 2008-08-01 00:00:00 | 2151 | 2151 | 100 |\n",
    "| ... | ... | ... | ... | ... |"
   ]
  },
  {
   "cell_type": "code",
   "execution_count": 14,
   "metadata": {
    "id": "LUgFmwmTDWLB"
   },
   "outputs": [
    {
     "data": {
      "text/html": [
       "<div>\n",
       "<style scoped>\n",
       "    .dataframe tbody tr th:only-of-type {\n",
       "        vertical-align: middle;\n",
       "    }\n",
       "\n",
       "    .dataframe tbody tr th {\n",
       "        vertical-align: top;\n",
       "    }\n",
       "\n",
       "    .dataframe thead th {\n",
       "        text-align: right;\n",
       "    }\n",
       "</style>\n",
       "<table border=\"1\" class=\"dataframe\">\n",
       "  <thead>\n",
       "    <tr style=\"text-align: right;\">\n",
       "      <th></th>\n",
       "      <th>cohort_dt</th>\n",
       "      <th>session_date</th>\n",
       "      <th>users_cnt</th>\n",
       "      <th>cohort_users_cnt</th>\n",
       "      <th>retention_rate</th>\n",
       "    </tr>\n",
       "  </thead>\n",
       "  <tbody>\n",
       "    <tr>\n",
       "      <th>0</th>\n",
       "      <td>2008-12-01</td>\n",
       "      <td>2008-12-01</td>\n",
       "      <td>8304</td>\n",
       "      <td>8304</td>\n",
       "      <td>100.00</td>\n",
       "    </tr>\n",
       "    <tr>\n",
       "      <th>1</th>\n",
       "      <td>2008-10-01</td>\n",
       "      <td>2008-10-01</td>\n",
       "      <td>9038</td>\n",
       "      <td>9038</td>\n",
       "      <td>100.00</td>\n",
       "    </tr>\n",
       "    <tr>\n",
       "      <th>2</th>\n",
       "      <td>2008-07-01</td>\n",
       "      <td>2008-10-01</td>\n",
       "      <td>2</td>\n",
       "      <td>3</td>\n",
       "      <td>66.67</td>\n",
       "    </tr>\n",
       "    <tr>\n",
       "      <th>3</th>\n",
       "      <td>2008-08-01</td>\n",
       "      <td>2008-09-01</td>\n",
       "      <td>1572</td>\n",
       "      <td>2153</td>\n",
       "      <td>73.01</td>\n",
       "    </tr>\n",
       "    <tr>\n",
       "      <th>4</th>\n",
       "      <td>2008-08-01</td>\n",
       "      <td>2008-11-01</td>\n",
       "      <td>1051</td>\n",
       "      <td>2153</td>\n",
       "      <td>48.82</td>\n",
       "    </tr>\n",
       "    <tr>\n",
       "      <th>5</th>\n",
       "      <td>2008-11-01</td>\n",
       "      <td>2008-12-01</td>\n",
       "      <td>4532</td>\n",
       "      <td>8509</td>\n",
       "      <td>53.26</td>\n",
       "    </tr>\n",
       "    <tr>\n",
       "      <th>6</th>\n",
       "      <td>2008-08-01</td>\n",
       "      <td>2008-08-01</td>\n",
       "      <td>2153</td>\n",
       "      <td>2153</td>\n",
       "      <td>100.00</td>\n",
       "    </tr>\n",
       "    <tr>\n",
       "      <th>7</th>\n",
       "      <td>2008-09-01</td>\n",
       "      <td>2008-11-01</td>\n",
       "      <td>3877</td>\n",
       "      <td>9250</td>\n",
       "      <td>41.91</td>\n",
       "    </tr>\n",
       "    <tr>\n",
       "      <th>8</th>\n",
       "      <td>2008-09-01</td>\n",
       "      <td>2008-09-01</td>\n",
       "      <td>9250</td>\n",
       "      <td>9250</td>\n",
       "      <td>100.00</td>\n",
       "    </tr>\n",
       "    <tr>\n",
       "      <th>9</th>\n",
       "      <td>2008-08-01</td>\n",
       "      <td>2008-12-01</td>\n",
       "      <td>896</td>\n",
       "      <td>2153</td>\n",
       "      <td>41.62</td>\n",
       "    </tr>\n",
       "    <tr>\n",
       "      <th>10</th>\n",
       "      <td>2008-07-01</td>\n",
       "      <td>2008-07-01</td>\n",
       "      <td>3</td>\n",
       "      <td>3</td>\n",
       "      <td>100.00</td>\n",
       "    </tr>\n",
       "    <tr>\n",
       "      <th>11</th>\n",
       "      <td>2008-10-01</td>\n",
       "      <td>2008-12-01</td>\n",
       "      <td>3962</td>\n",
       "      <td>9038</td>\n",
       "      <td>43.84</td>\n",
       "    </tr>\n",
       "    <tr>\n",
       "      <th>12</th>\n",
       "      <td>2008-08-01</td>\n",
       "      <td>2008-10-01</td>\n",
       "      <td>1277</td>\n",
       "      <td>2153</td>\n",
       "      <td>59.31</td>\n",
       "    </tr>\n",
       "    <tr>\n",
       "      <th>13</th>\n",
       "      <td>2008-07-01</td>\n",
       "      <td>2008-08-01</td>\n",
       "      <td>2</td>\n",
       "      <td>3</td>\n",
       "      <td>66.67</td>\n",
       "    </tr>\n",
       "    <tr>\n",
       "      <th>14</th>\n",
       "      <td>2008-10-01</td>\n",
       "      <td>2008-11-01</td>\n",
       "      <td>4903</td>\n",
       "      <td>9038</td>\n",
       "      <td>54.25</td>\n",
       "    </tr>\n",
       "    <tr>\n",
       "      <th>15</th>\n",
       "      <td>2008-11-01</td>\n",
       "      <td>2008-11-01</td>\n",
       "      <td>8509</td>\n",
       "      <td>8509</td>\n",
       "      <td>100.00</td>\n",
       "    </tr>\n",
       "    <tr>\n",
       "      <th>16</th>\n",
       "      <td>2008-07-01</td>\n",
       "      <td>2008-11-01</td>\n",
       "      <td>1</td>\n",
       "      <td>3</td>\n",
       "      <td>33.33</td>\n",
       "    </tr>\n",
       "    <tr>\n",
       "      <th>17</th>\n",
       "      <td>2008-09-01</td>\n",
       "      <td>2008-10-01</td>\n",
       "      <td>5251</td>\n",
       "      <td>9250</td>\n",
       "      <td>56.77</td>\n",
       "    </tr>\n",
       "    <tr>\n",
       "      <th>18</th>\n",
       "      <td>2008-09-01</td>\n",
       "      <td>2008-12-01</td>\n",
       "      <td>3287</td>\n",
       "      <td>9250</td>\n",
       "      <td>35.54</td>\n",
       "    </tr>\n",
       "    <tr>\n",
       "      <th>19</th>\n",
       "      <td>2008-07-01</td>\n",
       "      <td>2008-09-01</td>\n",
       "      <td>1</td>\n",
       "      <td>3</td>\n",
       "      <td>33.33</td>\n",
       "    </tr>\n",
       "    <tr>\n",
       "      <th>20</th>\n",
       "      <td>2008-07-01</td>\n",
       "      <td>2008-12-01</td>\n",
       "      <td>2</td>\n",
       "      <td>3</td>\n",
       "      <td>66.67</td>\n",
       "    </tr>\n",
       "  </tbody>\n",
       "</table>\n",
       "</div>"
      ],
      "text/plain": [
       "    cohort_dt session_date  users_cnt  cohort_users_cnt  retention_rate\n",
       "0  2008-12-01   2008-12-01       8304              8304          100.00\n",
       "1  2008-10-01   2008-10-01       9038              9038          100.00\n",
       "2  2008-07-01   2008-10-01          2                 3           66.67\n",
       "3  2008-08-01   2008-09-01       1572              2153           73.01\n",
       "4  2008-08-01   2008-11-01       1051              2153           48.82\n",
       "5  2008-11-01   2008-12-01       4532              8509           53.26\n",
       "6  2008-08-01   2008-08-01       2153              2153          100.00\n",
       "7  2008-09-01   2008-11-01       3877              9250           41.91\n",
       "8  2008-09-01   2008-09-01       9250              9250          100.00\n",
       "9  2008-08-01   2008-12-01        896              2153           41.62\n",
       "10 2008-07-01   2008-07-01          3                 3          100.00\n",
       "11 2008-10-01   2008-12-01       3962              9038           43.84\n",
       "12 2008-08-01   2008-10-01       1277              2153           59.31\n",
       "13 2008-07-01   2008-08-01          2                 3           66.67\n",
       "14 2008-10-01   2008-11-01       4903              9038           54.25\n",
       "15 2008-11-01   2008-11-01       8509              8509          100.00\n",
       "16 2008-07-01   2008-11-01          1                 3           33.33\n",
       "17 2008-09-01   2008-10-01       5251              9250           56.77\n",
       "18 2008-09-01   2008-12-01       3287              9250           35.54\n",
       "19 2008-07-01   2008-09-01          1                 3           33.33\n",
       "20 2008-07-01   2008-12-01          2                 3           66.67"
      ]
     },
     "metadata": {},
     "output_type": "display_data"
    }
   ],
   "source": [
    "# напишите запрос\n",
    "query = '''\n",
    "         \n",
    "WITH profile AS\n",
    "   (SELECT user_id,\n",
    "    date_trunc('month',creation_date) as cohort_dt,\n",
    "    COUNT(*) OVER (PARTITION BY DATE_TRUNC('month', MIN(creation_date))::date) AS cohort_users_cnt\n",
    "    FROM stackoverflow.posts\n",
    "    GROUP BY 1,2),\n",
    "sessions AS \n",
    "   (SELECT user_id,\n",
    "    date_trunc('month',creation_date) as session_date\n",
    "    FROM stackoverflow.posts\n",
    "    GROUP BY user_id,\n",
    "         session_date)\n",
    "SELECT p.cohort_dt,\n",
    "       session_date,\n",
    "       COUNT(p.user_id) AS users_cnt,\n",
    "       cohort_users_cnt,\n",
    "       ROUND(COUNT(p.user_id) * 100.0 / cohort_users_cnt, 2) AS retention_rate\n",
    "FROM profile p\n",
    "JOIN sessions s ON p.user_id = s.user_id\n",
    "where session_date >= cohort_dt\n",
    "GROUP BY 1,\n",
    "         2,\n",
    "         4; \n",
    "\n",
    "'''\n",
    "z8 = pd.read_sql_query(query, con = engine)\n",
    "display(z8.head(50))\n",
    "\n",
    "# выполните запрос"
   ]
  },
  {
   "cell_type": "markdown",
   "metadata": {
    "id": "_msBtnb2DWLC"
   },
   "source": [
    "Постройте тепловую карту Retention Rate. Какие аномалии или другие необычные явления удалось выявить? Сформулируйте гипотезы о возможных причинах."
   ]
  },
  {
   "cell_type": "code",
   "execution_count": 15,
   "metadata": {
    "id": "qAEJc8H1DWLC"
   },
   "outputs": [
    {
     "data": {
      "image/png": "[encoded data removed]",
      "text/plain": [
       "<Figure size 504x504 with 2 Axes>"
      ]
     },
     "metadata": {
      "needs_background": "light"
     },
     "output_type": "display_data"
    }
   ],
   "source": [
    "import seaborn as sns\n",
    " \n",
    "retention = z8.pivot('cohort_dt', 'session_date', 'retention_rate')\n",
    "retention.index = [str(x)[0:10] for x in retention.index]\n",
    "retention.columns = [str(x)[0:10] for x in retention.columns]\n",
    " \n",
    "plt.figure(figsize=(7, 7))  # задаём размер графика\n",
    "sns.heatmap(retention, # указываем датафрейм с данными\n",
    "            annot=True, #включаем подписи\n",
    "            fmt='') #задаём исходный форма\n",
    "plt.title('Тепловая карта') # задаём название графика\n",
    "plt.show()"
   ]
  },
  {
   "cell_type": "markdown",
   "metadata": {
    "id": "EgOfIsI4DWLC"
   },
   "source": [
    "В любые месяцы коэффициент удержания на следующий выше 50%, в августе даже выше 70%. В целом, есть там где падает ниже 40%, но RR держится хорошо."
   ]
  },
  {
   "cell_type": "markdown",
   "metadata": {
    "id": "1k7oPWt5DWLK"
   },
   "source": [
    "# Задание 9\n"
   ]
  },
  {
   "cell_type": "markdown",
   "metadata": {
    "id": "ALsYVSyRDWLM"
   },
   "source": [
    "На сколько процентов менялось количество постов ежемесячно с 1 сентября по 31 декабря 2008 года? Отобразите таблицу со следующими полями:\n",
    "\n",
    "- номер месяца;\n",
    "- количество постов за месяц;\n",
    "- процент, который показывает, насколько изменилось количество постов в текущем месяце по сравнению с предыдущим.\n",
    "\n",
    "Если постов стало меньше, значение процента должно быть отрицательным, если больше — положительным. Округлите значение процента до двух знаков после запятой.\n",
    "\n",
    "Напомним, что при делении одного целого числа на другое в PostgreSQL в результате получится целое число, округлённое до ближайшего целого вниз. Чтобы этого избежать, переведите делимое в тип `numeric`."
   ]
  },
  {
   "cell_type": "markdown",
   "metadata": {
    "id": "u4E2zF8DDWLM"
   },
   "source": [
    "| creation_month | posts_count | percentage |\n",
    "| -------------- | ----------- | ---------- |\n",
    "| 9 | 70731 | Nan |\n",
    "| 10 | 63102 | -10.33 |\n",
    "| ... | ... | ... |"
   ]
  },
  {
   "cell_type": "code",
   "execution_count": 16,
   "metadata": {
    "id": "Mb5pShStDWLN"
   },
   "outputs": [
    {
     "data": {
      "text/html": [
       "<div>\n",
       "<style scoped>\n",
       "    .dataframe tbody tr th:only-of-type {\n",
       "        vertical-align: middle;\n",
       "    }\n",
       "\n",
       "    .dataframe tbody tr th {\n",
       "        vertical-align: top;\n",
       "    }\n",
       "\n",
       "    .dataframe thead th {\n",
       "        text-align: right;\n",
       "    }\n",
       "</style>\n",
       "<table border=\"1\" class=\"dataframe\">\n",
       "  <thead>\n",
       "    <tr style=\"text-align: right;\">\n",
       "      <th></th>\n",
       "      <th>month</th>\n",
       "      <th>cnt</th>\n",
       "      <th>round</th>\n",
       "    </tr>\n",
       "  </thead>\n",
       "  <tbody>\n",
       "    <tr>\n",
       "      <th>0</th>\n",
       "      <td>9.0</td>\n",
       "      <td>70371</td>\n",
       "      <td>NaN</td>\n",
       "    </tr>\n",
       "    <tr>\n",
       "      <th>1</th>\n",
       "      <td>10.0</td>\n",
       "      <td>63102</td>\n",
       "      <td>-10.33</td>\n",
       "    </tr>\n",
       "    <tr>\n",
       "      <th>2</th>\n",
       "      <td>11.0</td>\n",
       "      <td>46975</td>\n",
       "      <td>-25.56</td>\n",
       "    </tr>\n",
       "    <tr>\n",
       "      <th>3</th>\n",
       "      <td>12.0</td>\n",
       "      <td>44592</td>\n",
       "      <td>-5.07</td>\n",
       "    </tr>\n",
       "  </tbody>\n",
       "</table>\n",
       "</div>"
      ],
      "text/plain": [
       "   month    cnt  round\n",
       "0    9.0  70371    NaN\n",
       "1   10.0  63102 -10.33\n",
       "2   11.0  46975 -25.56\n",
       "3   12.0  44592  -5.07"
      ]
     },
     "metadata": {},
     "output_type": "display_data"
    }
   ],
   "source": [
    "# напишите запрос\n",
    "query = '''\n",
    "\n",
    "SELECT lag.month,\n",
    "       lag.cnt,\n",
    "       ROUND(((lag.cnt::numeric/lag.lg-1)*100),2)\n",
    "FROM(\n",
    "      SELECT mth.month,mth.cnt,LAG(mth.cnt,1) OVER (ORDER BY mth.month) lg\n",
    "      FROM(\n",
    "      SELECT EXTRACT(MONTH FROM creation_date::date) AS month,\n",
    "             COUNT(id) AS cnt\n",
    "             FROM stackoverflow.posts\n",
    "             WHERE creation_date::date BETWEEN '2008-09-01' AND '2008-12-31'\n",
    "             GROUP BY month\n",
    "        ) AS mth\n",
    ") AS lag\n",
    "\n",
    "\n",
    "'''\n",
    "z9 = pd.read_sql_query(query, con = engine)\n",
    "display(z9.head(10))\n",
    "# выполните запрос"
   ]
  },
  {
   "cell_type": "markdown",
   "metadata": {
    "id": "9NQE2y_MDWLP"
   },
   "source": [
    "Постройте круговую диаграмму с количеством постов по месяцам."
   ]
  },
  {
   "cell_type": "code",
   "execution_count": 17,
   "metadata": {
    "id": "377ABjiVDWLP"
   },
   "outputs": [
    {
     "data": {
      "image/png": "[encoded data removed]",
      "text/plain": [
       "<Figure size 432x288 with 1 Axes>"
      ]
     },
     "metadata": {},
     "output_type": "display_data"
    }
   ],
   "source": [
    "vals=z9['cnt']\n",
    "labels=z9['month']\n",
    "fig, ax = plt.subplots();\n",
    "ax.pie(vals, labels=labels);\n",
    "ax.axis(\"equal\");"
   ]
  },
  {
   "cell_type": "markdown",
   "metadata": {
    "id": "uw7qMtafDWLP"
   },
   "source": [
    "# Задание 10"
   ]
  },
  {
   "cell_type": "markdown",
   "metadata": {
    "id": "oRBpWKx3DWLQ"
   },
   "source": [
    "Выгрузите данные активности пользователя, который опубликовал больше всего постов за всё время. Выведите данные за октябрь 2008 года в таком виде:\n",
    "\n",
    "- номер недели;\n",
    "- дата и время последнего поста, опубликованного на этой неделе."
   ]
  },
  {
   "cell_type": "markdown",
   "metadata": {
    "id": "XjAWSn_3DWLQ"
   },
   "source": [
    "| week_creation | creation_date |\n",
    "| ------------- | ------------- |\n",
    "| 40 | 2008-10-05 09:00:58 |\n",
    "| 41 | 2008-10-12 21:22:23 |\n",
    "| ... | ... |"
   ]
  },
  {
   "cell_type": "code",
   "execution_count": 18,
   "metadata": {
    "id": "r5F5fSkwDWLQ"
   },
   "outputs": [
    {
     "data": {
      "text/html": [
       "<div>\n",
       "<style scoped>\n",
       "    .dataframe tbody tr th:only-of-type {\n",
       "        vertical-align: middle;\n",
       "    }\n",
       "\n",
       "    .dataframe tbody tr th {\n",
       "        vertical-align: top;\n",
       "    }\n",
       "\n",
       "    .dataframe thead th {\n",
       "        text-align: right;\n",
       "    }\n",
       "</style>\n",
       "<table border=\"1\" class=\"dataframe\">\n",
       "  <thead>\n",
       "    <tr style=\"text-align: right;\">\n",
       "      <th></th>\n",
       "      <th>week_creation</th>\n",
       "      <th>max</th>\n",
       "    </tr>\n",
       "  </thead>\n",
       "  <tbody>\n",
       "    <tr>\n",
       "      <th>0</th>\n",
       "      <td>40.0</td>\n",
       "      <td>2008-10-05 09:00:58</td>\n",
       "    </tr>\n",
       "    <tr>\n",
       "      <th>1</th>\n",
       "      <td>41.0</td>\n",
       "      <td>2008-10-12 21:22:23</td>\n",
       "    </tr>\n",
       "    <tr>\n",
       "      <th>2</th>\n",
       "      <td>42.0</td>\n",
       "      <td>2008-10-19 06:49:30</td>\n",
       "    </tr>\n",
       "    <tr>\n",
       "      <th>3</th>\n",
       "      <td>43.0</td>\n",
       "      <td>2008-10-26 21:44:36</td>\n",
       "    </tr>\n",
       "    <tr>\n",
       "      <th>4</th>\n",
       "      <td>44.0</td>\n",
       "      <td>2008-10-31 22:16:01</td>\n",
       "    </tr>\n",
       "  </tbody>\n",
       "</table>\n",
       "</div>"
      ],
      "text/plain": [
       "   week_creation                 max\n",
       "0           40.0 2008-10-05 09:00:58\n",
       "1           41.0 2008-10-12 21:22:23\n",
       "2           42.0 2008-10-19 06:49:30\n",
       "3           43.0 2008-10-26 21:44:36\n",
       "4           44.0 2008-10-31 22:16:01"
      ]
     },
     "metadata": {},
     "output_type": "display_data"
    }
   ],
   "source": [
    "# напишите запрос\n",
    "query = '''\n",
    "WITH max_post AS \n",
    "(SELECT user_id, count(*) as cnt\n",
    "FROM stackoverflow.posts\n",
    "GROUP BY user_id\n",
    "ORDER BY cnt desc\n",
    "limit 1)\n",
    "SELECT extract(week from p.creation_date) as week_creation, max(p.creation_date)\n",
    "FROM stackoverflow.posts as p\n",
    "WHERE extract(month from p.creation_date) = 10 and p.user_id in (SELECT user_id FROM max_post)\n",
    "GROUP BY week_creation\n",
    "\n",
    "'''\n",
    "z10 = pd.read_sql_query(query, con = engine)\n",
    "display(z10.head(10))\n",
    "\n",
    "# выполните запрос"
   ]
  }
 ],
 "metadata": {
  "ExecuteTimeLog": [
   {
    "duration": 838,
    "start_time": "2022-11-26T10:00:36.815Z"
   },
   {
    "duration": 3,
    "start_time": "2022-11-26T10:00:37.655Z"
   },
   {
    "duration": 8677,
    "start_time": "2022-11-26T10:00:37.659Z"
   },
   {
    "duration": 233,
    "start_time": "2022-11-26T10:00:46.337Z"
   },
   {
    "duration": 13,
    "start_time": "2022-11-26T10:00:46.571Z"
   },
   {
    "duration": 6,
    "start_time": "2022-11-26T10:00:46.586Z"
   },
   {
    "duration": 19,
    "start_time": "2022-11-26T10:00:46.594Z"
   },
   {
    "duration": 7,
    "start_time": "2022-11-26T10:00:46.614Z"
   },
   {
    "duration": 6,
    "start_time": "2022-11-26T10:00:46.622Z"
   },
   {
    "duration": 8,
    "start_time": "2022-11-26T10:00:46.629Z"
   },
   {
    "duration": 15,
    "start_time": "2022-11-26T10:00:46.639Z"
   },
   {
    "duration": 5,
    "start_time": "2022-11-26T10:00:46.655Z"
   },
   {
    "duration": 6,
    "start_time": "2022-11-26T10:00:46.662Z"
   },
   {
    "duration": 24,
    "start_time": "2022-11-26T10:00:46.670Z"
   },
   {
    "duration": 21,
    "start_time": "2022-11-26T10:00:46.695Z"
   },
   {
    "duration": 7,
    "start_time": "2022-11-26T10:00:46.717Z"
   },
   {
    "duration": 7,
    "start_time": "2022-11-26T10:00:46.725Z"
   },
   {
    "duration": 6,
    "start_time": "2022-11-26T10:00:46.733Z"
   },
   {
    "duration": 8,
    "start_time": "2022-11-26T10:00:46.740Z"
   },
   {
    "duration": 6,
    "start_time": "2022-11-26T10:00:46.750Z"
   },
   {
    "duration": 13,
    "start_time": "2022-11-26T10:00:46.757Z"
   },
   {
    "duration": 6,
    "start_time": "2022-11-26T10:00:46.771Z"
   },
   {
    "duration": 3,
    "start_time": "2022-11-26T10:00:51.642Z"
   },
   {
    "duration": 3,
    "start_time": "2022-11-26T10:00:57.387Z"
   },
   {
    "duration": 3,
    "start_time": "2022-11-26T10:00:58.714Z"
   },
   {
    "duration": 11,
    "start_time": "2022-11-26T10:01:02.596Z"
   },
   {
    "duration": 243,
    "start_time": "2022-11-26T10:01:03.747Z"
   },
   {
    "duration": 3,
    "start_time": "2022-11-26T10:01:09.829Z"
   },
   {
    "duration": 2822,
    "start_time": "2022-11-26T10:02:24.094Z"
   },
   {
    "duration": 4,
    "start_time": "2022-11-26T10:02:26.919Z"
   },
   {
    "duration": 3,
    "start_time": "2022-11-26T10:02:27.677Z"
   },
   {
    "duration": 5,
    "start_time": "2022-11-26T10:02:30.733Z"
   },
   {
    "duration": 246,
    "start_time": "2022-11-26T10:02:31.691Z"
   },
   {
    "duration": 12,
    "start_time": "2022-11-26T10:02:32.460Z"
   },
   {
    "duration": 4,
    "start_time": "2022-11-26T10:02:39.110Z"
   },
   {
    "duration": 313,
    "start_time": "2022-11-26T10:03:30.183Z"
   },
   {
    "duration": 317,
    "start_time": "2022-11-26T10:03:44.211Z"
   },
   {
    "duration": 217,
    "start_time": "2022-11-26T10:05:14.361Z"
   },
   {
    "duration": 77,
    "start_time": "2022-11-26T10:07:47.377Z"
   },
   {
    "duration": 220,
    "start_time": "2022-11-26T10:18:45.728Z"
   },
   {
    "duration": 3,
    "start_time": "2022-11-26T10:25:45.594Z"
   },
   {
    "duration": 168,
    "start_time": "2022-11-26T10:26:00.329Z"
   },
   {
    "duration": 1001,
    "start_time": "2022-11-26T10:26:11.531Z"
   },
   {
    "duration": 158,
    "start_time": "2022-11-26T10:27:41.304Z"
   },
   {
    "duration": 98,
    "start_time": "2022-11-26T10:34:30.069Z"
   },
   {
    "duration": 101,
    "start_time": "2022-11-26T10:36:42.115Z"
   },
   {
    "duration": 1002,
    "start_time": "2022-11-26T10:38:40.338Z"
   },
   {
    "duration": 2,
    "start_time": "2022-11-26T10:59:00.531Z"
   },
   {
    "duration": 982,
    "start_time": "2022-11-26T10:59:18.535Z"
   },
   {
    "duration": 94,
    "start_time": "2022-11-26T11:01:11.537Z"
   },
   {
    "duration": 1066,
    "start_time": "2022-11-26T11:01:35.932Z"
   },
   {
    "duration": 1042,
    "start_time": "2022-11-26T11:04:09.563Z"
   },
   {
    "duration": 1031,
    "start_time": "2022-11-26T11:04:28.340Z"
   },
   {
    "duration": 1270,
    "start_time": "2022-11-26T11:04:47.075Z"
   },
   {
    "duration": 1092,
    "start_time": "2022-11-26T11:05:16.982Z"
   },
   {
    "duration": 1137,
    "start_time": "2022-11-26T11:07:03.619Z"
   },
   {
    "duration": 1207,
    "start_time": "2022-11-26T11:07:52.958Z"
   },
   {
    "duration": 1030,
    "start_time": "2022-11-26T11:08:11.383Z"
   },
   {
    "duration": 94,
    "start_time": "2022-11-26T11:14:51.981Z"
   },
   {
    "duration": 98,
    "start_time": "2022-11-26T11:14:57.038Z"
   },
   {
    "duration": 98,
    "start_time": "2022-11-26T11:16:25.739Z"
   },
   {
    "duration": 97,
    "start_time": "2022-11-26T11:16:32.603Z"
   },
   {
    "duration": 101,
    "start_time": "2022-11-26T11:21:20.673Z"
   },
   {
    "duration": 100,
    "start_time": "2022-11-26T11:22:02.998Z"
   },
   {
    "duration": 99,
    "start_time": "2022-11-26T11:22:25.915Z"
   },
   {
    "duration": 1155,
    "start_time": "2022-11-26T11:34:54.389Z"
   },
   {
    "duration": 102,
    "start_time": "2022-11-26T11:36:24.877Z"
   },
   {
    "duration": 978,
    "start_time": "2022-11-26T11:38:29.652Z"
   },
   {
    "duration": 1009,
    "start_time": "2022-11-26T11:38:54.812Z"
   },
   {
    "duration": 141,
    "start_time": "2022-11-26T11:48:55.701Z"
   },
   {
    "duration": 105,
    "start_time": "2022-11-26T11:53:44.981Z"
   },
   {
    "duration": 98,
    "start_time": "2022-11-26T11:53:57.787Z"
   },
   {
    "duration": 142,
    "start_time": "2022-11-26T11:54:06.460Z"
   },
   {
    "duration": 2,
    "start_time": "2022-11-26T12:15:52.863Z"
   },
   {
    "duration": 97,
    "start_time": "2022-11-26T12:17:11.339Z"
   },
   {
    "duration": 108,
    "start_time": "2022-11-26T12:18:02.500Z"
   },
   {
    "duration": 94,
    "start_time": "2022-11-26T12:18:50.314Z"
   },
   {
    "duration": 61,
    "start_time": "2022-11-26T12:19:02.403Z"
   },
   {
    "duration": 64,
    "start_time": "2022-11-26T12:20:28.084Z"
   },
   {
    "duration": 160,
    "start_time": "2022-11-26T12:28:10.968Z"
   },
   {
    "duration": 140,
    "start_time": "2022-11-26T12:28:50.719Z"
   },
   {
    "duration": 103,
    "start_time": "2022-11-26T12:32:01.313Z"
   },
   {
    "duration": 78,
    "start_time": "2022-11-26T12:32:10.493Z"
   },
   {
    "duration": 92,
    "start_time": "2022-11-26T12:46:07.463Z"
   },
   {
    "duration": 95,
    "start_time": "2022-11-26T12:46:26.326Z"
   },
   {
    "duration": 102,
    "start_time": "2022-11-26T12:47:30.135Z"
   },
   {
    "duration": 107,
    "start_time": "2022-11-26T12:48:10.419Z"
   },
   {
    "duration": 107,
    "start_time": "2022-11-26T12:48:40.768Z"
   },
   {
    "duration": 3,
    "start_time": "2022-11-26T12:56:40.927Z"
   },
   {
    "duration": 147,
    "start_time": "2022-11-26T12:56:58.747Z"
   },
   {
    "duration": 85,
    "start_time": "2022-11-26T12:57:58.428Z"
   },
   {
    "duration": 99,
    "start_time": "2022-11-26T13:03:13.148Z"
   },
   {
    "duration": 94,
    "start_time": "2022-11-26T13:03:33.724Z"
   },
   {
    "duration": 102,
    "start_time": "2022-11-26T13:03:46.799Z"
   },
   {
    "duration": 96,
    "start_time": "2022-11-26T13:06:33.964Z"
   },
   {
    "duration": 89,
    "start_time": "2022-11-26T13:06:47.273Z"
   },
   {
    "duration": 102,
    "start_time": "2022-11-26T13:07:03.005Z"
   },
   {
    "duration": 102,
    "start_time": "2022-11-26T13:07:21.359Z"
   },
   {
    "duration": 106,
    "start_time": "2022-11-26T13:30:40.500Z"
   },
   {
    "duration": 118,
    "start_time": "2022-11-26T13:50:21.746Z"
   },
   {
    "duration": 106,
    "start_time": "2022-11-26T13:51:32.015Z"
   },
   {
    "duration": 93,
    "start_time": "2022-11-26T13:52:28.068Z"
   },
   {
    "duration": 97,
    "start_time": "2022-11-26T13:58:20.284Z"
   },
   {
    "duration": 84,
    "start_time": "2022-11-26T13:58:46.664Z"
   },
   {
    "duration": 96,
    "start_time": "2022-11-26T14:01:37.603Z"
   },
   {
    "duration": 65,
    "start_time": "2022-11-26T14:01:58.664Z"
   },
   {
    "duration": 59,
    "start_time": "2022-11-26T14:03:15.806Z"
   },
   {
    "duration": 58,
    "start_time": "2022-11-26T14:04:42.438Z"
   },
   {
    "duration": 60,
    "start_time": "2022-11-26T14:04:58.686Z"
   },
   {
    "duration": 111,
    "start_time": "2022-11-26T14:20:37.523Z"
   },
   {
    "duration": 112,
    "start_time": "2022-11-26T14:20:57.640Z"
   },
   {
    "duration": 86,
    "start_time": "2022-11-26T14:21:03.622Z"
   },
   {
    "duration": 108,
    "start_time": "2022-11-26T14:21:51.587Z"
   },
   {
    "duration": 100,
    "start_time": "2022-11-26T14:23:38.103Z"
   },
   {
    "duration": 95,
    "start_time": "2022-11-26T14:25:06.051Z"
   },
   {
    "duration": 61,
    "start_time": "2022-11-26T14:25:23.363Z"
   },
   {
    "duration": 91,
    "start_time": "2022-11-26T14:31:32.642Z"
   },
   {
    "duration": 60,
    "start_time": "2022-11-26T14:31:37.481Z"
   },
   {
    "duration": 102,
    "start_time": "2022-11-26T14:33:26.172Z"
   },
   {
    "duration": 102,
    "start_time": "2022-11-26T14:33:54.008Z"
   },
   {
    "duration": 58,
    "start_time": "2022-11-26T14:37:52.808Z"
   },
   {
    "duration": 97,
    "start_time": "2022-11-26T14:41:05.739Z"
   },
   {
    "duration": 109,
    "start_time": "2022-11-26T15:01:33.683Z"
   },
   {
    "duration": 83,
    "start_time": "2022-11-26T15:01:45.050Z"
   },
   {
    "duration": 93,
    "start_time": "2022-11-26T15:03:11.801Z"
   },
   {
    "duration": 97,
    "start_time": "2022-11-26T15:04:04.846Z"
   },
   {
    "duration": 82,
    "start_time": "2022-11-26T15:04:56.881Z"
   },
   {
    "duration": 83,
    "start_time": "2022-11-26T15:06:32.175Z"
   },
   {
    "duration": 83,
    "start_time": "2022-11-26T15:07:34.975Z"
   },
   {
    "duration": 121,
    "start_time": "2022-11-26T15:08:35.301Z"
   },
   {
    "duration": 65,
    "start_time": "2022-11-26T15:08:51.562Z"
   },
   {
    "duration": 63,
    "start_time": "2022-11-26T15:09:00.583Z"
   },
   {
    "duration": 62,
    "start_time": "2022-11-26T15:09:09.532Z"
   },
   {
    "duration": 87,
    "start_time": "2022-11-26T15:18:46.476Z"
   },
   {
    "duration": 89,
    "start_time": "2022-11-26T15:20:14.044Z"
   },
   {
    "duration": 86,
    "start_time": "2022-11-26T15:20:24.152Z"
   },
   {
    "duration": 89,
    "start_time": "2022-11-26T15:20:37.391Z"
   },
   {
    "duration": 89,
    "start_time": "2022-11-26T15:21:53.100Z"
   },
   {
    "duration": 95,
    "start_time": "2022-11-26T15:23:01.054Z"
   },
   {
    "duration": 92,
    "start_time": "2022-11-26T15:23:34.483Z"
   },
   {
    "duration": 86,
    "start_time": "2022-11-26T15:23:43.839Z"
   },
   {
    "duration": 3,
    "start_time": "2022-11-26T15:31:37.722Z"
   },
   {
    "duration": 110,
    "start_time": "2022-11-26T15:32:00.298Z"
   },
   {
    "duration": 219,
    "start_time": "2022-11-26T15:32:16.534Z"
   },
   {
    "duration": 158,
    "start_time": "2022-11-26T15:32:33.782Z"
   },
   {
    "duration": 89,
    "start_time": "2022-11-26T15:32:44.928Z"
   },
   {
    "duration": 218,
    "start_time": "2022-11-26T15:32:56.449Z"
   },
   {
    "duration": 163,
    "start_time": "2022-11-26T15:36:24.890Z"
   },
   {
    "duration": 216,
    "start_time": "2022-11-26T15:36:38.558Z"
   },
   {
    "duration": 97,
    "start_time": "2022-11-26T16:00:21.032Z"
   },
   {
    "duration": 3727,
    "start_time": "2022-11-26T16:00:42.332Z"
   },
   {
    "duration": 98,
    "start_time": "2022-11-26T16:02:21.393Z"
   },
   {
    "duration": 870,
    "start_time": "2022-11-26T16:03:36.819Z"
   },
   {
    "duration": 884,
    "start_time": "2022-11-26T16:03:57.062Z"
   },
   {
    "duration": 884,
    "start_time": "2022-11-26T16:07:44.198Z"
   },
   {
    "duration": 879,
    "start_time": "2022-11-26T16:08:53.936Z"
   },
   {
    "duration": 2077,
    "start_time": "2022-11-26T16:12:50.711Z"
   },
   {
    "duration": 3,
    "start_time": "2022-11-26T16:19:04.577Z"
   },
   {
    "duration": 91,
    "start_time": "2022-11-26T16:23:17.061Z"
   },
   {
    "duration": 100,
    "start_time": "2022-11-26T16:23:38.006Z"
   },
   {
    "duration": 99,
    "start_time": "2022-11-26T16:24:47.207Z"
   },
   {
    "duration": 95,
    "start_time": "2022-11-26T16:24:50.515Z"
   },
   {
    "duration": 126,
    "start_time": "2022-11-26T16:28:57.655Z"
   },
   {
    "duration": 99,
    "start_time": "2022-11-26T16:29:35.706Z"
   },
   {
    "duration": 95,
    "start_time": "2022-11-26T16:34:14.379Z"
   },
   {
    "duration": 93,
    "start_time": "2022-11-26T16:34:18.371Z"
   },
   {
    "duration": 95,
    "start_time": "2022-11-26T16:34:44.189Z"
   },
   {
    "duration": 132,
    "start_time": "2022-11-26T16:35:04.355Z"
   },
   {
    "duration": 494,
    "start_time": "2022-11-26T16:42:57.858Z"
   },
   {
    "duration": 436,
    "start_time": "2022-11-26T16:43:46.196Z"
   },
   {
    "duration": 64,
    "start_time": "2022-11-26T16:45:41.421Z"
   },
   {
    "duration": 2808,
    "start_time": "2022-11-26T17:47:29.383Z"
   },
   {
    "duration": 1021,
    "start_time": "2022-11-26T17:47:32.194Z"
   },
   {
    "duration": 3,
    "start_time": "2022-11-26T17:47:33.217Z"
   },
   {
    "duration": 8862,
    "start_time": "2022-11-26T17:47:33.222Z"
   },
   {
    "duration": 41,
    "start_time": "2022-11-26T17:47:42.086Z"
   },
   {
    "duration": 13,
    "start_time": "2022-11-26T17:47:42.129Z"
   },
   {
    "duration": 130,
    "start_time": "2022-11-26T17:47:42.144Z"
   },
   {
    "duration": 189,
    "start_time": "2022-11-26T17:47:42.275Z"
   },
   {
    "duration": 79,
    "start_time": "2022-11-26T17:47:42.466Z"
   },
   {
    "duration": 1157,
    "start_time": "2022-11-26T17:47:42.547Z"
   },
   {
    "duration": 69,
    "start_time": "2022-11-26T17:47:43.706Z"
   },
   {
    "duration": 32,
    "start_time": "2022-11-26T17:47:43.776Z"
   },
   {
    "duration": 992,
    "start_time": "2022-11-26T17:47:43.809Z"
   },
   {
    "duration": 740,
    "start_time": "2022-11-26T17:47:44.804Z"
   },
   {
    "duration": 918,
    "start_time": "2022-11-26T17:47:45.545Z"
   },
   {
    "duration": 3,
    "start_time": "2022-11-26T17:47:46.465Z"
   },
   {
    "duration": 61,
    "start_time": "2022-11-26T17:47:46.470Z"
   },
   {
    "duration": 75,
    "start_time": "2022-11-26T17:47:46.533Z"
   },
   {
    "duration": 95,
    "start_time": "2022-11-26T17:47:46.609Z"
   },
   {
    "duration": 197,
    "start_time": "2022-11-26T17:47:55.069Z"
   },
   {
    "duration": 192,
    "start_time": "2022-11-26T17:47:59.452Z"
   },
   {
    "duration": 181,
    "start_time": "2022-11-26T17:58:08.629Z"
   },
   {
    "duration": 741,
    "start_time": "2022-11-26T18:00:35.634Z"
   },
   {
    "duration": 1879,
    "start_time": "2022-11-26T18:06:41.451Z"
   },
   {
    "duration": 948,
    "start_time": "2022-11-26T18:06:43.332Z"
   },
   {
    "duration": 4,
    "start_time": "2022-11-26T18:06:44.281Z"
   },
   {
    "duration": 8044,
    "start_time": "2022-11-26T18:06:44.287Z"
   },
   {
    "duration": 34,
    "start_time": "2022-11-26T18:06:52.333Z"
   },
   {
    "duration": 14,
    "start_time": "2022-11-26T18:06:52.369Z"
   },
   {
    "duration": 127,
    "start_time": "2022-11-26T18:06:52.385Z"
   },
   {
    "duration": 191,
    "start_time": "2022-11-26T18:06:52.514Z"
   },
   {
    "duration": 82,
    "start_time": "2022-11-26T18:06:52.706Z"
   },
   {
    "duration": 2059,
    "start_time": "2022-11-26T18:06:52.791Z"
   },
   {
    "duration": 75,
    "start_time": "2022-11-26T18:06:54.851Z"
   },
   {
    "duration": 35,
    "start_time": "2022-11-26T18:06:54.928Z"
   },
   {
    "duration": 1775,
    "start_time": "2022-11-26T18:06:54.965Z"
   },
   {
    "duration": 779,
    "start_time": "2022-11-26T18:06:56.741Z"
   },
   {
    "duration": 757,
    "start_time": "2022-11-26T18:06:57.521Z"
   },
   {
    "duration": 2,
    "start_time": "2022-11-26T18:06:58.279Z"
   },
   {
    "duration": 65,
    "start_time": "2022-11-26T18:06:58.283Z"
   },
   {
    "duration": 71,
    "start_time": "2022-11-26T18:06:58.349Z"
   },
   {
    "duration": 100,
    "start_time": "2022-11-26T18:06:58.421Z"
   },
   {
    "duration": 71,
    "start_time": "2022-11-26T18:16:12.807Z"
   },
   {
    "duration": 2793,
    "start_time": "2022-11-26T18:16:17.463Z"
   },
   {
    "duration": 928,
    "start_time": "2022-11-26T18:16:20.258Z"
   },
   {
    "duration": 4,
    "start_time": "2022-11-26T18:16:21.188Z"
   },
   {
    "duration": 4951,
    "start_time": "2022-11-26T18:16:21.194Z"
   },
   {
    "duration": 224,
    "start_time": "2022-11-26T18:16:26.148Z"
   },
   {
    "duration": 21,
    "start_time": "2022-11-26T18:16:26.374Z"
   },
   {
    "duration": 160,
    "start_time": "2022-11-26T18:16:26.397Z"
   },
   {
    "duration": 224,
    "start_time": "2022-11-26T18:16:26.559Z"
   },
   {
    "duration": 112,
    "start_time": "2022-11-26T18:16:26.785Z"
   },
   {
    "duration": 1284,
    "start_time": "2022-11-26T18:16:26.899Z"
   },
   {
    "duration": 102,
    "start_time": "2022-11-26T18:16:28.184Z"
   },
   {
    "duration": 64,
    "start_time": "2022-11-26T18:16:28.288Z"
   },
   {
    "duration": 1115,
    "start_time": "2022-11-26T18:16:28.354Z"
   },
   {
    "duration": 782,
    "start_time": "2022-11-26T18:16:29.473Z"
   },
   {
    "duration": 1069,
    "start_time": "2022-11-26T18:16:30.258Z"
   },
   {
    "duration": 4,
    "start_time": "2022-11-26T18:16:31.330Z"
   },
   {
    "duration": 113,
    "start_time": "2022-11-26T18:16:31.336Z"
   },
   {
    "duration": 90,
    "start_time": "2022-11-26T18:16:31.452Z"
   },
   {
    "duration": 131,
    "start_time": "2022-11-26T18:16:31.555Z"
   },
   {
    "duration": 90,
    "start_time": "2022-11-26T18:16:51.248Z"
   },
   {
    "duration": 163,
    "start_time": "2022-11-26T18:19:14.813Z"
   },
   {
    "duration": 103,
    "start_time": "2022-11-26T18:19:38.288Z"
   },
   {
    "duration": 124,
    "start_time": "2022-11-26T18:21:23.132Z"
   },
   {
    "duration": 97,
    "start_time": "2022-11-26T18:21:47.160Z"
   },
   {
    "duration": 778,
    "start_time": "2022-11-26T18:22:28.184Z"
   },
   {
    "duration": 378,
    "start_time": "2022-11-26T18:23:33.566Z"
   },
   {
    "duration": 114,
    "start_time": "2022-11-26T18:30:52.281Z"
   },
   {
    "duration": 108,
    "start_time": "2022-11-26T18:31:19.978Z"
   },
   {
    "duration": 101,
    "start_time": "2022-11-26T18:32:03.920Z"
   },
   {
    "duration": 152,
    "start_time": "2022-11-26T18:33:04.979Z"
   },
   {
    "duration": 100,
    "start_time": "2022-11-26T18:38:55.907Z"
   },
   {
    "duration": 96,
    "start_time": "2022-11-26T18:39:06.976Z"
   },
   {
    "duration": 110,
    "start_time": "2022-11-26T18:40:22.441Z"
   },
   {
    "duration": 101,
    "start_time": "2022-11-26T18:42:27.047Z"
   },
   {
    "duration": 104,
    "start_time": "2022-11-26T18:45:00.349Z"
   },
   {
    "duration": 232,
    "start_time": "2022-11-26T18:45:28.567Z"
   },
   {
    "duration": 224,
    "start_time": "2022-11-26T18:45:57.570Z"
   },
   {
    "duration": 217,
    "start_time": "2022-11-26T18:46:34.487Z"
   },
   {
    "duration": 1124,
    "start_time": "2022-11-26T18:46:51.600Z"
   },
   {
    "duration": 135,
    "start_time": "2022-11-26T18:48:51.317Z"
   },
   {
    "duration": 1159,
    "start_time": "2022-11-26T18:49:05.367Z"
   },
   {
    "duration": 220,
    "start_time": "2022-11-26T18:49:28.924Z"
   },
   {
    "duration": 2230,
    "start_time": "2022-11-26T18:52:47.758Z"
   },
   {
    "duration": 758,
    "start_time": "2022-11-26T18:52:49.990Z"
   },
   {
    "duration": 3,
    "start_time": "2022-11-26T18:52:50.750Z"
   },
   {
    "duration": 5526,
    "start_time": "2022-11-26T18:52:50.767Z"
   },
   {
    "duration": 229,
    "start_time": "2022-11-26T18:52:56.295Z"
   },
   {
    "duration": 13,
    "start_time": "2022-11-26T18:52:56.526Z"
   },
   {
    "duration": 159,
    "start_time": "2022-11-26T18:52:56.541Z"
   },
   {
    "duration": 180,
    "start_time": "2022-11-26T18:52:56.701Z"
   },
   {
    "duration": 0,
    "start_time": "2022-11-26T18:52:56.883Z"
   },
   {
    "duration": 0,
    "start_time": "2022-11-26T18:52:56.885Z"
   },
   {
    "duration": 0,
    "start_time": "2022-11-26T18:52:56.886Z"
   },
   {
    "duration": 0,
    "start_time": "2022-11-26T18:52:56.887Z"
   },
   {
    "duration": 0,
    "start_time": "2022-11-26T18:52:56.888Z"
   },
   {
    "duration": 0,
    "start_time": "2022-11-26T18:52:56.889Z"
   },
   {
    "duration": 0,
    "start_time": "2022-11-26T18:52:56.891Z"
   },
   {
    "duration": 0,
    "start_time": "2022-11-26T18:52:56.892Z"
   },
   {
    "duration": 0,
    "start_time": "2022-11-26T18:52:56.893Z"
   },
   {
    "duration": 0,
    "start_time": "2022-11-26T18:52:56.894Z"
   },
   {
    "duration": 2432,
    "start_time": "2022-11-26T18:53:22.649Z"
   },
   {
    "duration": 3,
    "start_time": "2022-11-26T18:53:25.083Z"
   },
   {
    "duration": 7,
    "start_time": "2022-11-26T18:53:25.088Z"
   },
   {
    "duration": 19,
    "start_time": "2022-11-26T18:53:25.098Z"
   },
   {
    "duration": 222,
    "start_time": "2022-11-26T18:53:25.119Z"
   },
   {
    "duration": 10,
    "start_time": "2022-11-26T18:53:25.343Z"
   },
   {
    "duration": 167,
    "start_time": "2022-11-26T18:53:25.358Z"
   },
   {
    "duration": 119,
    "start_time": "2022-11-26T18:53:25.527Z"
   },
   {
    "duration": 0,
    "start_time": "2022-11-26T18:53:25.648Z"
   },
   {
    "duration": 0,
    "start_time": "2022-11-26T18:53:25.650Z"
   },
   {
    "duration": 0,
    "start_time": "2022-11-26T18:53:25.651Z"
   },
   {
    "duration": 0,
    "start_time": "2022-11-26T18:53:25.653Z"
   },
   {
    "duration": 0,
    "start_time": "2022-11-26T18:53:25.660Z"
   },
   {
    "duration": 0,
    "start_time": "2022-11-26T18:53:25.661Z"
   },
   {
    "duration": 0,
    "start_time": "2022-11-26T18:53:25.662Z"
   },
   {
    "duration": 0,
    "start_time": "2022-11-26T18:53:25.664Z"
   },
   {
    "duration": 0,
    "start_time": "2022-11-26T18:53:25.665Z"
   },
   {
    "duration": 0,
    "start_time": "2022-11-26T18:53:25.666Z"
   },
   {
    "duration": 129,
    "start_time": "2022-11-26T18:53:31.201Z"
   },
   {
    "duration": 57,
    "start_time": "2022-11-26T19:50:36.459Z"
   },
   {
    "duration": 2564,
    "start_time": "2022-11-26T19:50:42.477Z"
   },
   {
    "duration": 687,
    "start_time": "2022-11-26T19:50:45.044Z"
   },
   {
    "duration": 4,
    "start_time": "2022-11-26T19:50:45.733Z"
   },
   {
    "duration": 8897,
    "start_time": "2022-11-26T19:50:45.740Z"
   },
   {
    "duration": 38,
    "start_time": "2022-11-26T19:50:54.639Z"
   },
   {
    "duration": 15,
    "start_time": "2022-11-26T19:50:54.679Z"
   },
   {
    "duration": 147,
    "start_time": "2022-11-26T19:50:54.696Z"
   },
   {
    "duration": 178,
    "start_time": "2022-11-26T19:50:54.844Z"
   },
   {
    "duration": 1,
    "start_time": "2022-11-26T19:50:55.024Z"
   },
   {
    "duration": 0,
    "start_time": "2022-11-26T19:50:55.026Z"
   },
   {
    "duration": 0,
    "start_time": "2022-11-26T19:50:55.027Z"
   },
   {
    "duration": 0,
    "start_time": "2022-11-26T19:50:55.028Z"
   },
   {
    "duration": 0,
    "start_time": "2022-11-26T19:50:55.029Z"
   },
   {
    "duration": 0,
    "start_time": "2022-11-26T19:50:55.030Z"
   },
   {
    "duration": 0,
    "start_time": "2022-11-26T19:50:55.031Z"
   },
   {
    "duration": 1,
    "start_time": "2022-11-26T19:50:55.032Z"
   },
   {
    "duration": 0,
    "start_time": "2022-11-26T19:50:55.034Z"
   },
   {
    "duration": 0,
    "start_time": "2022-11-26T19:50:55.034Z"
   },
   {
    "duration": 239,
    "start_time": "2022-11-26T19:50:57.729Z"
   },
   {
    "duration": 226,
    "start_time": "2022-11-26T19:51:08.468Z"
   },
   {
    "duration": 231,
    "start_time": "2022-11-26T19:53:14.584Z"
   },
   {
    "duration": 544,
    "start_time": "2022-11-26T19:58:25.548Z"
   },
   {
    "duration": 425,
    "start_time": "2022-11-26T19:58:29.680Z"
   },
   {
    "duration": 373,
    "start_time": "2022-11-26T19:58:32.117Z"
   },
   {
    "duration": 63,
    "start_time": "2022-11-26T19:59:06.290Z"
   },
   {
    "duration": 80,
    "start_time": "2022-11-26T19:59:09.344Z"
   },
   {
    "duration": 3248,
    "start_time": "2022-11-26T19:59:40.380Z"
   },
   {
    "duration": 692,
    "start_time": "2022-11-26T19:59:43.631Z"
   },
   {
    "duration": 5,
    "start_time": "2022-11-26T19:59:44.324Z"
   },
   {
    "duration": 8869,
    "start_time": "2022-11-26T19:59:44.330Z"
   },
   {
    "duration": 80,
    "start_time": "2022-11-26T19:59:53.201Z"
   },
   {
    "duration": 17,
    "start_time": "2022-11-26T19:59:53.283Z"
   },
   {
    "duration": 143,
    "start_time": "2022-11-26T19:59:53.302Z"
   },
   {
    "duration": 173,
    "start_time": "2022-11-26T19:59:53.447Z"
   },
   {
    "duration": 0,
    "start_time": "2022-11-26T19:59:53.622Z"
   },
   {
    "duration": 0,
    "start_time": "2022-11-26T19:59:53.624Z"
   },
   {
    "duration": 0,
    "start_time": "2022-11-26T19:59:53.625Z"
   },
   {
    "duration": 0,
    "start_time": "2022-11-26T19:59:53.627Z"
   },
   {
    "duration": 0,
    "start_time": "2022-11-26T19:59:53.628Z"
   },
   {
    "duration": 0,
    "start_time": "2022-11-26T19:59:53.629Z"
   },
   {
    "duration": 0,
    "start_time": "2022-11-26T19:59:53.631Z"
   },
   {
    "duration": 0,
    "start_time": "2022-11-26T19:59:53.632Z"
   },
   {
    "duration": 0,
    "start_time": "2022-11-26T19:59:53.634Z"
   },
   {
    "duration": 0,
    "start_time": "2022-11-26T19:59:53.635Z"
   },
   {
    "duration": 80,
    "start_time": "2022-11-26T20:01:52.785Z"
   },
   {
    "duration": 2661,
    "start_time": "2022-11-26T20:01:55.725Z"
   },
   {
    "duration": 995,
    "start_time": "2022-11-26T20:01:58.388Z"
   },
   {
    "duration": 4,
    "start_time": "2022-11-26T20:01:59.385Z"
   },
   {
    "duration": 5418,
    "start_time": "2022-11-26T20:01:59.391Z"
   },
   {
    "duration": 244,
    "start_time": "2022-11-26T20:02:04.811Z"
   },
   {
    "duration": 17,
    "start_time": "2022-11-26T20:02:05.057Z"
   },
   {
    "duration": 156,
    "start_time": "2022-11-26T20:02:05.075Z"
   },
   {
    "duration": 256,
    "start_time": "2022-11-26T20:02:05.233Z"
   },
   {
    "duration": 117,
    "start_time": "2022-11-26T20:02:05.492Z"
   },
   {
    "duration": 1263,
    "start_time": "2022-11-26T20:02:05.612Z"
   },
   {
    "duration": 98,
    "start_time": "2022-11-26T20:02:06.876Z"
   },
   {
    "duration": 67,
    "start_time": "2022-11-26T20:02:06.975Z"
   },
   {
    "duration": 270,
    "start_time": "2022-11-26T20:02:07.045Z"
   },
   {
    "duration": 0,
    "start_time": "2022-11-26T20:02:07.317Z"
   },
   {
    "duration": 0,
    "start_time": "2022-11-26T20:02:07.318Z"
   },
   {
    "duration": 0,
    "start_time": "2022-11-26T20:02:07.319Z"
   },
   {
    "duration": 0,
    "start_time": "2022-11-26T20:02:07.320Z"
   },
   {
    "duration": 0,
    "start_time": "2022-11-26T20:02:07.321Z"
   },
   {
    "duration": 242,
    "start_time": "2022-11-26T20:02:17.828Z"
   },
   {
    "duration": 121,
    "start_time": "2022-11-26T20:04:49.959Z"
   },
   {
    "duration": 111,
    "start_time": "2022-11-26T20:04:56.915Z"
   },
   {
    "duration": 114,
    "start_time": "2022-11-26T20:05:06.715Z"
   },
   {
    "duration": 144,
    "start_time": "2022-11-26T20:06:04.976Z"
   },
   {
    "duration": 140,
    "start_time": "2022-11-26T20:06:27.412Z"
   },
   {
    "duration": 1378,
    "start_time": "2022-11-26T20:11:28.204Z"
   },
   {
    "duration": 140,
    "start_time": "2022-11-26T20:11:50.403Z"
   },
   {
    "duration": 119,
    "start_time": "2022-11-26T20:12:01.756Z"
   },
   {
    "duration": 1107,
    "start_time": "2022-11-26T20:13:05.446Z"
   },
   {
    "duration": 2280,
    "start_time": "2022-11-26T20:15:05.358Z"
   },
   {
    "duration": 725,
    "start_time": "2022-11-26T20:15:07.642Z"
   },
   {
    "duration": 3,
    "start_time": "2022-11-26T20:15:08.369Z"
   },
   {
    "duration": 6128,
    "start_time": "2022-11-26T20:15:08.375Z"
   },
   {
    "duration": 268,
    "start_time": "2022-11-26T20:15:14.505Z"
   },
   {
    "duration": 15,
    "start_time": "2022-11-26T20:15:14.774Z"
   },
   {
    "duration": 158,
    "start_time": "2022-11-26T20:15:14.790Z"
   },
   {
    "duration": 262,
    "start_time": "2022-11-26T20:15:14.950Z"
   },
   {
    "duration": 108,
    "start_time": "2022-11-26T20:15:15.214Z"
   },
   {
    "duration": 1351,
    "start_time": "2022-11-26T20:15:15.324Z"
   },
   {
    "duration": 110,
    "start_time": "2022-11-26T20:15:16.677Z"
   },
   {
    "duration": 80,
    "start_time": "2022-11-26T20:15:16.788Z"
   },
   {
    "duration": 1225,
    "start_time": "2022-11-26T20:15:16.870Z"
   },
   {
    "duration": 500,
    "start_time": "2022-11-26T20:15:18.098Z"
   },
   {
    "duration": 902,
    "start_time": "2022-11-26T20:15:18.601Z"
   },
   {
    "duration": 113,
    "start_time": "2022-11-26T20:15:19.505Z"
   },
   {
    "duration": 84,
    "start_time": "2022-11-26T20:15:19.619Z"
   },
   {
    "duration": 142,
    "start_time": "2022-11-26T20:15:19.705Z"
   }
  ],
  "colab": {
   "name": "AdvansedSQLProjectTemplate.ipynb",
   "provenance": []
  },
  "kernelspec": {
   "display_name": "Python 3 (ipykernel)",
   "language": "python",
   "name": "python3"
  },
  "language_info": {
   "codemirror_mode": {
    "name": "ipython",
    "version": 3
   },
   "file_extension": ".py",
   "mimetype": "text/x-python",
   "name": "python",
   "nbconvert_exporter": "python",
   "pygments_lexer": "ipython3",
   "version": "3.9.7"
  },
  "toc": {
   "base_numbering": 1,
   "nav_menu": {},
   "number_sections": true,
   "sideBar": true,
   "skip_h1_title": true,
   "title_cell": "Table of Contents",
   "title_sidebar": "Contents",
   "toc_cell": false,
   "toc_position": {
    "height": "calc(100% - 180px)",
    "left": "10px",
    "top": "150px",
    "width": "373.594px"
   },
   "toc_section_display": true,
   "toc_window_display": true
  }
 },
 "nbformat": 4,
 "nbformat_minor": 1
}
